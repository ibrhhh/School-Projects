{
 "cells": [
  {
   "cell_type": "markdown",
   "metadata": {},
   "source": [
    "## Instructions\n",
    "- See deadline on the course web page\n",
    "- See examination rules on the course web page.\n",
    "- This problem set is performed individually (collaboration is encouraged, but each individual must be able to explain all of his/her hand-in solutions).\n",
    "- The two notebooks for each problem set contain a number of basic and extra problems; you can choose which and how many to work on.\n",
    "- Many problems are automatically graded using `assert` statements. You should check that your code passes these statements without raising an `AssertionError`. Note that there might be additional, hidden tests that must be passed for full credit. In addition, some tasks are either completely manually graded or part-automatic/part-manual.\n",
    "\n",
    "- **Important:** Hand-in is performed through the following actions:\n",
    "  - Make sure to always complete **Task 0** in the header part of the notebook. \n",
    "  - Upload your solution in the form of your edited version of this jupyter notebook via the appropriate module in Canvas.\n",
    "  - The name of the uploaded file **must be the same as the original one**!\n",
    "  \n",
    "  Note that the hand-in might not be automatically graded if you have changed the name of the uploaded file."
   ]
  },
  {
   "cell_type": "markdown",
   "metadata": {},
   "source": [
    "- Before you turn this problem in, make sure everything runs as expected. First, **restart the kernel** (in the menubar, select Kernel$\\rightarrow$Restart) and then **run all cells** (in the menubar, select Cell$\\rightarrow$Run All).\n",
    "\n",
    "- Make sure that the **run time is smaller than a few minutes**. If needed you might have to reduce some computational tasks; e.g. by decreasing the number of grid points or sampling steps. Please ask the supervisors if you are uncertain about the run time. \n",
    "\n",
    "- Your solutions are usually expected where it says `YOUR CODE HERE` or <font color=\"red\">\"PLEASE WRITE YOUR ANSWER HERE\"</font>."
   ]
  },
  {
   "cell_type": "markdown",
   "metadata": {},
   "source": [
    "### Task 0 \n",
    "#### (0 points)\n",
    "Fill your personal details in the dictionary 'student' with the following key/value pairs:\n",
    "- **Lastname**: Your lastname as a string\n",
    "- **Firstname**: Your firstname as a string\n",
    "- **DOB-year**: The year for your date of birth as a four-digit integer\n",
    "- **DOB-month**: The month for your date of birth as an integer (1-12)\n",
    "- **DOB-day**: The year for your date of birth as an integer (1-31)\n",
    "- **CID**: Your Chalmers login ID as a string"
   ]
  },
  {
   "cell_type": "code",
   "execution_count": 61,
   "metadata": {
    "deletable": false,
    "nbgrader": {
     "cell_type": "code",
     "checksum": "e4b41fd8e57932c927ede3a155032c98",
     "grade": false,
     "grade_id": "student_info",
     "locked": false,
     "schema_version": 3,
     "solution": true,
     "task": false
    }
   },
   "outputs": [],
   "source": [
    "student={}\n",
    "# Update the values below. Note the formats.\n",
    "student['Lastname']='Sanogo'  # string\n",
    "student['Firstname']='Ibrahim' # string\n",
    "student['CID']='sanogo'        # string\n",
    "student['DOB-year']=1999         # four-digit integer\n",
    "student['DOB-month']=1         # integer in the range [1, 12]\n",
    "student['DOB-day']=16            # integer in the range [1, 31]\n",
    "\n",
    "# \n",
    "# YOUR CODE HERE\n",
    "# "
   ]
  },
  {
   "cell_type": "code",
   "execution_count": 62,
   "metadata": {
    "deletable": false,
    "editable": false,
    "nbgrader": {
     "cell_type": "code",
     "checksum": "04fad85b593dac43e9a577b7ad0eda92",
     "grade": true,
     "grade_id": "correct_student_info",
     "locked": true,
     "points": 0,
     "schema_version": 3,
     "solution": false,
     "task": false
    }
   },
   "outputs": [],
   "source": [
    "for key in ['Lastname', 'Firstname','CID']:\n",
    "    assert type(student[key]) is str, f'{key} is wrong type.'\n",
    "    assert student[key] not in ['name_here','cid_here'],\\\n",
    "        f'Fill your {key} as a string.'\n",
    "\n",
    "for key in ['DOB-year', 'DOB-month','DOB-day']:\n",
    "    assert type(student[key]) is int, f'{key} is wrong type.'\n",
    "\n",
    "assert (student['DOB-year'] > 1900 and student['DOB-year'] < 2100)\n",
    "assert student['DOB-month'] in range(1,13), \\\n",
    "    'DOB month should be an integer in the range [1, 12]'\n",
    "assert student['DOB-day'] in range(1,32), \\\n",
    "    'DOB day should be an integer in the range [1, 31]'"
   ]
  },
  {
   "cell_type": "markdown",
   "metadata": {},
   "source": [
    "# Problem Set 3\n",
    "## Extra problems\n",
    "### Learning from data [TIF285], Chalmers, Fall 2020\n",
    "\n",
    "Last revised: 3-Oct-2020 by Christian Forssén [christian.forssen@chalmers.se]"
   ]
  },
  {
   "cell_type": "code",
   "execution_count": 63,
   "metadata": {
    "deletable": false,
    "editable": false,
    "nbgrader": {
     "cell_type": "code",
     "checksum": "6874d6f0612340a685cc96f6c456b90b",
     "grade": false,
     "grade_id": "cell-bf9197ccd45cb935",
     "locked": true,
     "schema_version": 3,
     "solution": false,
     "task": false
    }
   },
   "outputs": [],
   "source": [
    "import os\n",
    "# Data files are stored in\n",
    "DATA_DIR = \"DataFiles/\"\n",
    "\n",
    "if not os.path.exists(DATA_DIR):\n",
    "    os.makedirs(DATA_DIR)"
   ]
  },
  {
   "cell_type": "markdown",
   "metadata": {
    "heading_collapsed": true
   },
   "source": [
    "## Problem 6 (extra): Bayesian optimization\n",
    "### (3 points)\n",
    "*You should have solved problem 3 to get some acquaintance with Gaussian Processes before doing this problem.*"
   ]
  },
  {
   "cell_type": "code",
   "execution_count": 64,
   "metadata": {
    "deletable": false,
    "hidden": true,
    "nbgrader": {
     "cell_type": "code",
     "checksum": "d66d91a498fb6f64c136e66f196dbd16",
     "grade": false,
     "grade_id": "cell-9cc8731d1d9f9679",
     "locked": false,
     "schema_version": 3,
     "solution": true,
     "task": false
    }
   },
   "outputs": [],
   "source": [
    "# Import modules\n",
    "#\n",
    "%matplotlib inline\n",
    "import numpy as np\n",
    "import scipy as sp\n",
    "from matplotlib import pyplot as plt\n",
    "import GPy\n",
    "from scipy.optimize import basinhopping,minimize, rosen, rosen_der\n",
    "\n",
    "\n",
    "# Additional module import statements if needed\n",
    "# \n",
    "# YOUR CODE HERE\n",
    "# "
   ]
  },
  {
   "cell_type": "markdown",
   "metadata": {
    "hidden": true
   },
   "source": [
    "### A univariate minimization problem"
   ]
  },
  {
   "cell_type": "markdown",
   "metadata": {
    "hidden": true
   },
   "source": [
    "Try to minimize the function\n",
    "$$\n",
    "f(x) = \\sin(6 x) + 0.2 x^2 - 0.7 x\n",
    "$$\n",
    "on the interval $x \\in [-5,5]$.\n",
    "\n",
    "The aim is to find the position of the minimum $x^*$ to within $\\pm 0.05$ under the constraint that we would like to make as few function evaluations as possible."
   ]
  },
  {
   "cell_type": "markdown",
   "metadata": {
    "hidden": true
   },
   "source": [
    "### Task 1: Using \"standard\" optimization methods"
   ]
  },
  {
   "cell_type": "markdown",
   "metadata": {
    "hidden": true
   },
   "source": [
    "a. **Plot the true function and indicate the position of the minimum**\n",
    "Save the position of the *global* minimum in the variable `xtrue_min` (with at least two significant decimals)"
   ]
  },
  {
   "cell_type": "code",
   "execution_count": 65,
   "metadata": {
    "deletable": false,
    "hidden": true,
    "nbgrader": {
     "cell_type": "code",
     "checksum": "bcd50458af82b6a604c56b6ebbbefeee",
     "grade": false,
     "grade_id": "cell-128fc6a755891cc9",
     "locked": false,
     "schema_version": 3,
     "solution": true,
     "task": false
    }
   },
   "outputs": [
    {
     "name": "stdout",
     "output_type": "stream",
     "text": [
      "global minimum: x = 1.8317, f(x0) = -1.6112\n"
     ]
    },
    {
     "data": {
      "text/plain": [
       "array([1.8316886])"
      ]
     },
     "execution_count": 65,
     "metadata": {},
     "output_type": "execute_result"
    },
    {
     "data": {
      "image/png": "[encoded data removed]",
      "text/plain": [
       "<Figure size 432x288 with 1 Axes>"
      ]
     },
     "metadata": {
      "needs_background": "light"
     },
     "output_type": "display_data"
    }
   ],
   "source": [
    "\n",
    "def f(x):\n",
    "    return np.sin(6*x)+0.2*x**2-0.7*x\n",
    "x= np.linspace(-5,5,100)\n",
    "y=f(x)\n",
    "x0=[1.]\n",
    "plt.plot(x,y, label = 'f(x)')\n",
    "\n",
    "\n",
    "\n",
    "\n",
    "func = lambda x: np.sin(6*x) +0.2*x**2-0.7*x\n",
    "minimizer_kwargs = {\"method\": \"Nelder-Mead\"}\n",
    "ret = basinhopping(func, x0, minimizer_kwargs=minimizer_kwargs,\n",
    "                   niter=200)\n",
    "print(\"global minimum: x = %.4f, f(x0) = %.4f\" % (ret.x, ret.fun))\n",
    "plt.axvline(x=ret.x, color ='black', label = 'Min')\n",
    "plt.legend (loc='best')\n",
    "\n",
    "xtrue_min=np.round(ret.x,7)\n",
    "xtrue_min"
   ]
  },
  {
   "cell_type": "markdown",
   "metadata": {
    "deletable": false,
    "editable": false,
    "hidden": true,
    "nbgrader": {
     "cell_type": "markdown",
     "checksum": "f3d31d6909072e22a508dfb585ec6933",
     "grade": false,
     "grade_id": "cell-3ccb1fdb17ff20ec",
     "locked": true,
     "points": 1,
     "schema_version": 3,
     "solution": false,
     "task": true
    }
   },
   "source": [
    "b. Find the minimum using `scipy.optimize.minimize` with `method='Nelder-Mead'`. \n",
    "* Choose the starting point randomly from a uniform pdf $U(-5,5)$. \n",
    "* Repeat one hundred times. **Do you always get the same minimum?**\n",
    "* More specifically, set the tolerance of the optimizer to `tol=0.01` and check for success by the criterion $|x^* - x^*_\\mathrm{opt}| < 0.02$, where $x^*_\\mathrm{opt}$ is the result from the optimizer.\n",
    "* Be quantitative about the average number of function evaluations that are needed per successful optimization. Compute the ratio of the total number of function evaluations number (summed over the 100 tries with different starting points) with the number of successful attempts.  \n",
    "  *Hint*: The number of function evaluations from a `scipy.optimize.minimize` result is returned in the ``OptimizeResult`` object. "
   ]
  },
  {
   "cell_type": "code",
   "execution_count": 50,
   "metadata": {
    "deletable": false,
    "hidden": true,
    "nbgrader": {
     "cell_type": "code",
     "checksum": "62995eb552c8357663290c161aa725a9",
     "grade": false,
     "grade_id": "cell-8db5c9fb60e8644c",
     "locked": false,
     "schema_version": 3,
     "solution": true,
     "task": false
    }
   },
   "outputs": [
    {
     "name": "stdout",
     "output_type": "stream",
     "text": [
      "the ratio equal to 0.005921539600296077\n"
     ]
    }
   ],
   "source": [
    "sample100=[]\n",
    "sample = np.random.uniform(-5,5) \n",
    "#print(sample)\n",
    "ntimes = 100\n",
    "x_optstock=np.zeros(ntimes)\n",
    "result = np.zeros(ntimes)\n",
    "np.random.seed(2020)\n",
    "succesStock=np.zeros(ntimes)\n",
    "nfev=0\n",
    "for i in range (ntimes):\n",
    "    sample = np.random.uniform(-5,5) \n",
    "    sample100.append(sample)\n",
    "    \n",
    "for i in range (ntimes):\n",
    "    res=sp.optimize.minimize(fun=func, x0=sample100[i], method=\"Nelder-Mead\",tol=0.01)\n",
    "    x_optstock[i] = res.x\n",
    "    nfev+=res.nfev\n",
    "    if (np.abs(xtrue_min-x_optstock[i])<0.02): \n",
    "        succesStock[i]=1\n",
    "    else : \n",
    "        succesStock[i]=0\n",
    "    #print(res.x)\n",
    "\n",
    "np.sum(succesStock)\n",
    "\n",
    "ratio = np.sum(succesStock)/nfev\n",
    "print(\"the ratio equal to\", ratio)\n"
   ]
  },
  {
   "cell_type": "markdown",
   "metadata": {
    "hidden": true
   },
   "source": [
    "### Task 2. Build your own BayesOpt algorithm"
   ]
  },
  {
   "cell_type": "markdown",
   "metadata": {
    "deletable": false,
    "editable": false,
    "hidden": true,
    "nbgrader": {
     "cell_type": "markdown",
     "checksum": "dad0c010f8ccb5159b474ebe3588ab98",
     "grade": false,
     "grade_id": "cell-a9fb5a0414774f2e",
     "locked": true,
     "schema_version": 3,
     "solution": false,
     "task": false
    }
   },
   "source": [
    "You will now implement a very different approach to minimize an objective function (this is a conventional name for the function that we are trying to minimize or maximize). The approach is known as **Bayesian optimization** and the basic idea is the following:\n",
    "* Select a few random points, evaluate the unknown function at these samples and build a **statistical model** for the function output in the entire input range based on this data (usually a Gaussian Process model).\n",
    "* Make a decision which point to sample next based on a so called **acquisition function** evaluated from the statistical model. This decision will incorporate our current knowledge about the function including our uncertainty for its value in different regions.\n",
    "* Improve the statistical model using the new sample. Continue sampling new points according to the acquisition function.\n",
    "* If done correctly, this approach will balance **exploration** of new regions (with uncertain outputs, that might contain the minimum) and **exploitation** of the region that is currently most promising.\n",
    "* Very importantly, this method also works when you are dealing with **noisy objective functions**, i.e. when your \"measurement\" of its value at a new point in parameter space contains some random noise.\n",
    "\n",
    "Your task is to repeat the above minimization with **your own Bayesian Optimization algorithm**, that should be assembled as described below. Bayesian optimization algoritms are built into libraries such as `Scikit-optimize` and `GPyOpt`, but we will build our own simple version using functions from `numpy`, `scipy`, and `GPy` (for building the statistical model)."
   ]
  },
  {
   "cell_type": "markdown",
   "metadata": {
    "deletable": false,
    "editable": false,
    "hidden": true,
    "nbgrader": {
     "cell_type": "markdown",
     "checksum": "3407b7c7e50552a9011628c579b9d479",
     "grade": false,
     "grade_id": "cell-96c5e12768c3f0f5",
     "locked": true,
     "schema_version": 3,
     "solution": false,
     "task": false
    }
   },
   "source": [
    "The pseudo-code for BayesOpt is the following (see specific hints for your implementation at the end):\n",
    "1. pick starting points $\\mathbf{x}^{(1)},\\mathbf{x}^{(2)},\\ldots \\mathbf{x}^{(k)}$, where $k \\geq 2$\n",
    "1. evaluate the objective function $f(\\mathbf{x})$ to obtain $y^{(i)}=f(\\mathbf{x}^{(i)})$ for $i=1,\\ldots,k$\n",
    "1. initialize a data vector $\\mathcal{D}_k = \\left\\{(\\mathbf{x}^{(i)},y^{(i)})\\right\\}_{i=1}^k$\n",
    "1. select a statistical model for $f(\\mathbf{x})$\n",
    "1. **For** {$n=k+1,k+2,\\ldots$}\n",
    "   1.    select $\\mathbf{x}^{(n)}$ by optimizing the acquisition function: $\\mathbf{x}^{(n)} = \\underset{\\mathbf{x}}{\\text{arg max}}\\, \\mathcal{A}(\\mathbf{x}|\\mathcal{D}_{n-1})$\n",
    "   1.    evaluate the objective function to obtain $y^{(n)}=f(\\mathbf{x}^{(n)})$\n",
    "   1.    augment the data vector $\\mathcal{D}_n = \\left\\{\\mathcal{D}_{n-1} , (\\mathbf{x}^{(n)},y^{(n)})\\right\\}$\n",
    "   1.    update the statistical model for $f(\\mathbf{x})$\n",
    "1. **end for**\n",
    "\n",
    "   Check for the minimum in the data vector that has been collected (note that it doesn't necessarily have to be the last sample).\n"
   ]
  },
  {
   "cell_type": "markdown",
   "metadata": {
    "deletable": false,
    "editable": false,
    "hidden": true,
    "nbgrader": {
     "cell_type": "markdown",
     "checksum": "1623aa6212dde7ae3920fcfac26149bd",
     "grade": false,
     "grade_id": "cell-8aca6d2119a76006",
     "locked": true,
     "schema_version": 3,
     "solution": false,
     "task": false
    }
   },
   "source": [
    "**Hints:**\n",
    "* You have to implement all steps in the above pseudo-code.\n",
    "* You can try with $k=2$ starting points.\n",
    "* For the statistical model you can use `GPy`. Follow the examples from the lectures and the exercise notebook.\n",
    "* Any knowledge about the objective function should be built into the covariance function. Let us assume that we don't have much information and that we use a standard RBF kernel.\n",
    "* It is recommended to constrain the RBF lengthscale so that it doesn't become unrealistic small. With the `GPy` model called `model`, such a constraint can be imposed using `model['rbf.lengthscale'].constrain_bounded(.1,10)`.\n",
    "* Implement the so called Lower Confidence Bound (LCB) acquisition function for use in step 5A. Then, the acquisition function is simply: $\\mathcal{A}(\\boldsymbol{x}; | \\mathcal{D}_{n-1}) = -\\mu(\\boldsymbol{x}) + \\beta \\sigma(\\boldsymbol{x})$, where\n",
    "  * $\\mu(\\boldsymbol{x})$ is the mean of the GP model trained with the data $\\mathcal{D}_{n-1})$.\n",
    "  * $\\sigma(\\boldsymbol{x})$ is the standard deviation of the GP model trained with the data $\\mathcal{D}_{n-1})$.\n",
    "  * $\\beta$ is another hyperparameter for tuning the preference for exploring unknown regions. You can set $\\beta = 2$.\n",
    "* Remember that the statistical model has to be updated (the hyperparameters re-optimized) at step 5D."
   ]
  },
  {
   "cell_type": "markdown",
   "metadata": {
    "deletable": false,
    "editable": false,
    "hidden": true,
    "nbgrader": {
     "cell_type": "markdown",
     "checksum": "4b42626108675cad5786b364ec6b12f9",
     "grade": false,
     "grade_id": "cell-8a3750c5a21ae7bb",
     "locked": true,
     "points": 2,
     "schema_version": 3,
     "solution": false,
     "task": true
    }
   },
   "source": [
    "#### Tasks\n",
    "* Implement the BayesOpt minimizer\n",
    "* Assume that you are allowed a total of 100 function evaluations ($k$ of them for the starting points and $100-k$ in the loop). Are you able to find the minimum to within $\\pm 0.02$?\n",
    "* Plot the final statistical model together with the true function. Show which points that have been explored.\n",
    "* Plot also the convergence of the minimum value $\\min(y_n)$ as a function of the iteration number $n \\in \\{1, \\ldots, 100\\}$."
   ]
  },
  {
   "cell_type": "code",
   "execution_count": 51,
   "metadata": {
    "deletable": false,
    "hidden": true,
    "nbgrader": {
     "cell_type": "code",
     "checksum": "9b8e04a574ad468fb5e4ee60d60b8846",
     "grade": false,
     "grade_id": "cell-51db36ede7b3bee8",
     "locked": false,
     "schema_version": 3,
     "solution": true,
     "task": false
    }
   },
   "outputs": [
    {
     "name": "stderr",
     "output_type": "stream",
     "text": [
      "reconstraining parameters GP_regression.rbf.lengthscale\n"
     ]
    },
    {
     "data": {
      "text/html": [
       "<style type=\"text/css\">\n",
       ".pd{\n",
       "    font-family: \"Courier New\", Courier, monospace !important;\n",
       "    width: 100%;\n",
       "    padding: 3px;\n",
       "}\n",
       "</style>\n",
       "\n",
       "<p class=pd>\n",
       "<b>Model</b>: GP regression<br>\n",
       "<b>Objective</b>: 1.0758534581658938<br>\n",
       "<b>Number of Parameters</b>: 3<br>\n",
       "<b>Number of Optimization Parameters</b>: 3<br>\n",
       "<b>Updates</b>: True<br>\n",
       "</p>\n",
       "<style type=\"text/css\">\n",
       ".tg  {font-family:\"Courier New\", Courier, monospace !important;padding:2px 3px;word-break:normal;border-collapse:collapse;border-spacing:0;border-color:#DCDCDC;margin:0px auto;width:100%;}\n",
       ".tg td{font-family:\"Courier New\", Courier, monospace !important;font-weight:bold;color:#444;background-color:#F7FDFA;border-style:solid;border-width:1px;overflow:hidden;word-break:normal;border-color:#DCDCDC;}\n",
       ".tg th{font-family:\"Courier New\", Courier, monospace !important;font-weight:normal;color:#fff;background-color:#26ADE4;border-style:solid;border-width:1px;overflow:hidden;word-break:normal;border-color:#DCDCDC;}\n",
       ".tg .tg-left{font-family:\"Courier New\", Courier, monospace !important;font-weight:normal;text-align:left;}\n",
       ".tg .tg-center{font-family:\"Courier New\", Courier, monospace !important;font-weight:normal;text-align:center;}\n",
       ".tg .tg-right{font-family:\"Courier New\", Courier, monospace !important;font-weight:normal;text-align:right;}\n",
       "</style>\n",
       "<table class=\"tg\"><tr><th><b>  GP_regression.         </b></th><th><b>               value</b></th><th><b>constraints</b></th><th><b>priors</b></th></tr>\n",
       "<tr><td class=tg-left>  rbf.variance           </td><td class=tg-right>0.008079739482398311</td><td class=tg-center>    +ve    </td><td class=tg-center>      </td></tr>\n",
       "<tr><td class=tg-left>  rbf.lengthscale        </td><td class=tg-right> 0.19623814574359308</td><td class=tg-center> 0.1,10.0  </td><td class=tg-center>      </td></tr>\n",
       "<tr><td class=tg-left>  Gaussian_noise.variance</td><td class=tg-right>  0.1636191340809738</td><td class=tg-center>    +ve    </td><td class=tg-center>      </td></tr>\n",
       "</table>"
      ],
      "text/plain": [
       "<GPy.models.gp_regression.GPRegression at 0x1f1dca71b08>"
      ]
     },
     "metadata": {},
     "output_type": "display_data"
    },
    {
     "data": {
      "text/plain": [
       "{'dataplot': [<matplotlib.collections.PathCollection at 0x1f1dca8c1c8>],\n",
       " 'gpmean': [[<matplotlib.lines.Line2D at 0x1f1dc9a06c8>]],\n",
       " 'gpconfidence': [<matplotlib.collections.PolyCollection at 0x1f1dc9a37c8>]}"
      ]
     },
     "execution_count": 51,
     "metadata": {},
     "output_type": "execute_result"
    },
    {
     "data": {
      "image/png": "[encoded data removed]",
      "text/plain": [
       "<Figure size 432x288 with 1 Axes>"
      ]
     },
     "metadata": {
      "needs_background": "light"
     },
     "output_type": "display_data"
    }
   ],
   "source": [
    "# Initialize the Bayesian Optimization by performing steps 1-4.\n",
    "# You might want to try with different seeds.\n",
    "sample100=[]\n",
    "sample =0\n",
    "#print(sample)\n",
    "ntimes = 2\n",
    "x_optstock=np.zeros(ntimes)\n",
    "result = np.zeros(ntimes)\n",
    "np.random.seed(2020)\n",
    "succesStock=np.zeros(ntimes)\n",
    "nfev=0\n",
    "y=[]\n",
    "dataStock=[]\n",
    "beta = 2\n",
    "for i in range (ntimes):\n",
    "    sample = np.random.uniform(-5,5) \n",
    "    sample100.append(sample)\n",
    "    \n",
    "\n",
    "    \n",
    "for i in range (ntimes):\n",
    "    y.append(f(sample100[i]))\n",
    "    dataStock.append([sample100[i],y]) #step3\n",
    "    \n",
    "\n",
    "\n",
    "\n",
    "x = np.array(sample100).reshape((-1,1))\n",
    "y = np.array(y).reshape((-1,1))\n",
    "#Step 4  ?  \n",
    "kernel = GPy.kern.RBF(1,variance=1,lengthscale=1)\n",
    "m = GPy.models.GPRegression(x,y,kernel)\n",
    "m.optimize()\n",
    "m['rbf.lengthscale'].constrain_bounded(.1,10)\n",
    "display(m)\n",
    "m.plot()\n",
    "\n",
    "\n"
   ]
  },
  {
   "cell_type": "code",
   "execution_count": 52,
   "metadata": {
    "deletable": false,
    "hidden": true,
    "nbgrader": {
     "cell_type": "code",
     "checksum": "4c1f5a72b78540a75f38e2d2c544608d",
     "grade": false,
     "grade_id": "cell-dc6717fede403c88",
     "locked": false,
     "schema_version": 3,
     "solution": true,
     "task": false
    }
   },
   "outputs": [
    {
     "name": "stderr",
     "output_type": "stream",
     "text": [
      " D:\\Program Files (x86)\\anaconda3\\envs\\tif285-env\\lib\\site-packages\\ipykernel_launcher.py:19: VisibleDeprecationWarning:Creating an ndarray from ragged nested sequences (which is a list-or-tuple of lists-or-tuples-or ndarrays with different lengths or shapes) is deprecated. If you meant to do this, you must specify 'dtype=object' when creating the ndarray\n",
      "reconstraining parameters GP_regression.rbf.lengthscale\n"
     ]
    },
    {
     "name": "stdout",
     "output_type": "stream",
     "text": [
      "<class 'list'>\n"
     ]
    },
    {
     "name": "stderr",
     "output_type": "stream",
     "text": [
      "reconstraining parameters GP_regression.rbf.lengthscale\n",
      "reconstraining parameters GP_regression.rbf.lengthscale\n",
      "reconstraining parameters GP_regression.rbf.lengthscale\n",
      "reconstraining parameters GP_regression.rbf.lengthscale\n",
      "reconstraining parameters GP_regression.rbf.lengthscale\n",
      "reconstraining parameters GP_regression.rbf.lengthscale\n",
      "reconstraining parameters GP_regression.rbf.lengthscale\n",
      "reconstraining parameters GP_regression.rbf.lengthscale\n",
      "reconstraining parameters GP_regression.rbf.lengthscale\n",
      "reconstraining parameters GP_regression.rbf.lengthscale\n",
      "reconstraining parameters GP_regression.rbf.lengthscale\n",
      "reconstraining parameters GP_regression.rbf.lengthscale\n",
      "reconstraining parameters GP_regression.rbf.lengthscale\n",
      "reconstraining parameters GP_regression.rbf.lengthscale\n",
      "reconstraining parameters GP_regression.rbf.lengthscale\n",
      "reconstraining parameters GP_regression.rbf.lengthscale\n",
      "reconstraining parameters GP_regression.rbf.lengthscale\n",
      "reconstraining parameters GP_regression.rbf.lengthscale\n",
      "reconstraining parameters GP_regression.rbf.lengthscale\n",
      "reconstraining parameters GP_regression.rbf.lengthscale\n",
      "reconstraining parameters GP_regression.rbf.lengthscale\n",
      "reconstraining parameters GP_regression.rbf.lengthscale\n",
      "reconstraining parameters GP_regression.rbf.lengthscale\n",
      "reconstraining parameters GP_regression.rbf.lengthscale\n",
      "reconstraining parameters GP_regression.rbf.lengthscale\n",
      "reconstraining parameters GP_regression.rbf.lengthscale\n",
      "reconstraining parameters GP_regression.rbf.lengthscale\n",
      "reconstraining parameters GP_regression.rbf.lengthscale\n",
      "reconstraining parameters GP_regression.rbf.lengthscale\n",
      "reconstraining parameters GP_regression.rbf.lengthscale\n",
      "reconstraining parameters GP_regression.rbf.lengthscale\n",
      "reconstraining parameters GP_regression.rbf.lengthscale\n",
      "reconstraining parameters GP_regression.rbf.lengthscale\n",
      "reconstraining parameters GP_regression.rbf.lengthscale\n",
      "reconstraining parameters GP_regression.rbf.lengthscale\n",
      "reconstraining parameters GP_regression.rbf.lengthscale\n",
      "reconstraining parameters GP_regression.rbf.lengthscale\n",
      "reconstraining parameters GP_regression.rbf.lengthscale\n",
      "reconstraining parameters GP_regression.rbf.lengthscale\n",
      "reconstraining parameters GP_regression.rbf.lengthscale\n",
      "reconstraining parameters GP_regression.rbf.lengthscale\n",
      "reconstraining parameters GP_regression.rbf.lengthscale\n",
      "reconstraining parameters GP_regression.rbf.lengthscale\n",
      "reconstraining parameters GP_regression.rbf.lengthscale\n",
      "reconstraining parameters GP_regression.rbf.lengthscale\n",
      "reconstraining parameters GP_regression.rbf.lengthscale\n",
      "reconstraining parameters GP_regression.rbf.lengthscale\n",
      "reconstraining parameters GP_regression.rbf.lengthscale\n",
      "reconstraining parameters GP_regression.rbf.lengthscale\n",
      "reconstraining parameters GP_regression.rbf.lengthscale\n",
      "reconstraining parameters GP_regression.rbf.lengthscale\n",
      "reconstraining parameters GP_regression.rbf.lengthscale\n",
      "reconstraining parameters GP_regression.rbf.lengthscale\n",
      "reconstraining parameters GP_regression.rbf.lengthscale\n",
      "reconstraining parameters GP_regression.rbf.lengthscale\n",
      "reconstraining parameters GP_regression.rbf.lengthscale\n",
      "reconstraining parameters GP_regression.rbf.lengthscale\n",
      "reconstraining parameters GP_regression.rbf.lengthscale\n",
      "reconstraining parameters GP_regression.rbf.lengthscale\n",
      "reconstraining parameters GP_regression.rbf.lengthscale\n",
      "reconstraining parameters GP_regression.rbf.lengthscale\n",
      "reconstraining parameters GP_regression.rbf.lengthscale\n",
      "reconstraining parameters GP_regression.rbf.lengthscale\n",
      "reconstraining parameters GP_regression.rbf.lengthscale\n",
      "reconstraining parameters GP_regression.rbf.lengthscale\n",
      "reconstraining parameters GP_regression.rbf.lengthscale\n",
      "reconstraining parameters GP_regression.rbf.lengthscale\n",
      "reconstraining parameters GP_regression.rbf.lengthscale\n",
      "reconstraining parameters GP_regression.rbf.lengthscale\n",
      "reconstraining parameters GP_regression.rbf.lengthscale\n",
      "reconstraining parameters GP_regression.rbf.lengthscale\n",
      "reconstraining parameters GP_regression.rbf.lengthscale\n",
      "reconstraining parameters GP_regression.rbf.lengthscale\n",
      "reconstraining parameters GP_regression.rbf.lengthscale\n",
      "reconstraining parameters GP_regression.rbf.lengthscale\n",
      "reconstraining parameters GP_regression.rbf.lengthscale\n",
      "reconstraining parameters GP_regression.rbf.lengthscale\n",
      "reconstraining parameters GP_regression.rbf.lengthscale\n",
      "reconstraining parameters GP_regression.rbf.lengthscale\n",
      "reconstraining parameters GP_regression.rbf.lengthscale\n",
      "reconstraining parameters GP_regression.rbf.lengthscale\n",
      "reconstraining parameters GP_regression.rbf.lengthscale\n",
      "reconstraining parameters GP_regression.rbf.lengthscale\n",
      "reconstraining parameters GP_regression.rbf.lengthscale\n",
      "reconstraining parameters GP_regression.rbf.lengthscale\n",
      "reconstraining parameters GP_regression.rbf.lengthscale\n",
      "reconstraining parameters GP_regression.rbf.lengthscale\n",
      "reconstraining parameters GP_regression.rbf.lengthscale\n",
      "reconstraining parameters GP_regression.rbf.lengthscale\n",
      "reconstraining parameters GP_regression.rbf.lengthscale\n",
      "reconstraining parameters GP_regression.rbf.lengthscale\n",
      "reconstraining parameters GP_regression.rbf.lengthscale\n",
      "reconstraining parameters GP_regression.rbf.lengthscale\n",
      "reconstraining parameters GP_regression.rbf.lengthscale\n",
      "reconstraining parameters GP_regression.rbf.lengthscale\n",
      "reconstraining parameters GP_regression.rbf.lengthscale\n",
      "reconstraining parameters GP_regression.rbf.lengthscale\n"
     ]
    }
   ],
   "source": [
    "\n",
    "\n",
    "xdomain = np.linspace(-5,5,10000)\n",
    "xdomain = np.array(xdomain).reshape((-1,1))\n",
    "ydata=[]\n",
    "xdata=[]\n",
    "print(type(ydata))\n",
    "for i in range(100-ntimes) : \n",
    "    \n",
    "    mu, Var = m.predict(xdomain,full_cov=False)\n",
    "    Interm = -mu + beta*np.sqrt(Var)   \n",
    "    \n",
    "    \n",
    "    argmax= np.argmax(Interm)\n",
    "    sample100.append(xdomain[argmax])\n",
    "    \n",
    "    \n",
    "    y=y.tolist()\n",
    "    y.append(f(xdomain[np.argmax(Interm)]))\n",
    "    \n",
    "    x = np.array(sample100).reshape((-1,1))\n",
    "    y = np.array(y).reshape((-1,1))\n",
    "    \n",
    "    \n",
    "    m = GPy.models.GPRegression(x,y,kernel)\n",
    "    m['rbf.lengthscale'].constrain_bounded(.1,10)\n",
    "    m.optimize()\n",
    "\n",
    "\n"
   ]
  },
  {
   "cell_type": "code",
   "execution_count": 53,
   "metadata": {
    "deletable": false,
    "hidden": true,
    "nbgrader": {
     "cell_type": "code",
     "checksum": "16770fb93db4124c8481f1830cf5e7c1",
     "grade": false,
     "grade_id": "cell-7447939914f39046",
     "locked": false,
     "schema_version": 3,
     "solution": true,
     "task": false
    }
   },
   "outputs": [
    {
     "data": {
      "text/html": [
       "<style type=\"text/css\">\n",
       ".pd{\n",
       "    font-family: \"Courier New\", Courier, monospace !important;\n",
       "    width: 100%;\n",
       "    padding: 3px;\n",
       "}\n",
       "</style>\n",
       "\n",
       "<p class=pd>\n",
       "<b>Model</b>: GP regression<br>\n",
       "<b>Objective</b>: -39.83264178573283<br>\n",
       "<b>Number of Parameters</b>: 3<br>\n",
       "<b>Number of Optimization Parameters</b>: 3<br>\n",
       "<b>Updates</b>: True<br>\n",
       "</p>\n",
       "<style type=\"text/css\">\n",
       ".tg  {font-family:\"Courier New\", Courier, monospace !important;padding:2px 3px;word-break:normal;border-collapse:collapse;border-spacing:0;border-color:#DCDCDC;margin:0px auto;width:100%;}\n",
       ".tg td{font-family:\"Courier New\", Courier, monospace !important;font-weight:bold;color:#444;background-color:#F7FDFA;border-style:solid;border-width:1px;overflow:hidden;word-break:normal;border-color:#DCDCDC;}\n",
       ".tg th{font-family:\"Courier New\", Courier, monospace !important;font-weight:normal;color:#fff;background-color:#26ADE4;border-style:solid;border-width:1px;overflow:hidden;word-break:normal;border-color:#DCDCDC;}\n",
       ".tg .tg-left{font-family:\"Courier New\", Courier, monospace !important;font-weight:normal;text-align:left;}\n",
       ".tg .tg-center{font-family:\"Courier New\", Courier, monospace !important;font-weight:normal;text-align:center;}\n",
       ".tg .tg-right{font-family:\"Courier New\", Courier, monospace !important;font-weight:normal;text-align:right;}\n",
       "</style>\n",
       "<table class=\"tg\"><tr><th><b>  GP_regression.         </b></th><th><b>                 value</b></th><th><b>constraints</b></th><th><b>priors</b></th></tr>\n",
       "<tr><td class=tg-left>  rbf.variance           </td><td class=tg-right>     5.294090573682467</td><td class=tg-center>    +ve    </td><td class=tg-center>      </td></tr>\n",
       "<tr><td class=tg-left>  rbf.lengthscale        </td><td class=tg-right>   0.10000000012542659</td><td class=tg-center> 0.1,10.0  </td><td class=tg-center>      </td></tr>\n",
       "<tr><td class=tg-left>  Gaussian_noise.variance</td><td class=tg-right>2.6402032514504383e-15</td><td class=tg-center>    +ve    </td><td class=tg-center>      </td></tr>\n",
       "</table>"
      ],
      "text/plain": [
       "<GPy.models.gp_regression.GPRegression at 0x1f1d0d3f048>"
      ]
     },
     "metadata": {},
     "output_type": "display_data"
    },
    {
     "data": {
      "text/plain": [
       "Text(0, 0.5, 'Minimums')"
      ]
     },
     "execution_count": 53,
     "metadata": {},
     "output_type": "execute_result"
    },
    {
     "data": {
      "image/png": "[encoded data removed]",
      "text/plain": [
       "<Figure size 432x288 with 1 Axes>"
      ]
     },
     "metadata": {
      "needs_background": "light"
     },
     "output_type": "display_data"
    },
    {
     "data": {
      "image/png": "[encoded data removed]",
      "text/plain": [
       "<Figure size 1008x288 with 2 Axes>"
      ]
     },
     "metadata": {
      "needs_background": "light"
     },
     "output_type": "display_data"
    }
   ],
   "source": [
    "datastock=[]\n",
    "m.plot(plot_limits=[-5,5])\n",
    "minimums=[]\n",
    "display(m)\n",
    "\n",
    "fig, ax = plt.subplots(1,2,figsize=(14,4))\n",
    "\n",
    "ax[0].plot(xdomain,Interm,color='green')\n",
    "ax[0].set_title('Aquisition(x)')\n",
    "ax[0].set_xlabel('x')\n",
    "ax[0].set_ylabel('Aquisition(x)')\n",
    "\n",
    "for i in range (1,11):\n",
    "    datastock.append(y[:i*10])\n",
    "\n",
    "for i in range(10):\n",
    "    minimums.append(min(datastock[i]))\n",
    "    \n",
    "xiter=np.linspace(0,100,10)\n",
    "ax[1].plot(xiter,minimums)\n",
    "ax[1].set_title('Minimums every 10 iterations')\n",
    "ax[1].set_xlabel('Iterations')\n",
    "ax[1].set_ylabel('Minimums')"
   ]
  },
  {
   "cell_type": "markdown",
   "metadata": {
    "heading_collapsed": true
   },
   "source": [
    "## Problem 7 (extra): A simple Bayesian binary classifier\n",
    "### (4 points)\n",
    "*You should have solved problem 4 before doing this problem.*"
   ]
  },
  {
   "cell_type": "code",
   "execution_count": 54,
   "metadata": {
    "deletable": false,
    "hidden": true,
    "nbgrader": {
     "cell_type": "code",
     "checksum": "3fd4dd1d64b9a18c8d08951223aff43e",
     "grade": false,
     "grade_id": "cell-096d4fdfdae1f6b6",
     "locked": false,
     "schema_version": 3,
     "solution": true,
     "task": false
    }
   },
   "outputs": [],
   "source": [
    "# Import modules\n",
    "#\n",
    "%matplotlib inline\n",
    "import numpy as np\n",
    "import scipy as sp\n",
    "from matplotlib import pyplot as plt\n",
    "# importing modules\n",
    "from sklearn import preprocessing\n",
    "import random\n",
    "from sklearn.model_selection import train_test_split\n",
    "from scipy.stats import norm\n",
    "import emcee\n",
    "\n",
    "\n",
    "#...\n",
    "# \n",
    "# YOUR CODE HERE\n",
    "# \n",
    "\n",
    "# Additional module import statements if needed\n",
    "# \n",
    "# YOUR CODE HERE\n",
    "# "
   ]
  },
  {
   "cell_type": "markdown",
   "metadata": {
    "hidden": true
   },
   "source": [
    "Create a bayesian binary classifier that can take $(E,|m|)$ as input data and predicts a binary label (0=below $T_c$, 1=above $T_c$). \n",
    "* Use only high- and low-tempterature data for training (so that predictions for intermediate temperature data should be more difficult). Use normalized data as in Task 4.\n",
    "* The weights (and bias) of the single neuron binary classifier will be described by pdf:s that we will sample from using MCMC.\n",
    "* Use a Gaussian prior on the two weights and the bias (with ``weight decay'' $\\sigma = 1.0)$.\n",
    "* Construct the (log) likelihood as in logistic regression (i.e. as used in Task 1). \n",
    "* Use, e.g., `emcee`, for the MCMC sampling.\n",
    "* The prediction for a given input should be characterized by a pdf; i.e. the predicted probability for the state belonging to class 1 (above $T_c$) will itself be described by a pdf."
   ]
  },
  {
   "cell_type": "markdown",
   "metadata": {
    "hidden": true
   },
   "source": [
    "#### Sub-tasks\n",
    "(a) Set up the training data\n",
    "\n",
    "(b) Train the Bayesian binary classifier and plot the pdf:s for the weights and bias.\n",
    "\n",
    "(c) Plot the decision boundaries for a few samples of the Bayesian binary classifier. Translate to an average decision boundary.\n",
    "\n",
    "(d) Study in particular the **prediction** of your Bayesian binary classifier for inputs $(E,|m|)$ that corresponds to:\n",
    "1. low-temperature configurations.\n",
    "1. high-temperature configurations.\n",
    "1. temperatures very close to the critical one."
   ]
  },
  {
   "cell_type": "code",
   "execution_count": 55,
   "metadata": {
    "deletable": false,
    "editable": false,
    "hidden": true,
    "nbgrader": {
     "cell_type": "code",
     "checksum": "c4b424e636aea94f2e329ca7208627dc",
     "grade": false,
     "grade_id": "cell-ddf368b22c78b096",
     "locked": true,
     "schema_version": 3,
     "solution": false,
     "task": false
    }
   },
   "outputs": [],
   "source": [
    "# Read data\n",
    "T, Es, Ms = np.loadtxt(f'{DATA_DIR}/problem4_data.dat',unpack=True)\n",
    "\n",
    "input_data = np.column_stack((Es,Ms))\n",
    "\n",
    "Tc = 2 / np.log(1+np.sqrt(2))\n",
    "high_T = T>Tc\n",
    "\n",
    "# High-temperature = 1\n",
    "targets = high_T*np.ones_like(T)"
   ]
  },
  {
   "cell_type": "markdown",
   "metadata": {
    "deletable": false,
    "editable": false,
    "hidden": true,
    "nbgrader": {
     "cell_type": "markdown",
     "checksum": "bf81ace6679d8ab8dc5e3c6c5f67ba9f",
     "grade": false,
     "grade_id": "cell-9b1c27024fd2e825",
     "locked": true,
     "points": 1,
     "schema_version": 3,
     "solution": false,
     "task": true
    }
   },
   "source": [
    "**Subtask (a)**: Set up the training data\n",
    "- Normalize the input data (mean=0, stddev=1)\n",
    "- Use high- (T>3.5) and low-temperature (T<1.5) data for training. \n",
    "- Plot the training data, indicate the target output 1: T>Tc with red symbols and 0: T<Tc with blue symbols.\n"
   ]
  },
  {
   "cell_type": "code",
   "execution_count": 56,
   "metadata": {
    "deletable": false,
    "hidden": true,
    "nbgrader": {
     "cell_type": "code",
     "checksum": "75f51565c170ac76248c36abbbaa366d",
     "grade": false,
     "grade_id": "cell-12334284ecc2f616",
     "locked": false,
     "schema_version": 3,
     "solution": true,
     "task": false
    }
   },
   "outputs": [
    {
     "data": {
      "image/png": "[encoded data removed]",
      "text/plain": [
       "<Figure size 432x288 with 1 Axes>"
      ]
     },
     "metadata": {
      "needs_background": "light"
     },
     "output_type": "display_data"
    },
    {
     "data": {
      "image/png": "[encoded data removed]",
      "text/plain": [
       "<Figure size 432x288 with 1 Axes>"
      ]
     },
     "metadata": {
      "needs_background": "light"
     },
     "output_type": "display_data"
    }
   ],
   "source": [
    "# \n",
    "# YOUR CODE HERE\n",
    "# \n",
    "# Use high- (T>3.5) and low-temperature (T<1.5) data for training\n",
    "e_scaled = preprocessing.scale(input_data[:,0]) #normalization\n",
    "m_scaled = preprocessing.scale(input_data[:,1]) #normalization\n",
    "\n",
    "\n",
    "input_scaled= np.column_stack((T,Es,Ms))\n",
    "low_T = T<1.5\n",
    "high_T = T>3.5\n",
    "\n",
    "low_Tc = T<Tc\n",
    "high_Tc = T>Tc\n",
    "\n",
    "T_high=T[0:220]\n",
    "T_low =T[1020:]\n",
    "T_hl=np.concatenate([T_high,T_low])\n",
    "\n",
    "with np.nditer(T_hl, op_flags=['readwrite']) as it:\n",
    "    for x in it:\n",
    "        if x<Tc:\n",
    "            x[...]=0\n",
    "            \n",
    "        else:\n",
    "            x[...]=1\n",
    "\n",
    "E_M_high = input_scaled[high_T][:,1:]\n",
    "E_M_low  = input_scaled[low_T][:,1:]\n",
    "E_M=np.concatenate([E_M_high,E_M_low])\n",
    "\n",
    "E_M_highTc = input_scaled[high_Tc][:,1:]\n",
    "E_M_lowTc = input_scaled[low_Tc][:,1:]\n",
    "\n",
    "\n",
    "#Data ok!\n",
    "\n",
    "\n",
    "e_train,e_test,m_train,m_test,tl_train,tl_test= train_test_split(E_M[:,0],E_M[:,1],T_hl,train_size=0.7,test_size=0.3,random_state=42)\n",
    "\n",
    "EMT_train=  np.column_stack((e_train,m_train,tl_train))\n",
    "EMT_test=  np.column_stack((e_test,m_test,tl_test))\n",
    "EM_train_2D=  np.column_stack((e_train,m_train))\n",
    "EM_test_2D=  np.column_stack((e_test,m_test))\n",
    "E_M=np.column_stack([E_M,T_hl])\n",
    "\n",
    "fig, ax = plt.subplots(1,1)\n",
    "ax.scatter(E_M_high[:,0],E_M_high[:,1],c='r',alpha=0.5,s=25)\n",
    "ax.scatter(E_M_low[:,0],E_M_low[:,1],c='b',alpha=0.5,s=25)\n",
    "ax.set_xlabel(\"$E$\")\n",
    "ax.set_ylabel(\"$|m|$\");\n",
    "ax.set_title(\"Training Data\");\n",
    "\n",
    "fig, ax = plt.subplots(1,1)\n",
    "ax.scatter(E_M_highTc[:,0],E_M_highTc[:,1],c='r',alpha=0.5,s=25)\n",
    "ax.scatter(E_M_lowTc[:,0],E_M_lowTc[:,1],c='b',alpha=0.5,s=25)\n",
    "ax.set_xlabel(\"$E$\")\n",
    "ax.set_ylabel(\"$|m|$\");\n",
    "ax.set_title(\"Whole Dataset\");"
   ]
  },
  {
   "cell_type": "code",
   "execution_count": 57,
   "metadata": {
    "deletable": false,
    "hidden": true,
    "nbgrader": {
     "cell_type": "code",
     "checksum": "5a4bf79ff0b509edcf2ff045dd13d596",
     "grade": false,
     "grade_id": "cell-e6723fc732d3005f",
     "locked": false,
     "schema_version": 3,
     "solution": true,
     "task": false
    }
   },
   "outputs": [],
   "source": [
    "# Single neuron classifier code from Problem 4 is probably needed to implement the Bayesian neuron\n",
    "\n",
    "# \n",
    "# YOUR CODE HERE\n",
    "# \n",
    "# Create a sigmoid function and a single neuron\n",
    "#\n",
    "def sigmoid(a):\n",
    "    '''Sigmoid function with input argument a that is the activation'''\n",
    "    # \n",
    "    # YOUR CODE HERE\n",
    "    # \n",
    "    return (1/(1+np.exp(-a)))\n",
    "\n",
    "def single_neuron(x,w):\n",
    "    \"\"\"\n",
    "    Single neuron prediction.\n",
    "    \n",
    "    Single output and N instances of k independent variables.\n",
    "    \n",
    "    Args:\n",
    "        x (array[float]): input to the neuron. x.shape=(N,k) \n",
    "        w (array[float]): weights, w.shape=(k+1,)\n",
    "            The zero index weight is the bias term.\n",
    "\n",
    "    Returns:\n",
    "        y (float): the output of the neuron\n",
    "    \"\"\"\n",
    "    # \n",
    "    # YOUR CODE HERE\n",
    "    # \n",
    "   \n",
    "    m = len(x)\n",
    "    x = np.c_[np.ones((m, 1)), x] \n",
    "    a = np.dot(x,w)\n",
    "    return sigmoid(a)"
   ]
  },
  {
   "cell_type": "code",
   "execution_count": 58,
   "metadata": {
    "deletable": false,
    "hidden": true,
    "nbgrader": {
     "cell_type": "code",
     "checksum": "b01929cab66471302ffe40cff7f6ed3b",
     "grade": false,
     "grade_id": "cell-6aaa83e747ff68ea",
     "locked": false,
     "schema_version": 3,
     "solution": true,
     "task": false
    }
   },
   "outputs": [],
   "source": [
    "# Define the log prior, likelihood, posterior\n",
    "#\n",
    "# \n",
    "# YOUR CODE HERE\n",
    "# \n",
    "\n",
    "def log_prior(w):\n",
    "    return -0.5*np.sum(np.square(w))\n",
    "\n",
    "\n",
    "def log_likelyhood(w,x,t):\n",
    "    m=len(t)\n",
    "    w=w.T\n",
    "    y=single_neuron(x,w)\n",
    "    Cw=np.sum(t*np.log(y)+(1-t)*np.log(1-y))\n",
    "    return Cw\n",
    "\n",
    "def log_posterior(w,x,t):\n",
    "    return (log_prior(w)+log_likelyhood(w,x,t))\n"
   ]
  },
  {
   "cell_type": "markdown",
   "metadata": {
    "deletable": false,
    "editable": false,
    "hidden": true,
    "nbgrader": {
     "cell_type": "markdown",
     "checksum": "b0e258a18e4babbbf0f18ffa9a6f909f",
     "grade": false,
     "grade_id": "cell-a2016c3cbfc10935",
     "locked": true,
     "points": 1,
     "schema_version": 3,
     "solution": false,
     "task": true
    }
   },
   "source": [
    "**Sub-task (b)**: Train the Bayesian binary classifier and plot the pdf:s for the weights and bias."
   ]
  },
  {
   "cell_type": "code",
   "execution_count": 59,
   "metadata": {},
   "outputs": [],
   "source": [
    "ndim = 3\n",
    "nwalkers =50\n",
    "nsteps = 10000\n",
    "w = np.random.rand(nwalkers,ndim)\n",
    "\n",
    "x=EM_train_2D\n",
    "t=tl_train.reshape(-1,1)"
   ]
  },
  {
   "cell_type": "code",
   "execution_count": 60,
   "metadata": {},
   "outputs": [
    {
     "name": "stderr",
     "output_type": "stream",
     "text": [
      "\r",
      "  0%|                                                                                        | 0/10000 [00:00<?, ?it/s]"
     ]
    },
    {
     "name": "stdout",
     "output_type": "stream",
     "text": [
      "<emcee.ensemble.EnsembleSampler object at 0x000001F1DEAF3B88>\n"
     ]
    },
    {
     "name": "stderr",
     "output_type": "stream",
     "text": [
      " D:\\Program Files (x86)\\anaconda3\\envs\\tif285-env\\lib\\site-packages\\ipykernel_launcher.py:15: RuntimeWarning:divide by zero encountered in log\n",
      " D:\\Program Files (x86)\\anaconda3\\envs\\tif285-env\\lib\\site-packages\\ipykernel_launcher.py:15: RuntimeWarning:invalid value encountered in multiply\n",
      "  0%|                                                                                        | 0/10000 [00:00<?, ?it/s]\n"
     ]
    },
    {
     "ename": "ValueError",
     "evalue": "Probability function returned NaN",
     "output_type": "error",
     "traceback": [
      "\u001b[1;31m---------------------------------------------------------------------------\u001b[0m",
      "\u001b[1;31mValueError\u001b[0m                                Traceback (most recent call last)",
      "\u001b[1;32m<ipython-input-60-4d6ac7a70a2d>\u001b[0m in \u001b[0;36m<module>\u001b[1;34m\u001b[0m\n\u001b[0;32m      1\u001b[0m \u001b[0msampler_Flat\u001b[0m \u001b[1;33m=\u001b[0m \u001b[0memcee\u001b[0m\u001b[1;33m.\u001b[0m\u001b[0mEnsembleSampler\u001b[0m\u001b[1;33m(\u001b[0m\u001b[0mnwalkers\u001b[0m\u001b[1;33m,\u001b[0m \u001b[0mndim\u001b[0m\u001b[1;33m,\u001b[0m \u001b[0mlog_posterior\u001b[0m\u001b[1;33m,\u001b[0m \u001b[0margs\u001b[0m\u001b[1;33m=\u001b[0m\u001b[1;33m(\u001b[0m\u001b[0mx\u001b[0m\u001b[1;33m,\u001b[0m\u001b[0mt\u001b[0m\u001b[1;33m)\u001b[0m\u001b[1;33m)\u001b[0m\u001b[1;33m\u001b[0m\u001b[1;33m\u001b[0m\u001b[0m\n\u001b[0;32m      2\u001b[0m \u001b[0mprint\u001b[0m\u001b[1;33m(\u001b[0m\u001b[0msampler_Flat\u001b[0m\u001b[1;33m)\u001b[0m\u001b[1;33m\u001b[0m\u001b[1;33m\u001b[0m\u001b[0m\n\u001b[1;32m----> 3\u001b[1;33m \u001b[0msampler_Flat\u001b[0m\u001b[1;33m.\u001b[0m\u001b[0mrun_mcmc\u001b[0m\u001b[1;33m(\u001b[0m\u001b[0mw\u001b[0m\u001b[1;33m,\u001b[0m \u001b[0mnsteps\u001b[0m\u001b[1;33m,\u001b[0m\u001b[0mprogress\u001b[0m\u001b[1;33m=\u001b[0m\u001b[1;32mTrue\u001b[0m\u001b[1;33m)\u001b[0m\u001b[1;33m\u001b[0m\u001b[1;33m\u001b[0m\u001b[0m\n\u001b[0m\u001b[0;32m      4\u001b[0m \u001b[0msamples\u001b[0m \u001b[1;33m=\u001b[0m \u001b[0msampler_Flat\u001b[0m\u001b[1;33m.\u001b[0m\u001b[0mget_chain\u001b[0m\u001b[1;33m(\u001b[0m\u001b[0mdiscard\u001b[0m\u001b[1;33m=\u001b[0m\u001b[1;36m500\u001b[0m\u001b[1;33m,\u001b[0m \u001b[0mflat\u001b[0m\u001b[1;33m=\u001b[0m\u001b[1;32mTrue\u001b[0m\u001b[1;33m)\u001b[0m\u001b[1;33m\u001b[0m\u001b[1;33m\u001b[0m\u001b[0m\n",
      "\u001b[1;32mD:\\Program Files (x86)\\anaconda3\\envs\\tif285-env\\lib\\site-packages\\emcee\\ensemble.py\u001b[0m in \u001b[0;36mrun_mcmc\u001b[1;34m(self, initial_state, nsteps, **kwargs)\u001b[0m\n\u001b[0;32m    382\u001b[0m \u001b[1;33m\u001b[0m\u001b[0m\n\u001b[0;32m    383\u001b[0m         \u001b[0mresults\u001b[0m \u001b[1;33m=\u001b[0m \u001b[1;32mNone\u001b[0m\u001b[1;33m\u001b[0m\u001b[1;33m\u001b[0m\u001b[0m\n\u001b[1;32m--> 384\u001b[1;33m         \u001b[1;32mfor\u001b[0m \u001b[0mresults\u001b[0m \u001b[1;32min\u001b[0m \u001b[0mself\u001b[0m\u001b[1;33m.\u001b[0m\u001b[0msample\u001b[0m\u001b[1;33m(\u001b[0m\u001b[0minitial_state\u001b[0m\u001b[1;33m,\u001b[0m \u001b[0miterations\u001b[0m\u001b[1;33m=\u001b[0m\u001b[0mnsteps\u001b[0m\u001b[1;33m,\u001b[0m \u001b[1;33m**\u001b[0m\u001b[0mkwargs\u001b[0m\u001b[1;33m)\u001b[0m\u001b[1;33m:\u001b[0m\u001b[1;33m\u001b[0m\u001b[1;33m\u001b[0m\u001b[0m\n\u001b[0m\u001b[0;32m    385\u001b[0m             \u001b[1;32mpass\u001b[0m\u001b[1;33m\u001b[0m\u001b[1;33m\u001b[0m\u001b[0m\n\u001b[0;32m    386\u001b[0m \u001b[1;33m\u001b[0m\u001b[0m\n",
      "\u001b[1;32mD:\\Program Files (x86)\\anaconda3\\envs\\tif285-env\\lib\\site-packages\\emcee\\ensemble.py\u001b[0m in \u001b[0;36msample\u001b[1;34m(self, initial_state, log_prob0, rstate0, blobs0, iterations, tune, skip_initial_state_check, thin_by, thin, store, progress)\u001b[0m\n\u001b[0;32m    341\u001b[0m \u001b[1;33m\u001b[0m\u001b[0m\n\u001b[0;32m    342\u001b[0m                     \u001b[1;31m# Propose\u001b[0m\u001b[1;33m\u001b[0m\u001b[1;33m\u001b[0m\u001b[1;33m\u001b[0m\u001b[0m\n\u001b[1;32m--> 343\u001b[1;33m                     \u001b[0mstate\u001b[0m\u001b[1;33m,\u001b[0m \u001b[0maccepted\u001b[0m \u001b[1;33m=\u001b[0m \u001b[0mmove\u001b[0m\u001b[1;33m.\u001b[0m\u001b[0mpropose\u001b[0m\u001b[1;33m(\u001b[0m\u001b[0mmodel\u001b[0m\u001b[1;33m,\u001b[0m \u001b[0mstate\u001b[0m\u001b[1;33m)\u001b[0m\u001b[1;33m\u001b[0m\u001b[1;33m\u001b[0m\u001b[0m\n\u001b[0m\u001b[0;32m    344\u001b[0m                     \u001b[0mstate\u001b[0m\u001b[1;33m.\u001b[0m\u001b[0mrandom_state\u001b[0m \u001b[1;33m=\u001b[0m \u001b[0mself\u001b[0m\u001b[1;33m.\u001b[0m\u001b[0mrandom_state\u001b[0m\u001b[1;33m\u001b[0m\u001b[1;33m\u001b[0m\u001b[0m\n\u001b[0;32m    345\u001b[0m \u001b[1;33m\u001b[0m\u001b[0m\n",
      "\u001b[1;32mD:\\Program Files (x86)\\anaconda3\\envs\\tif285-env\\lib\\site-packages\\emcee\\moves\\red_blue.py\u001b[0m in \u001b[0;36mpropose\u001b[1;34m(self, model, state)\u001b[0m\n\u001b[0;32m     91\u001b[0m \u001b[1;33m\u001b[0m\u001b[0m\n\u001b[0;32m     92\u001b[0m             \u001b[1;31m# Compute the lnprobs of the proposed position.\u001b[0m\u001b[1;33m\u001b[0m\u001b[1;33m\u001b[0m\u001b[1;33m\u001b[0m\u001b[0m\n\u001b[1;32m---> 93\u001b[1;33m             \u001b[0mnew_log_probs\u001b[0m\u001b[1;33m,\u001b[0m \u001b[0mnew_blobs\u001b[0m \u001b[1;33m=\u001b[0m \u001b[0mmodel\u001b[0m\u001b[1;33m.\u001b[0m\u001b[0mcompute_log_prob_fn\u001b[0m\u001b[1;33m(\u001b[0m\u001b[0mq\u001b[0m\u001b[1;33m)\u001b[0m\u001b[1;33m\u001b[0m\u001b[1;33m\u001b[0m\u001b[0m\n\u001b[0m\u001b[0;32m     94\u001b[0m \u001b[1;33m\u001b[0m\u001b[0m\n\u001b[0;32m     95\u001b[0m             \u001b[1;31m# Loop over the walkers and update them accordingly.\u001b[0m\u001b[1;33m\u001b[0m\u001b[1;33m\u001b[0m\u001b[1;33m\u001b[0m\u001b[0m\n",
      "\u001b[1;32mD:\\Program Files (x86)\\anaconda3\\envs\\tif285-env\\lib\\site-packages\\emcee\\ensemble.py\u001b[0m in \u001b[0;36mcompute_log_prob\u001b[1;34m(self, coords)\u001b[0m\n\u001b[0;32m    454\u001b[0m         \u001b[1;31m# Check for log_prob returning NaN.\u001b[0m\u001b[1;33m\u001b[0m\u001b[1;33m\u001b[0m\u001b[1;33m\u001b[0m\u001b[0m\n\u001b[0;32m    455\u001b[0m         \u001b[1;32mif\u001b[0m \u001b[0mnp\u001b[0m\u001b[1;33m.\u001b[0m\u001b[0many\u001b[0m\u001b[1;33m(\u001b[0m\u001b[0mnp\u001b[0m\u001b[1;33m.\u001b[0m\u001b[0misnan\u001b[0m\u001b[1;33m(\u001b[0m\u001b[0mlog_prob\u001b[0m\u001b[1;33m)\u001b[0m\u001b[1;33m)\u001b[0m\u001b[1;33m:\u001b[0m\u001b[1;33m\u001b[0m\u001b[1;33m\u001b[0m\u001b[0m\n\u001b[1;32m--> 456\u001b[1;33m             \u001b[1;32mraise\u001b[0m \u001b[0mValueError\u001b[0m\u001b[1;33m(\u001b[0m\u001b[1;34m\"Probability function returned NaN\"\u001b[0m\u001b[1;33m)\u001b[0m\u001b[1;33m\u001b[0m\u001b[1;33m\u001b[0m\u001b[0m\n\u001b[0m\u001b[0;32m    457\u001b[0m \u001b[1;33m\u001b[0m\u001b[0m\n\u001b[0;32m    458\u001b[0m         \u001b[1;32mreturn\u001b[0m \u001b[0mlog_prob\u001b[0m\u001b[1;33m,\u001b[0m \u001b[0mblob\u001b[0m\u001b[1;33m\u001b[0m\u001b[1;33m\u001b[0m\u001b[0m\n",
      "\u001b[1;31mValueError\u001b[0m: Probability function returned NaN"
     ]
    }
   ],
   "source": [
    "\n",
    "\n",
    "\n",
    "sampler_Flat = emcee.EnsembleSampler(nwalkers, ndim, log_posterior, args=(x,t))\n",
    "print(sampler_Flat)\n",
    "sampler_Flat.run_mcmc(w, nsteps,progress=True)\n",
    "samples = sampler_Flat.get_chain(discard=500, flat=True)"
   ]
  },
  {
   "cell_type": "markdown",
   "metadata": {},
   "source": [
    "#### After spending a lot of hours and checking every input and data, it simply does not work and we still didn't know why, the error is probability nan. It prevents us from going further,we could have use a single_neuron_classifier as in the basic part but this is not the goal of this problem..."
   ]
  },
  {
   "cell_type": "code",
   "execution_count": 34,
   "metadata": {
    "deletable": false,
    "hidden": true,
    "nbgrader": {
     "cell_type": "code",
     "checksum": "ed0b49617d78f73640305b0ac29cce91",
     "grade": false,
     "grade_id": "cell-b11765aaf06abae1",
     "locked": false,
     "schema_version": 3,
     "solution": true,
     "task": false
    }
   },
   "outputs": [
    {
     "ename": "NameError",
     "evalue": "name 'samples' is not defined",
     "output_type": "error",
     "traceback": [
      "\u001b[1;31m---------------------------------------------------------------------------\u001b[0m",
      "\u001b[1;31mNameError\u001b[0m                                 Traceback (most recent call last)",
      "\u001b[1;32m<ipython-input-34-66f2a1e5e130>\u001b[0m in \u001b[0;36m<module>\u001b[1;34m\u001b[0m\n\u001b[1;32m----> 1\u001b[1;33m \u001b[0mw_extract\u001b[0m\u001b[1;33m=\u001b[0m\u001b[0mnp\u001b[0m\u001b[1;33m.\u001b[0m\u001b[0mmean\u001b[0m\u001b[1;33m(\u001b[0m\u001b[0msamples\u001b[0m\u001b[1;33m,\u001b[0m\u001b[0maxis\u001b[0m\u001b[1;33m=\u001b[0m\u001b[1;36m0\u001b[0m\u001b[1;33m)\u001b[0m \u001b[1;31m#weight will be used in plot boundary!\u001b[0m\u001b[1;33m\u001b[0m\u001b[1;33m\u001b[0m\u001b[0m\n\u001b[0m",
      "\u001b[1;31mNameError\u001b[0m: name 'samples' is not defined"
     ]
    }
   ],
   "source": [
    "w_extract=np.mean(samples,axis=0) #weight will be used in plot boundary!"
   ]
  },
  {
   "cell_type": "markdown",
   "metadata": {
    "deletable": false,
    "editable": false,
    "hidden": true,
    "nbgrader": {
     "cell_type": "markdown",
     "checksum": "922d7115e9f8de0afcdd02c8a9faaf7c",
     "grade": false,
     "grade_id": "cell-6c8a5990ef802901",
     "locked": true,
     "points": 0,
     "schema_version": 3,
     "solution": false,
     "task": true
    }
   },
   "source": [
    "**Sub-task (c)**: Plot the decision boundaries for a few samples of the Bayesian binary classifier. Translate to an average decision boundary."
   ]
  },
  {
   "cell_type": "code",
   "execution_count": 35,
   "metadata": {
    "deletable": false,
    "hidden": true,
    "nbgrader": {
     "cell_type": "code",
     "checksum": "f9842b8f5aa175835be594fe02386e05",
     "grade": false,
     "grade_id": "cell-dc99504b5f4b570c",
     "locked": false,
     "schema_version": 3,
     "solution": true,
     "task": false
    }
   },
   "outputs": [],
   "source": [
    "# \n",
    "# YOUR CODE HERE\n",
    "# \n",
    "def plot_decision_boundary3(pred, X, y,ax=[]):\n",
    "    # Set min and max values and give it some padding\n",
    "    x0_min, x0_max = X[:, 0].min() - .5, X[:, 0].max() + .5\n",
    "    x1_min, x1_max = X[:, 1].min() - .5, X[:, 1].max() + .5\n",
    "    h = 0.01\n",
    "    # Generate a grid of points with distance h between them\n",
    "    xx0, xx1 = np.meshgrid(np.arange(x0_min, x0_max, h), np.arange(x1_min, x1_max, h))\n",
    "    # Predict the function value for the whole gid\n",
    "    Z = single_neuron(np.c_[xx0.ravel(), xx1.ravel()],w_extract)\n",
    "    z_new = np.ones_like(Z)*(Z>0.25)\n",
    "    z_new = z_new.reshape(xx0.shape)\n",
    "    # Plot the contour and training examples\n",
    "    if ax:\n",
    "        ax.contourf(xx0, xx1, z_new, cmap=plt.cm.RdBu, alpha=0.3)\n",
    "        ax.scatter(X[:, 0], X[:, 1], c=y, cmap=plt.cm.RdBu)\n",
    "    else:\n",
    "        plt.contourf(xx0, xx1, z_new, cmap=plt.cm.RdBu, alpha=0.3)\n",
    "        plt.scatter(X[:, 0], X[:, 1], c=y, cmap=plt.cm.RdBu)\n",
    "\n",
    "def plot_decision_boundary2(pred, X, y,ax=[]):\n",
    "    # Set min and max values and give it some padding\n",
    "    x0_min, x0_max = X[:, 0].min() - .5, X[:, 0].max() + .5\n",
    "    x1_min, x1_max = X[:, 1].min() - .5, X[:, 1].max() + .5\n",
    "    h = 0.01\n",
    "    # Generate a grid of points with distance h between them\n",
    "    xx0, xx1 = np.meshgrid(np.arange(x0_min, x0_max, h), np.arange(x1_min, x1_max, h))\n",
    "    # Predict the function value for the whole gid\n",
    "    Z = single_neuron(np.c_[xx0.ravel(), xx1.ravel()],w_extract)\n",
    "    z_new = np.ones_like(Z)*(Z>0.5)\n",
    "    z_new = z_new.reshape(xx0.shape)\n",
    "    # Plot the contour and training examples\n",
    "    if ax:\n",
    "        ax.contourf(xx0, xx1, z_new, cmap=plt.cm.RdBu, alpha=0.3)\n",
    "        ax.scatter(X[:, 0], X[:, 1], c=y, cmap=plt.cm.RdBu)\n",
    "    else:\n",
    "        plt.contourf(xx0, xx1, z_new, cmap=plt.cm.RdBu, alpha=0.3)\n",
    "        plt.scatter(X[:, 0], X[:, 1], c=y, cmap=plt.cm.RdBu)\n",
    "        \n",
    "def plot_decision_boundary3(pred, X, y,ax=[]):\n",
    "    # Set min and max values and give it some padding\n",
    "    x0_min, x0_max = X[:, 0].min() - .5, X[:, 0].max() + .5\n",
    "    x1_min, x1_max = X[:, 1].min() - .5, X[:, 1].max() + .5\n",
    "    h = 0.01\n",
    "    # Generate a grid of points with distance h between them\n",
    "    xx0, xx1 = np.meshgrid(np.arange(x0_min, x0_max, h), np.arange(x1_min, x1_max, h))\n",
    "    # Predict the function value for the whole gid\n",
    "    Z = single_neuron(np.c_[xx0.ravel(), xx1.ravel()],w_extract)\n",
    "    z_new = np.ones_like(Z)*(Z>0.75)\n",
    "    z_new = z_new.reshape(xx0.shape)\n",
    "    # Plot the contour and training examples\n",
    "    if ax:\n",
    "        ax.contourf(xx0, xx1, z_new, cmap=plt.cm.RdBu, alpha=0.3)\n",
    "        ax.scatter(X[:, 0], X[:, 1], c=y, cmap=plt.cm.RdBu)\n",
    "    else:\n",
    "        plt.contourf(xx0, xx1, z_new, cmap=plt.cm.RdBu, alpha=0.3)\n",
    "        plt.scatter(X[:, 0], X[:, 1], c=y, cmap=plt.cm.RdBu)\n"
   ]
  },
  {
   "cell_type": "code",
   "execution_count": 36,
   "metadata": {},
   "outputs": [
    {
     "ename": "NameError",
     "evalue": "name 'EM' is not defined",
     "output_type": "error",
     "traceback": [
      "\u001b[1;31m---------------------------------------------------------------------------\u001b[0m",
      "\u001b[1;31mNameError\u001b[0m                                 Traceback (most recent call last)",
      "\u001b[1;32m<ipython-input-36-652f0da3c6b0>\u001b[0m in \u001b[0;36m<module>\u001b[1;34m\u001b[0m\n\u001b[0;32m      1\u001b[0m \u001b[1;31m#Full dataset\u001b[0m\u001b[1;33m\u001b[0m\u001b[1;33m\u001b[0m\u001b[1;33m\u001b[0m\u001b[0m\n\u001b[1;32m----> 2\u001b[1;33m \u001b[0mT_pred_class\u001b[0m \u001b[1;33m=\u001b[0m \u001b[0msingle_neuron\u001b[0m\u001b[1;33m(\u001b[0m\u001b[0mEM\u001b[0m\u001b[1;33m,\u001b[0m\u001b[0mw_extract\u001b[0m\u001b[1;33m)\u001b[0m\u001b[1;33m\u001b[0m\u001b[1;33m\u001b[0m\u001b[0m\n\u001b[0m\u001b[0;32m      3\u001b[0m \u001b[0mcopy_cl\u001b[0m \u001b[1;33m=\u001b[0m\u001b[0mT_pred_class\u001b[0m\u001b[1;33m.\u001b[0m\u001b[0mcopy\u001b[0m\u001b[1;33m(\u001b[0m\u001b[1;33m)\u001b[0m\u001b[1;33m\u001b[0m\u001b[1;33m\u001b[0m\u001b[0m\n\u001b[0;32m      4\u001b[0m \u001b[0mcopy_cl\u001b[0m\u001b[1;33m=\u001b[0m\u001b[0mnp\u001b[0m\u001b[1;33m.\u001b[0m\u001b[0mones_like\u001b[0m\u001b[1;33m(\u001b[0m\u001b[0mcopy_cl\u001b[0m\u001b[1;33m)\u001b[0m\u001b[1;33m*\u001b[0m\u001b[1;33m(\u001b[0m\u001b[0mcopy_cl\u001b[0m\u001b[1;33m>\u001b[0m\u001b[1;36m0.5\u001b[0m\u001b[1;33m)\u001b[0m\u001b[1;33m\u001b[0m\u001b[1;33m\u001b[0m\u001b[0m\n",
      "\u001b[1;31mNameError\u001b[0m: name 'EM' is not defined"
     ]
    }
   ],
   "source": [
    "#Full dataset\n",
    "T_pred_class = single_neuron(EM,w_extract)\n",
    "copy_cl =T_pred_class.copy()\n",
    "copy_cl=np.ones_like(copy_cl)*(copy_cl>0.5)"
   ]
  },
  {
   "cell_type": "code",
   "execution_count": 37,
   "metadata": {},
   "outputs": [
    {
     "ename": "NameError",
     "evalue": "name 'copy_cl' is not defined",
     "output_type": "error",
     "traceback": [
      "\u001b[1;31m---------------------------------------------------------------------------\u001b[0m",
      "\u001b[1;31mNameError\u001b[0m                                 Traceback (most recent call last)",
      "\u001b[1;32m<ipython-input-37-8fbea49b16bf>\u001b[0m in \u001b[0;36m<module>\u001b[1;34m\u001b[0m\n\u001b[0;32m      2\u001b[0m \u001b[0mfig\u001b[0m\u001b[1;33m.\u001b[0m\u001b[0mtight_layout\u001b[0m\u001b[1;33m\u001b[0m\u001b[1;33m\u001b[0m\u001b[0m\n\u001b[0;32m      3\u001b[0m \u001b[1;33m\u001b[0m\u001b[0m\n\u001b[1;32m----> 4\u001b[1;33m \u001b[0mplot_decision_boundary2\u001b[0m\u001b[1;33m(\u001b[0m\u001b[0mcopy_cl\u001b[0m\u001b[1;33m,\u001b[0m\u001b[0mEM_cla\u001b[0m\u001b[1;33m,\u001b[0m\u001b[0mtargets\u001b[0m\u001b[1;33m,\u001b[0m\u001b[0max1\u001b[0m\u001b[1;33m)\u001b[0m\u001b[1;33m\u001b[0m\u001b[1;33m\u001b[0m\u001b[0m\n\u001b[0m\u001b[0;32m      5\u001b[0m \u001b[0max1\u001b[0m\u001b[1;33m.\u001b[0m\u001b[0mset_ylabel\u001b[0m\u001b[1;33m(\u001b[0m\u001b[1;34mr'$|m|$'\u001b[0m\u001b[1;33m)\u001b[0m\u001b[1;33m;\u001b[0m\u001b[1;33m\u001b[0m\u001b[1;33m\u001b[0m\u001b[0m\n\u001b[0;32m      6\u001b[0m \u001b[0max1\u001b[0m\u001b[1;33m.\u001b[0m\u001b[0mset_title\u001b[0m\u001b[1;33m(\u001b[0m\u001b[1;34m\"25% decision boundary\"\u001b[0m\u001b[1;33m)\u001b[0m\u001b[1;33m\u001b[0m\u001b[1;33m\u001b[0m\u001b[0m\n",
      "\u001b[1;31mNameError\u001b[0m: name 'copy_cl' is not defined"
     ]
    },
    {
     "data": {
      "image/png": "[encoded data removed]",
      "text/plain": [
       "<Figure size 1440x576 with 3 Axes>"
      ]
     },
     "metadata": {
      "needs_background": "light"
     },
     "output_type": "display_data"
    }
   ],
   "source": [
    "fig,(ax1,ax2,ax3)= plt.subplots(1,3,figsize=(20,8))\n",
    "fig.tight_layout\n",
    "\n",
    "plot_decision_boundary2(copy_cl,EM_cla,targets,ax1)\n",
    "ax1.set_ylabel(r'$|m|$');\n",
    "ax1.set_title(\"25% decision boundary\")\n",
    "\n",
    "plot_decision_boundary(copy_cl,EM_cla,Tl,ax2)\n",
    "ax2.set_xlabel(r'$E$')\n",
    "ax2.set_title(\"50% decision boundary\")\n",
    "\n",
    "plot_decision_boundary3(copy_cl,EM_cla,Tl,ax3)\n",
    "ax3.set_title(\"75% decision boundary\");\n"
   ]
  },
  {
   "cell_type": "markdown",
   "metadata": {
    "deletable": false,
    "editable": false,
    "hidden": true,
    "nbgrader": {
     "cell_type": "markdown",
     "checksum": "d7fe271ac3a9243be3ab26292b75656e",
     "grade": false,
     "grade_id": "cell-b760d770900a2a3f",
     "locked": true,
     "points": 1,
     "schema_version": 3,
     "solution": false,
     "task": true
    }
   },
   "source": [
    "**Sub-task (d)**: Study in particular the **prediction** of your Bayesian binary classifier for inputs $(E,|m|)$ that corresponds to:\n",
    "1. low-temperature configurations.\n",
    "1. high-temperature configurations.\n",
    "1. temperatures very close to the critical one."
   ]
  },
  {
   "cell_type": "code",
   "execution_count": null,
   "metadata": {
    "deletable": false,
    "hidden": true,
    "nbgrader": {
     "cell_type": "code",
     "checksum": "a3f1ea80a590a01503f5a37aa23ee01c",
     "grade": false,
     "grade_id": "cell-3c06bbb45fa22824",
     "locked": false,
     "schema_version": 3,
     "solution": true,
     "task": false
    }
   },
   "outputs": [],
   "source": []
  }
 ],
 "metadata": {
  "kernelspec": {
   "display_name": "Python 3",
   "language": "python",
   "name": "python3"
  },
  "language_info": {
   "codemirror_mode": {
    "name": "ipython",
    "version": 3
   },
   "file_extension": ".py",
   "mimetype": "text/x-python",
   "name": "python",
   "nbconvert_exporter": "python",
   "pygments_lexer": "ipython3",
   "version": "3.7.8"
  },
  "nav_menu": {},
  "toc": {
   "navigate_menu": true,
   "number_sections": true,
   "sideBar": true,
   "threshold": 6,
   "toc_cell": false,
   "toc_section_display": "block",
   "toc_window_display": false
  }
 },
 "nbformat": 4,
 "nbformat_minor": 1
}
