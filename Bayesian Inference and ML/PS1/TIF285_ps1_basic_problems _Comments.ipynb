<!DOCTYPE html>
<html>
<head>

<meta charset="utf-8" />
<title>TIF285_ps3_basic_problems</title>

<style type="text/css">
    /*!
*
* Twitter Bootstrap
*
*/
/*!
 * Bootstrap v3.3.7 (http://getbootstrap.com)
 * Copyright 2011-2016 Twitter, Inc.
 * Licensed under MIT (https://github.com/twbs/bootstrap/blob/master/LICENSE)
 */
/*! normalize.css v3.0.3 | MIT License | github.com/necolas/normalize.css */
html {
  font-family: sans-serif;
  -ms-text-size-adjust: 100%;
  -webkit-text-size-adjust: 100%;
}
body {
  margin: 0;
}
article,
aside,
details,
figcaption,
figure,
footer,
header,
hgroup,
main,
menu,
nav,
section,
summary {
  display: block;
}
audio,
canvas,
progress,
video {
  display: inline-block;
  vertical-align: baseline;
}
audio:not([controls]) {
  display: none;
  height: 0;
}
[hidden],
template {
  display: none;
}
a {
  background-color: transparent;
}
a:active,
a:hover {
  outline: 0;
}
abbr[title] {
  border-bottom: 1px dotted;
}
b,
strong {
  font-weight: bold;
}
dfn {
  font-style: italic;
}
h1 {
  font-size: 2em;
  margin: 0.67em 0;
}
mark {
  background: #ff0;
  color: #000;
}
small {
  font-size: 80%;
}
sub,
sup {
  font-size: 75%;
  line-height: 0;
  position: relative;
  vertical-align: baseline;
}
sup {
  top: -0.5em;
}
sub {
  bottom: -0.25em;
}
img {
  border: 0;
}
svg:not(:root) {
  overflow: hidden;
}
figure {
  margin: 1em 40px;
}
hr {
  box-sizing: content-box;
  height: 0;
}
pre {
  overflow: auto;
}
code,
kbd,
pre,
samp {
  font-family: monospace, monospace;
  font-size: 1em;
}
button,
input,
optgroup,
select,
textarea {
  color: inherit;
  font: inherit;
  margin: 0;
}
button {
  overflow: visible;
}
button,
select {
  text-transform: none;
}
button,
html input[type="button"],
input[type="reset"],
input[type="submit"] {
  -webkit-appearance: button;
  cursor: pointer;
}
button[disabled],
html input[disabled] {
  cursor: default;
}
button::-moz-focus-inner,
input::-moz-focus-inner {
  border: 0;
  padding: 0;
}
input {
  line-height: normal;
}
input[type="checkbox"],
input[type="radio"] {
  box-sizing: border-box;
  padding: 0;
}
input[type="number"]::-webkit-inner-spin-button,
input[type="number"]::-webkit-outer-spin-button {
  height: auto;
}
input[type="search"] {
  -webkit-appearance: textfield;
  box-sizing: content-box;
}
input[type="search"]::-webkit-search-cancel-button,
input[type="search"]::-webkit-search-decoration {
  -webkit-appearance: none;
}
fieldset {
  border: 1px solid #c0c0c0;
  margin: 0 2px;
  padding: 0.35em 0.625em 0.75em;
}
legend {
  border: 0;
  padding: 0;
}
textarea {
  overflow: auto;
}
optgroup {
  font-weight: bold;
}
table {
  border-collapse: collapse;
  border-spacing: 0;
}
td,
th {
  padding: 0;
}
/*! Source: https://github.com/h5bp/html5-boilerplate/blob/master/src/css/main.css */
@media print {
  *,
  *:before,
  *:after {
    background: transparent !important;
    box-shadow: none !important;
    text-shadow: none !important;
  }
  a,
  a:visited {
    text-decoration: underline;
  }
  a[href]:after {
    content: " (" attr(href) ")";
  }
  abbr[title]:after {
    content: " (" attr(title) ")";
  }
  a[href^="#"]:after,
  a[href^="javascript:"]:after {
    content: "";
  }
  pre,
  blockquote {
    border: 1px solid #999;
    page-break-inside: avoid;
  }
  thead {
    display: table-header-group;
  }
  tr,
  img {
    page-break-inside: avoid;
  }
  img {
    max-width: 100% !important;
  }
  p,
  h2,
  h3 {
    orphans: 3;
    widows: 3;
  }
  h2,
  h3 {
    page-break-after: avoid;
  }
  .navbar {
    display: none;
  }
  .btn > .caret,
  .dropup > .btn > .caret {
    border-top-color: #000 !important;
  }
  .label {
    border: 1px solid #000;
  }
  .table {
    border-collapse: collapse !important;
  }
  .table td,
  .table th {
    background-color: #fff !important;
  }
  .table-bordered th,
  .table-bordered td {
    border: 1px solid #ddd !important;
  }
}
@font-face {
  font-family: 'Glyphicons Halflings';
  src: url('../components/bootstrap/fonts/glyphicons-halflings-regular.eot');
  src: url('../components/bootstrap/fonts/glyphicons-halflings-regular.eot?#iefix') format('embedded-opentype'), url('../components/bootstrap/fonts/glyphicons-halflings-regular.woff2') format('woff2'), url('../components/bootstrap/fonts/glyphicons-halflings-regular.woff') format('woff'), url('../components/bootstrap/fonts/glyphicons-halflings-regular.ttf') format('truetype'), url('../components/bootstrap/fonts/glyphicons-halflings-regular.svg#glyphicons_halflingsregular') format('svg');
}
.glyphicon {
  position: relative;
  top: 1px;
  display: inline-block;
  font-family: 'Glyphicons Halflings';
  font-style: normal;
  font-weight: normal;
  line-height: 1;
  -webkit-font-smoothing: antialiased;
  -moz-osx-font-smoothing: grayscale;
}
.glyphicon-asterisk:before {
  content: "\002a";
}
.glyphicon-plus:before {
  content: "\002b";
}
.glyphicon-euro:before,
.glyphicon-eur:before {
  content: "\20ac";
}
.glyphicon-minus:before {
  content: "\2212";
}
.glyphicon-cloud:before {
  content: "\2601";
}
.glyphicon-envelope:before {
  content: "\2709";
}
.glyphicon-pencil:before {
  content: "\270f";
}
.glyphicon-glass:before {
  content: "\e001";
}
.glyphicon-music:before {
  content: "\e002";
}
.glyphicon-search:before {
  content: "\e003";
}
.glyphicon-heart:before {
  content: "\e005";
}
.glyphicon-star:before {
  content: "\e006";
}
.glyphicon-star-empty:before {
  content: "\e007";
}
.glyphicon-user:before {
  content: "\e008";
}
.glyphicon-film:before {
  content: "\e009";
}
.glyphicon-th-large:before {
  content: "\e010";
}
.glyphicon-th:before {
  content: "\e011";
}
.glyphicon-th-list:before {
  content: "\e012";
}
.glyphicon-ok:before {
  content: "\e013";
}
.glyphicon-remove:before {
  content: "\e014";
}
.glyphicon-zoom-in:before {
  content: "\e015";
}
.glyphicon-zoom-out:before {
  content: "\e016";
}
.glyphicon-off:before {
  content: "\e017";
}
.glyphicon-signal:before {
  content: "\e018";
}
.glyphicon-cog:before {
  content: "\e019";
}
.glyphicon-trash:before {
  content: "\e020";
}
.glyphicon-home:before {
  content: "\e021";
}
.glyphicon-file:before {
  content: "\e022";
}
.glyphicon-time:before {
  content: "\e023";
}
.glyphicon-road:before {
  content: "\e024";
}
.glyphicon-download-alt:before {
  content: "\e025";
}
.glyphicon-download:before {
  content: "\e026";
}
.glyphicon-upload:before {
  content: "\e027";
}
.glyphicon-inbox:before {
  content: "\e028";
}
.glyphicon-play-circle:before {
  content: "\e029";
}
.glyphicon-repeat:before {
  content: "\e030";
}
.glyphicon-refresh:before {
  content: "\e031";
}
.glyphicon-list-alt:before {
  content: "\e032";
}
.glyphicon-lock:before {
  content: "\e033";
}
.glyphicon-flag:before {
  content: "\e034";
}
.glyphicon-headphones:before {
  content: "\e035";
}
.glyphicon-volume-off:before {
  content: "\e036";
}
.glyphicon-volume-down:before {
  content: "\e037";
}
.glyphicon-volume-up:before {
  content: "\e038";
}
.glyphicon-qrcode:before {
  content: "\e039";
}
.glyphicon-barcode:before {
  content: "\e040";
}
.glyphicon-tag:before {
  content: "\e041";
}
.glyphicon-tags:before {
  content: "\e042";
}
.glyphicon-book:before {
  content: "\e043";
}
.glyphicon-bookmark:before {
  content: "\e044";
}
.glyphicon-print:before {
  content: "\e045";
}
.glyphicon-camera:before {
  content: "\e046";
}
.glyphicon-font:before {
  content: "\e047";
}
.glyphicon-bold:before {
  content: "\e048";
}
.glyphicon-italic:before {
  content: "\e049";
}
.glyphicon-text-height:before {
  content: "\e050";
}
.glyphicon-text-width:before {
  content: "\e051";
}
.glyphicon-align-left:before {
  content: "\e052";
}
.glyphicon-align-center:before {
  content: "\e053";
}
.glyphicon-align-right:before {
  content: "\e054";
}
.glyphicon-align-justify:before {
  content: "\e055";
}
.glyphicon-list:before {
  content: "\e056";
}
.glyphicon-indent-left:before {
  content: "\e057";
}
.glyphicon-indent-right:before {
  content: "\e058";
}
.glyphicon-facetime-video:before {
  content: "\e059";
}
.glyphicon-picture:before {
  content: "\e060";
}
.glyphicon-map-marker:before {
  content: "\e062";
}
.glyphicon-adjust:before {
  content: "\e063";
}
.glyphicon-tint:before {
  content: "\e064";
}
.glyphicon-edit:before {
  content: "\e065";
}
.glyphicon-share:before {
  content: "\e066";
}
.glyphicon-check:before {
  content: "\e067";
}
.glyphicon-move:before {
  content: "\e068";
}
.glyphicon-step-backward:before {
  content: "\e069";
}
.glyphicon-fast-backward:before {
  content: "\e070";
}
.glyphicon-backward:before {
  content: "\e071";
}
.glyphicon-play:before {
  content: "\e072";
}
.glyphicon-pause:before {
  content: "\e073";
}
.glyphicon-stop:before {
  content: "\e074";
}
.glyphicon-forward:before {
  content: "\e075";
}
.glyphicon-fast-forward:before {
  content: "\e076";
}
.glyphicon-step-forward:before {
  content: "\e077";
}
.glyphicon-eject:before {
  content: "\e078";
}
.glyphicon-chevron-left:before {
  content: "\e079";
}
.glyphicon-chevron-right:before {
  content: "\e080";
}
.glyphicon-plus-sign:before {
  content: "\e081";
}
.glyphicon-minus-sign:before {
  content: "\e082";
}
.glyphicon-remove-sign:before {
  content: "\e083";
}
.glyphicon-ok-sign:before {
  content: "\e084";
}
.glyphicon-question-sign:before {
  content: "\e085";
}
.glyphicon-info-sign:before {
  content: "\e086";
}
.glyphicon-screenshot:before {
  content: "\e087";
}
.glyphicon-remove-circle:before {
  content: "\e088";
}
.glyphicon-ok-circle:before {
  content: "\e089";
}
.glyphicon-ban-circle:before {
  content: "\e090";
}
.glyphicon-arrow-left:before {
  content: "\e091";
}
.glyphicon-arrow-right:before {
  content: "\e092";
}
.glyphicon-arrow-up:before {
  content: "\e093";
}
.glyphicon-arrow-down:before {
  content: "\e094";
}
.glyphicon-share-alt:before {
  content: "\e095";
}
.glyphicon-resize-full:before {
  content: "\e096";
}
.glyphicon-resize-small:before {
  content: "\e097";
}
.glyphicon-exclamation-sign:before {
  content: "\e101";
}
.glyphicon-gift:before {
  content: "\e102";
}
.glyphicon-leaf:before {
  content: "\e103";
}
.glyphicon-fire:before {
  content: "\e104";
}
.glyphicon-eye-open:before {
  content: "\e105";
}
.glyphicon-eye-close:before {
  content: "\e106";
}
.glyphicon-warning-sign:before {
  content: "\e107";
}
.glyphicon-plane:before {
  content: "\e108";
}
.glyphicon-calendar:before {
  content: "\e109";
}
.glyphicon-random:before {
  content: "\e110";
}
.glyphicon-comment:before {
  content: "\e111";
}
.glyphicon-magnet:before {
  content: "\e112";
}
.glyphicon-chevron-up:before {
  content: "\e113";
}
.glyphicon-chevron-down:before {
  content: "\e114";
}
.glyphicon-retweet:before {
  content: "\e115";
}
.glyphicon-shopping-cart:before {
  content: "\e116";
}
.glyphicon-folder-close:before {
  content: "\e117";
}
.glyphicon-folder-open:before {
  content: "\e118";
}
.glyphicon-resize-vertical:before {
  content: "\e119";
}
.glyphicon-resize-horizontal:before {
  content: "\e120";
}
.glyphicon-hdd:before {
  content: "\e121";
}
.glyphicon-bullhorn:before {
  content: "\e122";
}
.glyphicon-bell:before {
  content: "\e123";
}
.glyphicon-certificate:before {
  content: "\e124";
}
.glyphicon-thumbs-up:before {
  content: "\e125";
}
.glyphicon-thumbs-down:before {
  content: "\e126";
}
.glyphicon-hand-right:before {
  content: "\e127";
}
.glyphicon-hand-left:before {
  content: "\e128";
}
.glyphicon-hand-up:before {
  content: "\e129";
}
.glyphicon-hand-down:before {
  content: "\e130";
}
.glyphicon-circle-arrow-right:before {
  content: "\e131";
}
.glyphicon-circle-arrow-left:before {
  content: "\e132";
}
.glyphicon-circle-arrow-up:before {
  content: "\e133";
}
.glyphicon-circle-arrow-down:before {
  content: "\e134";
}
.glyphicon-globe:before {
  content: "\e135";
}
.glyphicon-wrench:before {
  content: "\e136";
}
.glyphicon-tasks:before {
  content: "\e137";
}
.glyphicon-filter:before {
  content: "\e138";
}
.glyphicon-briefcase:before {
  content: "\e139";
}
.glyphicon-fullscreen:before {
  content: "\e140";
}
.glyphicon-dashboard:before {
  content: "\e141";
}
.glyphicon-paperclip:before {
  content: "\e142";
}
.glyphicon-heart-empty:before {
  content: "\e143";
}
.glyphicon-link:before {
  content: "\e144";
}
.glyphicon-phone:before {
  content: "\e145";
}
.glyphicon-pushpin:before {
  content: "\e146";
}
.glyphicon-usd:before {
  content: "\e148";
}
.glyphicon-gbp:before {
  content: "\e149";
}
.glyphicon-sort:before {
  content: "\e150";
}
.glyphicon-sort-by-alphabet:before {
  content: "\e151";
}
.glyphicon-sort-by-alphabet-alt:before {
  content: "\e152";
}
.glyphicon-sort-by-order:before {
  content: "\e153";
}
.glyphicon-sort-by-order-alt:before {
  content: "\e154";
}
.glyphicon-sort-by-attributes:before {
  content: "\e155";
}
.glyphicon-sort-by-attributes-alt:before {
  content: "\e156";
}
.glyphicon-unchecked:before {
  content: "\e157";
}
.glyphicon-expand:before {
  content: "\e158";
}
.glyphicon-collapse-down:before {
  content: "\e159";
}
.glyphicon-collapse-up:before {
  content: "\e160";
}
.glyphicon-log-in:before {
  content: "\e161";
}
.glyphicon-flash:before {
  content: "\e162";
}
.glyphicon-log-out:before {
  content: "\e163";
}
.glyphicon-new-window:before {
  content: "\e164";
}
.glyphicon-record:before {
  content: "\e165";
}
.glyphicon-save:before {
  content: "\e166";
}
.glyphicon-open:before {
  content: "\e167";
}
.glyphicon-saved:before {
  content: "\e168";
}
.glyphicon-import:before {
  content: "\e169";
}
.glyphicon-export:before {
  content: "\e170";
}
.glyphicon-send:before {
  content: "\e171";
}
.glyphicon-floppy-disk:before {
  content: "\e172";
}
.glyphicon-floppy-saved:before {
  content: "\e173";
}
.glyphicon-floppy-remove:before {
  content: "\e174";
}
.glyphicon-floppy-save:before {
  content: "\e175";
}
.glyphicon-floppy-open:before {
  content: "\e176";
}
.glyphicon-credit-card:before {
  content: "\e177";
}
.glyphicon-transfer:before {
  content: "\e178";
}
.glyphicon-cutlery:before {
  content: "\e179";
}
.glyphicon-header:before {
  content: "\e180";
}
.glyphicon-compressed:before {
  content: "\e181";
}
.glyphicon-earphone:before {
  content: "\e182";
}
.glyphicon-phone-alt:before {
  content: "\e183";
}
.glyphicon-tower:before {
  content: "\e184";
}
.glyphicon-stats:before {
  content: "\e185";
}
.glyphicon-sd-video:before {
  content: "\e186";
}
.glyphicon-hd-video:before {
  content: "\e187";
}
.glyphicon-subtitles:before {
  content: "\e188";
}
.glyphicon-sound-stereo:before {
  content: "\e189";
}
.glyphicon-sound-dolby:before {
  content: "\e190";
}
.glyphicon-sound-5-1:before {
  content: "\e191";
}
.glyphicon-sound-6-1:before {
  content: "\e192";
}
.glyphicon-sound-7-1:before {
  content: "\e193";
}
.glyphicon-copyright-mark:before {
  content: "\e194";
}
.glyphicon-registration-mark:before {
  content: "\e195";
}
.glyphicon-cloud-download:before {
  content: "\e197";
}
.glyphicon-cloud-upload:before {
  content: "\e198";
}
.glyphicon-tree-conifer:before {
  content: "\e199";
}
.glyphicon-tree-deciduous:before {
  content: "\e200";
}
.glyphicon-cd:before {
  content: "\e201";
}
.glyphicon-save-file:before {
  content: "\e202";
}
.glyphicon-open-file:before {
  content: "\e203";
}
.glyphicon-level-up:before {
  content: "\e204";
}
.glyphicon-copy:before {
  content: "\e205";
}
.glyphicon-paste:before {
  content: "\e206";
}
.glyphicon-alert:before {
  content: "\e209";
}
.glyphicon-equalizer:before {
  content: "\e210";
}
.glyphicon-king:before {
  content: "\e211";
}
.glyphicon-queen:before {
  content: "\e212";
}
.glyphicon-pawn:before {
  content: "\e213";
}
.glyphicon-bishop:before {
  content: "\e214";
}
.glyphicon-knight:before {
  content: "\e215";
}
.glyphicon-baby-formula:before {
  content: "\e216";
}
.glyphicon-tent:before {
  content: "\26fa";
}
.glyphicon-blackboard:before {
  content: "\e218";
}
.glyphicon-bed:before {
  content: "\e219";
}
.glyphicon-apple:before {
  content: "\f8ff";
}
.glyphicon-erase:before {
  content: "\e221";
}
.glyphicon-hourglass:before {
  content: "\231b";
}
.glyphicon-lamp:before {
  content: "\e223";
}
.glyphicon-duplicate:before {
  content: "\e224";
}
.glyphicon-piggy-bank:before {
  content: "\e225";
}
.glyphicon-scissors:before {
  content: "\e226";
}
.glyphicon-bitcoin:before {
  content: "\e227";
}
.glyphicon-btc:before {
  content: "\e227";
}
.glyphicon-xbt:before {
  content: "\e227";
}
.glyphicon-yen:before {
  content: "\00a5";
}
.glyphicon-jpy:before {
  content: "\00a5";
}
.glyphicon-ruble:before {
  content: "\20bd";
}
.glyphicon-rub:before {
  content: "\20bd";
}
.glyphicon-scale:before {
  content: "\e230";
}
.glyphicon-ice-lolly:before {
  content: "\e231";
}
.glyphicon-ice-lolly-tasted:before {
  content: "\e232";
}
.glyphicon-education:before {
  content: "\e233";
}
.glyphicon-option-horizontal:before {
  content: "\e234";
}
.glyphicon-option-vertical:before {
  content: "\e235";
}
.glyphicon-menu-hamburger:before {
  content: "\e236";
}
.glyphicon-modal-window:before {
  content: "\e237";
}
.glyphicon-oil:before {
  content: "\e238";
}
.glyphicon-grain:before {
  content: "\e239";
}
.glyphicon-sunglasses:before {
  content: "\e240";
}
.glyphicon-text-size:before {
  content: "\e241";
}
.glyphicon-text-color:before {
  content: "\e242";
}
.glyphicon-text-background:before {
  content: "\e243";
}
.glyphicon-object-align-top:before {
  content: "\e244";
}
.glyphicon-object-align-bottom:before {
  content: "\e245";
}
.glyphicon-object-align-horizontal:before {
  content: "\e246";
}
.glyphicon-object-align-left:before {
  content: "\e247";
}
.glyphicon-object-align-vertical:before {
  content: "\e248";
}
.glyphicon-object-align-right:before {
  content: "\e249";
}
.glyphicon-triangle-right:before {
  content: "\e250";
}
.glyphicon-triangle-left:before {
  content: "\e251";
}
.glyphicon-triangle-bottom:before {
  content: "\e252";
}
.glyphicon-triangle-top:before {
  content: "\e253";
}
.glyphicon-console:before {
  content: "\e254";
}
.glyphicon-superscript:before {
  content: "\e255";
}
.glyphicon-subscript:before {
  content: "\e256";
}
.glyphicon-menu-left:before {
  content: "\e257";
}
.glyphicon-menu-right:before {
  content: "\e258";
}
.glyphicon-menu-down:before {
  content: "\e259";
}
.glyphicon-menu-up:before {
  content: "\e260";
}
* {
  -webkit-box-sizing: border-box;
  -moz-box-sizing: border-box;
  box-sizing: border-box;
}
*:before,
*:after {
  -webkit-box-sizing: border-box;
  -moz-box-sizing: border-box;
  box-sizing: border-box;
}
html {
  font-size: 10px;
  -webkit-tap-highlight-color: rgba(0, 0, 0, 0);
}
body {
  font-family: "Helvetica Neue", Helvetica, Arial, sans-serif;
  font-size: 13px;
  line-height: 1.42857143;
  color: #000;
  background-color: #fff;
}
input,
button,
select,
textarea {
  font-family: inherit;
  font-size: inherit;
  line-height: inherit;
}
a {
  color: #337ab7;
  text-decoration: none;
}
a:hover,
a:focus {
  color: #23527c;
  text-decoration: underline;
}
a:focus {
  outline: 5px auto -webkit-focus-ring-color;
  outline-offset: -2px;
}
figure {
  margin: 0;
}
img {
  vertical-align: middle;
}
.img-responsive,
.thumbnail > img,
.thumbnail a > img,
.carousel-inner > .item > img,
.carousel-inner > .item > a > img {
  display: block;
  max-width: 100%;
  height: auto;
}
.img-rounded {
  border-radius: 3px;
}
.img-thumbnail {
  padding: 4px;
  line-height: 1.42857143;
  background-color: #fff;
  border: 1px solid #ddd;
  border-radius: 2px;
  -webkit-transition: all 0.2s ease-in-out;
  -o-transition: all 0.2s ease-in-out;
  transition: all 0.2s ease-in-out;
  display: inline-block;
  max-width: 100%;
  height: auto;
}
.img-circle {
  border-radius: 50%;
}
hr {
  margin-top: 18px;
  margin-bottom: 18px;
  border: 0;
  border-top: 1px solid #eeeeee;
}
.sr-only {
  position: absolute;
  width: 1px;
  height: 1px;
  margin: -1px;
  padding: 0;
  overflow: hidden;
  clip: rect(0, 0, 0, 0);
  border: 0;
}
.sr-only-focusable:active,
.sr-only-focusable:focus {
  position: static;
  width: auto;
  height: auto;
  margin: 0;
  overflow: visible;
  clip: auto;
}
[role="button"] {
  cursor: pointer;
}
h1,
h2,
h3,
h4,
h5,
h6,
.h1,
.h2,
.h3,
.h4,
.h5,
.h6 {
  font-family: inherit;
  font-weight: 500;
  line-height: 1.1;
  color: inherit;
}
h1 small,
h2 small,
h3 small,
h4 small,
h5 small,
h6 small,
.h1 small,
.h2 small,
.h3 small,
.h4 small,
.h5 small,
.h6 small,
h1 .small,
h2 .small,
h3 .small,
h4 .small,
h5 .small,
h6 .small,
.h1 .small,
.h2 .small,
.h3 .small,
.h4 .small,
.h5 .small,
.h6 .small {
  font-weight: normal;
  line-height: 1;
  color: #777777;
}
h1,
.h1,
h2,
.h2,
h3,
.h3 {
  margin-top: 18px;
  margin-bottom: 9px;
}
h1 small,
.h1 small,
h2 small,
.h2 small,
h3 small,
.h3 small,
h1 .small,
.h1 .small,
h2 .small,
.h2 .small,
h3 .small,
.h3 .small {
  font-size: 65%;
}
h4,
.h4,
h5,
.h5,
h6,
.h6 {
  margin-top: 9px;
  margin-bottom: 9px;
}
h4 small,
.h4 small,
h5 small,
.h5 small,
h6 small,
.h6 small,
h4 .small,
.h4 .small,
h5 .small,
.h5 .small,
h6 .small,
.h6 .small {
  font-size: 75%;
}
h1,
.h1 {
  font-size: 33px;
}
h2,
.h2 {
  font-size: 27px;
}
h3,
.h3 {
  font-size: 23px;
}
h4,
.h4 {
  font-size: 17px;
}
h5,
.h5 {
  font-size: 13px;
}
h6,
.h6 {
  font-size: 12px;
}
p {
  margin: 0 0 9px;
}
.lead {
  margin-bottom: 18px;
  font-size: 14px;
  font-weight: 300;
  line-height: 1.4;
}
@media (min-width: 768px) {
  .lead {
    font-size: 19.5px;
  }
}
small,
.small {
  font-size: 92%;
}
mark,
.mark {
  background-color: #fcf8e3;
  padding: .2em;
}
.text-left {
  text-align: left;
}
.text-right {
  text-align: right;
}
.text-center {
  text-align: center;
}
.text-justify {
  text-align: justify;
}
.text-nowrap {
  white-space: nowrap;
}
.text-lowercase {
  text-transform: lowercase;
}
.text-uppercase {
  text-transform: uppercase;
}
.text-capitalize {
  text-transform: capitalize;
}
.text-muted {
  color: #777777;
}
.text-primary {
  color: #337ab7;
}
a.text-primary:hover,
a.text-primary:focus {
  color: #286090;
}
.text-success {
  color: #3c763d;
}
a.text-success:hover,
a.text-success:focus {
  color: #2b542c;
}
.text-info {
  color: #31708f;
}
a.text-info:hover,
a.text-info:focus {
  color: #245269;
}
.text-warning {
  color: #8a6d3b;
}
a.text-warning:hover,
a.text-warning:focus {
  color: #66512c;
}
.text-danger {
  color: #a94442;
}
a.text-danger:hover,
a.text-danger:focus {
  color: #843534;
}
.bg-primary {
  color: #fff;
  background-color: #337ab7;
}
a.bg-primary:hover,
a.bg-primary:focus {
  background-color: #286090;
}
.bg-success {
  background-color: #dff0d8;
}
a.bg-success:hover,
a.bg-success:focus {
  background-color: #c1e2b3;
}
.bg-info {
  background-color: #d9edf7;
}
a.bg-info:hover,
a.bg-info:focus {
  background-color: #afd9ee;
}
.bg-warning {
  background-color: #fcf8e3;
}
a.bg-warning:hover,
a.bg-warning:focus {
  background-color: #f7ecb5;
}
.bg-danger {
  background-color: #f2dede;
}
a.bg-danger:hover,
a.bg-danger:focus {
  background-color: #e4b9b9;
}
.page-header {
  padding-bottom: 8px;
  margin: 36px 0 18px;
  border-bottom: 1px solid #eeeeee;
}
ul,
ol {
  margin-top: 0;
  margin-bottom: 9px;
}
ul ul,
ol ul,
ul ol,
ol ol {
  margin-bottom: 0;
}
.list-unstyled {
  padding-left: 0;
  list-style: none;
}
.list-inline {
  padding-left: 0;
  list-style: none;
  margin-left: -5px;
}
.list-inline > li {
  display: inline-block;
  padding-left: 5px;
  padding-right: 5px;
}
dl {
  margin-top: 0;
  margin-bottom: 18px;
}
dt,
dd {
  line-height: 1.42857143;
}
dt {
  font-weight: bold;
}
dd {
  margin-left: 0;
}
@media (min-width: 541px) {
  .dl-horizontal dt {
    float: left;
    width: 160px;
    clear: left;
    text-align: right;
    overflow: hidden;
    text-overflow: ellipsis;
    white-space: nowrap;
  }
  .dl-horizontal dd {
    margin-left: 180px;
  }
}
abbr[title],
abbr[data-original-title] {
  cursor: help;
  border-bottom: 1px dotted #777777;
}
.initialism {
  font-size: 90%;
  text-transform: uppercase;
}
blockquote {
  padding: 9px 18px;
  margin: 0 0 18px;
  font-size: inherit;
  border-left: 5px solid #eeeeee;
}
blockquote p:last-child,
blockquote ul:last-child,
blockquote ol:last-child {
  margin-bottom: 0;
}
blockquote footer,
blockquote small,
blockquote .small {
  display: block;
  font-size: 80%;
  line-height: 1.42857143;
  color: #777777;
}
blockquote footer:before,
blockquote small:before,
blockquote .small:before {
  content: '\2014 \00A0';
}
.blockquote-reverse,
blockquote.pull-right {
  padding-right: 15px;
  padding-left: 0;
  border-right: 5px solid #eeeeee;
  border-left: 0;
  text-align: right;
}
.blockquote-reverse footer:before,
blockquote.pull-right footer:before,
.blockquote-reverse small:before,
blockquote.pull-right small:before,
.blockquote-reverse .small:before,
blockquote.pull-right .small:before {
  content: '';
}
.blockquote-reverse footer:after,
blockquote.pull-right footer:after,
.blockquote-reverse small:after,
blockquote.pull-right small:after,
.blockquote-reverse .small:after,
blockquote.pull-right .small:after {
  content: '\00A0 \2014';
}
address {
  margin-bottom: 18px;
  font-style: normal;
  line-height: 1.42857143;
}
code,
kbd,
pre,
samp {
  font-family: monospace;
}
code {
  padding: 2px 4px;
  font-size: 90%;
  color: #c7254e;
  background-color: #f9f2f4;
  border-radius: 2px;
}
kbd {
  padding: 2px 4px;
  font-size: 90%;
  color: #888;
  background-color: transparent;
  border-radius: 1px;
  box-shadow: inset 0 -1px 0 rgba(0, 0, 0, 0.25);
}
kbd kbd {
  padding: 0;
  font-size: 100%;
  font-weight: bold;
  box-shadow: none;
}
pre {
  display: block;
  padding: 8.5px;
  margin: 0 0 9px;
  font-size: 12px;
  line-height: 1.42857143;
  word-break: break-all;
  word-wrap: break-word;
  color: #333333;
  background-color: #f5f5f5;
  border: 1px solid #ccc;
  border-radius: 2px;
}
pre code {
  padding: 0;
  font-size: inherit;
  color: inherit;
  white-space: pre-wrap;
  background-color: transparent;
  border-radius: 0;
}
.pre-scrollable {
  max-height: 340px;
  overflow-y: scroll;
}
.container {
  margin-right: auto;
  margin-left: auto;
  padding-left: 0px;
  padding-right: 0px;
}
@media (min-width: 768px) {
  .container {
    width: 768px;
  }
}
@media (min-width: 992px) {
  .container {
    width: 940px;
  }
}
@media (min-width: 1200px) {
  .container {
    width: 1140px;
  }
}
.container-fluid {
  margin-right: auto;
  margin-left: auto;
  padding-left: 0px;
  padding-right: 0px;
}
.row {
  margin-left: 0px;
  margin-right: 0px;
}
.col-xs-1, .col-sm-1, .col-md-1, .col-lg-1, .col-xs-2, .col-sm-2, .col-md-2, .col-lg-2, .col-xs-3, .col-sm-3, .col-md-3, .col-lg-3, .col-xs-4, .col-sm-4, .col-md-4, .col-lg-4, .col-xs-5, .col-sm-5, .col-md-5, .col-lg-5, .col-xs-6, .col-sm-6, .col-md-6, .col-lg-6, .col-xs-7, .col-sm-7, .col-md-7, .col-lg-7, .col-xs-8, .col-sm-8, .col-md-8, .col-lg-8, .col-xs-9, .col-sm-9, .col-md-9, .col-lg-9, .col-xs-10, .col-sm-10, .col-md-10, .col-lg-10, .col-xs-11, .col-sm-11, .col-md-11, .col-lg-11, .col-xs-12, .col-sm-12, .col-md-12, .col-lg-12 {
  position: relative;
  min-height: 1px;
  padding-left: 0px;
  padding-right: 0px;
}
.col-xs-1, .col-xs-2, .col-xs-3, .col-xs-4, .col-xs-5, .col-xs-6, .col-xs-7, .col-xs-8, .col-xs-9, .col-xs-10, .col-xs-11, .col-xs-12 {
  float: left;
}
.col-xs-12 {
  width: 100%;
}
.col-xs-11 {
  width: 91.66666667%;
}
.col-xs-10 {
  width: 83.33333333%;
}
.col-xs-9 {
  width: 75%;
}
.col-xs-8 {
  width: 66.66666667%;
}
.col-xs-7 {
  width: 58.33333333%;
}
.col-xs-6 {
  width: 50%;
}
.col-xs-5 {
  width: 41.66666667%;
}
.col-xs-4 {
  width: 33.33333333%;
}
.col-xs-3 {
  width: 25%;
}
.col-xs-2 {
  width: 16.66666667%;
}
.col-xs-1 {
  width: 8.33333333%;
}
.col-xs-pull-12 {
  right: 100%;
}
.col-xs-pull-11 {
  right: 91.66666667%;
}
.col-xs-pull-10 {
  right: 83.33333333%;
}
.col-xs-pull-9 {
  right: 75%;
}
.col-xs-pull-8 {
  right: 66.66666667%;
}
.col-xs-pull-7 {
  right: 58.33333333%;
}
.col-xs-pull-6 {
  right: 50%;
}
.col-xs-pull-5 {
  right: 41.66666667%;
}
.col-xs-pull-4 {
  right: 33.33333333%;
}
.col-xs-pull-3 {
  right: 25%;
}
.col-xs-pull-2 {
  right: 16.66666667%;
}
.col-xs-pull-1 {
  right: 8.33333333%;
}
.col-xs-pull-0 {
  right: auto;
}
.col-xs-push-12 {
  left: 100%;
}
.col-xs-push-11 {
  left: 91.66666667%;
}
.col-xs-push-10 {
  left: 83.33333333%;
}
.col-xs-push-9 {
  left: 75%;
}
.col-xs-push-8 {
  left: 66.66666667%;
}
.col-xs-push-7 {
  left: 58.33333333%;
}
.col-xs-push-6 {
  left: 50%;
}
.col-xs-push-5 {
  left: 41.66666667%;
}
.col-xs-push-4 {
  left: 33.33333333%;
}
.col-xs-push-3 {
  left: 25%;
}
.col-xs-push-2 {
  left: 16.66666667%;
}
.col-xs-push-1 {
  left: 8.33333333%;
}
.col-xs-push-0 {
  left: auto;
}
.col-xs-offset-12 {
  margin-left: 100%;
}
.col-xs-offset-11 {
  margin-left: 91.66666667%;
}
.col-xs-offset-10 {
  margin-left: 83.33333333%;
}
.col-xs-offset-9 {
  margin-left: 75%;
}
.col-xs-offset-8 {
  margin-left: 66.66666667%;
}
.col-xs-offset-7 {
  margin-left: 58.33333333%;
}
.col-xs-offset-6 {
  margin-left: 50%;
}
.col-xs-offset-5 {
  margin-left: 41.66666667%;
}
.col-xs-offset-4 {
  margin-left: 33.33333333%;
}
.col-xs-offset-3 {
  margin-left: 25%;
}
.col-xs-offset-2 {
  margin-left: 16.66666667%;
}
.col-xs-offset-1 {
  margin-left: 8.33333333%;
}
.col-xs-offset-0 {
  margin-left: 0%;
}
@media (min-width: 768px) {
  .col-sm-1, .col-sm-2, .col-sm-3, .col-sm-4, .col-sm-5, .col-sm-6, .col-sm-7, .col-sm-8, .col-sm-9, .col-sm-10, .col-sm-11, .col-sm-12 {
    float: left;
  }
  .col-sm-12 {
    width: 100%;
  }
  .col-sm-11 {
    width: 91.66666667%;
  }
  .col-sm-10 {
    width: 83.33333333%;
  }
  .col-sm-9 {
    width: 75%;
  }
  .col-sm-8 {
    width: 66.66666667%;
  }
  .col-sm-7 {
    width: 58.33333333%;
  }
  .col-sm-6 {
    width: 50%;
  }
  .col-sm-5 {
    width: 41.66666667%;
  }
  .col-sm-4 {
    width: 33.33333333%;
  }
  .col-sm-3 {
    width: 25%;
  }
  .col-sm-2 {
    width: 16.66666667%;
  }
  .col-sm-1 {
    width: 8.33333333%;
  }
  .col-sm-pull-12 {
    right: 100%;
  }
  .col-sm-pull-11 {
    right: 91.66666667%;
  }
  .col-sm-pull-10 {
    right: 83.33333333%;
  }
  .col-sm-pull-9 {
    right: 75%;
  }
  .col-sm-pull-8 {
    right: 66.66666667%;
  }
  .col-sm-pull-7 {
    right: 58.33333333%;
  }
  .col-sm-pull-6 {
    right: 50%;
  }
  .col-sm-pull-5 {
    right: 41.66666667%;
  }
  .col-sm-pull-4 {
    right: 33.33333333%;
  }
  .col-sm-pull-3 {
    right: 25%;
  }
  .col-sm-pull-2 {
    right: 16.66666667%;
  }
  .col-sm-pull-1 {
    right: 8.33333333%;
  }
  .col-sm-pull-0 {
    right: auto;
  }
  .col-sm-push-12 {
    left: 100%;
  }
  .col-sm-push-11 {
    left: 91.66666667%;
  }
  .col-sm-push-10 {
    left: 83.33333333%;
  }
  .col-sm-push-9 {
    left: 75%;
  }
  .col-sm-push-8 {
    left: 66.66666667%;
  }
  .col-sm-push-7 {
    left: 58.33333333%;
  }
  .col-sm-push-6 {
    left: 50%;
  }
  .col-sm-push-5 {
    left: 41.66666667%;
  }
  .col-sm-push-4 {
    left: 33.33333333%;
  }
  .col-sm-push-3 {
    left: 25%;
  }
  .col-sm-push-2 {
    left: 16.66666667%;
  }
  .col-sm-push-1 {
    left: 8.33333333%;
  }
  .col-sm-push-0 {
    left: auto;
  }
  .col-sm-offset-12 {
    margin-left: 100%;
  }
  .col-sm-offset-11 {
    margin-left: 91.66666667%;
  }
  .col-sm-offset-10 {
    margin-left: 83.33333333%;
  }
  .col-sm-offset-9 {
    margin-left: 75%;
  }
  .col-sm-offset-8 {
    margin-left: 66.66666667%;
  }
  .col-sm-offset-7 {
    margin-left: 58.33333333%;
  }
  .col-sm-offset-6 {
    margin-left: 50%;
  }
  .col-sm-offset-5 {
    margin-left: 41.66666667%;
  }
  .col-sm-offset-4 {
    margin-left: 33.33333333%;
  }
  .col-sm-offset-3 {
    margin-left: 25%;
  }
  .col-sm-offset-2 {
    margin-left: 16.66666667%;
  }
  .col-sm-offset-1 {
    margin-left: 8.33333333%;
  }
  .col-sm-offset-0 {
    margin-left: 0%;
  }
}
@media (min-width: 992px) {
  .col-md-1, .col-md-2, .col-md-3, .col-md-4, .col-md-5, .col-md-6, .col-md-7, .col-md-8, .col-md-9, .col-md-10, .col-md-11, .col-md-12 {
    float: left;
  }
  .col-md-12 {
    width: 100%;
  }
  .col-md-11 {
    width: 91.66666667%;
  }
  .col-md-10 {
    width: 83.33333333%;
  }
  .col-md-9 {
    width: 75%;
  }
  .col-md-8 {
    width: 66.66666667%;
  }
  .col-md-7 {
    width: 58.33333333%;
  }
  .col-md-6 {
    width: 50%;
  }
  .col-md-5 {
    width: 41.66666667%;
  }
  .col-md-4 {
    width: 33.33333333%;
  }
  .col-md-3 {
    width: 25%;
  }
  .col-md-2 {
    width: 16.66666667%;
  }
  .col-md-1 {
    width: 8.33333333%;
  }
  .col-md-pull-12 {
    right: 100%;
  }
  .col-md-pull-11 {
    right: 91.66666667%;
  }
  .col-md-pull-10 {
    right: 83.33333333%;
  }
  .col-md-pull-9 {
    right: 75%;
  }
  .col-md-pull-8 {
    right: 66.66666667%;
  }
  .col-md-pull-7 {
    right: 58.33333333%;
  }
  .col-md-pull-6 {
    right: 50%;
  }
  .col-md-pull-5 {
    right: 41.66666667%;
  }
  .col-md-pull-4 {
    right: 33.33333333%;
  }
  .col-md-pull-3 {
    right: 25%;
  }
  .col-md-pull-2 {
    right: 16.66666667%;
  }
  .col-md-pull-1 {
    right: 8.33333333%;
  }
  .col-md-pull-0 {
    right: auto;
  }
  .col-md-push-12 {
    left: 100%;
  }
  .col-md-push-11 {
    left: 91.66666667%;
  }
  .col-md-push-10 {
    left: 83.33333333%;
  }
  .col-md-push-9 {
    left: 75%;
  }
  .col-md-push-8 {
    left: 66.66666667%;
  }
  .col-md-push-7 {
    left: 58.33333333%;
  }
  .col-md-push-6 {
    left: 50%;
  }
  .col-md-push-5 {
    left: 41.66666667%;
  }
  .col-md-push-4 {
    left: 33.33333333%;
  }
  .col-md-push-3 {
    left: 25%;
  }
  .col-md-push-2 {
    left: 16.66666667%;
  }
  .col-md-push-1 {
    left: 8.33333333%;
  }
  .col-md-push-0 {
    left: auto;
  }
  .col-md-offset-12 {
    margin-left: 100%;
  }
  .col-md-offset-11 {
    margin-left: 91.66666667%;
  }
  .col-md-offset-10 {
    margin-left: 83.33333333%;
  }
  .col-md-offset-9 {
    margin-left: 75%;
  }
  .col-md-offset-8 {
    margin-left: 66.66666667%;
  }
  .col-md-offset-7 {
    margin-left: 58.33333333%;
  }
  .col-md-offset-6 {
    margin-left: 50%;
  }
  .col-md-offset-5 {
    margin-left: 41.66666667%;
  }
  .col-md-offset-4 {
    margin-left: 33.33333333%;
  }
  .col-md-offset-3 {
    margin-left: 25%;
  }
  .col-md-offset-2 {
    margin-left: 16.66666667%;
  }
  .col-md-offset-1 {
    margin-left: 8.33333333%;
  }
  .col-md-offset-0 {
    margin-left: 0%;
  }
}
@media (min-width: 1200px) {
  .col-lg-1, .col-lg-2, .col-lg-3, .col-lg-4, .col-lg-5, .col-lg-6, .col-lg-7, .col-lg-8, .col-lg-9, .col-lg-10, .col-lg-11, .col-lg-12 {
    float: left;
  }
  .col-lg-12 {
    width: 100%;
  }
  .col-lg-11 {
    width: 91.66666667%;
  }
  .col-lg-10 {
    width: 83.33333333%;
  }
  .col-lg-9 {
    width: 75%;
  }
  .col-lg-8 {
    width: 66.66666667%;
  }
  .col-lg-7 {
    width: 58.33333333%;
  }
  .col-lg-6 {
    width: 50%;
  }
  .col-lg-5 {
    width: 41.66666667%;
  }
  .col-lg-4 {
    width: 33.33333333%;
  }
  .col-lg-3 {
    width: 25%;
  }
  .col-lg-2 {
    width: 16.66666667%;
  }
  .col-lg-1 {
    width: 8.33333333%;
  }
  .col-lg-pull-12 {
    right: 100%;
  }
  .col-lg-pull-11 {
    right: 91.66666667%;
  }
  .col-lg-pull-10 {
    right: 83.33333333%;
  }
  .col-lg-pull-9 {
    right: 75%;
  }
  .col-lg-pull-8 {
    right: 66.66666667%;
  }
  .col-lg-pull-7 {
    right: 58.33333333%;
  }
  .col-lg-pull-6 {
    right: 50%;
  }
  .col-lg-pull-5 {
    right: 41.66666667%;
  }
  .col-lg-pull-4 {
    right: 33.33333333%;
  }
  .col-lg-pull-3 {
    right: 25%;
  }
  .col-lg-pull-2 {
    right: 16.66666667%;
  }
  .col-lg-pull-1 {
    right: 8.33333333%;
  }
  .col-lg-pull-0 {
    right: auto;
  }
  .col-lg-push-12 {
    left: 100%;
  }
  .col-lg-push-11 {
    left: 91.66666667%;
  }
  .col-lg-push-10 {
    left: 83.33333333%;
  }
  .col-lg-push-9 {
    left: 75%;
  }
  .col-lg-push-8 {
    left: 66.66666667%;
  }
  .col-lg-push-7 {
    left: 58.33333333%;
  }
  .col-lg-push-6 {
    left: 50%;
  }
  .col-lg-push-5 {
    left: 41.66666667%;
  }
  .col-lg-push-4 {
    left: 33.33333333%;
  }
  .col-lg-push-3 {
    left: 25%;
  }
  .col-lg-push-2 {
    left: 16.66666667%;
  }
  .col-lg-push-1 {
    left: 8.33333333%;
  }
  .col-lg-push-0 {
    left: auto;
  }
  .col-lg-offset-12 {
    margin-left: 100%;
  }
  .col-lg-offset-11 {
    margin-left: 91.66666667%;
  }
  .col-lg-offset-10 {
    margin-left: 83.33333333%;
  }
  .col-lg-offset-9 {
    margin-left: 75%;
  }
  .col-lg-offset-8 {
    margin-left: 66.66666667%;
  }
  .col-lg-offset-7 {
    margin-left: 58.33333333%;
  }
  .col-lg-offset-6 {
    margin-left: 50%;
  }
  .col-lg-offset-5 {
    margin-left: 41.66666667%;
  }
  .col-lg-offset-4 {
    margin-left: 33.33333333%;
  }
  .col-lg-offset-3 {
    margin-left: 25%;
  }
  .col-lg-offset-2 {
    margin-left: 16.66666667%;
  }
  .col-lg-offset-1 {
    margin-left: 8.33333333%;
  }
  .col-lg-offset-0 {
    margin-left: 0%;
  }
}
table {
  background-color: transparent;
}
caption {
  padding-top: 8px;
  padding-bottom: 8px;
  color: #777777;
  text-align: left;
}
th {
  text-align: left;
}
.table {
  width: 100%;
  max-width: 100%;
  margin-bottom: 18px;
}
.table > thead > tr > th,
.table > tbody > tr > th,
.table > tfoot > tr > th,
.table > thead > tr > td,
.table > tbody > tr > td,
.table > tfoot > tr > td {
  padding: 8px;
  line-height: 1.42857143;
  vertical-align: top;
  border-top: 1px solid #ddd;
}
.table > thead > tr > th {
  vertical-align: bottom;
  border-bottom: 2px solid #ddd;
}
.table > caption + thead > tr:first-child > th,
.table > colgroup + thead > tr:first-child > th,
.table > thead:first-child > tr:first-child > th,
.table > caption + thead > tr:first-child > td,
.table > colgroup + thead > tr:first-child > td,
.table > thead:first-child > tr:first-child > td {
  border-top: 0;
}
.table > tbody + tbody {
  border-top: 2px solid #ddd;
}
.table .table {
  background-color: #fff;
}
.table-condensed > thead > tr > th,
.table-condensed > tbody > tr > th,
.table-condensed > tfoot > tr > th,
.table-condensed > thead > tr > td,
.table-condensed > tbody > tr > td,
.table-condensed > tfoot > tr > td {
  padding: 5px;
}
.table-bordered {
  border: 1px solid #ddd;
}
.table-bordered > thead > tr > th,
.table-bordered > tbody > tr > th,
.table-bordered > tfoot > tr > th,
.table-bordered > thead > tr > td,
.table-bordered > tbody > tr > td,
.table-bordered > tfoot > tr > td {
  border: 1px solid #ddd;
}
.table-bordered > thead > tr > th,
.table-bordered > thead > tr > td {
  border-bottom-width: 2px;
}
.table-striped > tbody > tr:nth-of-type(odd) {
  background-color: #f9f9f9;
}
.table-hover > tbody > tr:hover {
  background-color: #f5f5f5;
}
table col[class*="col-"] {
  position: static;
  float: none;
  display: table-column;
}
table td[class*="col-"],
table th[class*="col-"] {
  position: static;
  float: none;
  display: table-cell;
}
.table > thead > tr > td.active,
.table > tbody > tr > td.active,
.table > tfoot > tr > td.active,
.table > thead > tr > th.active,
.table > tbody > tr > th.active,
.table > tfoot > tr > th.active,
.table > thead > tr.active > td,
.table > tbody > tr.active > td,
.table > tfoot > tr.active > td,
.table > thead > tr.active > th,
.table > tbody > tr.active > th,
.table > tfoot > tr.active > th {
  background-color: #f5f5f5;
}
.table-hover > tbody > tr > td.active:hover,
.table-hover > tbody > tr > th.active:hover,
.table-hover > tbody > tr.active:hover > td,
.table-hover > tbody > tr:hover > .active,
.table-hover > tbody > tr.active:hover > th {
  background-color: #e8e8e8;
}
.table > thead > tr > td.success,
.table > tbody > tr > td.success,
.table > tfoot > tr > td.success,
.table > thead > tr > th.success,
.table > tbody > tr > th.success,
.table > tfoot > tr > th.success,
.table > thead > tr.success > td,
.table > tbody > tr.success > td,
.table > tfoot > tr.success > td,
.table > thead > tr.success > th,
.table > tbody > tr.success > th,
.table > tfoot > tr.success > th {
  background-color: #dff0d8;
}
.table-hover > tbody > tr > td.success:hover,
.table-hover > tbody > tr > th.success:hover,
.table-hover > tbody > tr.success:hover > td,
.table-hover > tbody > tr:hover > .success,
.table-hover > tbody > tr.success:hover > th {
  background-color: #d0e9c6;
}
.table > thead > tr > td.info,
.table > tbody > tr > td.info,
.table > tfoot > tr > td.info,
.table > thead > tr > th.info,
.table > tbody > tr > th.info,
.table > tfoot > tr > th.info,
.table > thead > tr.info > td,
.table > tbody > tr.info > td,
.table > tfoot > tr.info > td,
.table > thead > tr.info > th,
.table > tbody > tr.info > th,
.table > tfoot > tr.info > th {
  background-color: #d9edf7;
}
.table-hover > tbody > tr > td.info:hover,
.table-hover > tbody > tr > th.info:hover,
.table-hover > tbody > tr.info:hover > td,
.table-hover > tbody > tr:hover > .info,
.table-hover > tbody > tr.info:hover > th {
  background-color: #c4e3f3;
}
.table > thead > tr > td.warning,
.table > tbody > tr > td.warning,
.table > tfoot > tr > td.warning,
.table > thead > tr > th.warning,
.table > tbody > tr > th.warning,
.table > tfoot > tr > th.warning,
.table > thead > tr.warning > td,
.table > tbody > tr.warning > td,
.table > tfoot > tr.warning > td,
.table > thead > tr.warning > th,
.table > tbody > tr.warning > th,
.table > tfoot > tr.warning > th {
  background-color: #fcf8e3;
}
.table-hover > tbody > tr > td.warning:hover,
.table-hover > tbody > tr > th.warning:hover,
.table-hover > tbody > tr.warning:hover > td,
.table-hover > tbody > tr:hover > .warning,
.table-hover > tbody > tr.warning:hover > th {
  background-color: #faf2cc;
}
.table > thead > tr > td.danger,
.table > tbody > tr > td.danger,
.table > tfoot > tr > td.danger,
.table > thead > tr > th.danger,
.table > tbody > tr > th.danger,
.table > tfoot > tr > th.danger,
.table > thead > tr.danger > td,
.table > tbody > tr.danger > td,
.table > tfoot > tr.danger > td,
.table > thead > tr.danger > th,
.table > tbody > tr.danger > th,
.table > tfoot > tr.danger > th {
  background-color: #f2dede;
}
.table-hover > tbody > tr > td.danger:hover,
.table-hover > tbody > tr > th.danger:hover,
.table-hover > tbody > tr.danger:hover > td,
.table-hover > tbody > tr:hover > .danger,
.table-hover > tbody > tr.danger:hover > th {
  background-color: #ebcccc;
}
.table-responsive {
  overflow-x: auto;
  min-height: 0.01%;
}
@media screen and (max-width: 767px) {
  .table-responsive {
    width: 100%;
    margin-bottom: 13.5px;
    overflow-y: hidden;
    -ms-overflow-style: -ms-autohiding-scrollbar;
    border: 1px solid #ddd;
  }
  .table-responsive > .table {
    margin-bottom: 0;
  }
  .table-responsive > .table > thead > tr > th,
  .table-responsive > .table > tbody > tr > th,
  .table-responsive > .table > tfoot > tr > th,
  .table-responsive > .table > thead > tr > td,
  .table-responsive > .table > tbody > tr > td,
  .table-responsive > .table > tfoot > tr > td {
    white-space: nowrap;
  }
  .table-responsive > .table-bordered {
    border: 0;
  }
  .table-responsive > .table-bordered > thead > tr > th:first-child,
  .table-responsive > .table-bordered > tbody > tr > th:first-child,
  .table-responsive > .table-bordered > tfoot > tr > th:first-child,
  .table-responsive > .table-bordered > thead > tr > td:first-child,
  .table-responsive > .table-bordered > tbody > tr > td:first-child,
  .table-responsive > .table-bordered > tfoot > tr > td:first-child {
    border-left: 0;
  }
  .table-responsive > .table-bordered > thead > tr > th:last-child,
  .table-responsive > .table-bordered > tbody > tr > th:last-child,
  .table-responsive > .table-bordered > tfoot > tr > th:last-child,
  .table-responsive > .table-bordered > thead > tr > td:last-child,
  .table-responsive > .table-bordered > tbody > tr > td:last-child,
  .table-responsive > .table-bordered > tfoot > tr > td:last-child {
    border-right: 0;
  }
  .table-responsive > .table-bordered > tbody > tr:last-child > th,
  .table-responsive > .table-bordered > tfoot > tr:last-child > th,
  .table-responsive > .table-bordered > tbody > tr:last-child > td,
  .table-responsive > .table-bordered > tfoot > tr:last-child > td {
    border-bottom: 0;
  }
}
fieldset {
  padding: 0;
  margin: 0;
  border: 0;
  min-width: 0;
}
legend {
  display: block;
  width: 100%;
  padding: 0;
  margin-bottom: 18px;
  font-size: 19.5px;
  line-height: inherit;
  color: #333333;
  border: 0;
  border-bottom: 1px solid #e5e5e5;
}
label {
  display: inline-block;
  max-width: 100%;
  margin-bottom: 5px;
  font-weight: bold;
}
input[type="search"] {
  -webkit-box-sizing: border-box;
  -moz-box-sizing: border-box;
  box-sizing: border-box;
}
input[type="radio"],
input[type="checkbox"] {
  margin: 4px 0 0;
  margin-top: 1px \9;
  line-height: normal;
}
input[type="file"] {
  display: block;
}
input[type="range"] {
  display: block;
  width: 100%;
}
select[multiple],
select[size] {
  height: auto;
}
input[type="file"]:focus,
input[type="radio"]:focus,
input[type="checkbox"]:focus {
  outline: 5px auto -webkit-focus-ring-color;
  outline-offset: -2px;
}
output {
  display: block;
  padding-top: 7px;
  font-size: 13px;
  line-height: 1.42857143;
  color: #555555;
}
.form-control {
  display: block;
  width: 100%;
  height: 32px;
  padding: 6px 12px;
  font-size: 13px;
  line-height: 1.42857143;
  color: #555555;
  background-color: #fff;
  background-image: none;
  border: 1px solid #ccc;
  border-radius: 2px;
  -webkit-box-shadow: inset 0 1px 1px rgba(0, 0, 0, 0.075);
  box-shadow: inset 0 1px 1px rgba(0, 0, 0, 0.075);
  -webkit-transition: border-color ease-in-out .15s, box-shadow ease-in-out .15s;
  -o-transition: border-color ease-in-out .15s, box-shadow ease-in-out .15s;
  transition: border-color ease-in-out .15s, box-shadow ease-in-out .15s;
}
.form-control:focus {
  border-color: #66afe9;
  outline: 0;
  -webkit-box-shadow: inset 0 1px 1px rgba(0,0,0,.075), 0 0 8px rgba(102, 175, 233, 0.6);
  box-shadow: inset 0 1px 1px rgba(0,0,0,.075), 0 0 8px rgba(102, 175, 233, 0.6);
}
.form-control::-moz-placeholder {
  color: #999;
  opacity: 1;
}
.form-control:-ms-input-placeholder {
  color: #999;
}
.form-control::-webkit-input-placeholder {
  color: #999;
}
.form-control::-ms-expand {
  border: 0;
  background-color: transparent;
}
.form-control[disabled],
.form-control[readonly],
fieldset[disabled] .form-control {
  background-color: #eeeeee;
  opacity: 1;
}
.form-control[disabled],
fieldset[disabled] .form-control {
  cursor: not-allowed;
}
textarea.form-control {
  height: auto;
}
input[type="search"] {
  -webkit-appearance: none;
}
@media screen and (-webkit-min-device-pixel-ratio: 0) {
  input[type="date"].form-control,
  input[type="time"].form-control,
  input[type="datetime-local"].form-control,
  input[type="month"].form-control {
    line-height: 32px;
  }
  input[type="date"].input-sm,
  input[type="time"].input-sm,
  input[type="datetime-local"].input-sm,
  input[type="month"].input-sm,
  .input-group-sm input[type="date"],
  .input-group-sm input[type="time"],
  .input-group-sm input[type="datetime-local"],
  .input-group-sm input[type="month"] {
    line-height: 30px;
  }
  input[type="date"].input-lg,
  input[type="time"].input-lg,
  input[type="datetime-local"].input-lg,
  input[type="month"].input-lg,
  .input-group-lg input[type="date"],
  .input-group-lg input[type="time"],
  .input-group-lg input[type="datetime-local"],
  .input-group-lg input[type="month"] {
    line-height: 45px;
  }
}
.form-group {
  margin-bottom: 15px;
}
.radio,
.checkbox {
  position: relative;
  display: block;
  margin-top: 10px;
  margin-bottom: 10px;
}
.radio label,
.checkbox label {
  min-height: 18px;
  padding-left: 20px;
  margin-bottom: 0;
  font-weight: normal;
  cursor: pointer;
}
.radio input[type="radio"],
.radio-inline input[type="radio"],
.checkbox input[type="checkbox"],
.checkbox-inline input[type="checkbox"] {
  position: absolute;
  margin-left: -20px;
  margin-top: 4px \9;
}
.radio + .radio,
.checkbox + .checkbox {
  margin-top: -5px;
}
.radio-inline,
.checkbox-inline {
  position: relative;
  display: inline-block;
  padding-left: 20px;
  margin-bottom: 0;
  vertical-align: middle;
  font-weight: normal;
  cursor: pointer;
}
.radio-inline + .radio-inline,
.checkbox-inline + .checkbox-inline {
  margin-top: 0;
  margin-left: 10px;
}
input[type="radio"][disabled],
input[type="checkbox"][disabled],
input[type="radio"].disabled,
input[type="checkbox"].disabled,
fieldset[disabled] input[type="radio"],
fieldset[disabled] input[type="checkbox"] {
  cursor: not-allowed;
}
.radio-inline.disabled,
.checkbox-inline.disabled,
fieldset[disabled] .radio-inline,
fieldset[disabled] .checkbox-inline {
  cursor: not-allowed;
}
.radio.disabled label,
.checkbox.disabled label,
fieldset[disabled] .radio label,
fieldset[disabled] .checkbox label {
  cursor: not-allowed;
}
.form-control-static {
  padding-top: 7px;
  padding-bottom: 7px;
  margin-bottom: 0;
  min-height: 31px;
}
.form-control-static.input-lg,
.form-control-static.input-sm {
  padding-left: 0;
  padding-right: 0;
}
.input-sm {
  height: 30px;
  padding: 5px 10px;
  font-size: 12px;
  line-height: 1.5;
  border-radius: 1px;
}
select.input-sm {
  height: 30px;
  line-height: 30px;
}
textarea.input-sm,
select[multiple].input-sm {
  height: auto;
}
.form-group-sm .form-control {
  height: 30px;
  padding: 5px 10px;
  font-size: 12px;
  line-height: 1.5;
  border-radius: 1px;
}
.form-group-sm select.form-control {
  height: 30px;
  line-height: 30px;
}
.form-group-sm textarea.form-control,
.form-group-sm select[multiple].form-control {
  height: auto;
}
.form-group-sm .form-control-static {
  height: 30px;
  min-height: 30px;
  padding: 6px 10px;
  font-size: 12px;
  line-height: 1.5;
}
.input-lg {
  height: 45px;
  padding: 10px 16px;
  font-size: 17px;
  line-height: 1.3333333;
  border-radius: 3px;
}
select.input-lg {
  height: 45px;
  line-height: 45px;
}
textarea.input-lg,
select[multiple].input-lg {
  height: auto;
}
.form-group-lg .form-control {
  height: 45px;
  padding: 10px 16px;
  font-size: 17px;
  line-height: 1.3333333;
  border-radius: 3px;
}
.form-group-lg select.form-control {
  height: 45px;
  line-height: 45px;
}
.form-group-lg textarea.form-control,
.form-group-lg select[multiple].form-control {
  height: auto;
}
.form-group-lg .form-control-static {
  height: 45px;
  min-height: 35px;
  padding: 11px 16px;
  font-size: 17px;
  line-height: 1.3333333;
}
.has-feedback {
  position: relative;
}
.has-feedback .form-control {
  padding-right: 40px;
}
.form-control-feedback {
  position: absolute;
  top: 0;
  right: 0;
  z-index: 2;
  display: block;
  width: 32px;
  height: 32px;
  line-height: 32px;
  text-align: center;
  pointer-events: none;
}
.input-lg + .form-control-feedback,
.input-group-lg + .form-control-feedback,
.form-group-lg .form-control + .form-control-feedback {
  width: 45px;
  height: 45px;
  line-height: 45px;
}
.input-sm + .form-control-feedback,
.input-group-sm + .form-control-feedback,
.form-group-sm .form-control + .form-control-feedback {
  width: 30px;
  height: 30px;
  line-height: 30px;
}
.has-success .help-block,
.has-success .control-label,
.has-success .radio,
.has-success .checkbox,
.has-success .radio-inline,
.has-success .checkbox-inline,
.has-success.radio label,
.has-success.checkbox label,
.has-success.radio-inline label,
.has-success.checkbox-inline label {
  color: #3c763d;
}
.has-success .form-control {
  border-color: #3c763d;
  -webkit-box-shadow: inset 0 1px 1px rgba(0, 0, 0, 0.075);
  box-shadow: inset 0 1px 1px rgba(0, 0, 0, 0.075);
}
.has-success .form-control:focus {
  border-color: #2b542c;
  -webkit-box-shadow: inset 0 1px 1px rgba(0, 0, 0, 0.075), 0 0 6px #67b168;
  box-shadow: inset 0 1px 1px rgba(0, 0, 0, 0.075), 0 0 6px #67b168;
}
.has-success .input-group-addon {
  color: #3c763d;
  border-color: #3c763d;
  background-color: #dff0d8;
}
.has-success .form-control-feedback {
  color: #3c763d;
}
.has-warning .help-block,
.has-warning .control-label,
.has-warning .radio,
.has-warning .checkbox,
.has-warning .radio-inline,
.has-warning .checkbox-inline,
.has-warning.radio label,
.has-warning.checkbox label,
.has-warning.radio-inline label,
.has-warning.checkbox-inline label {
  color: #8a6d3b;
}
.has-warning .form-control {
  border-color: #8a6d3b;
  -webkit-box-shadow: inset 0 1px 1px rgba(0, 0, 0, 0.075);
  box-shadow: inset 0 1px 1px rgba(0, 0, 0, 0.075);
}
.has-warning .form-control:focus {
  border-color: #66512c;
  -webkit-box-shadow: inset 0 1px 1px rgba(0, 0, 0, 0.075), 0 0 6px #c0a16b;
  box-shadow: inset 0 1px 1px rgba(0, 0, 0, 0.075), 0 0 6px #c0a16b;
}
.has-warning .input-group-addon {
  color: #8a6d3b;
  border-color: #8a6d3b;
  background-color: #fcf8e3;
}
.has-warning .form-control-feedback {
  color: #8a6d3b;
}
.has-error .help-block,
.has-error .control-label,
.has-error .radio,
.has-error .checkbox,
.has-error .radio-inline,
.has-error .checkbox-inline,
.has-error.radio label,
.has-error.checkbox label,
.has-error.radio-inline label,
.has-error.checkbox-inline label {
  color: #a94442;
}
.has-error .form-control {
  border-color: #a94442;
  -webkit-box-shadow: inset 0 1px 1px rgba(0, 0, 0, 0.075);
  box-shadow: inset 0 1px 1px rgba(0, 0, 0, 0.075);
}
.has-error .form-control:focus {
  border-color: #843534;
  -webkit-box-shadow: inset 0 1px 1px rgba(0, 0, 0, 0.075), 0 0 6px #ce8483;
  box-shadow: inset 0 1px 1px rgba(0, 0, 0, 0.075), 0 0 6px #ce8483;
}
.has-error .input-group-addon {
  color: #a94442;
  border-color: #a94442;
  background-color: #f2dede;
}
.has-error .form-control-feedback {
  color: #a94442;
}
.has-feedback label ~ .form-control-feedback {
  top: 23px;
}
.has-feedback label.sr-only ~ .form-control-feedback {
  top: 0;
}
.help-block {
  display: block;
  margin-top: 5px;
  margin-bottom: 10px;
  color: #404040;
}
@media (min-width: 768px) {
  .form-inline .form-group {
    display: inline-block;
    margin-bottom: 0;
    vertical-align: middle;
  }
  .form-inline .form-control {
    display: inline-block;
    width: auto;
    vertical-align: middle;
  }
  .form-inline .form-control-static {
    display: inline-block;
  }
  .form-inline .input-group {
    display: inline-table;
    vertical-align: middle;
  }
  .form-inline .input-group .input-group-addon,
  .form-inline .input-group .input-group-btn,
  .form-inline .input-group .form-control {
    width: auto;
  }
  .form-inline .input-group > .form-control {
    width: 100%;
  }
  .form-inline .control-label {
    margin-bottom: 0;
    vertical-align: middle;
  }
  .form-inline .radio,
  .form-inline .checkbox {
    display: inline-block;
    margin-top: 0;
    margin-bottom: 0;
    vertical-align: middle;
  }
  .form-inline .radio label,
  .form-inline .checkbox label {
    padding-left: 0;
  }
  .form-inline .radio input[type="radio"],
  .form-inline .checkbox input[type="checkbox"] {
    position: relative;
    margin-left: 0;
  }
  .form-inline .has-feedback .form-control-feedback {
    top: 0;
  }
}
.form-horizontal .radio,
.form-horizontal .checkbox,
.form-horizontal .radio-inline,
.form-horizontal .checkbox-inline {
  margin-top: 0;
  margin-bottom: 0;
  padding-top: 7px;
}
.form-horizontal .radio,
.form-horizontal .checkbox {
  min-height: 25px;
}
.form-horizontal .form-group {
  margin-left: 0px;
  margin-right: 0px;
}
@media (min-width: 768px) {
  .form-horizontal .control-label {
    text-align: right;
    margin-bottom: 0;
    padding-top: 7px;
  }
}
.form-horizontal .has-feedback .form-control-feedback {
  right: 0px;
}
@media (min-width: 768px) {
  .form-horizontal .form-group-lg .control-label {
    padding-top: 11px;
    font-size: 17px;
  }
}
@media (min-width: 768px) {
  .form-horizontal .form-group-sm .control-label {
    padding-top: 6px;
    font-size: 12px;
  }
}
.btn {
  display: inline-block;
  margin-bottom: 0;
  font-weight: normal;
  text-align: center;
  vertical-align: middle;
  touch-action: manipulation;
  cursor: pointer;
  background-image: none;
  border: 1px solid transparent;
  white-space: nowrap;
  padding: 6px 12px;
  font-size: 13px;
  line-height: 1.42857143;
  border-radius: 2px;
  -webkit-user-select: none;
  -moz-user-select: none;
  -ms-user-select: none;
  user-select: none;
}
.btn:focus,
.btn:active:focus,
.btn.active:focus,
.btn.focus,
.btn:active.focus,
.btn.active.focus {
  outline: 5px auto -webkit-focus-ring-color;
  outline-offset: -2px;
}
.btn:hover,
.btn:focus,
.btn.focus {
  color: #333;
  text-decoration: none;
}
.btn:active,
.btn.active {
  outline: 0;
  background-image: none;
  -webkit-box-shadow: inset 0 3px 5px rgba(0, 0, 0, 0.125);
  box-shadow: inset 0 3px 5px rgba(0, 0, 0, 0.125);
}
.btn.disabled,
.btn[disabled],
fieldset[disabled] .btn {
  cursor: not-allowed;
  opacity: 0.65;
  filter: alpha(opacity=65);
  -webkit-box-shadow: none;
  box-shadow: none;
}
a.btn.disabled,
fieldset[disabled] a.btn {
  pointer-events: none;
}
.btn-default {
  color: #333;
  background-color: #fff;
  border-color: #ccc;
}
.btn-default:focus,
.btn-default.focus {
  color: #333;
  background-color: #e6e6e6;
  border-color: #8c8c8c;
}
.btn-default:hover {
  color: #333;
  background-color: #e6e6e6;
  border-color: #adadad;
}
.btn-default:active,
.btn-default.active,
.open > .dropdown-toggle.btn-default {
  color: #333;
  background-color: #e6e6e6;
  border-color: #adadad;
}
.btn-default:active:hover,
.btn-default.active:hover,
.open > .dropdown-toggle.btn-default:hover,
.btn-default:active:focus,
.btn-default.active:focus,
.open > .dropdown-toggle.btn-default:focus,
.btn-default:active.focus,
.btn-default.active.focus,
.open > .dropdown-toggle.btn-default.focus {
  color: #333;
  background-color: #d4d4d4;
  border-color: #8c8c8c;
}
.btn-default:active,
.btn-default.active,
.open > .dropdown-toggle.btn-default {
  background-image: none;
}
.btn-default.disabled:hover,
.btn-default[disabled]:hover,
fieldset[disabled] .btn-default:hover,
.btn-default.disabled:focus,
.btn-default[disabled]:focus,
fieldset[disabled] .btn-default:focus,
.btn-default.disabled.focus,
.btn-default[disabled].focus,
fieldset[disabled] .btn-default.focus {
  background-color: #fff;
  border-color: #ccc;
}
.btn-default .badge {
  color: #fff;
  background-color: #333;
}
.btn-primary {
  color: #fff;
  background-color: #337ab7;
  border-color: #2e6da4;
}
.btn-primary:focus,
.btn-primary.focus {
  color: #fff;
  background-color: #286090;
  border-color: #122b40;
}
.btn-primary:hover {
  color: #fff;
  background-color: #286090;
  border-color: #204d74;
}
.btn-primary:active,
.btn-primary.active,
.open > .dropdown-toggle.btn-primary {
  color: #fff;
  background-color: #286090;
  border-color: #204d74;
}
.btn-primary:active:hover,
.btn-primary.active:hover,
.open > .dropdown-toggle.btn-primary:hover,
.btn-primary:active:focus,
.btn-primary.active:focus,
.open > .dropdown-toggle.btn-primary:focus,
.btn-primary:active.focus,
.btn-primary.active.focus,
.open > .dropdown-toggle.btn-primary.focus {
  color: #fff;
  background-color: #204d74;
  border-color: #122b40;
}
.btn-primary:active,
.btn-primary.active,
.open > .dropdown-toggle.btn-primary {
  background-image: none;
}
.btn-primary.disabled:hover,
.btn-primary[disabled]:hover,
fieldset[disabled] .btn-primary:hover,
.btn-primary.disabled:focus,
.btn-primary[disabled]:focus,
fieldset[disabled] .btn-primary:focus,
.btn-primary.disabled.focus,
.btn-primary[disabled].focus,
fieldset[disabled] .btn-primary.focus {
  background-color: #337ab7;
  border-color: #2e6da4;
}
.btn-primary .badge {
  color: #337ab7;
  background-color: #fff;
}
.btn-success {
  color: #fff;
  background-color: #5cb85c;
  border-color: #4cae4c;
}
.btn-success:focus,
.btn-success.focus {
  color: #fff;
  background-color: #449d44;
  border-color: #255625;
}
.btn-success:hover {
  color: #fff;
  background-color: #449d44;
  border-color: #398439;
}
.btn-success:active,
.btn-success.active,
.open > .dropdown-toggle.btn-success {
  color: #fff;
  background-color: #449d44;
  border-color: #398439;
}
.btn-success:active:hover,
.btn-success.active:hover,
.open > .dropdown-toggle.btn-success:hover,
.btn-success:active:focus,
.btn-success.active:focus,
.open > .dropdown-toggle.btn-success:focus,
.btn-success:active.focus,
.btn-success.active.focus,
.open > .dropdown-toggle.btn-success.focus {
  color: #fff;
  background-color: #398439;
  border-color: #255625;
}
.btn-success:active,
.btn-success.active,
.open > .dropdown-toggle.btn-success {
  background-image: none;
}
.btn-success.disabled:hover,
.btn-success[disabled]:hover,
fieldset[disabled] .btn-success:hover,
.btn-success.disabled:focus,
.btn-success[disabled]:focus,
fieldset[disabled] .btn-success:focus,
.btn-success.disabled.focus,
.btn-success[disabled].focus,
fieldset[disabled] .btn-success.focus {
  background-color: #5cb85c;
  border-color: #4cae4c;
}
.btn-success .badge {
  color: #5cb85c;
  background-color: #fff;
}
.btn-info {
  color: #fff;
  background-color: #5bc0de;
  border-color: #46b8da;
}
.btn-info:focus,
.btn-info.focus {
  color: #fff;
  background-color: #31b0d5;
  border-color: #1b6d85;
}
.btn-info:hover {
  color: #fff;
  background-color: #31b0d5;
  border-color: #269abc;
}
.btn-info:active,
.btn-info.active,
.open > .dropdown-toggle.btn-info {
  color: #fff;
  background-color: #31b0d5;
  border-color: #269abc;
}
.btn-info:active:hover,
.btn-info.active:hover,
.open > .dropdown-toggle.btn-info:hover,
.btn-info:active:focus,
.btn-info.active:focus,
.open > .dropdown-toggle.btn-info:focus,
.btn-info:active.focus,
.btn-info.active.focus,
.open > .dropdown-toggle.btn-info.focus {
  color: #fff;
  background-color: #269abc;
  border-color: #1b6d85;
}
.btn-info:active,
.btn-info.active,
.open > .dropdown-toggle.btn-info {
  background-image: none;
}
.btn-info.disabled:hover,
.btn-info[disabled]:hover,
fieldset[disabled] .btn-info:hover,
.btn-info.disabled:focus,
.btn-info[disabled]:focus,
fieldset[disabled] .btn-info:focus,
.btn-info.disabled.focus,
.btn-info[disabled].focus,
fieldset[disabled] .btn-info.focus {
  background-color: #5bc0de;
  border-color: #46b8da;
}
.btn-info .badge {
  color: #5bc0de;
  background-color: #fff;
}
.btn-warning {
  color: #fff;
  background-color: #f0ad4e;
  border-color: #eea236;
}
.btn-warning:focus,
.btn-warning.focus {
  color: #fff;
  background-color: #ec971f;
  border-color: #985f0d;
}
.btn-warning:hover {
  color: #fff;
  background-color: #ec971f;
  border-color: #d58512;
}
.btn-warning:active,
.btn-warning.active,
.open > .dropdown-toggle.btn-warning {
  color: #fff;
  background-color: #ec971f;
  border-color: #d58512;
}
.btn-warning:active:hover,
.btn-warning.active:hover,
.open > .dropdown-toggle.btn-warning:hover,
.btn-warning:active:focus,
.btn-warning.active:focus,
.open > .dropdown-toggle.btn-warning:focus,
.btn-warning:active.focus,
.btn-warning.active.focus,
.open > .dropdown-toggle.btn-warning.focus {
  color: #fff;
  background-color: #d58512;
  border-color: #985f0d;
}
.btn-warning:active,
.btn-warning.active,
.open > .dropdown-toggle.btn-warning {
  background-image: none;
}
.btn-warning.disabled:hover,
.btn-warning[disabled]:hover,
fieldset[disabled] .btn-warning:hover,
.btn-warning.disabled:focus,
.btn-warning[disabled]:focus,
fieldset[disabled] .btn-warning:focus,
.btn-warning.disabled.focus,
.btn-warning[disabled].focus,
fieldset[disabled] .btn-warning.focus {
  background-color: #f0ad4e;
  border-color: #eea236;
}
.btn-warning .badge {
  color: #f0ad4e;
  background-color: #fff;
}
.btn-danger {
  color: #fff;
  background-color: #d9534f;
  border-color: #d43f3a;
}
.btn-danger:focus,
.btn-danger.focus {
  color: #fff;
  background-color: #c9302c;
  border-color: #761c19;
}
.btn-danger:hover {
  color: #fff;
  background-color: #c9302c;
  border-color: #ac2925;
}
.btn-danger:active,
.btn-danger.active,
.open > .dropdown-toggle.btn-danger {
  color: #fff;
  background-color: #c9302c;
  border-color: #ac2925;
}
.btn-danger:active:hover,
.btn-danger.active:hover,
.open > .dropdown-toggle.btn-danger:hover,
.btn-danger:active:focus,
.btn-danger.active:focus,
.open > .dropdown-toggle.btn-danger:focus,
.btn-danger:active.focus,
.btn-danger.active.focus,
.open > .dropdown-toggle.btn-danger.focus {
  color: #fff;
  background-color: #ac2925;
  border-color: #761c19;
}
.btn-danger:active,
.btn-danger.active,
.open > .dropdown-toggle.btn-danger {
  background-image: none;
}
.btn-danger.disabled:hover,
.btn-danger[disabled]:hover,
fieldset[disabled] .btn-danger:hover,
.btn-danger.disabled:focus,
.btn-danger[disabled]:focus,
fieldset[disabled] .btn-danger:focus,
.btn-danger.disabled.focus,
.btn-danger[disabled].focus,
fieldset[disabled] .btn-danger.focus {
  background-color: #d9534f;
  border-color: #d43f3a;
}
.btn-danger .badge {
  color: #d9534f;
  background-color: #fff;
}
.btn-link {
  color: #337ab7;
  font-weight: normal;
  border-radius: 0;
}
.btn-link,
.btn-link:active,
.btn-link.active,
.btn-link[disabled],
fieldset[disabled] .btn-link {
  background-color: transparent;
  -webkit-box-shadow: none;
  box-shadow: none;
}
.btn-link,
.btn-link:hover,
.btn-link:focus,
.btn-link:active {
  border-color: transparent;
}
.btn-link:hover,
.btn-link:focus {
  color: #23527c;
  text-decoration: underline;
  background-color: transparent;
}
.btn-link[disabled]:hover,
fieldset[disabled] .btn-link:hover,
.btn-link[disabled]:focus,
fieldset[disabled] .btn-link:focus {
  color: #777777;
  text-decoration: none;
}
.btn-lg,
.btn-group-lg > .btn {
  padding: 10px 16px;
  font-size: 17px;
  line-height: 1.3333333;
  border-radius: 3px;
}
.btn-sm,
.btn-group-sm > .btn {
  padding: 5px 10px;
  font-size: 12px;
  line-height: 1.5;
  border-radius: 1px;
}
.btn-xs,
.btn-group-xs > .btn {
  padding: 1px 5px;
  font-size: 12px;
  line-height: 1.5;
  border-radius: 1px;
}
.btn-block {
  display: block;
  width: 100%;
}
.btn-block + .btn-block {
  margin-top: 5px;
}
input[type="submit"].btn-block,
input[type="reset"].btn-block,
input[type="button"].btn-block {
  width: 100%;
}
.fade {
  opacity: 0;
  -webkit-transition: opacity 0.15s linear;
  -o-transition: opacity 0.15s linear;
  transition: opacity 0.15s linear;
}
.fade.in {
  opacity: 1;
}
.collapse {
  display: none;
}
.collapse.in {
  display: block;
}
tr.collapse.in {
  display: table-row;
}
tbody.collapse.in {
  display: table-row-group;
}
.collapsing {
  position: relative;
  height: 0;
  overflow: hidden;
  -webkit-transition-property: height, visibility;
  transition-property: height, visibility;
  -webkit-transition-duration: 0.35s;
  transition-duration: 0.35s;
  -webkit-transition-timing-function: ease;
  transition-timing-function: ease;
}
.caret {
  display: inline-block;
  width: 0;
  height: 0;
  margin-left: 2px;
  vertical-align: middle;
  border-top: 4px dashed;
  border-top: 4px solid \9;
  border-right: 4px solid transparent;
  border-left: 4px solid transparent;
}
.dropup,
.dropdown {
  position: relative;
}
.dropdown-toggle:focus {
  outline: 0;
}
.dropdown-menu {
  position: absolute;
  top: 100%;
  left: 0;
  z-index: 1000;
  display: none;
  float: left;
  min-width: 160px;
  padding: 5px 0;
  margin: 2px 0 0;
  list-style: none;
  font-size: 13px;
  text-align: left;
  background-color: #fff;
  border: 1px solid #ccc;
  border: 1px solid rgba(0, 0, 0, 0.15);
  border-radius: 2px;
  -webkit-box-shadow: 0 6px 12px rgba(0, 0, 0, 0.175);
  box-shadow: 0 6px 12px rgba(0, 0, 0, 0.175);
  background-clip: padding-box;
}
.dropdown-menu.pull-right {
  right: 0;
  left: auto;
}
.dropdown-menu .divider {
  height: 1px;
  margin: 8px 0;
  overflow: hidden;
  background-color: #e5e5e5;
}
.dropdown-menu > li > a {
  display: block;
  padding: 3px 20px;
  clear: both;
  font-weight: normal;
  line-height: 1.42857143;
  color: #333333;
  white-space: nowrap;
}
.dropdown-menu > li > a:hover,
.dropdown-menu > li > a:focus {
  text-decoration: none;
  color: #262626;
  background-color: #f5f5f5;
}
.dropdown-menu > .active > a,
.dropdown-menu > .active > a:hover,
.dropdown-menu > .active > a:focus {
  color: #fff;
  text-decoration: none;
  outline: 0;
  background-color: #337ab7;
}
.dropdown-menu > .disabled > a,
.dropdown-menu > .disabled > a:hover,
.dropdown-menu > .disabled > a:focus {
  color: #777777;
}
.dropdown-menu > .disabled > a:hover,
.dropdown-menu > .disabled > a:focus {
  text-decoration: none;
  background-color: transparent;
  background-image: none;
  filter: progid:DXImageTransform.Microsoft.gradient(enabled = false);
  cursor: not-allowed;
}
.open > .dropdown-menu {
  display: block;
}
.open > a {
  outline: 0;
}
.dropdown-menu-right {
  left: auto;
  right: 0;
}
.dropdown-menu-left {
  left: 0;
  right: auto;
}
.dropdown-header {
  display: block;
  padding: 3px 20px;
  font-size: 12px;
  line-height: 1.42857143;
  color: #777777;
  white-space: nowrap;
}
.dropdown-backdrop {
  position: fixed;
  left: 0;
  right: 0;
  bottom: 0;
  top: 0;
  z-index: 990;
}
.pull-right > .dropdown-menu {
  right: 0;
  left: auto;
}
.dropup .caret,
.navbar-fixed-bottom .dropdown .caret {
  border-top: 0;
  border-bottom: 4px dashed;
  border-bottom: 4px solid \9;
  content: "";
}
.dropup .dropdown-menu,
.navbar-fixed-bottom .dropdown .dropdown-menu {
  top: auto;
  bottom: 100%;
  margin-bottom: 2px;
}
@media (min-width: 541px) {
  .navbar-right .dropdown-menu {
    left: auto;
    right: 0;
  }
  .navbar-right .dropdown-menu-left {
    left: 0;
    right: auto;
  }
}
.btn-group,
.btn-group-vertical {
  position: relative;
  display: inline-block;
  vertical-align: middle;
}
.btn-group > .btn,
.btn-group-vertical > .btn {
  position: relative;
  float: left;
}
.btn-group > .btn:hover,
.btn-group-vertical > .btn:hover,
.btn-group > .btn:focus,
.btn-group-vertical > .btn:focus,
.btn-group > .btn:active,
.btn-group-vertical > .btn:active,
.btn-group > .btn.active,
.btn-group-vertical > .btn.active {
  z-index: 2;
}
.btn-group .btn + .btn,
.btn-group .btn + .btn-group,
.btn-group .btn-group + .btn,
.btn-group .btn-group + .btn-group {
  margin-left: -1px;
}
.btn-toolbar {
  margin-left: -5px;
}
.btn-toolbar .btn,
.btn-toolbar .btn-group,
.btn-toolbar .input-group {
  float: left;
}
.btn-toolbar > .btn,
.btn-toolbar > .btn-group,
.btn-toolbar > .input-group {
  margin-left: 5px;
}
.btn-group > .btn:not(:first-child):not(:last-child):not(.dropdown-toggle) {
  border-radius: 0;
}
.btn-group > .btn:first-child {
  margin-left: 0;
}
.btn-group > .btn:first-child:not(:last-child):not(.dropdown-toggle) {
  border-bottom-right-radius: 0;
  border-top-right-radius: 0;
}
.btn-group > .btn:last-child:not(:first-child),
.btn-group > .dropdown-toggle:not(:first-child) {
  border-bottom-left-radius: 0;
  border-top-left-radius: 0;
}
.btn-group > .btn-group {
  float: left;
}
.btn-group > .btn-group:not(:first-child):not(:last-child) > .btn {
  border-radius: 0;
}
.btn-group > .btn-group:first-child:not(:last-child) > .btn:last-child,
.btn-group > .btn-group:first-child:not(:last-child) > .dropdown-toggle {
  border-bottom-right-radius: 0;
  border-top-right-radius: 0;
}
.btn-group > .btn-group:last-child:not(:first-child) > .btn:first-child {
  border-bottom-left-radius: 0;
  border-top-left-radius: 0;
}
.btn-group .dropdown-toggle:active,
.btn-group.open .dropdown-toggle {
  outline: 0;
}
.btn-group > .btn + .dropdown-toggle {
  padding-left: 8px;
  padding-right: 8px;
}
.btn-group > .btn-lg + .dropdown-toggle {
  padding-left: 12px;
  padding-right: 12px;
}
.btn-group.open .dropdown-toggle {
  -webkit-box-shadow: inset 0 3px 5px rgba(0, 0, 0, 0.125);
  box-shadow: inset 0 3px 5px rgba(0, 0, 0, 0.125);
}
.btn-group.open .dropdown-toggle.btn-link {
  -webkit-box-shadow: none;
  box-shadow: none;
}
.btn .caret {
  margin-left: 0;
}
.btn-lg .caret {
  border-width: 5px 5px 0;
  border-bottom-width: 0;
}
.dropup .btn-lg .caret {
  border-width: 0 5px 5px;
}
.btn-group-vertical > .btn,
.btn-group-vertical > .btn-group,
.btn-group-vertical > .btn-group > .btn {
  display: block;
  float: none;
  width: 100%;
  max-width: 100%;
}
.btn-group-vertical > .btn-group > .btn {
  float: none;
}
.btn-group-vertical > .btn + .btn,
.btn-group-vertical > .btn + .btn-group,
.btn-group-vertical > .btn-group + .btn,
.btn-group-vertical > .btn-group + .btn-group {
  margin-top: -1px;
  margin-left: 0;
}
.btn-group-vertical > .btn:not(:first-child):not(:last-child) {
  border-radius: 0;
}
.btn-group-vertical > .btn:first-child:not(:last-child) {
  border-top-right-radius: 2px;
  border-top-left-radius: 2px;
  border-bottom-right-radius: 0;
  border-bottom-left-radius: 0;
}
.btn-group-vertical > .btn:last-child:not(:first-child) {
  border-top-right-radius: 0;
  border-top-left-radius: 0;
  border-bottom-right-radius: 2px;
  border-bottom-left-radius: 2px;
}
.btn-group-vertical > .btn-group:not(:first-child):not(:last-child) > .btn {
  border-radius: 0;
}
.btn-group-vertical > .btn-group:first-child:not(:last-child) > .btn:last-child,
.btn-group-vertical > .btn-group:first-child:not(:last-child) > .dropdown-toggle {
  border-bottom-right-radius: 0;
  border-bottom-left-radius: 0;
}
.btn-group-vertical > .btn-group:last-child:not(:first-child) > .btn:first-child {
  border-top-right-radius: 0;
  border-top-left-radius: 0;
}
.btn-group-justified {
  display: table;
  width: 100%;
  table-layout: fixed;
  border-collapse: separate;
}
.btn-group-justified > .btn,
.btn-group-justified > .btn-group {
  float: none;
  display: table-cell;
  width: 1%;
}
.btn-group-justified > .btn-group .btn {
  width: 100%;
}
.btn-group-justified > .btn-group .dropdown-menu {
  left: auto;
}
[data-toggle="buttons"] > .btn input[type="radio"],
[data-toggle="buttons"] > .btn-group > .btn input[type="radio"],
[data-toggle="buttons"] > .btn input[type="checkbox"],
[data-toggle="buttons"] > .btn-group > .btn input[type="checkbox"] {
  position: absolute;
  clip: rect(0, 0, 0, 0);
  pointer-events: none;
}
.input-group {
  position: relative;
  display: table;
  border-collapse: separate;
}
.input-group[class*="col-"] {
  float: none;
  padding-left: 0;
  padding-right: 0;
}
.input-group .form-control {
  position: relative;
  z-index: 2;
  float: left;
  width: 100%;
  margin-bottom: 0;
}
.input-group .form-control:focus {
  z-index: 3;
}
.input-group-lg > .form-control,
.input-group-lg > .input-group-addon,
.input-group-lg > .input-group-btn > .btn {
  height: 45px;
  padding: 10px 16px;
  font-size: 17px;
  line-height: 1.3333333;
  border-radius: 3px;
}
select.input-group-lg > .form-control,
select.input-group-lg > .input-group-addon,
select.input-group-lg > .input-group-btn > .btn {
  height: 45px;
  line-height: 45px;
}
textarea.input-group-lg > .form-control,
textarea.input-group-lg > .input-group-addon,
textarea.input-group-lg > .input-group-btn > .btn,
select[multiple].input-group-lg > .form-control,
select[multiple].input-group-lg > .input-group-addon,
select[multiple].input-group-lg > .input-group-btn > .btn {
  height: auto;
}
.input-group-sm > .form-control,
.input-group-sm > .input-group-addon,
.input-group-sm > .input-group-btn > .btn {
  height: 30px;
  padding: 5px 10px;
  font-size: 12px;
  line-height: 1.5;
  border-radius: 1px;
}
select.input-group-sm > .form-control,
select.input-group-sm > .input-group-addon,
select.input-group-sm > .input-group-btn > .btn {
  height: 30px;
  line-height: 30px;
}
textarea.input-group-sm > .form-control,
textarea.input-group-sm > .input-group-addon,
textarea.input-group-sm > .input-group-btn > .btn,
select[multiple].input-group-sm > .form-control,
select[multiple].input-group-sm > .input-group-addon,
select[multiple].input-group-sm > .input-group-btn > .btn {
  height: auto;
}
.input-group-addon,
.input-group-btn,
.input-group .form-control {
  display: table-cell;
}
.input-group-addon:not(:first-child):not(:last-child),
.input-group-btn:not(:first-child):not(:last-child),
.input-group .form-control:not(:first-child):not(:last-child) {
  border-radius: 0;
}
.input-group-addon,
.input-group-btn {
  width: 1%;
  white-space: nowrap;
  vertical-align: middle;
}
.input-group-addon {
  padding: 6px 12px;
  font-size: 13px;
  font-weight: normal;
  line-height: 1;
  color: #555555;
  text-align: center;
  background-color: #eeeeee;
  border: 1px solid #ccc;
  border-radius: 2px;
}
.input-group-addon.input-sm {
  padding: 5px 10px;
  font-size: 12px;
  border-radius: 1px;
}
.input-group-addon.input-lg {
  padding: 10px 16px;
  font-size: 17px;
  border-radius: 3px;
}
.input-group-addon input[type="radio"],
.input-group-addon input[type="checkbox"] {
  margin-top: 0;
}
.input-group .form-control:first-child,
.input-group-addon:first-child,
.input-group-btn:first-child > .btn,
.input-group-btn:first-child > .btn-group > .btn,
.input-group-btn:first-child > .dropdown-toggle,
.input-group-btn:last-child > .btn:not(:last-child):not(.dropdown-toggle),
.input-group-btn:last-child > .btn-group:not(:last-child) > .btn {
  border-bottom-right-radius: 0;
  border-top-right-radius: 0;
}
.input-group-addon:first-child {
  border-right: 0;
}
.input-group .form-control:last-child,
.input-group-addon:last-child,
.input-group-btn:last-child > .btn,
.input-group-btn:last-child > .btn-group > .btn,
.input-group-btn:last-child > .dropdown-toggle,
.input-group-btn:first-child > .btn:not(:first-child),
.input-group-btn:first-child > .btn-group:not(:first-child) > .btn {
  border-bottom-left-radius: 0;
  border-top-left-radius: 0;
}
.input-group-addon:last-child {
  border-left: 0;
}
.input-group-btn {
  position: relative;
  font-size: 0;
  white-space: nowrap;
}
.input-group-btn > .btn {
  position: relative;
}
.input-group-btn > .btn + .btn {
  margin-left: -1px;
}
.input-group-btn > .btn:hover,
.input-group-btn > .btn:focus,
.input-group-btn > .btn:active {
  z-index: 2;
}
.input-group-btn:first-child > .btn,
.input-group-btn:first-child > .btn-group {
  margin-right: -1px;
}
.input-group-btn:last-child > .btn,
.input-group-btn:last-child > .btn-group {
  z-index: 2;
  margin-left: -1px;
}
.nav {
  margin-bottom: 0;
  padding-left: 0;
  list-style: none;
}
.nav > li {
  position: relative;
  display: block;
}
.nav > li > a {
  position: relative;
  display: block;
  padding: 10px 15px;
}
.nav > li > a:hover,
.nav > li > a:focus {
  text-decoration: none;
  background-color: #eeeeee;
}
.nav > li.disabled > a {
  color: #777777;
}
.nav > li.disabled > a:hover,
.nav > li.disabled > a:focus {
  color: #777777;
  text-decoration: none;
  background-color: transparent;
  cursor: not-allowed;
}
.nav .open > a,
.nav .open > a:hover,
.nav .open > a:focus {
  background-color: #eeeeee;
  border-color: #337ab7;
}
.nav .nav-divider {
  height: 1px;
  margin: 8px 0;
  overflow: hidden;
  background-color: #e5e5e5;
}
.nav > li > a > img {
  max-width: none;
}
.nav-tabs {
  border-bottom: 1px solid #ddd;
}
.nav-tabs > li {
  float: left;
  margin-bottom: -1px;
}
.nav-tabs > li > a {
  margin-right: 2px;
  line-height: 1.42857143;
  border: 1px solid transparent;
  border-radius: 2px 2px 0 0;
}
.nav-tabs > li > a:hover {
  border-color: #eeeeee #eeeeee #ddd;
}
.nav-tabs > li.active > a,
.nav-tabs > li.active > a:hover,
.nav-tabs > li.active > a:focus {
  color: #555555;
  background-color: #fff;
  border: 1px solid #ddd;
  border-bottom-color: transparent;
  cursor: default;
}
.nav-tabs.nav-justified {
  width: 100%;
  border-bottom: 0;
}
.nav-tabs.nav-justified > li {
  float: none;
}
.nav-tabs.nav-justified > li > a {
  text-align: center;
  margin-bottom: 5px;
}
.nav-tabs.nav-justified > .dropdown .dropdown-menu {
  top: auto;
  left: auto;
}
@media (min-width: 768px) {
  .nav-tabs.nav-justified > li {
    display: table-cell;
    width: 1%;
  }
  .nav-tabs.nav-justified > li > a {
    margin-bottom: 0;
  }
}
.nav-tabs.nav-justified > li > a {
  margin-right: 0;
  border-radius: 2px;
}
.nav-tabs.nav-justified > .active > a,
.nav-tabs.nav-justified > .active > a:hover,
.nav-tabs.nav-justified > .active > a:focus {
  border: 1px solid #ddd;
}
@media (min-width: 768px) {
  .nav-tabs.nav-justified > li > a {
    border-bottom: 1px solid #ddd;
    border-radius: 2px 2px 0 0;
  }
  .nav-tabs.nav-justified > .active > a,
  .nav-tabs.nav-justified > .active > a:hover,
  .nav-tabs.nav-justified > .active > a:focus {
    border-bottom-color: #fff;
  }
}
.nav-pills > li {
  float: left;
}
.nav-pills > li > a {
  border-radius: 2px;
}
.nav-pills > li + li {
  margin-left: 2px;
}
.nav-pills > li.active > a,
.nav-pills > li.active > a:hover,
.nav-pills > li.active > a:focus {
  color: #fff;
  background-color: #337ab7;
}
.nav-stacked > li {
  float: none;
}
.nav-stacked > li + li {
  margin-top: 2px;
  margin-left: 0;
}
.nav-justified {
  width: 100%;
}
.nav-justified > li {
  float: none;
}
.nav-justified > li > a {
  text-align: center;
  margin-bottom: 5px;
}
.nav-justified > .dropdown .dropdown-menu {
  top: auto;
  left: auto;
}
@media (min-width: 768px) {
  .nav-justified > li {
    display: table-cell;
    width: 1%;
  }
  .nav-justified > li > a {
    margin-bottom: 0;
  }
}
.nav-tabs-justified {
  border-bottom: 0;
}
.nav-tabs-justified > li > a {
  margin-right: 0;
  border-radius: 2px;
}
.nav-tabs-justified > .active > a,
.nav-tabs-justified > .active > a:hover,
.nav-tabs-justified > .active > a:focus {
  border: 1px solid #ddd;
}
@media (min-width: 768px) {
  .nav-tabs-justified > li > a {
    border-bottom: 1px solid #ddd;
    border-radius: 2px 2px 0 0;
  }
  .nav-tabs-justified > .active > a,
  .nav-tabs-justified > .active > a:hover,
  .nav-tabs-justified > .active > a:focus {
    border-bottom-color: #fff;
  }
}
.tab-content > .tab-pane {
  display: none;
}
.tab-content > .active {
  display: block;
}
.nav-tabs .dropdown-menu {
  margin-top: -1px;
  border-top-right-radius: 0;
  border-top-left-radius: 0;
}
.navbar {
  position: relative;
  min-height: 30px;
  margin-bottom: 18px;
  border: 1px solid transparent;
}
@media (min-width: 541px) {
  .navbar {
    border-radius: 2px;
  }
}
@media (min-width: 541px) {
  .navbar-header {
    float: left;
  }
}
.navbar-collapse {
  overflow-x: visible;
  padding-right: 0px;
  padding-left: 0px;
  border-top: 1px solid transparent;
  box-shadow: inset 0 1px 0 rgba(255, 255, 255, 0.1);
  -webkit-overflow-scrolling: touch;
}
.navbar-collapse.in {
  overflow-y: auto;
}
@media (min-width: 541px) {
  .navbar-collapse {
    width: auto;
    border-top: 0;
    box-shadow: none;
  }
  .navbar-collapse.collapse {
    display: block !important;
    height: auto !important;
    padding-bottom: 0;
    overflow: visible !important;
  }
  .navbar-collapse.in {
    overflow-y: visible;
  }
  .navbar-fixed-top .navbar-collapse,
  .navbar-static-top .navbar-collapse,
  .navbar-fixed-bottom .navbar-collapse {
    padding-left: 0;
    padding-right: 0;
  }
}
.navbar-fixed-top .navbar-collapse,
.navbar-fixed-bottom .navbar-collapse {
  max-height: 340px;
}
@media (max-device-width: 540px) and (orientation: landscape) {
  .navbar-fixed-top .navbar-collapse,
  .navbar-fixed-bottom .navbar-collapse {
    max-height: 200px;
  }
}
.container > .navbar-header,
.container-fluid > .navbar-header,
.container > .navbar-collapse,
.container-fluid > .navbar-collapse {
  margin-right: 0px;
  margin-left: 0px;
}
@media (min-width: 541px) {
  .container > .navbar-header,
  .container-fluid > .navbar-header,
  .container > .navbar-collapse,
  .container-fluid > .navbar-collapse {
    margin-right: 0;
    margin-left: 0;
  }
}
.navbar-static-top {
  z-index: 1000;
  border-width: 0 0 1px;
}
@media (min-width: 541px) {
  .navbar-static-top {
    border-radius: 0;
  }
}
.navbar-fixed-top,
.navbar-fixed-bottom {
  position: fixed;
  right: 0;
  left: 0;
  z-index: 1030;
}
@media (min-width: 541px) {
  .navbar-fixed-top,
  .navbar-fixed-bottom {
    border-radius: 0;
  }
}
.navbar-fixed-top {
  top: 0;
  border-width: 0 0 1px;
}
.navbar-fixed-bottom {
  bottom: 0;
  margin-bottom: 0;
  border-width: 1px 0 0;
}
.navbar-brand {
  float: left;
  padding: 6px 0px;
  font-size: 17px;
  line-height: 18px;
  height: 30px;
}
.navbar-brand:hover,
.navbar-brand:focus {
  text-decoration: none;
}
.navbar-brand > img {
  display: block;
}
@media (min-width: 541px) {
  .navbar > .container .navbar-brand,
  .navbar > .container-fluid .navbar-brand {
    margin-left: 0px;
  }
}
.navbar-toggle {
  position: relative;
  float: right;
  margin-right: 0px;
  padding: 9px 10px;
  margin-top: -2px;
  margin-bottom: -2px;
  background-color: transparent;
  background-image: none;
  border: 1px solid transparent;
  border-radius: 2px;
}
.navbar-toggle:focus {
  outline: 0;
}
.navbar-toggle .icon-bar {
  display: block;
  width: 22px;
  height: 2px;
  border-radius: 1px;
}
.navbar-toggle .icon-bar + .icon-bar {
  margin-top: 4px;
}
@media (min-width: 541px) {
  .navbar-toggle {
    display: none;
  }
}
.navbar-nav {
  margin: 3px 0px;
}
.navbar-nav > li > a {
  padding-top: 10px;
  padding-bottom: 10px;
  line-height: 18px;
}
@media (max-width: 540px) {
  .navbar-nav .open .dropdown-menu {
    position: static;
    float: none;
    width: auto;
    margin-top: 0;
    background-color: transparent;
    border: 0;
    box-shadow: none;
  }
  .navbar-nav .open .dropdown-menu > li > a,
  .navbar-nav .open .dropdown-menu .dropdown-header {
    padding: 5px 15px 5px 25px;
  }
  .navbar-nav .open .dropdown-menu > li > a {
    line-height: 18px;
  }
  .navbar-nav .open .dropdown-menu > li > a:hover,
  .navbar-nav .open .dropdown-menu > li > a:focus {
    background-image: none;
  }
}
@media (min-width: 541px) {
  .navbar-nav {
    float: left;
    margin: 0;
  }
  .navbar-nav > li {
    float: left;
  }
  .navbar-nav > li > a {
    padding-top: 6px;
    padding-bottom: 6px;
  }
}
.navbar-form {
  margin-left: 0px;
  margin-right: 0px;
  padding: 10px 0px;
  border-top: 1px solid transparent;
  border-bottom: 1px solid transparent;
  -webkit-box-shadow: inset 0 1px 0 rgba(255, 255, 255, 0.1), 0 1px 0 rgba(255, 255, 255, 0.1);
  box-shadow: inset 0 1px 0 rgba(255, 255, 255, 0.1), 0 1px 0 rgba(255, 255, 255, 0.1);
  margin-top: -1px;
  margin-bottom: -1px;
}
@media (min-width: 768px) {
  .navbar-form .form-group {
    display: inline-block;
    margin-bottom: 0;
    vertical-align: middle;
  }
  .navbar-form .form-control {
    display: inline-block;
    width: auto;
    vertical-align: middle;
  }
  .navbar-form .form-control-static {
    display: inline-block;
  }
  .navbar-form .input-group {
    display: inline-table;
    vertical-align: middle;
  }
  .navbar-form .input-group .input-group-addon,
  .navbar-form .input-group .input-group-btn,
  .navbar-form .input-group .form-control {
    width: auto;
  }
  .navbar-form .input-group > .form-control {
    width: 100%;
  }
  .navbar-form .control-label {
    margin-bottom: 0;
    vertical-align: middle;
  }
  .navbar-form .radio,
  .navbar-form .checkbox {
    display: inline-block;
    margin-top: 0;
    margin-bottom: 0;
    vertical-align: middle;
  }
  .navbar-form .radio label,
  .navbar-form .checkbox label {
    padding-left: 0;
  }
  .navbar-form .radio input[type="radio"],
  .navbar-form .checkbox input[type="checkbox"] {
    position: relative;
    margin-left: 0;
  }
  .navbar-form .has-feedback .form-control-feedback {
    top: 0;
  }
}
@media (max-width: 540px) {
  .navbar-form .form-group {
    margin-bottom: 5px;
  }
  .navbar-form .form-group:last-child {
    margin-bottom: 0;
  }
}
@media (min-width: 541px) {
  .navbar-form {
    width: auto;
    border: 0;
    margin-left: 0;
    margin-right: 0;
    padding-top: 0;
    padding-bottom: 0;
    -webkit-box-shadow: none;
    box-shadow: none;
  }
}
.navbar-nav > li > .dropdown-menu {
  margin-top: 0;
  border-top-right-radius: 0;
  border-top-left-radius: 0;
}
.navbar-fixed-bottom .navbar-nav > li > .dropdown-menu {
  margin-bottom: 0;
  border-top-right-radius: 2px;
  border-top-left-radius: 2px;
  border-bottom-right-radius: 0;
  border-bottom-left-radius: 0;
}
.navbar-btn {
  margin-top: -1px;
  margin-bottom: -1px;
}
.navbar-btn.btn-sm {
  margin-top: 0px;
  margin-bottom: 0px;
}
.navbar-btn.btn-xs {
  margin-top: 4px;
  margin-bottom: 4px;
}
.navbar-text {
  margin-top: 6px;
  margin-bottom: 6px;
}
@media (min-width: 541px) {
  .navbar-text {
    float: left;
    margin-left: 0px;
    margin-right: 0px;
  }
}
@media (min-width: 541px) {
  .navbar-left {
    float: left !important;
    float: left;
  }
  .navbar-right {
    float: right !important;
    float: right;
    margin-right: 0px;
  }
  .navbar-right ~ .navbar-right {
    margin-right: 0;
  }
}
.navbar-default {
  background-color: #f8f8f8;
  border-color: #e7e7e7;
}
.navbar-default .navbar-brand {
  color: #777;
}
.navbar-default .navbar-brand:hover,
.navbar-default .navbar-brand:focus {
  color: #5e5e5e;
  background-color: transparent;
}
.navbar-default .navbar-text {
  color: #777;
}
.navbar-default .navbar-nav > li > a {
  color: #777;
}
.navbar-default .navbar-nav > li > a:hover,
.navbar-default .navbar-nav > li > a:focus {
  color: #333;
  background-color: transparent;
}
.navbar-default .navbar-nav > .active > a,
.navbar-default .navbar-nav > .active > a:hover,
.navbar-default .navbar-nav > .active > a:focus {
  color: #555;
  background-color: #e7e7e7;
}
.navbar-default .navbar-nav > .disabled > a,
.navbar-default .navbar-nav > .disabled > a:hover,
.navbar-default .navbar-nav > .disabled > a:focus {
  color: #ccc;
  background-color: transparent;
}
.navbar-default .navbar-toggle {
  border-color: #ddd;
}
.navbar-default .navbar-toggle:hover,
.navbar-default .navbar-toggle:focus {
  background-color: #ddd;
}
.navbar-default .navbar-toggle .icon-bar {
  background-color: #888;
}
.navbar-default .navbar-collapse,
.navbar-default .navbar-form {
  border-color: #e7e7e7;
}
.navbar-default .navbar-nav > .open > a,
.navbar-default .navbar-nav > .open > a:hover,
.navbar-default .navbar-nav > .open > a:focus {
  background-color: #e7e7e7;
  color: #555;
}
@media (max-width: 540px) {
  .navbar-default .navbar-nav .open .dropdown-menu > li > a {
    color: #777;
  }
  .navbar-default .navbar-nav .open .dropdown-menu > li > a:hover,
  .navbar-default .navbar-nav .open .dropdown-menu > li > a:focus {
    color: #333;
    background-color: transparent;
  }
  .navbar-default .navbar-nav .open .dropdown-menu > .active > a,
  .navbar-default .navbar-nav .open .dropdown-menu > .active > a:hover,
  .navbar-default .navbar-nav .open .dropdown-menu > .active > a:focus {
    color: #555;
    background-color: #e7e7e7;
  }
  .navbar-default .navbar-nav .open .dropdown-menu > .disabled > a,
  .navbar-default .navbar-nav .open .dropdown-menu > .disabled > a:hover,
  .navbar-default .navbar-nav .open .dropdown-menu > .disabled > a:focus {
    color: #ccc;
    background-color: transparent;
  }
}
.navbar-default .navbar-link {
  color: #777;
}
.navbar-default .navbar-link:hover {
  color: #333;
}
.navbar-default .btn-link {
  color: #777;
}
.navbar-default .btn-link:hover,
.navbar-default .btn-link:focus {
  color: #333;
}
.navbar-default .btn-link[disabled]:hover,
fieldset[disabled] .navbar-default .btn-link:hover,
.navbar-default .btn-link[disabled]:focus,
fieldset[disabled] .navbar-default .btn-link:focus {
  color: #ccc;
}
.navbar-inverse {
  background-color: #222;
  border-color: #080808;
}
.navbar-inverse .navbar-brand {
  color: #9d9d9d;
}
.navbar-inverse .navbar-brand:hover,
.navbar-inverse .navbar-brand:focus {
  color: #fff;
  background-color: transparent;
}
.navbar-inverse .navbar-text {
  color: #9d9d9d;
}
.navbar-inverse .navbar-nav > li > a {
  color: #9d9d9d;
}
.navbar-inverse .navbar-nav > li > a:hover,
.navbar-inverse .navbar-nav > li > a:focus {
  color: #fff;
  background-color: transparent;
}
.navbar-inverse .navbar-nav > .active > a,
.navbar-inverse .navbar-nav > .active > a:hover,
.navbar-inverse .navbar-nav > .active > a:focus {
  color: #fff;
  background-color: #080808;
}
.navbar-inverse .navbar-nav > .disabled > a,
.navbar-inverse .navbar-nav > .disabled > a:hover,
.navbar-inverse .navbar-nav > .disabled > a:focus {
  color: #444;
  background-color: transparent;
}
.navbar-inverse .navbar-toggle {
  border-color: #333;
}
.navbar-inverse .navbar-toggle:hover,
.navbar-inverse .navbar-toggle:focus {
  background-color: #333;
}
.navbar-inverse .navbar-toggle .icon-bar {
  background-color: #fff;
}
.navbar-inverse .navbar-collapse,
.navbar-inverse .navbar-form {
  border-color: #101010;
}
.navbar-inverse .navbar-nav > .open > a,
.navbar-inverse .navbar-nav > .open > a:hover,
.navbar-inverse .navbar-nav > .open > a:focus {
  background-color: #080808;
  color: #fff;
}
@media (max-width: 540px) {
  .navbar-inverse .navbar-nav .open .dropdown-menu > .dropdown-header {
    border-color: #080808;
  }
  .navbar-inverse .navbar-nav .open .dropdown-menu .divider {
    background-color: #080808;
  }
  .navbar-inverse .navbar-nav .open .dropdown-menu > li > a {
    color: #9d9d9d;
  }
  .navbar-inverse .navbar-nav .open .dropdown-menu > li > a:hover,
  .navbar-inverse .navbar-nav .open .dropdown-menu > li > a:focus {
    color: #fff;
    background-color: transparent;
  }
  .navbar-inverse .navbar-nav .open .dropdown-menu > .active > a,
  .navbar-inverse .navbar-nav .open .dropdown-menu > .active > a:hover,
  .navbar-inverse .navbar-nav .open .dropdown-menu > .active > a:focus {
    color: #fff;
    background-color: #080808;
  }
  .navbar-inverse .navbar-nav .open .dropdown-menu > .disabled > a,
  .navbar-inverse .navbar-nav .open .dropdown-menu > .disabled > a:hover,
  .navbar-inverse .navbar-nav .open .dropdown-menu > .disabled > a:focus {
    color: #444;
    background-color: transparent;
  }
}
.navbar-inverse .navbar-link {
  color: #9d9d9d;
}
.navbar-inverse .navbar-link:hover {
  color: #fff;
}
.navbar-inverse .btn-link {
  color: #9d9d9d;
}
.navbar-inverse .btn-link:hover,
.navbar-inverse .btn-link:focus {
  color: #fff;
}
.navbar-inverse .btn-link[disabled]:hover,
fieldset[disabled] .navbar-inverse .btn-link:hover,
.navbar-inverse .btn-link[disabled]:focus,
fieldset[disabled] .navbar-inverse .btn-link:focus {
  color: #444;
}
.breadcrumb {
  padding: 8px 15px;
  margin-bottom: 18px;
  list-style: none;
  background-color: #f5f5f5;
  border-radius: 2px;
}
.breadcrumb > li {
  display: inline-block;
}
.breadcrumb > li + li:before {
  content: "/\00a0";
  padding: 0 5px;
  color: #5e5e5e;
}
.breadcrumb > .active {
  color: #777777;
}
.pagination {
  display: inline-block;
  padding-left: 0;
  margin: 18px 0;
  border-radius: 2px;
}
.pagination > li {
  display: inline;
}
.pagination > li > a,
.pagination > li > span {
  position: relative;
  float: left;
  padding: 6px 12px;
  line-height: 1.42857143;
  text-decoration: none;
  color: #337ab7;
  background-color: #fff;
  border: 1px solid #ddd;
  margin-left: -1px;
}
.pagination > li:first-child > a,
.pagination > li:first-child > span {
  margin-left: 0;
  border-bottom-left-radius: 2px;
  border-top-left-radius: 2px;
}
.pagination > li:last-child > a,
.pagination > li:last-child > span {
  border-bottom-right-radius: 2px;
  border-top-right-radius: 2px;
}
.pagination > li > a:hover,
.pagination > li > span:hover,
.pagination > li > a:focus,
.pagination > li > span:focus {
  z-index: 2;
  color: #23527c;
  background-color: #eeeeee;
  border-color: #ddd;
}
.pagination > .active > a,
.pagination > .active > span,
.pagination > .active > a:hover,
.pagination > .active > span:hover,
.pagination > .active > a:focus,
.pagination > .active > span:focus {
  z-index: 3;
  color: #fff;
  background-color: #337ab7;
  border-color: #337ab7;
  cursor: default;
}
.pagination > .disabled > span,
.pagination > .disabled > span:hover,
.pagination > .disabled > span:focus,
.pagination > .disabled > a,
.pagination > .disabled > a:hover,
.pagination > .disabled > a:focus {
  color: #777777;
  background-color: #fff;
  border-color: #ddd;
  cursor: not-allowed;
}
.pagination-lg > li > a,
.pagination-lg > li > span {
  padding: 10px 16px;
  font-size: 17px;
  line-height: 1.3333333;
}
.pagination-lg > li:first-child > a,
.pagination-lg > li:first-child > span {
  border-bottom-left-radius: 3px;
  border-top-left-radius: 3px;
}
.pagination-lg > li:last-child > a,
.pagination-lg > li:last-child > span {
  border-bottom-right-radius: 3px;
  border-top-right-radius: 3px;
}
.pagination-sm > li > a,
.pagination-sm > li > span {
  padding: 5px 10px;
  font-size: 12px;
  line-height: 1.5;
}
.pagination-sm > li:first-child > a,
.pagination-sm > li:first-child > span {
  border-bottom-left-radius: 1px;
  border-top-left-radius: 1px;
}
.pagination-sm > li:last-child > a,
.pagination-sm > li:last-child > span {
  border-bottom-right-radius: 1px;
  border-top-right-radius: 1px;
}
.pager {
  padding-left: 0;
  margin: 18px 0;
  list-style: none;
  text-align: center;
}
.pager li {
  display: inline;
}
.pager li > a,
.pager li > span {
  display: inline-block;
  padding: 5px 14px;
  background-color: #fff;
  border: 1px solid #ddd;
  border-radius: 15px;
}
.pager li > a:hover,
.pager li > a:focus {
  text-decoration: none;
  background-color: #eeeeee;
}
.pager .next > a,
.pager .next > span {
  float: right;
}
.pager .previous > a,
.pager .previous > span {
  float: left;
}
.pager .disabled > a,
.pager .disabled > a:hover,
.pager .disabled > a:focus,
.pager .disabled > span {
  color: #777777;
  background-color: #fff;
  cursor: not-allowed;
}
.label {
  display: inline;
  padding: .2em .6em .3em;
  font-size: 75%;
  font-weight: bold;
  line-height: 1;
  color: #fff;
  text-align: center;
  white-space: nowrap;
  vertical-align: baseline;
  border-radius: .25em;
}
a.label:hover,
a.label:focus {
  color: #fff;
  text-decoration: none;
  cursor: pointer;
}
.label:empty {
  display: none;
}
.btn .label {
  position: relative;
  top: -1px;
}
.label-default {
  background-color: #777777;
}
.label-default[href]:hover,
.label-default[href]:focus {
  background-color: #5e5e5e;
}
.label-primary {
  background-color: #337ab7;
}
.label-primary[href]:hover,
.label-primary[href]:focus {
  background-color: #286090;
}
.label-success {
  background-color: #5cb85c;
}
.label-success[href]:hover,
.label-success[href]:focus {
  background-color: #449d44;
}
.label-info {
  background-color: #5bc0de;
}
.label-info[href]:hover,
.label-info[href]:focus {
  background-color: #31b0d5;
}
.label-warning {
  background-color: #f0ad4e;
}
.label-warning[href]:hover,
.label-warning[href]:focus {
  background-color: #ec971f;
}
.label-danger {
  background-color: #d9534f;
}
.label-danger[href]:hover,
.label-danger[href]:focus {
  background-color: #c9302c;
}
.badge {
  display: inline-block;
  min-width: 10px;
  padding: 3px 7px;
  font-size: 12px;
  font-weight: bold;
  color: #fff;
  line-height: 1;
  vertical-align: middle;
  white-space: nowrap;
  text-align: center;
  background-color: #777777;
  border-radius: 10px;
}
.badge:empty {
  display: none;
}
.btn .badge {
  position: relative;
  top: -1px;
}
.btn-xs .badge,
.btn-group-xs > .btn .badge {
  top: 0;
  padding: 1px 5px;
}
a.badge:hover,
a.badge:focus {
  color: #fff;
  text-decoration: none;
  cursor: pointer;
}
.list-group-item.active > .badge,
.nav-pills > .active > a > .badge {
  color: #337ab7;
  background-color: #fff;
}
.list-group-item > .badge {
  float: right;
}
.list-group-item > .badge + .badge {
  margin-right: 5px;
}
.nav-pills > li > a > .badge {
  margin-left: 3px;
}
.jumbotron {
  padding-top: 30px;
  padding-bottom: 30px;
  margin-bottom: 30px;
  color: inherit;
  background-color: #eeeeee;
}
.jumbotron h1,
.jumbotron .h1 {
  color: inherit;
}
.jumbotron p {
  margin-bottom: 15px;
  font-size: 20px;
  font-weight: 200;
}
.jumbotron > hr {
  border-top-color: #d5d5d5;
}
.container .jumbotron,
.container-fluid .jumbotron {
  border-radius: 3px;
  padding-left: 0px;
  padding-right: 0px;
}
.jumbotron .container {
  max-width: 100%;
}
@media screen and (min-width: 768px) {
  .jumbotron {
    padding-top: 48px;
    padding-bottom: 48px;
  }
  .container .jumbotron,
  .container-fluid .jumbotron {
    padding-left: 60px;
    padding-right: 60px;
  }
  .jumbotron h1,
  .jumbotron .h1 {
    font-size: 59px;
  }
}
.thumbnail {
  display: block;
  padding: 4px;
  margin-bottom: 18px;
  line-height: 1.42857143;
  background-color: #fff;
  border: 1px solid #ddd;
  border-radius: 2px;
  -webkit-transition: border 0.2s ease-in-out;
  -o-transition: border 0.2s ease-in-out;
  transition: border 0.2s ease-in-out;
}
.thumbnail > img,
.thumbnail a > img {
  margin-left: auto;
  margin-right: auto;
}
a.thumbnail:hover,
a.thumbnail:focus,
a.thumbnail.active {
  border-color: #337ab7;
}
.thumbnail .caption {
  padding: 9px;
  color: #000;
}
.alert {
  padding: 15px;
  margin-bottom: 18px;
  border: 1px solid transparent;
  border-radius: 2px;
}
.alert h4 {
  margin-top: 0;
  color: inherit;
}
.alert .alert-link {
  font-weight: bold;
}
.alert > p,
.alert > ul {
  margin-bottom: 0;
}
.alert > p + p {
  margin-top: 5px;
}
.alert-dismissable,
.alert-dismissible {
  padding-right: 35px;
}
.alert-dismissable .close,
.alert-dismissible .close {
  position: relative;
  top: -2px;
  right: -21px;
  color: inherit;
}
.alert-success {
  background-color: #dff0d8;
  border-color: #d6e9c6;
  color: #3c763d;
}
.alert-success hr {
  border-top-color: #c9e2b3;
}
.alert-success .alert-link {
  color: #2b542c;
}
.alert-info {
  background-color: #d9edf7;
  border-color: #bce8f1;
  color: #31708f;
}
.alert-info hr {
  border-top-color: #a6e1ec;
}
.alert-info .alert-link {
  color: #245269;
}
.alert-warning {
  background-color: #fcf8e3;
  border-color: #faebcc;
  color: #8a6d3b;
}
.alert-warning hr {
  border-top-color: #f7e1b5;
}
.alert-warning .alert-link {
  color: #66512c;
}
.alert-danger {
  background-color: #f2dede;
  border-color: #ebccd1;
  color: #a94442;
}
.alert-danger hr {
  border-top-color: #e4b9c0;
}
.alert-danger .alert-link {
  color: #843534;
}
@-webkit-keyframes progress-bar-stripes {
  from {
    background-position: 40px 0;
  }
  to {
    background-position: 0 0;
  }
}
@keyframes progress-bar-stripes {
  from {
    background-position: 40px 0;
  }
  to {
    background-position: 0 0;
  }
}
.progress {
  overflow: hidden;
  height: 18px;
  margin-bottom: 18px;
  background-color: #f5f5f5;
  border-radius: 2px;
  -webkit-box-shadow: inset 0 1px 2px rgba(0, 0, 0, 0.1);
  box-shadow: inset 0 1px 2px rgba(0, 0, 0, 0.1);
}
.progress-bar {
  float: left;
  width: 0%;
  height: 100%;
  font-size: 12px;
  line-height: 18px;
  color: #fff;
  text-align: center;
  background-color: #337ab7;
  -webkit-box-shadow: inset 0 -1px 0 rgba(0, 0, 0, 0.15);
  box-shadow: inset 0 -1px 0 rgba(0, 0, 0, 0.15);
  -webkit-transition: width 0.6s ease;
  -o-transition: width 0.6s ease;
  transition: width 0.6s ease;
}
.progress-striped .progress-bar,
.progress-bar-striped {
  background-image: -webkit-linear-gradient(45deg, rgba(255, 255, 255, 0.15) 25%, transparent 25%, transparent 50%, rgba(255, 255, 255, 0.15) 50%, rgba(255, 255, 255, 0.15) 75%, transparent 75%, transparent);
  background-image: -o-linear-gradient(45deg, rgba(255, 255, 255, 0.15) 25%, transparent 25%, transparent 50%, rgba(255, 255, 255, 0.15) 50%, rgba(255, 255, 255, 0.15) 75%, transparent 75%, transparent);
  background-image: linear-gradient(45deg, rgba(255, 255, 255, 0.15) 25%, transparent 25%, transparent 50%, rgba(255, 255, 255, 0.15) 50%, rgba(255, 255, 255, 0.15) 75%, transparent 75%, transparent);
  background-size: 40px 40px;
}
.progress.active .progress-bar,
.progress-bar.active {
  -webkit-animation: progress-bar-stripes 2s linear infinite;
  -o-animation: progress-bar-stripes 2s linear infinite;
  animation: progress-bar-stripes 2s linear infinite;
}
.progress-bar-success {
  background-color: #5cb85c;
}
.progress-striped .progress-bar-success {
  background-image: -webkit-linear-gradient(45deg, rgba(255, 255, 255, 0.15) 25%, transparent 25%, transparent 50%, rgba(255, 255, 255, 0.15) 50%, rgba(255, 255, 255, 0.15) 75%, transparent 75%, transparent);
  background-image: -o-linear-gradient(45deg, rgba(255, 255, 255, 0.15) 25%, transparent 25%, transparent 50%, rgba(255, 255, 255, 0.15) 50%, rgba(255, 255, 255, 0.15) 75%, transparent 75%, transparent);
  background-image: linear-gradient(45deg, rgba(255, 255, 255, 0.15) 25%, transparent 25%, transparent 50%, rgba(255, 255, 255, 0.15) 50%, rgba(255, 255, 255, 0.15) 75%, transparent 75%, transparent);
}
.progress-bar-info {
  background-color: #5bc0de;
}
.progress-striped .progress-bar-info {
  background-image: -webkit-linear-gradient(45deg, rgba(255, 255, 255, 0.15) 25%, transparent 25%, transparent 50%, rgba(255, 255, 255, 0.15) 50%, rgba(255, 255, 255, 0.15) 75%, transparent 75%, transparent);
  background-image: -o-linear-gradient(45deg, rgba(255, 255, 255, 0.15) 25%, transparent 25%, transparent 50%, rgba(255, 255, 255, 0.15) 50%, rgba(255, 255, 255, 0.15) 75%, transparent 75%, transparent);
  background-image: linear-gradient(45deg, rgba(255, 255, 255, 0.15) 25%, transparent 25%, transparent 50%, rgba(255, 255, 255, 0.15) 50%, rgba(255, 255, 255, 0.15) 75%, transparent 75%, transparent);
}
.progress-bar-warning {
  background-color: #f0ad4e;
}
.progress-striped .progress-bar-warning {
  background-image: -webkit-linear-gradient(45deg, rgba(255, 255, 255, 0.15) 25%, transparent 25%, transparent 50%, rgba(255, 255, 255, 0.15) 50%, rgba(255, 255, 255, 0.15) 75%, transparent 75%, transparent);
  background-image: -o-linear-gradient(45deg, rgba(255, 255, 255, 0.15) 25%, transparent 25%, transparent 50%, rgba(255, 255, 255, 0.15) 50%, rgba(255, 255, 255, 0.15) 75%, transparent 75%, transparent);
  background-image: linear-gradient(45deg, rgba(255, 255, 255, 0.15) 25%, transparent 25%, transparent 50%, rgba(255, 255, 255, 0.15) 50%, rgba(255, 255, 255, 0.15) 75%, transparent 75%, transparent);
}
.progress-bar-danger {
  background-color: #d9534f;
}
.progress-striped .progress-bar-danger {
  background-image: -webkit-linear-gradient(45deg, rgba(255, 255, 255, 0.15) 25%, transparent 25%, transparent 50%, rgba(255, 255, 255, 0.15) 50%, rgba(255, 255, 255, 0.15) 75%, transparent 75%, transparent);
  background-image: -o-linear-gradient(45deg, rgba(255, 255, 255, 0.15) 25%, transparent 25%, transparent 50%, rgba(255, 255, 255, 0.15) 50%, rgba(255, 255, 255, 0.15) 75%, transparent 75%, transparent);
  background-image: linear-gradient(45deg, rgba(255, 255, 255, 0.15) 25%, transparent 25%, transparent 50%, rgba(255, 255, 255, 0.15) 50%, rgba(255, 255, 255, 0.15) 75%, transparent 75%, transparent);
}
.media {
  margin-top: 15px;
}
.media:first-child {
  margin-top: 0;
}
.media,
.media-body {
  zoom: 1;
  overflow: hidden;
}
.media-body {
  width: 10000px;
}
.media-object {
  display: block;
}
.media-object.img-thumbnail {
  max-width: none;
}
.media-right,
.media > .pull-right {
  padding-left: 10px;
}
.media-left,
.media > .pull-left {
  padding-right: 10px;
}
.media-left,
.media-right,
.media-body {
  display: table-cell;
  vertical-align: top;
}
.media-middle {
  vertical-align: middle;
}
.media-bottom {
  vertical-align: bottom;
}
.media-heading {
  margin-top: 0;
  margin-bottom: 5px;
}
.media-list {
  padding-left: 0;
  list-style: none;
}
.list-group {
  margin-bottom: 20px;
  padding-left: 0;
}
.list-group-item {
  position: relative;
  display: block;
  padding: 10px 15px;
  margin-bottom: -1px;
  background-color: #fff;
  border: 1px solid #ddd;
}
.list-group-item:first-child {
  border-top-right-radius: 2px;
  border-top-left-radius: 2px;
}
.list-group-item:last-child {
  margin-bottom: 0;
  border-bottom-right-radius: 2px;
  border-bottom-left-radius: 2px;
}
a.list-group-item,
button.list-group-item {
  color: #555;
}
a.list-group-item .list-group-item-heading,
button.list-group-item .list-group-item-heading {
  color: #333;
}
a.list-group-item:hover,
button.list-group-item:hover,
a.list-group-item:focus,
button.list-group-item:focus {
  text-decoration: none;
  color: #555;
  background-color: #f5f5f5;
}
button.list-group-item {
  width: 100%;
  text-align: left;
}
.list-group-item.disabled,
.list-group-item.disabled:hover,
.list-group-item.disabled:focus {
  background-color: #eeeeee;
  color: #777777;
  cursor: not-allowed;
}
.list-group-item.disabled .list-group-item-heading,
.list-group-item.disabled:hover .list-group-item-heading,
.list-group-item.disabled:focus .list-group-item-heading {
  color: inherit;
}
.list-group-item.disabled .list-group-item-text,
.list-group-item.disabled:hover .list-group-item-text,
.list-group-item.disabled:focus .list-group-item-text {
  color: #777777;
}
.list-group-item.active,
.list-group-item.active:hover,
.list-group-item.active:focus {
  z-index: 2;
  color: #fff;
  background-color: #337ab7;
  border-color: #337ab7;
}
.list-group-item.active .list-group-item-heading,
.list-group-item.active:hover .list-group-item-heading,
.list-group-item.active:focus .list-group-item-heading,
.list-group-item.active .list-group-item-heading > small,
.list-group-item.active:hover .list-group-item-heading > small,
.list-group-item.active:focus .list-group-item-heading > small,
.list-group-item.active .list-group-item-heading > .small,
.list-group-item.active:hover .list-group-item-heading > .small,
.list-group-item.active:focus .list-group-item-heading > .small {
  color: inherit;
}
.list-group-item.active .list-group-item-text,
.list-group-item.active:hover .list-group-item-text,
.list-group-item.active:focus .list-group-item-text {
  color: #c7ddef;
}
.list-group-item-success {
  color: #3c763d;
  background-color: #dff0d8;
}
a.list-group-item-success,
button.list-group-item-success {
  color: #3c763d;
}
a.list-group-item-success .list-group-item-heading,
button.list-group-item-success .list-group-item-heading {
  color: inherit;
}
a.list-group-item-success:hover,
button.list-group-item-success:hover,
a.list-group-item-success:focus,
button.list-group-item-success:focus {
  color: #3c763d;
  background-color: #d0e9c6;
}
a.list-group-item-success.active,
button.list-group-item-success.active,
a.list-group-item-success.active:hover,
button.list-group-item-success.active:hover,
a.list-group-item-success.active:focus,
button.list-group-item-success.active:focus {
  color: #fff;
  background-color: #3c763d;
  border-color: #3c763d;
}
.list-group-item-info {
  color: #31708f;
  background-color: #d9edf7;
}
a.list-group-item-info,
button.list-group-item-info {
  color: #31708f;
}
a.list-group-item-info .list-group-item-heading,
button.list-group-item-info .list-group-item-heading {
  color: inherit;
}
a.list-group-item-info:hover,
button.list-group-item-info:hover,
a.list-group-item-info:focus,
button.list-group-item-info:focus {
  color: #31708f;
  background-color: #c4e3f3;
}
a.list-group-item-info.active,
button.list-group-item-info.active,
a.list-group-item-info.active:hover,
button.list-group-item-info.active:hover,
a.list-group-item-info.active:focus,
button.list-group-item-info.active:focus {
  color: #fff;
  background-color: #31708f;
  border-color: #31708f;
}
.list-group-item-warning {
  color: #8a6d3b;
  background-color: #fcf8e3;
}
a.list-group-item-warning,
button.list-group-item-warning {
  color: #8a6d3b;
}
a.list-group-item-warning .list-group-item-heading,
button.list-group-item-warning .list-group-item-heading {
  color: inherit;
}
a.list-group-item-warning:hover,
button.list-group-item-warning:hover,
a.list-group-item-warning:focus,
button.list-group-item-warning:focus {
  color: #8a6d3b;
  background-color: #faf2cc;
}
a.list-group-item-warning.active,
button.list-group-item-warning.active,
a.list-group-item-warning.active:hover,
button.list-group-item-warning.active:hover,
a.list-group-item-warning.active:focus,
button.list-group-item-warning.active:focus {
  color: #fff;
  background-color: #8a6d3b;
  border-color: #8a6d3b;
}
.list-group-item-danger {
  color: #a94442;
  background-color: #f2dede;
}
a.list-group-item-danger,
button.list-group-item-danger {
  color: #a94442;
}
a.list-group-item-danger .list-group-item-heading,
button.list-group-item-danger .list-group-item-heading {
  color: inherit;
}
a.list-group-item-danger:hover,
button.list-group-item-danger:hover,
a.list-group-item-danger:focus,
button.list-group-item-danger:focus {
  color: #a94442;
  background-color: #ebcccc;
}
a.list-group-item-danger.active,
button.list-group-item-danger.active,
a.list-group-item-danger.active:hover,
button.list-group-item-danger.active:hover,
a.list-group-item-danger.active:focus,
button.list-group-item-danger.active:focus {
  color: #fff;
  background-color: #a94442;
  border-color: #a94442;
}
.list-group-item-heading {
  margin-top: 0;
  margin-bottom: 5px;
}
.list-group-item-text {
  margin-bottom: 0;
  line-height: 1.3;
}
.panel {
  margin-bottom: 18px;
  background-color: #fff;
  border: 1px solid transparent;
  border-radius: 2px;
  -webkit-box-shadow: 0 1px 1px rgba(0, 0, 0, 0.05);
  box-shadow: 0 1px 1px rgba(0, 0, 0, 0.05);
}
.panel-body {
  padding: 15px;
}
.panel-heading {
  padding: 10px 15px;
  border-bottom: 1px solid transparent;
  border-top-right-radius: 1px;
  border-top-left-radius: 1px;
}
.panel-heading > .dropdown .dropdown-toggle {
  color: inherit;
}
.panel-title {
  margin-top: 0;
  margin-bottom: 0;
  font-size: 15px;
  color: inherit;
}
.panel-title > a,
.panel-title > small,
.panel-title > .small,
.panel-title > small > a,
.panel-title > .small > a {
  color: inherit;
}
.panel-footer {
  padding: 10px 15px;
  background-color: #f5f5f5;
  border-top: 1px solid #ddd;
  border-bottom-right-radius: 1px;
  border-bottom-left-radius: 1px;
}
.panel > .list-group,
.panel > .panel-collapse > .list-group {
  margin-bottom: 0;
}
.panel > .list-group .list-group-item,
.panel > .panel-collapse > .list-group .list-group-item {
  border-width: 1px 0;
  border-radius: 0;
}
.panel > .list-group:first-child .list-group-item:first-child,
.panel > .panel-collapse > .list-group:first-child .list-group-item:first-child {
  border-top: 0;
  border-top-right-radius: 1px;
  border-top-left-radius: 1px;
}
.panel > .list-group:last-child .list-group-item:last-child,
.panel > .panel-collapse > .list-group:last-child .list-group-item:last-child {
  border-bottom: 0;
  border-bottom-right-radius: 1px;
  border-bottom-left-radius: 1px;
}
.panel > .panel-heading + .panel-collapse > .list-group .list-group-item:first-child {
  border-top-right-radius: 0;
  border-top-left-radius: 0;
}
.panel-heading + .list-group .list-group-item:first-child {
  border-top-width: 0;
}
.list-group + .panel-footer {
  border-top-width: 0;
}
.panel > .table,
.panel > .table-responsive > .table,
.panel > .panel-collapse > .table {
  margin-bottom: 0;
}
.panel > .table caption,
.panel > .table-responsive > .table caption,
.panel > .panel-collapse > .table caption {
  padding-left: 15px;
  padding-right: 15px;
}
.panel > .table:first-child,
.panel > .table-responsive:first-child > .table:first-child {
  border-top-right-radius: 1px;
  border-top-left-radius: 1px;
}
.panel > .table:first-child > thead:first-child > tr:first-child,
.panel > .table-responsive:first-child > .table:first-child > thead:first-child > tr:first-child,
.panel > .table:first-child > tbody:first-child > tr:first-child,
.panel > .table-responsive:first-child > .table:first-child > tbody:first-child > tr:first-child {
  border-top-left-radius: 1px;
  border-top-right-radius: 1px;
}
.panel > .table:first-child > thead:first-child > tr:first-child td:first-child,
.panel > .table-responsive:first-child > .table:first-child > thead:first-child > tr:first-child td:first-child,
.panel > .table:first-child > tbody:first-child > tr:first-child td:first-child,
.panel > .table-responsive:first-child > .table:first-child > tbody:first-child > tr:first-child td:first-child,
.panel > .table:first-child > thead:first-child > tr:first-child th:first-child,
.panel > .table-responsive:first-child > .table:first-child > thead:first-child > tr:first-child th:first-child,
.panel > .table:first-child > tbody:first-child > tr:first-child th:first-child,
.panel > .table-responsive:first-child > .table:first-child > tbody:first-child > tr:first-child th:first-child {
  border-top-left-radius: 1px;
}
.panel > .table:first-child > thead:first-child > tr:first-child td:last-child,
.panel > .table-responsive:first-child > .table:first-child > thead:first-child > tr:first-child td:last-child,
.panel > .table:first-child > tbody:first-child > tr:first-child td:last-child,
.panel > .table-responsive:first-child > .table:first-child > tbody:first-child > tr:first-child td:last-child,
.panel > .table:first-child > thead:first-child > tr:first-child th:last-child,
.panel > .table-responsive:first-child > .table:first-child > thead:first-child > tr:first-child th:last-child,
.panel > .table:first-child > tbody:first-child > tr:first-child th:last-child,
.panel > .table-responsive:first-child > .table:first-child > tbody:first-child > tr:first-child th:last-child {
  border-top-right-radius: 1px;
}
.panel > .table:last-child,
.panel > .table-responsive:last-child > .table:last-child {
  border-bottom-right-radius: 1px;
  border-bottom-left-radius: 1px;
}
.panel > .table:last-child > tbody:last-child > tr:last-child,
.panel > .table-responsive:last-child > .table:last-child > tbody:last-child > tr:last-child,
.panel > .table:last-child > tfoot:last-child > tr:last-child,
.panel > .table-responsive:last-child > .table:last-child > tfoot:last-child > tr:last-child {
  border-bottom-left-radius: 1px;
  border-bottom-right-radius: 1px;
}
.panel > .table:last-child > tbody:last-child > tr:last-child td:first-child,
.panel > .table-responsive:last-child > .table:last-child > tbody:last-child > tr:last-child td:first-child,
.panel > .table:last-child > tfoot:last-child > tr:last-child td:first-child,
.panel > .table-responsive:last-child > .table:last-child > tfoot:last-child > tr:last-child td:first-child,
.panel > .table:last-child > tbody:last-child > tr:last-child th:first-child,
.panel > .table-responsive:last-child > .table:last-child > tbody:last-child > tr:last-child th:first-child,
.panel > .table:last-child > tfoot:last-child > tr:last-child th:first-child,
.panel > .table-responsive:last-child > .table:last-child > tfoot:last-child > tr:last-child th:first-child {
  border-bottom-left-radius: 1px;
}
.panel > .table:last-child > tbody:last-child > tr:last-child td:last-child,
.panel > .table-responsive:last-child > .table:last-child > tbody:last-child > tr:last-child td:last-child,
.panel > .table:last-child > tfoot:last-child > tr:last-child td:last-child,
.panel > .table-responsive:last-child > .table:last-child > tfoot:last-child > tr:last-child td:last-child,
.panel > .table:last-child > tbody:last-child > tr:last-child th:last-child,
.panel > .table-responsive:last-child > .table:last-child > tbody:last-child > tr:last-child th:last-child,
.panel > .table:last-child > tfoot:last-child > tr:last-child th:last-child,
.panel > .table-responsive:last-child > .table:last-child > tfoot:last-child > tr:last-child th:last-child {
  border-bottom-right-radius: 1px;
}
.panel > .panel-body + .table,
.panel > .panel-body + .table-responsive,
.panel > .table + .panel-body,
.panel > .table-responsive + .panel-body {
  border-top: 1px solid #ddd;
}
.panel > .table > tbody:first-child > tr:first-child th,
.panel > .table > tbody:first-child > tr:first-child td {
  border-top: 0;
}
.panel > .table-bordered,
.panel > .table-responsive > .table-bordered {
  border: 0;
}
.panel > .table-bordered > thead > tr > th:first-child,
.panel > .table-responsive > .table-bordered > thead > tr > th:first-child,
.panel > .table-bordered > tbody > tr > th:first-child,
.panel > .table-responsive > .table-bordered > tbody > tr > th:first-child,
.panel > .table-bordered > tfoot > tr > th:first-child,
.panel > .table-responsive > .table-bordered > tfoot > tr > th:first-child,
.panel > .table-bordered > thead > tr > td:first-child,
.panel > .table-responsive > .table-bordered > thead > tr > td:first-child,
.panel > .table-bordered > tbody > tr > td:first-child,
.panel > .table-responsive > .table-bordered > tbody > tr > td:first-child,
.panel > .table-bordered > tfoot > tr > td:first-child,
.panel > .table-responsive > .table-bordered > tfoot > tr > td:first-child {
  border-left: 0;
}
.panel > .table-bordered > thead > tr > th:last-child,
.panel > .table-responsive > .table-bordered > thead > tr > th:last-child,
.panel > .table-bordered > tbody > tr > th:last-child,
.panel > .table-responsive > .table-bordered > tbody > tr > th:last-child,
.panel > .table-bordered > tfoot > tr > th:last-child,
.panel > .table-responsive > .table-bordered > tfoot > tr > th:last-child,
.panel > .table-bordered > thead > tr > td:last-child,
.panel > .table-responsive > .table-bordered > thead > tr > td:last-child,
.panel > .table-bordered > tbody > tr > td:last-child,
.panel > .table-responsive > .table-bordered > tbody > tr > td:last-child,
.panel > .table-bordered > tfoot > tr > td:last-child,
.panel > .table-responsive > .table-bordered > tfoot > tr > td:last-child {
  border-right: 0;
}
.panel > .table-bordered > thead > tr:first-child > td,
.panel > .table-responsive > .table-bordered > thead > tr:first-child > td,
.panel > .table-bordered > tbody > tr:first-child > td,
.panel > .table-responsive > .table-bordered > tbody > tr:first-child > td,
.panel > .table-bordered > thead > tr:first-child > th,
.panel > .table-responsive > .table-bordered > thead > tr:first-child > th,
.panel > .table-bordered > tbody > tr:first-child > th,
.panel > .table-responsive > .table-bordered > tbody > tr:first-child > th {
  border-bottom: 0;
}
.panel > .table-bordered > tbody > tr:last-child > td,
.panel > .table-responsive > .table-bordered > tbody > tr:last-child > td,
.panel > .table-bordered > tfoot > tr:last-child > td,
.panel > .table-responsive > .table-bordered > tfoot > tr:last-child > td,
.panel > .table-bordered > tbody > tr:last-child > th,
.panel > .table-responsive > .table-bordered > tbody > tr:last-child > th,
.panel > .table-bordered > tfoot > tr:last-child > th,
.panel > .table-responsive > .table-bordered > tfoot > tr:last-child > th {
  border-bottom: 0;
}
.panel > .table-responsive {
  border: 0;
  margin-bottom: 0;
}
.panel-group {
  margin-bottom: 18px;
}
.panel-group .panel {
  margin-bottom: 0;
  border-radius: 2px;
}
.panel-group .panel + .panel {
  margin-top: 5px;
}
.panel-group .panel-heading {
  border-bottom: 0;
}
.panel-group .panel-heading + .panel-collapse > .panel-body,
.panel-group .panel-heading + .panel-collapse > .list-group {
  border-top: 1px solid #ddd;
}
.panel-group .panel-footer {
  border-top: 0;
}
.panel-group .panel-footer + .panel-collapse .panel-body {
  border-bottom: 1px solid #ddd;
}
.panel-default {
  border-color: #ddd;
}
.panel-default > .panel-heading {
  color: #333333;
  background-color: #f5f5f5;
  border-color: #ddd;
}
.panel-default > .panel-heading + .panel-collapse > .panel-body {
  border-top-color: #ddd;
}
.panel-default > .panel-heading .badge {
  color: #f5f5f5;
  background-color: #333333;
}
.panel-default > .panel-footer + .panel-collapse > .panel-body {
  border-bottom-color: #ddd;
}
.panel-primary {
  border-color: #337ab7;
}
.panel-primary > .panel-heading {
  color: #fff;
  background-color: #337ab7;
  border-color: #337ab7;
}
.panel-primary > .panel-heading + .panel-collapse > .panel-body {
  border-top-color: #337ab7;
}
.panel-primary > .panel-heading .badge {
  color: #337ab7;
  background-color: #fff;
}
.panel-primary > .panel-footer + .panel-collapse > .panel-body {
  border-bottom-color: #337ab7;
}
.panel-success {
  border-color: #d6e9c6;
}
.panel-success > .panel-heading {
  color: #3c763d;
  background-color: #dff0d8;
  border-color: #d6e9c6;
}
.panel-success > .panel-heading + .panel-collapse > .panel-body {
  border-top-color: #d6e9c6;
}
.panel-success > .panel-heading .badge {
  color: #dff0d8;
  background-color: #3c763d;
}
.panel-success > .panel-footer + .panel-collapse > .panel-body {
  border-bottom-color: #d6e9c6;
}
.panel-info {
  border-color: #bce8f1;
}
.panel-info > .panel-heading {
  color: #31708f;
  background-color: #d9edf7;
  border-color: #bce8f1;
}
.panel-info > .panel-heading + .panel-collapse > .panel-body {
  border-top-color: #bce8f1;
}
.panel-info > .panel-heading .badge {
  color: #d9edf7;
  background-color: #31708f;
}
.panel-info > .panel-footer + .panel-collapse > .panel-body {
  border-bottom-color: #bce8f1;
}
.panel-warning {
  border-color: #faebcc;
}
.panel-warning > .panel-heading {
  color: #8a6d3b;
  background-color: #fcf8e3;
  border-color: #faebcc;
}
.panel-warning > .panel-heading + .panel-collapse > .panel-body {
  border-top-color: #faebcc;
}
.panel-warning > .panel-heading .badge {
  color: #fcf8e3;
  background-color: #8a6d3b;
}
.panel-warning > .panel-footer + .panel-collapse > .panel-body {
  border-bottom-color: #faebcc;
}
.panel-danger {
  border-color: #ebccd1;
}
.panel-danger > .panel-heading {
  color: #a94442;
  background-color: #f2dede;
  border-color: #ebccd1;
}
.panel-danger > .panel-heading + .panel-collapse > .panel-body {
  border-top-color: #ebccd1;
}
.panel-danger > .panel-heading .badge {
  color: #f2dede;
  background-color: #a94442;
}
.panel-danger > .panel-footer + .panel-collapse > .panel-body {
  border-bottom-color: #ebccd1;
}
.embed-responsive {
  position: relative;
  display: block;
  height: 0;
  padding: 0;
  overflow: hidden;
}
.embed-responsive .embed-responsive-item,
.embed-responsive iframe,
.embed-responsive embed,
.embed-responsive object,
.embed-responsive video {
  position: absolute;
  top: 0;
  left: 0;
  bottom: 0;
  height: 100%;
  width: 100%;
  border: 0;
}
.embed-responsive-16by9 {
  padding-bottom: 56.25%;
}
.embed-responsive-4by3 {
  padding-bottom: 75%;
}
.well {
  min-height: 20px;
  padding: 19px;
  margin-bottom: 20px;
  background-color: #f5f5f5;
  border: 1px solid #e3e3e3;
  border-radius: 2px;
  -webkit-box-shadow: inset 0 1px 1px rgba(0, 0, 0, 0.05);
  box-shadow: inset 0 1px 1px rgba(0, 0, 0, 0.05);
}
.well blockquote {
  border-color: #ddd;
  border-color: rgba(0, 0, 0, 0.15);
}
.well-lg {
  padding: 24px;
  border-radius: 3px;
}
.well-sm {
  padding: 9px;
  border-radius: 1px;
}
.close {
  float: right;
  font-size: 19.5px;
  font-weight: bold;
  line-height: 1;
  color: #000;
  text-shadow: 0 1px 0 #fff;
  opacity: 0.2;
  filter: alpha(opacity=20);
}
.close:hover,
.close:focus {
  color: #000;
  text-decoration: none;
  cursor: pointer;
  opacity: 0.5;
  filter: alpha(opacity=50);
}
button.close {
  padding: 0;
  cursor: pointer;
  background: transparent;
  border: 0;
  -webkit-appearance: none;
}
.modal-open {
  overflow: hidden;
}
.modal {
  display: none;
  overflow: hidden;
  position: fixed;
  top: 0;
  right: 0;
  bottom: 0;
  left: 0;
  z-index: 1050;
  -webkit-overflow-scrolling: touch;
  outline: 0;
}
.modal.fade .modal-dialog {
  -webkit-transform: translate(0, -25%);
  -ms-transform: translate(0, -25%);
  -o-transform: translate(0, -25%);
  transform: translate(0, -25%);
  -webkit-transition: -webkit-transform 0.3s ease-out;
  -moz-transition: -moz-transform 0.3s ease-out;
  -o-transition: -o-transform 0.3s ease-out;
  transition: transform 0.3s ease-out;
}
.modal.in .modal-dialog {
  -webkit-transform: translate(0, 0);
  -ms-transform: translate(0, 0);
  -o-transform: translate(0, 0);
  transform: translate(0, 0);
}
.modal-open .modal {
  overflow-x: hidden;
  overflow-y: auto;
}
.modal-dialog {
  position: relative;
  width: auto;
  margin: 10px;
}
.modal-content {
  position: relative;
  background-color: #fff;
  border: 1px solid #999;
  border: 1px solid rgba(0, 0, 0, 0.2);
  border-radius: 3px;
  -webkit-box-shadow: 0 3px 9px rgba(0, 0, 0, 0.5);
  box-shadow: 0 3px 9px rgba(0, 0, 0, 0.5);
  background-clip: padding-box;
  outline: 0;
}
.modal-backdrop {
  position: fixed;
  top: 0;
  right: 0;
  bottom: 0;
  left: 0;
  z-index: 1040;
  background-color: #000;
}
.modal-backdrop.fade {
  opacity: 0;
  filter: alpha(opacity=0);
}
.modal-backdrop.in {
  opacity: 0.5;
  filter: alpha(opacity=50);
}
.modal-header {
  padding: 15px;
  border-bottom: 1px solid #e5e5e5;
}
.modal-header .close {
  margin-top: -2px;
}
.modal-title {
  margin: 0;
  line-height: 1.42857143;
}
.modal-body {
  position: relative;
  padding: 15px;
}
.modal-footer {
  padding: 15px;
  text-align: right;
  border-top: 1px solid #e5e5e5;
}
.modal-footer .btn + .btn {
  margin-left: 5px;
  margin-bottom: 0;
}
.modal-footer .btn-group .btn + .btn {
  margin-left: -1px;
}
.modal-footer .btn-block + .btn-block {
  margin-left: 0;
}
.modal-scrollbar-measure {
  position: absolute;
  top: -9999px;
  width: 50px;
  height: 50px;
  overflow: scroll;
}
@media (min-width: 768px) {
  .modal-dialog {
    width: 600px;
    margin: 30px auto;
  }
  .modal-content {
    -webkit-box-shadow: 0 5px 15px rgba(0, 0, 0, 0.5);
    box-shadow: 0 5px 15px rgba(0, 0, 0, 0.5);
  }
  .modal-sm {
    width: 300px;
  }
}
@media (min-width: 992px) {
  .modal-lg {
    width: 900px;
  }
}
.tooltip {
  position: absolute;
  z-index: 1070;
  display: block;
  font-family: "Helvetica Neue", Helvetica, Arial, sans-serif;
  font-style: normal;
  font-weight: normal;
  letter-spacing: normal;
  line-break: auto;
  line-height: 1.42857143;
  text-align: left;
  text-align: start;
  text-decoration: none;
  text-shadow: none;
  text-transform: none;
  white-space: normal;
  word-break: normal;
  word-spacing: normal;
  word-wrap: normal;
  font-size: 12px;
  opacity: 0;
  filter: alpha(opacity=0);
}
.tooltip.in {
  opacity: 0.9;
  filter: alpha(opacity=90);
}
.tooltip.top {
  margin-top: -3px;
  padding: 5px 0;
}
.tooltip.right {
  margin-left: 3px;
  padding: 0 5px;
}
.tooltip.bottom {
  margin-top: 3px;
  padding: 5px 0;
}
.tooltip.left {
  margin-left: -3px;
  padding: 0 5px;
}
.tooltip-inner {
  max-width: 200px;
  padding: 3px 8px;
  color: #fff;
  text-align: center;
  background-color: #000;
  border-radius: 2px;
}
.tooltip-arrow {
  position: absolute;
  width: 0;
  height: 0;
  border-color: transparent;
  border-style: solid;
}
.tooltip.top .tooltip-arrow {
  bottom: 0;
  left: 50%;
  margin-left: -5px;
  border-width: 5px 5px 0;
  border-top-color: #000;
}
.tooltip.top-left .tooltip-arrow {
  bottom: 0;
  right: 5px;
  margin-bottom: -5px;
  border-width: 5px 5px 0;
  border-top-color: #000;
}
.tooltip.top-right .tooltip-arrow {
  bottom: 0;
  left: 5px;
  margin-bottom: -5px;
  border-width: 5px 5px 0;
  border-top-color: #000;
}
.tooltip.right .tooltip-arrow {
  top: 50%;
  left: 0;
  margin-top: -5px;
  border-width: 5px 5px 5px 0;
  border-right-color: #000;
}
.tooltip.left .tooltip-arrow {
  top: 50%;
  right: 0;
  margin-top: -5px;
  border-width: 5px 0 5px 5px;
  border-left-color: #000;
}
.tooltip.bottom .tooltip-arrow {
  top: 0;
  left: 50%;
  margin-left: -5px;
  border-width: 0 5px 5px;
  border-bottom-color: #000;
}
.tooltip.bottom-left .tooltip-arrow {
  top: 0;
  right: 5px;
  margin-top: -5px;
  border-width: 0 5px 5px;
  border-bottom-color: #000;
}
.tooltip.bottom-right .tooltip-arrow {
  top: 0;
  left: 5px;
  margin-top: -5px;
  border-width: 0 5px 5px;
  border-bottom-color: #000;
}
.popover {
  position: absolute;
  top: 0;
  left: 0;
  z-index: 1060;
  display: none;
  max-width: 276px;
  padding: 1px;
  font-family: "Helvetica Neue", Helvetica, Arial, sans-serif;
  font-style: normal;
  font-weight: normal;
  letter-spacing: normal;
  line-break: auto;
  line-height: 1.42857143;
  text-align: left;
  text-align: start;
  text-decoration: none;
  text-shadow: none;
  text-transform: none;
  white-space: normal;
  word-break: normal;
  word-spacing: normal;
  word-wrap: normal;
  font-size: 13px;
  background-color: #fff;
  background-clip: padding-box;
  border: 1px solid #ccc;
  border: 1px solid rgba(0, 0, 0, 0.2);
  border-radius: 3px;
  -webkit-box-shadow: 0 5px 10px rgba(0, 0, 0, 0.2);
  box-shadow: 0 5px 10px rgba(0, 0, 0, 0.2);
}
.popover.top {
  margin-top: -10px;
}
.popover.right {
  margin-left: 10px;
}
.popover.bottom {
  margin-top: 10px;
}
.popover.left {
  margin-left: -10px;
}
.popover-title {
  margin: 0;
  padding: 8px 14px;
  font-size: 13px;
  background-color: #f7f7f7;
  border-bottom: 1px solid #ebebeb;
  border-radius: 2px 2px 0 0;
}
.popover-content {
  padding: 9px 14px;
}
.popover > .arrow,
.popover > .arrow:after {
  position: absolute;
  display: block;
  width: 0;
  height: 0;
  border-color: transparent;
  border-style: solid;
}
.popover > .arrow {
  border-width: 11px;
}
.popover > .arrow:after {
  border-width: 10px;
  content: "";
}
.popover.top > .arrow {
  left: 50%;
  margin-left: -11px;
  border-bottom-width: 0;
  border-top-color: #999999;
  border-top-color: rgba(0, 0, 0, 0.25);
  bottom: -11px;
}
.popover.top > .arrow:after {
  content: " ";
  bottom: 1px;
  margin-left: -10px;
  border-bottom-width: 0;
  border-top-color: #fff;
}
.popover.right > .arrow {
  top: 50%;
  left: -11px;
  margin-top: -11px;
  border-left-width: 0;
  border-right-color: #999999;
  border-right-color: rgba(0, 0, 0, 0.25);
}
.popover.right > .arrow:after {
  content: " ";
  left: 1px;
  bottom: -10px;
  border-left-width: 0;
  border-right-color: #fff;
}
.popover.bottom > .arrow {
  left: 50%;
  margin-left: -11px;
  border-top-width: 0;
  border-bottom-color: #999999;
  border-bottom-color: rgba(0, 0, 0, 0.25);
  top: -11px;
}
.popover.bottom > .arrow:after {
  content: " ";
  top: 1px;
  margin-left: -10px;
  border-top-width: 0;
  border-bottom-color: #fff;
}
.popover.left > .arrow {
  top: 50%;
  right: -11px;
  margin-top: -11px;
  border-right-width: 0;
  border-left-color: #999999;
  border-left-color: rgba(0, 0, 0, 0.25);
}
.popover.left > .arrow:after {
  content: " ";
  right: 1px;
  border-right-width: 0;
  border-left-color: #fff;
  bottom: -10px;
}
.carousel {
  position: relative;
}
.carousel-inner {
  position: relative;
  overflow: hidden;
  width: 100%;
}
.carousel-inner > .item {
  display: none;
  position: relative;
  -webkit-transition: 0.6s ease-in-out left;
  -o-transition: 0.6s ease-in-out left;
  transition: 0.6s ease-in-out left;
}
.carousel-inner > .item > img,
.carousel-inner > .item > a > img {
  line-height: 1;
}
@media all and (transform-3d), (-webkit-transform-3d) {
  .carousel-inner > .item {
    -webkit-transition: -webkit-transform 0.6s ease-in-out;
    -moz-transition: -moz-transform 0.6s ease-in-out;
    -o-transition: -o-transform 0.6s ease-in-out;
    transition: transform 0.6s ease-in-out;
    -webkit-backface-visibility: hidden;
    -moz-backface-visibility: hidden;
    backface-visibility: hidden;
    -webkit-perspective: 1000px;
    -moz-perspective: 1000px;
    perspective: 1000px;
  }
  .carousel-inner > .item.next,
  .carousel-inner > .item.active.right {
    -webkit-transform: translate3d(100%, 0, 0);
    transform: translate3d(100%, 0, 0);
    left: 0;
  }
  .carousel-inner > .item.prev,
  .carousel-inner > .item.active.left {
    -webkit-transform: translate3d(-100%, 0, 0);
    transform: translate3d(-100%, 0, 0);
    left: 0;
  }
  .carousel-inner > .item.next.left,
  .carousel-inner > .item.prev.right,
  .carousel-inner > .item.active {
    -webkit-transform: translate3d(0, 0, 0);
    transform: translate3d(0, 0, 0);
    left: 0;
  }
}
.carousel-inner > .active,
.carousel-inner > .next,
.carousel-inner > .prev {
  display: block;
}
.carousel-inner > .active {
  left: 0;
}
.carousel-inner > .next,
.carousel-inner > .prev {
  position: absolute;
  top: 0;
  width: 100%;
}
.carousel-inner > .next {
  left: 100%;
}
.carousel-inner > .prev {
  left: -100%;
}
.carousel-inner > .next.left,
.carousel-inner > .prev.right {
  left: 0;
}
.carousel-inner > .active.left {
  left: -100%;
}
.carousel-inner > .active.right {
  left: 100%;
}
.carousel-control {
  position: absolute;
  top: 0;
  left: 0;
  bottom: 0;
  width: 15%;
  opacity: 0.5;
  filter: alpha(opacity=50);
  font-size: 20px;
  color: #fff;
  text-align: center;
  text-shadow: 0 1px 2px rgba(0, 0, 0, 0.6);
  background-color: rgba(0, 0, 0, 0);
}
.carousel-control.left {
  background-image: -webkit-linear-gradient(left, rgba(0, 0, 0, 0.5) 0%, rgba(0, 0, 0, 0.0001) 100%);
  background-image: -o-linear-gradient(left, rgba(0, 0, 0, 0.5) 0%, rgba(0, 0, 0, 0.0001) 100%);
  background-image: linear-gradient(to right, rgba(0, 0, 0, 0.5) 0%, rgba(0, 0, 0, 0.0001) 100%);
  background-repeat: repeat-x;
  filter: progid:DXImageTransform.Microsoft.gradient(startColorstr='#80000000', endColorstr='#00000000', GradientType=1);
}
.carousel-control.right {
  left: auto;
  right: 0;
  background-image: -webkit-linear-gradient(left, rgba(0, 0, 0, 0.0001) 0%, rgba(0, 0, 0, 0.5) 100%);
  background-image: -o-linear-gradient(left, rgba(0, 0, 0, 0.0001) 0%, rgba(0, 0, 0, 0.5) 100%);
  background-image: linear-gradient(to right, rgba(0, 0, 0, 0.0001) 0%, rgba(0, 0, 0, 0.5) 100%);
  background-repeat: repeat-x;
  filter: progid:DXImageTransform.Microsoft.gradient(startColorstr='#00000000', endColorstr='#80000000', GradientType=1);
}
.carousel-control:hover,
.carousel-control:focus {
  outline: 0;
  color: #fff;
  text-decoration: none;
  opacity: 0.9;
  filter: alpha(opacity=90);
}
.carousel-control .icon-prev,
.carousel-control .icon-next,
.carousel-control .glyphicon-chevron-left,
.carousel-control .glyphicon-chevron-right {
  position: absolute;
  top: 50%;
  margin-top: -10px;
  z-index: 5;
  display: inline-block;
}
.carousel-control .icon-prev,
.carousel-control .glyphicon-chevron-left {
  left: 50%;
  margin-left: -10px;
}
.carousel-control .icon-next,
.carousel-control .glyphicon-chevron-right {
  right: 50%;
  margin-right: -10px;
}
.carousel-control .icon-prev,
.carousel-control .icon-next {
  width: 20px;
  height: 20px;
  line-height: 1;
  font-family: serif;
}
.carousel-control .icon-prev:before {
  content: '\2039';
}
.carousel-control .icon-next:before {
  content: '\203a';
}
.carousel-indicators {
  position: absolute;
  bottom: 10px;
  left: 50%;
  z-index: 15;
  width: 60%;
  margin-left: -30%;
  padding-left: 0;
  list-style: none;
  text-align: center;
}
.carousel-indicators li {
  display: inline-block;
  width: 10px;
  height: 10px;
  margin: 1px;
  text-indent: -999px;
  border: 1px solid #fff;
  border-radius: 10px;
  cursor: pointer;
  background-color: #000 \9;
  background-color: rgba(0, 0, 0, 0);
}
.carousel-indicators .active {
  margin: 0;
  width: 12px;
  height: 12px;
  background-color: #fff;
}
.carousel-caption {
  position: absolute;
  left: 15%;
  right: 15%;
  bottom: 20px;
  z-index: 10;
  padding-top: 20px;
  padding-bottom: 20px;
  color: #fff;
  text-align: center;
  text-shadow: 0 1px 2px rgba(0, 0, 0, 0.6);
}
.carousel-caption .btn {
  text-shadow: none;
}
@media screen and (min-width: 768px) {
  .carousel-control .glyphicon-chevron-left,
  .carousel-control .glyphicon-chevron-right,
  .carousel-control .icon-prev,
  .carousel-control .icon-next {
    width: 30px;
    height: 30px;
    margin-top: -10px;
    font-size: 30px;
  }
  .carousel-control .glyphicon-chevron-left,
  .carousel-control .icon-prev {
    margin-left: -10px;
  }
  .carousel-control .glyphicon-chevron-right,
  .carousel-control .icon-next {
    margin-right: -10px;
  }
  .carousel-caption {
    left: 20%;
    right: 20%;
    padding-bottom: 30px;
  }
  .carousel-indicators {
    bottom: 20px;
  }
}
.clearfix:before,
.clearfix:after,
.dl-horizontal dd:before,
.dl-horizontal dd:after,
.container:before,
.container:after,
.container-fluid:before,
.container-fluid:after,
.row:before,
.row:after,
.form-horizontal .form-group:before,
.form-horizontal .form-group:after,
.btn-toolbar:before,
.btn-toolbar:after,
.btn-group-vertical > .btn-group:before,
.btn-group-vertical > .btn-group:after,
.nav:before,
.nav:after,
.navbar:before,
.navbar:after,
.navbar-header:before,
.navbar-header:after,
.navbar-collapse:before,
.navbar-collapse:after,
.pager:before,
.pager:after,
.panel-body:before,
.panel-body:after,
.modal-header:before,
.modal-header:after,
.modal-footer:before,
.modal-footer:after,
.item_buttons:before,
.item_buttons:after {
  content: " ";
  display: table;
}
.clearfix:after,
.dl-horizontal dd:after,
.container:after,
.container-fluid:after,
.row:after,
.form-horizontal .form-group:after,
.btn-toolbar:after,
.btn-group-vertical > .btn-group:after,
.nav:after,
.navbar:after,
.navbar-header:after,
.navbar-collapse:after,
.pager:after,
.panel-body:after,
.modal-header:after,
.modal-footer:after,
.item_buttons:after {
  clear: both;
}
.center-block {
  display: block;
  margin-left: auto;
  margin-right: auto;
}
.pull-right {
  float: right !important;
}
.pull-left {
  float: left !important;
}
.hide {
  display: none !important;
}
.show {
  display: block !important;
}
.invisible {
  visibility: hidden;
}
.text-hide {
  font: 0/0 a;
  color: transparent;
  text-shadow: none;
  background-color: transparent;
  border: 0;
}
.hidden {
  display: none !important;
}
.affix {
  position: fixed;
}
@-ms-viewport {
  width: device-width;
}
.visible-xs,
.visible-sm,
.visible-md,
.visible-lg {
  display: none !important;
}
.visible-xs-block,
.visible-xs-inline,
.visible-xs-inline-block,
.visible-sm-block,
.visible-sm-inline,
.visible-sm-inline-block,
.visible-md-block,
.visible-md-inline,
.visible-md-inline-block,
.visible-lg-block,
.visible-lg-inline,
.visible-lg-inline-block {
  display: none !important;
}
@media (max-width: 767px) {
  .visible-xs {
    display: block !important;
  }
  table.visible-xs {
    display: table !important;
  }
  tr.visible-xs {
    display: table-row !important;
  }
  th.visible-xs,
  td.visible-xs {
    display: table-cell !important;
  }
}
@media (max-width: 767px) {
  .visible-xs-block {
    display: block !important;
  }
}
@media (max-width: 767px) {
  .visible-xs-inline {
    display: inline !important;
  }
}
@media (max-width: 767px) {
  .visible-xs-inline-block {
    display: inline-block !important;
  }
}
@media (min-width: 768px) and (max-width: 991px) {
  .visible-sm {
    display: block !important;
  }
  table.visible-sm {
    display: table !important;
  }
  tr.visible-sm {
    display: table-row !important;
  }
  th.visible-sm,
  td.visible-sm {
    display: table-cell !important;
  }
}
@media (min-width: 768px) and (max-width: 991px) {
  .visible-sm-block {
    display: block !important;
  }
}
@media (min-width: 768px) and (max-width: 991px) {
  .visible-sm-inline {
    display: inline !important;
  }
}
@media (min-width: 768px) and (max-width: 991px) {
  .visible-sm-inline-block {
    display: inline-block !important;
  }
}
@media (min-width: 992px) and (max-width: 1199px) {
  .visible-md {
    display: block !important;
  }
  table.visible-md {
    display: table !important;
  }
  tr.visible-md {
    display: table-row !important;
  }
  th.visible-md,
  td.visible-md {
    display: table-cell !important;
  }
}
@media (min-width: 992px) and (max-width: 1199px) {
  .visible-md-block {
    display: block !important;
  }
}
@media (min-width: 992px) and (max-width: 1199px) {
  .visible-md-inline {
    display: inline !important;
  }
}
@media (min-width: 992px) and (max-width: 1199px) {
  .visible-md-inline-block {
    display: inline-block !important;
  }
}
@media (min-width: 1200px) {
  .visible-lg {
    display: block !important;
  }
  table.visible-lg {
    display: table !important;
  }
  tr.visible-lg {
    display: table-row !important;
  }
  th.visible-lg,
  td.visible-lg {
    display: table-cell !important;
  }
}
@media (min-width: 1200px) {
  .visible-lg-block {
    display: block !important;
  }
}
@media (min-width: 1200px) {
  .visible-lg-inline {
    display: inline !important;
  }
}
@media (min-width: 1200px) {
  .visible-lg-inline-block {
    display: inline-block !important;
  }
}
@media (max-width: 767px) {
  .hidden-xs {
    display: none !important;
  }
}
@media (min-width: 768px) and (max-width: 991px) {
  .hidden-sm {
    display: none !important;
  }
}
@media (min-width: 992px) and (max-width: 1199px) {
  .hidden-md {
    display: none !important;
  }
}
@media (min-width: 1200px) {
  .hidden-lg {
    display: none !important;
  }
}
.visible-print {
  display: none !important;
}
@media print {
  .visible-print {
    display: block !important;
  }
  table.visible-print {
    display: table !important;
  }
  tr.visible-print {
    display: table-row !important;
  }
  th.visible-print,
  td.visible-print {
    display: table-cell !important;
  }
}
.visible-print-block {
  display: none !important;
}
@media print {
  .visible-print-block {
    display: block !important;
  }
}
.visible-print-inline {
  display: none !important;
}
@media print {
  .visible-print-inline {
    display: inline !important;
  }
}
.visible-print-inline-block {
  display: none !important;
}
@media print {
  .visible-print-inline-block {
    display: inline-block !important;
  }
}
@media print {
  .hidden-print {
    display: none !important;
  }
}
/*!
*
* Font Awesome
*
*/
/*!
 *  Font Awesome 4.7.0 by @davegandy - http://fontawesome.io - @fontawesome
 *  License - http://fontawesome.io/license (Font: SIL OFL 1.1, CSS: MIT License)
 */
/* FONT PATH
 * -------------------------- */
@font-face {
  font-family: 'FontAwesome';
  src: url('../components/font-awesome/fonts/fontawesome-webfont.eot?v=4.7.0');
  src: url('../components/font-awesome/fonts/fontawesome-webfont.eot?#iefix&v=4.7.0') format('embedded-opentype'), url('../components/font-awesome/fonts/fontawesome-webfont.woff2?v=4.7.0') format('woff2'), url('../components/font-awesome/fonts/fontawesome-webfont.woff?v=4.7.0') format('woff'), url('../components/font-awesome/fonts/fontawesome-webfont.ttf?v=4.7.0') format('truetype'), url('../components/font-awesome/fonts/fontawesome-webfont.svg?v=4.7.0#fontawesomeregular') format('svg');
  font-weight: normal;
  font-style: normal;
}
.fa {
  display: inline-block;
  font: normal normal normal 14px/1 FontAwesome;
  font-size: inherit;
  text-rendering: auto;
  -webkit-font-smoothing: antialiased;
  -moz-osx-font-smoothing: grayscale;
}
/* makes the font 33% larger relative to the icon container */
.fa-lg {
  font-size: 1.33333333em;
  line-height: 0.75em;
  vertical-align: -15%;
}
.fa-2x {
  font-size: 2em;
}
.fa-3x {
  font-size: 3em;
}
.fa-4x {
  font-size: 4em;
}
.fa-5x {
  font-size: 5em;
}
.fa-fw {
  width: 1.28571429em;
  text-align: center;
}
.fa-ul {
  padding-left: 0;
  margin-left: 2.14285714em;
  list-style-type: none;
}
.fa-ul > li {
  position: relative;
}
.fa-li {
  position: absolute;
  left: -2.14285714em;
  width: 2.14285714em;
  top: 0.14285714em;
  text-align: center;
}
.fa-li.fa-lg {
  left: -1.85714286em;
}
.fa-border {
  padding: .2em .25em .15em;
  border: solid 0.08em #eee;
  border-radius: .1em;
}
.fa-pull-left {
  float: left;
}
.fa-pull-right {
  float: right;
}
.fa.fa-pull-left {
  margin-right: .3em;
}
.fa.fa-pull-right {
  margin-left: .3em;
}
/* Deprecated as of 4.4.0 */
.pull-right {
  float: right;
}
.pull-left {
  float: left;
}
.fa.pull-left {
  margin-right: .3em;
}
.fa.pull-right {
  margin-left: .3em;
}
.fa-spin {
  -webkit-animation: fa-spin 2s infinite linear;
  animation: fa-spin 2s infinite linear;
}
.fa-pulse {
  -webkit-animation: fa-spin 1s infinite steps(8);
  animation: fa-spin 1s infinite steps(8);
}
@-webkit-keyframes fa-spin {
  0% {
    -webkit-transform: rotate(0deg);
    transform: rotate(0deg);
  }
  100% {
    -webkit-transform: rotate(359deg);
    transform: rotate(359deg);
  }
}
@keyframes fa-spin {
  0% {
    -webkit-transform: rotate(0deg);
    transform: rotate(0deg);
  }
  100% {
    -webkit-transform: rotate(359deg);
    transform: rotate(359deg);
  }
}
.fa-rotate-90 {
  -ms-filter: "progid:DXImageTransform.Microsoft.BasicImage(rotation=1)";
  -webkit-transform: rotate(90deg);
  -ms-transform: rotate(90deg);
  transform: rotate(90deg);
}
.fa-rotate-180 {
  -ms-filter: "progid:DXImageTransform.Microsoft.BasicImage(rotation=2)";
  -webkit-transform: rotate(180deg);
  -ms-transform: rotate(180deg);
  transform: rotate(180deg);
}
.fa-rotate-270 {
  -ms-filter: "progid:DXImageTransform.Microsoft.BasicImage(rotation=3)";
  -webkit-transform: rotate(270deg);
  -ms-transform: rotate(270deg);
  transform: rotate(270deg);
}
.fa-flip-horizontal {
  -ms-filter: "progid:DXImageTransform.Microsoft.BasicImage(rotation=0, mirror=1)";
  -webkit-transform: scale(-1, 1);
  -ms-transform: scale(-1, 1);
  transform: scale(-1, 1);
}
.fa-flip-vertical {
  -ms-filter: "progid:DXImageTransform.Microsoft.BasicImage(rotation=2, mirror=1)";
  -webkit-transform: scale(1, -1);
  -ms-transform: scale(1, -1);
  transform: scale(1, -1);
}
:root .fa-rotate-90,
:root .fa-rotate-180,
:root .fa-rotate-270,
:root .fa-flip-horizontal,
:root .fa-flip-vertical {
  filter: none;
}
.fa-stack {
  position: relative;
  display: inline-block;
  width: 2em;
  height: 2em;
  line-height: 2em;
  vertical-align: middle;
}
.fa-stack-1x,
.fa-stack-2x {
  position: absolute;
  left: 0;
  width: 100%;
  text-align: center;
}
.fa-stack-1x {
  line-height: inherit;
}
.fa-stack-2x {
  font-size: 2em;
}
.fa-inverse {
  color: #fff;
}
/* Font Awesome uses the Unicode Private Use Area (PUA) to ensure screen
   readers do not read off random characters that represent icons */
.fa-glass:before {
  content: "\f000";
}
.fa-music:before {
  content: "\f001";
}
.fa-search:before {
  content: "\f002";
}
.fa-envelope-o:before {
  content: "\f003";
}
.fa-heart:before {
  content: "\f004";
}
.fa-star:before {
  content: "\f005";
}
.fa-star-o:before {
  content: "\f006";
}
.fa-user:before {
  content: "\f007";
}
.fa-film:before {
  content: "\f008";
}
.fa-th-large:before {
  content: "\f009";
}
.fa-th:before {
  content: "\f00a";
}
.fa-th-list:before {
  content: "\f00b";
}
.fa-check:before {
  content: "\f00c";
}
.fa-remove:before,
.fa-close:before,
.fa-times:before {
  content: "\f00d";
}
.fa-search-plus:before {
  content: "\f00e";
}
.fa-search-minus:before {
  content: "\f010";
}
.fa-power-off:before {
  content: "\f011";
}
.fa-signal:before {
  content: "\f012";
}
.fa-gear:before,
.fa-cog:before {
  content: "\f013";
}
.fa-trash-o:before {
  content: "\f014";
}
.fa-home:before {
  content: "\f015";
}
.fa-file-o:before {
  content: "\f016";
}
.fa-clock-o:before {
  content: "\f017";
}
.fa-road:before {
  content: "\f018";
}
.fa-download:before {
  content: "\f019";
}
.fa-arrow-circle-o-down:before {
  content: "\f01a";
}
.fa-arrow-circle-o-up:before {
  content: "\f01b";
}
.fa-inbox:before {
  content: "\f01c";
}
.fa-play-circle-o:before {
  content: "\f01d";
}
.fa-rotate-right:before,
.fa-repeat:before {
  content: "\f01e";
}
.fa-refresh:before {
  content: "\f021";
}
.fa-list-alt:before {
  content: "\f022";
}
.fa-lock:before {
  content: "\f023";
}
.fa-flag:before {
  content: "\f024";
}
.fa-headphones:before {
  content: "\f025";
}
.fa-volume-off:before {
  content: "\f026";
}
.fa-volume-down:before {
  content: "\f027";
}
.fa-volume-up:before {
  content: "\f028";
}
.fa-qrcode:before {
  content: "\f029";
}
.fa-barcode:before {
  content: "\f02a";
}
.fa-tag:before {
  content: "\f02b";
}
.fa-tags:before {
  content: "\f02c";
}
.fa-book:before {
  content: "\f02d";
}
.fa-bookmark:before {
  content: "\f02e";
}
.fa-print:before {
  content: "\f02f";
}
.fa-camera:before {
  content: "\f030";
}
.fa-font:before {
  content: "\f031";
}
.fa-bold:before {
  content: "\f032";
}
.fa-italic:before {
  content: "\f033";
}
.fa-text-height:before {
  content: "\f034";
}
.fa-text-width:before {
  content: "\f035";
}
.fa-align-left:before {
  content: "\f036";
}
.fa-align-center:before {
  content: "\f037";
}
.fa-align-right:before {
  content: "\f038";
}
.fa-align-justify:before {
  content: "\f039";
}
.fa-list:before {
  content: "\f03a";
}
.fa-dedent:before,
.fa-outdent:before {
  content: "\f03b";
}
.fa-indent:before {
  content: "\f03c";
}
.fa-video-camera:before {
  content: "\f03d";
}
.fa-photo:before,
.fa-image:before,
.fa-picture-o:before {
  content: "\f03e";
}
.fa-pencil:before {
  content: "\f040";
}
.fa-map-marker:before {
  content: "\f041";
}
.fa-adjust:before {
  content: "\f042";
}
.fa-tint:before {
  content: "\f043";
}
.fa-edit:before,
.fa-pencil-square-o:before {
  content: "\f044";
}
.fa-share-square-o:before {
  content: "\f045";
}
.fa-check-square-o:before {
  content: "\f046";
}
.fa-arrows:before {
  content: "\f047";
}
.fa-step-backward:before {
  content: "\f048";
}
.fa-fast-backward:before {
  content: "\f049";
}
.fa-backward:before {
  content: "\f04a";
}
.fa-play:before {
  content: "\f04b";
}
.fa-pause:before {
  content: "\f04c";
}
.fa-stop:before {
  content: "\f04d";
}
.fa-forward:before {
  content: "\f04e";
}
.fa-fast-forward:before {
  content: "\f050";
}
.fa-step-forward:before {
  content: "\f051";
}
.fa-eject:before {
  content: "\f052";
}
.fa-chevron-left:before {
  content: "\f053";
}
.fa-chevron-right:before {
  content: "\f054";
}
.fa-plus-circle:before {
  content: "\f055";
}
.fa-minus-circle:before {
  content: "\f056";
}
.fa-times-circle:before {
  content: "\f057";
}
.fa-check-circle:before {
  content: "\f058";
}
.fa-question-circle:before {
  content: "\f059";
}
.fa-info-circle:before {
  content: "\f05a";
}
.fa-crosshairs:before {
  content: "\f05b";
}
.fa-times-circle-o:before {
  content: "\f05c";
}
.fa-check-circle-o:before {
  content: "\f05d";
}
.fa-ban:before {
  content: "\f05e";
}
.fa-arrow-left:before {
  content: "\f060";
}
.fa-arrow-right:before {
  content: "\f061";
}
.fa-arrow-up:before {
  content: "\f062";
}
.fa-arrow-down:before {
  content: "\f063";
}
.fa-mail-forward:before,
.fa-share:before {
  content: "\f064";
}
.fa-expand:before {
  content: "\f065";
}
.fa-compress:before {
  content: "\f066";
}
.fa-plus:before {
  content: "\f067";
}
.fa-minus:before {
  content: "\f068";
}
.fa-asterisk:before {
  content: "\f069";
}
.fa-exclamation-circle:before {
  content: "\f06a";
}
.fa-gift:before {
  content: "\f06b";
}
.fa-leaf:before {
  content: "\f06c";
}
.fa-fire:before {
  content: "\f06d";
}
.fa-eye:before {
  content: "\f06e";
}
.fa-eye-slash:before {
  content: "\f070";
}
.fa-warning:before,
.fa-exclamation-triangle:before {
  content: "\f071";
}
.fa-plane:before {
  content: "\f072";
}
.fa-calendar:before {
  content: "\f073";
}
.fa-random:before {
  content: "\f074";
}
.fa-comment:before {
  content: "\f075";
}
.fa-magnet:before {
  content: "\f076";
}
.fa-chevron-up:before {
  content: "\f077";
}
.fa-chevron-down:before {
  content: "\f078";
}
.fa-retweet:before {
  content: "\f079";
}
.fa-shopping-cart:before {
  content: "\f07a";
}
.fa-folder:before {
  content: "\f07b";
}
.fa-folder-open:before {
  content: "\f07c";
}
.fa-arrows-v:before {
  content: "\f07d";
}
.fa-arrows-h:before {
  content: "\f07e";
}
.fa-bar-chart-o:before,
.fa-bar-chart:before {
  content: "\f080";
}
.fa-twitter-square:before {
  content: "\f081";
}
.fa-facebook-square:before {
  content: "\f082";
}
.fa-camera-retro:before {
  content: "\f083";
}
.fa-key:before {
  content: "\f084";
}
.fa-gears:before,
.fa-cogs:before {
  content: "\f085";
}
.fa-comments:before {
  content: "\f086";
}
.fa-thumbs-o-up:before {
  content: "\f087";
}
.fa-thumbs-o-down:before {
  content: "\f088";
}
.fa-star-half:before {
  content: "\f089";
}
.fa-heart-o:before {
  content: "\f08a";
}
.fa-sign-out:before {
  content: "\f08b";
}
.fa-linkedin-square:before {
  content: "\f08c";
}
.fa-thumb-tack:before {
  content: "\f08d";
}
.fa-external-link:before {
  content: "\f08e";
}
.fa-sign-in:before {
  content: "\f090";
}
.fa-trophy:before {
  content: "\f091";
}
.fa-github-square:before {
  content: "\f092";
}
.fa-upload:before {
  content: "\f093";
}
.fa-lemon-o:before {
  content: "\f094";
}
.fa-phone:before {
  content: "\f095";
}
.fa-square-o:before {
  content: "\f096";
}
.fa-bookmark-o:before {
  content: "\f097";
}
.fa-phone-square:before {
  content: "\f098";
}
.fa-twitter:before {
  content: "\f099";
}
.fa-facebook-f:before,
.fa-facebook:before {
  content: "\f09a";
}
.fa-github:before {
  content: "\f09b";
}
.fa-unlock:before {
  content: "\f09c";
}
.fa-credit-card:before {
  content: "\f09d";
}
.fa-feed:before,
.fa-rss:before {
  content: "\f09e";
}
.fa-hdd-o:before {
  content: "\f0a0";
}
.fa-bullhorn:before {
  content: "\f0a1";
}
.fa-bell:before {
  content: "\f0f3";
}
.fa-certificate:before {
  content: "\f0a3";
}
.fa-hand-o-right:before {
  content: "\f0a4";
}
.fa-hand-o-left:before {
  content: "\f0a5";
}
.fa-hand-o-up:before {
  content: "\f0a6";
}
.fa-hand-o-down:before {
  content: "\f0a7";
}
.fa-arrow-circle-left:before {
  content: "\f0a8";
}
.fa-arrow-circle-right:before {
  content: "\f0a9";
}
.fa-arrow-circle-up:before {
  content: "\f0aa";
}
.fa-arrow-circle-down:before {
  content: "\f0ab";
}
.fa-globe:before {
  content: "\f0ac";
}
.fa-wrench:before {
  content: "\f0ad";
}
.fa-tasks:before {
  content: "\f0ae";
}
.fa-filter:before {
  content: "\f0b0";
}
.fa-briefcase:before {
  content: "\f0b1";
}
.fa-arrows-alt:before {
  content: "\f0b2";
}
.fa-group:before,
.fa-users:before {
  content: "\f0c0";
}
.fa-chain:before,
.fa-link:before {
  content: "\f0c1";
}
.fa-cloud:before {
  content: "\f0c2";
}
.fa-flask:before {
  content: "\f0c3";
}
.fa-cut:before,
.fa-scissors:before {
  content: "\f0c4";
}
.fa-copy:before,
.fa-files-o:before {
  content: "\f0c5";
}
.fa-paperclip:before {
  content: "\f0c6";
}
.fa-save:before,
.fa-floppy-o:before {
  content: "\f0c7";
}
.fa-square:before {
  content: "\f0c8";
}
.fa-navicon:before,
.fa-reorder:before,
.fa-bars:before {
  content: "\f0c9";
}
.fa-list-ul:before {
  content: "\f0ca";
}
.fa-list-ol:before {
  content: "\f0cb";
}
.fa-strikethrough:before {
  content: "\f0cc";
}
.fa-underline:before {
  content: "\f0cd";
}
.fa-table:before {
  content: "\f0ce";
}
.fa-magic:before {
  content: "\f0d0";
}
.fa-truck:before {
  content: "\f0d1";
}
.fa-pinterest:before {
  content: "\f0d2";
}
.fa-pinterest-square:before {
  content: "\f0d3";
}
.fa-google-plus-square:before {
  content: "\f0d4";
}
.fa-google-plus:before {
  content: "\f0d5";
}
.fa-money:before {
  content: "\f0d6";
}
.fa-caret-down:before {
  content: "\f0d7";
}
.fa-caret-up:before {
  content: "\f0d8";
}
.fa-caret-left:before {
  content: "\f0d9";
}
.fa-caret-right:before {
  content: "\f0da";
}
.fa-columns:before {
  content: "\f0db";
}
.fa-unsorted:before,
.fa-sort:before {
  content: "\f0dc";
}
.fa-sort-down:before,
.fa-sort-desc:before {
  content: "\f0dd";
}
.fa-sort-up:before,
.fa-sort-asc:before {
  content: "\f0de";
}
.fa-envelope:before {
  content: "\f0e0";
}
.fa-linkedin:before {
  content: "\f0e1";
}
.fa-rotate-left:before,
.fa-undo:before {
  content: "\f0e2";
}
.fa-legal:before,
.fa-gavel:before {
  content: "\f0e3";
}
.fa-dashboard:before,
.fa-tachometer:before {
  content: "\f0e4";
}
.fa-comment-o:before {
  content: "\f0e5";
}
.fa-comments-o:before {
  content: "\f0e6";
}
.fa-flash:before,
.fa-bolt:before {
  content: "\f0e7";
}
.fa-sitemap:before {
  content: "\f0e8";
}
.fa-umbrella:before {
  content: "\f0e9";
}
.fa-paste:before,
.fa-clipboard:before {
  content: "\f0ea";
}
.fa-lightbulb-o:before {
  content: "\f0eb";
}
.fa-exchange:before {
  content: "\f0ec";
}
.fa-cloud-download:before {
  content: "\f0ed";
}
.fa-cloud-upload:before {
  content: "\f0ee";
}
.fa-user-md:before {
  content: "\f0f0";
}
.fa-stethoscope:before {
  content: "\f0f1";
}
.fa-suitcase:before {
  content: "\f0f2";
}
.fa-bell-o:before {
  content: "\f0a2";
}
.fa-coffee:before {
  content: "\f0f4";
}
.fa-cutlery:before {
  content: "\f0f5";
}
.fa-file-text-o:before {
  content: "\f0f6";
}
.fa-building-o:before {
  content: "\f0f7";
}
.fa-hospital-o:before {
  content: "\f0f8";
}
.fa-ambulance:before {
  content: "\f0f9";
}
.fa-medkit:before {
  content: "\f0fa";
}
.fa-fighter-jet:before {
  content: "\f0fb";
}
.fa-beer:before {
  content: "\f0fc";
}
.fa-h-square:before {
  content: "\f0fd";
}
.fa-plus-square:before {
  content: "\f0fe";
}
.fa-angle-double-left:before {
  content: "\f100";
}
.fa-angle-double-right:before {
  content: "\f101";
}
.fa-angle-double-up:before {
  content: "\f102";
}
.fa-angle-double-down:before {
  content: "\f103";
}
.fa-angle-left:before {
  content: "\f104";
}
.fa-angle-right:before {
  content: "\f105";
}
.fa-angle-up:before {
  content: "\f106";
}
.fa-angle-down:before {
  content: "\f107";
}
.fa-desktop:before {
  content: "\f108";
}
.fa-laptop:before {
  content: "\f109";
}
.fa-tablet:before {
  content: "\f10a";
}
.fa-mobile-phone:before,
.fa-mobile:before {
  content: "\f10b";
}
.fa-circle-o:before {
  content: "\f10c";
}
.fa-quote-left:before {
  content: "\f10d";
}
.fa-quote-right:before {
  content: "\f10e";
}
.fa-spinner:before {
  content: "\f110";
}
.fa-circle:before {
  content: "\f111";
}
.fa-mail-reply:before,
.fa-reply:before {
  content: "\f112";
}
.fa-github-alt:before {
  content: "\f113";
}
.fa-folder-o:before {
  content: "\f114";
}
.fa-folder-open-o:before {
  content: "\f115";
}
.fa-smile-o:before {
  content: "\f118";
}
.fa-frown-o:before {
  content: "\f119";
}
.fa-meh-o:before {
  content: "\f11a";
}
.fa-gamepad:before {
  content: "\f11b";
}
.fa-keyboard-o:before {
  content: "\f11c";
}
.fa-flag-o:before {
  content: "\f11d";
}
.fa-flag-checkered:before {
  content: "\f11e";
}
.fa-terminal:before {
  content: "\f120";
}
.fa-code:before {
  content: "\f121";
}
.fa-mail-reply-all:before,
.fa-reply-all:before {
  content: "\f122";
}
.fa-star-half-empty:before,
.fa-star-half-full:before,
.fa-star-half-o:before {
  content: "\f123";
}
.fa-location-arrow:before {
  content: "\f124";
}
.fa-crop:before {
  content: "\f125";
}
.fa-code-fork:before {
  content: "\f126";
}
.fa-unlink:before,
.fa-chain-broken:before {
  content: "\f127";
}
.fa-question:before {
  content: "\f128";
}
.fa-info:before {
  content: "\f129";
}
.fa-exclamation:before {
  content: "\f12a";
}
.fa-superscript:before {
  content: "\f12b";
}
.fa-subscript:before {
  content: "\f12c";
}
.fa-eraser:before {
  content: "\f12d";
}
.fa-puzzle-piece:before {
  content: "\f12e";
}
.fa-microphone:before {
  content: "\f130";
}
.fa-microphone-slash:before {
  content: "\f131";
}
.fa-shield:before {
  content: "\f132";
}
.fa-calendar-o:before {
  content: "\f133";
}
.fa-fire-extinguisher:before {
  content: "\f134";
}
.fa-rocket:before {
  content: "\f135";
}
.fa-maxcdn:before {
  content: "\f136";
}
.fa-chevron-circle-left:before {
  content: "\f137";
}
.fa-chevron-circle-right:before {
  content: "\f138";
}
.fa-chevron-circle-up:before {
  content: "\f139";
}
.fa-chevron-circle-down:before {
  content: "\f13a";
}
.fa-html5:before {
  content: "\f13b";
}
.fa-css3:before {
  content: "\f13c";
}
.fa-anchor:before {
  content: "\f13d";
}
.fa-unlock-alt:before {
  content: "\f13e";
}
.fa-bullseye:before {
  content: "\f140";
}
.fa-ellipsis-h:before {
  content: "\f141";
}
.fa-ellipsis-v:before {
  content: "\f142";
}
.fa-rss-square:before {
  content: "\f143";
}
.fa-play-circle:before {
  content: "\f144";
}
.fa-ticket:before {
  content: "\f145";
}
.fa-minus-square:before {
  content: "\f146";
}
.fa-minus-square-o:before {
  content: "\f147";
}
.fa-level-up:before {
  content: "\f148";
}
.fa-level-down:before {
  content: "\f149";
}
.fa-check-square:before {
  content: "\f14a";
}
.fa-pencil-square:before {
  content: "\f14b";
}
.fa-external-link-square:before {
  content: "\f14c";
}
.fa-share-square:before {
  content: "\f14d";
}
.fa-compass:before {
  content: "\f14e";
}
.fa-toggle-down:before,
.fa-caret-square-o-down:before {
  content: "\f150";
}
.fa-toggle-up:before,
.fa-caret-square-o-up:before {
  content: "\f151";
}
.fa-toggle-right:before,
.fa-caret-square-o-right:before {
  content: "\f152";
}
.fa-euro:before,
.fa-eur:before {
  content: "\f153";
}
.fa-gbp:before {
  content: "\f154";
}
.fa-dollar:before,
.fa-usd:before {
  content: "\f155";
}
.fa-rupee:before,
.fa-inr:before {
  content: "\f156";
}
.fa-cny:before,
.fa-rmb:before,
.fa-yen:before,
.fa-jpy:before {
  content: "\f157";
}
.fa-ruble:before,
.fa-rouble:before,
.fa-rub:before {
  content: "\f158";
}
.fa-won:before,
.fa-krw:before {
  content: "\f159";
}
.fa-bitcoin:before,
.fa-btc:before {
  content: "\f15a";
}
.fa-file:before {
  content: "\f15b";
}
.fa-file-text:before {
  content: "\f15c";
}
.fa-sort-alpha-asc:before {
  content: "\f15d";
}
.fa-sort-alpha-desc:before {
  content: "\f15e";
}
.fa-sort-amount-asc:before {
  content: "\f160";
}
.fa-sort-amount-desc:before {
  content: "\f161";
}
.fa-sort-numeric-asc:before {
  content: "\f162";
}
.fa-sort-numeric-desc:before {
  content: "\f163";
}
.fa-thumbs-up:before {
  content: "\f164";
}
.fa-thumbs-down:before {
  content: "\f165";
}
.fa-youtube-square:before {
  content: "\f166";
}
.fa-youtube:before {
  content: "\f167";
}
.fa-xing:before {
  content: "\f168";
}
.fa-xing-square:before {
  content: "\f169";
}
.fa-youtube-play:before {
  content: "\f16a";
}
.fa-dropbox:before {
  content: "\f16b";
}
.fa-stack-overflow:before {
  content: "\f16c";
}
.fa-instagram:before {
  content: "\f16d";
}
.fa-flickr:before {
  content: "\f16e";
}
.fa-adn:before {
  content: "\f170";
}
.fa-bitbucket:before {
  content: "\f171";
}
.fa-bitbucket-square:before {
  content: "\f172";
}
.fa-tumblr:before {
  content: "\f173";
}
.fa-tumblr-square:before {
  content: "\f174";
}
.fa-long-arrow-down:before {
  content: "\f175";
}
.fa-long-arrow-up:before {
  content: "\f176";
}
.fa-long-arrow-left:before {
  content: "\f177";
}
.fa-long-arrow-right:before {
  content: "\f178";
}
.fa-apple:before {
  content: "\f179";
}
.fa-windows:before {
  content: "\f17a";
}
.fa-android:before {
  content: "\f17b";
}
.fa-linux:before {
  content: "\f17c";
}
.fa-dribbble:before {
  content: "\f17d";
}
.fa-skype:before {
  content: "\f17e";
}
.fa-foursquare:before {
  content: "\f180";
}
.fa-trello:before {
  content: "\f181";
}
.fa-female:before {
  content: "\f182";
}
.fa-male:before {
  content: "\f183";
}
.fa-gittip:before,
.fa-gratipay:before {
  content: "\f184";
}
.fa-sun-o:before {
  content: "\f185";
}
.fa-moon-o:before {
  content: "\f186";
}
.fa-archive:before {
  content: "\f187";
}
.fa-bug:before {
  content: "\f188";
}
.fa-vk:before {
  content: "\f189";
}
.fa-weibo:before {
  content: "\f18a";
}
.fa-renren:before {
  content: "\f18b";
}
.fa-pagelines:before {
  content: "\f18c";
}
.fa-stack-exchange:before {
  content: "\f18d";
}
.fa-arrow-circle-o-right:before {
  content: "\f18e";
}
.fa-arrow-circle-o-left:before {
  content: "\f190";
}
.fa-toggle-left:before,
.fa-caret-square-o-left:before {
  content: "\f191";
}
.fa-dot-circle-o:before {
  content: "\f192";
}
.fa-wheelchair:before {
  content: "\f193";
}
.fa-vimeo-square:before {
  content: "\f194";
}
.fa-turkish-lira:before,
.fa-try:before {
  content: "\f195";
}
.fa-plus-square-o:before {
  content: "\f196";
}
.fa-space-shuttle:before {
  content: "\f197";
}
.fa-slack:before {
  content: "\f198";
}
.fa-envelope-square:before {
  content: "\f199";
}
.fa-wordpress:before {
  content: "\f19a";
}
.fa-openid:before {
  content: "\f19b";
}
.fa-institution:before,
.fa-bank:before,
.fa-university:before {
  content: "\f19c";
}
.fa-mortar-board:before,
.fa-graduation-cap:before {
  content: "\f19d";
}
.fa-yahoo:before {
  content: "\f19e";
}
.fa-google:before {
  content: "\f1a0";
}
.fa-reddit:before {
  content: "\f1a1";
}
.fa-reddit-square:before {
  content: "\f1a2";
}
.fa-stumbleupon-circle:before {
  content: "\f1a3";
}
.fa-stumbleupon:before {
  content: "\f1a4";
}
.fa-delicious:before {
  content: "\f1a5";
}
.fa-digg:before {
  content: "\f1a6";
}
.fa-pied-piper-pp:before {
  content: "\f1a7";
}
.fa-pied-piper-alt:before {
  content: "\f1a8";
}
.fa-drupal:before {
  content: "\f1a9";
}
.fa-joomla:before {
  content: "\f1aa";
}
.fa-language:before {
  content: "\f1ab";
}
.fa-fax:before {
  content: "\f1ac";
}
.fa-building:before {
  content: "\f1ad";
}
.fa-child:before {
  content: "\f1ae";
}
.fa-paw:before {
  content: "\f1b0";
}
.fa-spoon:before {
  content: "\f1b1";
}
.fa-cube:before {
  content: "\f1b2";
}
.fa-cubes:before {
  content: "\f1b3";
}
.fa-behance:before {
  content: "\f1b4";
}
.fa-behance-square:before {
  content: "\f1b5";
}
.fa-steam:before {
  content: "\f1b6";
}
.fa-steam-square:before {
  content: "\f1b7";
}
.fa-recycle:before {
  content: "\f1b8";
}
.fa-automobile:before,
.fa-car:before {
  content: "\f1b9";
}
.fa-cab:before,
.fa-taxi:before {
  content: "\f1ba";
}
.fa-tree:before {
  content: "\f1bb";
}
.fa-spotify:before {
  content: "\f1bc";
}
.fa-deviantart:before {
  content: "\f1bd";
}
.fa-soundcloud:before {
  content: "\f1be";
}
.fa-database:before {
  content: "\f1c0";
}
.fa-file-pdf-o:before {
  content: "\f1c1";
}
.fa-file-word-o:before {
  content: "\f1c2";
}
.fa-file-excel-o:before {
  content: "\f1c3";
}
.fa-file-powerpoint-o:before {
  content: "\f1c4";
}
.fa-file-photo-o:before,
.fa-file-picture-o:before,
.fa-file-image-o:before {
  content: "\f1c5";
}
.fa-file-zip-o:before,
.fa-file-archive-o:before {
  content: "\f1c6";
}
.fa-file-sound-o:before,
.fa-file-audio-o:before {
  content: "\f1c7";
}
.fa-file-movie-o:before,
.fa-file-video-o:before {
  content: "\f1c8";
}
.fa-file-code-o:before {
  content: "\f1c9";
}
.fa-vine:before {
  content: "\f1ca";
}
.fa-codepen:before {
  content: "\f1cb";
}
.fa-jsfiddle:before {
  content: "\f1cc";
}
.fa-life-bouy:before,
.fa-life-buoy:before,
.fa-life-saver:before,
.fa-support:before,
.fa-life-ring:before {
  content: "\f1cd";
}
.fa-circle-o-notch:before {
  content: "\f1ce";
}
.fa-ra:before,
.fa-resistance:before,
.fa-rebel:before {
  content: "\f1d0";
}
.fa-ge:before,
.fa-empire:before {
  content: "\f1d1";
}
.fa-git-square:before {
  content: "\f1d2";
}
.fa-git:before {
  content: "\f1d3";
}
.fa-y-combinator-square:before,
.fa-yc-square:before,
.fa-hacker-news:before {
  content: "\f1d4";
}
.fa-tencent-weibo:before {
  content: "\f1d5";
}
.fa-qq:before {
  content: "\f1d6";
}
.fa-wechat:before,
.fa-weixin:before {
  content: "\f1d7";
}
.fa-send:before,
.fa-paper-plane:before {
  content: "\f1d8";
}
.fa-send-o:before,
.fa-paper-plane-o:before {
  content: "\f1d9";
}
.fa-history:before {
  content: "\f1da";
}
.fa-circle-thin:before {
  content: "\f1db";
}
.fa-header:before {
  content: "\f1dc";
}
.fa-paragraph:before {
  content: "\f1dd";
}
.fa-sliders:before {
  content: "\f1de";
}
.fa-share-alt:before {
  content: "\f1e0";
}
.fa-share-alt-square:before {
  content: "\f1e1";
}
.fa-bomb:before {
  content: "\f1e2";
}
.fa-soccer-ball-o:before,
.fa-futbol-o:before {
  content: "\f1e3";
}
.fa-tty:before {
  content: "\f1e4";
}
.fa-binoculars:before {
  content: "\f1e5";
}
.fa-plug:before {
  content: "\f1e6";
}
.fa-slideshare:before {
  content: "\f1e7";
}
.fa-twitch:before {
  content: "\f1e8";
}
.fa-yelp:before {
  content: "\f1e9";
}
.fa-newspaper-o:before {
  content: "\f1ea";
}
.fa-wifi:before {
  content: "\f1eb";
}
.fa-calculator:before {
  content: "\f1ec";
}
.fa-paypal:before {
  content: "\f1ed";
}
.fa-google-wallet:before {
  content: "\f1ee";
}
.fa-cc-visa:before {
  content: "\f1f0";
}
.fa-cc-mastercard:before {
  content: "\f1f1";
}
.fa-cc-discover:before {
  content: "\f1f2";
}
.fa-cc-amex:before {
  content: "\f1f3";
}
.fa-cc-paypal:before {
  content: "\f1f4";
}
.fa-cc-stripe:before {
  content: "\f1f5";
}
.fa-bell-slash:before {
  content: "\f1f6";
}
.fa-bell-slash-o:before {
  content: "\f1f7";
}
.fa-trash:before {
  content: "\f1f8";
}
.fa-copyright:before {
  content: "\f1f9";
}
.fa-at:before {
  content: "\f1fa";
}
.fa-eyedropper:before {
  content: "\f1fb";
}
.fa-paint-brush:before {
  content: "\f1fc";
}
.fa-birthday-cake:before {
  content: "\f1fd";
}
.fa-area-chart:before {
  content: "\f1fe";
}
.fa-pie-chart:before {
  content: "\f200";
}
.fa-line-chart:before {
  content: "\f201";
}
.fa-lastfm:before {
  content: "\f202";
}
.fa-lastfm-square:before {
  content: "\f203";
}
.fa-toggle-off:before {
  content: "\f204";
}
.fa-toggle-on:before {
  content: "\f205";
}
.fa-bicycle:before {
  content: "\f206";
}
.fa-bus:before {
  content: "\f207";
}
.fa-ioxhost:before {
  content: "\f208";
}
.fa-angellist:before {
  content: "\f209";
}
.fa-cc:before {
  content: "\f20a";
}
.fa-shekel:before,
.fa-sheqel:before,
.fa-ils:before {
  content: "\f20b";
}
.fa-meanpath:before {
  content: "\f20c";
}
.fa-buysellads:before {
  content: "\f20d";
}
.fa-connectdevelop:before {
  content: "\f20e";
}
.fa-dashcube:before {
  content: "\f210";
}
.fa-forumbee:before {
  content: "\f211";
}
.fa-leanpub:before {
  content: "\f212";
}
.fa-sellsy:before {
  content: "\f213";
}
.fa-shirtsinbulk:before {
  content: "\f214";
}
.fa-simplybuilt:before {
  content: "\f215";
}
.fa-skyatlas:before {
  content: "\f216";
}
.fa-cart-plus:before {
  content: "\f217";
}
.fa-cart-arrow-down:before {
  content: "\f218";
}
.fa-diamond:before {
  content: "\f219";
}
.fa-ship:before {
  content: "\f21a";
}
.fa-user-secret:before {
  content: "\f21b";
}
.fa-motorcycle:before {
  content: "\f21c";
}
.fa-street-view:before {
  content: "\f21d";
}
.fa-heartbeat:before {
  content: "\f21e";
}
.fa-venus:before {
  content: "\f221";
}
.fa-mars:before {
  content: "\f222";
}
.fa-mercury:before {
  content: "\f223";
}
.fa-intersex:before,
.fa-transgender:before {
  content: "\f224";
}
.fa-transgender-alt:before {
  content: "\f225";
}
.fa-venus-double:before {
  content: "\f226";
}
.fa-mars-double:before {
  content: "\f227";
}
.fa-venus-mars:before {
  content: "\f228";
}
.fa-mars-stroke:before {
  content: "\f229";
}
.fa-mars-stroke-v:before {
  content: "\f22a";
}
.fa-mars-stroke-h:before {
  content: "\f22b";
}
.fa-neuter:before {
  content: "\f22c";
}
.fa-genderless:before {
  content: "\f22d";
}
.fa-facebook-official:before {
  content: "\f230";
}
.fa-pinterest-p:before {
  content: "\f231";
}
.fa-whatsapp:before {
  content: "\f232";
}
.fa-server:before {
  content: "\f233";
}
.fa-user-plus:before {
  content: "\f234";
}
.fa-user-times:before {
  content: "\f235";
}
.fa-hotel:before,
.fa-bed:before {
  content: "\f236";
}
.fa-viacoin:before {
  content: "\f237";
}
.fa-train:before {
  content: "\f238";
}
.fa-subway:before {
  content: "\f239";
}
.fa-medium:before {
  content: "\f23a";
}
.fa-yc:before,
.fa-y-combinator:before {
  content: "\f23b";
}
.fa-optin-monster:before {
  content: "\f23c";
}
.fa-opencart:before {
  content: "\f23d";
}
.fa-expeditedssl:before {
  content: "\f23e";
}
.fa-battery-4:before,
.fa-battery:before,
.fa-battery-full:before {
  content: "\f240";
}
.fa-battery-3:before,
.fa-battery-three-quarters:before {
  content: "\f241";
}
.fa-battery-2:before,
.fa-battery-half:before {
  content: "\f242";
}
.fa-battery-1:before,
.fa-battery-quarter:before {
  content: "\f243";
}
.fa-battery-0:before,
.fa-battery-empty:before {
  content: "\f244";
}
.fa-mouse-pointer:before {
  content: "\f245";
}
.fa-i-cursor:before {
  content: "\f246";
}
.fa-object-group:before {
  content: "\f247";
}
.fa-object-ungroup:before {
  content: "\f248";
}
.fa-sticky-note:before {
  content: "\f249";
}
.fa-sticky-note-o:before {
  content: "\f24a";
}
.fa-cc-jcb:before {
  content: "\f24b";
}
.fa-cc-diners-club:before {
  content: "\f24c";
}
.fa-clone:before {
  content: "\f24d";
}
.fa-balance-scale:before {
  content: "\f24e";
}
.fa-hourglass-o:before {
  content: "\f250";
}
.fa-hourglass-1:before,
.fa-hourglass-start:before {
  content: "\f251";
}
.fa-hourglass-2:before,
.fa-hourglass-half:before {
  content: "\f252";
}
.fa-hourglass-3:before,
.fa-hourglass-end:before {
  content: "\f253";
}
.fa-hourglass:before {
  content: "\f254";
}
.fa-hand-grab-o:before,
.fa-hand-rock-o:before {
  content: "\f255";
}
.fa-hand-stop-o:before,
.fa-hand-paper-o:before {
  content: "\f256";
}
.fa-hand-scissors-o:before {
  content: "\f257";
}
.fa-hand-lizard-o:before {
  content: "\f258";
}
.fa-hand-spock-o:before {
  content: "\f259";
}
.fa-hand-pointer-o:before {
  content: "\f25a";
}
.fa-hand-peace-o:before {
  content: "\f25b";
}
.fa-trademark:before {
  content: "\f25c";
}
.fa-registered:before {
  content: "\f25d";
}
.fa-creative-commons:before {
  content: "\f25e";
}
.fa-gg:before {
  content: "\f260";
}
.fa-gg-circle:before {
  content: "\f261";
}
.fa-tripadvisor:before {
  content: "\f262";
}
.fa-odnoklassniki:before {
  content: "\f263";
}
.fa-odnoklassniki-square:before {
  content: "\f264";
}
.fa-get-pocket:before {
  content: "\f265";
}
.fa-wikipedia-w:before {
  content: "\f266";
}
.fa-safari:before {
  content: "\f267";
}
.fa-chrome:before {
  content: "\f268";
}
.fa-firefox:before {
  content: "\f269";
}
.fa-opera:before {
  content: "\f26a";
}
.fa-internet-explorer:before {
  content: "\f26b";
}
.fa-tv:before,
.fa-television:before {
  content: "\f26c";
}
.fa-contao:before {
  content: "\f26d";
}
.fa-500px:before {
  content: "\f26e";
}
.fa-amazon:before {
  content: "\f270";
}
.fa-calendar-plus-o:before {
  content: "\f271";
}
.fa-calendar-minus-o:before {
  content: "\f272";
}
.fa-calendar-times-o:before {
  content: "\f273";
}
.fa-calendar-check-o:before {
  content: "\f274";
}
.fa-industry:before {
  content: "\f275";
}
.fa-map-pin:before {
  content: "\f276";
}
.fa-map-signs:before {
  content: "\f277";
}
.fa-map-o:before {
  content: "\f278";
}
.fa-map:before {
  content: "\f279";
}
.fa-commenting:before {
  content: "\f27a";
}
.fa-commenting-o:before {
  content: "\f27b";
}
.fa-houzz:before {
  content: "\f27c";
}
.fa-vimeo:before {
  content: "\f27d";
}
.fa-black-tie:before {
  content: "\f27e";
}
.fa-fonticons:before {
  content: "\f280";
}
.fa-reddit-alien:before {
  content: "\f281";
}
.fa-edge:before {
  content: "\f282";
}
.fa-credit-card-alt:before {
  content: "\f283";
}
.fa-codiepie:before {
  content: "\f284";
}
.fa-modx:before {
  content: "\f285";
}
.fa-fort-awesome:before {
  content: "\f286";
}
.fa-usb:before {
  content: "\f287";
}
.fa-product-hunt:before {
  content: "\f288";
}
.fa-mixcloud:before {
  content: "\f289";
}
.fa-scribd:before {
  content: "\f28a";
}
.fa-pause-circle:before {
  content: "\f28b";
}
.fa-pause-circle-o:before {
  content: "\f28c";
}
.fa-stop-circle:before {
  content: "\f28d";
}
.fa-stop-circle-o:before {
  content: "\f28e";
}
.fa-shopping-bag:before {
  content: "\f290";
}
.fa-shopping-basket:before {
  content: "\f291";
}
.fa-hashtag:before {
  content: "\f292";
}
.fa-bluetooth:before {
  content: "\f293";
}
.fa-bluetooth-b:before {
  content: "\f294";
}
.fa-percent:before {
  content: "\f295";
}
.fa-gitlab:before {
  content: "\f296";
}
.fa-wpbeginner:before {
  content: "\f297";
}
.fa-wpforms:before {
  content: "\f298";
}
.fa-envira:before {
  content: "\f299";
}
.fa-universal-access:before {
  content: "\f29a";
}
.fa-wheelchair-alt:before {
  content: "\f29b";
}
.fa-question-circle-o:before {
  content: "\f29c";
}
.fa-blind:before {
  content: "\f29d";
}
.fa-audio-description:before {
  content: "\f29e";
}
.fa-volume-control-phone:before {
  content: "\f2a0";
}
.fa-braille:before {
  content: "\f2a1";
}
.fa-assistive-listening-systems:before {
  content: "\f2a2";
}
.fa-asl-interpreting:before,
.fa-american-sign-language-interpreting:before {
  content: "\f2a3";
}
.fa-deafness:before,
.fa-hard-of-hearing:before,
.fa-deaf:before {
  content: "\f2a4";
}
.fa-glide:before {
  content: "\f2a5";
}
.fa-glide-g:before {
  content: "\f2a6";
}
.fa-signing:before,
.fa-sign-language:before {
  content: "\f2a7";
}
.fa-low-vision:before {
  content: "\f2a8";
}
.fa-viadeo:before {
  content: "\f2a9";
}
.fa-viadeo-square:before {
  content: "\f2aa";
}
.fa-snapchat:before {
  content: "\f2ab";
}
.fa-snapchat-ghost:before {
  content: "\f2ac";
}
.fa-snapchat-square:before {
  content: "\f2ad";
}
.fa-pied-piper:before {
  content: "\f2ae";
}
.fa-first-order:before {
  content: "\f2b0";
}
.fa-yoast:before {
  content: "\f2b1";
}
.fa-themeisle:before {
  content: "\f2b2";
}
.fa-google-plus-circle:before,
.fa-google-plus-official:before {
  content: "\f2b3";
}
.fa-fa:before,
.fa-font-awesome:before {
  content: "\f2b4";
}
.fa-handshake-o:before {
  content: "\f2b5";
}
.fa-envelope-open:before {
  content: "\f2b6";
}
.fa-envelope-open-o:before {
  content: "\f2b7";
}
.fa-linode:before {
  content: "\f2b8";
}
.fa-address-book:before {
  content: "\f2b9";
}
.fa-address-book-o:before {
  content: "\f2ba";
}
.fa-vcard:before,
.fa-address-card:before {
  content: "\f2bb";
}
.fa-vcard-o:before,
.fa-address-card-o:before {
  content: "\f2bc";
}
.fa-user-circle:before {
  content: "\f2bd";
}
.fa-user-circle-o:before {
  content: "\f2be";
}
.fa-user-o:before {
  content: "\f2c0";
}
.fa-id-badge:before {
  content: "\f2c1";
}
.fa-drivers-license:before,
.fa-id-card:before {
  content: "\f2c2";
}
.fa-drivers-license-o:before,
.fa-id-card-o:before {
  content: "\f2c3";
}
.fa-quora:before {
  content: "\f2c4";
}
.fa-free-code-camp:before {
  content: "\f2c5";
}
.fa-telegram:before {
  content: "\f2c6";
}
.fa-thermometer-4:before,
.fa-thermometer:before,
.fa-thermometer-full:before {
  content: "\f2c7";
}
.fa-thermometer-3:before,
.fa-thermometer-three-quarters:before {
  content: "\f2c8";
}
.fa-thermometer-2:before,
.fa-thermometer-half:before {
  content: "\f2c9";
}
.fa-thermometer-1:before,
.fa-thermometer-quarter:before {
  content: "\f2ca";
}
.fa-thermometer-0:before,
.fa-thermometer-empty:before {
  content: "\f2cb";
}
.fa-shower:before {
  content: "\f2cc";
}
.fa-bathtub:before,
.fa-s15:before,
.fa-bath:before {
  content: "\f2cd";
}
.fa-podcast:before {
  content: "\f2ce";
}
.fa-window-maximize:before {
  content: "\f2d0";
}
.fa-window-minimize:before {
  content: "\f2d1";
}
.fa-window-restore:before {
  content: "\f2d2";
}
.fa-times-rectangle:before,
.fa-window-close:before {
  content: "\f2d3";
}
.fa-times-rectangle-o:before,
.fa-window-close-o:before {
  content: "\f2d4";
}
.fa-bandcamp:before {
  content: "\f2d5";
}
.fa-grav:before {
  content: "\f2d6";
}
.fa-etsy:before {
  content: "\f2d7";
}
.fa-imdb:before {
  content: "\f2d8";
}
.fa-ravelry:before {
  content: "\f2d9";
}
.fa-eercast:before {
  content: "\f2da";
}
.fa-microchip:before {
  content: "\f2db";
}
.fa-snowflake-o:before {
  content: "\f2dc";
}
.fa-superpowers:before {
  content: "\f2dd";
}
.fa-wpexplorer:before {
  content: "\f2de";
}
.fa-meetup:before {
  content: "\f2e0";
}
.sr-only {
  position: absolute;
  width: 1px;
  height: 1px;
  padding: 0;
  margin: -1px;
  overflow: hidden;
  clip: rect(0, 0, 0, 0);
  border: 0;
}
.sr-only-focusable:active,
.sr-only-focusable:focus {
  position: static;
  width: auto;
  height: auto;
  margin: 0;
  overflow: visible;
  clip: auto;
}
.sr-only-focusable:active,
.sr-only-focusable:focus {
  position: static;
  width: auto;
  height: auto;
  margin: 0;
  overflow: visible;
  clip: auto;
}
/*!
*
* IPython base
*
*/
.modal.fade .modal-dialog {
  -webkit-transform: translate(0, 0);
  -ms-transform: translate(0, 0);
  -o-transform: translate(0, 0);
  transform: translate(0, 0);
}
code {
  color: #000;
}
pre {
  font-size: inherit;
  line-height: inherit;
}
label {
  font-weight: normal;
}
/* Make the page background atleast 100% the height of the view port */
/* Make the page itself atleast 70% the height of the view port */
.border-box-sizing {
  box-sizing: border-box;
  -moz-box-sizing: border-box;
  -webkit-box-sizing: border-box;
}
.corner-all {
  border-radius: 2px;
}
.no-padding {
  padding: 0px;
}
/* Flexible box model classes */
/* Taken from Alex Russell http://infrequently.org/2009/08/css-3-progress/ */
/* This file is a compatability layer.  It allows the usage of flexible box 
model layouts accross multiple browsers, including older browsers.  The newest,
universal implementation of the flexible box model is used when available (see
`Modern browsers` comments below).  Browsers that are known to implement this 
new spec completely include:

    Firefox 28.0+
    Chrome 29.0+
    Internet Explorer 11+ 
    Opera 17.0+

Browsers not listed, including Safari, are supported via the styling under the
`Old browsers` comments below.
*/
.hbox {
  /* Old browsers */
  display: -webkit-box;
  -webkit-box-orient: horizontal;
  -webkit-box-align: stretch;
  display: -moz-box;
  -moz-box-orient: horizontal;
  -moz-box-align: stretch;
  display: box;
  box-orient: horizontal;
  box-align: stretch;
  /* Modern browsers */
  display: flex;
  flex-direction: row;
  align-items: stretch;
}
.hbox > * {
  /* Old browsers */
  -webkit-box-flex: 0;
  -moz-box-flex: 0;
  box-flex: 0;
  /* Modern browsers */
  flex: none;
}
.vbox {
  /* Old browsers */
  display: -webkit-box;
  -webkit-box-orient: vertical;
  -webkit-box-align: stretch;
  display: -moz-box;
  -moz-box-orient: vertical;
  -moz-box-align: stretch;
  display: box;
  box-orient: vertical;
  box-align: stretch;
  /* Modern browsers */
  display: flex;
  flex-direction: column;
  align-items: stretch;
}
.vbox > * {
  /* Old browsers */
  -webkit-box-flex: 0;
  -moz-box-flex: 0;
  box-flex: 0;
  /* Modern browsers */
  flex: none;
}
.hbox.reverse,
.vbox.reverse,
.reverse {
  /* Old browsers */
  -webkit-box-direction: reverse;
  -moz-box-direction: reverse;
  box-direction: reverse;
  /* Modern browsers */
  flex-direction: row-reverse;
}
.hbox.box-flex0,
.vbox.box-flex0,
.box-flex0 {
  /* Old browsers */
  -webkit-box-flex: 0;
  -moz-box-flex: 0;
  box-flex: 0;
  /* Modern browsers */
  flex: none;
  width: auto;
}
.hbox.box-flex1,
.vbox.box-flex1,
.box-flex1 {
  /* Old browsers */
  -webkit-box-flex: 1;
  -moz-box-flex: 1;
  box-flex: 1;
  /* Modern browsers */
  flex: 1;
}
.hbox.box-flex,
.vbox.box-flex,
.box-flex {
  /* Old browsers */
  /* Old browsers */
  -webkit-box-flex: 1;
  -moz-box-flex: 1;
  box-flex: 1;
  /* Modern browsers */
  flex: 1;
}
.hbox.box-flex2,
.vbox.box-flex2,
.box-flex2 {
  /* Old browsers */
  -webkit-box-flex: 2;
  -moz-box-flex: 2;
  box-flex: 2;
  /* Modern browsers */
  flex: 2;
}
.box-group1 {
  /*  Deprecated */
  -webkit-box-flex-group: 1;
  -moz-box-flex-group: 1;
  box-flex-group: 1;
}
.box-group2 {
  /* Deprecated */
  -webkit-box-flex-group: 2;
  -moz-box-flex-group: 2;
  box-flex-group: 2;
}
.hbox.start,
.vbox.start,
.start {
  /* Old browsers */
  -webkit-box-pack: start;
  -moz-box-pack: start;
  box-pack: start;
  /* Modern browsers */
  justify-content: flex-start;
}
.hbox.end,
.vbox.end,
.end {
  /* Old browsers */
  -webkit-box-pack: end;
  -moz-box-pack: end;
  box-pack: end;
  /* Modern browsers */
  justify-content: flex-end;
}
.hbox.center,
.vbox.center,
.center {
  /* Old browsers */
  -webkit-box-pack: center;
  -moz-box-pack: center;
  box-pack: center;
  /* Modern browsers */
  justify-content: center;
}
.hbox.baseline,
.vbox.baseline,
.baseline {
  /* Old browsers */
  -webkit-box-pack: baseline;
  -moz-box-pack: baseline;
  box-pack: baseline;
  /* Modern browsers */
  justify-content: baseline;
}
.hbox.stretch,
.vbox.stretch,
.stretch {
  /* Old browsers */
  -webkit-box-pack: stretch;
  -moz-box-pack: stretch;
  box-pack: stretch;
  /* Modern browsers */
  justify-content: stretch;
}
.hbox.align-start,
.vbox.align-start,
.align-start {
  /* Old browsers */
  -webkit-box-align: start;
  -moz-box-align: start;
  box-align: start;
  /* Modern browsers */
  align-items: flex-start;
}
.hbox.align-end,
.vbox.align-end,
.align-end {
  /* Old browsers */
  -webkit-box-align: end;
  -moz-box-align: end;
  box-align: end;
  /* Modern browsers */
  align-items: flex-end;
}
.hbox.align-center,
.vbox.align-center,
.align-center {
  /* Old browsers */
  -webkit-box-align: center;
  -moz-box-align: center;
  box-align: center;
  /* Modern browsers */
  align-items: center;
}
.hbox.align-baseline,
.vbox.align-baseline,
.align-baseline {
  /* Old browsers */
  -webkit-box-align: baseline;
  -moz-box-align: baseline;
  box-align: baseline;
  /* Modern browsers */
  align-items: baseline;
}
.hbox.align-stretch,
.vbox.align-stretch,
.align-stretch {
  /* Old browsers */
  -webkit-box-align: stretch;
  -moz-box-align: stretch;
  box-align: stretch;
  /* Modern browsers */
  align-items: stretch;
}
div.error {
  margin: 2em;
  text-align: center;
}
div.error > h1 {
  font-size: 500%;
  line-height: normal;
}
div.error > p {
  font-size: 200%;
  line-height: normal;
}
div.traceback-wrapper {
  text-align: left;
  max-width: 800px;
  margin: auto;
}
div.traceback-wrapper pre.traceback {
  max-height: 600px;
  overflow: auto;
}
/**
 * Primary styles
 *
 * Author: Jupyter Development Team
 */
body {
  background-color: #fff;
  /* This makes sure that the body covers the entire window and needs to
       be in a different element than the display: box in wrapper below */
  position: absolute;
  left: 0px;
  right: 0px;
  top: 0px;
  bottom: 0px;
  overflow: visible;
}
body > #header {
  /* Initially hidden to prevent FLOUC */
  display: none;
  background-color: #fff;
  /* Display over codemirror */
  position: relative;
  z-index: 100;
}
body > #header #header-container {
  display: flex;
  flex-direction: row;
  justify-content: space-between;
  padding: 5px;
  padding-bottom: 5px;
  padding-top: 5px;
  box-sizing: border-box;
  -moz-box-sizing: border-box;
  -webkit-box-sizing: border-box;
}
body > #header .header-bar {
  width: 100%;
  height: 1px;
  background: #e7e7e7;
  margin-bottom: -1px;
}
@media print {
  body > #header {
    display: none !important;
  }
}
#header-spacer {
  width: 100%;
  visibility: hidden;
}
@media print {
  #header-spacer {
    display: none;
  }
}
#ipython_notebook {
  padding-left: 0px;
  padding-top: 1px;
  padding-bottom: 1px;
}
[dir="rtl"] #ipython_notebook {
  margin-right: 10px;
  margin-left: 0;
}
[dir="rtl"] #ipython_notebook.pull-left {
  float: right !important;
  float: right;
}
.flex-spacer {
  flex: 1;
}
#noscript {
  width: auto;
  padding-top: 16px;
  padding-bottom: 16px;
  text-align: center;
  font-size: 22px;
  color: red;
  font-weight: bold;
}
#ipython_notebook img {
  height: 28px;
}
#site {
  width: 100%;
  display: none;
  box-sizing: border-box;
  -moz-box-sizing: border-box;
  -webkit-box-sizing: border-box;
  overflow: auto;
}
@media print {
  #site {
    height: auto !important;
  }
}
/* Smaller buttons */
.ui-button .ui-button-text {
  padding: 0.2em 0.8em;
  font-size: 77%;
}
input.ui-button {
  padding: 0.3em 0.9em;
}
span#kernel_logo_widget {
  margin: 0 10px;
}
span#login_widget {
  float: right;
}
[dir="rtl"] span#login_widget {
  float: left;
}
span#login_widget > .button,
#logout {
  color: #333;
  background-color: #fff;
  border-color: #ccc;
}
span#login_widget > .button:focus,
#logout:focus,
span#login_widget > .button.focus,
#logout.focus {
  color: #333;
  background-color: #e6e6e6;
  border-color: #8c8c8c;
}
span#login_widget > .button:hover,
#logout:hover {
  color: #333;
  background-color: #e6e6e6;
  border-color: #adadad;
}
span#login_widget > .button:active,
#logout:active,
span#login_widget > .button.active,
#logout.active,
.open > .dropdown-togglespan#login_widget > .button,
.open > .dropdown-toggle#logout {
  color: #333;
  background-color: #e6e6e6;
  border-color: #adadad;
}
span#login_widget > .button:active:hover,
#logout:active:hover,
span#login_widget > .button.active:hover,
#logout.active:hover,
.open > .dropdown-togglespan#login_widget > .button:hover,
.open > .dropdown-toggle#logout:hover,
span#login_widget > .button:active:focus,
#logout:active:focus,
span#login_widget > .button.active:focus,
#logout.active:focus,
.open > .dropdown-togglespan#login_widget > .button:focus,
.open > .dropdown-toggle#logout:focus,
span#login_widget > .button:active.focus,
#logout:active.focus,
span#login_widget > .button.active.focus,
#logout.active.focus,
.open > .dropdown-togglespan#login_widget > .button.focus,
.open > .dropdown-toggle#logout.focus {
  color: #333;
  background-color: #d4d4d4;
  border-color: #8c8c8c;
}
span#login_widget > .button:active,
#logout:active,
span#login_widget > .button.active,
#logout.active,
.open > .dropdown-togglespan#login_widget > .button,
.open > .dropdown-toggle#logout {
  background-image: none;
}
span#login_widget > .button.disabled:hover,
#logout.disabled:hover,
span#login_widget > .button[disabled]:hover,
#logout[disabled]:hover,
fieldset[disabled] span#login_widget > .button:hover,
fieldset[disabled] #logout:hover,
span#login_widget > .button.disabled:focus,
#logout.disabled:focus,
span#login_widget > .button[disabled]:focus,
#logout[disabled]:focus,
fieldset[disabled] span#login_widget > .button:focus,
fieldset[disabled] #logout:focus,
span#login_widget > .button.disabled.focus,
#logout.disabled.focus,
span#login_widget > .button[disabled].focus,
#logout[disabled].focus,
fieldset[disabled] span#login_widget > .button.focus,
fieldset[disabled] #logout.focus {
  background-color: #fff;
  border-color: #ccc;
}
span#login_widget > .button .badge,
#logout .badge {
  color: #fff;
  background-color: #333;
}
.nav-header {
  text-transform: none;
}
#header > span {
  margin-top: 10px;
}
.modal_stretch .modal-dialog {
  /* Old browsers */
  display: -webkit-box;
  -webkit-box-orient: vertical;
  -webkit-box-align: stretch;
  display: -moz-box;
  -moz-box-orient: vertical;
  -moz-box-align: stretch;
  display: box;
  box-orient: vertical;
  box-align: stretch;
  /* Modern browsers */
  display: flex;
  flex-direction: column;
  align-items: stretch;
  min-height: 80vh;
}
.modal_stretch .modal-dialog .modal-body {
  max-height: calc(100vh - 200px);
  overflow: auto;
  flex: 1;
}
.modal-header {
  cursor: move;
}
@media (min-width: 768px) {
  .modal .modal-dialog {
    width: 700px;
  }
}
@media (min-width: 768px) {
  select.form-control {
    margin-left: 12px;
    margin-right: 12px;
  }
}
/*!
*
* IPython auth
*
*/
.center-nav {
  display: inline-block;
  margin-bottom: -4px;
}
[dir="rtl"] .center-nav form.pull-left {
  float: right !important;
  float: right;
}
[dir="rtl"] .center-nav .navbar-text {
  float: right;
}
[dir="rtl"] .navbar-inner {
  text-align: right;
}
[dir="rtl"] div.text-left {
  text-align: right;
}
/*!
*
* IPython tree view
*
*/
/* We need an invisible input field on top of the sentense*/
/* "Drag file onto the list ..." */
.alternate_upload {
  background-color: none;
  display: inline;
}
.alternate_upload.form {
  padding: 0;
  margin: 0;
}
.alternate_upload input.fileinput {
  position: absolute;
  display: block;
  width: 100%;
  height: 100%;
  overflow: hidden;
  cursor: pointer;
  opacity: 0;
  z-index: 2;
}
.alternate_upload .btn-xs > input.fileinput {
  margin: -1px -5px;
}
.alternate_upload .btn-upload {
  position: relative;
  height: 22px;
}
::-webkit-file-upload-button {
  cursor: pointer;
}
/**
 * Primary styles
 *
 * Author: Jupyter Development Team
 */
ul#tabs {
  margin-bottom: 4px;
}
ul#tabs a {
  padding-top: 6px;
  padding-bottom: 4px;
}
[dir="rtl"] ul#tabs.nav-tabs > li {
  float: right;
}
[dir="rtl"] ul#tabs.nav.nav-tabs {
  padding-right: 0;
}
ul.breadcrumb a:focus,
ul.breadcrumb a:hover {
  text-decoration: none;
}
ul.breadcrumb i.icon-home {
  font-size: 16px;
  margin-right: 4px;
}
ul.breadcrumb span {
  color: #5e5e5e;
}
.list_toolbar {
  padding: 4px 0 4px 0;
  vertical-align: middle;
}
.list_toolbar .tree-buttons {
  padding-top: 1px;
}
[dir="rtl"] .list_toolbar .tree-buttons .pull-right {
  float: left !important;
  float: left;
}
[dir="rtl"] .list_toolbar .col-sm-4,
[dir="rtl"] .list_toolbar .col-sm-8 {
  float: right;
}
.dynamic-buttons {
  padding-top: 3px;
  display: inline-block;
}
.list_toolbar [class*="span"] {
  min-height: 24px;
}
.list_header {
  font-weight: bold;
  background-color: #EEE;
}
.list_placeholder {
  font-weight: bold;
  padding-top: 4px;
  padding-bottom: 4px;
  padding-left: 7px;
  padding-right: 7px;
}
.list_container {
  margin-top: 4px;
  margin-bottom: 20px;
  border: 1px solid #ddd;
  border-radius: 2px;
}
.list_container > div {
  border-bottom: 1px solid #ddd;
}
.list_container > div:hover .list-item {
  background-color: red;
}
.list_container > div:last-child {
  border: none;
}
.list_item:hover .list_item {
  background-color: #ddd;
}
.list_item a {
  text-decoration: none;
}
.list_item:hover {
  background-color: #fafafa;
}
.list_header > div,
.list_item > div {
  padding-top: 4px;
  padding-bottom: 4px;
  padding-left: 7px;
  padding-right: 7px;
  line-height: 22px;
}
.list_header > div input,
.list_item > div input {
  margin-right: 7px;
  margin-left: 14px;
  vertical-align: text-bottom;
  line-height: 22px;
  position: relative;
  top: -1px;
}
.list_header > div .item_link,
.list_item > div .item_link {
  margin-left: -1px;
  vertical-align: baseline;
  line-height: 22px;
}
[dir="rtl"] .list_item > div input {
  margin-right: 0;
}
.new-file input[type=checkbox] {
  visibility: hidden;
}
.item_name {
  line-height: 22px;
  height: 24px;
}
.item_icon {
  font-size: 14px;
  color: #5e5e5e;
  margin-right: 7px;
  margin-left: 7px;
  line-height: 22px;
  vertical-align: baseline;
}
.item_modified {
  margin-right: 7px;
  margin-left: 7px;
}
[dir="rtl"] .item_modified.pull-right {
  float: left !important;
  float: left;
}
.item_buttons {
  line-height: 1em;
  margin-left: -5px;
}
.item_buttons .btn,
.item_buttons .btn-group,
.item_buttons .input-group {
  float: left;
}
.item_buttons > .btn,
.item_buttons > .btn-group,
.item_buttons > .input-group {
  margin-left: 5px;
}
.item_buttons .btn {
  min-width: 13ex;
}
.item_buttons .running-indicator {
  padding-top: 4px;
  color: #5cb85c;
}
.item_buttons .kernel-name {
  padding-top: 4px;
  color: #5bc0de;
  margin-right: 7px;
  float: left;
}
[dir="rtl"] .item_buttons.pull-right {
  float: left !important;
  float: left;
}
[dir="rtl"] .item_buttons .kernel-name {
  margin-left: 7px;
  float: right;
}
.toolbar_info {
  height: 24px;
  line-height: 24px;
}
.list_item input:not([type=checkbox]) {
  padding-top: 3px;
  padding-bottom: 3px;
  height: 22px;
  line-height: 14px;
  margin: 0px;
}
.highlight_text {
  color: blue;
}
#project_name {
  display: inline-block;
  padding-left: 7px;
  margin-left: -2px;
}
#project_name > .breadcrumb {
  padding: 0px;
  margin-bottom: 0px;
  background-color: transparent;
  font-weight: bold;
}
.sort_button {
  display: inline-block;
  padding-left: 7px;
}
[dir="rtl"] .sort_button.pull-right {
  float: left !important;
  float: left;
}
#tree-selector {
  padding-right: 0px;
}
#button-select-all {
  min-width: 50px;
}
[dir="rtl"] #button-select-all.btn {
  float: right ;
}
#select-all {
  margin-left: 7px;
  margin-right: 2px;
  margin-top: 2px;
  height: 16px;
}
[dir="rtl"] #select-all.pull-left {
  float: right !important;
  float: right;
}
.menu_icon {
  margin-right: 2px;
}
.tab-content .row {
  margin-left: 0px;
  margin-right: 0px;
}
.folder_icon:before {
  display: inline-block;
  font: normal normal normal 14px/1 FontAwesome;
  font-size: inherit;
  text-rendering: auto;
  -webkit-font-smoothing: antialiased;
  -moz-osx-font-smoothing: grayscale;
  content: "\f114";
}
.folder_icon:before.fa-pull-left {
  margin-right: .3em;
}
.folder_icon:before.fa-pull-right {
  margin-left: .3em;
}
.folder_icon:before.pull-left {
  margin-right: .3em;
}
.folder_icon:before.pull-right {
  margin-left: .3em;
}
.notebook_icon:before {
  display: inline-block;
  font: normal normal normal 14px/1 FontAwesome;
  font-size: inherit;
  text-rendering: auto;
  -webkit-font-smoothing: antialiased;
  -moz-osx-font-smoothing: grayscale;
  content: "\f02d";
  position: relative;
  top: -1px;
}
.notebook_icon:before.fa-pull-left {
  margin-right: .3em;
}
.notebook_icon:before.fa-pull-right {
  margin-left: .3em;
}
.notebook_icon:before.pull-left {
  margin-right: .3em;
}
.notebook_icon:before.pull-right {
  margin-left: .3em;
}
.running_notebook_icon:before {
  display: inline-block;
  font: normal normal normal 14px/1 FontAwesome;
  font-size: inherit;
  text-rendering: auto;
  -webkit-font-smoothing: antialiased;
  -moz-osx-font-smoothing: grayscale;
  content: "\f02d";
  position: relative;
  top: -1px;
  color: #5cb85c;
}
.running_notebook_icon:before.fa-pull-left {
  margin-right: .3em;
}
.running_notebook_icon:before.fa-pull-right {
  margin-left: .3em;
}
.running_notebook_icon:before.pull-left {
  margin-right: .3em;
}
.running_notebook_icon:before.pull-right {
  margin-left: .3em;
}
.file_icon:before {
  display: inline-block;
  font: normal normal normal 14px/1 FontAwesome;
  font-size: inherit;
  text-rendering: auto;
  -webkit-font-smoothing: antialiased;
  -moz-osx-font-smoothing: grayscale;
  content: "\f016";
  position: relative;
  top: -2px;
}
.file_icon:before.fa-pull-left {
  margin-right: .3em;
}
.file_icon:before.fa-pull-right {
  margin-left: .3em;
}
.file_icon:before.pull-left {
  margin-right: .3em;
}
.file_icon:before.pull-right {
  margin-left: .3em;
}
#notebook_toolbar .pull-right {
  padding-top: 0px;
  margin-right: -1px;
}
ul#new-menu {
  left: auto;
  right: 0;
}
#new-menu .dropdown-header {
  font-size: 10px;
  border-bottom: 1px solid #e5e5e5;
  padding: 0 0 3px;
  margin: -3px 20px 0;
}
.kernel-menu-icon {
  padding-right: 12px;
  width: 24px;
  content: "\f096";
}
.kernel-menu-icon:before {
  content: "\f096";
}
.kernel-menu-icon-current:before {
  content: "\f00c";
}
#tab_content {
  padding-top: 20px;
}
#running .panel-group .panel {
  margin-top: 3px;
  margin-bottom: 1em;
}
#running .panel-group .panel .panel-heading {
  background-color: #EEE;
  padding-top: 4px;
  padding-bottom: 4px;
  padding-left: 7px;
  padding-right: 7px;
  line-height: 22px;
}
#running .panel-group .panel .panel-heading a:focus,
#running .panel-group .panel .panel-heading a:hover {
  text-decoration: none;
}
#running .panel-group .panel .panel-body {
  padding: 0px;
}
#running .panel-group .panel .panel-body .list_container {
  margin-top: 0px;
  margin-bottom: 0px;
  border: 0px;
  border-radius: 0px;
}
#running .panel-group .panel .panel-body .list_container .list_item {
  border-bottom: 1px solid #ddd;
}
#running .panel-group .panel .panel-body .list_container .list_item:last-child {
  border-bottom: 0px;
}
.delete-button {
  display: none;
}
.duplicate-button {
  display: none;
}
.rename-button {
  display: none;
}
.move-button {
  display: none;
}
.download-button {
  display: none;
}
.shutdown-button {
  display: none;
}
.dynamic-instructions {
  display: inline-block;
  padding-top: 4px;
}
/*!
*
* IPython text editor webapp
*
*/
.selected-keymap i.fa {
  padding: 0px 5px;
}
.selected-keymap i.fa:before {
  content: "\f00c";
}
#mode-menu {
  overflow: auto;
  max-height: 20em;
}
.edit_app #header {
  -webkit-box-shadow: 0px 0px 12px 1px rgba(87, 87, 87, 0.2);
  box-shadow: 0px 0px 12px 1px rgba(87, 87, 87, 0.2);
}
.edit_app #menubar .navbar {
  /* Use a negative 1 bottom margin, so the border overlaps the border of the
    header */
  margin-bottom: -1px;
}
.dirty-indicator {
  display: inline-block;
  font: normal normal normal 14px/1 FontAwesome;
  font-size: inherit;
  text-rendering: auto;
  -webkit-font-smoothing: antialiased;
  -moz-osx-font-smoothing: grayscale;
  width: 20px;
}
.dirty-indicator.fa-pull-left {
  margin-right: .3em;
}
.dirty-indicator.fa-pull-right {
  margin-left: .3em;
}
.dirty-indicator.pull-left {
  margin-right: .3em;
}
.dirty-indicator.pull-right {
  margin-left: .3em;
}
.dirty-indicator-dirty {
  display: inline-block;
  font: normal normal normal 14px/1 FontAwesome;
  font-size: inherit;
  text-rendering: auto;
  -webkit-font-smoothing: antialiased;
  -moz-osx-font-smoothing: grayscale;
  width: 20px;
}
.dirty-indicator-dirty.fa-pull-left {
  margin-right: .3em;
}
.dirty-indicator-dirty.fa-pull-right {
  margin-left: .3em;
}
.dirty-indicator-dirty.pull-left {
  margin-right: .3em;
}
.dirty-indicator-dirty.pull-right {
  margin-left: .3em;
}
.dirty-indicator-clean {
  display: inline-block;
  font: normal normal normal 14px/1 FontAwesome;
  font-size: inherit;
  text-rendering: auto;
  -webkit-font-smoothing: antialiased;
  -moz-osx-font-smoothing: grayscale;
  width: 20px;
}
.dirty-indicator-clean.fa-pull-left {
  margin-right: .3em;
}
.dirty-indicator-clean.fa-pull-right {
  margin-left: .3em;
}
.dirty-indicator-clean.pull-left {
  margin-right: .3em;
}
.dirty-indicator-clean.pull-right {
  margin-left: .3em;
}
.dirty-indicator-clean:before {
  display: inline-block;
  font: normal normal normal 14px/1 FontAwesome;
  font-size: inherit;
  text-rendering: auto;
  -webkit-font-smoothing: antialiased;
  -moz-osx-font-smoothing: grayscale;
  content: "\f00c";
}
.dirty-indicator-clean:before.fa-pull-left {
  margin-right: .3em;
}
.dirty-indicator-clean:before.fa-pull-right {
  margin-left: .3em;
}
.dirty-indicator-clean:before.pull-left {
  margin-right: .3em;
}
.dirty-indicator-clean:before.pull-right {
  margin-left: .3em;
}
#filename {
  font-size: 16pt;
  display: table;
  padding: 0px 5px;
}
#current-mode {
  padding-left: 5px;
  padding-right: 5px;
}
#texteditor-backdrop {
  padding-top: 20px;
  padding-bottom: 20px;
}
@media not print {
  #texteditor-backdrop {
    background-color: #EEE;
  }
}
@media print {
  #texteditor-backdrop #texteditor-container .CodeMirror-gutter,
  #texteditor-backdrop #texteditor-container .CodeMirror-gutters {
    background-color: #fff;
  }
}
@media not print {
  #texteditor-backdrop #texteditor-container .CodeMirror-gutter,
  #texteditor-backdrop #texteditor-container .CodeMirror-gutters {
    background-color: #fff;
  }
}
@media not print {
  #texteditor-backdrop #texteditor-container {
    padding: 0px;
    background-color: #fff;
    -webkit-box-shadow: 0px 0px 12px 1px rgba(87, 87, 87, 0.2);
    box-shadow: 0px 0px 12px 1px rgba(87, 87, 87, 0.2);
  }
}
.CodeMirror-dialog {
  background-color: #fff;
}
/*!
*
* IPython notebook
*
*/
/* CSS font colors for translated ANSI escape sequences */
/* The color values are a mix of
   http://www.xcolors.net/dl/baskerville-ivorylight and
   http://www.xcolors.net/dl/euphrasia */
.ansi-black-fg {
  color: #3E424D;
}
.ansi-black-bg {
  background-color: #3E424D;
}
.ansi-black-intense-fg {
  color: #282C36;
}
.ansi-black-intense-bg {
  background-color: #282C36;
}
.ansi-red-fg {
  color: #E75C58;
}
.ansi-red-bg {
  background-color: #E75C58;
}
.ansi-red-intense-fg {
  color: #B22B31;
}
.ansi-red-intense-bg {
  background-color: #B22B31;
}
.ansi-green-fg {
  color: #00A250;
}
.ansi-green-bg {
  background-color: #00A250;
}
.ansi-green-intense-fg {
  color: #007427;
}
.ansi-green-intense-bg {
  background-color: #007427;
}
.ansi-yellow-fg {
  color: #DDB62B;
}
.ansi-yellow-bg {
  background-color: #DDB62B;
}
.ansi-yellow-intense-fg {
  color: #B27D12;
}
.ansi-yellow-intense-bg {
  background-color: #B27D12;
}
.ansi-blue-fg {
  color: #208FFB;
}
.ansi-blue-bg {
  background-color: #208FFB;
}
.ansi-blue-intense-fg {
  color: #0065CA;
}
.ansi-blue-intense-bg {
  background-color: #0065CA;
}
.ansi-magenta-fg {
  color: #D160C4;
}
.ansi-magenta-bg {
  background-color: #D160C4;
}
.ansi-magenta-intense-fg {
  color: #A03196;
}
.ansi-magenta-intense-bg {
  background-color: #A03196;
}
.ansi-cyan-fg {
  color: #60C6C8;
}
.ansi-cyan-bg {
  background-color: #60C6C8;
}
.ansi-cyan-intense-fg {
  color: #258F8F;
}
.ansi-cyan-intense-bg {
  background-color: #258F8F;
}
.ansi-white-fg {
  color: #C5C1B4;
}
.ansi-white-bg {
  background-color: #C5C1B4;
}
.ansi-white-intense-fg {
  color: #A1A6B2;
}
.ansi-white-intense-bg {
  background-color: #A1A6B2;
}
.ansi-default-inverse-fg {
  color: #FFFFFF;
}
.ansi-default-inverse-bg {
  background-color: #000000;
}
.ansi-bold {
  font-weight: bold;
}
.ansi-underline {
  text-decoration: underline;
}
/* The following styles are deprecated an will be removed in a future version */
.ansibold {
  font-weight: bold;
}
.ansi-inverse {
  outline: 0.5px dotted;
}
/* use dark versions for foreground, to improve visibility */
.ansiblack {
  color: black;
}
.ansired {
  color: darkred;
}
.ansigreen {
  color: darkgreen;
}
.ansiyellow {
  color: #c4a000;
}
.ansiblue {
  color: darkblue;
}
.ansipurple {
  color: darkviolet;
}
.ansicyan {
  color: steelblue;
}
.ansigray {
  color: gray;
}
/* and light for background, for the same reason */
.ansibgblack {
  background-color: black;
}
.ansibgred {
  background-color: red;
}
.ansibggreen {
  background-color: green;
}
.ansibgyellow {
  background-color: yellow;
}
.ansibgblue {
  background-color: blue;
}
.ansibgpurple {
  background-color: magenta;
}
.ansibgcyan {
  background-color: cyan;
}
.ansibggray {
  background-color: gray;
}
div.cell {
  /* Old browsers */
  display: -webkit-box;
  -webkit-box-orient: vertical;
  -webkit-box-align: stretch;
  display: -moz-box;
  -moz-box-orient: vertical;
  -moz-box-align: stretch;
  display: box;
  box-orient: vertical;
  box-align: stretch;
  /* Modern browsers */
  display: flex;
  flex-direction: column;
  align-items: stretch;
  border-radius: 2px;
  box-sizing: border-box;
  -moz-box-sizing: border-box;
  -webkit-box-sizing: border-box;
  border-width: 1px;
  border-style: solid;
  border-color: transparent;
  width: 100%;
  padding: 5px;
  /* This acts as a spacer between cells, that is outside the border */
  margin: 0px;
  outline: none;
  position: relative;
  overflow: visible;
}
div.cell:before {
  position: absolute;
  display: block;
  top: -1px;
  left: -1px;
  width: 5px;
  height: calc(100% +  2px);
  content: '';
  background: transparent;
}
div.cell.jupyter-soft-selected {
  border-left-color: #E3F2FD;
  border-left-width: 1px;
  padding-left: 5px;
  border-right-color: #E3F2FD;
  border-right-width: 1px;
  background: #E3F2FD;
}
@media print {
  div.cell.jupyter-soft-selected {
    border-color: transparent;
  }
}
div.cell.selected,
div.cell.selected.jupyter-soft-selected {
  border-color: #ababab;
}
div.cell.selected:before,
div.cell.selected.jupyter-soft-selected:before {
  position: absolute;
  display: block;
  top: -1px;
  left: -1px;
  width: 5px;
  height: calc(100% +  2px);
  content: '';
  background: #42A5F5;
}
@media print {
  div.cell.selected,
  div.cell.selected.jupyter-soft-selected {
    border-color: transparent;
  }
}
.edit_mode div.cell.selected {
  border-color: #66BB6A;
}
.edit_mode div.cell.selected:before {
  position: absolute;
  display: block;
  top: -1px;
  left: -1px;
  width: 5px;
  height: calc(100% +  2px);
  content: '';
  background: #66BB6A;
}
@media print {
  .edit_mode div.cell.selected {
    border-color: transparent;
  }
}
.prompt {
  /* This needs to be wide enough for 3 digit prompt numbers: In[100]: */
  min-width: 14ex;
  /* This padding is tuned to match the padding on the CodeMirror editor. */
  padding: 0.4em;
  margin: 0px;
  font-family: monospace;
  text-align: right;
  /* This has to match that of the the CodeMirror class line-height below */
  line-height: 1.21429em;
  /* Don't highlight prompt number selection */
  -webkit-touch-callout: none;
  -webkit-user-select: none;
  -khtml-user-select: none;
  -moz-user-select: none;
  -ms-user-select: none;
  user-select: none;
  /* Use default cursor */
  cursor: default;
}
@media (max-width: 540px) {
  .prompt {
    text-align: left;
  }
}
div.inner_cell {
  min-width: 0;
  /* Old browsers */
  display: -webkit-box;
  -webkit-box-orient: vertical;
  -webkit-box-align: stretch;
  display: -moz-box;
  -moz-box-orient: vertical;
  -moz-box-align: stretch;
  display: box;
  box-orient: vertical;
  box-align: stretch;
  /* Modern browsers */
  display: flex;
  flex-direction: column;
  align-items: stretch;
  /* Old browsers */
  -webkit-box-flex: 1;
  -moz-box-flex: 1;
  box-flex: 1;
  /* Modern browsers */
  flex: 1;
}
/* input_area and input_prompt must match in top border and margin for alignment */
div.input_area {
  border: 1px solid #cfcfcf;
  border-radius: 2px;
  background: #f7f7f7;
  line-height: 1.21429em;
}
/* This is needed so that empty prompt areas can collapse to zero height when there
   is no content in the output_subarea and the prompt. The main purpose of this is
   to make sure that empty JavaScript output_subareas have no height. */
div.prompt:empty {
  padding-top: 0;
  padding-bottom: 0;
}
div.unrecognized_cell {
  padding: 5px 5px 5px 0px;
  /* Old browsers */
  display: -webkit-box;
  -webkit-box-orient: horizontal;
  -webkit-box-align: stretch;
  display: -moz-box;
  -moz-box-orient: horizontal;
  -moz-box-align: stretch;
  display: box;
  box-orient: horizontal;
  box-align: stretch;
  /* Modern browsers */
  display: flex;
  flex-direction: row;
  align-items: stretch;
}
div.unrecognized_cell .inner_cell {
  border-radius: 2px;
  padding: 5px;
  font-weight: bold;
  color: red;
  border: 1px solid #cfcfcf;
  background: #eaeaea;
}
div.unrecognized_cell .inner_cell a {
  color: inherit;
  text-decoration: none;
}
div.unrecognized_cell .inner_cell a:hover {
  color: inherit;
  text-decoration: none;
}
@media (max-width: 540px) {
  div.unrecognized_cell > div.prompt {
    display: none;
  }
}
div.code_cell {
  /* avoid page breaking on code cells when printing */
}
@media print {
  div.code_cell {
    page-break-inside: avoid;
  }
}
/* any special styling for code cells that are currently running goes here */
div.input {
  page-break-inside: avoid;
  /* Old browsers */
  display: -webkit-box;
  -webkit-box-orient: horizontal;
  -webkit-box-align: stretch;
  display: -moz-box;
  -moz-box-orient: horizontal;
  -moz-box-align: stretch;
  display: box;
  box-orient: horizontal;
  box-align: stretch;
  /* Modern browsers */
  display: flex;
  flex-direction: row;
  align-items: stretch;
}
@media (max-width: 540px) {
  div.input {
    /* Old browsers */
    display: -webkit-box;
    -webkit-box-orient: vertical;
    -webkit-box-align: stretch;
    display: -moz-box;
    -moz-box-orient: vertical;
    -moz-box-align: stretch;
    display: box;
    box-orient: vertical;
    box-align: stretch;
    /* Modern browsers */
    display: flex;
    flex-direction: column;
    align-items: stretch;
  }
}
/* input_area and input_prompt must match in top border and margin for alignment */
div.input_prompt {
  color: #303F9F;
  border-top: 1px solid transparent;
}
div.input_area > div.highlight {
  margin: 0.4em;
  border: none;
  padding: 0px;
  background-color: transparent;
}
div.input_area > div.highlight > pre {
  margin: 0px;
  border: none;
  padding: 0px;
  background-color: transparent;
}
/* The following gets added to the <head> if it is detected that the user has a
 * monospace font with inconsistent normal/bold/italic height.  See
 * notebookmain.js.  Such fonts will have keywords vertically offset with
 * respect to the rest of the text.  The user should select a better font.
 * See: https://github.com/ipython/ipython/issues/1503
 *
 * .CodeMirror span {
 *      vertical-align: bottom;
 * }
 */
.CodeMirror {
  line-height: 1.21429em;
  /* Changed from 1em to our global default */
  font-size: 14px;
  height: auto;
  /* Changed to auto to autogrow */
  background: none;
  /* Changed from white to allow our bg to show through */
}
.CodeMirror-scroll {
  /*  The CodeMirror docs are a bit fuzzy on if overflow-y should be hidden or visible.*/
  /*  We have found that if it is visible, vertical scrollbars appear with font size changes.*/
  overflow-y: hidden;
  overflow-x: auto;
}
.CodeMirror-lines {
  /* In CM2, this used to be 0.4em, but in CM3 it went to 4px. We need the em value because */
  /* we have set a different line-height and want this to scale with that. */
  /* Note that this should set vertical padding only, since CodeMirror assumes
       that horizontal padding will be set on CodeMirror pre */
  padding: 0.4em 0;
}
.CodeMirror-linenumber {
  padding: 0 8px 0 4px;
}
.CodeMirror-gutters {
  border-bottom-left-radius: 2px;
  border-top-left-radius: 2px;
}
.CodeMirror pre {
  /* In CM3 this went to 4px from 0 in CM2. This sets horizontal padding only,
    use .CodeMirror-lines for vertical */
  padding: 0 0.4em;
  border: 0;
  border-radius: 0;
}
.CodeMirror-cursor {
  border-left: 1.4px solid black;
}
@media screen and (min-width: 2138px) and (max-width: 4319px) {
  .CodeMirror-cursor {
    border-left: 2px solid black;
  }
}
@media screen and (min-width: 4320px) {
  .CodeMirror-cursor {
    border-left: 4px solid black;
  }
}
/*

Original style from softwaremaniacs.org (c) Ivan Sagalaev <Maniac@SoftwareManiacs.Org>
Adapted from GitHub theme

*/
.highlight-base {
  color: #000;
}
.highlight-variable {
  color: #000;
}
.highlight-variable-2 {
  color: #1a1a1a;
}
.highlight-variable-3 {
  color: #333333;
}
.highlight-string {
  color: #BA2121;
}
.highlight-comment {
  color: #408080;
  font-style: italic;
}
.highlight-number {
  color: #080;
}
.highlight-atom {
  color: #88F;
}
.highlight-keyword {
  color: #008000;
  font-weight: bold;
}
.highlight-builtin {
  color: #008000;
}
.highlight-error {
  color: #f00;
}
.highlight-operator {
  color: #AA22FF;
  font-weight: bold;
}
.highlight-meta {
  color: #AA22FF;
}
/* previously not defined, copying from default codemirror */
.highlight-def {
  color: #00f;
}
.highlight-string-2 {
  color: #f50;
}
.highlight-qualifier {
  color: #555;
}
.highlight-bracket {
  color: #997;
}
.highlight-tag {
  color: #170;
}
.highlight-attribute {
  color: #00c;
}
.highlight-header {
  color: blue;
}
.highlight-quote {
  color: #090;
}
.highlight-link {
  color: #00c;
}
/* apply the same style to codemirror */
.cm-s-ipython span.cm-keyword {
  color: #008000;
  font-weight: bold;
}
.cm-s-ipython span.cm-atom {
  color: #88F;
}
.cm-s-ipython span.cm-number {
  color: #080;
}
.cm-s-ipython span.cm-def {
  color: #00f;
}
.cm-s-ipython span.cm-variable {
  color: #000;
}
.cm-s-ipython span.cm-operator {
  color: #AA22FF;
  font-weight: bold;
}
.cm-s-ipython span.cm-variable-2 {
  color: #1a1a1a;
}
.cm-s-ipython span.cm-variable-3 {
  color: #333333;
}
.cm-s-ipython span.cm-comment {
  color: #408080;
  font-style: italic;
}
.cm-s-ipython span.cm-string {
  color: #BA2121;
}
.cm-s-ipython span.cm-string-2 {
  color: #f50;
}
.cm-s-ipython span.cm-meta {
  color: #AA22FF;
}
.cm-s-ipython span.cm-qualifier {
  color: #555;
}
.cm-s-ipython span.cm-builtin {
  color: #008000;
}
.cm-s-ipython span.cm-bracket {
  color: #997;
}
.cm-s-ipython span.cm-tag {
  color: #170;
}
.cm-s-ipython span.cm-attribute {
  color: #00c;
}
.cm-s-ipython span.cm-header {
  color: blue;
}
.cm-s-ipython span.cm-quote {
  color: #090;
}
.cm-s-ipython span.cm-link {
  color: #00c;
}
.cm-s-ipython span.cm-error {
  color: #f00;
}
.cm-s-ipython span.cm-tab {
  background: url(data:image/png;base64,iVBORw0KGgoAAAANSUhEUgAAADAAAAAMCAYAAAAkuj5RAAAAAXNSR0IArs4c6QAAAGFJREFUSMft1LsRQFAQheHPowAKoACx3IgEKtaEHujDjORSgWTH/ZOdnZOcM/sgk/kFFWY0qV8foQwS4MKBCS3qR6ixBJvElOobYAtivseIE120FaowJPN75GMu8j/LfMwNjh4HUpwg4LUAAAAASUVORK5CYII=);
  background-position: right;
  background-repeat: no-repeat;
}
div.output_wrapper {
  /* this position must be relative to enable descendents to be absolute within it */
  position: relative;
  /* Old browsers */
  display: -webkit-box;
  -webkit-box-orient: vertical;
  -webkit-box-align: stretch;
  display: -moz-box;
  -moz-box-orient: vertical;
  -moz-box-align: stretch;
  display: box;
  box-orient: vertical;
  box-align: stretch;
  /* Modern browsers */
  display: flex;
  flex-direction: column;
  align-items: stretch;
  z-index: 1;
}
/* class for the output area when it should be height-limited */
div.output_scroll {
  /* ideally, this would be max-height, but FF barfs all over that */
  height: 24em;
  /* FF needs this *and the wrapper* to specify full width, or it will shrinkwrap */
  width: 100%;
  overflow: auto;
  border-radius: 2px;
  -webkit-box-shadow: inset 0 2px 8px rgba(0, 0, 0, 0.8);
  box-shadow: inset 0 2px 8px rgba(0, 0, 0, 0.8);
  display: block;
}
/* output div while it is collapsed */
div.output_collapsed {
  margin: 0px;
  padding: 0px;
  /* Old browsers */
  display: -webkit-box;
  -webkit-box-orient: vertical;
  -webkit-box-align: stretch;
  display: -moz-box;
  -moz-box-orient: vertical;
  -moz-box-align: stretch;
  display: box;
  box-orient: vertical;
  box-align: stretch;
  /* Modern browsers */
  display: flex;
  flex-direction: column;
  align-items: stretch;
}
div.out_prompt_overlay {
  height: 100%;
  padding: 0px 0.4em;
  position: absolute;
  border-radius: 2px;
}
div.out_prompt_overlay:hover {
  /* use inner shadow to get border that is computed the same on WebKit/FF */
  -webkit-box-shadow: inset 0 0 1px #000;
  box-shadow: inset 0 0 1px #000;
  background: rgba(240, 240, 240, 0.5);
}
div.output_prompt {
  color: #D84315;
}
/* This class is the outer container of all output sections. */
div.output_area {
  padding: 0px;
  page-break-inside: avoid;
  /* Old browsers */
  display: -webkit-box;
  -webkit-box-orient: horizontal;
  -webkit-box-align: stretch;
  display: -moz-box;
  -moz-box-orient: horizontal;
  -moz-box-align: stretch;
  display: box;
  box-orient: horizontal;
  box-align: stretch;
  /* Modern browsers */
  display: flex;
  flex-direction: row;
  align-items: stretch;
}
div.output_area .MathJax_Display {
  text-align: left !important;
}
div.output_area .rendered_html table {
  margin-left: 0;
  margin-right: 0;
}
div.output_area .rendered_html img {
  margin-left: 0;
  margin-right: 0;
}
div.output_area img,
div.output_area svg {
  max-width: 100%;
  height: auto;
}
div.output_area img.unconfined,
div.output_area svg.unconfined {
  max-width: none;
}
div.output_area .mglyph > img {
  max-width: none;
}
/* This is needed to protect the pre formating from global settings such
   as that of bootstrap */
.output {
  /* Old browsers */
  display: -webkit-box;
  -webkit-box-orient: vertical;
  -webkit-box-align: stretch;
  display: -moz-box;
  -moz-box-orient: vertical;
  -moz-box-align: stretch;
  display: box;
  box-orient: vertical;
  box-align: stretch;
  /* Modern browsers */
  display: flex;
  flex-direction: column;
  align-items: stretch;
}
@media (max-width: 540px) {
  div.output_area {
    /* Old browsers */
    display: -webkit-box;
    -webkit-box-orient: vertical;
    -webkit-box-align: stretch;
    display: -moz-box;
    -moz-box-orient: vertical;
    -moz-box-align: stretch;
    display: box;
    box-orient: vertical;
    box-align: stretch;
    /* Modern browsers */
    display: flex;
    flex-direction: column;
    align-items: stretch;
  }
}
div.output_area pre {
  margin: 0;
  padding: 1px 0 1px 0;
  border: 0;
  vertical-align: baseline;
  color: black;
  background-color: transparent;
  border-radius: 0;
}
/* This class is for the output subarea inside the output_area and after
   the prompt div. */
div.output_subarea {
  overflow-x: auto;
  padding: 0.4em;
  /* Old browsers */
  -webkit-box-flex: 1;
  -moz-box-flex: 1;
  box-flex: 1;
  /* Modern browsers */
  flex: 1;
  max-width: calc(100% - 14ex);
}
div.output_scroll div.output_subarea {
  overflow-x: visible;
}
/* The rest of the output_* classes are for special styling of the different
   output types */
/* all text output has this class: */
div.output_text {
  text-align: left;
  color: #000;
  /* This has to match that of the the CodeMirror class line-height below */
  line-height: 1.21429em;
}
/* stdout/stderr are 'text' as well as 'stream', but execute_result/error are *not* streams */
div.output_stderr {
  background: #fdd;
  /* very light red background for stderr */
}
div.output_latex {
  text-align: left;
}
/* Empty output_javascript divs should have no height */
div.output_javascript:empty {
  padding: 0;
}
.js-error {
  color: darkred;
}
/* raw_input styles */
div.raw_input_container {
  line-height: 1.21429em;
  padding-top: 5px;
}
pre.raw_input_prompt {
  /* nothing needed here. */
}
input.raw_input {
  font-family: monospace;
  font-size: inherit;
  color: inherit;
  width: auto;
  /* make sure input baseline aligns with prompt */
  vertical-align: baseline;
  /* padding + margin = 0.5em between prompt and cursor */
  padding: 0em 0.25em;
  margin: 0em 0.25em;
}
input.raw_input:focus {
  box-shadow: none;
}
p.p-space {
  margin-bottom: 10px;
}
div.output_unrecognized {
  padding: 5px;
  font-weight: bold;
  color: red;
}
div.output_unrecognized a {
  color: inherit;
  text-decoration: none;
}
div.output_unrecognized a:hover {
  color: inherit;
  text-decoration: none;
}
.rendered_html {
  color: #000;
  /* any extras will just be numbers: */
}
.rendered_html em {
  font-style: italic;
}
.rendered_html strong {
  font-weight: bold;
}
.rendered_html u {
  text-decoration: underline;
}
.rendered_html :link {
  text-decoration: underline;
}
.rendered_html :visited {
  text-decoration: underline;
}
.rendered_html h1 {
  font-size: 185.7%;
  margin: 1.08em 0 0 0;
  font-weight: bold;
  line-height: 1.0;
}
.rendered_html h2 {
  font-size: 157.1%;
  margin: 1.27em 0 0 0;
  font-weight: bold;
  line-height: 1.0;
}
.rendered_html h3 {
  font-size: 128.6%;
  margin: 1.55em 0 0 0;
  font-weight: bold;
  line-height: 1.0;
}
.rendered_html h4 {
  font-size: 100%;
  margin: 2em 0 0 0;
  font-weight: bold;
  line-height: 1.0;
}
.rendered_html h5 {
  font-size: 100%;
  margin: 2em 0 0 0;
  font-weight: bold;
  line-height: 1.0;
  font-style: italic;
}
.rendered_html h6 {
  font-size: 100%;
  margin: 2em 0 0 0;
  font-weight: bold;
  line-height: 1.0;
  font-style: italic;
}
.rendered_html h1:first-child {
  margin-top: 0.538em;
}
.rendered_html h2:first-child {
  margin-top: 0.636em;
}
.rendered_html h3:first-child {
  margin-top: 0.777em;
}
.rendered_html h4:first-child {
  margin-top: 1em;
}
.rendered_html h5:first-child {
  margin-top: 1em;
}
.rendered_html h6:first-child {
  margin-top: 1em;
}
.rendered_html ul:not(.list-inline),
.rendered_html ol:not(.list-inline) {
  padding-left: 2em;
}
.rendered_html ul {
  list-style: disc;
}
.rendered_html ul ul {
  list-style: square;
  margin-top: 0;
}
.rendered_html ul ul ul {
  list-style: circle;
}
.rendered_html ol {
  list-style: decimal;
}
.rendered_html ol ol {
  list-style: upper-alpha;
  margin-top: 0;
}
.rendered_html ol ol ol {
  list-style: lower-alpha;
}
.rendered_html ol ol ol ol {
  list-style: lower-roman;
}
.rendered_html ol ol ol ol ol {
  list-style: decimal;
}
.rendered_html * + ul {
  margin-top: 1em;
}
.rendered_html * + ol {
  margin-top: 1em;
}
.rendered_html hr {
  color: black;
  background-color: black;
}
.rendered_html pre {
  margin: 1em 2em;
  padding: 0px;
  background-color: #fff;
}
.rendered_html code {
  background-color: #eff0f1;
}
.rendered_html p code {
  padding: 1px 5px;
}
.rendered_html pre code {
  background-color: #fff;
}
.rendered_html pre,
.rendered_html code {
  border: 0;
  color: #000;
  font-size: 100%;
}
.rendered_html blockquote {
  margin: 1em 2em;
}
.rendered_html table {
  margin-left: auto;
  margin-right: auto;
  border: none;
  border-collapse: collapse;
  border-spacing: 0;
  color: black;
  font-size: 12px;
  table-layout: fixed;
}
.rendered_html thead {
  border-bottom: 1px solid black;
  vertical-align: bottom;
}
.rendered_html tr,
.rendered_html th,
.rendered_html td {
  text-align: right;
  vertical-align: middle;
  padding: 0.5em 0.5em;
  line-height: normal;
  white-space: normal;
  max-width: none;
  border: none;
}
.rendered_html th {
  font-weight: bold;
}
.rendered_html tbody tr:nth-child(odd) {
  background: #f5f5f5;
}
.rendered_html tbody tr:hover {
  background: rgba(66, 165, 245, 0.2);
}
.rendered_html * + table {
  margin-top: 1em;
}
.rendered_html p {
  text-align: left;
}
.rendered_html * + p {
  margin-top: 1em;
}
.rendered_html img {
  display: block;
  margin-left: auto;
  margin-right: auto;
}
.rendered_html * + img {
  margin-top: 1em;
}
.rendered_html img,
.rendered_html svg {
  max-width: 100%;
  height: auto;
}
.rendered_html img.unconfined,
.rendered_html svg.unconfined {
  max-width: none;
}
.rendered_html .alert {
  margin-bottom: initial;
}
.rendered_html * + .alert {
  margin-top: 1em;
}
[dir="rtl"] .rendered_html p {
  text-align: right;
}
div.text_cell {
  /* Old browsers */
  display: -webkit-box;
  -webkit-box-orient: horizontal;
  -webkit-box-align: stretch;
  display: -moz-box;
  -moz-box-orient: horizontal;
  -moz-box-align: stretch;
  display: box;
  box-orient: horizontal;
  box-align: stretch;
  /* Modern browsers */
  display: flex;
  flex-direction: row;
  align-items: stretch;
}
@media (max-width: 540px) {
  div.text_cell > div.prompt {
    display: none;
  }
}
div.text_cell_render {
  /*font-family: "Helvetica Neue", Arial, Helvetica, Geneva, sans-serif;*/
  outline: none;
  resize: none;
  width: inherit;
  border-style: none;
  padding: 0.5em 0.5em 0.5em 0.4em;
  color: #000;
  box-sizing: border-box;
  -moz-box-sizing: border-box;
  -webkit-box-sizing: border-box;
}
a.anchor-link:link {
  text-decoration: none;
  padding: 0px 20px;
  visibility: hidden;
}
h1:hover .anchor-link,
h2:hover .anchor-link,
h3:hover .anchor-link,
h4:hover .anchor-link,
h5:hover .anchor-link,
h6:hover .anchor-link {
  visibility: visible;
}
.text_cell.rendered .input_area {
  display: none;
}
.text_cell.rendered .rendered_html {
  overflow-x: auto;
  overflow-y: hidden;
}
.text_cell.rendered .rendered_html tr,
.text_cell.rendered .rendered_html th,
.text_cell.rendered .rendered_html td {
  max-width: none;
}
.text_cell.unrendered .text_cell_render {
  display: none;
}
.text_cell .dropzone .input_area {
  border: 2px dashed #bababa;
  margin: -1px;
}
.cm-header-1,
.cm-header-2,
.cm-header-3,
.cm-header-4,
.cm-header-5,
.cm-header-6 {
  font-weight: bold;
  font-family: "Helvetica Neue", Helvetica, Arial, sans-serif;
}
.cm-header-1 {
  font-size: 185.7%;
}
.cm-header-2 {
  font-size: 157.1%;
}
.cm-header-3 {
  font-size: 128.6%;
}
.cm-header-4 {
  font-size: 110%;
}
.cm-header-5 {
  font-size: 100%;
  font-style: italic;
}
.cm-header-6 {
  font-size: 100%;
  font-style: italic;
}
/*!
*
* IPython notebook webapp
*
*/
@media (max-width: 767px) {
  .notebook_app {
    padding-left: 0px;
    padding-right: 0px;
  }
}
#ipython-main-app {
  box-sizing: border-box;
  -moz-box-sizing: border-box;
  -webkit-box-sizing: border-box;
  height: 100%;
}
div#notebook_panel {
  margin: 0px;
  padding: 0px;
  box-sizing: border-box;
  -moz-box-sizing: border-box;
  -webkit-box-sizing: border-box;
  height: 100%;
}
div#notebook {
  font-size: 14px;
  line-height: 20px;
  overflow-y: hidden;
  overflow-x: auto;
  width: 100%;
  /* This spaces the page away from the edge of the notebook area */
  padding-top: 20px;
  margin: 0px;
  outline: none;
  box-sizing: border-box;
  -moz-box-sizing: border-box;
  -webkit-box-sizing: border-box;
  min-height: 100%;
}
@media not print {
  #notebook-container {
    padding: 15px;
    background-color: #fff;
    min-height: 0;
    -webkit-box-shadow: 0px 0px 12px 1px rgba(87, 87, 87, 0.2);
    box-shadow: 0px 0px 12px 1px rgba(87, 87, 87, 0.2);
  }
}
@media print {
  #notebook-container {
    width: 100%;
  }
}
div.ui-widget-content {
  border: 1px solid #ababab;
  outline: none;
}
pre.dialog {
  background-color: #f7f7f7;
  border: 1px solid #ddd;
  border-radius: 2px;
  padding: 0.4em;
  padding-left: 2em;
}
p.dialog {
  padding: 0.2em;
}
/* Word-wrap output correctly.  This is the CSS3 spelling, though Firefox seems
   to not honor it correctly.  Webkit browsers (Chrome, rekonq, Safari) do.
 */
pre,
code,
kbd,
samp {
  white-space: pre-wrap;
}
#fonttest {
  font-family: monospace;
}
p {
  margin-bottom: 0;
}
.end_space {
  min-height: 100px;
  transition: height .2s ease;
}
.notebook_app > #header {
  -webkit-box-shadow: 0px 0px 12px 1px rgba(87, 87, 87, 0.2);
  box-shadow: 0px 0px 12px 1px rgba(87, 87, 87, 0.2);
}
@media not print {
  .notebook_app {
    background-color: #EEE;
  }
}
kbd {
  border-style: solid;
  border-width: 1px;
  box-shadow: none;
  margin: 2px;
  padding-left: 2px;
  padding-right: 2px;
  padding-top: 1px;
  padding-bottom: 1px;
}
.jupyter-keybindings {
  padding: 1px;
  line-height: 24px;
  border-bottom: 1px solid gray;
}
.jupyter-keybindings input {
  margin: 0;
  padding: 0;
  border: none;
}
.jupyter-keybindings i {
  padding: 6px;
}
.well code {
  background-color: #ffffff;
  border-color: #ababab;
  border-width: 1px;
  border-style: solid;
  padding: 2px;
  padding-top: 1px;
  padding-bottom: 1px;
}
/* CSS for the cell toolbar */
.celltoolbar {
  border: thin solid #CFCFCF;
  border-bottom: none;
  background: #EEE;
  border-radius: 2px 2px 0px 0px;
  width: 100%;
  height: 29px;
  padding-right: 4px;
  /* Old browsers */
  display: -webkit-box;
  -webkit-box-orient: horizontal;
  -webkit-box-align: stretch;
  display: -moz-box;
  -moz-box-orient: horizontal;
  -moz-box-align: stretch;
  display: box;
  box-orient: horizontal;
  box-align: stretch;
  /* Modern browsers */
  display: flex;
  flex-direction: row;
  align-items: stretch;
  /* Old browsers */
  -webkit-box-pack: end;
  -moz-box-pack: end;
  box-pack: end;
  /* Modern browsers */
  justify-content: flex-end;
  display: -webkit-flex;
}
@media print {
  .celltoolbar {
    display: none;
  }
}
.ctb_hideshow {
  display: none;
  vertical-align: bottom;
}
/* ctb_show is added to the ctb_hideshow div to show the cell toolbar.
   Cell toolbars are only shown when the ctb_global_show class is also set.
*/
.ctb_global_show .ctb_show.ctb_hideshow {
  display: block;
}
.ctb_global_show .ctb_show + .input_area,
.ctb_global_show .ctb_show + div.text_cell_input,
.ctb_global_show .ctb_show ~ div.text_cell_render {
  border-top-right-radius: 0px;
  border-top-left-radius: 0px;
}
.ctb_global_show .ctb_show ~ div.text_cell_render {
  border: 1px solid #cfcfcf;
}
.celltoolbar {
  font-size: 87%;
  padding-top: 3px;
}
.celltoolbar select {
  display: block;
  width: 100%;
  height: 32px;
  padding: 6px 12px;
  font-size: 13px;
  line-height: 1.42857143;
  color: #555555;
  background-color: #fff;
  background-image: none;
  border: 1px solid #ccc;
  border-radius: 2px;
  -webkit-box-shadow: inset 0 1px 1px rgba(0, 0, 0, 0.075);
  box-shadow: inset 0 1px 1px rgba(0, 0, 0, 0.075);
  -webkit-transition: border-color ease-in-out .15s, box-shadow ease-in-out .15s;
  -o-transition: border-color ease-in-out .15s, box-shadow ease-in-out .15s;
  transition: border-color ease-in-out .15s, box-shadow ease-in-out .15s;
  height: 30px;
  padding: 5px 10px;
  font-size: 12px;
  line-height: 1.5;
  border-radius: 1px;
  width: inherit;
  font-size: inherit;
  height: 22px;
  padding: 0px;
  display: inline-block;
}
.celltoolbar select:focus {
  border-color: #66afe9;
  outline: 0;
  -webkit-box-shadow: inset 0 1px 1px rgba(0,0,0,.075), 0 0 8px rgba(102, 175, 233, 0.6);
  box-shadow: inset 0 1px 1px rgba(0,0,0,.075), 0 0 8px rgba(102, 175, 233, 0.6);
}
.celltoolbar select::-moz-placeholder {
  color: #999;
  opacity: 1;
}
.celltoolbar select:-ms-input-placeholder {
  color: #999;
}
.celltoolbar select::-webkit-input-placeholder {
  color: #999;
}
.celltoolbar select::-ms-expand {
  border: 0;
  background-color: transparent;
}
.celltoolbar select[disabled],
.celltoolbar select[readonly],
fieldset[disabled] .celltoolbar select {
  background-color: #eeeeee;
  opacity: 1;
}
.celltoolbar select[disabled],
fieldset[disabled] .celltoolbar select {
  cursor: not-allowed;
}
textarea.celltoolbar select {
  height: auto;
}
select.celltoolbar select {
  height: 30px;
  line-height: 30px;
}
textarea.celltoolbar select,
select[multiple].celltoolbar select {
  height: auto;
}
.celltoolbar label {
  margin-left: 5px;
  margin-right: 5px;
}
.tags_button_container {
  width: 100%;
  display: flex;
}
.tag-container {
  display: flex;
  flex-direction: row;
  flex-grow: 1;
  overflow: hidden;
  position: relative;
}
.tag-container > * {
  margin: 0 4px;
}
.remove-tag-btn {
  margin-left: 4px;
}
.tags-input {
  display: flex;
}
.cell-tag:last-child:after {
  content: "";
  position: absolute;
  right: 0;
  width: 40px;
  height: 100%;
  /* Fade to background color of cell toolbar */
  background: linear-gradient(to right, rgba(0, 0, 0, 0), #EEE);
}
.tags-input > * {
  margin-left: 4px;
}
.cell-tag,
.tags-input input,
.tags-input button {
  display: block;
  width: 100%;
  height: 32px;
  padding: 6px 12px;
  font-size: 13px;
  line-height: 1.42857143;
  color: #555555;
  background-color: #fff;
  background-image: none;
  border: 1px solid #ccc;
  border-radius: 2px;
  -webkit-box-shadow: inset 0 1px 1px rgba(0, 0, 0, 0.075);
  box-shadow: inset 0 1px 1px rgba(0, 0, 0, 0.075);
  -webkit-transition: border-color ease-in-out .15s, box-shadow ease-in-out .15s;
  -o-transition: border-color ease-in-out .15s, box-shadow ease-in-out .15s;
  transition: border-color ease-in-out .15s, box-shadow ease-in-out .15s;
  height: 30px;
  padding: 5px 10px;
  font-size: 12px;
  line-height: 1.5;
  border-radius: 1px;
  box-shadow: none;
  width: inherit;
  font-size: inherit;
  height: 22px;
  line-height: 22px;
  padding: 0px 4px;
  display: inline-block;
}
.cell-tag:focus,
.tags-input input:focus,
.tags-input button:focus {
  border-color: #66afe9;
  outline: 0;
  -webkit-box-shadow: inset 0 1px 1px rgba(0,0,0,.075), 0 0 8px rgba(102, 175, 233, 0.6);
  box-shadow: inset 0 1px 1px rgba(0,0,0,.075), 0 0 8px rgba(102, 175, 233, 0.6);
}
.cell-tag::-moz-placeholder,
.tags-input input::-moz-placeholder,
.tags-input button::-moz-placeholder {
  color: #999;
  opacity: 1;
}
.cell-tag:-ms-input-placeholder,
.tags-input input:-ms-input-placeholder,
.tags-input button:-ms-input-placeholder {
  color: #999;
}
.cell-tag::-webkit-input-placeholder,
.tags-input input::-webkit-input-placeholder,
.tags-input button::-webkit-input-placeholder {
  color: #999;
}
.cell-tag::-ms-expand,
.tags-input input::-ms-expand,
.tags-input button::-ms-expand {
  border: 0;
  background-color: transparent;
}
.cell-tag[disabled],
.tags-input input[disabled],
.tags-input button[disabled],
.cell-tag[readonly],
.tags-input input[readonly],
.tags-input button[readonly],
fieldset[disabled] .cell-tag,
fieldset[disabled] .tags-input input,
fieldset[disabled] .tags-input button {
  background-color: #eeeeee;
  opacity: 1;
}
.cell-tag[disabled],
.tags-input input[disabled],
.tags-input button[disabled],
fieldset[disabled] .cell-tag,
fieldset[disabled] .tags-input input,
fieldset[disabled] .tags-input button {
  cursor: not-allowed;
}
textarea.cell-tag,
textarea.tags-input input,
textarea.tags-input button {
  height: auto;
}
select.cell-tag,
select.tags-input input,
select.tags-input button {
  height: 30px;
  line-height: 30px;
}
textarea.cell-tag,
textarea.tags-input input,
textarea.tags-input button,
select[multiple].cell-tag,
select[multiple].tags-input input,
select[multiple].tags-input button {
  height: auto;
}
.cell-tag,
.tags-input button {
  padding: 0px 4px;
}
.cell-tag {
  background-color: #fff;
  white-space: nowrap;
}
.tags-input input[type=text]:focus {
  outline: none;
  box-shadow: none;
  border-color: #ccc;
}
.completions {
  position: absolute;
  z-index: 110;
  overflow: hidden;
  border: 1px solid #ababab;
  border-radius: 2px;
  -webkit-box-shadow: 0px 6px 10px -1px #adadad;
  box-shadow: 0px 6px 10px -1px #adadad;
  line-height: 1;
}
.completions select {
  background: white;
  outline: none;
  border: none;
  padding: 0px;
  margin: 0px;
  overflow: auto;
  font-family: monospace;
  font-size: 110%;
  color: #000;
  width: auto;
}
.completions select option.context {
  color: #286090;
}
#kernel_logo_widget .current_kernel_logo {
  display: none;
  margin-top: -1px;
  margin-bottom: -1px;
  width: 32px;
  height: 32px;
}
[dir="rtl"] #kernel_logo_widget {
  float: left !important;
  float: left;
}
.modal .modal-body .move-path {
  display: flex;
  flex-direction: row;
  justify-content: space;
  align-items: center;
}
.modal .modal-body .move-path .server-root {
  padding-right: 20px;
}
.modal .modal-body .move-path .path-input {
  flex: 1;
}
#menubar {
  box-sizing: border-box;
  -moz-box-sizing: border-box;
  -webkit-box-sizing: border-box;
  margin-top: 1px;
}
#menubar .navbar {
  border-top: 1px;
  border-radius: 0px 0px 2px 2px;
  margin-bottom: 0px;
}
#menubar .navbar-toggle {
  float: left;
  padding-top: 7px;
  padding-bottom: 7px;
  border: none;
}
#menubar .navbar-collapse {
  clear: left;
}
[dir="rtl"] #menubar .navbar-toggle {
  float: right;
}
[dir="rtl"] #menubar .navbar-collapse {
  clear: right;
}
[dir="rtl"] #menubar .navbar-nav {
  float: right;
}
[dir="rtl"] #menubar .nav {
  padding-right: 0px;
}
[dir="rtl"] #menubar .navbar-nav > li {
  float: right;
}
[dir="rtl"] #menubar .navbar-right {
  float: left !important;
}
[dir="rtl"] ul.dropdown-menu {
  text-align: right;
  left: auto;
}
[dir="rtl"] ul#new-menu.dropdown-menu {
  right: auto;
  left: 0;
}
.nav-wrapper {
  border-bottom: 1px solid #e7e7e7;
}
i.menu-icon {
  padding-top: 4px;
}
[dir="rtl"] i.menu-icon.pull-right {
  float: left !important;
  float: left;
}
ul#help_menu li a {
  overflow: hidden;
  padding-right: 2.2em;
}
ul#help_menu li a i {
  margin-right: -1.2em;
}
[dir="rtl"] ul#help_menu li a {
  padding-left: 2.2em;
}
[dir="rtl"] ul#help_menu li a i {
  margin-right: 0;
  margin-left: -1.2em;
}
[dir="rtl"] ul#help_menu li a i.pull-right {
  float: left !important;
  float: left;
}
.dropdown-submenu {
  position: relative;
}
.dropdown-submenu > .dropdown-menu {
  top: 0;
  left: 100%;
  margin-top: -6px;
  margin-left: -1px;
}
[dir="rtl"] .dropdown-submenu > .dropdown-menu {
  right: 100%;
  margin-right: -1px;
}
.dropdown-submenu:hover > .dropdown-menu {
  display: block;
}
.dropdown-submenu > a:after {
  display: inline-block;
  font: normal normal normal 14px/1 FontAwesome;
  font-size: inherit;
  text-rendering: auto;
  -webkit-font-smoothing: antialiased;
  -moz-osx-font-smoothing: grayscale;
  display: block;
  content: "\f0da";
  float: right;
  color: #333333;
  margin-top: 2px;
  margin-right: -10px;
}
.dropdown-submenu > a:after.fa-pull-left {
  margin-right: .3em;
}
.dropdown-submenu > a:after.fa-pull-right {
  margin-left: .3em;
}
.dropdown-submenu > a:after.pull-left {
  margin-right: .3em;
}
.dropdown-submenu > a:after.pull-right {
  margin-left: .3em;
}
[dir="rtl"] .dropdown-submenu > a:after {
  float: left;
  content: "\f0d9";
  margin-right: 0;
  margin-left: -10px;
}
.dropdown-submenu:hover > a:after {
  color: #262626;
}
.dropdown-submenu.pull-left {
  float: none;
}
.dropdown-submenu.pull-left > .dropdown-menu {
  left: -100%;
  margin-left: 10px;
}
#notification_area {
  float: right !important;
  float: right;
  z-index: 10;
}
[dir="rtl"] #notification_area {
  float: left !important;
  float: left;
}
.indicator_area {
  float: right !important;
  float: right;
  color: #777;
  margin-left: 5px;
  margin-right: 5px;
  width: 11px;
  z-index: 10;
  text-align: center;
  width: auto;
}
[dir="rtl"] .indicator_area {
  float: left !important;
  float: left;
}
#kernel_indicator {
  float: right !important;
  float: right;
  color: #777;
  margin-left: 5px;
  margin-right: 5px;
  width: 11px;
  z-index: 10;
  text-align: center;
  width: auto;
  border-left: 1px solid;
}
#kernel_indicator .kernel_indicator_name {
  padding-left: 5px;
  padding-right: 5px;
}
[dir="rtl"] #kernel_indicator {
  float: left !important;
  float: left;
  border-left: 0;
  border-right: 1px solid;
}
#modal_indicator {
  float: right !important;
  float: right;
  color: #777;
  margin-left: 5px;
  margin-right: 5px;
  width: 11px;
  z-index: 10;
  text-align: center;
  width: auto;
}
[dir="rtl"] #modal_indicator {
  float: left !important;
  float: left;
}
#readonly-indicator {
  float: right !important;
  float: right;
  color: #777;
  margin-left: 5px;
  margin-right: 5px;
  width: 11px;
  z-index: 10;
  text-align: center;
  width: auto;
  margin-top: 2px;
  margin-bottom: 0px;
  margin-left: 0px;
  margin-right: 0px;
  display: none;
}
.modal_indicator:before {
  width: 1.28571429em;
  text-align: center;
}
.edit_mode .modal_indicator:before {
  display: inline-block;
  font: normal normal normal 14px/1 FontAwesome;
  font-size: inherit;
  text-rendering: auto;
  -webkit-font-smoothing: antialiased;
  -moz-osx-font-smoothing: grayscale;
  content: "\f040";
}
.edit_mode .modal_indicator:before.fa-pull-left {
  margin-right: .3em;
}
.edit_mode .modal_indicator:before.fa-pull-right {
  margin-left: .3em;
}
.edit_mode .modal_indicator:before.pull-left {
  margin-right: .3em;
}
.edit_mode .modal_indicator:before.pull-right {
  margin-left: .3em;
}
.command_mode .modal_indicator:before {
  display: inline-block;
  font: normal normal normal 14px/1 FontAwesome;
  font-size: inherit;
  text-rendering: auto;
  -webkit-font-smoothing: antialiased;
  -moz-osx-font-smoothing: grayscale;
  content: ' ';
}
.command_mode .modal_indicator:before.fa-pull-left {
  margin-right: .3em;
}
.command_mode .modal_indicator:before.fa-pull-right {
  margin-left: .3em;
}
.command_mode .modal_indicator:before.pull-left {
  margin-right: .3em;
}
.command_mode .modal_indicator:before.pull-right {
  margin-left: .3em;
}
.kernel_idle_icon:before {
  display: inline-block;
  font: normal normal normal 14px/1 FontAwesome;
  font-size: inherit;
  text-rendering: auto;
  -webkit-font-smoothing: antialiased;
  -moz-osx-font-smoothing: grayscale;
  content: "\f10c";
}
.kernel_idle_icon:before.fa-pull-left {
  margin-right: .3em;
}
.kernel_idle_icon:before.fa-pull-right {
  margin-left: .3em;
}
.kernel_idle_icon:before.pull-left {
  margin-right: .3em;
}
.kernel_idle_icon:before.pull-right {
  margin-left: .3em;
}
.kernel_busy_icon:before {
  display: inline-block;
  font: normal normal normal 14px/1 FontAwesome;
  font-size: inherit;
  text-rendering: auto;
  -webkit-font-smoothing: antialiased;
  -moz-osx-font-smoothing: grayscale;
  content: "\f111";
}
.kernel_busy_icon:before.fa-pull-left {
  margin-right: .3em;
}
.kernel_busy_icon:before.fa-pull-right {
  margin-left: .3em;
}
.kernel_busy_icon:before.pull-left {
  margin-right: .3em;
}
.kernel_busy_icon:before.pull-right {
  margin-left: .3em;
}
.kernel_dead_icon:before {
  display: inline-block;
  font: normal normal normal 14px/1 FontAwesome;
  font-size: inherit;
  text-rendering: auto;
  -webkit-font-smoothing: antialiased;
  -moz-osx-font-smoothing: grayscale;
  content: "\f1e2";
}
.kernel_dead_icon:before.fa-pull-left {
  margin-right: .3em;
}
.kernel_dead_icon:before.fa-pull-right {
  margin-left: .3em;
}
.kernel_dead_icon:before.pull-left {
  margin-right: .3em;
}
.kernel_dead_icon:before.pull-right {
  margin-left: .3em;
}
.kernel_disconnected_icon:before {
  display: inline-block;
  font: normal normal normal 14px/1 FontAwesome;
  font-size: inherit;
  text-rendering: auto;
  -webkit-font-smoothing: antialiased;
  -moz-osx-font-smoothing: grayscale;
  content: "\f127";
}
.kernel_disconnected_icon:before.fa-pull-left {
  margin-right: .3em;
}
.kernel_disconnected_icon:before.fa-pull-right {
  margin-left: .3em;
}
.kernel_disconnected_icon:before.pull-left {
  margin-right: .3em;
}
.kernel_disconnected_icon:before.pull-right {
  margin-left: .3em;
}
.notification_widget {
  color: #777;
  z-index: 10;
  background: rgba(240, 240, 240, 0.5);
  margin-right: 4px;
  color: #333;
  background-color: #fff;
  border-color: #ccc;
}
.notification_widget:focus,
.notification_widget.focus {
  color: #333;
  background-color: #e6e6e6;
  border-color: #8c8c8c;
}
.notification_widget:hover {
  color: #333;
  background-color: #e6e6e6;
  border-color: #adadad;
}
.notification_widget:active,
.notification_widget.active,
.open > .dropdown-toggle.notification_widget {
  color: #333;
  background-color: #e6e6e6;
  border-color: #adadad;
}
.notification_widget:active:hover,
.notification_widget.active:hover,
.open > .dropdown-toggle.notification_widget:hover,
.notification_widget:active:focus,
.notification_widget.active:focus,
.open > .dropdown-toggle.notification_widget:focus,
.notification_widget:active.focus,
.notification_widget.active.focus,
.open > .dropdown-toggle.notification_widget.focus {
  color: #333;
  background-color: #d4d4d4;
  border-color: #8c8c8c;
}
.notification_widget:active,
.notification_widget.active,
.open > .dropdown-toggle.notification_widget {
  background-image: none;
}
.notification_widget.disabled:hover,
.notification_widget[disabled]:hover,
fieldset[disabled] .notification_widget:hover,
.notification_widget.disabled:focus,
.notification_widget[disabled]:focus,
fieldset[disabled] .notification_widget:focus,
.notification_widget.disabled.focus,
.notification_widget[disabled].focus,
fieldset[disabled] .notification_widget.focus {
  background-color: #fff;
  border-color: #ccc;
}
.notification_widget .badge {
  color: #fff;
  background-color: #333;
}
.notification_widget.warning {
  color: #fff;
  background-color: #f0ad4e;
  border-color: #eea236;
}
.notification_widget.warning:focus,
.notification_widget.warning.focus {
  color: #fff;
  background-color: #ec971f;
  border-color: #985f0d;
}
.notification_widget.warning:hover {
  color: #fff;
  background-color: #ec971f;
  border-color: #d58512;
}
.notification_widget.warning:active,
.notification_widget.warning.active,
.open > .dropdown-toggle.notification_widget.warning {
  color: #fff;
  background-color: #ec971f;
  border-color: #d58512;
}
.notification_widget.warning:active:hover,
.notification_widget.warning.active:hover,
.open > .dropdown-toggle.notification_widget.warning:hover,
.notification_widget.warning:active:focus,
.notification_widget.warning.active:focus,
.open > .dropdown-toggle.notification_widget.warning:focus,
.notification_widget.warning:active.focus,
.notification_widget.warning.active.focus,
.open > .dropdown-toggle.notification_widget.warning.focus {
  color: #fff;
  background-color: #d58512;
  border-color: #985f0d;
}
.notification_widget.warning:active,
.notification_widget.warning.active,
.open > .dropdown-toggle.notification_widget.warning {
  background-image: none;
}
.notification_widget.warning.disabled:hover,
.notification_widget.warning[disabled]:hover,
fieldset[disabled] .notification_widget.warning:hover,
.notification_widget.warning.disabled:focus,
.notification_widget.warning[disabled]:focus,
fieldset[disabled] .notification_widget.warning:focus,
.notification_widget.warning.disabled.focus,
.notification_widget.warning[disabled].focus,
fieldset[disabled] .notification_widget.warning.focus {
  background-color: #f0ad4e;
  border-color: #eea236;
}
.notification_widget.warning .badge {
  color: #f0ad4e;
  background-color: #fff;
}
.notification_widget.success {
  color: #fff;
  background-color: #5cb85c;
  border-color: #4cae4c;
}
.notification_widget.success:focus,
.notification_widget.success.focus {
  color: #fff;
  background-color: #449d44;
  border-color: #255625;
}
.notification_widget.success:hover {
  color: #fff;
  background-color: #449d44;
  border-color: #398439;
}
.notification_widget.success:active,
.notification_widget.success.active,
.open > .dropdown-toggle.notification_widget.success {
  color: #fff;
  background-color: #449d44;
  border-color: #398439;
}
.notification_widget.success:active:hover,
.notification_widget.success.active:hover,
.open > .dropdown-toggle.notification_widget.success:hover,
.notification_widget.success:active:focus,
.notification_widget.success.active:focus,
.open > .dropdown-toggle.notification_widget.success:focus,
.notification_widget.success:active.focus,
.notification_widget.success.active.focus,
.open > .dropdown-toggle.notification_widget.success.focus {
  color: #fff;
  background-color: #398439;
  border-color: #255625;
}
.notification_widget.success:active,
.notification_widget.success.active,
.open > .dropdown-toggle.notification_widget.success {
  background-image: none;
}
.notification_widget.success.disabled:hover,
.notification_widget.success[disabled]:hover,
fieldset[disabled] .notification_widget.success:hover,
.notification_widget.success.disabled:focus,
.notification_widget.success[disabled]:focus,
fieldset[disabled] .notification_widget.success:focus,
.notification_widget.success.disabled.focus,
.notification_widget.success[disabled].focus,
fieldset[disabled] .notification_widget.success.focus {
  background-color: #5cb85c;
  border-color: #4cae4c;
}
.notification_widget.success .badge {
  color: #5cb85c;
  background-color: #fff;
}
.notification_widget.info {
  color: #fff;
  background-color: #5bc0de;
  border-color: #46b8da;
}
.notification_widget.info:focus,
.notification_widget.info.focus {
  color: #fff;
  background-color: #31b0d5;
  border-color: #1b6d85;
}
.notification_widget.info:hover {
  color: #fff;
  background-color: #31b0d5;
  border-color: #269abc;
}
.notification_widget.info:active,
.notification_widget.info.active,
.open > .dropdown-toggle.notification_widget.info {
  color: #fff;
  background-color: #31b0d5;
  border-color: #269abc;
}
.notification_widget.info:active:hover,
.notification_widget.info.active:hover,
.open > .dropdown-toggle.notification_widget.info:hover,
.notification_widget.info:active:focus,
.notification_widget.info.active:focus,
.open > .dropdown-toggle.notification_widget.info:focus,
.notification_widget.info:active.focus,
.notification_widget.info.active.focus,
.open > .dropdown-toggle.notification_widget.info.focus {
  color: #fff;
  background-color: #269abc;
  border-color: #1b6d85;
}
.notification_widget.info:active,
.notification_widget.info.active,
.open > .dropdown-toggle.notification_widget.info {
  background-image: none;
}
.notification_widget.info.disabled:hover,
.notification_widget.info[disabled]:hover,
fieldset[disabled] .notification_widget.info:hover,
.notification_widget.info.disabled:focus,
.notification_widget.info[disabled]:focus,
fieldset[disabled] .notification_widget.info:focus,
.notification_widget.info.disabled.focus,
.notification_widget.info[disabled].focus,
fieldset[disabled] .notification_widget.info.focus {
  background-color: #5bc0de;
  border-color: #46b8da;
}
.notification_widget.info .badge {
  color: #5bc0de;
  background-color: #fff;
}
.notification_widget.danger {
  color: #fff;
  background-color: #d9534f;
  border-color: #d43f3a;
}
.notification_widget.danger:focus,
.notification_widget.danger.focus {
  color: #fff;
  background-color: #c9302c;
  border-color: #761c19;
}
.notification_widget.danger:hover {
  color: #fff;
  background-color: #c9302c;
  border-color: #ac2925;
}
.notification_widget.danger:active,
.notification_widget.danger.active,
.open > .dropdown-toggle.notification_widget.danger {
  color: #fff;
  background-color: #c9302c;
  border-color: #ac2925;
}
.notification_widget.danger:active:hover,
.notification_widget.danger.active:hover,
.open > .dropdown-toggle.notification_widget.danger:hover,
.notification_widget.danger:active:focus,
.notification_widget.danger.active:focus,
.open > .dropdown-toggle.notification_widget.danger:focus,
.notification_widget.danger:active.focus,
.notification_widget.danger.active.focus,
.open > .dropdown-toggle.notification_widget.danger.focus {
  color: #fff;
  background-color: #ac2925;
  border-color: #761c19;
}
.notification_widget.danger:active,
.notification_widget.danger.active,
.open > .dropdown-toggle.notification_widget.danger {
  background-image: none;
}
.notification_widget.danger.disabled:hover,
.notification_widget.danger[disabled]:hover,
fieldset[disabled] .notification_widget.danger:hover,
.notification_widget.danger.disabled:focus,
.notification_widget.danger[disabled]:focus,
fieldset[disabled] .notification_widget.danger:focus,
.notification_widget.danger.disabled.focus,
.notification_widget.danger[disabled].focus,
fieldset[disabled] .notification_widget.danger.focus {
  background-color: #d9534f;
  border-color: #d43f3a;
}
.notification_widget.danger .badge {
  color: #d9534f;
  background-color: #fff;
}
div#pager {
  background-color: #fff;
  font-size: 14px;
  line-height: 20px;
  overflow: hidden;
  display: none;
  position: fixed;
  bottom: 0px;
  width: 100%;
  max-height: 50%;
  padding-top: 8px;
  -webkit-box-shadow: 0px 0px 12px 1px rgba(87, 87, 87, 0.2);
  box-shadow: 0px 0px 12px 1px rgba(87, 87, 87, 0.2);
  /* Display over codemirror */
  z-index: 100;
  /* Hack which prevents jquery ui resizable from changing top. */
  top: auto !important;
}
div#pager pre {
  line-height: 1.21429em;
  color: #000;
  background-color: #f7f7f7;
  padding: 0.4em;
}
div#pager #pager-button-area {
  position: absolute;
  top: 8px;
  right: 20px;
}
div#pager #pager-contents {
  position: relative;
  overflow: auto;
  width: 100%;
  height: 100%;
}
div#pager #pager-contents #pager-container {
  position: relative;
  padding: 15px 0px;
  box-sizing: border-box;
  -moz-box-sizing: border-box;
  -webkit-box-sizing: border-box;
}
div#pager .ui-resizable-handle {
  top: 0px;
  height: 8px;
  background: #f7f7f7;
  border-top: 1px solid #cfcfcf;
  border-bottom: 1px solid #cfcfcf;
  /* This injects handle bars (a short, wide = symbol) for 
        the resize handle. */
}
div#pager .ui-resizable-handle::after {
  content: '';
  top: 2px;
  left: 50%;
  height: 3px;
  width: 30px;
  margin-left: -15px;
  position: absolute;
  border-top: 1px solid #cfcfcf;
}
.quickhelp {
  /* Old browsers */
  display: -webkit-box;
  -webkit-box-orient: horizontal;
  -webkit-box-align: stretch;
  display: -moz-box;
  -moz-box-orient: horizontal;
  -moz-box-align: stretch;
  display: box;
  box-orient: horizontal;
  box-align: stretch;
  /* Modern browsers */
  display: flex;
  flex-direction: row;
  align-items: stretch;
  line-height: 1.8em;
}
.shortcut_key {
  display: inline-block;
  width: 21ex;
  text-align: right;
  font-family: monospace;
}
.shortcut_descr {
  display: inline-block;
  /* Old browsers */
  -webkit-box-flex: 1;
  -moz-box-flex: 1;
  box-flex: 1;
  /* Modern browsers */
  flex: 1;
}
span.save_widget {
  height: 30px;
  margin-top: 4px;
  display: flex;
  justify-content: flex-start;
  align-items: baseline;
  width: 50%;
  flex: 1;
}
span.save_widget span.filename {
  height: 100%;
  line-height: 1em;
  margin-left: 16px;
  border: none;
  font-size: 146.5%;
  text-overflow: ellipsis;
  overflow: hidden;
  white-space: nowrap;
  border-radius: 2px;
}
span.save_widget span.filename:hover {
  background-color: #e6e6e6;
}
[dir="rtl"] span.save_widget.pull-left {
  float: right !important;
  float: right;
}
[dir="rtl"] span.save_widget span.filename {
  margin-left: 0;
  margin-right: 16px;
}
span.checkpoint_status,
span.autosave_status {
  font-size: small;
  white-space: nowrap;
  padding: 0 5px;
}
@media (max-width: 767px) {
  span.save_widget {
    font-size: small;
    padding: 0 0 0 5px;
  }
  span.checkpoint_status,
  span.autosave_status {
    display: none;
  }
}
@media (min-width: 768px) and (max-width: 991px) {
  span.checkpoint_status {
    display: none;
  }
  span.autosave_status {
    font-size: x-small;
  }
}
.toolbar {
  padding: 0px;
  margin-left: -5px;
  margin-top: 2px;
  margin-bottom: 5px;
  box-sizing: border-box;
  -moz-box-sizing: border-box;
  -webkit-box-sizing: border-box;
}
.toolbar select,
.toolbar label {
  width: auto;
  vertical-align: middle;
  margin-right: 2px;
  margin-bottom: 0px;
  display: inline;
  font-size: 92%;
  margin-left: 0.3em;
  margin-right: 0.3em;
  padding: 0px;
  padding-top: 3px;
}
.toolbar .btn {
  padding: 2px 8px;
}
.toolbar .btn-group {
  margin-top: 0px;
  margin-left: 5px;
}
.toolbar-btn-label {
  margin-left: 6px;
}
#maintoolbar {
  margin-bottom: -3px;
  margin-top: -8px;
  border: 0px;
  min-height: 27px;
  margin-left: 0px;
  padding-top: 11px;
  padding-bottom: 3px;
}
#maintoolbar .navbar-text {
  float: none;
  vertical-align: middle;
  text-align: right;
  margin-left: 5px;
  margin-right: 0px;
  margin-top: 0px;
}
.select-xs {
  height: 24px;
}
[dir="rtl"] .btn-group > .btn,
.btn-group-vertical > .btn {
  float: right;
}
.pulse,
.dropdown-menu > li > a.pulse,
li.pulse > a.dropdown-toggle,
li.pulse.open > a.dropdown-toggle {
  background-color: #F37626;
  color: white;
}
/**
 * Primary styles
 *
 * Author: Jupyter Development Team
 */
/** WARNING IF YOU ARE EDITTING THIS FILE, if this is a .css file, It has a lot
 * of chance of beeing generated from the ../less/[samename].less file, you can
 * try to get back the less file by reverting somme commit in history
 **/
/*
 * We'll try to get something pretty, so we
 * have some strange css to have the scroll bar on
 * the left with fix button on the top right of the tooltip
 */
@-moz-keyframes fadeOut {
  from {
    opacity: 1;
  }
  to {
    opacity: 0;
  }
}
@-webkit-keyframes fadeOut {
  from {
    opacity: 1;
  }
  to {
    opacity: 0;
  }
}
@-moz-keyframes fadeIn {
  from {
    opacity: 0;
  }
  to {
    opacity: 1;
  }
}
@-webkit-keyframes fadeIn {
  from {
    opacity: 0;
  }
  to {
    opacity: 1;
  }
}
/*properties of tooltip after "expand"*/
.bigtooltip {
  overflow: auto;
  height: 200px;
  -webkit-transition-property: height;
  -webkit-transition-duration: 500ms;
  -moz-transition-property: height;
  -moz-transition-duration: 500ms;
  transition-property: height;
  transition-duration: 500ms;
}
/*properties of tooltip before "expand"*/
.smalltooltip {
  -webkit-transition-property: height;
  -webkit-transition-duration: 500ms;
  -moz-transition-property: height;
  -moz-transition-duration: 500ms;
  transition-property: height;
  transition-duration: 500ms;
  text-overflow: ellipsis;
  overflow: hidden;
  height: 80px;
}
.tooltipbuttons {
  position: absolute;
  padding-right: 15px;
  top: 0px;
  right: 0px;
}
.tooltiptext {
  /*avoid the button to overlap on some docstring*/
  padding-right: 30px;
}
.ipython_tooltip {
  max-width: 700px;
  /*fade-in animation when inserted*/
  -webkit-animation: fadeOut 400ms;
  -moz-animation: fadeOut 400ms;
  animation: fadeOut 400ms;
  -webkit-animation: fadeIn 400ms;
  -moz-animation: fadeIn 400ms;
  animation: fadeIn 400ms;
  vertical-align: middle;
  background-color: #f7f7f7;
  overflow: visible;
  border: #ababab 1px solid;
  outline: none;
  padding: 3px;
  margin: 0px;
  padding-left: 7px;
  font-family: monospace;
  min-height: 50px;
  -moz-box-shadow: 0px 6px 10px -1px #adadad;
  -webkit-box-shadow: 0px 6px 10px -1px #adadad;
  box-shadow: 0px 6px 10px -1px #adadad;
  border-radius: 2px;
  position: absolute;
  z-index: 1000;
}
.ipython_tooltip a {
  float: right;
}
.ipython_tooltip .tooltiptext pre {
  border: 0;
  border-radius: 0;
  font-size: 100%;
  background-color: #f7f7f7;
}
.pretooltiparrow {
  left: 0px;
  margin: 0px;
  top: -16px;
  width: 40px;
  height: 16px;
  overflow: hidden;
  position: absolute;
}
.pretooltiparrow:before {
  background-color: #f7f7f7;
  border: 1px #ababab solid;
  z-index: 11;
  content: "";
  position: absolute;
  left: 15px;
  top: 10px;
  width: 25px;
  height: 25px;
  -webkit-transform: rotate(45deg);
  -moz-transform: rotate(45deg);
  -ms-transform: rotate(45deg);
  -o-transform: rotate(45deg);
}
ul.typeahead-list i {
  margin-left: -10px;
  width: 18px;
}
[dir="rtl"] ul.typeahead-list i {
  margin-left: 0;
  margin-right: -10px;
}
ul.typeahead-list {
  max-height: 80vh;
  overflow: auto;
}
ul.typeahead-list > li > a {
  /** Firefox bug **/
  /* see https://github.com/jupyter/notebook/issues/559 */
  white-space: normal;
}
ul.typeahead-list  > li > a.pull-right {
  float: left !important;
  float: left;
}
[dir="rtl"] .typeahead-list {
  text-align: right;
}
.cmd-palette .modal-body {
  padding: 7px;
}
.cmd-palette form {
  background: white;
}
.cmd-palette input {
  outline: none;
}
.no-shortcut {
  min-width: 20px;
  color: transparent;
}
[dir="rtl"] .no-shortcut.pull-right {
  float: left !important;
  float: left;
}
[dir="rtl"] .command-shortcut.pull-right {
  float: left !important;
  float: left;
}
.command-shortcut:before {
  content: "(command mode)";
  padding-right: 3px;
  color: #777777;
}
.edit-shortcut:before {
  content: "(edit)";
  padding-right: 3px;
  color: #777777;
}
[dir="rtl"] .edit-shortcut.pull-right {
  float: left !important;
  float: left;
}
#find-and-replace #replace-preview .match,
#find-and-replace #replace-preview .insert {
  background-color: #BBDEFB;
  border-color: #90CAF9;
  border-style: solid;
  border-width: 1px;
  border-radius: 0px;
}
[dir="ltr"] #find-and-replace .input-group-btn + .form-control {
  border-left: none;
}
[dir="rtl"] #find-and-replace .input-group-btn + .form-control {
  border-right: none;
}
#find-and-replace #replace-preview .replace .match {
  background-color: #FFCDD2;
  border-color: #EF9A9A;
  border-radius: 0px;
}
#find-and-replace #replace-preview .replace .insert {
  background-color: #C8E6C9;
  border-color: #A5D6A7;
  border-radius: 0px;
}
#find-and-replace #replace-preview {
  max-height: 60vh;
  overflow: auto;
}
#find-and-replace #replace-preview pre {
  padding: 5px 10px;
}
.terminal-app {
  background: #EEE;
}
.terminal-app #header {
  background: #fff;
  -webkit-box-shadow: 0px 0px 12px 1px rgba(87, 87, 87, 0.2);
  box-shadow: 0px 0px 12px 1px rgba(87, 87, 87, 0.2);
}
.terminal-app .terminal {
  width: 100%;
  float: left;
  font-family: monospace;
  color: white;
  background: black;
  padding: 0.4em;
  border-radius: 2px;
  -webkit-box-shadow: 0px 0px 12px 1px rgba(87, 87, 87, 0.4);
  box-shadow: 0px 0px 12px 1px rgba(87, 87, 87, 0.4);
}
.terminal-app .terminal,
.terminal-app .terminal dummy-screen {
  line-height: 1em;
  font-size: 14px;
}
.terminal-app .terminal .xterm-rows {
  padding: 10px;
}
.terminal-app .terminal-cursor {
  color: black;
  background: white;
}
.terminal-app #terminado-container {
  margin-top: 20px;
}
/*# sourceMappingURL=style.min.css.map */
    </style>
<style type="text/css">
    .highlight .hll { background-color: #ffffcc }
.highlight  { background: #f8f8f8; }
.highlight .c { color: #408080; font-style: italic } /* Comment */
.highlight .err { border: 1px solid #FF0000 } /* Error */
.highlight .k { color: #008000; font-weight: bold } /* Keyword */
.highlight .o { color: #666666 } /* Operator */
.highlight .ch { color: #408080; font-style: italic } /* Comment.Hashbang */
.highlight .cm { color: #408080; font-style: italic } /* Comment.Multiline */
.highlight .cp { color: #BC7A00 } /* Comment.Preproc */
.highlight .cpf { color: #408080; font-style: italic } /* Comment.PreprocFile */
.highlight .c1 { color: #408080; font-style: italic } /* Comment.Single */
.highlight .cs { color: #408080; font-style: italic } /* Comment.Special */
.highlight .gd { color: #A00000 } /* Generic.Deleted */
.highlight .ge { font-style: italic } /* Generic.Emph */
.highlight .gr { color: #FF0000 } /* Generic.Error */
.highlight .gh { color: #000080; font-weight: bold } /* Generic.Heading */
.highlight .gi { color: #00A000 } /* Generic.Inserted */
.highlight .go { color: #888888 } /* Generic.Output */
.highlight .gp { color: #000080; font-weight: bold } /* Generic.Prompt */
.highlight .gs { font-weight: bold } /* Generic.Strong */
.highlight .gu { color: #800080; font-weight: bold } /* Generic.Subheading */
.highlight .gt { color: #0044DD } /* Generic.Traceback */
.highlight .kc { color: #008000; font-weight: bold } /* Keyword.Constant */
.highlight .kd { color: #008000; font-weight: bold } /* Keyword.Declaration */
.highlight .kn { color: #008000; font-weight: bold } /* Keyword.Namespace */
.highlight .kp { color: #008000 } /* Keyword.Pseudo */
.highlight .kr { color: #008000; font-weight: bold } /* Keyword.Reserved */
.highlight .kt { color: #B00040 } /* Keyword.Type */
.highlight .m { color: #666666 } /* Literal.Number */
.highlight .s { color: #BA2121 } /* Literal.String */
.highlight .na { color: #7D9029 } /* Name.Attribute */
.highlight .nb { color: #008000 } /* Name.Builtin */
.highlight .nc { color: #0000FF; font-weight: bold } /* Name.Class */
.highlight .no { color: #880000 } /* Name.Constant */
.highlight .nd { color: #AA22FF } /* Name.Decorator */
.highlight .ni { color: #999999; font-weight: bold } /* Name.Entity */
.highlight .ne { color: #D2413A; font-weight: bold } /* Name.Exception */
.highlight .nf { color: #0000FF } /* Name.Function */
.highlight .nl { color: #A0A000 } /* Name.Label */
.highlight .nn { color: #0000FF; font-weight: bold } /* Name.Namespace */
.highlight .nt { color: #008000; font-weight: bold } /* Name.Tag */
.highlight .nv { color: #19177C } /* Name.Variable */
.highlight .ow { color: #AA22FF; font-weight: bold } /* Operator.Word */
.highlight .w { color: #bbbbbb } /* Text.Whitespace */
.highlight .mb { color: #666666 } /* Literal.Number.Bin */
.highlight .mf { color: #666666 } /* Literal.Number.Float */
.highlight .mh { color: #666666 } /* Literal.Number.Hex */
.highlight .mi { color: #666666 } /* Literal.Number.Integer */
.highlight .mo { color: #666666 } /* Literal.Number.Oct */
.highlight .sa { color: #BA2121 } /* Literal.String.Affix */
.highlight .sb { color: #BA2121 } /* Literal.String.Backtick */
.highlight .sc { color: #BA2121 } /* Literal.String.Char */
.highlight .dl { color: #BA2121 } /* Literal.String.Delimiter */
.highlight .sd { color: #BA2121; font-style: italic } /* Literal.String.Doc */
.highlight .s2 { color: #BA2121 } /* Literal.String.Double */
.highlight .se { color: #BB6622; font-weight: bold } /* Literal.String.Escape */
.highlight .sh { color: #BA2121 } /* Literal.String.Heredoc */
.highlight .si { color: #BB6688; font-weight: bold } /* Literal.String.Interpol */
.highlight .sx { color: #008000 } /* Literal.String.Other */
.highlight .sr { color: #BB6688 } /* Literal.String.Regex */
.highlight .s1 { color: #BA2121 } /* Literal.String.Single */
.highlight .ss { color: #19177C } /* Literal.String.Symbol */
.highlight .bp { color: #008000 } /* Name.Builtin.Pseudo */
.highlight .fm { color: #0000FF } /* Name.Function.Magic */
.highlight .vc { color: #19177C } /* Name.Variable.Class */
.highlight .vg { color: #19177C } /* Name.Variable.Global */
.highlight .vi { color: #19177C } /* Name.Variable.Instance */
.highlight .vm { color: #19177C } /* Name.Variable.Magic */
.highlight .il { color: #666666 } /* Literal.Number.Integer.Long */
    </style>


<!-- Loading mathjax macro -->
<!-- Load mathjax -->
    <script src="https://cdnjs.cloudflare.com/ajax/libs/mathjax/2.7.5/latest.js?config=TeX-AMS_HTML"></script>
    <!-- MathJax configuration -->
    <script type="text/x-mathjax-config">
    MathJax.Hub.Config({
        tex2jax: {
            inlineMath: [ ['$','$'], ["\\(","\\)"] ],
            displayMath: [ ['$$','$$'], ["\\[","\\]"] ],
            processEscapes: true,
            processEnvironments: true
        },
        // Center justify equations in code and markdown cells. Elsewhere
        // we use CSS to left justify single line equations in code cells.
        displayAlign: 'center',
        "HTML-CSS": {
            styles: {'.MathJax_Display': {"margin": 0}},
            linebreaks: { automatic: true }
        }
    });
    </script>
    <!-- End of mathjax configuration -->

<style>
td.center, th.center {
    text-align: center;
}

body {
  overflow: visible;
  font-size: 14px;
  padding-top: 1em;
}

div#notebook {
  overflow: visible;
  border-top: none;
}

div#notebook-container {
  width: 100%;
}

@media print {
  div.cell {
    display: block;
    page-break-inside: avoid;
  }
  div.output_wrapper {
    display: block;
    page-break-inside: avoid;
  }
  div.output {
    display: block;
    page-break-inside: avoid;
  }
}

div.prompt {
  min-width: 21ex;
}

div.nbgrader_cell {
    width: 100%;
}

div.nbgrader_cell .panel-heading {
    padding: 0.4em 0.6em;
    height: 37px;
}

div.nbgrader_cell .panel-heading a {
    color: #BBBBBB;
}

div.nbgrader_cell .panel-footer {
    padding: 0.4em 0.6em;
}

div.nbgrader_cell .panel-body {
    padding: 0.4em;
}

.comment {
    width: 100%;
    margin-top: 0.5em;
}

div.nbgrader_cell .input_area {
    background: white;
    border: none;
}

.score {
    color: black;
}

li.late-penalty {
    color: #d2413a;
}

span.nbgrader-label {
    line-height: 25px;
}

.save-icon {
    margin-left: 1em;
    top: 4px;
}
</style>

</head>
<body>
  <a name="top"></a>
  <div class="container">
    <div class="panel panel-default">
      <div class="panel-heading">
        <h4>TIF285_ps3_basic_problems (Score: 9.5 / 10.0)</h4>
        <div id="toc">
          <ol>
          
            
            
          
            
            
          
            
            
          
            
            
          
            
            <li><a href="#correct_student_info">Test cell</a> (Score: 0.0 / 0.0)</li>
            
            
          
            
            
          
            
            
          
            
            
          
            
            
          
            
            
          
            
            
          
            
            
          
            
            <li><a href="#cell-77f87e6d43c75b7d">Test cell</a> (Score: 2.0 / 2.0)</li>
            
            
          
            
            
          
            
            
          
            
            
          
            
            
          
            
            
            <li><a href="#comment-cell-56a4539f08238360">Comment</a></li>
            
          
            
            <li><a href="#cell-bc458a82cc5b735b">Test cell</a> (Score: 2.0 / 2.0)</li>
            
            
          
            
            
          
            
            
          
            
            
          
            
            
            <li><a href="#comment-cell-221f06aae6b93cc7">Comment</a></li>
            
          
            
            
          
            
            
          
            
            
          
            
            
            <li><a href="#comment-cell-14d88be9c518c355">Comment</a></li>
            
          
            
            <li><a href="#cell-65cfc297669324b5">Task</a> (Score: 0.5 / 1.0)</li>
            
            
            <li><a href="#comment-cell-65cfc297669324b5">Comment</a></li>
            
          
            
            
          
            
            <li><a href="#cell-403f04018b427d3c">Task</a> (Score: 1.0 / 1.0)</li>
            
            
            <li><a href="#comment-cell-403f04018b427d3c">Comment</a></li>
            
          
            
            
          
            
            
          
            
            <li><a href="#cell-218bdab813b0c3b5">Task</a> (Score: 1.0 / 1.0)</li>
            
            
          
            
            
          
            
            
          
            
            
          
            
            
          
            
            
          
            
            
          
            
            
          
            
            
          
            
            
          
            
            
          
            
            
          
            
            
          
            
            
          
            
            
          
            
            
          
            
            
          
            
            
          
            
            
          
            
            
          
            
            
          
            
            
          
            
            
          
            
            <li><a href="#cell-4cf1dfdcd8c764f9">Test cell</a> (Score: 1.0 / 1.0)</li>
            
            
          
            
            
            <li><a href="#comment-cell-f6c527ec58acb4a6">Comment</a></li>
            
          
            
            
          
            
            <li><a href="#cell-3d9b3b46ff36be23">Task</a> (Score: 2.0 / 2.0)</li>
            
            
            <li><a href="#comment-cell-3d9b3b46ff36be23">Comment</a></li>
            
          
            
            
          
            
            
          
            
            
          
            
            
          
            
            
          
            
            
          
            
            
          
            
            
          
            
            
          
          
          </ol>
        </div>
      </div>
      <div class="panel-body">
        <div id="notebook" class="border-box-sizing">
          <div class="container" id="notebook-container">
            
<div class="cell border-box-sizing text_cell rendered">
  <div class="prompt input_prompt">
</div><div class="inner_cell">
    <div class="text_cell_render border-box-sizing rendered_html">
      <h2 id="Instructions">Instructions<a class="anchor-link" href="#Instructions">&#182;</a></h2><ul>
<li>See deadline on the course web page</li>
<li>See examination rules on the course web page.</li>
<li>This problem set is performed individually (collaboration is encouraged, but each individual must be able to explain all of his/her hand-in solutions).</li>
<li>The two notebooks for each problem set contain a number of basic and extra problems; you can choose which and how many to work on.</li>
<li><p>Many problems are automatically graded using <code>assert</code> statements. You should check that your code passes these statements without raising an <code>AssertionError</code>. Note that there might be additional, hidden tests that must be passed for full credit. In addition, some tasks are either completely manually graded or part-automatic/part-manual.</p>
</li>
<li><p><strong>Important:</strong> Hand-in is performed through the following actions:</p>
<ul>
<li>Make sure to always complete <strong>Task 0</strong> in the header part of the notebook. </li>
<li>Upload your solution in the form of your edited version of this jupyter notebook via the appropriate module in Canvas.</li>
<li>The name of the uploaded file <strong>must be the same as the original one</strong>!</li>
</ul>
<p>Note that the hand-in might not be automatically graded if you have changed the name of the uploaded file.</p>
</li>
</ul>

    </div>
  </div></div>

<div class="cell border-box-sizing text_cell rendered">
  <div class="prompt input_prompt">
</div><div class="inner_cell">
    <div class="text_cell_render border-box-sizing rendered_html">
      <ul>
<li><p>Before you turn this problem in, make sure everything runs as expected. First, <strong>restart the kernel</strong> (in the menubar, select Kernel$\rightarrow$Restart) and then <strong>run all cells</strong> (in the menubar, select Cell$\rightarrow$Run All).</p>
</li>
<li><p>Make sure that the <strong>run time is smaller than a few minutes</strong>. If needed you might have to reduce some computational tasks; e.g. by decreasing the number of grid points or sampling steps. Please ask the supervisors if you are uncertain about the run time.</p>
</li>
<li><p>Your solutions are usually expected where it says <code>YOUR CODE HERE</code> or <font color="red">"PLEASE WRITE YOUR ANSWER HERE"</font>.</p>
</li>
</ul>

    </div>
  </div></div>

<div class="cell border-box-sizing text_cell rendered">
  <div class="prompt input_prompt">
</div><div class="inner_cell">
    <div class="text_cell_render border-box-sizing rendered_html">
      <h3 id="Task-0">Task 0<a class="anchor-link" href="#Task-0">&#182;</a></h3><h4 id="(0-points)">(0 points)<a class="anchor-link" href="#(0-points)">&#182;</a></h4><p>Fill your personal details in the dictionary 'student' with the following key/value pairs:</p>
<ul>
<li><strong>Lastname</strong>: Your lastname as a string</li>
<li><strong>Firstname</strong>: Your firstname as a string</li>
<li><strong>DOB-year</strong>: The year for your date of birth as a four-digit integer</li>
<li><strong>DOB-month</strong>: The month for your date of birth as an integer (1-12)</li>
<li><strong>DOB-day</strong>: The year for your date of birth as an integer (1-31)</li>
<li><strong>CID</strong>: Your Chalmers login ID as a string</li>
</ul>

    </div>
  </div></div>

<div class="cell border-box-sizing code_cell rendered">
<div class="input">
<div class="prompt input_prompt">In&nbsp;[1]:</div><div class="panel panel-primary nbgrader_cell">
    <a name="comment-student_info"></a><div class="panel-heading"><span class="nbgrader-label">Student's answer</span><span class="pull-right"><a href="#top">(Top)</a></span></div>
    <div class="panel-body">
      <div class="input_area">
        <div class=" highlight hl-ipython3"><pre><span></span><span class="n">student</span><span class="o">=</span><span class="p">{}</span>
<span class="c1"># Update the values below. Note the formats.</span>
<span class="n">student</span><span class="p">[</span><span class="s1">&#39;Lastname&#39;</span><span class="p">]</span><span class="o">=</span><span class="s1">&#39;Sanogo&#39;</span>  <span class="c1"># string</span>
<span class="n">student</span><span class="p">[</span><span class="s1">&#39;Firstname&#39;</span><span class="p">]</span><span class="o">=</span><span class="s1">&#39;Ibrahim&#39;</span> <span class="c1"># string</span>
<span class="n">student</span><span class="p">[</span><span class="s1">&#39;CID&#39;</span><span class="p">]</span><span class="o">=</span><span class="s1">&#39;sanogo&#39;</span>        <span class="c1"># string</span>
<span class="n">student</span><span class="p">[</span><span class="s1">&#39;DOB-year&#39;</span><span class="p">]</span><span class="o">=</span><span class="mi">1999</span>        <span class="c1"># four-digit integer</span>
<span class="n">student</span><span class="p">[</span><span class="s1">&#39;DOB-month&#39;</span><span class="p">]</span><span class="o">=</span><span class="mi">1</span>          <span class="c1"># integer in the range [1, 12]</span>
<span class="n">student</span><span class="p">[</span><span class="s1">&#39;DOB-day&#39;</span><span class="p">]</span><span class="o">=</span><span class="mi">16</span>           <span class="c1"># integer in the range [1, 31]</span>

<span class="c1"># </span>
<span class="c1"># YOUR CODE HERE</span>
<span class="c1"># </span>
</pre></div>

      </div>
    </div>
    
  </div>
</div>

</div>
<div class="cell border-box-sizing code_cell rendered">
<div class="input">
<div class="prompt input_prompt">In&nbsp;[2]:</div><div class="panel panel-primary nbgrader_cell">
    <a name="correct_student_info"></a><div class="panel-heading"><span class="nbgrader-label">Grade cell: <code>correct_student_info</code></span>
  <span class="pull-right">
      Score: 0.0 / 0.0 <a href="#top">(Top)</a>
  </span></div>
    <div class="panel-body">
      <div class="input_area">
        <div class=" highlight hl-ipython3"><pre><span></span><span class="k">for</span> <span class="n">key</span> <span class="ow">in</span> <span class="p">[</span><span class="s1">&#39;Lastname&#39;</span><span class="p">,</span> <span class="s1">&#39;Firstname&#39;</span><span class="p">,</span><span class="s1">&#39;CID&#39;</span><span class="p">]:</span>
    <span class="k">assert</span> <span class="nb">type</span><span class="p">(</span><span class="n">student</span><span class="p">[</span><span class="n">key</span><span class="p">])</span> <span class="ow">is</span> <span class="nb">str</span><span class="p">,</span> <span class="n">f</span><span class="s1">&#39;</span><span class="si">{key}</span><span class="s1"> is wrong type.&#39;</span>
    <span class="k">assert</span> <span class="n">student</span><span class="p">[</span><span class="n">key</span><span class="p">]</span> <span class="ow">not</span> <span class="ow">in</span> <span class="p">[</span><span class="s1">&#39;name_here&#39;</span><span class="p">,</span><span class="s1">&#39;cid_here&#39;</span><span class="p">],</span>\
        <span class="n">f</span><span class="s1">&#39;Fill your </span><span class="si">{key}</span><span class="s1"> as a string.&#39;</span>

<span class="k">for</span> <span class="n">key</span> <span class="ow">in</span> <span class="p">[</span><span class="s1">&#39;DOB-year&#39;</span><span class="p">,</span> <span class="s1">&#39;DOB-month&#39;</span><span class="p">,</span><span class="s1">&#39;DOB-day&#39;</span><span class="p">]:</span>
    <span class="k">assert</span> <span class="nb">type</span><span class="p">(</span><span class="n">student</span><span class="p">[</span><span class="n">key</span><span class="p">])</span> <span class="ow">is</span> <span class="nb">int</span><span class="p">,</span> <span class="n">f</span><span class="s1">&#39;</span><span class="si">{key}</span><span class="s1"> is wrong type.&#39;</span>

<span class="k">assert</span> <span class="p">(</span><span class="n">student</span><span class="p">[</span><span class="s1">&#39;DOB-year&#39;</span><span class="p">]</span> <span class="o">&gt;</span> <span class="mi">1900</span> <span class="ow">and</span> <span class="n">student</span><span class="p">[</span><span class="s1">&#39;DOB-year&#39;</span><span class="p">]</span> <span class="o">&lt;</span> <span class="mi">2100</span><span class="p">)</span>
<span class="k">assert</span> <span class="n">student</span><span class="p">[</span><span class="s1">&#39;DOB-month&#39;</span><span class="p">]</span> <span class="ow">in</span> <span class="nb">range</span><span class="p">(</span><span class="mi">1</span><span class="p">,</span><span class="mi">13</span><span class="p">),</span> \
    <span class="s1">&#39;DOB month should be an integer in the range [1, 12]&#39;</span>
<span class="k">assert</span> <span class="n">student</span><span class="p">[</span><span class="s1">&#39;DOB-day&#39;</span><span class="p">]</span> <span class="ow">in</span> <span class="nb">range</span><span class="p">(</span><span class="mi">1</span><span class="p">,</span><span class="mi">32</span><span class="p">),</span> \
    <span class="s1">&#39;DOB day should be an integer in the range [1, 31]&#39;</span>
</pre></div>

      </div>
    </div>
    
  </div>
</div>

</div>
<div class="cell border-box-sizing text_cell rendered">
  <div class="prompt input_prompt">
</div><div class="inner_cell">
    <div class="text_cell_render border-box-sizing rendered_html">
      <h1 id="Problem-Set-3">Problem Set 3<a class="anchor-link" href="#Problem-Set-3">&#182;</a></h1><h2 id="Basic-problems">Basic problems<a class="anchor-link" href="#Basic-problems">&#182;</a></h2><h3 id="Learning-from-data-[TIF285],-Chalmers,-Fall-2020">Learning from data [TIF285], Chalmers, Fall 2020<a class="anchor-link" href="#Learning-from-data-[TIF285],-Chalmers,-Fall-2020">&#182;</a></h3><p>Last revised: 24-Sep-2020 by Christian Forssén [christian.forssen@chalmers.se]</p>

    </div>
  </div></div>

<div class="cell border-box-sizing code_cell rendered">
<div class="input">
<div class="prompt input_prompt">In&nbsp;[3]:</div><div class="inner_cell">
    <div class="input_area">
      <div class=" highlight hl-ipython3"><pre><span></span><span class="kn">import</span> <span class="nn">os</span>
<span class="c1"># Data files are stored in</span>
<span class="n">DATA_DIR</span> <span class="o">=</span> <span class="s2">&quot;DataFiles/&quot;</span>

<span class="k">if</span> <span class="ow">not</span> <span class="n">os</span><span class="o">.</span><span class="n">path</span><span class="o">.</span><span class="n">exists</span><span class="p">(</span><span class="n">DATA_DIR</span><span class="p">):</span>
    <span class="n">os</span><span class="o">.</span><span class="n">makedirs</span><span class="p">(</span><span class="n">DATA_DIR</span><span class="p">)</span>
</pre></div>

    </div>
  </div>
</div>

</div>
<div class="cell border-box-sizing text_cell rendered">
  <div class="prompt input_prompt">
</div><div class="inner_cell">
    <div class="text_cell_render border-box-sizing rendered_html">
      <h2 id="Problem-1:-Assigning-probabilities-for-a-hundred-sided-dice&#182;">Problem 1: Assigning probabilities for a hundred-sided dice&#182;<a class="anchor-link" href="#Problem-1:-Assigning-probabilities-for-a-hundred-sided-dice&#182;">&#182;</a></h2><h3 id="(2-points)">(2 points)<a class="anchor-link" href="#(2-points)">&#182;</a></h3>
    </div>
  </div></div>

<div class="cell border-box-sizing text_cell rendered">
  <div class="prompt input_prompt">
</div><div class="inner_cell">
    <div class="text_cell_render border-box-sizing rendered_html">
      <p>Consider a hundred-sided dice (labeled with 1, 2, 3, ..., 100) for which you know that the average result is 10.</p>
<p>Use the principle of maximum entropy to assign the probabilities $\{ p_i \}_{i=1}^{100}$ for the outcomes of a dice roll.</p>
<p><em>Hint: Use the method of Lagrange multipliers. See, e.g., Gregory section 8.6-7.</em></p>
<p><em>There are two constraints from the known information: the normalization of the probabilities $\sum_i p_i = 1$ and the average result $\sum_i i p_i = 10$. In lack of other information, it is best to set the Lebesque measure $m_i = \mathrm{constant}$.</em></p>

    </div>
  </div></div>

<div class="cell border-box-sizing text_cell rendered">
  <div class="prompt input_prompt">
</div><div class="inner_cell">
    <div class="text_cell_render border-box-sizing rendered_html">
      <h3 id="Task">Task<a class="anchor-link" href="#Task">&#182;</a></h3><ul>
<li>Assign the probabilities and make a bar plot. Store the probabilities in an array <code>probs</code> of length 100.</li>
<li>The distribution looks like an exponential $e^{-\lambda^* i}$. What is its decay constant $\lambda^*$? Store the best fit decay constant in the variable <code>lam_star</code></li>
</ul>

    </div>
  </div></div>

<div class="cell border-box-sizing code_cell rendered">
<div class="input">
<div class="prompt input_prompt">In&nbsp;[4]:</div><div class="panel panel-primary nbgrader_cell">
    <a name="comment-cell-3cc7232d47efdf8f"></a><div class="panel-heading"><span class="nbgrader-label">Student's answer</span><span class="pull-right"><a href="#top">(Top)</a></span></div>
    <div class="panel-body">
      <div class="input_area">
        <div class=" highlight hl-ipython3"><pre><span></span><span class="c1"># importing modules</span>

<span class="o">%</span><span class="k">matplotlib</span> inline


<span class="kn">import</span> <span class="nn">numpy</span> <span class="k">as</span> <span class="nn">np</span>
<span class="kn">import</span> <span class="nn">matplotlib.pyplot</span> <span class="k">as</span> <span class="nn">plt</span>
<span class="kn">from</span> <span class="nn">sklearn</span> <span class="k">import</span> <span class="n">preprocessing</span><span class="p">,</span><span class="n">linear_model</span>
<span class="kn">import</span> <span class="nn">random</span>
<span class="kn">from</span> <span class="nn">sklearn.model_selection</span> <span class="k">import</span> <span class="n">train_test_split</span>
<span class="kn">import</span> <span class="nn">time</span> 
<span class="kn">from</span> <span class="nn">scipy.optimize</span> <span class="k">import</span> <span class="n">fsolve</span>

<span class="c1"># </span>
<span class="c1"># </span>
<span class="c1"># YOUR CODE HERE</span>
<span class="c1"># </span>
</pre></div>

      </div>
    </div>
    
  </div>
</div>

</div>
<div class="cell border-box-sizing code_cell rendered">
<div class="input">
<div class="prompt input_prompt">In&nbsp;[5]:</div><div class="panel panel-primary nbgrader_cell">
    <a name="comment-cell-dd028344f374acca"></a><div class="panel-heading"><span class="nbgrader-label">Student's answer</span><span class="pull-right"><a href="#top">(Top)</a></span></div>
    <div class="panel-body">
      <div class="input_area">
        <div class=" highlight hl-ipython3"><pre><span></span><span class="c1"># We suggest to define helper functions</span>
<span class="c1">#</span>
<span class="k">def</span> <span class="nf">diff_constrained_entropy</span><span class="p">(</span><span class="n">lam</span><span class="p">,</span><span class="n">mu</span><span class="p">,</span><span class="n">N</span><span class="p">):</span>
    <span class="sd">&#39;&#39;&#39;Returns the differential of the constrained entropy for an N-sided die </span>
<span class="sd">    with mean mu and lagrange multiplier lam&#39;&#39;&#39;</span>
    <span class="n">i</span> <span class="o">=</span> <span class="n">np</span><span class="o">.</span><span class="n">arange</span><span class="p">(</span><span class="mi">1</span><span class="p">,</span><span class="n">N</span><span class="o">+</span><span class="mi">1</span><span class="p">)</span>
    <span class="k">return</span> <span class="n">np</span><span class="o">.</span><span class="n">sum</span><span class="p">(</span><span class="n">i</span><span class="o">*</span><span class="mi">1</span><span class="o">/</span><span class="n">N</span><span class="o">*</span><span class="n">np</span><span class="o">.</span><span class="n">exp</span><span class="p">(</span><span class="n">i</span><span class="o">*-</span><span class="n">lam</span><span class="p">))</span><span class="o">-</span><span class="n">mu</span><span class="o">*</span><span class="n">np</span><span class="o">.</span><span class="n">sum</span><span class="p">(</span><span class="mi">1</span><span class="o">/</span><span class="n">N</span><span class="o">*</span><span class="n">np</span><span class="o">.</span><span class="n">exp</span><span class="p">(</span><span class="n">i</span><span class="o">*-</span><span class="n">lam</span><span class="p">))</span>

<span class="k">def</span> <span class="nf">probi</span><span class="p">(</span><span class="n">lam</span><span class="p">,</span><span class="n">N</span><span class="p">):</span>
    <span class="sd">&#39;&#39;&#39;Returns an array (length N) of probabilities given the lagrange multiplier lam.&#39;&#39;&#39;</span>
    <span class="n">i</span> <span class="o">=</span> <span class="n">np</span><span class="o">.</span><span class="n">arange</span><span class="p">(</span><span class="mi">1</span><span class="p">,</span><span class="n">N</span><span class="o">+</span><span class="mi">1</span><span class="p">)</span>
    <span class="n">lam0</span><span class="o">=</span> <span class="mi">1</span> <span class="o">/</span> <span class="n">np</span><span class="o">.</span><span class="n">sum</span><span class="p">(</span><span class="mi">1</span><span class="o">/</span><span class="n">N</span><span class="o">*</span><span class="n">np</span><span class="o">.</span><span class="n">exp</span><span class="p">(</span><span class="o">-</span><span class="n">lam</span><span class="o">*</span><span class="n">i</span><span class="p">))</span>
    <span class="n">p</span><span class="o">=</span> <span class="mi">1</span><span class="o">/</span><span class="n">N</span><span class="o">*</span><span class="n">np</span><span class="o">.</span><span class="n">exp</span><span class="p">(</span><span class="o">-</span><span class="n">lam</span><span class="o">*</span><span class="n">i</span><span class="p">)</span><span class="o">*</span><span class="n">lam0</span>
    
    <span class="k">return</span> <span class="n">p</span>
    
<span class="c1"># and to use the principle of maximum entropy to assign the probabilities </span>
<span class="n">probs</span> <span class="o">=</span> <span class="n">np</span><span class="o">.</span><span class="n">empty</span><span class="p">(</span><span class="mi">100</span><span class="p">)</span>
<span class="n">lam_star</span><span class="o">=</span><span class="mf">0.0</span>
<span class="n">mu</span> <span class="o">=</span> <span class="mi">10</span> 
<span class="n">N</span><span class="o">=</span><span class="mi">100</span> 

<span class="n">lam_star</span><span class="o">=</span> <span class="n">fsolve</span><span class="p">(</span><span class="n">diff_constrained_entropy</span><span class="p">,</span><span class="n">lam_star</span><span class="p">,</span><span class="n">args</span><span class="o">=</span><span class="p">(</span><span class="n">mu</span><span class="p">,</span><span class="n">N</span><span class="p">))</span>
<span class="n">probs</span><span class="o">=</span> <span class="n">probi</span><span class="p">(</span><span class="n">lam_star</span><span class="p">,</span><span class="n">N</span><span class="p">)</span>
<span class="n">X_axis</span><span class="o">=</span><span class="n">np</span><span class="o">.</span><span class="n">linspace</span><span class="p">(</span><span class="mi">1</span><span class="p">,</span><span class="mi">100</span><span class="p">,</span><span class="mi">100</span><span class="p">)</span>
<span class="nb">print</span><span class="p">(</span><span class="s2">&quot;Lambda star = &quot;</span><span class="p">,</span> <span class="n">lam_star</span><span class="p">)</span>
<span class="n">pExp</span> <span class="o">=</span> <span class="n">np</span><span class="o">.</span><span class="n">exp</span><span class="p">(</span><span class="o">-</span><span class="n">lam_star</span><span class="o">*</span><span class="n">X_axis</span><span class="p">)</span><span class="o">/</span><span class="n">mu</span>

<span class="n">fig</span> <span class="o">=</span> <span class="n">plt</span><span class="o">.</span><span class="n">figure</span><span class="p">()</span>
<span class="n">ax</span> <span class="o">=</span> <span class="n">fig</span><span class="o">.</span><span class="n">add_axes</span><span class="p">([</span><span class="mi">0</span><span class="p">,</span><span class="mi">0</span><span class="p">,</span><span class="mi">1</span><span class="p">,</span><span class="mi">1</span><span class="p">])</span>
<span class="n">ax</span><span class="o">.</span><span class="n">bar</span><span class="p">(</span><span class="n">X_axis</span><span class="p">,</span><span class="n">probs</span><span class="p">,</span> <span class="n">label</span> <span class="o">=</span> <span class="s1">&#39;Max Entropy&#39;</span><span class="p">)</span>
<span class="n">ax</span><span class="o">.</span><span class="n">plot</span><span class="p">(</span><span class="n">X_axis</span><span class="p">,</span><span class="n">pExp</span><span class="p">,</span> <span class="n">color</span> <span class="o">=</span> <span class="s1">&#39;green&#39;</span><span class="p">,</span> <span class="n">label</span> <span class="o">=</span> <span class="s1">&#39;Exp Function&#39;</span><span class="p">)</span>
<span class="n">ax</span><span class="o">.</span><span class="n">set_xlabel</span><span class="p">(</span><span class="s1">&#39;Number of dots&#39;</span><span class="p">)</span>
<span class="n">ax</span><span class="o">.</span><span class="n">set_ylabel</span><span class="p">(</span><span class="s1">&#39;Probability&#39;</span><span class="p">)</span>
<span class="n">ax</span><span class="o">.</span><span class="n">legend</span> <span class="p">(</span><span class="n">loc</span><span class="o">=</span><span class="s1">&#39;best&#39;</span><span class="p">)</span>
</pre></div>

      </div>
    </div>
    
  </div>
</div>

<div class="output_wrapper">
<div class="output">


<div class="output_area">

    <div class="prompt"></div>


<div class="output_subarea output_stream output_stdout output_text">
<pre>Lambda star =  [0.10533092]
</pre>
</div>
</div>

<div class="output_area">

    <div class="prompt output_prompt">Out[5]:</div>




<div class="output_text output_subarea output_execute_result">
<pre>&lt;matplotlib.legend.Legend at 0x7ff17dc97a20&gt;</pre>
</div>

</div>

<div class="output_area">

    <div class="prompt"></div>




<div class="output_png output_subarea ">
<img src="data:image/png;base64,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
"
>
</div>

</div>

</div>
</div>

</div>
<div class="cell border-box-sizing code_cell rendered">
<div class="input">
<div class="prompt input_prompt">In&nbsp;[6]:</div><div class="panel panel-primary nbgrader_cell">
    <a name="cell-77f87e6d43c75b7d"></a><div class="panel-heading"><span class="nbgrader-label">Grade cell: <code>cell-77f87e6d43c75b7d</code></span>
  <span class="pull-right">
      Score: 2.0 / 2.0 <a href="#top">(Top)</a>
  </span></div>
    <div class="panel-body">
      <div class="input_area">
        <div class=" highlight hl-ipython3"><pre><span></span><span class="k">assert</span> <span class="nb">len</span><span class="p">(</span><span class="n">probs</span><span class="p">)</span> <span class="o">==</span> <span class="mi">100</span><span class="p">,</span> <span class="s1">&#39;The array should be of length 100&#39;</span>
<span class="k">assert</span> <span class="mi">0</span><span class="o">&lt;</span><span class="n">lam_star</span><span class="o">&lt;</span><span class="mf">1.0</span><span class="p">,</span> <span class="s1">&#39;The decay constant is in [0,1]&#39;</span>
<span class="c1"># check the results</span>
<span class="n">iside</span> <span class="o">=</span> <span class="n">np</span><span class="o">.</span><span class="n">arange</span><span class="p">(</span><span class="n">N</span><span class="p">)</span><span class="o">+</span><span class="mi">1</span>
<span class="n">avg</span> <span class="o">=</span> <span class="n">np</span><span class="o">.</span><span class="n">sum</span><span class="p">(</span><span class="n">iside</span><span class="o">*</span><span class="n">probs</span><span class="p">)</span>
<span class="k">assert</span> <span class="n">np</span><span class="o">.</span><span class="n">abs</span><span class="p">(</span><span class="n">avg</span><span class="o">-</span><span class="mf">10.00</span><span class="p">)</span><span class="o">&lt;</span><span class="mf">0.00001</span><span class="p">,</span> <span class="n">f</span><span class="s1">&#39;The average of the discrete probability distribution </span><span class="si">{avg}</span><span class="s1">!=10.&#39;</span> 

<span class="c1">### BEGIN HIDDEN TESTS</span>
<span class="n">norm</span> <span class="o">=</span> <span class="n">np</span><span class="o">.</span><span class="n">sum</span><span class="p">(</span><span class="n">probs</span><span class="p">)</span>
<span class="k">assert</span> <span class="n">np</span><span class="o">.</span><span class="n">abs</span><span class="p">(</span><span class="n">norm</span><span class="o">-</span><span class="mf">1.00</span><span class="p">)</span><span class="o">&lt;</span><span class="mf">0.00001</span><span class="p">,</span> <span class="n">f</span><span class="s1">&#39;The norm of the discrete probability distribution </span><span class="si">{norm}</span><span class="s1">!=1.&#39;</span> 
<span class="k">assert</span> <span class="n">np</span><span class="o">.</span><span class="n">abs</span><span class="p">(</span><span class="n">probs</span><span class="p">[</span><span class="mi">49</span><span class="p">]</span><span class="o">-</span><span class="mf">0.00057</span><span class="p">)</span><span class="o">&lt;</span><span class="mf">0.00001</span><span class="p">,</span> <span class="n">f</span><span class="s1">&#39;Probability </span><span class="si">{probs[49]}</span><span class="s1">!=0.00057.&#39;</span> 
<span class="k">assert</span> <span class="n">np</span><span class="o">.</span><span class="n">abs</span><span class="p">(</span><span class="n">lam_star</span><span class="o">-</span><span class="mf">0.105</span><span class="p">)</span><span class="o">&lt;</span><span class="mf">0.001</span><span class="p">,</span> <span class="n">f</span><span class="s1">&#39;Correct decay constant </span><span class="si">{lam_star}</span><span class="s1">!=0.105.&#39;</span> 
<span class="c1">### END HIDDEN TESTS</span>
</pre></div>

      </div>
    </div>
    
  </div>
</div>

</div>
<div class="cell border-box-sizing text_cell rendered">
  <div class="prompt input_prompt">
</div><div class="inner_cell">
    <div class="text_cell_render border-box-sizing rendered_html">
      <h2 id="Problem-2:-Hypothesis-testing-using-p-values">Problem 2: Hypothesis testing using p-values<a class="anchor-link" href="#Problem-2:-Hypothesis-testing-using-p-values">&#182;</a></h2><h3 id="(2-points)">(2 points)<a class="anchor-link" href="#(2-points)">&#182;</a></h3>
    </div>
  </div></div>

<div class="cell border-box-sizing text_cell rendered">
  <div class="prompt input_prompt">
</div><div class="inner_cell">
    <div class="text_cell_render border-box-sizing rendered_html">
      <p>Assume that you are analyzing a time series of data from an experiment that is searching for an annual modulation on top of a constant background (e.g. a signal that would be proportional to the flux of dark matter particles which is expected to have an annual modulation).</p>
<p>The time series of data consists of $N = 20$ measurements that extends over a period of 5 years. The measurements are presented in some re-scaled, dimensionless units. From calibration measurements it is known that errors are statistically distributed with a standard deviation $\sigma = 5.0$.</p>

    </div>
  </div></div>

<div class="cell border-box-sizing text_cell rendered">
  <div class="prompt input_prompt">
</div><div class="inner_cell">
    <div class="text_cell_render border-box-sizing rendered_html">
      <h3 id="Tasks">Tasks<a class="anchor-link" href="#Tasks">&#182;</a></h3><ul>
<li>Read the data which has been generated using three different (unknown) scenarios: with different amplitudes of the annual modulation signal</li>
<li>Consider the scenario that the signal is <em>constant</em>, with an unknown amplitude as a null hypothesis.</li>
<li>Compute, for each case, the chi-squared statistics: $\chi^2 = \sum_{i=1}^N \frac{( y_i - \bar{y} )^2}{\sigma^2}$, where the average value $\bar{y}$ is estimated from the sample $\{ y_i \}_{i=1}^{N}$.</li>
<li>Make a plot of the expected $\chi^2$ distribution for the relevant number of degrees of freedom and compare with the statistic obtained for the actual data in each case.</li>
<li>What is the <em>P-value</em> or <em>significance</em> of the data (for each case) from a frequentist point of view?</li>
<li>Assume that we have decided beforehand the significance level 5% for this test. Would you <em>reject the null hypothesis with 95% confidence</em> for each particular case?</li>
</ul>

    </div>
  </div></div>

<div class="cell border-box-sizing code_cell rendered">
<div class="input">
<div class="prompt input_prompt">In&nbsp;[7]:</div><div class="panel panel-primary nbgrader_cell">
    <a name="comment-cell-58dbfded94777e8d"></a><div class="panel-heading"><span class="nbgrader-label">Student's answer</span><span class="pull-right"><a href="#top">(Top)</a></span></div>
    <div class="panel-body">
      <div class="input_area">
        <div class=" highlight hl-ipython3"><pre><span></span><span class="c1"># importing modules</span>

<span class="o">%</span><span class="k">matplotlib</span> inline

<span class="kn">import</span> <span class="nn">numpy</span> <span class="k">as</span> <span class="nn">np</span>
<span class="kn">import</span> <span class="nn">matplotlib.pyplot</span> <span class="k">as</span> <span class="nn">plt</span>
<span class="kn">from</span> <span class="nn">sklearn</span> <span class="k">import</span> <span class="n">preprocessing</span><span class="p">,</span><span class="n">linear_model</span>
<span class="kn">import</span> <span class="nn">random</span>
<span class="kn">from</span> <span class="nn">sklearn.model_selection</span> <span class="k">import</span> <span class="n">train_test_split</span>
<span class="kn">import</span> <span class="nn">time</span> 
<span class="kn">from</span> <span class="nn">scipy.optimize</span> <span class="k">import</span> <span class="n">fsolve</span>
<span class="kn">import</span> <span class="nn">scipy.stats</span> <span class="k">as</span> <span class="nn">stats</span>
<span class="kn">from</span> <span class="nn">scipy.stats</span> <span class="k">import</span> <span class="n">chisquare</span>
<span class="kn">from</span> <span class="nn">scipy.stats</span> <span class="k">import</span> <span class="n">chi2</span>
<span class="kn">from</span> <span class="nn">scipy.stats</span> <span class="k">import</span> <span class="n">chisquare</span>
<span class="k">def</span> <span class="nf">ki2</span> <span class="p">(</span><span class="n">dy</span><span class="p">,</span><span class="n">y</span><span class="p">):</span> 
    <span class="n">mean_y</span> <span class="o">=</span> <span class="n">np</span><span class="o">.</span><span class="n">mean</span><span class="p">(</span><span class="n">y</span><span class="p">)</span>
    <span class="k">return</span> <span class="n">np</span><span class="o">.</span><span class="n">sum</span><span class="p">((</span><span class="n">y</span> <span class="o">-</span> <span class="n">mean_y</span><span class="p">)</span><span class="o">**</span><span class="mi">2</span><span class="p">)</span> <span class="o">/</span> <span class="n">dy</span><span class="o">**</span><span class="mi">2</span>
</pre></div>

      </div>
    </div>
    
  </div>
</div>

</div>
<div class="cell border-box-sizing code_cell rendered">
<div class="input">
<div class="prompt input_prompt">In&nbsp;[8]:</div><div class="panel panel-primary nbgrader_cell">
    <a name="comment-cell-56a4539f08238360"></a><div class="panel-heading"><span class="nbgrader-label">Student's answer</span><span class="pull-right"><a href="#top">(Top)</a></span></div>
    <div class="panel-body">
      <div class="input_area">
        <div class=" highlight hl-ipython3"><pre><span></span><span class="c1"># Read the data and perform the tasks listed above</span>
<span class="c1">#</span>
<span class="c1"># Save the p-value in the list variable `pvalue`</span>
<span class="n">pvalue</span> <span class="o">=</span> <span class="p">[</span><span class="mf">0.</span><span class="p">,</span> <span class="mf">0.</span><span class="p">,</span> <span class="mf">0.</span><span class="p">]</span>
<span class="c1"># Should the null hypothesis be rejected? Save your answer in the list boolean variable `reject_null`</span>

<span class="n">reject_null</span> <span class="o">=</span> <span class="p">[</span><span class="kc">False</span><span class="p">,</span> <span class="kc">False</span><span class="p">,</span> <span class="kc">False</span><span class="p">]</span>
    
<span class="n">fig_signal</span><span class="p">,</span><span class="n">axs_signal</span> <span class="o">=</span> <span class="n">plt</span><span class="o">.</span><span class="n">subplots</span><span class="p">(</span><span class="mi">1</span><span class="p">,</span> <span class="mi">3</span><span class="p">,</span> <span class="n">figsize</span><span class="o">=</span><span class="p">(</span><span class="mi">16</span><span class="p">,</span> <span class="mi">4</span><span class="p">))</span>
<span class="n">fig_chi2</span><span class="p">,</span><span class="n">axs_chi2</span> <span class="o">=</span> <span class="n">plt</span><span class="o">.</span><span class="n">subplots</span><span class="p">(</span><span class="mi">1</span><span class="p">,</span> <span class="mi">3</span><span class="p">,</span> <span class="n">figsize</span><span class="o">=</span><span class="p">(</span><span class="mi">16</span><span class="p">,</span> <span class="mi">4</span><span class="p">))</span>
<span class="n">yStock</span><span class="o">=</span><span class="p">[]</span>

<span class="k">for</span> <span class="n">icase</span><span class="p">,</span> <span class="n">amp_annual</span> <span class="ow">in</span> <span class="nb">enumerate</span><span class="p">([</span><span class="mf">5.</span><span class="p">,</span> <span class="mf">5.</span><span class="p">,</span> <span class="mf">5.</span><span class="p">]):</span>
    <span class="nb">print</span><span class="p">(</span><span class="n">f</span><span class="s1">&#39;Read data for case </span><span class="si">{icase:&gt;2}</span><span class="s1">&#39;</span><span class="p">)</span>
    <span class="n">t</span><span class="p">,</span><span class="n">y</span> <span class="o">=</span> <span class="n">np</span><span class="o">.</span><span class="n">loadtxt</span><span class="p">(</span><span class="n">f</span><span class="s1">&#39;</span><span class="si">{DATA_DIR}</span><span class="s1">/problem2_data</span><span class="si">{icase}</span><span class="s1">.dat&#39;</span><span class="p">,</span><span class="n">unpack</span><span class="o">=</span><span class="kc">True</span><span class="p">)</span>
    <span class="n">axs_signal</span><span class="p">[</span><span class="n">icase</span><span class="p">]</span><span class="o">.</span><span class="n">plot</span><span class="p">((</span><span class="n">t</span><span class="o">/</span><span class="mi">365</span><span class="p">),</span><span class="n">y</span><span class="p">)</span>
    <span class="n">axs_signal</span><span class="p">[</span><span class="n">icase</span><span class="p">]</span><span class="o">.</span><span class="n">set_xlabel</span><span class="p">(</span><span class="sa">r</span><span class="s1">&#39;$Years$&#39;</span><span class="p">)</span>
    <span class="n">axs_signal</span><span class="p">[</span><span class="n">icase</span><span class="p">]</span><span class="o">.</span><span class="n">set_ylabel</span><span class="p">(</span><span class="sa">r</span><span class="s1">&#39;$Signal$&#39;</span><span class="p">)</span>
    <span class="n">axs_signal</span><span class="p">[</span><span class="n">icase</span><span class="p">]</span><span class="o">.</span><span class="n">set_title</span><span class="p">(</span><span class="s1">&#39;Signal(t)&#39;</span><span class="p">)</span>
    <span class="n">yStock</span><span class="o">.</span><span class="n">append</span><span class="p">(</span><span class="n">y</span><span class="p">)</span>
      
    
    
<span class="n">dy</span> <span class="o">=</span> <span class="nb">len</span><span class="p">(</span><span class="n">y</span><span class="p">)</span>
<span class="n">Ki2Val</span><span class="o">=</span><span class="n">np</span><span class="o">.</span><span class="n">zeros</span><span class="p">(</span><span class="mi">3</span><span class="p">)</span>

<span class="k">for</span> <span class="n">i</span> <span class="ow">in</span> <span class="nb">range</span><span class="p">(</span><span class="mi">3</span><span class="p">):</span>
    <span class="n">Ki2Val</span><span class="p">[</span><span class="n">i</span><span class="p">]</span> <span class="o">=</span> <span class="n">ki2</span><span class="p">(</span><span class="mi">5</span><span class="p">,</span><span class="n">yStock</span><span class="p">[</span><span class="n">i</span><span class="p">])</span>
    <span class="n">x</span> <span class="o">=</span> <span class="n">np</span><span class="o">.</span><span class="n">linspace</span><span class="p">(</span><span class="n">chi2</span><span class="o">.</span><span class="n">ppf</span><span class="p">(</span><span class="mf">0.01</span><span class="p">,</span> <span class="n">dy</span><span class="p">),</span> <span class="n">chi2</span><span class="o">.</span><span class="n">ppf</span><span class="p">(</span><span class="mf">0.99</span><span class="p">,</span> <span class="n">dy</span><span class="p">),</span> <span class="mi">100</span><span class="p">)</span>
    <span class="n">axs_chi2</span><span class="p">[</span><span class="n">i</span><span class="p">]</span><span class="o">.</span><span class="n">plot</span><span class="p">(</span><span class="n">x</span><span class="p">,</span> <span class="n">chi2</span><span class="o">.</span><span class="n">pdf</span><span class="p">(</span><span class="n">x</span><span class="p">,</span> <span class="n">dy</span><span class="p">),</span><span class="s1">&#39;r-&#39;</span><span class="p">,</span> <span class="n">lw</span><span class="o">=</span><span class="mi">1</span><span class="p">,</span> <span class="n">alpha</span><span class="o">=</span><span class="mf">0.6</span><span class="p">,</span> <span class="n">label</span><span class="o">=</span><span class="s1">&#39;chi2 pdf&#39;</span><span class="p">)</span>
    <span class="n">axs_chi2</span><span class="p">[</span><span class="n">i</span><span class="p">]</span><span class="o">.</span><span class="n">axvline</span><span class="p">(</span><span class="n">x</span><span class="o">=</span><span class="n">Ki2Val</span><span class="p">[</span><span class="n">i</span><span class="p">],</span><span class="n">color</span><span class="o">=</span><span class="s1">&#39;black&#39;</span><span class="p">,</span> <span class="n">label</span> <span class="o">=</span> <span class="p">(</span><span class="s1">&#39;ki2=&#39;</span><span class="p">,</span><span class="n">np</span><span class="o">.</span><span class="n">round</span><span class="p">(</span><span class="n">Ki2Val</span><span class="p">[</span><span class="n">i</span><span class="p">],</span><span class="mi">3</span><span class="p">)</span> <span class="p">))</span>
    <span class="n">axs_chi2</span><span class="p">[</span><span class="n">i</span><span class="p">]</span><span class="o">.</span><span class="n">fill_between</span><span class="p">(</span><span class="n">x</span><span class="p">,</span> <span class="n">chi2</span><span class="o">.</span><span class="n">pdf</span><span class="p">(</span><span class="n">x</span><span class="p">,</span> <span class="n">dy</span><span class="p">),</span> <span class="n">where</span><span class="o">=</span><span class="n">x</span><span class="o">&gt;=</span> <span class="n">Ki2Val</span><span class="p">[</span><span class="n">i</span><span class="p">]</span> <span class="p">,</span> <span class="n">facecolor</span><span class="o">=</span><span class="s1">&#39;blue&#39;</span><span class="p">,</span> <span class="n">interpolate</span><span class="o">=</span><span class="kc">True</span><span class="p">,</span><span class="n">alpha</span><span class="o">=</span><span class="mf">0.2</span><span class="p">,</span> <span class="n">label</span><span class="o">=</span><span class="s1">&#39;p value&#39;</span><span class="p">)</span>
    <span class="n">axs_chi2</span><span class="p">[</span><span class="n">i</span><span class="p">]</span><span class="o">.</span><span class="n">legend</span> <span class="p">(</span><span class="n">loc</span><span class="o">=</span><span class="s1">&#39;best&#39;</span><span class="p">,</span><span class="n">prop</span><span class="o">=</span><span class="p">{</span><span class="s1">&#39;size&#39;</span><span class="p">:</span> <span class="mi">10</span><span class="p">})</span> 
    <span class="n">pvalue</span><span class="p">[</span><span class="n">i</span><span class="p">]</span><span class="o">=</span><span class="p">(</span><span class="mi">1</span><span class="o">-</span><span class="p">(</span><span class="n">chi2</span><span class="o">.</span><span class="n">cdf</span><span class="p">(</span><span class="n">Ki2Val</span><span class="p">[</span><span class="n">i</span><span class="p">],</span> <span class="p">(</span><span class="n">dy</span><span class="o">-</span><span class="mi">1</span><span class="p">))))</span>
    


  


<span class="c1">#x = np.linspace(chi2.ppf(0.01, dy), chi2.ppf(0.99, dy), 100)</span>
<span class="c1">#axs_chi2[0].plot(x, chi2.pdf(x, dy),&#39;g-&#39;, lw=2, alpha=0.6, label=&#39;chi2 pdf&#39;</span>

<span class="nb">print</span><span class="p">(</span><span class="n">np</span><span class="o">.</span><span class="n">round</span><span class="p">(</span><span class="n">pvalue</span><span class="p">,</span><span class="mi">3</span><span class="p">))</span>

<span class="c1">#Assume that we have decided beforehand the significance level 5% for this test. Would you reject the null hypothesis with 95% confidence for each particular case?</span>

<span class="c1">#After looking at the Pvalues, we can assume that the null hypothesis with 95% confidence can be rejected for the problem_data[1], the second curve, indeed for this one we have the Pvalue &lt; 0</span>
<span class="c1">#05. The other Pvalues being superior to 0.05 the pvalues cannot be rejected. </span>


  
</pre></div>

      </div>
    </div>
    <div class="panel-footer">
  <div>
    <b>Comments:</b> <p>Your solution is correct (but you forgot to update the boolean array...)</p>

  </div>
</div>
  </div>
</div>

<div class="output_wrapper">
<div class="output">


<div class="output_area">

    <div class="prompt"></div>


<div class="output_subarea output_stream output_stdout output_text">
<pre>Read data for case  0
Read data for case  1
Read data for case  2
[0.31  0.042 0.061]
</pre>
</div>
</div>

<div class="output_area">

    <div class="prompt"></div>




<div class="output_png output_subarea ">
<img src="data:image/png;base64,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
"
>
</div>

</div>

<div class="output_area">

    <div class="prompt"></div>




<div class="output_png output_subarea ">
<img src="data:image/png;base64,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
"
>
</div>

</div>

</div>
</div>

</div>
<div class="cell border-box-sizing code_cell rendered">
<div class="input">
<div class="prompt input_prompt">In&nbsp;[9]:</div><div class="panel panel-primary nbgrader_cell">
    <a name="cell-bc458a82cc5b735b"></a><div class="panel-heading"><span class="nbgrader-label">Grade cell: <code>cell-bc458a82cc5b735b</code></span>
  <span class="pull-right">
      Score: 2.0 / 2.0 <a href="#top">(Top)</a>
  </span></div>
    <div class="panel-body">
      <div class="input_area">
        <div class=" highlight hl-ipython3"><pre><span></span><span class="k">assert</span> <span class="nb">len</span><span class="p">(</span><span class="n">reject_null</span><span class="p">)</span><span class="o">==</span><span class="mi">3</span>
<span class="k">assert</span> <span class="nb">len</span><span class="p">(</span><span class="n">pvalue</span><span class="p">)</span><span class="o">==</span><span class="mi">3</span>
<span class="k">assert</span> <span class="ow">not</span> <span class="n">pvalue</span><span class="o">==</span><span class="p">[</span><span class="mf">0.</span><span class="p">,</span><span class="mf">0.</span><span class="p">,</span><span class="mf">0.</span><span class="p">],</span> <span class="s1">&#39;update pvalue list&#39;</span>
<span class="c1">### BEGIN HIDDEN TESTS</span>
<span class="k">assert</span> <span class="n">reject_null</span><span class="o">==</span><span class="p">[</span><span class="kc">False</span><span class="p">,</span> <span class="kc">True</span><span class="p">,</span> <span class="kc">False</span><span class="p">],</span> <span class="n">reject_null</span>
<span class="k">assert</span> <span class="n">np</span><span class="o">.</span><span class="n">abs</span><span class="p">(</span><span class="n">pvalue</span><span class="p">[</span><span class="mi">0</span><span class="p">]</span><span class="o">-</span><span class="mf">0.309997</span><span class="p">)</span> <span class="o">&lt;</span> <span class="mf">0.01</span><span class="p">,</span> <span class="n">pvalue</span><span class="p">[</span><span class="mi">0</span><span class="p">]</span>
<span class="k">assert</span> <span class="n">np</span><span class="o">.</span><span class="n">abs</span><span class="p">(</span><span class="n">pvalue</span><span class="p">[</span><span class="mi">1</span><span class="p">]</span><span class="o">-</span><span class="mf">0.04184</span><span class="p">)</span> <span class="o">&lt;</span> <span class="mf">0.005</span><span class="p">,</span> <span class="n">pvalue</span><span class="p">[</span><span class="mi">1</span><span class="p">]</span>
<span class="k">assert</span> <span class="n">np</span><span class="o">.</span><span class="n">abs</span><span class="p">(</span><span class="n">pvalue</span><span class="p">[</span><span class="mi">2</span><span class="p">]</span><span class="o">-</span><span class="mf">0.0605089</span><span class="p">)</span> <span class="o">&lt;</span> <span class="mf">0.005</span><span class="p">,</span> <span class="n">pvalue</span><span class="p">[</span><span class="mi">2</span><span class="p">]</span>
<span class="c1">### END HIDDEN TESTS</span>
</pre></div>

      </div>
    </div>
    
  </div>
</div>

<div class="output_wrapper">
<div class="output">


<div class="output_area">

    <div class="prompt"></div>


<div class="output_subarea output_text output_error">
<pre>
<span class="ansi-red-fg">---------------------------------------------------------------------------</span>
<span class="ansi-red-fg">AssertionError</span>                            Traceback (most recent call last)
<span class="ansi-green-fg">&lt;ipython-input-9-dcd1e0d714c9&gt;</span> in <span class="ansi-cyan-fg">&lt;module&gt;</span>
<span class="ansi-green-intense-fg ansi-bold">      3</span> <span class="ansi-green-fg">assert</span> <span class="ansi-green-fg">not</span> pvalue<span class="ansi-blue-fg">==</span><span class="ansi-blue-fg">[</span><span class="ansi-cyan-fg">0.</span><span class="ansi-blue-fg">,</span><span class="ansi-cyan-fg">0.</span><span class="ansi-blue-fg">,</span><span class="ansi-cyan-fg">0.</span><span class="ansi-blue-fg">]</span><span class="ansi-blue-fg">,</span> <span class="ansi-blue-fg">&#39;update pvalue list&#39;</span>
<span class="ansi-green-intense-fg ansi-bold">      4</span> <span class="ansi-red-fg">### BEGIN HIDDEN TESTS</span>
<span class="ansi-green-fg">----&gt; 5</span><span class="ansi-red-fg"> </span><span class="ansi-green-fg">assert</span> reject_null<span class="ansi-blue-fg">==</span><span class="ansi-blue-fg">[</span><span class="ansi-green-fg">False</span><span class="ansi-blue-fg">,</span> <span class="ansi-green-fg">True</span><span class="ansi-blue-fg">,</span> <span class="ansi-green-fg">False</span><span class="ansi-blue-fg">]</span><span class="ansi-blue-fg">,</span> reject_null
<span class="ansi-green-intense-fg ansi-bold">      6</span> <span class="ansi-green-fg">assert</span> np<span class="ansi-blue-fg">.</span>abs<span class="ansi-blue-fg">(</span>pvalue<span class="ansi-blue-fg">[</span><span class="ansi-cyan-fg">0</span><span class="ansi-blue-fg">]</span><span class="ansi-blue-fg">-</span><span class="ansi-cyan-fg">0.309997</span><span class="ansi-blue-fg">)</span> <span class="ansi-blue-fg">&lt;</span> <span class="ansi-cyan-fg">0.01</span><span class="ansi-blue-fg">,</span> pvalue<span class="ansi-blue-fg">[</span><span class="ansi-cyan-fg">0</span><span class="ansi-blue-fg">]</span>
<span class="ansi-green-intense-fg ansi-bold">      7</span> <span class="ansi-green-fg">assert</span> np<span class="ansi-blue-fg">.</span>abs<span class="ansi-blue-fg">(</span>pvalue<span class="ansi-blue-fg">[</span><span class="ansi-cyan-fg">1</span><span class="ansi-blue-fg">]</span><span class="ansi-blue-fg">-</span><span class="ansi-cyan-fg">0.04184</span><span class="ansi-blue-fg">)</span> <span class="ansi-blue-fg">&lt;</span> <span class="ansi-cyan-fg">0.005</span><span class="ansi-blue-fg">,</span> pvalue<span class="ansi-blue-fg">[</span><span class="ansi-cyan-fg">1</span><span class="ansi-blue-fg">]</span>

<span class="ansi-red-fg">AssertionError</span>: [False, False, False]</pre>
</div>
</div>

</div>
</div>

</div>
<div class="cell border-box-sizing text_cell rendered">
  <div class="prompt input_prompt">
</div><div class="inner_cell">
    <div class="text_cell_render border-box-sizing rendered_html">
      <h2 id="Problem-3:-Gaussian-Process-regression">Problem 3: Gaussian Process regression<a class="anchor-link" href="#Problem-3:-Gaussian-Process-regression">&#182;</a></h2><h3 id="(3-points)">(3 points)<a class="anchor-link" href="#(3-points)">&#182;</a></h3>
    </div>
  </div></div>

<div class="cell border-box-sizing text_cell rendered">
  <div class="prompt input_prompt">
</div><div class="inner_cell">
    <div class="text_cell_render border-box-sizing rendered_html">
      <p>In the following we will perform Gaussian Process regression of the <a href="https://en.wikipedia.org/wiki/Distance_modulus">distance modulus</a> ($\mu$) vs. <a href="https://en.wikipedia.org/wiki/Redshift">redshift</a> ($z$) relation for a simulated set of 100 supernovas.</p>
<p>The data, 
$(z, \mu, \Delta \mu)$,
is generated from an underlying true distribution $p(z) \propto (z/z_0)^2 \exp[(z/z_0)^{1.5}]$ 
with $z_0 = 0.3$. An array with $(z_\mathrm{true}, \mu_\mathrm{true})$ is also available for comparison.</p>

    </div>
  </div></div>

<div class="cell border-box-sizing text_cell rendered">
  <div class="prompt input_prompt">
</div><div class="inner_cell">
    <div class="text_cell_render border-box-sizing rendered_html">
      <p>Credit: The data and a part of the problem formulation is obtained from the <a href="&quot;http://www.astroml.org/&quot;">AstroML</a> python module distributed under the 3-clause BSD license. For more information, see <a href="http://astroML.github.com">http://astroML.github.com</a>.</p>

    </div>
  </div></div>

<div class="cell border-box-sizing code_cell rendered">
<div class="input">
<div class="prompt input_prompt">In&nbsp;[10]:</div><div class="panel panel-primary nbgrader_cell">
    <a name="comment-cell-221f06aae6b93cc7"></a><div class="panel-heading"><span class="nbgrader-label">Student's answer</span><span class="pull-right"><a href="#top">(Top)</a></span></div>
    <div class="panel-body">
      <div class="input_area">
        <div class=" highlight hl-ipython3"><pre><span></span><span class="c1"># The GPy library is needed to solve this task</span>
<span class="c1">#</span>
<span class="kn">import</span> <span class="nn">GPy</span>
<span class="kn">import</span> <span class="nn">numpy</span> <span class="k">as</span> <span class="nn">np</span>
<span class="kn">from</span> <span class="nn">matplotlib</span> <span class="k">import</span> <span class="n">pyplot</span> <span class="k">as</span> <span class="n">plt</span>
<span class="o">%</span><span class="k">matplotlib</span> inline

<span class="c1"># </span>
<span class="c1"># YOUR CODE HERE</span>
<span class="c1"># </span>
</pre></div>

      </div>
    </div>
    <div class="panel-footer">
  <div>
    <b>Comments:</b> <p>No response.</p>

  </div>
</div>
  </div>
</div>

</div>
<div class="cell border-box-sizing text_cell rendered">
  <div class="prompt input_prompt">
</div><div class="inner_cell">
    <div class="text_cell_render border-box-sizing rendered_html">
      <h3 id="Initialization-task">Initialization task<a class="anchor-link" href="#Initialization-task">&#182;</a></h3><p>Load the experimental data and the true function data and plot $\mu = \mu(z)$.</p>

    </div>
  </div></div>

<div class="cell border-box-sizing code_cell rendered">
<div class="input">
<div class="prompt input_prompt">In&nbsp;[11]:</div><div class="inner_cell">
    <div class="input_area">
      <div class=" highlight hl-ipython3"><pre><span></span><span class="c1"># Load experimental data sample</span>
<span class="n">z_sample</span><span class="p">,</span> <span class="n">mu_sample</span><span class="p">,</span> <span class="n">dmu</span> <span class="o">=</span> <span class="n">np</span><span class="o">.</span><span class="n">loadtxt</span><span class="p">(</span><span class="n">f</span><span class="s1">&#39;</span><span class="si">{DATA_DIR}</span><span class="s1">/cosmology_sample.dat&#39;</span><span class="p">,</span><span class="n">unpack</span><span class="o">=</span><span class="kc">True</span><span class="p">)</span>

<span class="c1"># data must be two-dimensional for GPy</span>
<span class="n">x</span> <span class="o">=</span> <span class="n">z_sample</span><span class="o">.</span><span class="n">reshape</span><span class="p">((</span><span class="o">-</span><span class="mi">1</span><span class="p">,</span><span class="mi">1</span><span class="p">))</span>
<span class="n">y</span> <span class="o">=</span> <span class="n">mu_sample</span><span class="o">.</span><span class="n">reshape</span><span class="p">((</span><span class="o">-</span><span class="mi">1</span><span class="p">,</span><span class="mi">1</span><span class="p">))</span>
<span class="nb">print</span><span class="p">(</span><span class="s1">&#39;The experimental data is of shape:&#39;</span><span class="p">,</span> <span class="n">y</span><span class="o">.</span><span class="n">shape</span><span class="p">)</span>
</pre></div>

    </div>
  </div>
</div>

<div class="output_wrapper">
<div class="output">


<div class="output_area">

    <div class="prompt"></div>


<div class="output_subarea output_stream output_stdout output_text">
<pre>The experimental data is of shape: (100, 1)
</pre>
</div>
</div>

</div>
</div>

</div>
<div class="cell border-box-sizing code_cell rendered">
<div class="input">
<div class="prompt input_prompt">In&nbsp;[12]:</div><div class="inner_cell">
    <div class="input_area">
      <div class=" highlight hl-ipython3"><pre><span></span><span class="c1"># Load true function</span>
<span class="n">z</span><span class="p">,</span> <span class="n">mu_true</span> <span class="o">=</span> <span class="n">np</span><span class="o">.</span><span class="n">loadtxt</span><span class="p">(</span><span class="n">f</span><span class="s1">&#39;</span><span class="si">{DATA_DIR}</span><span class="s1">/cosmology_true.dat&#39;</span><span class="p">,</span><span class="n">unpack</span><span class="o">=</span><span class="kc">True</span><span class="p">)</span>

<span class="nb">print</span><span class="p">(</span><span class="s1">&#39;The true function data is of shape:&#39;</span><span class="p">,</span> <span class="n">mu_true</span><span class="o">.</span><span class="n">shape</span><span class="p">)</span>
</pre></div>

    </div>
  </div>
</div>

<div class="output_wrapper">
<div class="output">


<div class="output_area">

    <div class="prompt"></div>


<div class="output_subarea output_stream output_stdout output_text">
<pre>The true function data is of shape: (1000,)
</pre>
</div>
</div>

</div>
</div>

</div>
<div class="cell border-box-sizing code_cell rendered">
<div class="input">
<div class="prompt input_prompt">In&nbsp;[13]:</div><div class="panel panel-primary nbgrader_cell">
    <a name="comment-cell-14d88be9c518c355"></a><div class="panel-heading"><span class="nbgrader-label">Student's answer</span><span class="pull-right"><a href="#top">(Top)</a></span></div>
    <div class="panel-body">
      <div class="input_area">
        <div class=" highlight hl-ipython3"><pre><span></span><span class="c1"># Plot the data and the true function</span>


<span class="n">fig</span><span class="p">,</span><span class="n">ax</span> <span class="o">=</span> <span class="n">plt</span><span class="o">.</span><span class="n">subplots</span><span class="p">(</span><span class="mi">1</span><span class="p">,</span> <span class="mi">2</span><span class="p">,</span> <span class="n">figsize</span><span class="o">=</span><span class="p">(</span><span class="mi">16</span><span class="p">,</span> <span class="mi">4</span><span class="p">))</span>

<span class="n">ax</span><span class="p">[</span><span class="mi">0</span><span class="p">]</span><span class="o">.</span><span class="n">plot</span><span class="p">(</span><span class="n">z</span><span class="p">,</span><span class="n">mu_true</span><span class="p">)</span>

<span class="n">ax</span><span class="p">[</span><span class="mi">1</span><span class="p">]</span><span class="o">.</span><span class="n">scatter</span><span class="p">(</span><span class="n">z_sample</span><span class="p">,</span><span class="n">mu_sample</span><span class="p">)</span>
</pre></div>

      </div>
    </div>
    <div class="panel-footer">
  <div>
    <b>Comments:</b> <p>Would have been good to plot in a single panel!</p>

  </div>
</div>
  </div>
</div>

<div class="output_wrapper">
<div class="output">


<div class="output_area">

    <div class="prompt output_prompt">Out[13]:</div>




<div class="output_text output_subarea output_execute_result">
<pre>&lt;matplotlib.collections.PathCollection at 0x7ff17ee26400&gt;</pre>
</div>

</div>

<div class="output_area">

    <div class="prompt"></div>




<div class="output_png output_subarea ">
<img src="data:image/png;base64,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
"
>
</div>

</div>

</div>
</div>

</div>
<div class="cell border-box-sizing text_cell rendered">
  <div class="prompt input_prompt">
</div><div class="panel panel-primary nbgrader_cell">
    <a name="comment-cell-65cfc297669324b5"></a><div class="panel-heading"><span class="nbgrader-label">Student's task</span>
  <span class="pull-right">
      Score: 0.5 / 1.0 <a href="#top">(Top)</a>
  </span></div>
    <div class="panel-body">
      <div class="text_cell_render border-box-sizing rendered_html">
        <h3 id="Task-1">Task 1<a class="anchor-link" href="#Task-1">&#182;</a></h3><p>Use the GPy python module to create a GP model with an RBF kernel. The GP model will contain a Gaussian noise term by default.</p>
<ul>
<li>Print the hyperparameters of the kernel before doing optimization.</li>
<li>Use GPy to optimize the model hyperparameters to the available data.</li>
<li>Print the optimized GP model hyperparameters. Check in particular the Gaussian noise variance. Does it make sense given the uncertainites that were present in the experimental data?</li>
<li>What is the log likelihood of the data with this GP model? (<em>Hint</em>: Use the GPy <code>model.log_likelihood()</code> function , where <code>model</code> is a GPy regression model)</li>
<li>Plot the GP regression model together with the data (the GPy plot command will by default show the mean prediction and the 95% credibility region).</li>
</ul>

      </div>
    </div>
    <div class="panel-footer">
  <div>
    <b>Comments:</b> <p>How about the GP noise parameter? Does it make sense or not? And why?</p>

  </div>
</div>
  </div></div>

<div class="cell border-box-sizing code_cell rendered">
<div class="input">
<div class="prompt input_prompt">In&nbsp;[14]:</div><div class="panel panel-primary nbgrader_cell">
    <a name="comment-cell-a6d1de33884b46ce"></a><div class="panel-heading"><span class="nbgrader-label">Student's answer</span><span class="pull-right"><a href="#top">(Top)</a></span></div>
    <div class="panel-body">
      <div class="input_area">
        <div class=" highlight hl-ipython3"><pre><span></span><span class="n">kernel</span> <span class="o">=</span> <span class="n">GPy</span><span class="o">.</span><span class="n">kern</span><span class="o">.</span><span class="n">RBF</span><span class="p">(</span><span class="mi">1</span><span class="p">)</span>
<span class="n">m</span> <span class="o">=</span> <span class="n">GPy</span><span class="o">.</span><span class="n">models</span><span class="o">.</span><span class="n">GPRegression</span><span class="p">(</span><span class="n">x</span><span class="p">,</span><span class="n">y</span><span class="p">,</span><span class="n">kernel</span><span class="p">)</span>
<span class="n">display</span><span class="p">(</span><span class="n">m</span><span class="p">)</span>
<span class="n">m</span><span class="o">.</span><span class="n">optimize</span><span class="p">()</span>
<span class="n">display</span><span class="p">(</span><span class="n">m</span><span class="p">)</span>
<span class="n">m</span><span class="o">.</span><span class="n">plot</span><span class="p">()</span>
<span class="nb">print</span><span class="p">(</span><span class="s2">&quot;The likelyhookfunction is &quot;</span><span class="p">,</span> <span class="n">m</span><span class="o">.</span><span class="n">log_likelihood</span><span class="p">())</span>
<span class="c1">#Yes it seems to make sense</span>
</pre></div>

      </div>
    </div>
    
  </div>
</div>

<div class="output_wrapper">
<div class="output">


<div class="output_area">

    <div class="prompt"></div>



<div class="output_html rendered_html output_subarea ">
<style type="text/css">
.pd{
    font-family: "Courier New", Courier, monospace !important;
    width: 100%;
    padding: 3px;
}
</style>

<p class=pd>
<b>Model</b>: GP regression<br>
<b>Objective</b>: 1316.1261625137327<br>
<b>Number of Parameters</b>: 3<br>
<b>Number of Optimization Parameters</b>: 3<br>
<b>Updates</b>: True<br>
</p>
<style type="text/css">
.tg  {font-family:"Courier New", Courier, monospace !important;padding:2px 3px;word-break:normal;border-collapse:collapse;border-spacing:0;border-color:#DCDCDC;margin:0px auto;width:100%;}
.tg td{font-family:"Courier New", Courier, monospace !important;font-weight:bold;color:#444;background-color:#F7FDFA;border-style:solid;border-width:1px;overflow:hidden;word-break:normal;border-color:#DCDCDC;}
.tg th{font-family:"Courier New", Courier, monospace !important;font-weight:normal;color:#fff;background-color:#26ADE4;border-style:solid;border-width:1px;overflow:hidden;word-break:normal;border-color:#DCDCDC;}
.tg .tg-left{font-family:"Courier New", Courier, monospace !important;font-weight:normal;text-align:left;}
.tg .tg-center{font-family:"Courier New", Courier, monospace !important;font-weight:normal;text-align:center;}
.tg .tg-right{font-family:"Courier New", Courier, monospace !important;font-weight:normal;text-align:right;}
</style>
<table class="tg"><tr><th><b>  GP_regression.         </b></th><th><b>value</b></th><th><b>constraints</b></th><th><b>priors</b></th></tr>
<tr><td class=tg-left>  rbf.variance           </td><td class=tg-right>  1.0</td><td class=tg-center>    +ve    </td><td class=tg-center>      </td></tr>
<tr><td class=tg-left>  rbf.lengthscale        </td><td class=tg-right>  1.0</td><td class=tg-center>    +ve    </td><td class=tg-center>      </td></tr>
<tr><td class=tg-left>  Gaussian_noise.variance</td><td class=tg-right>  1.0</td><td class=tg-center>    +ve    </td><td class=tg-center>      </td></tr>
</table>
</div>

</div>

<div class="output_area">

    <div class="prompt"></div>



<div class="output_html rendered_html output_subarea ">
<style type="text/css">
.pd{
    font-family: "Courier New", Courier, monospace !important;
    width: 100%;
    padding: 3px;
}
</style>

<p class=pd>
<b>Model</b>: GP regression<br>
<b>Objective</b>: 152.57170381376702<br>
<b>Number of Parameters</b>: 3<br>
<b>Number of Optimization Parameters</b>: 3<br>
<b>Updates</b>: True<br>
</p>
<style type="text/css">
.tg  {font-family:"Courier New", Courier, monospace !important;padding:2px 3px;word-break:normal;border-collapse:collapse;border-spacing:0;border-color:#DCDCDC;margin:0px auto;width:100%;}
.tg td{font-family:"Courier New", Courier, monospace !important;font-weight:bold;color:#444;background-color:#F7FDFA;border-style:solid;border-width:1px;overflow:hidden;word-break:normal;border-color:#DCDCDC;}
.tg th{font-family:"Courier New", Courier, monospace !important;font-weight:normal;color:#fff;background-color:#26ADE4;border-style:solid;border-width:1px;overflow:hidden;word-break:normal;border-color:#DCDCDC;}
.tg .tg-left{font-family:"Courier New", Courier, monospace !important;font-weight:normal;text-align:left;}
.tg .tg-center{font-family:"Courier New", Courier, monospace !important;font-weight:normal;text-align:center;}
.tg .tg-right{font-family:"Courier New", Courier, monospace !important;font-weight:normal;text-align:right;}
</style>
<table class="tg"><tr><th><b>  GP_regression.         </b></th><th><b>             value</b></th><th><b>constraints</b></th><th><b>priors</b></th></tr>
<tr><td class=tg-left>  rbf.variance           </td><td class=tg-right> 1000.204440339472</td><td class=tg-center>    +ve    </td><td class=tg-center>      </td></tr>
<tr><td class=tg-left>  rbf.lengthscale        </td><td class=tg-right>3.0174646003609475</td><td class=tg-center>    +ve    </td><td class=tg-center>      </td></tr>
<tr><td class=tg-left>  Gaussian_noise.variance</td><td class=tg-right>1.0005767169903834</td><td class=tg-center>    +ve    </td><td class=tg-center>      </td></tr>
</table>
</div>

</div>

<div class="output_area">

    <div class="prompt"></div>


<div class="output_subarea output_stream output_stdout output_text">
<pre>The likelyhookfunction is  -152.57170381376702
</pre>
</div>
</div>

<div class="output_area">

    <div class="prompt"></div>




<div class="output_png output_subarea ">
<img src="data:image/png;base64,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
"
>
</div>

</div>

</div>
</div>

</div>
<div class="cell border-box-sizing text_cell rendered">
  <div class="prompt input_prompt">
</div><div class="panel panel-primary nbgrader_cell">
    <a name="comment-cell-403f04018b427d3c"></a><div class="panel-heading"><span class="nbgrader-label">Student's task</span>
  <span class="pull-right">
      Score: 1.0 / 1.0 <a href="#top">(Top)</a>
  </span></div>
    <div class="panel-body">
      <div class="text_cell_render border-box-sizing rendered_html">
        <h3 id="Task-2">Task 2<a class="anchor-link" href="#Task-2">&#182;</a></h3><p>Repeat the GP model optimization, but initialize the hyperparameters with</p>
<ul>
<li>RBF lengthscale = 1.2</li>
<li>RBF variance = 1000</li>
</ul>
<p>From this initial guess, use GPy to optimize the model hyperparameters to the available data.</p>
<ul>
<li>Print the optimized GP model hyperparameters. </li>
<li>What is the log likelihood of the data with this GP model? </li>
<li>Plot the GP regression model together with the data.</li>
<li>What are the main differences of the fit in Task 2 and the one in Task 3?</li>
</ul>

      </div>
    </div>
    <div class="panel-footer">
  <div>
    <b>Comments:</b> <p>I'm sorry, I wanted to have a comparison with task 1. But at least you made a comment so I will give the full credit.</p>

  </div>
</div>
  </div></div>

<div class="cell border-box-sizing text_cell rendered">
  <div class="prompt input_prompt">
</div><div class="inner_cell">
    <div class="text_cell_render border-box-sizing rendered_html">
      <h4 id="The-fit-in-task-3-will-not-be-as-smooth-as-the-one-in-this-task">The fit in task 3 will not be as smooth as the one in this task<a class="anchor-link" href="#The-fit-in-task-3-will-not-be-as-smooth-as-the-one-in-this-task">&#182;</a></h4>
    </div>
  </div></div>

<div class="cell border-box-sizing code_cell rendered">
<div class="input">
<div class="prompt input_prompt">In&nbsp;[15]:</div><div class="panel panel-primary nbgrader_cell">
    <a name="comment-cell-b8b8d269d33c744b"></a><div class="panel-heading"><span class="nbgrader-label">Student's answer</span><span class="pull-right"><a href="#top">(Top)</a></span></div>
    <div class="panel-body">
      <div class="input_area">
        <div class=" highlight hl-ipython3"><pre><span></span><span class="n">kernel</span> <span class="o">=</span> <span class="n">GPy</span><span class="o">.</span><span class="n">kern</span><span class="o">.</span><span class="n">RBF</span><span class="p">(</span><span class="n">input_dim</span><span class="o">=</span><span class="mi">1</span><span class="p">,</span> <span class="n">variance</span><span class="o">=</span><span class="mi">1000</span><span class="p">,</span> <span class="n">lengthscale</span><span class="o">=</span><span class="mf">1.2</span><span class="p">)</span>
<span class="n">m</span> <span class="o">=</span> <span class="n">GPy</span><span class="o">.</span><span class="n">models</span><span class="o">.</span><span class="n">GPRegression</span><span class="p">(</span><span class="n">x</span><span class="p">,</span><span class="n">y</span><span class="p">,</span><span class="n">kernel</span><span class="p">)</span>
<span class="n">m</span><span class="o">.</span><span class="n">optimize</span><span class="p">()</span>
<span class="n">display</span><span class="p">(</span><span class="n">m</span><span class="p">)</span>
<span class="n">m</span><span class="o">.</span><span class="n">plot</span><span class="p">()</span>
<span class="nb">print</span><span class="p">(</span><span class="s2">&quot;The likelyhood function is &quot;</span><span class="p">,</span> <span class="n">m</span><span class="o">.</span><span class="n">log_likelihood</span><span class="p">())</span>
</pre></div>

      </div>
    </div>
    
  </div>
</div>

<div class="output_wrapper">
<div class="output">


<div class="output_area">

    <div class="prompt"></div>


<div class="output_subarea output_stream output_stderr output_text">
<pre> /Applications/anaconda3/envs/tif285-env/lib/python3.7/site-packages/paramz/transformations.py:111: RuntimeWarning:overflow encountered in expm1
</pre>
</div>
</div>

<div class="output_area">

    <div class="prompt"></div>



<div class="output_html rendered_html output_subarea ">
<style type="text/css">
.pd{
    font-family: "Courier New", Courier, monospace !important;
    width: 100%;
    padding: 3px;
}
</style>

<p class=pd>
<b>Model</b>: GP regression<br>
<b>Objective</b>: 151.91353925117576<br>
<b>Number of Parameters</b>: 3<br>
<b>Number of Optimization Parameters</b>: 3<br>
<b>Updates</b>: True<br>
</p>
<style type="text/css">
.tg  {font-family:"Courier New", Courier, monospace !important;padding:2px 3px;word-break:normal;border-collapse:collapse;border-spacing:0;border-color:#DCDCDC;margin:0px auto;width:100%;}
.tg td{font-family:"Courier New", Courier, monospace !important;font-weight:bold;color:#444;background-color:#F7FDFA;border-style:solid;border-width:1px;overflow:hidden;word-break:normal;border-color:#DCDCDC;}
.tg th{font-family:"Courier New", Courier, monospace !important;font-weight:normal;color:#fff;background-color:#26ADE4;border-style:solid;border-width:1px;overflow:hidden;word-break:normal;border-color:#DCDCDC;}
.tg .tg-left{font-family:"Courier New", Courier, monospace !important;font-weight:normal;text-align:left;}
.tg .tg-center{font-family:"Courier New", Courier, monospace !important;font-weight:normal;text-align:center;}
.tg .tg-right{font-family:"Courier New", Courier, monospace !important;font-weight:normal;text-align:right;}
</style>
<table class="tg"><tr><th><b>  GP_regression.         </b></th><th><b>             value</b></th><th><b>constraints</b></th><th><b>priors</b></th></tr>
<tr><td class=tg-left>  rbf.variance           </td><td class=tg-right> 1000.000011980742</td><td class=tg-center>    +ve    </td><td class=tg-center>      </td></tr>
<tr><td class=tg-left>  rbf.lengthscale        </td><td class=tg-right>1.4362310387957047</td><td class=tg-center>    +ve    </td><td class=tg-center>      </td></tr>
<tr><td class=tg-left>  Gaussian_noise.variance</td><td class=tg-right>0.9253990430416197</td><td class=tg-center>    +ve    </td><td class=tg-center>      </td></tr>
</table>
</div>

</div>

<div class="output_area">

    <div class="prompt"></div>


<div class="output_subarea output_stream output_stdout output_text">
<pre>The likelyhood function is  -151.91353925117576
</pre>
</div>
</div>

<div class="output_area">

    <div class="prompt"></div>




<div class="output_png output_subarea ">
<img src="data:image/png;base64,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
"
>
</div>

</div>

</div>
</div>

</div>
<div class="cell border-box-sizing text_cell rendered">
  <div class="prompt input_prompt">
</div><div class="panel panel-primary nbgrader_cell">
    <a name="comment-cell-218bdab813b0c3b5"></a><div class="panel-heading"><span class="nbgrader-label">Student's task</span>
  <span class="pull-right">
      Score: 1.0 / 1.0 <a href="#top">(Top)</a>
  </span></div>
    <div class="panel-body">
      <div class="text_cell_render border-box-sizing rendered_html">
        <h3 id="Task-3">Task 3<a class="anchor-link" href="#Task-3">&#182;</a></h3><ul>
<li>Create an array <code>Xp = numpy.linspace(0.0,2.0,50)[:,None]</code> to be used for predictions.</li>
<li>Extract the mean vector and the covariance matrix from your GPy model object, <code>model</code>, using the command <code>mu, C = model.predict(Xp,full_cov=True)</code></li>
<li>Draw 20 samples from the multivariate Gaussian defined by <code>mu, C</code>.</li>
<li>Extract the mean vector and the standard deviation vector of the 20 samples.</li>
<li>Plot the sampled curves in a figure together with the mean and the $1\sigma$ and $2\sigma$ bands. (<em>Hint</em>: Use <code>alpha=0.3</code> when plotting the sampled curves in order to make them somewhat transparent).</li>
<li>How does the result from this finite number of samples compare to the model plot that was produced in Task 2?</li>
</ul>

      </div>
    </div>
    
  </div></div>

<div class="cell border-box-sizing code_cell rendered">
<div class="input">
<div class="prompt input_prompt">In&nbsp;[16]:</div><div class="panel panel-primary nbgrader_cell">
    <a name="comment-cell-9aeb680747dfa6e4"></a><div class="panel-heading"><span class="nbgrader-label">Student's answer</span><span class="pull-right"><a href="#top">(Top)</a></span></div>
    <div class="panel-body">
      <div class="input_area">
        <div class=" highlight hl-ipython3"><pre><span></span><span class="n">Xp</span> <span class="o">=</span> <span class="n">np</span><span class="o">.</span><span class="n">linspace</span><span class="p">(</span><span class="mf">0.0</span><span class="p">,</span><span class="mf">2.0</span><span class="p">,</span><span class="mi">50</span><span class="p">)[:,</span><span class="kc">None</span><span class="p">]</span>

<span class="n">mu</span><span class="p">,</span> <span class="n">C</span> <span class="o">=</span> <span class="n">m</span><span class="o">.</span><span class="n">predict</span><span class="p">(</span><span class="n">Xp</span><span class="p">,</span><span class="n">full_cov</span><span class="o">=</span><span class="kc">True</span><span class="p">)</span>
<span class="n">mu</span><span class="o">.</span><span class="n">flatten</span><span class="p">()</span>
<span class="n">muvrai</span> <span class="o">=</span> <span class="n">np</span><span class="o">.</span><span class="n">zeros</span><span class="p">(</span><span class="mi">50</span><span class="p">)</span>
<span class="n">Xpband</span><span class="o">=</span> <span class="n">np</span><span class="o">.</span><span class="n">zeros</span><span class="p">(</span><span class="mi">50</span><span class="p">)</span>
<span class="k">for</span> <span class="n">i</span> <span class="ow">in</span> <span class="nb">range</span><span class="p">(</span><span class="mi">50</span><span class="p">):</span>
    <span class="n">muvrai</span><span class="p">[</span><span class="n">i</span><span class="p">]</span><span class="o">=</span><span class="n">mu</span><span class="p">[</span><span class="n">i</span><span class="p">]</span>
    <span class="n">Xpband</span><span class="p">[</span><span class="n">i</span><span class="p">]</span><span class="o">=</span><span class="n">Xp</span><span class="p">[</span><span class="n">i</span><span class="p">]</span>
<span class="nb">print</span><span class="p">(</span><span class="n">muvrai</span><span class="o">.</span><span class="n">shape</span><span class="p">)</span>
<span class="n">nsamples</span><span class="o">=</span><span class="mi">20</span>
<span class="n">Z</span> <span class="o">=</span> <span class="n">np</span><span class="o">.</span><span class="n">random</span><span class="o">.</span><span class="n">multivariate_normal</span><span class="p">(</span><span class="n">muvrai</span><span class="p">,</span><span class="n">C</span><span class="p">,</span><span class="n">nsamples</span><span class="p">)</span>
<span class="n">stdVector</span> <span class="o">=</span> <span class="n">np</span><span class="o">.</span><span class="n">std</span><span class="p">(</span><span class="n">Z</span><span class="p">,</span> <span class="n">axis</span><span class="o">=</span><span class="mi">0</span><span class="p">)</span>
<span class="n">TwostdVector</span> <span class="o">=</span> <span class="mi">2</span><span class="o">*</span> <span class="n">np</span><span class="o">.</span><span class="n">std</span><span class="p">(</span><span class="n">Z</span><span class="p">,</span> <span class="n">axis</span><span class="o">=</span><span class="mi">0</span><span class="p">)</span>

<span class="n">meanVector</span> <span class="o">=</span> <span class="n">np</span><span class="o">.</span><span class="n">mean</span><span class="p">(</span><span class="n">Z</span><span class="p">,</span> <span class="n">axis</span><span class="o">=</span><span class="mi">0</span><span class="p">)</span>
<span class="n">t1</span><span class="o">=</span> <span class="n">meanVector</span><span class="o">-</span><span class="n">stdVector</span>
<span class="n">t2</span><span class="o">=</span> <span class="n">meanVector</span><span class="o">+</span><span class="n">stdVector</span>

<span class="n">t12</span> <span class="o">=</span> <span class="n">meanVector</span><span class="o">-</span><span class="mi">2</span><span class="o">*</span><span class="n">stdVector</span>
<span class="n">t22</span><span class="o">=</span> <span class="n">meanVector</span><span class="o">+</span><span class="mi">2</span><span class="o">*</span><span class="n">stdVector</span>
<span class="nb">print</span><span class="p">(</span><span class="n">Xpband</span><span class="o">.</span><span class="n">shape</span><span class="p">,</span><span class="n">t1</span><span class="o">.</span><span class="n">shape</span><span class="p">,</span><span class="n">t2</span><span class="o">.</span><span class="n">shape</span><span class="p">)</span>


<span class="n">fig</span><span class="p">,</span> <span class="n">ax</span> <span class="o">=</span> <span class="n">plt</span><span class="o">.</span><span class="n">subplots</span><span class="p">(</span><span class="n">figsize</span><span class="o">=</span><span class="p">(</span><span class="mi">8</span><span class="p">,</span><span class="mi">6</span><span class="p">))</span>
<span class="k">for</span> <span class="n">i</span> <span class="ow">in</span> <span class="nb">range</span><span class="p">(</span><span class="n">nsamples</span><span class="p">):</span>
    <span class="n">ax</span><span class="o">.</span><span class="n">plot</span><span class="p">(</span><span class="n">Xp</span><span class="p">[:],</span><span class="n">Z</span><span class="p">[</span><span class="n">i</span><span class="p">,:],</span><span class="n">alpha</span><span class="o">=</span><span class="mf">0.3</span><span class="p">);</span>
    
    
<span class="n">ax</span><span class="o">.</span><span class="n">plot</span><span class="p">(</span><span class="n">Xp</span><span class="p">[:],</span><span class="n">meanVector</span><span class="p">,</span><span class="n">color</span><span class="o">=</span><span class="s1">&#39;black&#39;</span><span class="p">,</span><span class="n">label</span><span class="o">=</span><span class="s2">&quot;Mean&quot;</span><span class="p">);</span>
<span class="n">ax</span><span class="o">.</span><span class="n">fill_between</span><span class="p">(</span><span class="n">Xpband</span><span class="p">,</span><span class="n">t1</span><span class="p">,</span> <span class="n">t2</span><span class="p">,</span> <span class="n">color</span><span class="o">=</span><span class="s1">&#39;b&#39;</span><span class="p">,</span> <span class="n">alpha</span><span class="o">=.</span><span class="mi">3</span><span class="p">,</span><span class="n">label</span><span class="o">=</span><span class="s1">&#39;Standard Deviation 1Sig&#39;</span><span class="p">)</span>
<span class="n">ax</span><span class="o">.</span><span class="n">fill_between</span><span class="p">(</span><span class="n">Xpband</span><span class="p">,</span><span class="n">t12</span><span class="p">,</span> <span class="n">t22</span><span class="p">,</span> <span class="n">color</span><span class="o">=</span><span class="s1">&#39;g&#39;</span><span class="p">,</span> <span class="n">alpha</span><span class="o">=</span><span class="mf">0.2</span><span class="p">,</span><span class="n">label</span><span class="o">=</span><span class="s1">&#39;Standard Deviation 2Sig&#39;</span><span class="p">)</span>

<span class="n">ax</span><span class="o">.</span><span class="n">legend</span> <span class="p">(</span><span class="n">loc</span><span class="o">=</span><span class="s1">&#39;best&#39;</span><span class="p">)</span>
</pre></div>

      </div>
    </div>
    
  </div>
</div>

<div class="output_wrapper">
<div class="output">


<div class="output_area">

    <div class="prompt"></div>


<div class="output_subarea output_stream output_stdout output_text">
<pre>(50,)
(50,) (50,) (50,)
</pre>
</div>
</div>

<div class="output_area">

    <div class="prompt output_prompt">Out[16]:</div>




<div class="output_text output_subarea output_execute_result">
<pre>&lt;matplotlib.legend.Legend at 0x7ff17f1a2f98&gt;</pre>
</div>

</div>

<div class="output_area">

    <div class="prompt"></div>




<div class="output_png output_subarea ">
<img src="data:image/png;base64,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
"
>
</div>

</div>

</div>
</div>

</div>
<div class="cell border-box-sizing text_cell rendered">
  <div class="prompt input_prompt">
</div><div class="inner_cell">
    <div class="text_cell_render border-box-sizing rendered_html">
      <h3 id="Written-Questions-:">Written Questions :<a class="anchor-link" href="#Written-Questions-:">&#182;</a></h3><p>The result from this task is similar to the one in task 2. The GPy makes an efficient estimate of the mean and covariance of the model Xp and produces the mean and variance of the various points in Xp similar to that of task 2. But the result is not as smooth as the one in task 2</p>

    </div>
  </div></div>

<div class="cell border-box-sizing text_cell rendered">
  <div class="prompt input_prompt">
</div><div class="inner_cell">
    <div class="text_cell_render border-box-sizing rendered_html">
      <h2 id="Problem-4:-Single-neuron-classifier">Problem 4: Single neuron classifier<a class="anchor-link" href="#Problem-4:-Single-neuron-classifier">&#182;</a></h2><h3 id="(3-points)">(3 points)<a class="anchor-link" href="#(3-points)">&#182;</a></h3>
    </div>
  </div></div>

<div class="cell border-box-sizing code_cell rendered">
<div class="input">
<div class="prompt input_prompt">In&nbsp;[17]:</div><div class="inner_cell">
    <div class="input_area">
      <div class=" highlight hl-ipython3"><pre><span></span><span class="kn">import</span> <span class="nn">numpy</span> <span class="k">as</span> <span class="nn">np</span>
<span class="kn">from</span> <span class="nn">matplotlib</span> <span class="k">import</span> <span class="n">pyplot</span> <span class="k">as</span> <span class="n">plt</span>
<span class="o">%</span><span class="k">matplotlib</span> inline

<span class="kn">import</span> <span class="nn">seaborn</span> <span class="k">as</span> <span class="nn">sns</span>
<span class="n">sns</span><span class="o">.</span><span class="n">set</span><span class="p">(</span><span class="s1">&#39;talk&#39;</span><span class="p">)</span>
</pre></div>

    </div>
  </div>
</div>

</div>
<div class="cell border-box-sizing text_cell rendered">
  <div class="prompt input_prompt">
</div><div class="inner_cell">
    <div class="text_cell_render border-box-sizing rendered_html">
      <h3 id="Background">Background<a class="anchor-link" href="#Background">&#182;</a></h3><p>The Ising model is arguably the most famous model in (condensed matter) physics. It is described by the simple Hamiltonian</p>
$$
H=−J \sum_{\langle i,j \rangle} s_i s_j.
$$<p>Here, the $s_i=\{−1,1\}$ are classical, binary magnetic moments (spins) sitting on a two-dimensional square lattice and the $\langle i,j \rangle$ indicates that only interactions betweens neighboring spins are taken into account. For simplicity, we will set $J=1$.</p>

    </div>
  </div></div>

<div class="cell border-box-sizing text_cell rendered">
  <div class="prompt input_prompt">
</div><div class="inner_cell">
    <div class="text_cell_render border-box-sizing rendered_html">
      <p>Most importantly, the Ising model shows a phase transition between a paramagnetic and a ferromagnetic phase as a function of temperature. The critical temperature $T_c$ at which this change of magnetic character occurs has been calculated exactly by Lars Onsager. He found</p>
$$
T_c = \frac{2}{\log \left( 1 + \sqrt{2} \right) }
$$
    </div>
  </div></div>

<div class="cell border-box-sizing code_cell rendered">
<div class="input">
<div class="prompt input_prompt">In&nbsp;[18]:</div><div class="inner_cell">
    <div class="input_area">
      <div class=" highlight hl-ipython3"><pre><span></span><span class="n">Tc</span> <span class="o">=</span> <span class="mi">2</span> <span class="o">/</span> <span class="n">np</span><span class="o">.</span><span class="n">log</span><span class="p">(</span><span class="mi">1</span><span class="o">+</span><span class="n">np</span><span class="o">.</span><span class="n">sqrt</span><span class="p">(</span><span class="mi">2</span><span class="p">))</span>
<span class="nb">print</span><span class="p">(</span><span class="n">f</span><span class="s2">&quot;Critical temperature: Tc = </span><span class="si">{Tc:.4f}</span><span class="s2">&quot;</span><span class="p">)</span>
</pre></div>

    </div>
  </div>
</div>

<div class="output_wrapper">
<div class="output">


<div class="output_area">

    <div class="prompt"></div>


<div class="output_subarea output_stream output_stdout output_text">
<pre>Critical temperature: Tc = 2.2692
</pre>
</div>
</div>

</div>
</div>

</div>
<div class="cell border-box-sizing text_cell rendered">
  <div class="prompt input_prompt">
</div><div class="inner_cell">
    <div class="text_cell_render border-box-sizing rendered_html">
      <p>In this problem we aim to reproduce this result (roughly) using a simple binary classifier (single neuron) that you implement yourself.</p>
<p>The classification problem can be made more sophisticated by introducing neural networks with several layers. Results from such an analysis made it all the way into a Nature Physics publication just a few years ago: <a href="https://www.nature.com/articles/nphys4035">Nature Physics (2017) 13, 431–434</a></p>

    </div>
  </div></div>

<div class="cell border-box-sizing text_cell rendered">
  <div class="prompt input_prompt">
</div><div class="inner_cell">
    <div class="text_cell_render border-box-sizing rendered_html">
      <p>We will start by quickly simulating the Ising model using the Monte Carlo method to obtain representative sets of spin configurations for a bunch of temperatures.</p>

    </div>
  </div></div>

<div class="cell border-box-sizing text_cell rendered">
  <div class="prompt input_prompt">
</div><div class="inner_cell">
    <div class="text_cell_render border-box-sizing rendered_html">
      <h4 id="Monte-Carlo-simulation">Monte Carlo simulation<a class="anchor-link" href="#Monte-Carlo-simulation">&#182;</a></h4><p>The Monte Carlo method for the Ising model is very straightforward: take a random configuration of spins to begin with and propose individual spin flips until you run out of steam. To decide whether a spin should be flipped we use the Metropolis criterium
$$
p=\min \left( 1, e^{-\beta\Delta E} \right)
$$
where $\Delta E = E′−E$ is the energy difference between the new (spin flipped) and the old configuration according to $H$ above and $\beta = 1/T$ is the inverse of the temperature $T$. Since $\Delta E$ only depends on the local environment of the spin to be flipped (nearest neighbors), we can evaluate it locally.</p>

    </div>
  </div></div>

<div class="cell border-box-sizing text_cell rendered">
  <div class="prompt input_prompt">
</div><div class="inner_cell">
    <div class="text_cell_render border-box-sizing rendered_html">
      <h4 id="Generate-spin-configurations-and-study-the-phase-transition">Generate spin configurations and study the phase transition<a class="anchor-link" href="#Generate-spin-configurations-and-study-the-phase-transition">&#182;</a></h4><p>In the python file attached with this notebook we have the definition of a <code>Lattice</code> class which can be used to generate a 2D lattice for <code>N</code> spins at a temperature <code>T</code>. Here, we simply import the <code>Lattice</code> class and use the <code>step</code> method to generate a lattice after a few hundred iterations to simulate a thermalization of the lattice.</p>
<p>At every iteration, we select $N^2$ random points to try a flip attempt. A flip attempt consists of checking the change in energy due to a flip. If it is negative or less than $e^{-E/(k_b T)}$, then perform the flip. After a few steps the lattice with thermalize.</p>
<h4 id="You-need-the-lattice.py-file-in-the-same-directory-to-get-this-to-work-which-contains-the-definition-of-Lattice"><em>You need the <code>lattice.py</code> file in the same directory to get this to work which contains the definition of <code>Lattice</code></em><a class="anchor-link" href="#You-need-the-lattice.py-file-in-the-same-directory-to-get-this-to-work-which-contains-the-definition-of-Lattice">&#182;</a></h4>
    </div>
  </div></div>

<div class="cell border-box-sizing code_cell rendered">
<div class="input">
<div class="prompt input_prompt">In&nbsp;[19]:</div><div class="inner_cell">
    <div class="input_area">
      <div class=" highlight hl-ipython3"><pre><span></span><span class="kn">from</span> <span class="nn">lattice</span> <span class="k">import</span> <span class="n">Lattice</span>
</pre></div>

    </div>
  </div>
</div>

</div>
<div class="cell border-box-sizing code_cell rendered">
<div class="input">
<div class="prompt input_prompt">In&nbsp;[20]:</div><div class="inner_cell">
    <div class="input_area">
      <div class=" highlight hl-ipython3"><pre><span></span><span class="c1"># Initialize a lattice</span>
<span class="n">lat</span> <span class="o">=</span> <span class="n">Lattice</span><span class="p">(</span><span class="n">N</span><span class="o">=</span><span class="mi">10</span><span class="p">,</span> <span class="n">T</span><span class="o">=</span><span class="mf">4.5</span><span class="p">)</span>

<span class="c1"># Make 30 iterations (N**2 spin flip attempts)</span>
<span class="k">for</span> <span class="n">i</span> <span class="ow">in</span> <span class="nb">range</span><span class="p">(</span><span class="mi">30</span><span class="p">):</span>
    <span class="n">lat</span><span class="o">.</span><span class="n">step</span><span class="p">()</span>

<span class="nb">print</span><span class="p">(</span><span class="n">lat</span><span class="o">.</span><span class="n">lattice</span><span class="p">)</span> <span class="c1"># (or even `print lat` to use the convenient repr)</span>
</pre></div>

    </div>
  </div>
</div>

<div class="output_wrapper">
<div class="output">


<div class="output_area">

    <div class="prompt"></div>


<div class="output_subarea output_stream output_stdout output_text">
<pre>[[ 1  1  1  1 -1 -1  1  1 -1  1]
 [-1 -1  1  1 -1 -1 -1 -1 -1 -1]
 [-1 -1 -1 -1  1  1 -1 -1 -1 -1]
 [ 1  1 -1 -1  1 -1  1 -1 -1 -1]
 [-1 -1 -1  1  1  1  1 -1 -1 -1]
 [-1  1  1 -1 -1 -1 -1 -1  1 -1]
 [-1 -1 -1 -1 -1 -1 -1  1  1 -1]
 [-1  1  1  1  1 -1  1 -1 -1 -1]
 [-1  1  1  1  1  1  1  1  1 -1]
 [ 1  1 -1 -1 -1 -1 -1 -1 -1  1]]
</pre>
</div>
</div>

</div>
</div>

</div>
<div class="cell border-box-sizing text_cell rendered">
  <div class="prompt input_prompt">
</div><div class="inner_cell">
    <div class="text_cell_render border-box-sizing rendered_html">
      <h4 id="Illustrate-some-spin-configurations,-and-plot-macroscopic-quantities-as-a-function-of-temperature">Illustrate some spin configurations, and plot macroscopic quantities as a function of temperature<a class="anchor-link" href="#Illustrate-some-spin-configurations,-and-plot-macroscopic-quantities-as-a-function-of-temperature">&#182;</a></h4>
    </div>
  </div></div>

<div class="cell border-box-sizing code_cell rendered">
<div class="input">
<div class="prompt input_prompt">In&nbsp;[21]:</div><div class="inner_cell">
    <div class="input_area">
      <div class=" highlight hl-ipython3"><pre><span></span><span class="c1"># 10 x 10 lattice</span>
<span class="c1"># six temperatures, 500 thermalization iterations</span>
<span class="c1"># Plot the spin configurations for varying temperatures.</span>
<span class="c1"># Display the magnetization too</span>

<span class="n">nrows</span><span class="p">,</span> <span class="n">ncols</span> <span class="o">=</span> <span class="mi">2</span><span class="p">,</span> <span class="mi">3</span>
<span class="n">fig</span><span class="p">,</span> <span class="n">axs</span> <span class="o">=</span> <span class="n">plt</span><span class="o">.</span><span class="n">subplots</span><span class="p">(</span><span class="n">nrows</span><span class="p">,</span> <span class="n">ncols</span><span class="p">)</span>
<span class="n">fig</span><span class="o">.</span><span class="n">subplots_adjust</span><span class="p">(</span><span class="n">wspace</span><span class="o">=</span><span class="mf">0.6</span><span class="p">)</span>

<span class="k">for</span> <span class="p">(</span><span class="n">ip</span><span class="p">,</span> <span class="n">T</span><span class="p">)</span> <span class="ow">in</span> <span class="nb">enumerate</span><span class="p">([</span><span class="mf">5.0</span><span class="p">,</span> <span class="mf">4.0</span><span class="p">,</span> <span class="mf">3.0</span><span class="p">,</span> <span class="mf">2.3</span><span class="p">,</span> <span class="mf">2.0</span><span class="p">,</span> <span class="mf">1.0</span><span class="p">]):</span>
    <span class="n">lat</span> <span class="o">=</span> <span class="n">Lattice</span><span class="p">(</span><span class="n">N</span><span class="o">=</span><span class="mi">10</span><span class="p">,</span><span class="n">T</span><span class="o">=</span><span class="n">T</span><span class="p">)</span>
    <span class="k">for</span> <span class="n">k</span> <span class="ow">in</span> <span class="nb">range</span><span class="p">(</span><span class="mi">500</span><span class="p">):</span>
        <span class="n">lat</span><span class="o">.</span><span class="n">step</span><span class="p">()</span>

    <span class="n">idx</span> <span class="o">=</span> <span class="n">ip</span> <span class="o">//</span> <span class="n">ncols</span><span class="p">,</span> <span class="n">ip</span> <span class="o">%</span> <span class="n">ncols</span>

    <span class="n">axs</span><span class="p">[</span><span class="n">idx</span><span class="p">]</span><span class="o">.</span><span class="n">matshow</span><span class="p">(</span><span class="n">lat</span><span class="o">.</span><span class="n">lattice</span><span class="p">,</span><span class="n">cmap</span><span class="o">=</span><span class="n">plt</span><span class="o">.</span><span class="n">cm</span><span class="o">.</span><span class="n">gray_r</span><span class="p">)</span>
    <span class="n">axs</span><span class="p">[</span><span class="n">idx</span><span class="p">]</span><span class="o">.</span><span class="n">set_title</span><span class="p">(</span><span class="n">f</span><span class="s2">&quot;T = </span><span class="si">{T:.1f}</span><span class="s2">, $m$={lat.get_avg_magnetization():.1f}&quot;</span><span class="p">)</span>

    <span class="n">axs</span><span class="p">[</span><span class="n">idx</span><span class="p">]</span><span class="o">.</span><span class="n">get_xaxis</span><span class="p">()</span><span class="o">.</span><span class="n">set_visible</span><span class="p">(</span><span class="kc">False</span><span class="p">)</span>
    <span class="n">axs</span><span class="p">[</span><span class="n">idx</span><span class="p">]</span><span class="o">.</span><span class="n">get_yaxis</span><span class="p">()</span><span class="o">.</span><span class="n">set_visible</span><span class="p">(</span><span class="kc">False</span><span class="p">)</span>
</pre></div>

    </div>
  </div>
</div>

<div class="output_wrapper">
<div class="output">


<div class="output_area">

    <div class="prompt"></div>




<div class="output_png output_subarea ">
<img src="data:image/png;base64,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
"
>
</div>

</div>

</div>
</div>

</div>
<div class="cell border-box-sizing code_cell rendered">
<div class="input">
<div class="prompt input_prompt">In&nbsp;[22]:</div><div class="inner_cell">
    <div class="input_area">
      <div class=" highlight hl-ipython3"><pre><span></span><span class="c1"># 10 x 10 lattice</span>
<span class="c1"># 60 temperatures, 500 thermalization iterations</span>

<span class="c1"># For a temperature range, thermalize a lattice, then</span>
<span class="c1"># take a few hundred steps, recording energy and magnetization.</span>
<span class="c1"># Store the means to plot next.</span>
<span class="c1"># This takes about 60s with one modern core.</span>

<span class="c1"># Thermalization and measurement steps</span>
<span class="n">ntherm</span> <span class="o">=</span> <span class="mi">500</span>
<span class="n">nmeasure</span> <span class="o">=</span> <span class="mi">200</span>

<span class="c1"># points = array with (T, mean(E), abs(mean(M)), var(E))</span>
<span class="c1"># with the mean and variance evaluated for a list of many temperatures</span>
<span class="n">points</span> <span class="o">=</span> <span class="p">[]</span>
<span class="c1"># Storing nmeasure / nsparse data points</span>
<span class="n">nsparse</span> <span class="o">=</span> <span class="mi">10</span>
<span class="c1"># points_full = array with (T, E, abs(M))</span>
<span class="c1"># for several different configurations per temperature</span>
<span class="n">points_full</span><span class="o">=</span><span class="p">[]</span>
<span class="k">for</span> <span class="n">T</span> <span class="ow">in</span> <span class="n">np</span><span class="o">.</span><span class="n">arange</span><span class="p">(</span><span class="mf">4.0</span><span class="p">,</span><span class="mf">1.0</span><span class="p">,</span><span class="o">-</span><span class="mf">0.05</span><span class="p">):</span>
    <span class="n">lat</span> <span class="o">=</span> <span class="n">Lattice</span><span class="p">(</span><span class="n">N</span><span class="o">=</span><span class="mi">10</span><span class="p">,</span><span class="n">T</span><span class="o">=</span><span class="n">T</span><span class="p">)</span>
    <span class="k">for</span> <span class="n">_</span> <span class="ow">in</span> <span class="nb">range</span><span class="p">(</span><span class="n">ntherm</span><span class="p">):</span>
        <span class="n">lat</span><span class="o">.</span><span class="n">step</span><span class="p">()</span>
    <span class="n">Es</span> <span class="o">=</span> <span class="p">[]</span>
    <span class="n">Ms</span> <span class="o">=</span> <span class="p">[]</span>

    <span class="k">for</span> <span class="n">istep</span> <span class="ow">in</span> <span class="nb">range</span><span class="p">(</span><span class="n">nmeasure</span><span class="p">):</span> 
        <span class="n">lat</span><span class="o">.</span><span class="n">step</span><span class="p">()</span>
        <span class="n">Es</span><span class="o">.</span><span class="n">append</span><span class="p">(</span><span class="n">lat</span><span class="o">.</span><span class="n">get_energy</span><span class="p">())</span>
        <span class="n">Ms</span><span class="o">.</span><span class="n">append</span><span class="p">(</span><span class="n">lat</span><span class="o">.</span><span class="n">get_avg_magnetization</span><span class="p">())</span>
        <span class="k">if</span> <span class="p">(</span><span class="n">istep</span><span class="o">%</span><span class="k">nsparse</span>==0):
            <span class="n">points_full</span><span class="o">.</span><span class="n">append</span><span class="p">((</span><span class="n">T</span><span class="p">,</span><span class="n">Es</span><span class="p">[</span><span class="o">-</span><span class="mi">1</span><span class="p">],</span><span class="n">np</span><span class="o">.</span><span class="n">abs</span><span class="p">(</span><span class="n">Ms</span><span class="p">[</span><span class="o">-</span><span class="mi">1</span><span class="p">])))</span>           
    <span class="n">Es</span> <span class="o">=</span> <span class="n">np</span><span class="o">.</span><span class="n">array</span><span class="p">(</span><span class="n">Es</span><span class="p">)</span>
    <span class="n">Ms</span> <span class="o">=</span> <span class="n">np</span><span class="o">.</span><span class="n">array</span><span class="p">(</span><span class="n">Ms</span><span class="p">)</span>
    <span class="n">points</span><span class="o">.</span><span class="n">append</span><span class="p">((</span><span class="n">T</span><span class="p">,</span><span class="n">Es</span><span class="o">.</span><span class="n">mean</span><span class="p">(),</span><span class="n">np</span><span class="o">.</span><span class="n">abs</span><span class="p">(</span><span class="n">Ms</span><span class="o">.</span><span class="n">mean</span><span class="p">()),</span><span class="n">Es</span><span class="o">.</span><span class="n">var</span><span class="p">()))</span>
<span class="n">points</span> <span class="o">=</span> <span class="n">np</span><span class="o">.</span><span class="n">array</span><span class="p">(</span><span class="n">points</span><span class="p">)</span>
<span class="n">points_full</span> <span class="o">=</span> <span class="n">np</span><span class="o">.</span><span class="n">array</span><span class="p">(</span><span class="n">points_full</span><span class="p">)</span>
</pre></div>

    </div>
  </div>
</div>

</div>
<div class="cell border-box-sizing code_cell rendered">
<div class="input">
<div class="prompt input_prompt">In&nbsp;[23]:</div><div class="inner_cell">
    <div class="input_area">
      <div class=" highlight hl-ipython3"><pre><span></span><span class="c1"># Plot the energy, magnetization, and heat capacity vs temperature</span>

<span class="n">fig</span><span class="p">,</span> <span class="n">axs</span> <span class="o">=</span> <span class="n">plt</span><span class="o">.</span><span class="n">subplots</span><span class="p">(</span><span class="mi">3</span><span class="p">,</span><span class="mi">1</span><span class="p">,</span><span class="n">sharex</span><span class="o">=</span><span class="kc">True</span><span class="p">,</span><span class="n">figsize</span><span class="o">=</span><span class="p">(</span><span class="mi">8</span><span class="p">,</span><span class="mi">8</span><span class="p">))</span>

<span class="n">axs</span><span class="p">[</span><span class="mi">0</span><span class="p">]</span><span class="o">.</span><span class="n">plot</span><span class="p">(</span><span class="n">points</span><span class="p">[:,</span><span class="mi">0</span><span class="p">],</span><span class="n">points</span><span class="p">[:,</span><span class="mi">1</span><span class="p">],</span> <span class="n">label</span><span class="o">=</span><span class="s2">&quot;E&quot;</span><span class="p">)</span>
<span class="n">axs</span><span class="p">[</span><span class="mi">0</span><span class="p">]</span><span class="o">.</span><span class="n">set_ylabel</span><span class="p">(</span><span class="s2">&quot;Energy&quot;</span><span class="p">)</span>
<span class="n">axs</span><span class="p">[</span><span class="mi">0</span><span class="p">]</span><span class="o">.</span><span class="n">set_title</span><span class="p">(</span><span class="s2">&quot;Energy vs Temperature [L = 10]&quot;</span><span class="p">)</span>

<span class="n">axs</span><span class="p">[</span><span class="mi">1</span><span class="p">]</span><span class="o">.</span><span class="n">plot</span><span class="p">(</span><span class="n">points</span><span class="p">[:,</span><span class="mi">0</span><span class="p">],</span><span class="n">points</span><span class="p">[:,</span><span class="mi">2</span><span class="p">],</span> <span class="n">label</span><span class="o">=</span><span class="s2">&quot;$|m|$&quot;</span><span class="p">)</span>
<span class="n">axs</span><span class="p">[</span><span class="mi">1</span><span class="p">]</span><span class="o">.</span><span class="n">set_ylabel</span><span class="p">(</span><span class="s2">&quot;$|m|$&quot;</span><span class="p">)</span>
<span class="n">axs</span><span class="p">[</span><span class="mi">1</span><span class="p">]</span><span class="o">.</span><span class="n">set_title</span><span class="p">(</span><span class="s2">&quot;Magnetization vs Temperature [L = 10]&quot;</span><span class="p">)</span>

<span class="c1"># heat capacity</span>
<span class="c1"># C = var(E) / ( k_B T**2)</span>
<span class="n">heat_capacity</span> <span class="o">=</span> <span class="n">points</span><span class="p">[:,</span><span class="mi">3</span><span class="p">]</span> <span class="o">/</span> <span class="p">(</span><span class="n">points</span><span class="p">[:,</span><span class="mi">0</span><span class="p">]</span><span class="o">**</span><span class="mi">2</span><span class="p">)</span>
<span class="n">axs</span><span class="p">[</span><span class="mi">2</span><span class="p">]</span><span class="o">.</span><span class="n">plot</span><span class="p">(</span><span class="n">points</span><span class="p">[:,</span><span class="mi">0</span><span class="p">],</span><span class="n">heat_capacity</span><span class="p">,</span> <span class="n">label</span><span class="o">=</span><span class="s2">&quot;$C$&quot;</span><span class="p">)</span>
<span class="n">axs</span><span class="p">[</span><span class="mi">2</span><span class="p">]</span><span class="o">.</span><span class="n">set_xlabel</span><span class="p">(</span><span class="s2">&quot;T&quot;</span><span class="p">)</span>
<span class="n">axs</span><span class="p">[</span><span class="mi">2</span><span class="p">]</span><span class="o">.</span><span class="n">set_ylabel</span><span class="p">(</span><span class="s2">&quot;$C$&quot;</span><span class="p">)</span>
<span class="n">axs</span><span class="p">[</span><span class="mi">2</span><span class="p">]</span><span class="o">.</span><span class="n">set_title</span><span class="p">(</span><span class="s2">&quot;Heat capacity vs Temperature [L = 10]&quot;</span><span class="p">)</span>

<span class="k">for</span> <span class="n">ax</span> <span class="ow">in</span> <span class="n">axs</span><span class="p">:</span>
    <span class="n">ax</span><span class="o">.</span><span class="n">axvline</span><span class="p">(</span><span class="n">x</span><span class="o">=</span><span class="n">Tc</span><span class="p">,</span><span class="n">linestyle</span><span class="o">=</span><span class="s1">&#39;-&#39;</span><span class="p">,</span> <span class="n">color</span><span class="o">=</span><span class="s2">&quot;orange&quot;</span><span class="p">,</span><span class="n">linewidth</span><span class="o">=</span><span class="mf">2.0</span><span class="p">,</span> <span class="n">label</span><span class="o">=</span><span class="s2">&quot;$T_c$ (</span><span class="si">{:.3f}</span><span class="s2">)&quot;</span><span class="o">.</span><span class="n">format</span><span class="p">(</span><span class="n">Tc</span><span class="p">))</span>
    <span class="n">ax</span><span class="o">.</span><span class="n">legend</span><span class="p">(</span><span class="n">loc</span><span class="o">=</span><span class="s2">&quot;best&quot;</span><span class="p">,</span> <span class="n">numpoints</span><span class="o">=</span><span class="mi">1</span><span class="p">)</span>
    <span class="n">ax</span><span class="o">.</span><span class="n">grid</span><span class="p">(</span><span class="kc">True</span><span class="p">)</span>
</pre></div>

    </div>
  </div>
</div>

<div class="output_wrapper">
<div class="output">


<div class="output_area">

    <div class="prompt"></div>




<div class="output_png output_subarea ">
<img src="data:image/png;base64,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
"
>
</div>

</div>

</div>
</div>

</div>
<div class="cell border-box-sizing text_cell rendered">
  <div class="prompt input_prompt">
</div><div class="inner_cell">
    <div class="text_cell_render border-box-sizing rendered_html">
      <h4 id="Energy-vs-magnetization">Energy vs magnetization<a class="anchor-link" href="#Energy-vs-magnetization">&#182;</a></h4><p>Blue data is low temperature ($&lt;T_c$) and red data is high temperature ($&gt;T_c$).</p>

    </div>
  </div></div>

<div class="cell border-box-sizing code_cell rendered">
<div class="input">
<div class="prompt input_prompt">In&nbsp;[24]:</div><div class="inner_cell">
    <div class="input_area">
      <div class=" highlight hl-ipython3"><pre><span></span><span class="n">high_T</span> <span class="o">=</span> <span class="n">points_full</span><span class="p">[:,</span><span class="mi">0</span><span class="p">]</span><span class="o">&gt;</span><span class="n">Tc</span>
<span class="n">low_T</span> <span class="o">=</span> <span class="n">points_full</span><span class="p">[:,</span><span class="mi">0</span><span class="p">]</span><span class="o">&lt;</span><span class="n">Tc</span>

<span class="n">E_M_high</span> <span class="o">=</span> <span class="n">points_full</span><span class="p">[</span><span class="n">high_T</span><span class="p">][:,</span><span class="mi">1</span><span class="p">:]</span>
<span class="n">E_M_low</span> <span class="o">=</span> <span class="n">points_full</span><span class="p">[</span><span class="n">low_T</span><span class="p">][:,</span><span class="mi">1</span><span class="p">:]</span>

<span class="n">fig</span><span class="p">,</span> <span class="n">ax</span> <span class="o">=</span> <span class="n">plt</span><span class="o">.</span><span class="n">subplots</span><span class="p">(</span><span class="mi">1</span><span class="p">,</span><span class="mi">1</span><span class="p">)</span>
<span class="n">ax</span><span class="o">.</span><span class="n">scatter</span><span class="p">(</span><span class="n">E_M_high</span><span class="p">[:,</span><span class="mi">0</span><span class="p">],</span><span class="n">E_M_high</span><span class="p">[:,</span><span class="mi">1</span><span class="p">],</span><span class="n">c</span><span class="o">=</span><span class="s1">&#39;r&#39;</span><span class="p">,</span><span class="n">alpha</span><span class="o">=</span><span class="mf">0.5</span><span class="p">,</span><span class="n">s</span><span class="o">=</span><span class="mi">25</span><span class="p">)</span>
<span class="n">ax</span><span class="o">.</span><span class="n">scatter</span><span class="p">(</span><span class="n">E_M_low</span><span class="p">[:,</span><span class="mi">0</span><span class="p">],</span><span class="n">E_M_low</span><span class="p">[:,</span><span class="mi">1</span><span class="p">],</span><span class="n">c</span><span class="o">=</span><span class="s1">&#39;b&#39;</span><span class="p">,</span><span class="n">alpha</span><span class="o">=</span><span class="mf">0.5</span><span class="p">,</span><span class="n">s</span><span class="o">=</span><span class="mi">25</span><span class="p">)</span>
<span class="n">ax</span><span class="o">.</span><span class="n">set_xlabel</span><span class="p">(</span><span class="s2">&quot;$E$&quot;</span><span class="p">)</span>
<span class="n">ax</span><span class="o">.</span><span class="n">set_ylabel</span><span class="p">(</span><span class="s2">&quot;$|m|$&quot;</span><span class="p">);</span>
</pre></div>

    </div>
  </div>
</div>

<div class="output_wrapper">
<div class="output">


<div class="output_area">

    <div class="prompt"></div>




<div class="output_png output_subarea ">
<img src="data:image/png;base64,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
"
>
</div>

</div>

</div>
</div>

</div>
<div class="cell border-box-sizing text_cell rendered">
  <div class="prompt input_prompt">
</div><div class="inner_cell">
    <div class="text_cell_render border-box-sizing rendered_html">
      <h3 id="Task:-Single-neuron-binary-classifier">Task: Single neuron binary classifier<a class="anchor-link" href="#Task:-Single-neuron-binary-classifier">&#182;</a></h3>
    </div>
  </div></div>

<div class="cell border-box-sizing text_cell rendered">
  <div class="prompt input_prompt">
</div><div class="inner_cell">
    <div class="text_cell_render border-box-sizing rendered_html">
      <p>Create a binary classifier that can take $(E,|m|)$ as input data and predict a binary label (0=below Tc, 1=above Tc).</p>
<p>Hints:</p>
<ul>
<li>Build your own binary classifier from a single neuron. Study the lecture notes and the exercise on logistic regression / neural networks.</li>
<li>Normalize the data before training / testing (mean=0, standard deviation=1).</li>
<li>Split into 70 % training data and 30% test data.</li>
<li>Use weight decay alpha=1.0, learning parameter eta=0.01</li>
<li>A rather large number of training iterations will be needed.</li>
</ul>
<p><strong>How well does it perform? Plot the decision boundary.</strong></p>

    </div>
  </div></div>

<div class="cell border-box-sizing code_cell rendered">
<div class="input">
<div class="prompt input_prompt">In&nbsp;[25]:</div><div class="panel panel-primary nbgrader_cell">
    <a name="comment-cell-62c8fd0546101d78"></a><div class="panel-heading"><span class="nbgrader-label">Student's answer</span><span class="pull-right"><a href="#top">(Top)</a></span></div>
    <div class="panel-body">
      <div class="input_area">
        <div class=" highlight hl-ipython3"><pre><span></span><span class="k">def</span> <span class="nf">sigmoid</span><span class="p">(</span><span class="n">a</span><span class="p">):</span>
    <span class="sd">&#39;&#39;&#39;Sigmoid function with input argument a that is the activation&#39;&#39;&#39;</span>
    <span class="c1"># </span>
    <span class="c1"># YOUR CODE HERE</span>
    <span class="c1"># </span>
    <span class="k">return</span> <span class="p">(</span><span class="mi">1</span><span class="o">/</span><span class="p">(</span><span class="mi">1</span><span class="o">+</span><span class="n">np</span><span class="o">.</span><span class="n">exp</span><span class="p">(</span><span class="o">-</span><span class="n">a</span><span class="p">)))</span>

<span class="k">def</span> <span class="nf">single_neuron</span><span class="p">(</span><span class="n">x</span><span class="p">,</span> <span class="n">w</span><span class="p">):</span>
    <span class="sd">&quot;&quot;&quot;</span>
<span class="sd">    Single neuron prediction.</span>
<span class="sd">    </span>
<span class="sd">    Single output and N instances of k independent variables.</span>
<span class="sd">    </span>
<span class="sd">    Args:</span>
<span class="sd">        x (array[float]): input to the neuron. x.shape=(N,k) </span>
<span class="sd">        w (array[float]): weights, w.shape=(k+1,)</span>
<span class="sd">            The zero index weight is the bias term.</span>

<span class="sd">    Returns:</span>
<span class="sd">        y (float): the output of the neuron</span>
<span class="sd">    &quot;&quot;&quot;</span>
    <span class="c1"># </span>
    <span class="c1"># YOUR CODE HERE</span>
    <span class="c1"># </span>
    <span class="k">if</span> <span class="nb">len</span><span class="p">(</span><span class="n">np</span><span class="o">.</span><span class="n">array</span><span class="p">([</span><span class="n">x</span><span class="p">[</span><span class="mi">0</span><span class="p">],</span><span class="n">x</span><span class="p">[</span><span class="mi">1</span><span class="p">]])</span><span class="o">.</span><span class="n">shape</span><span class="p">)</span><span class="o">==</span><span class="mi">1</span><span class="p">:</span>
        <span class="n">x</span> <span class="o">=</span> <span class="n">np</span><span class="o">.</span><span class="n">append</span><span class="p">(</span><span class="mi">1</span><span class="p">,</span> <span class="n">x</span><span class="p">)</span>
    <span class="k">else</span><span class="p">:</span>
        <span class="n">m</span> <span class="o">=</span> <span class="nb">len</span><span class="p">(</span><span class="n">x</span><span class="p">)</span>
        <span class="n">x</span> <span class="o">=</span> <span class="n">np</span><span class="o">.</span><span class="n">c_</span><span class="p">[</span><span class="n">np</span><span class="o">.</span><span class="n">ones</span><span class="p">((</span><span class="n">m</span><span class="p">,</span> <span class="mi">1</span><span class="p">)),</span> <span class="n">x</span><span class="p">]</span> 
    <span class="k">assert</span><span class="p">(</span><span class="nb">len</span><span class="p">(</span><span class="n">w</span><span class="p">)</span><span class="o">==</span><span class="n">x</span><span class="o">.</span><span class="n">shape</span><span class="p">[</span><span class="o">-</span><span class="mi">1</span><span class="p">])</span>

    <span class="n">a</span> <span class="o">=</span> <span class="n">np</span><span class="o">.</span><span class="n">dot</span><span class="p">(</span><span class="n">x</span><span class="p">,</span><span class="n">w</span><span class="p">)</span>
    <span class="k">return</span> <span class="n">sigmoid</span><span class="p">(</span><span class="n">a</span><span class="p">)</span>

<span class="k">def</span> <span class="nf">train_single_neuron_binary_classifier</span><span class="p">(</span><span class="n">x</span><span class="p">,</span><span class="n">t</span><span class="p">,</span><span class="n">iters</span><span class="o">=</span><span class="mi">5</span><span class="p">,</span> <span class="n">alpha</span><span class="o">=</span><span class="mf">0.1</span><span class="p">,</span> <span class="n">eta</span><span class="o">=</span><span class="mf">0.01</span><span class="p">):</span>
    <span class="sd">&quot;&quot;&quot;</span>
<span class="sd">    Makes predictions for a single neuron binary classifier</span>
<span class="sd">    </span>
<span class="sd">    Args:</span>
<span class="sd">        x (array[float]): an array of input data</span>
<span class="sd">        t (float): target output for each data points</span>
<span class="sd">        iters (int): number of iterations to apply gradient descent</span>
<span class="sd">        alpha (float): a rescaling parameter for the weights</span>
<span class="sd">        eta (float): learning rate</span>
<span class="sd">        </span>
<span class="sd">    Return</span>
<span class="sd">        w (array[float]): the trained weights of the classifier </span>
<span class="sd">    &quot;&quot;&quot;</span>
    <span class="n">EPSILON</span> <span class="o">=</span> <span class="mf">1e-07</span>
    <span class="n">w</span><span class="o">=</span><span class="n">np</span><span class="o">.</span><span class="n">random</span><span class="o">.</span><span class="n">normal</span><span class="p">(</span><span class="n">size</span><span class="o">=</span><span class="p">(</span><span class="n">np</span><span class="o">.</span><span class="n">shape</span><span class="p">(</span><span class="n">x</span><span class="p">)[</span><span class="mi">1</span><span class="p">]</span><span class="o">+</span><span class="mi">1</span><span class="p">))</span> <span class="c1">#nor</span>
    <span class="n">cr</span><span class="o">=</span><span class="mi">0</span>
    <span class="k">for</span> <span class="n">i</span> <span class="ow">in</span> <span class="nb">range</span> <span class="p">(</span><span class="n">iters</span><span class="p">):</span>
        <span class="k">for</span> <span class="n">j</span> <span class="ow">in</span> <span class="nb">range</span><span class="p">(</span><span class="n">x</span><span class="o">.</span><span class="n">shape</span><span class="p">[</span><span class="mi">0</span><span class="p">]):</span>
            <span class="n">y</span> <span class="o">=</span> <span class="n">single_neuron</span><span class="p">(</span><span class="n">x</span><span class="p">[</span><span class="n">j</span><span class="p">],</span> <span class="n">w</span><span class="p">)</span> 
            <span class="c1">#e = -t[j]*np.log(y) - (1-t[j])*np.log(1-y)</span>
            <span class="n">gradient_logistic</span> <span class="o">=</span> <span class="o">-</span><span class="n">t</span><span class="p">[</span><span class="n">j</span><span class="p">]</span><span class="o">/</span><span class="p">(</span><span class="n">y</span><span class="o">+</span><span class="n">EPSILON</span><span class="p">)</span> <span class="o">+</span> <span class="p">(</span><span class="mi">1</span><span class="o">-</span><span class="n">t</span><span class="p">[</span><span class="n">j</span><span class="p">])</span><span class="o">/</span><span class="p">(</span><span class="mi">1</span><span class="o">-</span><span class="n">y</span><span class="o">+</span><span class="n">EPSILON</span><span class="p">)</span>
            <span class="n">gradient_sigmoid</span> <span class="o">=</span> <span class="n">y</span><span class="o">*</span><span class="p">(</span><span class="mi">1</span><span class="o">-</span><span class="n">y</span><span class="p">)</span>
            <span class="n">x_a</span><span class="o">=</span><span class="n">x</span><span class="o">.</span><span class="n">copy</span><span class="p">()</span>
            <span class="n">m</span><span class="o">=</span><span class="nb">len</span><span class="p">(</span><span class="n">x</span><span class="p">)</span>
            <span class="n">x_a</span><span class="o">=</span><span class="n">np</span><span class="o">.</span><span class="n">c_</span><span class="p">[</span><span class="n">np</span><span class="o">.</span><span class="n">ones</span><span class="p">((</span><span class="n">m</span><span class="p">,</span> <span class="mi">1</span><span class="p">)),</span> <span class="n">x_a</span><span class="p">]</span>
            <span class="n">w</span> <span class="o">=</span> <span class="n">w</span> <span class="o">-</span> <span class="n">alpha</span><span class="o">*</span><span class="p">(</span><span class="n">gradient_logistic</span><span class="o">*</span><span class="n">gradient_sigmoid</span> <span class="o">*</span> <span class="n">x_a</span><span class="p">[</span><span class="n">j</span><span class="p">])</span>  <span class="c1"># make step, using learning rate eta# and weight decay alpha</span>
    <span class="k">return</span> <span class="n">w</span>
</pre></div>

      </div>
    </div>
    
  </div>
</div>

</div>
<div class="cell border-box-sizing code_cell rendered">
<div class="input">
<div class="prompt input_prompt">In&nbsp;[26]:</div><div class="panel panel-primary nbgrader_cell">
    <a name="cell-4cf1dfdcd8c764f9"></a><div class="panel-heading"><span class="nbgrader-label">Grade cell: <code>cell-4cf1dfdcd8c764f9</code></span>
  <span class="pull-right">
      Score: 1.0 / 1.0 <a href="#top">(Top)</a>
  </span></div>
    <div class="panel-body">
      <div class="input_area">
        <div class=" highlight hl-ipython3"><pre><span></span><span class="k">assert</span> <span class="n">sigmoid</span><span class="p">(</span><span class="mf">0.0</span><span class="p">)</span><span class="o">==</span><span class="mf">0.5</span><span class="p">,</span> <span class="n">f</span><span class="s1">&#39;sigmoid(0.0)={sigmoid(0.0)}!=0.5&#39;</span>
<span class="k">assert</span> <span class="p">(</span><span class="n">sigmoid</span><span class="p">(</span><span class="n">np</span><span class="o">.</span><span class="n">zeros</span><span class="p">(</span><span class="mi">3</span><span class="p">))</span><span class="o">==</span><span class="mf">0.5</span><span class="o">*</span><span class="n">np</span><span class="o">.</span><span class="n">ones</span><span class="p">(</span><span class="mi">3</span><span class="p">))</span><span class="o">.</span><span class="n">all</span><span class="p">(),</span> <span class="n">f</span><span class="s1">&#39;The sigmoid function should work with arrays&#39;</span>

<span class="n">x</span><span class="o">=</span><span class="n">np</span><span class="o">.</span><span class="n">array</span><span class="p">([[</span><span class="mi">0</span><span class="p">,</span><span class="mi">0</span><span class="p">],[</span><span class="mi">1</span><span class="p">,</span><span class="mi">1</span><span class="p">],[</span><span class="mi">3</span><span class="p">,</span><span class="mi">2</span><span class="p">]])</span>
<span class="n">w</span><span class="o">=</span><span class="n">np</span><span class="o">.</span><span class="n">array</span><span class="p">([</span><span class="mf">0.</span><span class="p">,</span><span class="mf">1.</span><span class="p">,</span><span class="o">-</span><span class="mf">1.</span><span class="p">])</span>
<span class="n">output</span> <span class="o">=</span> <span class="n">single_neuron</span><span class="p">(</span><span class="n">x</span><span class="p">,</span> <span class="n">w</span><span class="p">)</span>
<span class="k">assert</span> <span class="n">np</span><span class="o">.</span><span class="n">abs</span><span class="p">(</span><span class="n">output</span><span class="p">[</span><span class="mi">0</span><span class="p">]</span><span class="o">-</span><span class="mf">0.5</span><span class="p">)</span><span class="o">&lt;</span><span class="mf">0.01</span><span class="p">,</span> <span class="n">f</span><span class="s1">&#39;output[0] = </span><span class="si">{output[0]}</span><span class="s1">&#39;</span>

<span class="c1">### BEGIN HIDDEN TESTS</span>
<span class="k">assert</span> <span class="n">np</span><span class="o">.</span><span class="n">abs</span><span class="p">(</span><span class="n">output</span><span class="p">[</span><span class="mi">1</span><span class="p">]</span><span class="o">-</span><span class="mf">0.5</span><span class="p">)</span><span class="o">&lt;</span><span class="mf">0.01</span><span class="p">,</span> <span class="n">f</span><span class="s1">&#39;output[1] = </span><span class="si">{output[1]}</span><span class="s1">&#39;</span>
<span class="k">assert</span> <span class="n">np</span><span class="o">.</span><span class="n">abs</span><span class="p">(</span><span class="n">output</span><span class="p">[</span><span class="mi">2</span><span class="p">]</span><span class="o">-</span><span class="mf">0.731059</span><span class="p">)</span><span class="o">&lt;</span><span class="mf">0.01</span><span class="p">,</span> <span class="n">f</span><span class="s1">&#39;output[2] = </span><span class="si">{output[2]}</span><span class="s1">&#39;</span>
<span class="c1">### END HIDDEN TESTS</span>
</pre></div>

      </div>
    </div>
    
  </div>
</div>

</div>
<div class="cell border-box-sizing code_cell rendered">
<div class="input">
<div class="prompt input_prompt">In&nbsp;[27]:</div><div class="panel panel-primary nbgrader_cell">
    <a name="comment-cell-f6c527ec58acb4a6"></a><div class="panel-heading"><span class="nbgrader-label">Student's answer</span><span class="pull-right"><a href="#top">(Top)</a></span></div>
    <div class="panel-body">
      <div class="input_area">
        <div class=" highlight hl-ipython3"><pre><span></span><span class="n">Tl</span><span class="o">=</span><span class="n">points_full</span><span class="p">[:,</span><span class="mi">0</span><span class="p">]</span>
<span class="n">energy</span><span class="o">=</span><span class="n">points_full</span><span class="p">[:,</span><span class="mi">1</span><span class="p">]</span>
<span class="n">magn</span><span class="o">=</span><span class="n">points_full</span><span class="p">[:,</span><span class="mi">2</span><span class="p">]</span>


<span class="k">with</span> <span class="n">np</span><span class="o">.</span><span class="n">nditer</span><span class="p">(</span><span class="n">Tl</span><span class="p">,</span> <span class="n">op_flags</span><span class="o">=</span><span class="p">[</span><span class="s1">&#39;readwrite&#39;</span><span class="p">])</span> <span class="k">as</span> <span class="n">it</span><span class="p">:</span>
    <span class="k">for</span> <span class="n">x</span> <span class="ow">in</span> <span class="n">it</span><span class="p">:</span>
        <span class="k">if</span> <span class="n">x</span><span class="o">&lt;</span><span class="n">Tc</span><span class="p">:</span>
            <span class="n">x</span><span class="p">[</span><span class="o">...</span><span class="p">]</span><span class="o">=</span><span class="mi">0</span>
            
        <span class="k">else</span><span class="p">:</span>
            <span class="n">x</span><span class="p">[</span><span class="o">...</span><span class="p">]</span><span class="o">=</span><span class="mi">1</span>
        


<span class="n">e_scaled</span> <span class="o">=</span> <span class="n">preprocessing</span><span class="o">.</span><span class="n">scale</span><span class="p">(</span><span class="n">energy</span><span class="p">)</span> <span class="c1">#normalization</span>
<span class="n">m_scaled</span> <span class="o">=</span> <span class="n">preprocessing</span><span class="o">.</span><span class="n">scale</span><span class="p">(</span><span class="n">magn</span><span class="p">)</span> <span class="c1">#normalization</span>



<span class="n">e_train</span><span class="p">,</span><span class="n">e_test</span><span class="p">,</span><span class="n">m_train</span><span class="p">,</span><span class="n">m_test</span><span class="p">,</span><span class="n">tl_train</span><span class="p">,</span><span class="n">tl_test</span><span class="o">=</span> <span class="n">train_test_split</span><span class="p">(</span><span class="n">e_scaled</span><span class="p">,</span><span class="n">m_scaled</span><span class="p">,</span><span class="n">Tl</span><span class="p">,</span><span class="n">train_size</span><span class="o">=</span><span class="mf">0.7</span><span class="p">,</span><span class="n">test_size</span><span class="o">=</span><span class="mf">0.3</span><span class="p">,</span><span class="n">random_state</span><span class="o">=</span><span class="mi">42</span><span class="p">)</span>

<span class="n">EM_train</span><span class="o">=</span>  <span class="n">np</span><span class="o">.</span><span class="n">vstack</span><span class="p">((</span><span class="n">e_train</span><span class="p">,</span><span class="n">m_train</span><span class="p">))</span><span class="o">.</span><span class="n">T</span>
<span class="n">EM_test</span><span class="o">=</span>  <span class="n">np</span><span class="o">.</span><span class="n">vstack</span><span class="p">((</span><span class="n">e_test</span><span class="p">,</span><span class="n">m_test</span><span class="p">))</span><span class="o">.</span><span class="n">T</span>

<span class="c1">#training of the net</span>
<span class="n">W</span> <span class="o">=</span> <span class="n">train_single_neuron_binary_classifier</span><span class="p">(</span><span class="n">EM_train</span><span class="p">,</span> <span class="n">tl_train</span><span class="p">,</span> <span class="n">iters</span><span class="o">=</span><span class="mi">30000</span><span class="p">,</span> <span class="n">alpha</span><span class="o">=</span><span class="mf">0.1</span><span class="p">,</span> <span class="n">eta</span><span class="o">=</span><span class="mf">0.01</span><span class="p">)</span>
</pre></div>

      </div>
    </div>
    <div class="panel-footer">
  <div>
    <b>Comments:</b> <p>It seems that this cell hit the time constraint...</p>

  </div>
</div>
  </div>
</div>

<div class="output_wrapper">
<div class="output">


<div class="output_area">

    <div class="prompt"></div>


<div class="output_subarea output_text output_error">
<pre>
<span class="ansi-red-fg">---------------------------------------------------------------------------</span>
<span class="ansi-red-fg">KeyboardInterrupt</span>                         Traceback (most recent call last)
<span class="ansi-green-fg">&lt;ipython-input-27-053a78fcc4d6&gt;</span> in <span class="ansi-cyan-fg">&lt;module&gt;</span>
<span class="ansi-green-intense-fg ansi-bold">     25</span> 
<span class="ansi-green-intense-fg ansi-bold">     26</span> <span class="ansi-red-fg">#training of the net</span>
<span class="ansi-green-fg">---&gt; 27</span><span class="ansi-red-fg"> </span>W <span class="ansi-blue-fg">=</span> train_single_neuron_binary_classifier<span class="ansi-blue-fg">(</span>EM_train<span class="ansi-blue-fg">,</span> tl_train<span class="ansi-blue-fg">,</span> iters<span class="ansi-blue-fg">=</span><span class="ansi-cyan-fg">30000</span><span class="ansi-blue-fg">,</span> alpha<span class="ansi-blue-fg">=</span><span class="ansi-cyan-fg">0.1</span><span class="ansi-blue-fg">,</span> eta<span class="ansi-blue-fg">=</span><span class="ansi-cyan-fg">0.01</span><span class="ansi-blue-fg">)</span>

<span class="ansi-green-fg">&lt;ipython-input-25-e0f34ae95f59&gt;</span> in <span class="ansi-cyan-fg">train_single_neuron_binary_classifier</span><span class="ansi-blue-fg">(x, t, iters, alpha, eta)</span>
<span class="ansi-green-intense-fg ansi-bold">     52</span>     <span class="ansi-green-fg">for</span> i <span class="ansi-green-fg">in</span> range <span class="ansi-blue-fg">(</span>iters<span class="ansi-blue-fg">)</span><span class="ansi-blue-fg">:</span>
<span class="ansi-green-intense-fg ansi-bold">     53</span>         <span class="ansi-green-fg">for</span> j <span class="ansi-green-fg">in</span> range<span class="ansi-blue-fg">(</span>x<span class="ansi-blue-fg">.</span>shape<span class="ansi-blue-fg">[</span><span class="ansi-cyan-fg">0</span><span class="ansi-blue-fg">]</span><span class="ansi-blue-fg">)</span><span class="ansi-blue-fg">:</span>
<span class="ansi-green-fg">---&gt; 54</span><span class="ansi-red-fg">             </span>y <span class="ansi-blue-fg">=</span> single_neuron<span class="ansi-blue-fg">(</span>x<span class="ansi-blue-fg">[</span>j<span class="ansi-blue-fg">]</span><span class="ansi-blue-fg">,</span> w<span class="ansi-blue-fg">)</span>
<span class="ansi-green-intense-fg ansi-bold">     55</span>             <span class="ansi-red-fg">#e = -t[j]*np.log(y) - (1-t[j])*np.log(1-y)</span>
<span class="ansi-green-intense-fg ansi-bold">     56</span>             gradient_logistic <span class="ansi-blue-fg">=</span> <span class="ansi-blue-fg">-</span>t<span class="ansi-blue-fg">[</span>j<span class="ansi-blue-fg">]</span><span class="ansi-blue-fg">/</span><span class="ansi-blue-fg">(</span>y<span class="ansi-blue-fg">+</span>EPSILON<span class="ansi-blue-fg">)</span> <span class="ansi-blue-fg">+</span> <span class="ansi-blue-fg">(</span><span class="ansi-cyan-fg">1</span><span class="ansi-blue-fg">-</span>t<span class="ansi-blue-fg">[</span>j<span class="ansi-blue-fg">]</span><span class="ansi-blue-fg">)</span><span class="ansi-blue-fg">/</span><span class="ansi-blue-fg">(</span><span class="ansi-cyan-fg">1</span><span class="ansi-blue-fg">-</span>y<span class="ansi-blue-fg">+</span>EPSILON<span class="ansi-blue-fg">)</span>

<span class="ansi-red-fg">KeyboardInterrupt</span>: </pre>
</div>
</div>

</div>
</div>

</div>
<div class="cell border-box-sizing code_cell rendered">
<div class="input">
<div class="prompt input_prompt">In&nbsp;[28]:</div><div class="panel panel-primary nbgrader_cell">
    <a name="comment-cell-0561c03180ebba8f"></a><div class="panel-heading"><span class="nbgrader-label">Student's answer</span><span class="pull-right"><a href="#top">(Top)</a></span></div>
    <div class="panel-body">
      <div class="input_area">
        <div class=" highlight hl-ipython3"><pre><span></span><span class="c1"># Train the single neuron binary classifier</span>
<span class="n">T_pred</span> <span class="o">=</span> <span class="n">single_neuron</span><span class="p">(</span><span class="n">EM_test</span><span class="p">,</span><span class="n">W</span><span class="p">)</span>
</pre></div>

      </div>
    </div>
    
  </div>
</div>

<div class="output_wrapper">
<div class="output">


<div class="output_area">

    <div class="prompt"></div>


<div class="output_subarea output_text output_error">
<pre>
<span class="ansi-red-fg">---------------------------------------------------------------------------</span>
<span class="ansi-red-fg">NameError</span>                                 Traceback (most recent call last)
<span class="ansi-green-fg">&lt;ipython-input-28-af89fe88424e&gt;</span> in <span class="ansi-cyan-fg">&lt;module&gt;</span>
<span class="ansi-green-intense-fg ansi-bold">      1</span> <span class="ansi-red-fg"># Train the single neuron binary classifier</span>
<span class="ansi-green-fg">----&gt; 2</span><span class="ansi-red-fg"> </span>T_pred <span class="ansi-blue-fg">=</span> single_neuron<span class="ansi-blue-fg">(</span>EM_test<span class="ansi-blue-fg">,</span>W<span class="ansi-blue-fg">)</span>

<span class="ansi-red-fg">NameError</span>: name &#39;W&#39; is not defined</pre>
</div>
</div>

</div>
</div>

</div>
<div class="cell border-box-sizing text_cell rendered">
  <div class="prompt input_prompt">
</div><div class="panel panel-primary nbgrader_cell">
    <a name="comment-cell-3d9b3b46ff36be23"></a><div class="panel-heading"><span class="nbgrader-label">Student's task</span>
  <span class="pull-right">
      Score: 2.0 / 2.0 <a href="#top">(Top)</a>
  </span></div>
    <div class="panel-body">
      <div class="text_cell_render border-box-sizing rendered_html">
        <p>Evaluate the final binary classifier and plot the 25%, 50%, 75% decision boundaries</p>

      </div>
    </div>
    <div class="panel-footer">
  <div>
    <b>Comments:</b> <p>Your solution seems to have failed the time constraint. But it looks ok in your submission so I will give the full credit.</p>

  </div>
</div>
  </div></div>

<div class="cell border-box-sizing code_cell rendered">
<div class="input">
<div class="prompt input_prompt">In&nbsp;[29]:</div><div class="panel panel-primary nbgrader_cell">
    <a name="comment-cell-84544bc7235b722d"></a><div class="panel-heading"><span class="nbgrader-label">Student's answer</span><span class="pull-right"><a href="#top">(Top)</a></span></div>
    <div class="panel-body">
      <div class="input_area">
        <div class=" highlight hl-ipython3"><pre><span></span><span class="c1"># Evaluate the final binary classifier and plot the 25%, 50%, 75% decision boundaries</span>
<span class="n">copy</span> <span class="o">=</span><span class="n">T_pred</span><span class="o">.</span><span class="n">copy</span><span class="p">()</span>
<span class="n">copy</span><span class="p">[</span><span class="n">copy</span><span class="o">&lt;</span><span class="mf">0.5</span><span class="p">]</span> <span class="o">=</span> <span class="mi">0</span>
<span class="n">copy</span><span class="p">[</span><span class="n">copy</span><span class="o">&gt;=</span><span class="mf">0.5</span><span class="p">]</span> <span class="o">=</span> <span class="mi">1</span>
<span class="n">high_copy</span> <span class="o">=</span> <span class="n">copy</span> <span class="o">&gt;</span><span class="mf">0.5</span>
</pre></div>

      </div>
    </div>
    
  </div>
</div>

<div class="output_wrapper">
<div class="output">


<div class="output_area">

    <div class="prompt"></div>


<div class="output_subarea output_text output_error">
<pre>
<span class="ansi-red-fg">---------------------------------------------------------------------------</span>
<span class="ansi-red-fg">NameError</span>                                 Traceback (most recent call last)
<span class="ansi-green-fg">&lt;ipython-input-29-a73e9e0df7ea&gt;</span> in <span class="ansi-cyan-fg">&lt;module&gt;</span>
<span class="ansi-green-intense-fg ansi-bold">      1</span> <span class="ansi-red-fg"># Evaluate the final binary classifier and plot the 25%, 50%, 75% decision boundaries</span>
<span class="ansi-green-fg">----&gt; 2</span><span class="ansi-red-fg"> </span>copy <span class="ansi-blue-fg">=</span>T_pred<span class="ansi-blue-fg">.</span>copy<span class="ansi-blue-fg">(</span><span class="ansi-blue-fg">)</span>
<span class="ansi-green-intense-fg ansi-bold">      3</span> copy<span class="ansi-blue-fg">[</span>copy<span class="ansi-blue-fg">&lt;</span><span class="ansi-cyan-fg">0.5</span><span class="ansi-blue-fg">]</span> <span class="ansi-blue-fg">=</span> <span class="ansi-cyan-fg">0</span>
<span class="ansi-green-intense-fg ansi-bold">      4</span> copy<span class="ansi-blue-fg">[</span>copy<span class="ansi-blue-fg">&gt;=</span><span class="ansi-cyan-fg">0.5</span><span class="ansi-blue-fg">]</span> <span class="ansi-blue-fg">=</span> <span class="ansi-cyan-fg">1</span>
<span class="ansi-green-intense-fg ansi-bold">      5</span> high_copy <span class="ansi-blue-fg">=</span> copy <span class="ansi-blue-fg">&gt;</span><span class="ansi-cyan-fg">0.5</span>

<span class="ansi-red-fg">NameError</span>: name &#39;T_pred&#39; is not defined</pre>
</div>
</div>

</div>
</div>

</div>
<div class="cell border-box-sizing code_cell rendered">
<div class="input">
<div class="prompt input_prompt">In&nbsp;[30]:</div><div class="inner_cell">
    <div class="input_area">
      <div class=" highlight hl-ipython3"><pre><span></span><span class="n">EM_test_cop</span><span class="o">=</span>  <span class="n">np</span><span class="o">.</span><span class="n">vstack</span><span class="p">((</span><span class="n">e_test</span><span class="p">,</span><span class="n">m_test</span><span class="p">,</span><span class="n">copy</span><span class="p">))</span><span class="o">.</span><span class="n">T</span>
<span class="n">E_M_high_cop</span> <span class="o">=</span> <span class="p">[]</span>
<span class="n">E_M_low_cop</span>  <span class="o">=</span> <span class="p">[]</span>
<span class="n">E_M_T</span>  <span class="o">=</span> <span class="p">[]</span>
<span class="k">for</span> <span class="n">i</span> <span class="ow">in</span> <span class="nb">range</span> <span class="p">(</span><span class="nb">len</span><span class="p">(</span><span class="n">EM_test_cop</span><span class="p">)):</span>
    <span class="k">if</span> <span class="n">copy</span><span class="p">[</span><span class="n">i</span><span class="p">]</span><span class="o">==</span><span class="mi">1</span><span class="p">:</span>
        <span class="n">E_M_high_cop</span><span class="o">.</span><span class="n">append</span><span class="p">(</span><span class="n">EM_test_cop</span><span class="p">[</span><span class="n">i</span><span class="p">])</span>
    <span class="k">else</span><span class="p">:</span>
        <span class="n">E_M_low_cop</span><span class="o">.</span><span class="n">append</span><span class="p">(</span><span class="n">EM_test_cop</span><span class="p">[</span><span class="n">i</span><span class="p">])</span>

<span class="n">E_M_high_cop</span><span class="o">=</span> <span class="n">np</span><span class="o">.</span><span class="n">array</span><span class="p">(</span><span class="n">E_M_high_cop</span><span class="p">)</span>
<span class="n">E_M_low_cop</span><span class="o">=</span> <span class="n">np</span><span class="o">.</span><span class="n">array</span><span class="p">(</span><span class="n">E_M_low_cop</span><span class="p">)</span>
<span class="n">EM_test_cop</span><span class="o">=</span><span class="n">np</span><span class="o">.</span><span class="n">array</span><span class="p">(</span><span class="n">EM_test_cop</span><span class="p">)</span>


<span class="n">fig</span><span class="p">,</span> <span class="n">ax</span> <span class="o">=</span> <span class="n">plt</span><span class="o">.</span><span class="n">subplots</span><span class="p">(</span><span class="mi">1</span><span class="p">,</span><span class="mi">1</span><span class="p">)</span>
<span class="n">ax</span><span class="o">.</span><span class="n">scatter</span><span class="p">(</span><span class="n">E_M_high_cop</span><span class="p">[:,</span><span class="mi">0</span><span class="p">],</span><span class="n">E_M_high_cop</span><span class="p">[:,</span><span class="mi">1</span><span class="p">],</span><span class="n">c</span><span class="o">=</span><span class="s1">&#39;r&#39;</span><span class="p">,</span><span class="n">alpha</span><span class="o">=</span><span class="mf">0.5</span><span class="p">,</span><span class="n">s</span><span class="o">=</span><span class="mi">25</span><span class="p">)</span>
<span class="n">ax</span><span class="o">.</span><span class="n">scatter</span><span class="p">(</span><span class="n">E_M_low_cop</span><span class="p">[:,</span><span class="mi">0</span><span class="p">],</span><span class="n">E_M_low_cop</span><span class="p">[:,</span><span class="mi">1</span><span class="p">],</span><span class="n">c</span><span class="o">=</span><span class="s1">&#39;b&#39;</span><span class="p">,</span><span class="n">alpha</span><span class="o">=</span><span class="mf">0.5</span><span class="p">,</span><span class="n">s</span><span class="o">=</span><span class="mi">25</span><span class="p">)</span>
<span class="n">ax</span><span class="o">.</span><span class="n">set_xlabel</span><span class="p">(</span><span class="s2">&quot;$E$&quot;</span><span class="p">)</span>
<span class="n">ax</span><span class="o">.</span><span class="n">set_ylabel</span><span class="p">(</span><span class="s2">&quot;$|m|$&quot;</span><span class="p">);</span>
</pre></div>

    </div>
  </div>
</div>

<div class="output_wrapper">
<div class="output">


<div class="output_area">

    <div class="prompt"></div>


<div class="output_subarea output_text output_error">
<pre>
<span class="ansi-red-fg">---------------------------------------------------------------------------</span>
<span class="ansi-red-fg">NameError</span>                                 Traceback (most recent call last)
<span class="ansi-green-fg">&lt;ipython-input-30-a8bbe6135f14&gt;</span> in <span class="ansi-cyan-fg">&lt;module&gt;</span>
<span class="ansi-green-fg">----&gt; 1</span><span class="ansi-red-fg"> </span>EM_test_cop<span class="ansi-blue-fg">=</span>  np<span class="ansi-blue-fg">.</span>vstack<span class="ansi-blue-fg">(</span><span class="ansi-blue-fg">(</span>e_test<span class="ansi-blue-fg">,</span>m_test<span class="ansi-blue-fg">,</span>copy<span class="ansi-blue-fg">)</span><span class="ansi-blue-fg">)</span><span class="ansi-blue-fg">.</span>T
<span class="ansi-green-intense-fg ansi-bold">      2</span> E_M_high_cop <span class="ansi-blue-fg">=</span> <span class="ansi-blue-fg">[</span><span class="ansi-blue-fg">]</span>
<span class="ansi-green-intense-fg ansi-bold">      3</span> E_M_low_cop  <span class="ansi-blue-fg">=</span> <span class="ansi-blue-fg">[</span><span class="ansi-blue-fg">]</span>
<span class="ansi-green-intense-fg ansi-bold">      4</span> E_M_T  <span class="ansi-blue-fg">=</span> <span class="ansi-blue-fg">[</span><span class="ansi-blue-fg">]</span>
<span class="ansi-green-intense-fg ansi-bold">      5</span> <span class="ansi-green-fg">for</span> i <span class="ansi-green-fg">in</span> range <span class="ansi-blue-fg">(</span>len<span class="ansi-blue-fg">(</span>EM_test_cop<span class="ansi-blue-fg">)</span><span class="ansi-blue-fg">)</span><span class="ansi-blue-fg">:</span>

<span class="ansi-red-fg">NameError</span>: name &#39;copy&#39; is not defined</pre>
</div>
</div>

</div>
</div>

</div>
<div class="cell border-box-sizing code_cell rendered">
<div class="input">
<div class="prompt input_prompt">In&nbsp;[31]:</div><div class="inner_cell">
    <div class="input_area">
      <div class=" highlight hl-ipython3"><pre><span></span><span class="n">EM_cl</span><span class="o">=</span>  <span class="n">np</span><span class="o">.</span><span class="n">vstack</span><span class="p">((</span><span class="n">e_scaled</span><span class="p">,</span><span class="n">m_scaled</span><span class="p">))</span><span class="o">.</span><span class="n">T</span>
<span class="c1">#pred</span>
<span class="n">T_pred_class</span> <span class="o">=</span> <span class="n">single_neuron</span><span class="p">(</span><span class="n">EM_cl</span><span class="p">,</span><span class="n">W</span><span class="p">)</span>
<span class="n">copy_cl</span> <span class="o">=</span><span class="n">T_pred_class</span><span class="o">.</span><span class="n">copy</span><span class="p">()</span>
<span class="n">copy_cl</span><span class="p">[</span><span class="n">copy_cl</span><span class="o">&lt;</span><span class="mf">0.5</span><span class="p">]</span> <span class="o">=</span> <span class="mi">0</span>
<span class="n">copy_cl</span><span class="p">[</span><span class="n">copy_cl</span><span class="o">&gt;=</span><span class="mf">0.5</span><span class="p">]</span> <span class="o">=</span> <span class="mi">1</span>
</pre></div>

    </div>
  </div>
</div>

<div class="output_wrapper">
<div class="output">


<div class="output_area">

    <div class="prompt"></div>


<div class="output_subarea output_text output_error">
<pre>
<span class="ansi-red-fg">---------------------------------------------------------------------------</span>
<span class="ansi-red-fg">NameError</span>                                 Traceback (most recent call last)
<span class="ansi-green-fg">&lt;ipython-input-31-6b30ab08e132&gt;</span> in <span class="ansi-cyan-fg">&lt;module&gt;</span>
<span class="ansi-green-intense-fg ansi-bold">      1</span> EM_cl<span class="ansi-blue-fg">=</span>  np<span class="ansi-blue-fg">.</span>vstack<span class="ansi-blue-fg">(</span><span class="ansi-blue-fg">(</span>e_scaled<span class="ansi-blue-fg">,</span>m_scaled<span class="ansi-blue-fg">)</span><span class="ansi-blue-fg">)</span><span class="ansi-blue-fg">.</span>T
<span class="ansi-green-intense-fg ansi-bold">      2</span> <span class="ansi-red-fg">#pred</span>
<span class="ansi-green-fg">----&gt; 3</span><span class="ansi-red-fg"> </span>T_pred_class <span class="ansi-blue-fg">=</span> single_neuron<span class="ansi-blue-fg">(</span>EM_cl<span class="ansi-blue-fg">,</span>W<span class="ansi-blue-fg">)</span>
<span class="ansi-green-intense-fg ansi-bold">      4</span> copy_cl <span class="ansi-blue-fg">=</span>T_pred_class<span class="ansi-blue-fg">.</span>copy<span class="ansi-blue-fg">(</span><span class="ansi-blue-fg">)</span>
<span class="ansi-green-intense-fg ansi-bold">      5</span> copy_cl<span class="ansi-blue-fg">[</span>copy_cl<span class="ansi-blue-fg">&lt;</span><span class="ansi-cyan-fg">0.5</span><span class="ansi-blue-fg">]</span> <span class="ansi-blue-fg">=</span> <span class="ansi-cyan-fg">0</span>

<span class="ansi-red-fg">NameError</span>: name &#39;W&#39; is not defined</pre>
</div>
</div>

</div>
</div>

</div>
<div class="cell border-box-sizing code_cell rendered">
<div class="input">
<div class="prompt input_prompt">In&nbsp;[32]:</div><div class="inner_cell">
    <div class="input_area">
      <div class=" highlight hl-ipython3"><pre><span></span><span class="n">EM_cla</span><span class="o">=</span>  <span class="n">np</span><span class="o">.</span><span class="n">vstack</span><span class="p">((</span><span class="n">e_scaled</span><span class="p">,</span><span class="n">m_scaled</span><span class="p">,</span><span class="n">copy_cl</span><span class="p">))</span><span class="o">.</span><span class="n">T</span>
<span class="n">E_M_high_cl</span> <span class="o">=</span> <span class="p">[]</span>
<span class="n">E_M_low_cl</span>  <span class="o">=</span> <span class="p">[]</span>

<span class="k">for</span> <span class="n">i</span> <span class="ow">in</span> <span class="nb">range</span> <span class="p">(</span><span class="nb">len</span><span class="p">(</span><span class="n">EM_cla</span><span class="p">)):</span>
    <span class="k">if</span> <span class="n">copy_cl</span><span class="p">[</span><span class="n">i</span><span class="p">]</span><span class="o">==</span><span class="mi">1</span><span class="p">:</span>
        <span class="n">E_M_high_cl</span><span class="o">.</span><span class="n">append</span><span class="p">(</span><span class="n">EM_cla</span><span class="p">[</span><span class="n">i</span><span class="p">])</span>
    <span class="k">else</span><span class="p">:</span>
        <span class="n">E_M_low_cl</span><span class="o">.</span><span class="n">append</span><span class="p">(</span><span class="n">EM_cla</span><span class="p">[</span><span class="n">i</span><span class="p">])</span>

<span class="n">E_M_high_cl</span><span class="o">=</span> <span class="n">np</span><span class="o">.</span><span class="n">array</span><span class="p">(</span><span class="n">E_M_high_cl</span><span class="p">)</span>
<span class="n">E_M_low_cl</span><span class="o">=</span> <span class="n">np</span><span class="o">.</span><span class="n">array</span><span class="p">(</span><span class="n">E_M_low_cl</span><span class="p">)</span>
<span class="n">EM_cla</span><span class="o">=</span><span class="n">np</span><span class="o">.</span><span class="n">array</span><span class="p">(</span><span class="n">EM_cla</span><span class="p">)</span>


<span class="n">fig</span><span class="p">,</span> <span class="n">ax</span> <span class="o">=</span> <span class="n">plt</span><span class="o">.</span><span class="n">subplots</span><span class="p">(</span><span class="mi">1</span><span class="p">,</span><span class="mi">1</span><span class="p">)</span>
<span class="n">ax</span><span class="o">.</span><span class="n">scatter</span><span class="p">(</span><span class="n">E_M_high_cl</span><span class="p">[:,</span><span class="mi">0</span><span class="p">],</span><span class="n">E_M_high_cl</span><span class="p">[:,</span><span class="mi">1</span><span class="p">],</span><span class="n">c</span><span class="o">=</span><span class="s1">&#39;r&#39;</span><span class="p">,</span><span class="n">alpha</span><span class="o">=</span><span class="mf">0.5</span><span class="p">,</span><span class="n">s</span><span class="o">=</span><span class="mi">25</span><span class="p">)</span>
<span class="n">ax</span><span class="o">.</span><span class="n">scatter</span><span class="p">(</span><span class="n">E_M_low_cl</span><span class="p">[:,</span><span class="mi">0</span><span class="p">],</span><span class="n">E_M_low_cl</span><span class="p">[:,</span><span class="mi">1</span><span class="p">],</span><span class="n">c</span><span class="o">=</span><span class="s1">&#39;b&#39;</span><span class="p">,</span><span class="n">alpha</span><span class="o">=</span><span class="mf">0.5</span><span class="p">,</span><span class="n">s</span><span class="o">=</span><span class="mi">25</span><span class="p">)</span>
<span class="n">ax</span><span class="o">.</span><span class="n">set_xlabel</span><span class="p">(</span><span class="s2">&quot;$E$&quot;</span><span class="p">)</span>
<span class="n">ax</span><span class="o">.</span><span class="n">set_ylabel</span><span class="p">(</span><span class="s2">&quot;$|m|$&quot;</span><span class="p">);</span>
</pre></div>

    </div>
  </div>
</div>

<div class="output_wrapper">
<div class="output">


<div class="output_area">

    <div class="prompt"></div>


<div class="output_subarea output_text output_error">
<pre>
<span class="ansi-red-fg">---------------------------------------------------------------------------</span>
<span class="ansi-red-fg">NameError</span>                                 Traceback (most recent call last)
<span class="ansi-green-fg">&lt;ipython-input-32-4c467378dbd8&gt;</span> in <span class="ansi-cyan-fg">&lt;module&gt;</span>
<span class="ansi-green-fg">----&gt; 1</span><span class="ansi-red-fg"> </span>EM_cla<span class="ansi-blue-fg">=</span>  np<span class="ansi-blue-fg">.</span>vstack<span class="ansi-blue-fg">(</span><span class="ansi-blue-fg">(</span>e_scaled<span class="ansi-blue-fg">,</span>m_scaled<span class="ansi-blue-fg">,</span>copy_cl<span class="ansi-blue-fg">)</span><span class="ansi-blue-fg">)</span><span class="ansi-blue-fg">.</span>T
<span class="ansi-green-intense-fg ansi-bold">      2</span> E_M_high_cl <span class="ansi-blue-fg">=</span> <span class="ansi-blue-fg">[</span><span class="ansi-blue-fg">]</span>
<span class="ansi-green-intense-fg ansi-bold">      3</span> E_M_low_cl  <span class="ansi-blue-fg">=</span> <span class="ansi-blue-fg">[</span><span class="ansi-blue-fg">]</span>
<span class="ansi-green-intense-fg ansi-bold">      4</span> 
<span class="ansi-green-intense-fg ansi-bold">      5</span> <span class="ansi-green-fg">for</span> i <span class="ansi-green-fg">in</span> range <span class="ansi-blue-fg">(</span>len<span class="ansi-blue-fg">(</span>EM_cla<span class="ansi-blue-fg">)</span><span class="ansi-blue-fg">)</span><span class="ansi-blue-fg">:</span>

<span class="ansi-red-fg">NameError</span>: name &#39;copy_cl&#39; is not defined</pre>
</div>
</div>

</div>
</div>

</div>
<div class="cell border-box-sizing code_cell rendered">
<div class="input">
<div class="prompt input_prompt">In&nbsp;[33]:</div><div class="inner_cell">
    <div class="input_area">
      <div class=" highlight hl-ipython3"><pre><span></span><span class="k">def</span> <span class="nf">plot_decision_boundary</span><span class="p">(</span><span class="n">pred</span><span class="p">,</span> <span class="n">X</span><span class="p">,</span> <span class="n">y</span><span class="p">,</span><span class="n">ax</span><span class="o">=</span><span class="p">[]):</span>
    <span class="c1"># Set min and max values and give it some padding</span>
    <span class="n">x0_min</span><span class="p">,</span> <span class="n">x0_max</span> <span class="o">=</span> <span class="n">X</span><span class="p">[:,</span> <span class="mi">0</span><span class="p">]</span><span class="o">.</span><span class="n">min</span><span class="p">()</span> <span class="o">-</span> <span class="o">.</span><span class="mi">5</span><span class="p">,</span> <span class="n">X</span><span class="p">[:,</span> <span class="mi">0</span><span class="p">]</span><span class="o">.</span><span class="n">max</span><span class="p">()</span> <span class="o">+</span> <span class="o">.</span><span class="mi">5</span>
    <span class="n">x1_min</span><span class="p">,</span> <span class="n">x1_max</span> <span class="o">=</span> <span class="n">X</span><span class="p">[:,</span> <span class="mi">1</span><span class="p">]</span><span class="o">.</span><span class="n">min</span><span class="p">()</span> <span class="o">-</span> <span class="o">.</span><span class="mi">5</span><span class="p">,</span> <span class="n">X</span><span class="p">[:,</span> <span class="mi">1</span><span class="p">]</span><span class="o">.</span><span class="n">max</span><span class="p">()</span> <span class="o">+</span> <span class="o">.</span><span class="mi">5</span>
    <span class="n">h</span> <span class="o">=</span> <span class="mf">0.01</span>
    <span class="c1"># Generate a grid of points with distance h between them</span>
    <span class="n">xx0</span><span class="p">,</span> <span class="n">xx1</span> <span class="o">=</span> <span class="n">np</span><span class="o">.</span><span class="n">meshgrid</span><span class="p">(</span><span class="n">np</span><span class="o">.</span><span class="n">arange</span><span class="p">(</span><span class="n">x0_min</span><span class="p">,</span> <span class="n">x0_max</span><span class="p">,</span> <span class="n">h</span><span class="p">),</span> <span class="n">np</span><span class="o">.</span><span class="n">arange</span><span class="p">(</span><span class="n">x1_min</span><span class="p">,</span> <span class="n">x1_max</span><span class="p">,</span> <span class="n">h</span><span class="p">))</span>
    <span class="c1"># Predict the function value for the whole gid</span>
    <span class="n">Z</span> <span class="o">=</span> <span class="n">single_neuron</span><span class="p">(</span><span class="n">np</span><span class="o">.</span><span class="n">c_</span><span class="p">[</span><span class="n">xx0</span><span class="o">.</span><span class="n">ravel</span><span class="p">(),</span> <span class="n">xx1</span><span class="o">.</span><span class="n">ravel</span><span class="p">()],</span><span class="n">W</span><span class="p">)</span>
    <span class="n">z_new</span><span class="o">=</span><span class="n">np</span><span class="o">.</span><span class="n">ones_like</span><span class="p">(</span><span class="n">Z</span><span class="p">)</span><span class="o">*</span><span class="p">(</span><span class="n">Z</span><span class="o">&gt;</span><span class="mf">0.5</span><span class="p">)</span>
    <span class="n">z_new</span><span class="o">=</span> <span class="n">z_new</span><span class="o">.</span><span class="n">reshape</span><span class="p">(</span><span class="n">xx0</span><span class="o">.</span><span class="n">shape</span><span class="p">)</span>
    <span class="c1"># Plot the contour and training examples</span>
    <span class="k">if</span> <span class="n">ax</span><span class="p">:</span>
        <span class="n">ax</span><span class="o">.</span><span class="n">contourf</span><span class="p">(</span><span class="n">xx0</span><span class="p">,</span> <span class="n">xx1</span><span class="p">,</span> <span class="n">z_new</span><span class="p">,</span> <span class="n">cmap</span><span class="o">=</span><span class="n">plt</span><span class="o">.</span><span class="n">cm</span><span class="o">.</span><span class="n">RdBu</span><span class="p">,</span> <span class="n">alpha</span><span class="o">=</span><span class="mf">0.5</span><span class="p">)</span>
        <span class="n">ax</span><span class="o">.</span><span class="n">scatter</span><span class="p">(</span><span class="n">X</span><span class="p">[:,</span> <span class="mi">0</span><span class="p">],</span> <span class="n">X</span><span class="p">[:,</span> <span class="mi">1</span><span class="p">],</span> <span class="n">c</span><span class="o">=</span><span class="n">y</span><span class="p">,</span> <span class="n">cmap</span><span class="o">=</span><span class="n">plt</span><span class="o">.</span><span class="n">cm</span><span class="o">.</span><span class="n">RdBu</span><span class="p">)</span>
    <span class="k">else</span><span class="p">:</span>
        <span class="n">plt</span><span class="o">.</span><span class="n">contourf</span><span class="p">(</span><span class="n">xx0</span><span class="p">,</span> <span class="n">xx1</span><span class="p">,</span> <span class="n">z_new</span><span class="p">,</span> <span class="n">cmap</span><span class="o">=</span><span class="n">plt</span><span class="o">.</span><span class="n">cm</span><span class="o">.</span><span class="n">RdBu</span><span class="p">,</span> <span class="n">alpha</span><span class="o">=</span><span class="mf">0.5</span><span class="p">)</span>
        <span class="n">plt</span><span class="o">.</span><span class="n">scatter</span><span class="p">(</span><span class="n">X</span><span class="p">[:,</span> <span class="mi">0</span><span class="p">],</span> <span class="n">X</span><span class="p">[:,</span> <span class="mi">1</span><span class="p">],</span> <span class="n">c</span><span class="o">=</span><span class="n">y</span><span class="p">,</span> <span class="n">cmap</span><span class="o">=</span><span class="n">plt</span><span class="o">.</span><span class="n">cm</span><span class="o">.</span><span class="n">RdBu</span><span class="p">)</span>
        
<span class="k">def</span> <span class="nf">plot_decision_boundary2</span><span class="p">(</span><span class="n">pred</span><span class="p">,</span> <span class="n">X</span><span class="p">,</span> <span class="n">y</span><span class="p">,</span><span class="n">ax</span><span class="o">=</span><span class="p">[]):</span>
    <span class="c1"># Set min and max values and give it some padding</span>
    <span class="n">x0_min</span><span class="p">,</span> <span class="n">x0_max</span> <span class="o">=</span> <span class="n">X</span><span class="p">[:,</span> <span class="mi">0</span><span class="p">]</span><span class="o">.</span><span class="n">min</span><span class="p">()</span> <span class="o">-</span> <span class="o">.</span><span class="mi">5</span><span class="p">,</span> <span class="n">X</span><span class="p">[:,</span> <span class="mi">0</span><span class="p">]</span><span class="o">.</span><span class="n">max</span><span class="p">()</span> <span class="o">+</span> <span class="o">.</span><span class="mi">5</span>
    <span class="n">x1_min</span><span class="p">,</span> <span class="n">x1_max</span> <span class="o">=</span> <span class="n">X</span><span class="p">[:,</span> <span class="mi">1</span><span class="p">]</span><span class="o">.</span><span class="n">min</span><span class="p">()</span> <span class="o">-</span> <span class="o">.</span><span class="mi">5</span><span class="p">,</span> <span class="n">X</span><span class="p">[:,</span> <span class="mi">1</span><span class="p">]</span><span class="o">.</span><span class="n">max</span><span class="p">()</span> <span class="o">+</span> <span class="o">.</span><span class="mi">5</span>
    <span class="n">h</span> <span class="o">=</span> <span class="mf">0.01</span>
    <span class="c1"># Generate a grid of points with distance h between them</span>
    <span class="n">xx0</span><span class="p">,</span> <span class="n">xx1</span> <span class="o">=</span> <span class="n">np</span><span class="o">.</span><span class="n">meshgrid</span><span class="p">(</span><span class="n">np</span><span class="o">.</span><span class="n">arange</span><span class="p">(</span><span class="n">x0_min</span><span class="p">,</span> <span class="n">x0_max</span><span class="p">,</span> <span class="n">h</span><span class="p">),</span> <span class="n">np</span><span class="o">.</span><span class="n">arange</span><span class="p">(</span><span class="n">x1_min</span><span class="p">,</span> <span class="n">x1_max</span><span class="p">,</span> <span class="n">h</span><span class="p">))</span>
    <span class="c1"># Predict the function value for the whole gid</span>
    <span class="n">Z</span> <span class="o">=</span> <span class="n">single_neuron</span><span class="p">(</span><span class="n">np</span><span class="o">.</span><span class="n">c_</span><span class="p">[</span><span class="n">xx0</span><span class="o">.</span><span class="n">ravel</span><span class="p">(),</span> <span class="n">xx1</span><span class="o">.</span><span class="n">ravel</span><span class="p">()],</span><span class="n">W</span><span class="p">)</span>
    <span class="n">z_new</span><span class="o">=</span><span class="n">np</span><span class="o">.</span><span class="n">ones_like</span><span class="p">(</span><span class="n">Z</span><span class="p">)</span><span class="o">*</span><span class="p">(</span><span class="n">Z</span><span class="o">&gt;</span><span class="mf">0.25</span><span class="p">)</span>
    <span class="n">z_new</span><span class="o">=</span> <span class="n">z_new</span><span class="o">.</span><span class="n">reshape</span><span class="p">(</span><span class="n">xx0</span><span class="o">.</span><span class="n">shape</span><span class="p">)</span>
    <span class="n">Z</span> <span class="o">=</span> <span class="n">Z</span><span class="o">.</span><span class="n">reshape</span><span class="p">(</span><span class="n">xx0</span><span class="o">.</span><span class="n">shape</span><span class="p">)</span>
    <span class="c1"># Plot the contour and training examples</span>
    <span class="k">if</span> <span class="n">ax</span><span class="p">:</span>
        <span class="n">ax</span><span class="o">.</span><span class="n">contourf</span><span class="p">(</span><span class="n">xx0</span><span class="p">,</span> <span class="n">xx1</span><span class="p">,</span> <span class="n">z_new</span><span class="p">,</span> <span class="n">cmap</span><span class="o">=</span><span class="n">plt</span><span class="o">.</span><span class="n">cm</span><span class="o">.</span><span class="n">RdBu</span><span class="p">,</span> <span class="n">alpha</span><span class="o">=</span><span class="mf">0.5</span><span class="p">)</span>
        <span class="n">ax</span><span class="o">.</span><span class="n">scatter</span><span class="p">(</span><span class="n">X</span><span class="p">[:,</span> <span class="mi">0</span><span class="p">],</span> <span class="n">X</span><span class="p">[:,</span> <span class="mi">1</span><span class="p">],</span> <span class="n">c</span><span class="o">=</span><span class="n">y</span><span class="p">,</span> <span class="n">cmap</span><span class="o">=</span><span class="n">plt</span><span class="o">.</span><span class="n">cm</span><span class="o">.</span><span class="n">RdBu</span><span class="p">)</span>
    <span class="k">else</span><span class="p">:</span>
        <span class="n">plt</span><span class="o">.</span><span class="n">contourf</span><span class="p">(</span><span class="n">xx0</span><span class="p">,</span> <span class="n">xx1</span><span class="p">,</span> <span class="n">z_new</span><span class="p">,</span> <span class="n">cmap</span><span class="o">=</span><span class="n">plt</span><span class="o">.</span><span class="n">cm</span><span class="o">.</span><span class="n">RdBu</span><span class="p">,</span> <span class="n">alpha</span><span class="o">=</span><span class="mf">0.5</span><span class="p">)</span>
        <span class="n">plt</span><span class="o">.</span><span class="n">scatter</span><span class="p">(</span><span class="n">X</span><span class="p">[:,</span> <span class="mi">0</span><span class="p">],</span> <span class="n">X</span><span class="p">[:,</span> <span class="mi">1</span><span class="p">],</span> <span class="n">c</span><span class="o">=</span><span class="n">y</span><span class="p">,</span> <span class="n">cmap</span><span class="o">=</span><span class="n">plt</span><span class="o">.</span><span class="n">cm</span><span class="o">.</span><span class="n">RdBu</span><span class="p">)</span>
        
<span class="k">def</span> <span class="nf">plot_decision_boundary3</span><span class="p">(</span><span class="n">pred</span><span class="p">,</span> <span class="n">X</span><span class="p">,</span> <span class="n">y</span><span class="p">,</span><span class="n">ax</span><span class="o">=</span><span class="p">[]):</span>
    <span class="c1"># Set min and max values and give it some padding</span>
    <span class="n">x0_min</span><span class="p">,</span> <span class="n">x0_max</span> <span class="o">=</span> <span class="n">X</span><span class="p">[:,</span> <span class="mi">0</span><span class="p">]</span><span class="o">.</span><span class="n">min</span><span class="p">()</span> <span class="o">-</span> <span class="o">.</span><span class="mi">5</span><span class="p">,</span> <span class="n">X</span><span class="p">[:,</span> <span class="mi">0</span><span class="p">]</span><span class="o">.</span><span class="n">max</span><span class="p">()</span> <span class="o">+</span> <span class="o">.</span><span class="mi">5</span>
    <span class="n">x1_min</span><span class="p">,</span> <span class="n">x1_max</span> <span class="o">=</span> <span class="n">X</span><span class="p">[:,</span> <span class="mi">1</span><span class="p">]</span><span class="o">.</span><span class="n">min</span><span class="p">()</span> <span class="o">-</span> <span class="o">.</span><span class="mi">5</span><span class="p">,</span> <span class="n">X</span><span class="p">[:,</span> <span class="mi">1</span><span class="p">]</span><span class="o">.</span><span class="n">max</span><span class="p">()</span> <span class="o">+</span> <span class="o">.</span><span class="mi">5</span>
    <span class="n">h</span> <span class="o">=</span> <span class="mf">0.01</span>
    <span class="c1"># Generate a grid of points with distance h between them</span>
    <span class="n">xx0</span><span class="p">,</span> <span class="n">xx1</span> <span class="o">=</span> <span class="n">np</span><span class="o">.</span><span class="n">meshgrid</span><span class="p">(</span><span class="n">np</span><span class="o">.</span><span class="n">arange</span><span class="p">(</span><span class="n">x0_min</span><span class="p">,</span> <span class="n">x0_max</span><span class="p">,</span> <span class="n">h</span><span class="p">),</span> <span class="n">np</span><span class="o">.</span><span class="n">arange</span><span class="p">(</span><span class="n">x1_min</span><span class="p">,</span> <span class="n">x1_max</span><span class="p">,</span> <span class="n">h</span><span class="p">))</span>
    <span class="c1"># Predict the function value for the whole gid</span>
    <span class="n">Z</span> <span class="o">=</span> <span class="n">single_neuron</span><span class="p">(</span><span class="n">np</span><span class="o">.</span><span class="n">c_</span><span class="p">[</span><span class="n">xx0</span><span class="o">.</span><span class="n">ravel</span><span class="p">(),</span> <span class="n">xx1</span><span class="o">.</span><span class="n">ravel</span><span class="p">()],</span><span class="n">W</span><span class="p">)</span>
    <span class="n">z_new</span><span class="o">=</span><span class="n">np</span><span class="o">.</span><span class="n">ones_like</span><span class="p">(</span><span class="n">Z</span><span class="p">)</span><span class="o">*</span><span class="p">(</span><span class="n">Z</span><span class="o">&gt;</span><span class="mf">0.75</span><span class="p">)</span>
    <span class="n">z_new</span><span class="o">=</span> <span class="n">z_new</span><span class="o">.</span><span class="n">reshape</span><span class="p">(</span><span class="n">xx0</span><span class="o">.</span><span class="n">shape</span><span class="p">)</span>
    <span class="c1"># Plot the contour and training examples</span>
    <span class="k">if</span> <span class="n">ax</span><span class="p">:</span>
        <span class="n">ax</span><span class="o">.</span><span class="n">contourf</span><span class="p">(</span><span class="n">xx0</span><span class="p">,</span> <span class="n">xx1</span><span class="p">,</span> <span class="n">z_new</span><span class="p">,</span> <span class="n">cmap</span><span class="o">=</span><span class="n">plt</span><span class="o">.</span><span class="n">cm</span><span class="o">.</span><span class="n">RdBu</span><span class="p">,</span> <span class="n">alpha</span><span class="o">=</span><span class="mf">0.5</span><span class="p">)</span>
        <span class="n">ax</span><span class="o">.</span><span class="n">scatter</span><span class="p">(</span><span class="n">X</span><span class="p">[:,</span> <span class="mi">0</span><span class="p">],</span> <span class="n">X</span><span class="p">[:,</span> <span class="mi">1</span><span class="p">],</span> <span class="n">c</span><span class="o">=</span><span class="n">y</span><span class="p">,</span> <span class="n">cmap</span><span class="o">=</span><span class="n">plt</span><span class="o">.</span><span class="n">cm</span><span class="o">.</span><span class="n">RdBu</span><span class="p">)</span>
    <span class="k">else</span><span class="p">:</span>
        <span class="n">plt</span><span class="o">.</span><span class="n">contourf</span><span class="p">(</span><span class="n">xx0</span><span class="p">,</span> <span class="n">xx1</span><span class="p">,</span> <span class="n">z_new</span><span class="p">,</span> <span class="n">cmap</span><span class="o">=</span><span class="n">plt</span><span class="o">.</span><span class="n">cm</span><span class="o">.</span><span class="n">RdBu</span><span class="p">,</span> <span class="n">alpha</span><span class="o">=</span><span class="mf">0.5</span><span class="p">)</span>
        <span class="n">plt</span><span class="o">.</span><span class="n">scatter</span><span class="p">(</span><span class="n">X</span><span class="p">[:,</span> <span class="mi">0</span><span class="p">],</span> <span class="n">X</span><span class="p">[:,</span> <span class="mi">1</span><span class="p">],</span> <span class="n">c</span><span class="o">=</span><span class="n">y</span><span class="p">,</span> <span class="n">cmap</span><span class="o">=</span><span class="n">plt</span><span class="o">.</span><span class="n">cm</span><span class="o">.</span><span class="n">RdBu</span><span class="p">)</span>
</pre></div>

    </div>
  </div>
</div>

</div>
<div class="cell border-box-sizing code_cell rendered">
<div class="input">
<div class="prompt input_prompt">In&nbsp;[34]:</div><div class="inner_cell">
    <div class="input_area">
      <div class=" highlight hl-ipython3"><pre><span></span><span class="n">fig</span><span class="p">,(</span><span class="n">ax1</span><span class="p">,</span><span class="n">ax2</span><span class="p">,</span><span class="n">ax3</span><span class="p">)</span><span class="o">=</span> <span class="n">plt</span><span class="o">.</span><span class="n">subplots</span><span class="p">(</span><span class="mi">1</span><span class="p">,</span><span class="mi">3</span><span class="p">,</span><span class="n">figsize</span><span class="o">=</span><span class="p">(</span><span class="mi">20</span><span class="p">,</span><span class="mi">8</span><span class="p">))</span>
<span class="n">fig</span><span class="o">.</span><span class="n">tight_layout</span>
<span class="n">plot_decision_boundary2</span><span class="p">(</span><span class="n">copy_cl</span><span class="p">,</span><span class="n">EM_cla</span><span class="p">,</span><span class="n">Tl</span><span class="p">,</span><span class="n">ax1</span><span class="p">)</span>
<span class="n">ax1</span><span class="o">.</span><span class="n">set_ylabel</span><span class="p">(</span><span class="sa">r</span><span class="s1">&#39;$|m|$&#39;</span><span class="p">);</span>
<span class="n">ax1</span><span class="o">.</span><span class="n">set_title</span><span class="p">(</span><span class="s2">&quot;25</span><span class="si">% d</span><span class="s2">ecision boundary&quot;</span><span class="p">)</span>

<span class="n">plot_decision_boundary</span><span class="p">(</span><span class="n">copy_cl</span><span class="p">,</span><span class="n">EM_cla</span><span class="p">,</span><span class="n">Tl</span><span class="p">,</span><span class="n">ax2</span><span class="p">)</span>
<span class="n">ax2</span><span class="o">.</span><span class="n">set_xlabel</span><span class="p">(</span><span class="sa">r</span><span class="s1">&#39;$E$&#39;</span><span class="p">)</span>
<span class="n">ax2</span><span class="o">.</span><span class="n">set_title</span><span class="p">(</span><span class="s2">&quot;50</span><span class="si">% d</span><span class="s2">ecision boundary&quot;</span><span class="p">)</span>

<span class="n">plot_decision_boundary3</span><span class="p">(</span><span class="n">copy_cl</span><span class="p">,</span><span class="n">EM_cla</span><span class="p">,</span><span class="n">Tl</span><span class="p">,</span><span class="n">ax3</span><span class="p">)</span>
<span class="n">ax3</span><span class="o">.</span><span class="n">set_title</span><span class="p">(</span><span class="s2">&quot;75</span><span class="si">% d</span><span class="s2">ecision boundary&quot;</span><span class="p">);</span>
</pre></div>

    </div>
  </div>
</div>

<div class="output_wrapper">
<div class="output">


<div class="output_area">

    <div class="prompt"></div>


<div class="output_subarea output_text output_error">
<pre>
<span class="ansi-red-fg">---------------------------------------------------------------------------</span>
<span class="ansi-red-fg">NameError</span>                                 Traceback (most recent call last)
<span class="ansi-green-fg">&lt;ipython-input-34-7d671a072cd6&gt;</span> in <span class="ansi-cyan-fg">&lt;module&gt;</span>
<span class="ansi-green-intense-fg ansi-bold">      1</span> fig<span class="ansi-blue-fg">,</span><span class="ansi-blue-fg">(</span>ax1<span class="ansi-blue-fg">,</span>ax2<span class="ansi-blue-fg">,</span>ax3<span class="ansi-blue-fg">)</span><span class="ansi-blue-fg">=</span> plt<span class="ansi-blue-fg">.</span>subplots<span class="ansi-blue-fg">(</span><span class="ansi-cyan-fg">1</span><span class="ansi-blue-fg">,</span><span class="ansi-cyan-fg">3</span><span class="ansi-blue-fg">,</span>figsize<span class="ansi-blue-fg">=</span><span class="ansi-blue-fg">(</span><span class="ansi-cyan-fg">20</span><span class="ansi-blue-fg">,</span><span class="ansi-cyan-fg">8</span><span class="ansi-blue-fg">)</span><span class="ansi-blue-fg">)</span>
<span class="ansi-green-intense-fg ansi-bold">      2</span> fig<span class="ansi-blue-fg">.</span>tight_layout
<span class="ansi-green-fg">----&gt; 3</span><span class="ansi-red-fg"> </span>plot_decision_boundary2<span class="ansi-blue-fg">(</span>copy_cl<span class="ansi-blue-fg">,</span>EM_cla<span class="ansi-blue-fg">,</span>Tl<span class="ansi-blue-fg">,</span>ax1<span class="ansi-blue-fg">)</span>
<span class="ansi-green-intense-fg ansi-bold">      4</span> ax1<span class="ansi-blue-fg">.</span>set_ylabel<span class="ansi-blue-fg">(</span><span class="ansi-blue-fg">r&#39;$|m|$&#39;</span><span class="ansi-blue-fg">)</span><span class="ansi-blue-fg">;</span>
<span class="ansi-green-intense-fg ansi-bold">      5</span> ax1<span class="ansi-blue-fg">.</span>set_title<span class="ansi-blue-fg">(</span><span class="ansi-blue-fg">&#34;25% decision boundary&#34;</span><span class="ansi-blue-fg">)</span>

<span class="ansi-red-fg">NameError</span>: name &#39;copy_cl&#39; is not defined</pre>
</div>
</div>

<div class="output_area">

    <div class="prompt"></div>




<div class="output_png output_subarea ">
<img src="data:image/png;base64,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
"
>
</div>

</div>

</div>
</div>

</div>
<div class="cell border-box-sizing code_cell rendered">
<div class="input">
<div class="prompt input_prompt">In&nbsp;[&nbsp;]:</div><div class="inner_cell">
    <div class="input_area">
      <div class=" highlight hl-ipython3"><pre><span></span> 
</pre></div>

    </div>
  </div>
</div>

</div>
<div class="cell border-box-sizing code_cell rendered">
<div class="input">
<div class="prompt input_prompt">In&nbsp;[&nbsp;]:</div><div class="inner_cell">
    <div class="input_area">
      <div class=" highlight hl-ipython3"><pre><span></span> 
</pre></div>

    </div>
  </div>
</div>

</div>
<div class="cell border-box-sizing code_cell rendered">
<div class="input">
<div class="prompt input_prompt">In&nbsp;[&nbsp;]:</div><div class="inner_cell">
    <div class="input_area">
      <div class=" highlight hl-ipython3"><pre><span></span> 
</pre></div>

    </div>
  </div>
</div>

</div>
          </div>
        </div>
      </div>
    </div>
  </div>
</body>
</html>
