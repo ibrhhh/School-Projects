{
 "cells": [
  {
   "cell_type": "markdown",
   "metadata": {},
   "source": [
    "## Instructions\n",
    "- See deadline on the course web page\n",
    "- See examination rules on the course web page.\n",
    "- This problem set is performed individually (collaboration is encouraged, but each individual must be able to explain all of his/her hand-in solutions).\n",
    "- The two notebooks for each problem set contain a number of basic and extra problems; you can choose which and how many to work on.\n",
    "- Many problems are automatically graded using `assert` statements. You should check that your code passes these statements without raising an `AssertionError`. Note that there might be additional, hidden tests that must be passed for full credit. In addition, some tasks are either completely manually graded or part-automatic/part-manual.\n",
    "\n",
    "- **Important:** Hand-in is performed through the following actions:\n",
    "  - Make sure to always complete **Task 0** in the header part of the notebook. \n",
    "  - Upload your solution in the form of your edited version of this jupyter notebook via the appropriate module in Canvas.\n",
    "  - The name of the uploaded file **must be the same as the original one**!\n",
    "  \n",
    "  Note that the hand-in might not be automatically graded if you have changed the name of the uploaded file."
   ]
  },
  {
   "cell_type": "markdown",
   "metadata": {},
   "source": [
    "Before you turn this problem in, make sure everything runs as expected. First, **restart the kernel** (in the menubar, select Kernel$\\rightarrow$Restart) and then **run all cells** (in the menubar, select Cell$\\rightarrow$Run All).\n",
    "\n",
    "Your solutions are usually expected where it says `YOUR CODE HERE` or <font color=\"red\">\"PLEASE WRITE YOUR ANSWER HERE\"</font>."
   ]
  },
  {
   "cell_type": "markdown",
   "metadata": {},
   "source": [
    "### Task 0 \n",
    "#### (0 points)\n",
    "Fill your personal details in the dictionary 'student' with the following key/value pairs:\n",
    "- **Lastname**: Your lastname as a string\n",
    "- **Firstname**: Your firstname as a string\n",
    "- **DOB-year**: The year for your date of birth as a four-digit integer\n",
    "- **DOB-month**: The month for your date of birth as an integer (1-12)\n",
    "- **DOB-day**: The year for your date of birth as an integer (1-31)\n",
    "- **CID**: Your Chalmers login ID as a string"
   ]
  },
  {
   "cell_type": "code",
   "execution_count": 46,
   "metadata": {
    "deletable": false,
    "nbgrader": {
     "cell_type": "code",
     "checksum": "e4b41fd8e57932c927ede3a155032c98",
     "grade": false,
     "grade_id": "student_info",
     "locked": false,
     "schema_version": 3,
     "solution": true,
     "task": false
    }
   },
   "outputs": [],
   "source": [
    "student={}\n",
    "# Update the values below. Note the formats.\n",
    "student['Lastname']='Sanogo '  # string\n",
    "student['Firstname']='Ibrahim' # string\n",
    "student['CID']='sanogo'        # string\n",
    "student['DOB-year']=1999        # four-digit integer\n",
    "student['DOB-month']=1           # integer in the range [1, 12]\n",
    "student['DOB-day']=16            # integer in the range [1, 31]\n",
    "\n",
    "# \n",
    "# YOUR CODE HERE\n",
    "# "
   ]
  },
  {
   "cell_type": "code",
   "execution_count": 47,
   "metadata": {
    "deletable": false,
    "editable": false,
    "nbgrader": {
     "cell_type": "code",
     "checksum": "04fad85b593dac43e9a577b7ad0eda92",
     "grade": true,
     "grade_id": "correct_student_info",
     "locked": true,
     "points": 0,
     "schema_version": 3,
     "solution": false,
     "task": false
    }
   },
   "outputs": [],
   "source": [
    "for key in ['Lastname', 'Firstname','CID']:\n",
    "    assert type(student[key]) is str, f'{key} is wrong type.'\n",
    "    assert student[key] not in ['name_here','cid_here'],\\\n",
    "        f'Fill your {key} as a string.'\n",
    "\n",
    "for key in ['DOB-year', 'DOB-month','DOB-day']:\n",
    "    assert type(student[key]) is int, f'{key} is wrong type.'\n",
    "\n",
    "assert (student['DOB-year'] > 1900 and student['DOB-year'] < 2100)\n",
    "assert student['DOB-month'] in range(1,13), \\\n",
    "    'DOB month should be an integer in the range [1, 12]'\n",
    "assert student['DOB-day'] in range(1,32), \\\n",
    "    'DOB day should be an integer in the range [1, 31]'"
   ]
  },
  {
   "cell_type": "markdown",
   "metadata": {},
   "source": [
    "# Problem Set 1\n",
    "## Extra problems\n",
    "### Learning from data [TIF285], Chalmers, Fall 2020\n",
    "\n",
    "Last revised: 29-Aug-2020 by Christian Forssén [christian.forssen@chalmers.se]"
   ]
  },
  {
   "cell_type": "markdown",
   "metadata": {
    "deletable": false,
    "editable": false,
    "nbgrader": {
     "cell_type": "markdown",
     "checksum": "a4c7b4552738861df6f5d4fa8b4f4d99",
     "grade": false,
     "grade_id": "cell-e9ba4d595f058265",
     "locked": true,
     "schema_version": 3,
     "solution": false,
     "task": false
    }
   },
   "source": [
    "## Instructions\n",
    "- See deadline on the course web page\n",
    "- This problem set is performed individually (but collaboration is encouraged).\n",
    "- The two notebooks for each problem set contain a number of basic and extra problems; you can choose which and how many to work on.\n",
    "- See examination rules on the course web page.\n",
    "- Hand-in is performed through the following action:\n",
    "  - Make sure to always complete **Task 0** in the *\"Basic problems\" notebook. This corresponds to providing your personal details and is needed for examination.\n",
    "  - Upload your solution in the form of your edited version of this jupyter notebook via Canvas.\n",
    "  - The name of the uploaded file **must be the same as the original one**!\n",
    "  \n",
    "  Note that the hand-in might not be automatically graded if you have changed the name of the uploaded file."
   ]
  },
  {
   "cell_type": "code",
   "execution_count": 53,
   "metadata": {
    "deletable": false,
    "nbgrader": {
     "cell_type": "code",
     "checksum": "61603b6b71f80b2617bf90aaffea2bf6",
     "grade": false,
     "grade_id": "cell-30c16b2db381306f",
     "locked": false,
     "schema_version": 3,
     "solution": true,
     "task": false
    }
   },
   "outputs": [],
   "source": [
    "# import modules\n",
    "\n",
    "import numpy as np\n",
    "import matplotlib.pyplot as plt\n",
    "import pandas as pd\n",
    "import emcee as emcee\n",
    "import scipy as scipy\n",
    "import sklearn\n",
    "from mpl_toolkits import mplot3d\n",
    "from mpl_toolkits.mplot3d import axes3d\n",
    "# "
   ]
  },
  {
   "cell_type": "markdown",
   "metadata": {},
   "source": [
    "## Problem 5 (extra)\n",
    "### (3 points)"
   ]
  },
  {
   "cell_type": "markdown",
   "metadata": {},
   "source": [
    "#### Reload the third dataset from Problem 3"
   ]
  },
  {
   "cell_type": "code",
   "execution_count": 54,
   "metadata": {
    "deletable": false,
    "editable": false,
    "nbgrader": {
     "cell_type": "code",
     "checksum": "b65699b26dc4d055770c8991d25a9d6e",
     "grade": false,
     "grade_id": "cell-9bbcc6d8d2e07690",
     "locked": true,
     "schema_version": 3,
     "solution": false,
     "task": false
    }
   },
   "outputs": [],
   "source": [
    "datafile = 'DataFiles/dataset3.dat'\n",
    "X, y = np.loadtxt(datafile, unpack=True)\n",
    "m = len(X)\n",
    "X = X.reshape(m,1); y = y.reshape(m,1)"
   ]
  },
  {
   "cell_type": "markdown",
   "metadata": {
    "deletable": false,
    "editable": false,
    "nbgrader": {
     "cell_type": "markdown",
     "checksum": "140a7fa9e51097457fda1e6e50a2cc1e",
     "grade": false,
     "grade_id": "cell-10862146b5aeebc1",
     "locked": true,
     "points": 3,
     "schema_version": 3,
     "solution": false,
     "task": true
    }
   },
   "source": [
    "#### Validation curves\n",
    "Create a validation curve for the polynomial model (for different degrees) where you plot the training score and the validation score as a function of the model complexity. \n",
    "- The model complexity is simply the degree of the polynomial.\n",
    "- For the computation of training and validation scores you are encouraged to use cross-validation which is more stable than the use of a single, random pair of training and validation sets.\n",
    "\n",
    "Question to ponder:\n",
    "- From this curve: Which order polynomial do you think was used when generating the data?\n",
    "\n",
    "*Hint:* `scikit-learn` has a function `validation_curve` that might be useful. However, it is certainly instructive to implement the calculation of learning curves yourself."
   ]
  },
  {
   "cell_type": "code",
   "execution_count": 55,
   "metadata": {
    "deletable": false,
    "nbgrader": {
     "cell_type": "code",
     "checksum": "5b7143d6e8baebac5a8c177116fabbfe",
     "grade": false,
     "grade_id": "cell-4c0faa3d3a1db40e",
     "locked": false,
     "schema_version": 3,
     "solution": true,
     "task": false
    }
   },
   "outputs": [
    {
     "name": "stdout",
     "output_type": "stream",
     "text": [
      "Degree 1 , Neg MSE =  -7.273776794145496\n",
      "Degree 2 , Neg MSE =  -4.6614699171787395\n",
      "Degree 3 , Neg MSE =  -3.635512834701147\n",
      "Degree 4 , Neg MSE =  -3.8191328069074295\n",
      "Degree 5 , Neg MSE =  -3.930510013987045\n",
      "Degree 6 , Neg MSE =  -4.0499815924575575\n",
      "Degree 7 , Neg MSE =  -4.107253018913016\n",
      "Degree 8 , Neg MSE =  -4.278538780132526\n",
      "Degree 9 , Neg MSE =  -4.374484322255216\n",
      "Degree 10 , Neg MSE =  -4.674407822731726\n",
      "Degree 11 , Neg MSE =  -4.69601504833058\n",
      "Degree 12 , Neg MSE =  -5.923085771913827\n",
      "Degree 13 , Neg MSE =  -6.281939603951367\n",
      "Degree 14 , Neg MSE =  -7.22693858428895\n",
      "Degree 15 , Neg MSE =  -7.053849931271516\n",
      "Degree 16 , Neg MSE =  -6.2308900286553595\n",
      "Degree 17 , Neg MSE =  -9.813701790994063\n",
      "Degree 18 , Neg MSE =  -21.1358939764222\n",
      "Degree 19 , Neg MSE =  -45.84711427443535\n",
      "Degree 20 , Neg MSE =  -9.288858637956457\n"
     ]
    },
    {
     "data": {
      "text/plain": [
       "Text(0, 0.5, 'MSE')"
      ]
     },
     "execution_count": 55,
     "metadata": {},
     "output_type": "execute_result"
    },
    {
     "data": {
      "image/png": "[encoded data removed]",
      "text/plain": [
       "<Figure size 1008x576 with 2 Axes>"
      ]
     },
     "metadata": {
      "needs_background": "light"
     },
     "output_type": "display_data"
    },
    {
     "data": {
      "image/png": "[encoded data removed]",
      "text/plain": [
       "<Figure size 432x288 with 1 Axes>"
      ]
     },
     "metadata": {
      "needs_background": "light"
     },
     "output_type": "display_data"
    }
   ],
   "source": [
    "from sklearn.model_selection import cross_val_score\n",
    "from sklearn import datasets, linear_model\n",
    "from sklearn.preprocessing import PolynomialFeatures\n",
    "from sklearn.model_selection import validation_curve\n",
    "from sklearn.metrics import mean_squared_error\n",
    "from sklearn.model_selection import train_test_split\n",
    "from sklearn.pipeline import Pipeline\n",
    "from sklearn.linear_model import LinearRegression\n",
    "from sklearn.preprocessing import PolynomialFeatures\n",
    "from sklearn.preprocessing import StandardScaler\n",
    "from sklearn.pipeline import Pipeline\n",
    "import operator\n",
    "\n",
    "\n",
    "def plot_learning_curves(model, x, y, ax=None):\n",
    "\n",
    "    x_train, x_val, y_train, y_val = train_test_split(x, y, train_size=0.7, random_state=42)\n",
    "    \n",
    "    \n",
    "    train_errors, val_errors = [], []\n",
    "    for m in range(1, len(x_train)):\n",
    "        model.fit(x_train[:m], y_train[:m])\n",
    "        y_train_predict = model.predict(x_train[:m])\n",
    "        y_val_predict = model.predict(x_val)\n",
    "        train_errors.append(mean_squared_error(y_train[:m], y_train_predict))\n",
    "        val_errors.append(mean_squared_error(y_val, y_val_predict))\n",
    "        \n",
    "    if not ax:\n",
    "        fig,ax = plt.subplots(1,1)\n",
    "    ax.plot(np.sqrt(train_errors), \"r-+\", label=\"train\")\n",
    "    ax.plot(np.sqrt(val_errors), \"b-\", label=\"validation\")\n",
    "    ax.legend(loc=\"best\")\n",
    "    ax.set_xlabel(\"Training set size\")\n",
    "    ax.set_ylabel(\"MSE\")\n",
    "\n",
    "ig,axs = plt.subplots(1,2,figsize=(14,8))\n",
    "\n",
    "for i,degree in enumerate((3,30)):\n",
    "    ax = axs[i]\n",
    "    polynomial_regression = Pipeline([\n",
    "        (\"poly_features\", PolynomialFeatures(degree=degree, include_bias=False)),\n",
    "        (\"lin_reg\", LinearRegression()),\n",
    "    ])\n",
    "\n",
    "    plot_learning_curves(polynomial_regression, X, y, ax=ax)\n",
    "    ax.set_title(f'Learning curve; order: {degree}')\n",
    "    ax.set_ylim([0,4]);\n",
    "\n",
    "Z=[]\n",
    "\n",
    "#Here I also tried to get the neg MSE with the cross val_score \n",
    "def design_matrix (X, degree):\n",
    "   \n",
    "    m = len(X)\n",
    "    X_d = np.ones(X.shape)\n",
    "    for i in range(1, degree+1):\n",
    "        X_d = np.concatenate((X_d,X**i),axis=1)\n",
    "    return X_d\n",
    "i = 0 \n",
    "\n",
    "\n",
    "for i in range(1,21):\n",
    "    regr = linear_model.LinearRegression()\n",
    "    print(\"Degree\",i, \", Neg MSE = \", np.mean(cross_val_score(regr,design_matrix(X, degree=i), y, cv=5, scoring='neg_mean_squared_error')))\n",
    "    Z.append(np.mean(cross_val_score(regr,design_matrix(X, degree=i), y, cv=5, scoring='neg_mean_squared_error')))\n",
    "plt.figure(2)\n",
    "plt.plot(Z)\n",
    "plt.xlabel(\"Polynomial Degree\")\n",
    "plt.ylabel(\"MSE\")\n",
    "        \n",
    "        \n",
    "#The polynomial used to generate these datas seems to be a degree 3 polynomial "
   ]
  },
  {
   "cell_type": "markdown",
   "metadata": {},
   "source": [
    "## Problem 6 (extra)\n",
    "### (3 points)"
   ]
  },
  {
   "cell_type": "markdown",
   "metadata": {},
   "source": [
    "### Gradient descent methods"
   ]
  },
  {
   "cell_type": "markdown",
   "metadata": {},
   "source": [
    "#### Generate noisy data with a quadratic feature\n",
    "This is the same data as in Problem 2."
   ]
  },
  {
   "cell_type": "code",
   "execution_count": 56,
   "metadata": {
    "deletable": false,
    "editable": false,
    "nbgrader": {
     "cell_type": "code",
     "checksum": "cb7265483537dcbaa3c3f92107e8e2a8",
     "grade": false,
     "grade_id": "cell-b8c83bd1b3a4a7e0",
     "locked": true,
     "schema_version": 3,
     "solution": false,
     "task": false
    }
   },
   "outputs": [],
   "source": [
    "# Generate noisy data with a quadratic feature\n",
    "# use the following code:\n",
    "np.random.seed(42)\n",
    "\n",
    "# X are picked uniform random [0,2]\n",
    "X = 2 * np.random.rand(100, 1)\n",
    "# Linear relation to the predicted value, but with Gaussian noise (mean=0, variance=1)\n",
    "y = 0.5 * X**2 + X + 2 + 0.2 * np.random.randn(100, 1)"
   ]
  },
  {
   "cell_type": "markdown",
   "metadata": {},
   "source": [
    "#### (a) Batch and stochastic gradient descent\n",
    "Implement both batch and stochastic gradient descent and use these methods to find the best fit parameters of a quadratic model.\n",
    "- You might want to tune the learning hyperparameter $\\eta$.\n",
    "- Do 50 epochs for the SGD (each epoch corresponding to using all instances of data once)\n",
    "- Compare with the solution from Problem 2."
   ]
  },
  {
   "cell_type": "code",
   "execution_count": 57,
   "metadata": {
    "deletable": false,
    "nbgrader": {
     "cell_type": "code",
     "checksum": "2b85105dadfb07f823fc99b3a9a026a9",
     "grade": false,
     "grade_id": "bgd",
     "locked": false,
     "schema_version": 3,
     "solution": true,
     "task": false
    }
   },
   "outputs": [
    {
     "name": "stdout",
     "output_type": "stream",
     "text": [
      "Bath Gradient Descent =  [2.11145546 0.73013319 0.61507503]\n"
     ]
    }
   ],
   "source": [
    "# Implement BGD and use it to find the best-fit parameters\n",
    "#\n",
    "# At the end, the following array should contain the \n",
    "# best-fit parameters: \n",
    "# theta_0 (constant term), theta_1 (linear), theta_2 (quadratic)\n",
    "\n",
    "def design_matrix (X, degree=2):\n",
    "   \n",
    "    m = len(X)\n",
    "    X_d = np.ones(X.shape)\n",
    "    for i in range(1, degree+1):\n",
    "        X_d = np.concatenate((X_d,X**i),axis=1)\n",
    "    return X_d\n",
    "i = 0 \n",
    "\n",
    "X_d = design_matrix(X,degree=2)\n",
    "#X_d = np.c_[np.ones((m, 1)), X] \n",
    "\n",
    "\n",
    "theta_bgd = [] # Note the order\n",
    "eta = 0.1\n",
    "n_iter =2000\n",
    "m=len(X)\n",
    "theta_bgd_vector=[]\n",
    "theta = np.random.randn(3,1)\n",
    "for  i in range(n_iter):\n",
    "    gradients = 2/m * X_d.T.dot(X_d.dot(theta) - y)\n",
    "    theta_bgd_vector.append(theta)\n",
    "    theta = theta - eta * gradients\n",
    "\n",
    "\n",
    "theta_bgd = theta.flatten()\n",
    "print('Bath Gradient Descent = ' , theta_bgd)\n",
    "\n",
    "# \n",
    "# YOUR CODE HERE\n",
    "# "
   ]
  },
  {
   "cell_type": "code",
   "execution_count": 58,
   "metadata": {
    "deletable": false,
    "nbgrader": {
     "cell_type": "code",
     "checksum": "73ad5295fd60570971e6e54eed2ead47",
     "grade": false,
     "grade_id": "sgd",
     "locked": false,
     "schema_version": 3,
     "solution": true,
     "task": false
    }
   },
   "outputs": [
    {
     "name": "stdout",
     "output_type": "stream",
     "text": [
      "Stochastic Gradient Descent = [2.05293427 0.85178167 0.5309271 ]\n",
      "Bath Gradient Descent =  [2.11145546 0.73013319 0.61507503]\n"
     ]
    }
   ],
   "source": [
    "# Implement SGD and use it to find the best-fit parameters\n",
    "#\n",
    "# At the end, the following array should contain the \n",
    "# best-fit parameters: \n",
    "# theta_0 (constant term), theta_1 (linear), theta_2 (quadratic)\n",
    "\n",
    "def design_matrix (X, degree=2):\n",
    "    m = len(X)\n",
    "    X_d = np.ones(X.shape)\n",
    "    for i in range(1, degree+1):\n",
    "        X_d = np.concatenate((X_d,X**i),axis=1)\n",
    "    return X_d\n",
    "i = 0 \n",
    "\n",
    "\n",
    "m=len(X)\n",
    "eta = 0.5\n",
    "X_d = design_matrix(X,degree=2)\n",
    "theta_sgd = np.array([0., 0., 0.])\n",
    "theta_sgd=theta_sgd.reshape(-1,1)\n",
    "epoch = 50\n",
    "theta_sgd_vector= []\n",
    "for i in range (epoch): \n",
    "    for j in range (m):\n",
    "        rd_index= np.random.randint(m)\n",
    "        X_d2 = X_d[rd_index:rd_index+1]\n",
    "        y2 = y[rd_index:rd_index+1]\n",
    "        grad=2/m *X_d2.T.dot(X_d2.dot(theta_sgd)-y2)\n",
    "        theta_sgd= theta_sgd-eta*grad\n",
    "    theta_sgd_vector.append(theta_sgd)\n",
    "theta_sgd=theta_sgd.flatten()\n",
    "print('Stochastic Gradient Descent =',theta_sgd)\n",
    "print('Bath Gradient Descent = ' , theta_bgd)\n",
    "\n"
   ]
  },
  {
   "cell_type": "code",
   "execution_count": 59,
   "metadata": {
    "deletable": false,
    "editable": false,
    "nbgrader": {
     "cell_type": "code",
     "checksum": "4a38011e6c5704f73db630e9697d2be8",
     "grade": true,
     "grade_id": "correct_bgd_sgd",
     "locked": true,
     "points": 1,
     "schema_version": 3,
     "solution": false,
     "task": false
    }
   },
   "outputs": [],
   "source": [
    "assert theta_bgd.shape ==(3,)\n",
    "assert not (theta_bgd==0).any()\n",
    "assert theta_sgd.shape ==(3,)\n",
    "assert not (theta_sgd==0).any()\n"
   ]
  },
  {
   "cell_type": "markdown",
   "metadata": {},
   "source": [
    "#### (b) Mini-batch gradient descent\n",
    "Implement mini-batch gradient descent and use this method to find the best fit parameters. Details:\n",
    "- use a mini-batch size of 20%\n",
    "- apply a similar learning schedule as in the SGD example (you might have to tune the learning hyperprameters)\n",
    "- perform 50 epochs \n",
    "- hint: the `numpy.random.permutation` function might be useful for creating the mini-batches. \n",
    "- Compare with the solutions from BGD and SGD."
   ]
  },
  {
   "cell_type": "code",
   "execution_count": 60,
   "metadata": {
    "deletable": false,
    "nbgrader": {
     "cell_type": "code",
     "checksum": "4667146537d278884f9a92df74d7fd65",
     "grade": false,
     "grade_id": "mbgd",
     "locked": false,
     "schema_version": 3,
     "solution": true,
     "task": false
    }
   },
   "outputs": [
    {
     "name": "stdout",
     "output_type": "stream",
     "text": [
      "(3, 1)\n",
      "Mini-batch gradient descent =  [2.05783813 0.88300749 0.541736  ]\n"
     ]
    }
   ],
   "source": [
    "# Implement MBGD and use it to find the best-fit parameters\n",
    "#\n",
    "# At the end, the following array should contain the \n",
    "# best-fit parameters: \n",
    "# theta_0 (constant term), theta_1 (linear), theta_2 (quadratic)\n",
    " # Note the order\n",
    "def design_matrix (X, degree=2):\n",
    "    m = len(X)\n",
    "    X_d = np.ones(X.shape)\n",
    "    for i in range(1, degree+1):\n",
    "        X_d = np.concatenate((X_d,X**i),axis=1)\n",
    "    return X_d\n",
    "i = 0 \n",
    "\n",
    "X_dF = design_matrix(X)\n",
    "\n",
    "theta_mbgd_vector= []\n",
    "def calculEta(epoch):\n",
    "    return 5/(50+epoch)\n",
    "\n",
    "def MBG(X,y,theta_mbgd,size=0.2):\n",
    "    m=len(X)\n",
    "    epoch = 50\n",
    "    mini=np.arange(0,m,size*m)\n",
    "\n",
    "    for i in range(epoch):\n",
    "        Rand_index=np.random.permutation(mini)\n",
    "        eta=calculEta(epoch)\n",
    "        for j in range (len(Rand_index)):\n",
    "            rd_index=int(Rand_index[j])\n",
    "            X_d2 = X_d[rd_index:rd_index+20]\n",
    "            y2 = y[rd_index:rd_index+20]\n",
    "            k= len(X_d2)\n",
    "            grad=2/k*X_d2.T.dot(X_d2.dot(theta_mbgd)-y2)\n",
    "            theta_mbgd= theta_mbgd-eta*grad\n",
    "    theta_mbgd_vector.append(theta_mbgd)\n",
    "    \n",
    "    return theta_mbgd\n",
    "            \n",
    "theta_mbgd = np.array([0., 0., 0.])\n",
    "theta_mbgd=theta_mbgd.reshape((-1,1))\n",
    "print(theta_mbgd.shape)\n",
    "theta_mbgd = MBG(X_dF,y,theta_mbgd,size=0.2)\n",
    "theta_mbgd=theta_mbgd.flatten()\n",
    "print('Mini-batch gradient descent = ', theta_mbgd)\n",
    "# \n",
    "# YOUR CODE HERE\n",
    "# "
   ]
  },
  {
   "cell_type": "code",
   "execution_count": 39,
   "metadata": {
    "deletable": false,
    "editable": false,
    "nbgrader": {
     "cell_type": "code",
     "checksum": "5a209cb54e036d557dbf5558f08a836a",
     "grade": true,
     "grade_id": "correct_mbgd",
     "locked": true,
     "points": 1,
     "schema_version": 3,
     "solution": false,
     "task": false
    }
   },
   "outputs": [],
   "source": [
    "assert theta_mbgd.shape ==(3,)\n",
    "assert not (theta_mbgd==0).any()\n"
   ]
  },
  {
   "cell_type": "markdown",
   "metadata": {
    "deletable": false,
    "editable": false,
    "nbgrader": {
     "cell_type": "markdown",
     "checksum": "327eaecc1fc20d868526cf08dbcea29f",
     "grade": false,
     "grade_id": "gd_convergence",
     "locked": true,
     "points": 1,
     "schema_version": 3,
     "solution": false,
     "task": true
    }
   },
   "source": [
    "#### (c) Convergence\n",
    "Compare the convergence pattern for the BGD, SGD and MGD, i.e. plot the path towards the optimal set of parameters. \n",
    "- Note that the path is in 3D (since there are three parameters in our quadratic model). You can plot 2D projections of the path."
   ]
  },
  {
   "cell_type": "code",
   "execution_count": 45,
   "metadata": {
    "deletable": false,
    "nbgrader": {
     "cell_type": "code",
     "checksum": "0e0efe08e3dcb155147df8c8fe84fede",
     "grade": false,
     "grade_id": "cell-a0ed6a6e81042c13",
     "locked": false,
     "schema_version": 3,
     "solution": true,
     "task": false
    }
   },
   "outputs": [
    {
     "ename": "AttributeError",
     "evalue": "'list' object has no attribute 'reshape2'",
     "output_type": "error",
     "traceback": [
      "\u001b[1;31m---------------------------------------------------------------------------\u001b[0m",
      "\u001b[1;31mAttributeError\u001b[0m                            Traceback (most recent call last)",
      "\u001b[1;32m<ipython-input-45-f130831afca6>\u001b[0m in \u001b[0;36m<module>\u001b[1;34m\u001b[0m\n\u001b[0;32m      6\u001b[0m \u001b[0ma\u001b[0m\u001b[1;33m=\u001b[0m\u001b[0mlen\u001b[0m\u001b[1;33m(\u001b[0m\u001b[0mtheta_mbgd_vector2\u001b[0m\u001b[1;33m)\u001b[0m\u001b[1;33m\u001b[0m\u001b[1;33m\u001b[0m\u001b[0m\n\u001b[0;32m      7\u001b[0m \u001b[0mb\u001b[0m\u001b[1;33m=\u001b[0m\u001b[0ma\u001b[0m\u001b[1;33m/\u001b[0m\u001b[1;36m3\u001b[0m\u001b[1;33m\u001b[0m\u001b[1;33m\u001b[0m\u001b[0m\n\u001b[1;32m----> 8\u001b[1;33m \u001b[0mtheta_mbgd_vector2\u001b[0m\u001b[1;33m=\u001b[0m\u001b[0mtheta_mbgd_vector\u001b[0m\u001b[1;33m.\u001b[0m\u001b[0mreshape2\u001b[0m\u001b[1;33m(\u001b[0m\u001b[0mb\u001b[0m\u001b[1;33m,\u001b[0m\u001b[1;36m3\u001b[0m\u001b[1;33m)\u001b[0m\u001b[1;33m\u001b[0m\u001b[1;33m\u001b[0m\u001b[0m\n\u001b[0m\u001b[0;32m      9\u001b[0m \u001b[0max\u001b[0m\u001b[1;33m.\u001b[0m\u001b[0mplot\u001b[0m\u001b[1;33m(\u001b[0m\u001b[0mtheta_bgd_vector2\u001b[0m\u001b[1;33m[\u001b[0m\u001b[1;33m:\u001b[0m\u001b[1;33m,\u001b[0m\u001b[1;36m0\u001b[0m\u001b[1;33m]\u001b[0m\u001b[1;33m,\u001b[0m\u001b[0mtheta_bgd_vector2\u001b[0m\u001b[1;33m[\u001b[0m\u001b[1;33m:\u001b[0m\u001b[1;33m,\u001b[0m\u001b[1;36m1\u001b[0m\u001b[1;33m]\u001b[0m\u001b[1;33m,\u001b[0m\u001b[0mtheta_bgd_vector2\u001b[0m\u001b[1;33m[\u001b[0m\u001b[1;33m:\u001b[0m\u001b[1;33m,\u001b[0m\u001b[1;36m2\u001b[0m\u001b[1;33m]\u001b[0m\u001b[1;33m)\u001b[0m\u001b[1;33m\u001b[0m\u001b[1;33m\u001b[0m\u001b[0m\n\u001b[0;32m     10\u001b[0m \u001b[0max\u001b[0m\u001b[1;33m.\u001b[0m\u001b[0mplot\u001b[0m\u001b[1;33m(\u001b[0m\u001b[0mtheta_sgd_vector2\u001b[0m\u001b[1;33m[\u001b[0m\u001b[1;33m:\u001b[0m\u001b[1;33m,\u001b[0m\u001b[1;36m0\u001b[0m\u001b[1;33m]\u001b[0m\u001b[1;33m,\u001b[0m\u001b[0mtheta_sgd_vector2\u001b[0m\u001b[1;33m[\u001b[0m\u001b[1;33m:\u001b[0m\u001b[1;33m,\u001b[0m\u001b[1;36m1\u001b[0m\u001b[1;33m]\u001b[0m\u001b[1;33m,\u001b[0m\u001b[0mtheta_sgd_vector2\u001b[0m\u001b[1;33m[\u001b[0m\u001b[1;33m:\u001b[0m\u001b[1;33m,\u001b[0m\u001b[1;36m2\u001b[0m\u001b[1;33m]\u001b[0m\u001b[1;33m)\u001b[0m\u001b[1;33m\u001b[0m\u001b[1;33m\u001b[0m\u001b[0m\n",
      "\u001b[1;31mAttributeError\u001b[0m: 'list' object has no attribute 'reshape2'"
     ]
    },
    {
     "data": {
      "image/png": "[encoded data removed]",
      "text/plain": [
       "<Figure size 432x288 with 1 Axes>"
      ]
     },
     "metadata": {
      "needs_background": "light"
     },
     "output_type": "display_data"
    }
   ],
   "source": []
  },
  {
   "cell_type": "code",
   "execution_count": null,
   "metadata": {},
   "outputs": [],
   "source": []
  }
 ],
 "metadata": {
  "kernelspec": {
   "display_name": "Python 3",
   "language": "python",
   "name": "python3"
  },
  "language_info": {
   "codemirror_mode": {
    "name": "ipython",
    "version": 3
   },
   "file_extension": ".py",
   "mimetype": "text/x-python",
   "name": "python",
   "nbconvert_exporter": "python",
   "pygments_lexer": "ipython3",
   "version": "3.8.3"
  },
  "nav_menu": {},
  "toc": {
   "navigate_menu": true,
   "number_sections": true,
   "sideBar": true,
   "threshold": 6,
   "toc_cell": false,
   "toc_section_display": "block",
   "toc_window_display": false
  }
 },
 "nbformat": 4,
 "nbformat_minor": 1
}
