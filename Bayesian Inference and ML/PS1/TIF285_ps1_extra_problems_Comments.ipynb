<!DOCTYPE html>
<html>
<head>

<meta charset="utf-8" />
<title>TIF285_ps1_extra_problems</title>

<style type="text/css">
    /*!
*
* Twitter Bootstrap
*
*/
/*!
 * Bootstrap v3.3.7 (http://getbootstrap.com)
 * Copyright 2011-2016 Twitter, Inc.
 * Licensed under MIT (https://github.com/twbs/bootstrap/blob/master/LICENSE)
 */
/*! normalize.css v3.0.3 | MIT License | github.com/necolas/normalize.css */
html {
  font-family: sans-serif;
  -ms-text-size-adjust: 100%;
  -webkit-text-size-adjust: 100%;
}
body {
  margin: 0;
}
article,
aside,
details,
figcaption,
figure,
footer,
header,
hgroup,
main,
menu,
nav,
section,
summary {
  display: block;
}
audio,
canvas,
progress,
video {
  display: inline-block;
  vertical-align: baseline;
}
audio:not([controls]) {
  display: none;
  height: 0;
}
[hidden],
template {
  display: none;
}
a {
  background-color: transparent;
}
a:active,
a:hover {
  outline: 0;
}
abbr[title] {
  border-bottom: 1px dotted;
}
b,
strong {
  font-weight: bold;
}
dfn {
  font-style: italic;
}
h1 {
  font-size: 2em;
  margin: 0.67em 0;
}
mark {
  background: #ff0;
  color: #000;
}
small {
  font-size: 80%;
}
sub,
sup {
  font-size: 75%;
  line-height: 0;
  position: relative;
  vertical-align: baseline;
}
sup {
  top: -0.5em;
}
sub {
  bottom: -0.25em;
}
img {
  border: 0;
}
svg:not(:root) {
  overflow: hidden;
}
figure {
  margin: 1em 40px;
}
hr {
  box-sizing: content-box;
  height: 0;
}
pre {
  overflow: auto;
}
code,
kbd,
pre,
samp {
  font-family: monospace, monospace;
  font-size: 1em;
}
button,
input,
optgroup,
select,
textarea {
  color: inherit;
  font: inherit;
  margin: 0;
}
button {
  overflow: visible;
}
button,
select {
  text-transform: none;
}
button,
html input[type="button"],
input[type="reset"],
input[type="submit"] {
  -webkit-appearance: button;
  cursor: pointer;
}
button[disabled],
html input[disabled] {
  cursor: default;
}
button::-moz-focus-inner,
input::-moz-focus-inner {
  border: 0;
  padding: 0;
}
input {
  line-height: normal;
}
input[type="checkbox"],
input[type="radio"] {
  box-sizing: border-box;
  padding: 0;
}
input[type="number"]::-webkit-inner-spin-button,
input[type="number"]::-webkit-outer-spin-button {
  height: auto;
}
input[type="search"] {
  -webkit-appearance: textfield;
  box-sizing: content-box;
}
input[type="search"]::-webkit-search-cancel-button,
input[type="search"]::-webkit-search-decoration {
  -webkit-appearance: none;
}
fieldset {
  border: 1px solid #c0c0c0;
  margin: 0 2px;
  padding: 0.35em 0.625em 0.75em;
}
legend {
  border: 0;
  padding: 0;
}
textarea {
  overflow: auto;
}
optgroup {
  font-weight: bold;
}
table {
  border-collapse: collapse;
  border-spacing: 0;
}
td,
th {
  padding: 0;
}
/*! Source: https://github.com/h5bp/html5-boilerplate/blob/master/src/css/main.css */
@media print {
  *,
  *:before,
  *:after {
    background: transparent !important;
    box-shadow: none !important;
    text-shadow: none !important;
  }
  a,
  a:visited {
    text-decoration: underline;
  }
  a[href]:after {
    content: " (" attr(href) ")";
  }
  abbr[title]:after {
    content: " (" attr(title) ")";
  }
  a[href^="#"]:after,
  a[href^="javascript:"]:after {
    content: "";
  }
  pre,
  blockquote {
    border: 1px solid #999;
    page-break-inside: avoid;
  }
  thead {
    display: table-header-group;
  }
  tr,
  img {
    page-break-inside: avoid;
  }
  img {
    max-width: 100% !important;
  }
  p,
  h2,
  h3 {
    orphans: 3;
    widows: 3;
  }
  h2,
  h3 {
    page-break-after: avoid;
  }
  .navbar {
    display: none;
  }
  .btn > .caret,
  .dropup > .btn > .caret {
    border-top-color: #000 !important;
  }
  .label {
    border: 1px solid #000;
  }
  .table {
    border-collapse: collapse !important;
  }
  .table td,
  .table th {
    background-color: #fff !important;
  }
  .table-bordered th,
  .table-bordered td {
    border: 1px solid #ddd !important;
  }
}
@font-face {
  font-family: 'Glyphicons Halflings';
  src: url('../components/bootstrap/fonts/glyphicons-halflings-regular.eot');
  src: url('../components/bootstrap/fonts/glyphicons-halflings-regular.eot?#iefix') format('embedded-opentype'), url('../components/bootstrap/fonts/glyphicons-halflings-regular.woff2') format('woff2'), url('../components/bootstrap/fonts/glyphicons-halflings-regular.woff') format('woff'), url('../components/bootstrap/fonts/glyphicons-halflings-regular.ttf') format('truetype'), url('../components/bootstrap/fonts/glyphicons-halflings-regular.svg#glyphicons_halflingsregular') format('svg');
}
.glyphicon {
  position: relative;
  top: 1px;
  display: inline-block;
  font-family: 'Glyphicons Halflings';
  font-style: normal;
  font-weight: normal;
  line-height: 1;
  -webkit-font-smoothing: antialiased;
  -moz-osx-font-smoothing: grayscale;
}
.glyphicon-asterisk:before {
  content: "\002a";
}
.glyphicon-plus:before {
  content: "\002b";
}
.glyphicon-euro:before,
.glyphicon-eur:before {
  content: "\20ac";
}
.glyphicon-minus:before {
  content: "\2212";
}
.glyphicon-cloud:before {
  content: "\2601";
}
.glyphicon-envelope:before {
  content: "\2709";
}
.glyphicon-pencil:before {
  content: "\270f";
}
.glyphicon-glass:before {
  content: "\e001";
}
.glyphicon-music:before {
  content: "\e002";
}
.glyphicon-search:before {
  content: "\e003";
}
.glyphicon-heart:before {
  content: "\e005";
}
.glyphicon-star:before {
  content: "\e006";
}
.glyphicon-star-empty:before {
  content: "\e007";
}
.glyphicon-user:before {
  content: "\e008";
}
.glyphicon-film:before {
  content: "\e009";
}
.glyphicon-th-large:before {
  content: "\e010";
}
.glyphicon-th:before {
  content: "\e011";
}
.glyphicon-th-list:before {
  content: "\e012";
}
.glyphicon-ok:before {
  content: "\e013";
}
.glyphicon-remove:before {
  content: "\e014";
}
.glyphicon-zoom-in:before {
  content: "\e015";
}
.glyphicon-zoom-out:before {
  content: "\e016";
}
.glyphicon-off:before {
  content: "\e017";
}
.glyphicon-signal:before {
  content: "\e018";
}
.glyphicon-cog:before {
  content: "\e019";
}
.glyphicon-trash:before {
  content: "\e020";
}
.glyphicon-home:before {
  content: "\e021";
}
.glyphicon-file:before {
  content: "\e022";
}
.glyphicon-time:before {
  content: "\e023";
}
.glyphicon-road:before {
  content: "\e024";
}
.glyphicon-download-alt:before {
  content: "\e025";
}
.glyphicon-download:before {
  content: "\e026";
}
.glyphicon-upload:before {
  content: "\e027";
}
.glyphicon-inbox:before {
  content: "\e028";
}
.glyphicon-play-circle:before {
  content: "\e029";
}
.glyphicon-repeat:before {
  content: "\e030";
}
.glyphicon-refresh:before {
  content: "\e031";
}
.glyphicon-list-alt:before {
  content: "\e032";
}
.glyphicon-lock:before {
  content: "\e033";
}
.glyphicon-flag:before {
  content: "\e034";
}
.glyphicon-headphones:before {
  content: "\e035";
}
.glyphicon-volume-off:before {
  content: "\e036";
}
.glyphicon-volume-down:before {
  content: "\e037";
}
.glyphicon-volume-up:before {
  content: "\e038";
}
.glyphicon-qrcode:before {
  content: "\e039";
}
.glyphicon-barcode:before {
  content: "\e040";
}
.glyphicon-tag:before {
  content: "\e041";
}
.glyphicon-tags:before {
  content: "\e042";
}
.glyphicon-book:before {
  content: "\e043";
}
.glyphicon-bookmark:before {
  content: "\e044";
}
.glyphicon-print:before {
  content: "\e045";
}
.glyphicon-camera:before {
  content: "\e046";
}
.glyphicon-font:before {
  content: "\e047";
}
.glyphicon-bold:before {
  content: "\e048";
}
.glyphicon-italic:before {
  content: "\e049";
}
.glyphicon-text-height:before {
  content: "\e050";
}
.glyphicon-text-width:before {
  content: "\e051";
}
.glyphicon-align-left:before {
  content: "\e052";
}
.glyphicon-align-center:before {
  content: "\e053";
}
.glyphicon-align-right:before {
  content: "\e054";
}
.glyphicon-align-justify:before {
  content: "\e055";
}
.glyphicon-list:before {
  content: "\e056";
}
.glyphicon-indent-left:before {
  content: "\e057";
}
.glyphicon-indent-right:before {
  content: "\e058";
}
.glyphicon-facetime-video:before {
  content: "\e059";
}
.glyphicon-picture:before {
  content: "\e060";
}
.glyphicon-map-marker:before {
  content: "\e062";
}
.glyphicon-adjust:before {
  content: "\e063";
}
.glyphicon-tint:before {
  content: "\e064";
}
.glyphicon-edit:before {
  content: "\e065";
}
.glyphicon-share:before {
  content: "\e066";
}
.glyphicon-check:before {
  content: "\e067";
}
.glyphicon-move:before {
  content: "\e068";
}
.glyphicon-step-backward:before {
  content: "\e069";
}
.glyphicon-fast-backward:before {
  content: "\e070";
}
.glyphicon-backward:before {
  content: "\e071";
}
.glyphicon-play:before {
  content: "\e072";
}
.glyphicon-pause:before {
  content: "\e073";
}
.glyphicon-stop:before {
  content: "\e074";
}
.glyphicon-forward:before {
  content: "\e075";
}
.glyphicon-fast-forward:before {
  content: "\e076";
}
.glyphicon-step-forward:before {
  content: "\e077";
}
.glyphicon-eject:before {
  content: "\e078";
}
.glyphicon-chevron-left:before {
  content: "\e079";
}
.glyphicon-chevron-right:before {
  content: "\e080";
}
.glyphicon-plus-sign:before {
  content: "\e081";
}
.glyphicon-minus-sign:before {
  content: "\e082";
}
.glyphicon-remove-sign:before {
  content: "\e083";
}
.glyphicon-ok-sign:before {
  content: "\e084";
}
.glyphicon-question-sign:before {
  content: "\e085";
}
.glyphicon-info-sign:before {
  content: "\e086";
}
.glyphicon-screenshot:before {
  content: "\e087";
}
.glyphicon-remove-circle:before {
  content: "\e088";
}
.glyphicon-ok-circle:before {
  content: "\e089";
}
.glyphicon-ban-circle:before {
  content: "\e090";
}
.glyphicon-arrow-left:before {
  content: "\e091";
}
.glyphicon-arrow-right:before {
  content: "\e092";
}
.glyphicon-arrow-up:before {
  content: "\e093";
}
.glyphicon-arrow-down:before {
  content: "\e094";
}
.glyphicon-share-alt:before {
  content: "\e095";
}
.glyphicon-resize-full:before {
  content: "\e096";
}
.glyphicon-resize-small:before {
  content: "\e097";
}
.glyphicon-exclamation-sign:before {
  content: "\e101";
}
.glyphicon-gift:before {
  content: "\e102";
}
.glyphicon-leaf:before {
  content: "\e103";
}
.glyphicon-fire:before {
  content: "\e104";
}
.glyphicon-eye-open:before {
  content: "\e105";
}
.glyphicon-eye-close:before {
  content: "\e106";
}
.glyphicon-warning-sign:before {
  content: "\e107";
}
.glyphicon-plane:before {
  content: "\e108";
}
.glyphicon-calendar:before {
  content: "\e109";
}
.glyphicon-random:before {
  content: "\e110";
}
.glyphicon-comment:before {
  content: "\e111";
}
.glyphicon-magnet:before {
  content: "\e112";
}
.glyphicon-chevron-up:before {
  content: "\e113";
}
.glyphicon-chevron-down:before {
  content: "\e114";
}
.glyphicon-retweet:before {
  content: "\e115";
}
.glyphicon-shopping-cart:before {
  content: "\e116";
}
.glyphicon-folder-close:before {
  content: "\e117";
}
.glyphicon-folder-open:before {
  content: "\e118";
}
.glyphicon-resize-vertical:before {
  content: "\e119";
}
.glyphicon-resize-horizontal:before {
  content: "\e120";
}
.glyphicon-hdd:before {
  content: "\e121";
}
.glyphicon-bullhorn:before {
  content: "\e122";
}
.glyphicon-bell:before {
  content: "\e123";
}
.glyphicon-certificate:before {
  content: "\e124";
}
.glyphicon-thumbs-up:before {
  content: "\e125";
}
.glyphicon-thumbs-down:before {
  content: "\e126";
}
.glyphicon-hand-right:before {
  content: "\e127";
}
.glyphicon-hand-left:before {
  content: "\e128";
}
.glyphicon-hand-up:before {
  content: "\e129";
}
.glyphicon-hand-down:before {
  content: "\e130";
}
.glyphicon-circle-arrow-right:before {
  content: "\e131";
}
.glyphicon-circle-arrow-left:before {
  content: "\e132";
}
.glyphicon-circle-arrow-up:before {
  content: "\e133";
}
.glyphicon-circle-arrow-down:before {
  content: "\e134";
}
.glyphicon-globe:before {
  content: "\e135";
}
.glyphicon-wrench:before {
  content: "\e136";
}
.glyphicon-tasks:before {
  content: "\e137";
}
.glyphicon-filter:before {
  content: "\e138";
}
.glyphicon-briefcase:before {
  content: "\e139";
}
.glyphicon-fullscreen:before {
  content: "\e140";
}
.glyphicon-dashboard:before {
  content: "\e141";
}
.glyphicon-paperclip:before {
  content: "\e142";
}
.glyphicon-heart-empty:before {
  content: "\e143";
}
.glyphicon-link:before {
  content: "\e144";
}
.glyphicon-phone:before {
  content: "\e145";
}
.glyphicon-pushpin:before {
  content: "\e146";
}
.glyphicon-usd:before {
  content: "\e148";
}
.glyphicon-gbp:before {
  content: "\e149";
}
.glyphicon-sort:before {
  content: "\e150";
}
.glyphicon-sort-by-alphabet:before {
  content: "\e151";
}
.glyphicon-sort-by-alphabet-alt:before {
  content: "\e152";
}
.glyphicon-sort-by-order:before {
  content: "\e153";
}
.glyphicon-sort-by-order-alt:before {
  content: "\e154";
}
.glyphicon-sort-by-attributes:before {
  content: "\e155";
}
.glyphicon-sort-by-attributes-alt:before {
  content: "\e156";
}
.glyphicon-unchecked:before {
  content: "\e157";
}
.glyphicon-expand:before {
  content: "\e158";
}
.glyphicon-collapse-down:before {
  content: "\e159";
}
.glyphicon-collapse-up:before {
  content: "\e160";
}
.glyphicon-log-in:before {
  content: "\e161";
}
.glyphicon-flash:before {
  content: "\e162";
}
.glyphicon-log-out:before {
  content: "\e163";
}
.glyphicon-new-window:before {
  content: "\e164";
}
.glyphicon-record:before {
  content: "\e165";
}
.glyphicon-save:before {
  content: "\e166";
}
.glyphicon-open:before {
  content: "\e167";
}
.glyphicon-saved:before {
  content: "\e168";
}
.glyphicon-import:before {
  content: "\e169";
}
.glyphicon-export:before {
  content: "\e170";
}
.glyphicon-send:before {
  content: "\e171";
}
.glyphicon-floppy-disk:before {
  content: "\e172";
}
.glyphicon-floppy-saved:before {
  content: "\e173";
}
.glyphicon-floppy-remove:before {
  content: "\e174";
}
.glyphicon-floppy-save:before {
  content: "\e175";
}
.glyphicon-floppy-open:before {
  content: "\e176";
}
.glyphicon-credit-card:before {
  content: "\e177";
}
.glyphicon-transfer:before {
  content: "\e178";
}
.glyphicon-cutlery:before {
  content: "\e179";
}
.glyphicon-header:before {
  content: "\e180";
}
.glyphicon-compressed:before {
  content: "\e181";
}
.glyphicon-earphone:before {
  content: "\e182";
}
.glyphicon-phone-alt:before {
  content: "\e183";
}
.glyphicon-tower:before {
  content: "\e184";
}
.glyphicon-stats:before {
  content: "\e185";
}
.glyphicon-sd-video:before {
  content: "\e186";
}
.glyphicon-hd-video:before {
  content: "\e187";
}
.glyphicon-subtitles:before {
  content: "\e188";
}
.glyphicon-sound-stereo:before {
  content: "\e189";
}
.glyphicon-sound-dolby:before {
  content: "\e190";
}
.glyphicon-sound-5-1:before {
  content: "\e191";
}
.glyphicon-sound-6-1:before {
  content: "\e192";
}
.glyphicon-sound-7-1:before {
  content: "\e193";
}
.glyphicon-copyright-mark:before {
  content: "\e194";
}
.glyphicon-registration-mark:before {
  content: "\e195";
}
.glyphicon-cloud-download:before {
  content: "\e197";
}
.glyphicon-cloud-upload:before {
  content: "\e198";
}
.glyphicon-tree-conifer:before {
  content: "\e199";
}
.glyphicon-tree-deciduous:before {
  content: "\e200";
}
.glyphicon-cd:before {
  content: "\e201";
}
.glyphicon-save-file:before {
  content: "\e202";
}
.glyphicon-open-file:before {
  content: "\e203";
}
.glyphicon-level-up:before {
  content: "\e204";
}
.glyphicon-copy:before {
  content: "\e205";
}
.glyphicon-paste:before {
  content: "\e206";
}
.glyphicon-alert:before {
  content: "\e209";
}
.glyphicon-equalizer:before {
  content: "\e210";
}
.glyphicon-king:before {
  content: "\e211";
}
.glyphicon-queen:before {
  content: "\e212";
}
.glyphicon-pawn:before {
  content: "\e213";
}
.glyphicon-bishop:before {
  content: "\e214";
}
.glyphicon-knight:before {
  content: "\e215";
}
.glyphicon-baby-formula:before {
  content: "\e216";
}
.glyphicon-tent:before {
  content: "\26fa";
}
.glyphicon-blackboard:before {
  content: "\e218";
}
.glyphicon-bed:before {
  content: "\e219";
}
.glyphicon-apple:before {
  content: "\f8ff";
}
.glyphicon-erase:before {
  content: "\e221";
}
.glyphicon-hourglass:before {
  content: "\231b";
}
.glyphicon-lamp:before {
  content: "\e223";
}
.glyphicon-duplicate:before {
  content: "\e224";
}
.glyphicon-piggy-bank:before {
  content: "\e225";
}
.glyphicon-scissors:before {
  content: "\e226";
}
.glyphicon-bitcoin:before {
  content: "\e227";
}
.glyphicon-btc:before {
  content: "\e227";
}
.glyphicon-xbt:before {
  content: "\e227";
}
.glyphicon-yen:before {
  content: "\00a5";
}
.glyphicon-jpy:before {
  content: "\00a5";
}
.glyphicon-ruble:before {
  content: "\20bd";
}
.glyphicon-rub:before {
  content: "\20bd";
}
.glyphicon-scale:before {
  content: "\e230";
}
.glyphicon-ice-lolly:before {
  content: "\e231";
}
.glyphicon-ice-lolly-tasted:before {
  content: "\e232";
}
.glyphicon-education:before {
  content: "\e233";
}
.glyphicon-option-horizontal:before {
  content: "\e234";
}
.glyphicon-option-vertical:before {
  content: "\e235";
}
.glyphicon-menu-hamburger:before {
  content: "\e236";
}
.glyphicon-modal-window:before {
  content: "\e237";
}
.glyphicon-oil:before {
  content: "\e238";
}
.glyphicon-grain:before {
  content: "\e239";
}
.glyphicon-sunglasses:before {
  content: "\e240";
}
.glyphicon-text-size:before {
  content: "\e241";
}
.glyphicon-text-color:before {
  content: "\e242";
}
.glyphicon-text-background:before {
  content: "\e243";
}
.glyphicon-object-align-top:before {
  content: "\e244";
}
.glyphicon-object-align-bottom:before {
  content: "\e245";
}
.glyphicon-object-align-horizontal:before {
  content: "\e246";
}
.glyphicon-object-align-left:before {
  content: "\e247";
}
.glyphicon-object-align-vertical:before {
  content: "\e248";
}
.glyphicon-object-align-right:before {
  content: "\e249";
}
.glyphicon-triangle-right:before {
  content: "\e250";
}
.glyphicon-triangle-left:before {
  content: "\e251";
}
.glyphicon-triangle-bottom:before {
  content: "\e252";
}
.glyphicon-triangle-top:before {
  content: "\e253";
}
.glyphicon-console:before {
  content: "\e254";
}
.glyphicon-superscript:before {
  content: "\e255";
}
.glyphicon-subscript:before {
  content: "\e256";
}
.glyphicon-menu-left:before {
  content: "\e257";
}
.glyphicon-menu-right:before {
  content: "\e258";
}
.glyphicon-menu-down:before {
  content: "\e259";
}
.glyphicon-menu-up:before {
  content: "\e260";
}
* {
  -webkit-box-sizing: border-box;
  -moz-box-sizing: border-box;
  box-sizing: border-box;
}
*:before,
*:after {
  -webkit-box-sizing: border-box;
  -moz-box-sizing: border-box;
  box-sizing: border-box;
}
html {
  font-size: 10px;
  -webkit-tap-highlight-color: rgba(0, 0, 0, 0);
}
body {
  font-family: "Helvetica Neue", Helvetica, Arial, sans-serif;
  font-size: 13px;
  line-height: 1.42857143;
  color: #000;
  background-color: #fff;
}
input,
button,
select,
textarea {
  font-family: inherit;
  font-size: inherit;
  line-height: inherit;
}
a {
  color: #337ab7;
  text-decoration: none;
}
a:hover,
a:focus {
  color: #23527c;
  text-decoration: underline;
}
a:focus {
  outline: 5px auto -webkit-focus-ring-color;
  outline-offset: -2px;
}
figure {
  margin: 0;
}
img {
  vertical-align: middle;
}
.img-responsive,
.thumbnail > img,
.thumbnail a > img,
.carousel-inner > .item > img,
.carousel-inner > .item > a > img {
  display: block;
  max-width: 100%;
  height: auto;
}
.img-rounded {
  border-radius: 3px;
}
.img-thumbnail {
  padding: 4px;
  line-height: 1.42857143;
  background-color: #fff;
  border: 1px solid #ddd;
  border-radius: 2px;
  -webkit-transition: all 0.2s ease-in-out;
  -o-transition: all 0.2s ease-in-out;
  transition: all 0.2s ease-in-out;
  display: inline-block;
  max-width: 100%;
  height: auto;
}
.img-circle {
  border-radius: 50%;
}
hr {
  margin-top: 18px;
  margin-bottom: 18px;
  border: 0;
  border-top: 1px solid #eeeeee;
}
.sr-only {
  position: absolute;
  width: 1px;
  height: 1px;
  margin: -1px;
  padding: 0;
  overflow: hidden;
  clip: rect(0, 0, 0, 0);
  border: 0;
}
.sr-only-focusable:active,
.sr-only-focusable:focus {
  position: static;
  width: auto;
  height: auto;
  margin: 0;
  overflow: visible;
  clip: auto;
}
[role="button"] {
  cursor: pointer;
}
h1,
h2,
h3,
h4,
h5,
h6,
.h1,
.h2,
.h3,
.h4,
.h5,
.h6 {
  font-family: inherit;
  font-weight: 500;
  line-height: 1.1;
  color: inherit;
}
h1 small,
h2 small,
h3 small,
h4 small,
h5 small,
h6 small,
.h1 small,
.h2 small,
.h3 small,
.h4 small,
.h5 small,
.h6 small,
h1 .small,
h2 .small,
h3 .small,
h4 .small,
h5 .small,
h6 .small,
.h1 .small,
.h2 .small,
.h3 .small,
.h4 .small,
.h5 .small,
.h6 .small {
  font-weight: normal;
  line-height: 1;
  color: #777777;
}
h1,
.h1,
h2,
.h2,
h3,
.h3 {
  margin-top: 18px;
  margin-bottom: 9px;
}
h1 small,
.h1 small,
h2 small,
.h2 small,
h3 small,
.h3 small,
h1 .small,
.h1 .small,
h2 .small,
.h2 .small,
h3 .small,
.h3 .small {
  font-size: 65%;
}
h4,
.h4,
h5,
.h5,
h6,
.h6 {
  margin-top: 9px;
  margin-bottom: 9px;
}
h4 small,
.h4 small,
h5 small,
.h5 small,
h6 small,
.h6 small,
h4 .small,
.h4 .small,
h5 .small,
.h5 .small,
h6 .small,
.h6 .small {
  font-size: 75%;
}
h1,
.h1 {
  font-size: 33px;
}
h2,
.h2 {
  font-size: 27px;
}
h3,
.h3 {
  font-size: 23px;
}
h4,
.h4 {
  font-size: 17px;
}
h5,
.h5 {
  font-size: 13px;
}
h6,
.h6 {
  font-size: 12px;
}
p {
  margin: 0 0 9px;
}
.lead {
  margin-bottom: 18px;
  font-size: 14px;
  font-weight: 300;
  line-height: 1.4;
}
@media (min-width: 768px) {
  .lead {
    font-size: 19.5px;
  }
}
small,
.small {
  font-size: 92%;
}
mark,
.mark {
  background-color: #fcf8e3;
  padding: .2em;
}
.text-left {
  text-align: left;
}
.text-right {
  text-align: right;
}
.text-center {
  text-align: center;
}
.text-justify {
  text-align: justify;
}
.text-nowrap {
  white-space: nowrap;
}
.text-lowercase {
  text-transform: lowercase;
}
.text-uppercase {
  text-transform: uppercase;
}
.text-capitalize {
  text-transform: capitalize;
}
.text-muted {
  color: #777777;
}
.text-primary {
  color: #337ab7;
}
a.text-primary:hover,
a.text-primary:focus {
  color: #286090;
}
.text-success {
  color: #3c763d;
}
a.text-success:hover,
a.text-success:focus {
  color: #2b542c;
}
.text-info {
  color: #31708f;
}
a.text-info:hover,
a.text-info:focus {
  color: #245269;
}
.text-warning {
  color: #8a6d3b;
}
a.text-warning:hover,
a.text-warning:focus {
  color: #66512c;
}
.text-danger {
  color: #a94442;
}
a.text-danger:hover,
a.text-danger:focus {
  color: #843534;
}
.bg-primary {
  color: #fff;
  background-color: #337ab7;
}
a.bg-primary:hover,
a.bg-primary:focus {
  background-color: #286090;
}
.bg-success {
  background-color: #dff0d8;
}
a.bg-success:hover,
a.bg-success:focus {
  background-color: #c1e2b3;
}
.bg-info {
  background-color: #d9edf7;
}
a.bg-info:hover,
a.bg-info:focus {
  background-color: #afd9ee;
}
.bg-warning {
  background-color: #fcf8e3;
}
a.bg-warning:hover,
a.bg-warning:focus {
  background-color: #f7ecb5;
}
.bg-danger {
  background-color: #f2dede;
}
a.bg-danger:hover,
a.bg-danger:focus {
  background-color: #e4b9b9;
}
.page-header {
  padding-bottom: 8px;
  margin: 36px 0 18px;
  border-bottom: 1px solid #eeeeee;
}
ul,
ol {
  margin-top: 0;
  margin-bottom: 9px;
}
ul ul,
ol ul,
ul ol,
ol ol {
  margin-bottom: 0;
}
.list-unstyled {
  padding-left: 0;
  list-style: none;
}
.list-inline {
  padding-left: 0;
  list-style: none;
  margin-left: -5px;
}
.list-inline > li {
  display: inline-block;
  padding-left: 5px;
  padding-right: 5px;
}
dl {
  margin-top: 0;
  margin-bottom: 18px;
}
dt,
dd {
  line-height: 1.42857143;
}
dt {
  font-weight: bold;
}
dd {
  margin-left: 0;
}
@media (min-width: 541px) {
  .dl-horizontal dt {
    float: left;
    width: 160px;
    clear: left;
    text-align: right;
    overflow: hidden;
    text-overflow: ellipsis;
    white-space: nowrap;
  }
  .dl-horizontal dd {
    margin-left: 180px;
  }
}
abbr[title],
abbr[data-original-title] {
  cursor: help;
  border-bottom: 1px dotted #777777;
}
.initialism {
  font-size: 90%;
  text-transform: uppercase;
}
blockquote {
  padding: 9px 18px;
  margin: 0 0 18px;
  font-size: inherit;
  border-left: 5px solid #eeeeee;
}
blockquote p:last-child,
blockquote ul:last-child,
blockquote ol:last-child {
  margin-bottom: 0;
}
blockquote footer,
blockquote small,
blockquote .small {
  display: block;
  font-size: 80%;
  line-height: 1.42857143;
  color: #777777;
}
blockquote footer:before,
blockquote small:before,
blockquote .small:before {
  content: '\2014 \00A0';
}
.blockquote-reverse,
blockquote.pull-right {
  padding-right: 15px;
  padding-left: 0;
  border-right: 5px solid #eeeeee;
  border-left: 0;
  text-align: right;
}
.blockquote-reverse footer:before,
blockquote.pull-right footer:before,
.blockquote-reverse small:before,
blockquote.pull-right small:before,
.blockquote-reverse .small:before,
blockquote.pull-right .small:before {
  content: '';
}
.blockquote-reverse footer:after,
blockquote.pull-right footer:after,
.blockquote-reverse small:after,
blockquote.pull-right small:after,
.blockquote-reverse .small:after,
blockquote.pull-right .small:after {
  content: '\00A0 \2014';
}
address {
  margin-bottom: 18px;
  font-style: normal;
  line-height: 1.42857143;
}
code,
kbd,
pre,
samp {
  font-family: monospace;
}
code {
  padding: 2px 4px;
  font-size: 90%;
  color: #c7254e;
  background-color: #f9f2f4;
  border-radius: 2px;
}
kbd {
  padding: 2px 4px;
  font-size: 90%;
  color: #888;
  background-color: transparent;
  border-radius: 1px;
  box-shadow: inset 0 -1px 0 rgba(0, 0, 0, 0.25);
}
kbd kbd {
  padding: 0;
  font-size: 100%;
  font-weight: bold;
  box-shadow: none;
}
pre {
  display: block;
  padding: 8.5px;
  margin: 0 0 9px;
  font-size: 12px;
  line-height: 1.42857143;
  word-break: break-all;
  word-wrap: break-word;
  color: #333333;
  background-color: #f5f5f5;
  border: 1px solid #ccc;
  border-radius: 2px;
}
pre code {
  padding: 0;
  font-size: inherit;
  color: inherit;
  white-space: pre-wrap;
  background-color: transparent;
  border-radius: 0;
}
.pre-scrollable {
  max-height: 340px;
  overflow-y: scroll;
}
.container {
  margin-right: auto;
  margin-left: auto;
  padding-left: 0px;
  padding-right: 0px;
}
@media (min-width: 768px) {
  .container {
    width: 768px;
  }
}
@media (min-width: 992px) {
  .container {
    width: 940px;
  }
}
@media (min-width: 1200px) {
  .container {
    width: 1140px;
  }
}
.container-fluid {
  margin-right: auto;
  margin-left: auto;
  padding-left: 0px;
  padding-right: 0px;
}
.row {
  margin-left: 0px;
  margin-right: 0px;
}
.col-xs-1, .col-sm-1, .col-md-1, .col-lg-1, .col-xs-2, .col-sm-2, .col-md-2, .col-lg-2, .col-xs-3, .col-sm-3, .col-md-3, .col-lg-3, .col-xs-4, .col-sm-4, .col-md-4, .col-lg-4, .col-xs-5, .col-sm-5, .col-md-5, .col-lg-5, .col-xs-6, .col-sm-6, .col-md-6, .col-lg-6, .col-xs-7, .col-sm-7, .col-md-7, .col-lg-7, .col-xs-8, .col-sm-8, .col-md-8, .col-lg-8, .col-xs-9, .col-sm-9, .col-md-9, .col-lg-9, .col-xs-10, .col-sm-10, .col-md-10, .col-lg-10, .col-xs-11, .col-sm-11, .col-md-11, .col-lg-11, .col-xs-12, .col-sm-12, .col-md-12, .col-lg-12 {
  position: relative;
  min-height: 1px;
  padding-left: 0px;
  padding-right: 0px;
}
.col-xs-1, .col-xs-2, .col-xs-3, .col-xs-4, .col-xs-5, .col-xs-6, .col-xs-7, .col-xs-8, .col-xs-9, .col-xs-10, .col-xs-11, .col-xs-12 {
  float: left;
}
.col-xs-12 {
  width: 100%;
}
.col-xs-11 {
  width: 91.66666667%;
}
.col-xs-10 {
  width: 83.33333333%;
}
.col-xs-9 {
  width: 75%;
}
.col-xs-8 {
  width: 66.66666667%;
}
.col-xs-7 {
  width: 58.33333333%;
}
.col-xs-6 {
  width: 50%;
}
.col-xs-5 {
  width: 41.66666667%;
}
.col-xs-4 {
  width: 33.33333333%;
}
.col-xs-3 {
  width: 25%;
}
.col-xs-2 {
  width: 16.66666667%;
}
.col-xs-1 {
  width: 8.33333333%;
}
.col-xs-pull-12 {
  right: 100%;
}
.col-xs-pull-11 {
  right: 91.66666667%;
}
.col-xs-pull-10 {
  right: 83.33333333%;
}
.col-xs-pull-9 {
  right: 75%;
}
.col-xs-pull-8 {
  right: 66.66666667%;
}
.col-xs-pull-7 {
  right: 58.33333333%;
}
.col-xs-pull-6 {
  right: 50%;
}
.col-xs-pull-5 {
  right: 41.66666667%;
}
.col-xs-pull-4 {
  right: 33.33333333%;
}
.col-xs-pull-3 {
  right: 25%;
}
.col-xs-pull-2 {
  right: 16.66666667%;
}
.col-xs-pull-1 {
  right: 8.33333333%;
}
.col-xs-pull-0 {
  right: auto;
}
.col-xs-push-12 {
  left: 100%;
}
.col-xs-push-11 {
  left: 91.66666667%;
}
.col-xs-push-10 {
  left: 83.33333333%;
}
.col-xs-push-9 {
  left: 75%;
}
.col-xs-push-8 {
  left: 66.66666667%;
}
.col-xs-push-7 {
  left: 58.33333333%;
}
.col-xs-push-6 {
  left: 50%;
}
.col-xs-push-5 {
  left: 41.66666667%;
}
.col-xs-push-4 {
  left: 33.33333333%;
}
.col-xs-push-3 {
  left: 25%;
}
.col-xs-push-2 {
  left: 16.66666667%;
}
.col-xs-push-1 {
  left: 8.33333333%;
}
.col-xs-push-0 {
  left: auto;
}
.col-xs-offset-12 {
  margin-left: 100%;
}
.col-xs-offset-11 {
  margin-left: 91.66666667%;
}
.col-xs-offset-10 {
  margin-left: 83.33333333%;
}
.col-xs-offset-9 {
  margin-left: 75%;
}
.col-xs-offset-8 {
  margin-left: 66.66666667%;
}
.col-xs-offset-7 {
  margin-left: 58.33333333%;
}
.col-xs-offset-6 {
  margin-left: 50%;
}
.col-xs-offset-5 {
  margin-left: 41.66666667%;
}
.col-xs-offset-4 {
  margin-left: 33.33333333%;
}
.col-xs-offset-3 {
  margin-left: 25%;
}
.col-xs-offset-2 {
  margin-left: 16.66666667%;
}
.col-xs-offset-1 {
  margin-left: 8.33333333%;
}
.col-xs-offset-0 {
  margin-left: 0%;
}
@media (min-width: 768px) {
  .col-sm-1, .col-sm-2, .col-sm-3, .col-sm-4, .col-sm-5, .col-sm-6, .col-sm-7, .col-sm-8, .col-sm-9, .col-sm-10, .col-sm-11, .col-sm-12 {
    float: left;
  }
  .col-sm-12 {
    width: 100%;
  }
  .col-sm-11 {
    width: 91.66666667%;
  }
  .col-sm-10 {
    width: 83.33333333%;
  }
  .col-sm-9 {
    width: 75%;
  }
  .col-sm-8 {
    width: 66.66666667%;
  }
  .col-sm-7 {
    width: 58.33333333%;
  }
  .col-sm-6 {
    width: 50%;
  }
  .col-sm-5 {
    width: 41.66666667%;
  }
  .col-sm-4 {
    width: 33.33333333%;
  }
  .col-sm-3 {
    width: 25%;
  }
  .col-sm-2 {
    width: 16.66666667%;
  }
  .col-sm-1 {
    width: 8.33333333%;
  }
  .col-sm-pull-12 {
    right: 100%;
  }
  .col-sm-pull-11 {
    right: 91.66666667%;
  }
  .col-sm-pull-10 {
    right: 83.33333333%;
  }
  .col-sm-pull-9 {
    right: 75%;
  }
  .col-sm-pull-8 {
    right: 66.66666667%;
  }
  .col-sm-pull-7 {
    right: 58.33333333%;
  }
  .col-sm-pull-6 {
    right: 50%;
  }
  .col-sm-pull-5 {
    right: 41.66666667%;
  }
  .col-sm-pull-4 {
    right: 33.33333333%;
  }
  .col-sm-pull-3 {
    right: 25%;
  }
  .col-sm-pull-2 {
    right: 16.66666667%;
  }
  .col-sm-pull-1 {
    right: 8.33333333%;
  }
  .col-sm-pull-0 {
    right: auto;
  }
  .col-sm-push-12 {
    left: 100%;
  }
  .col-sm-push-11 {
    left: 91.66666667%;
  }
  .col-sm-push-10 {
    left: 83.33333333%;
  }
  .col-sm-push-9 {
    left: 75%;
  }
  .col-sm-push-8 {
    left: 66.66666667%;
  }
  .col-sm-push-7 {
    left: 58.33333333%;
  }
  .col-sm-push-6 {
    left: 50%;
  }
  .col-sm-push-5 {
    left: 41.66666667%;
  }
  .col-sm-push-4 {
    left: 33.33333333%;
  }
  .col-sm-push-3 {
    left: 25%;
  }
  .col-sm-push-2 {
    left: 16.66666667%;
  }
  .col-sm-push-1 {
    left: 8.33333333%;
  }
  .col-sm-push-0 {
    left: auto;
  }
  .col-sm-offset-12 {
    margin-left: 100%;
  }
  .col-sm-offset-11 {
    margin-left: 91.66666667%;
  }
  .col-sm-offset-10 {
    margin-left: 83.33333333%;
  }
  .col-sm-offset-9 {
    margin-left: 75%;
  }
  .col-sm-offset-8 {
    margin-left: 66.66666667%;
  }
  .col-sm-offset-7 {
    margin-left: 58.33333333%;
  }
  .col-sm-offset-6 {
    margin-left: 50%;
  }
  .col-sm-offset-5 {
    margin-left: 41.66666667%;
  }
  .col-sm-offset-4 {
    margin-left: 33.33333333%;
  }
  .col-sm-offset-3 {
    margin-left: 25%;
  }
  .col-sm-offset-2 {
    margin-left: 16.66666667%;
  }
  .col-sm-offset-1 {
    margin-left: 8.33333333%;
  }
  .col-sm-offset-0 {
    margin-left: 0%;
  }
}
@media (min-width: 992px) {
  .col-md-1, .col-md-2, .col-md-3, .col-md-4, .col-md-5, .col-md-6, .col-md-7, .col-md-8, .col-md-9, .col-md-10, .col-md-11, .col-md-12 {
    float: left;
  }
  .col-md-12 {
    width: 100%;
  }
  .col-md-11 {
    width: 91.66666667%;
  }
  .col-md-10 {
    width: 83.33333333%;
  }
  .col-md-9 {
    width: 75%;
  }
  .col-md-8 {
    width: 66.66666667%;
  }
  .col-md-7 {
    width: 58.33333333%;
  }
  .col-md-6 {
    width: 50%;
  }
  .col-md-5 {
    width: 41.66666667%;
  }
  .col-md-4 {
    width: 33.33333333%;
  }
  .col-md-3 {
    width: 25%;
  }
  .col-md-2 {
    width: 16.66666667%;
  }
  .col-md-1 {
    width: 8.33333333%;
  }
  .col-md-pull-12 {
    right: 100%;
  }
  .col-md-pull-11 {
    right: 91.66666667%;
  }
  .col-md-pull-10 {
    right: 83.33333333%;
  }
  .col-md-pull-9 {
    right: 75%;
  }
  .col-md-pull-8 {
    right: 66.66666667%;
  }
  .col-md-pull-7 {
    right: 58.33333333%;
  }
  .col-md-pull-6 {
    right: 50%;
  }
  .col-md-pull-5 {
    right: 41.66666667%;
  }
  .col-md-pull-4 {
    right: 33.33333333%;
  }
  .col-md-pull-3 {
    right: 25%;
  }
  .col-md-pull-2 {
    right: 16.66666667%;
  }
  .col-md-pull-1 {
    right: 8.33333333%;
  }
  .col-md-pull-0 {
    right: auto;
  }
  .col-md-push-12 {
    left: 100%;
  }
  .col-md-push-11 {
    left: 91.66666667%;
  }
  .col-md-push-10 {
    left: 83.33333333%;
  }
  .col-md-push-9 {
    left: 75%;
  }
  .col-md-push-8 {
    left: 66.66666667%;
  }
  .col-md-push-7 {
    left: 58.33333333%;
  }
  .col-md-push-6 {
    left: 50%;
  }
  .col-md-push-5 {
    left: 41.66666667%;
  }
  .col-md-push-4 {
    left: 33.33333333%;
  }
  .col-md-push-3 {
    left: 25%;
  }
  .col-md-push-2 {
    left: 16.66666667%;
  }
  .col-md-push-1 {
    left: 8.33333333%;
  }
  .col-md-push-0 {
    left: auto;
  }
  .col-md-offset-12 {
    margin-left: 100%;
  }
  .col-md-offset-11 {
    margin-left: 91.66666667%;
  }
  .col-md-offset-10 {
    margin-left: 83.33333333%;
  }
  .col-md-offset-9 {
    margin-left: 75%;
  }
  .col-md-offset-8 {
    margin-left: 66.66666667%;
  }
  .col-md-offset-7 {
    margin-left: 58.33333333%;
  }
  .col-md-offset-6 {
    margin-left: 50%;
  }
  .col-md-offset-5 {
    margin-left: 41.66666667%;
  }
  .col-md-offset-4 {
    margin-left: 33.33333333%;
  }
  .col-md-offset-3 {
    margin-left: 25%;
  }
  .col-md-offset-2 {
    margin-left: 16.66666667%;
  }
  .col-md-offset-1 {
    margin-left: 8.33333333%;
  }
  .col-md-offset-0 {
    margin-left: 0%;
  }
}
@media (min-width: 1200px) {
  .col-lg-1, .col-lg-2, .col-lg-3, .col-lg-4, .col-lg-5, .col-lg-6, .col-lg-7, .col-lg-8, .col-lg-9, .col-lg-10, .col-lg-11, .col-lg-12 {
    float: left;
  }
  .col-lg-12 {
    width: 100%;
  }
  .col-lg-11 {
    width: 91.66666667%;
  }
  .col-lg-10 {
    width: 83.33333333%;
  }
  .col-lg-9 {
    width: 75%;
  }
  .col-lg-8 {
    width: 66.66666667%;
  }
  .col-lg-7 {
    width: 58.33333333%;
  }
  .col-lg-6 {
    width: 50%;
  }
  .col-lg-5 {
    width: 41.66666667%;
  }
  .col-lg-4 {
    width: 33.33333333%;
  }
  .col-lg-3 {
    width: 25%;
  }
  .col-lg-2 {
    width: 16.66666667%;
  }
  .col-lg-1 {
    width: 8.33333333%;
  }
  .col-lg-pull-12 {
    right: 100%;
  }
  .col-lg-pull-11 {
    right: 91.66666667%;
  }
  .col-lg-pull-10 {
    right: 83.33333333%;
  }
  .col-lg-pull-9 {
    right: 75%;
  }
  .col-lg-pull-8 {
    right: 66.66666667%;
  }
  .col-lg-pull-7 {
    right: 58.33333333%;
  }
  .col-lg-pull-6 {
    right: 50%;
  }
  .col-lg-pull-5 {
    right: 41.66666667%;
  }
  .col-lg-pull-4 {
    right: 33.33333333%;
  }
  .col-lg-pull-3 {
    right: 25%;
  }
  .col-lg-pull-2 {
    right: 16.66666667%;
  }
  .col-lg-pull-1 {
    right: 8.33333333%;
  }
  .col-lg-pull-0 {
    right: auto;
  }
  .col-lg-push-12 {
    left: 100%;
  }
  .col-lg-push-11 {
    left: 91.66666667%;
  }
  .col-lg-push-10 {
    left: 83.33333333%;
  }
  .col-lg-push-9 {
    left: 75%;
  }
  .col-lg-push-8 {
    left: 66.66666667%;
  }
  .col-lg-push-7 {
    left: 58.33333333%;
  }
  .col-lg-push-6 {
    left: 50%;
  }
  .col-lg-push-5 {
    left: 41.66666667%;
  }
  .col-lg-push-4 {
    left: 33.33333333%;
  }
  .col-lg-push-3 {
    left: 25%;
  }
  .col-lg-push-2 {
    left: 16.66666667%;
  }
  .col-lg-push-1 {
    left: 8.33333333%;
  }
  .col-lg-push-0 {
    left: auto;
  }
  .col-lg-offset-12 {
    margin-left: 100%;
  }
  .col-lg-offset-11 {
    margin-left: 91.66666667%;
  }
  .col-lg-offset-10 {
    margin-left: 83.33333333%;
  }
  .col-lg-offset-9 {
    margin-left: 75%;
  }
  .col-lg-offset-8 {
    margin-left: 66.66666667%;
  }
  .col-lg-offset-7 {
    margin-left: 58.33333333%;
  }
  .col-lg-offset-6 {
    margin-left: 50%;
  }
  .col-lg-offset-5 {
    margin-left: 41.66666667%;
  }
  .col-lg-offset-4 {
    margin-left: 33.33333333%;
  }
  .col-lg-offset-3 {
    margin-left: 25%;
  }
  .col-lg-offset-2 {
    margin-left: 16.66666667%;
  }
  .col-lg-offset-1 {
    margin-left: 8.33333333%;
  }
  .col-lg-offset-0 {
    margin-left: 0%;
  }
}
table {
  background-color: transparent;
}
caption {
  padding-top: 8px;
  padding-bottom: 8px;
  color: #777777;
  text-align: left;
}
th {
  text-align: left;
}
.table {
  width: 100%;
  max-width: 100%;
  margin-bottom: 18px;
}
.table > thead > tr > th,
.table > tbody > tr > th,
.table > tfoot > tr > th,
.table > thead > tr > td,
.table > tbody > tr > td,
.table > tfoot > tr > td {
  padding: 8px;
  line-height: 1.42857143;
  vertical-align: top;
  border-top: 1px solid #ddd;
}
.table > thead > tr > th {
  vertical-align: bottom;
  border-bottom: 2px solid #ddd;
}
.table > caption + thead > tr:first-child > th,
.table > colgroup + thead > tr:first-child > th,
.table > thead:first-child > tr:first-child > th,
.table > caption + thead > tr:first-child > td,
.table > colgroup + thead > tr:first-child > td,
.table > thead:first-child > tr:first-child > td {
  border-top: 0;
}
.table > tbody + tbody {
  border-top: 2px solid #ddd;
}
.table .table {
  background-color: #fff;
}
.table-condensed > thead > tr > th,
.table-condensed > tbody > tr > th,
.table-condensed > tfoot > tr > th,
.table-condensed > thead > tr > td,
.table-condensed > tbody > tr > td,
.table-condensed > tfoot > tr > td {
  padding: 5px;
}
.table-bordered {
  border: 1px solid #ddd;
}
.table-bordered > thead > tr > th,
.table-bordered > tbody > tr > th,
.table-bordered > tfoot > tr > th,
.table-bordered > thead > tr > td,
.table-bordered > tbody > tr > td,
.table-bordered > tfoot > tr > td {
  border: 1px solid #ddd;
}
.table-bordered > thead > tr > th,
.table-bordered > thead > tr > td {
  border-bottom-width: 2px;
}
.table-striped > tbody > tr:nth-of-type(odd) {
  background-color: #f9f9f9;
}
.table-hover > tbody > tr:hover {
  background-color: #f5f5f5;
}
table col[class*="col-"] {
  position: static;
  float: none;
  display: table-column;
}
table td[class*="col-"],
table th[class*="col-"] {
  position: static;
  float: none;
  display: table-cell;
}
.table > thead > tr > td.active,
.table > tbody > tr > td.active,
.table > tfoot > tr > td.active,
.table > thead > tr > th.active,
.table > tbody > tr > th.active,
.table > tfoot > tr > th.active,
.table > thead > tr.active > td,
.table > tbody > tr.active > td,
.table > tfoot > tr.active > td,
.table > thead > tr.active > th,
.table > tbody > tr.active > th,
.table > tfoot > tr.active > th {
  background-color: #f5f5f5;
}
.table-hover > tbody > tr > td.active:hover,
.table-hover > tbody > tr > th.active:hover,
.table-hover > tbody > tr.active:hover > td,
.table-hover > tbody > tr:hover > .active,
.table-hover > tbody > tr.active:hover > th {
  background-color: #e8e8e8;
}
.table > thead > tr > td.success,
.table > tbody > tr > td.success,
.table > tfoot > tr > td.success,
.table > thead > tr > th.success,
.table > tbody > tr > th.success,
.table > tfoot > tr > th.success,
.table > thead > tr.success > td,
.table > tbody > tr.success > td,
.table > tfoot > tr.success > td,
.table > thead > tr.success > th,
.table > tbody > tr.success > th,
.table > tfoot > tr.success > th {
  background-color: #dff0d8;
}
.table-hover > tbody > tr > td.success:hover,
.table-hover > tbody > tr > th.success:hover,
.table-hover > tbody > tr.success:hover > td,
.table-hover > tbody > tr:hover > .success,
.table-hover > tbody > tr.success:hover > th {
  background-color: #d0e9c6;
}
.table > thead > tr > td.info,
.table > tbody > tr > td.info,
.table > tfoot > tr > td.info,
.table > thead > tr > th.info,
.table > tbody > tr > th.info,
.table > tfoot > tr > th.info,
.table > thead > tr.info > td,
.table > tbody > tr.info > td,
.table > tfoot > tr.info > td,
.table > thead > tr.info > th,
.table > tbody > tr.info > th,
.table > tfoot > tr.info > th {
  background-color: #d9edf7;
}
.table-hover > tbody > tr > td.info:hover,
.table-hover > tbody > tr > th.info:hover,
.table-hover > tbody > tr.info:hover > td,
.table-hover > tbody > tr:hover > .info,
.table-hover > tbody > tr.info:hover > th {
  background-color: #c4e3f3;
}
.table > thead > tr > td.warning,
.table > tbody > tr > td.warning,
.table > tfoot > tr > td.warning,
.table > thead > tr > th.warning,
.table > tbody > tr > th.warning,
.table > tfoot > tr > th.warning,
.table > thead > tr.warning > td,
.table > tbody > tr.warning > td,
.table > tfoot > tr.warning > td,
.table > thead > tr.warning > th,
.table > tbody > tr.warning > th,
.table > tfoot > tr.warning > th {
  background-color: #fcf8e3;
}
.table-hover > tbody > tr > td.warning:hover,
.table-hover > tbody > tr > th.warning:hover,
.table-hover > tbody > tr.warning:hover > td,
.table-hover > tbody > tr:hover > .warning,
.table-hover > tbody > tr.warning:hover > th {
  background-color: #faf2cc;
}
.table > thead > tr > td.danger,
.table > tbody > tr > td.danger,
.table > tfoot > tr > td.danger,
.table > thead > tr > th.danger,
.table > tbody > tr > th.danger,
.table > tfoot > tr > th.danger,
.table > thead > tr.danger > td,
.table > tbody > tr.danger > td,
.table > tfoot > tr.danger > td,
.table > thead > tr.danger > th,
.table > tbody > tr.danger > th,
.table > tfoot > tr.danger > th {
  background-color: #f2dede;
}
.table-hover > tbody > tr > td.danger:hover,
.table-hover > tbody > tr > th.danger:hover,
.table-hover > tbody > tr.danger:hover > td,
.table-hover > tbody > tr:hover > .danger,
.table-hover > tbody > tr.danger:hover > th {
  background-color: #ebcccc;
}
.table-responsive {
  overflow-x: auto;
  min-height: 0.01%;
}
@media screen and (max-width: 767px) {
  .table-responsive {
    width: 100%;
    margin-bottom: 13.5px;
    overflow-y: hidden;
    -ms-overflow-style: -ms-autohiding-scrollbar;
    border: 1px solid #ddd;
  }
  .table-responsive > .table {
    margin-bottom: 0;
  }
  .table-responsive > .table > thead > tr > th,
  .table-responsive > .table > tbody > tr > th,
  .table-responsive > .table > tfoot > tr > th,
  .table-responsive > .table > thead > tr > td,
  .table-responsive > .table > tbody > tr > td,
  .table-responsive > .table > tfoot > tr > td {
    white-space: nowrap;
  }
  .table-responsive > .table-bordered {
    border: 0;
  }
  .table-responsive > .table-bordered > thead > tr > th:first-child,
  .table-responsive > .table-bordered > tbody > tr > th:first-child,
  .table-responsive > .table-bordered > tfoot > tr > th:first-child,
  .table-responsive > .table-bordered > thead > tr > td:first-child,
  .table-responsive > .table-bordered > tbody > tr > td:first-child,
  .table-responsive > .table-bordered > tfoot > tr > td:first-child {
    border-left: 0;
  }
  .table-responsive > .table-bordered > thead > tr > th:last-child,
  .table-responsive > .table-bordered > tbody > tr > th:last-child,
  .table-responsive > .table-bordered > tfoot > tr > th:last-child,
  .table-responsive > .table-bordered > thead > tr > td:last-child,
  .table-responsive > .table-bordered > tbody > tr > td:last-child,
  .table-responsive > .table-bordered > tfoot > tr > td:last-child {
    border-right: 0;
  }
  .table-responsive > .table-bordered > tbody > tr:last-child > th,
  .table-responsive > .table-bordered > tfoot > tr:last-child > th,
  .table-responsive > .table-bordered > tbody > tr:last-child > td,
  .table-responsive > .table-bordered > tfoot > tr:last-child > td {
    border-bottom: 0;
  }
}
fieldset {
  padding: 0;
  margin: 0;
  border: 0;
  min-width: 0;
}
legend {
  display: block;
  width: 100%;
  padding: 0;
  margin-bottom: 18px;
  font-size: 19.5px;
  line-height: inherit;
  color: #333333;
  border: 0;
  border-bottom: 1px solid #e5e5e5;
}
label {
  display: inline-block;
  max-width: 100%;
  margin-bottom: 5px;
  font-weight: bold;
}
input[type="search"] {
  -webkit-box-sizing: border-box;
  -moz-box-sizing: border-box;
  box-sizing: border-box;
}
input[type="radio"],
input[type="checkbox"] {
  margin: 4px 0 0;
  margin-top: 1px \9;
  line-height: normal;
}
input[type="file"] {
  display: block;
}
input[type="range"] {
  display: block;
  width: 100%;
}
select[multiple],
select[size] {
  height: auto;
}
input[type="file"]:focus,
input[type="radio"]:focus,
input[type="checkbox"]:focus {
  outline: 5px auto -webkit-focus-ring-color;
  outline-offset: -2px;
}
output {
  display: block;
  padding-top: 7px;
  font-size: 13px;
  line-height: 1.42857143;
  color: #555555;
}
.form-control {
  display: block;
  width: 100%;
  height: 32px;
  padding: 6px 12px;
  font-size: 13px;
  line-height: 1.42857143;
  color: #555555;
  background-color: #fff;
  background-image: none;
  border: 1px solid #ccc;
  border-radius: 2px;
  -webkit-box-shadow: inset 0 1px 1px rgba(0, 0, 0, 0.075);
  box-shadow: inset 0 1px 1px rgba(0, 0, 0, 0.075);
  -webkit-transition: border-color ease-in-out .15s, box-shadow ease-in-out .15s;
  -o-transition: border-color ease-in-out .15s, box-shadow ease-in-out .15s;
  transition: border-color ease-in-out .15s, box-shadow ease-in-out .15s;
}
.form-control:focus {
  border-color: #66afe9;
  outline: 0;
  -webkit-box-shadow: inset 0 1px 1px rgba(0,0,0,.075), 0 0 8px rgba(102, 175, 233, 0.6);
  box-shadow: inset 0 1px 1px rgba(0,0,0,.075), 0 0 8px rgba(102, 175, 233, 0.6);
}
.form-control::-moz-placeholder {
  color: #999;
  opacity: 1;
}
.form-control:-ms-input-placeholder {
  color: #999;
}
.form-control::-webkit-input-placeholder {
  color: #999;
}
.form-control::-ms-expand {
  border: 0;
  background-color: transparent;
}
.form-control[disabled],
.form-control[readonly],
fieldset[disabled] .form-control {
  background-color: #eeeeee;
  opacity: 1;
}
.form-control[disabled],
fieldset[disabled] .form-control {
  cursor: not-allowed;
}
textarea.form-control {
  height: auto;
}
input[type="search"] {
  -webkit-appearance: none;
}
@media screen and (-webkit-min-device-pixel-ratio: 0) {
  input[type="date"].form-control,
  input[type="time"].form-control,
  input[type="datetime-local"].form-control,
  input[type="month"].form-control {
    line-height: 32px;
  }
  input[type="date"].input-sm,
  input[type="time"].input-sm,
  input[type="datetime-local"].input-sm,
  input[type="month"].input-sm,
  .input-group-sm input[type="date"],
  .input-group-sm input[type="time"],
  .input-group-sm input[type="datetime-local"],
  .input-group-sm input[type="month"] {
    line-height: 30px;
  }
  input[type="date"].input-lg,
  input[type="time"].input-lg,
  input[type="datetime-local"].input-lg,
  input[type="month"].input-lg,
  .input-group-lg input[type="date"],
  .input-group-lg input[type="time"],
  .input-group-lg input[type="datetime-local"],
  .input-group-lg input[type="month"] {
    line-height: 45px;
  }
}
.form-group {
  margin-bottom: 15px;
}
.radio,
.checkbox {
  position: relative;
  display: block;
  margin-top: 10px;
  margin-bottom: 10px;
}
.radio label,
.checkbox label {
  min-height: 18px;
  padding-left: 20px;
  margin-bottom: 0;
  font-weight: normal;
  cursor: pointer;
}
.radio input[type="radio"],
.radio-inline input[type="radio"],
.checkbox input[type="checkbox"],
.checkbox-inline input[type="checkbox"] {
  position: absolute;
  margin-left: -20px;
  margin-top: 4px \9;
}
.radio + .radio,
.checkbox + .checkbox {
  margin-top: -5px;
}
.radio-inline,
.checkbox-inline {
  position: relative;
  display: inline-block;
  padding-left: 20px;
  margin-bottom: 0;
  vertical-align: middle;
  font-weight: normal;
  cursor: pointer;
}
.radio-inline + .radio-inline,
.checkbox-inline + .checkbox-inline {
  margin-top: 0;
  margin-left: 10px;
}
input[type="radio"][disabled],
input[type="checkbox"][disabled],
input[type="radio"].disabled,
input[type="checkbox"].disabled,
fieldset[disabled] input[type="radio"],
fieldset[disabled] input[type="checkbox"] {
  cursor: not-allowed;
}
.radio-inline.disabled,
.checkbox-inline.disabled,
fieldset[disabled] .radio-inline,
fieldset[disabled] .checkbox-inline {
  cursor: not-allowed;
}
.radio.disabled label,
.checkbox.disabled label,
fieldset[disabled] .radio label,
fieldset[disabled] .checkbox label {
  cursor: not-allowed;
}
.form-control-static {
  padding-top: 7px;
  padding-bottom: 7px;
  margin-bottom: 0;
  min-height: 31px;
}
.form-control-static.input-lg,
.form-control-static.input-sm {
  padding-left: 0;
  padding-right: 0;
}
.input-sm {
  height: 30px;
  padding: 5px 10px;
  font-size: 12px;
  line-height: 1.5;
  border-radius: 1px;
}
select.input-sm {
  height: 30px;
  line-height: 30px;
}
textarea.input-sm,
select[multiple].input-sm {
  height: auto;
}
.form-group-sm .form-control {
  height: 30px;
  padding: 5px 10px;
  font-size: 12px;
  line-height: 1.5;
  border-radius: 1px;
}
.form-group-sm select.form-control {
  height: 30px;
  line-height: 30px;
}
.form-group-sm textarea.form-control,
.form-group-sm select[multiple].form-control {
  height: auto;
}
.form-group-sm .form-control-static {
  height: 30px;
  min-height: 30px;
  padding: 6px 10px;
  font-size: 12px;
  line-height: 1.5;
}
.input-lg {
  height: 45px;
  padding: 10px 16px;
  font-size: 17px;
  line-height: 1.3333333;
  border-radius: 3px;
}
select.input-lg {
  height: 45px;
  line-height: 45px;
}
textarea.input-lg,
select[multiple].input-lg {
  height: auto;
}
.form-group-lg .form-control {
  height: 45px;
  padding: 10px 16px;
  font-size: 17px;
  line-height: 1.3333333;
  border-radius: 3px;
}
.form-group-lg select.form-control {
  height: 45px;
  line-height: 45px;
}
.form-group-lg textarea.form-control,
.form-group-lg select[multiple].form-control {
  height: auto;
}
.form-group-lg .form-control-static {
  height: 45px;
  min-height: 35px;
  padding: 11px 16px;
  font-size: 17px;
  line-height: 1.3333333;
}
.has-feedback {
  position: relative;
}
.has-feedback .form-control {
  padding-right: 40px;
}
.form-control-feedback {
  position: absolute;
  top: 0;
  right: 0;
  z-index: 2;
  display: block;
  width: 32px;
  height: 32px;
  line-height: 32px;
  text-align: center;
  pointer-events: none;
}
.input-lg + .form-control-feedback,
.input-group-lg + .form-control-feedback,
.form-group-lg .form-control + .form-control-feedback {
  width: 45px;
  height: 45px;
  line-height: 45px;
}
.input-sm + .form-control-feedback,
.input-group-sm + .form-control-feedback,
.form-group-sm .form-control + .form-control-feedback {
  width: 30px;
  height: 30px;
  line-height: 30px;
}
.has-success .help-block,
.has-success .control-label,
.has-success .radio,
.has-success .checkbox,
.has-success .radio-inline,
.has-success .checkbox-inline,
.has-success.radio label,
.has-success.checkbox label,
.has-success.radio-inline label,
.has-success.checkbox-inline label {
  color: #3c763d;
}
.has-success .form-control {
  border-color: #3c763d;
  -webkit-box-shadow: inset 0 1px 1px rgba(0, 0, 0, 0.075);
  box-shadow: inset 0 1px 1px rgba(0, 0, 0, 0.075);
}
.has-success .form-control:focus {
  border-color: #2b542c;
  -webkit-box-shadow: inset 0 1px 1px rgba(0, 0, 0, 0.075), 0 0 6px #67b168;
  box-shadow: inset 0 1px 1px rgba(0, 0, 0, 0.075), 0 0 6px #67b168;
}
.has-success .input-group-addon {
  color: #3c763d;
  border-color: #3c763d;
  background-color: #dff0d8;
}
.has-success .form-control-feedback {
  color: #3c763d;
}
.has-warning .help-block,
.has-warning .control-label,
.has-warning .radio,
.has-warning .checkbox,
.has-warning .radio-inline,
.has-warning .checkbox-inline,
.has-warning.radio label,
.has-warning.checkbox label,
.has-warning.radio-inline label,
.has-warning.checkbox-inline label {
  color: #8a6d3b;
}
.has-warning .form-control {
  border-color: #8a6d3b;
  -webkit-box-shadow: inset 0 1px 1px rgba(0, 0, 0, 0.075);
  box-shadow: inset 0 1px 1px rgba(0, 0, 0, 0.075);
}
.has-warning .form-control:focus {
  border-color: #66512c;
  -webkit-box-shadow: inset 0 1px 1px rgba(0, 0, 0, 0.075), 0 0 6px #c0a16b;
  box-shadow: inset 0 1px 1px rgba(0, 0, 0, 0.075), 0 0 6px #c0a16b;
}
.has-warning .input-group-addon {
  color: #8a6d3b;
  border-color: #8a6d3b;
  background-color: #fcf8e3;
}
.has-warning .form-control-feedback {
  color: #8a6d3b;
}
.has-error .help-block,
.has-error .control-label,
.has-error .radio,
.has-error .checkbox,
.has-error .radio-inline,
.has-error .checkbox-inline,
.has-error.radio label,
.has-error.checkbox label,
.has-error.radio-inline label,
.has-error.checkbox-inline label {
  color: #a94442;
}
.has-error .form-control {
  border-color: #a94442;
  -webkit-box-shadow: inset 0 1px 1px rgba(0, 0, 0, 0.075);
  box-shadow: inset 0 1px 1px rgba(0, 0, 0, 0.075);
}
.has-error .form-control:focus {
  border-color: #843534;
  -webkit-box-shadow: inset 0 1px 1px rgba(0, 0, 0, 0.075), 0 0 6px #ce8483;
  box-shadow: inset 0 1px 1px rgba(0, 0, 0, 0.075), 0 0 6px #ce8483;
}
.has-error .input-group-addon {
  color: #a94442;
  border-color: #a94442;
  background-color: #f2dede;
}
.has-error .form-control-feedback {
  color: #a94442;
}
.has-feedback label ~ .form-control-feedback {
  top: 23px;
}
.has-feedback label.sr-only ~ .form-control-feedback {
  top: 0;
}
.help-block {
  display: block;
  margin-top: 5px;
  margin-bottom: 10px;
  color: #404040;
}
@media (min-width: 768px) {
  .form-inline .form-group {
    display: inline-block;
    margin-bottom: 0;
    vertical-align: middle;
  }
  .form-inline .form-control {
    display: inline-block;
    width: auto;
    vertical-align: middle;
  }
  .form-inline .form-control-static {
    display: inline-block;
  }
  .form-inline .input-group {
    display: inline-table;
    vertical-align: middle;
  }
  .form-inline .input-group .input-group-addon,
  .form-inline .input-group .input-group-btn,
  .form-inline .input-group .form-control {
    width: auto;
  }
  .form-inline .input-group > .form-control {
    width: 100%;
  }
  .form-inline .control-label {
    margin-bottom: 0;
    vertical-align: middle;
  }
  .form-inline .radio,
  .form-inline .checkbox {
    display: inline-block;
    margin-top: 0;
    margin-bottom: 0;
    vertical-align: middle;
  }
  .form-inline .radio label,
  .form-inline .checkbox label {
    padding-left: 0;
  }
  .form-inline .radio input[type="radio"],
  .form-inline .checkbox input[type="checkbox"] {
    position: relative;
    margin-left: 0;
  }
  .form-inline .has-feedback .form-control-feedback {
    top: 0;
  }
}
.form-horizontal .radio,
.form-horizontal .checkbox,
.form-horizontal .radio-inline,
.form-horizontal .checkbox-inline {
  margin-top: 0;
  margin-bottom: 0;
  padding-top: 7px;
}
.form-horizontal .radio,
.form-horizontal .checkbox {
  min-height: 25px;
}
.form-horizontal .form-group {
  margin-left: 0px;
  margin-right: 0px;
}
@media (min-width: 768px) {
  .form-horizontal .control-label {
    text-align: right;
    margin-bottom: 0;
    padding-top: 7px;
  }
}
.form-horizontal .has-feedback .form-control-feedback {
  right: 0px;
}
@media (min-width: 768px) {
  .form-horizontal .form-group-lg .control-label {
    padding-top: 11px;
    font-size: 17px;
  }
}
@media (min-width: 768px) {
  .form-horizontal .form-group-sm .control-label {
    padding-top: 6px;
    font-size: 12px;
  }
}
.btn {
  display: inline-block;
  margin-bottom: 0;
  font-weight: normal;
  text-align: center;
  vertical-align: middle;
  touch-action: manipulation;
  cursor: pointer;
  background-image: none;
  border: 1px solid transparent;
  white-space: nowrap;
  padding: 6px 12px;
  font-size: 13px;
  line-height: 1.42857143;
  border-radius: 2px;
  -webkit-user-select: none;
  -moz-user-select: none;
  -ms-user-select: none;
  user-select: none;
}
.btn:focus,
.btn:active:focus,
.btn.active:focus,
.btn.focus,
.btn:active.focus,
.btn.active.focus {
  outline: 5px auto -webkit-focus-ring-color;
  outline-offset: -2px;
}
.btn:hover,
.btn:focus,
.btn.focus {
  color: #333;
  text-decoration: none;
}
.btn:active,
.btn.active {
  outline: 0;
  background-image: none;
  -webkit-box-shadow: inset 0 3px 5px rgba(0, 0, 0, 0.125);
  box-shadow: inset 0 3px 5px rgba(0, 0, 0, 0.125);
}
.btn.disabled,
.btn[disabled],
fieldset[disabled] .btn {
  cursor: not-allowed;
  opacity: 0.65;
  filter: alpha(opacity=65);
  -webkit-box-shadow: none;
  box-shadow: none;
}
a.btn.disabled,
fieldset[disabled] a.btn {
  pointer-events: none;
}
.btn-default {
  color: #333;
  background-color: #fff;
  border-color: #ccc;
}
.btn-default:focus,
.btn-default.focus {
  color: #333;
  background-color: #e6e6e6;
  border-color: #8c8c8c;
}
.btn-default:hover {
  color: #333;
  background-color: #e6e6e6;
  border-color: #adadad;
}
.btn-default:active,
.btn-default.active,
.open > .dropdown-toggle.btn-default {
  color: #333;
  background-color: #e6e6e6;
  border-color: #adadad;
}
.btn-default:active:hover,
.btn-default.active:hover,
.open > .dropdown-toggle.btn-default:hover,
.btn-default:active:focus,
.btn-default.active:focus,
.open > .dropdown-toggle.btn-default:focus,
.btn-default:active.focus,
.btn-default.active.focus,
.open > .dropdown-toggle.btn-default.focus {
  color: #333;
  background-color: #d4d4d4;
  border-color: #8c8c8c;
}
.btn-default:active,
.btn-default.active,
.open > .dropdown-toggle.btn-default {
  background-image: none;
}
.btn-default.disabled:hover,
.btn-default[disabled]:hover,
fieldset[disabled] .btn-default:hover,
.btn-default.disabled:focus,
.btn-default[disabled]:focus,
fieldset[disabled] .btn-default:focus,
.btn-default.disabled.focus,
.btn-default[disabled].focus,
fieldset[disabled] .btn-default.focus {
  background-color: #fff;
  border-color: #ccc;
}
.btn-default .badge {
  color: #fff;
  background-color: #333;
}
.btn-primary {
  color: #fff;
  background-color: #337ab7;
  border-color: #2e6da4;
}
.btn-primary:focus,
.btn-primary.focus {
  color: #fff;
  background-color: #286090;
  border-color: #122b40;
}
.btn-primary:hover {
  color: #fff;
  background-color: #286090;
  border-color: #204d74;
}
.btn-primary:active,
.btn-primary.active,
.open > .dropdown-toggle.btn-primary {
  color: #fff;
  background-color: #286090;
  border-color: #204d74;
}
.btn-primary:active:hover,
.btn-primary.active:hover,
.open > .dropdown-toggle.btn-primary:hover,
.btn-primary:active:focus,
.btn-primary.active:focus,
.open > .dropdown-toggle.btn-primary:focus,
.btn-primary:active.focus,
.btn-primary.active.focus,
.open > .dropdown-toggle.btn-primary.focus {
  color: #fff;
  background-color: #204d74;
  border-color: #122b40;
}
.btn-primary:active,
.btn-primary.active,
.open > .dropdown-toggle.btn-primary {
  background-image: none;
}
.btn-primary.disabled:hover,
.btn-primary[disabled]:hover,
fieldset[disabled] .btn-primary:hover,
.btn-primary.disabled:focus,
.btn-primary[disabled]:focus,
fieldset[disabled] .btn-primary:focus,
.btn-primary.disabled.focus,
.btn-primary[disabled].focus,
fieldset[disabled] .btn-primary.focus {
  background-color: #337ab7;
  border-color: #2e6da4;
}
.btn-primary .badge {
  color: #337ab7;
  background-color: #fff;
}
.btn-success {
  color: #fff;
  background-color: #5cb85c;
  border-color: #4cae4c;
}
.btn-success:focus,
.btn-success.focus {
  color: #fff;
  background-color: #449d44;
  border-color: #255625;
}
.btn-success:hover {
  color: #fff;
  background-color: #449d44;
  border-color: #398439;
}
.btn-success:active,
.btn-success.active,
.open > .dropdown-toggle.btn-success {
  color: #fff;
  background-color: #449d44;
  border-color: #398439;
}
.btn-success:active:hover,
.btn-success.active:hover,
.open > .dropdown-toggle.btn-success:hover,
.btn-success:active:focus,
.btn-success.active:focus,
.open > .dropdown-toggle.btn-success:focus,
.btn-success:active.focus,
.btn-success.active.focus,
.open > .dropdown-toggle.btn-success.focus {
  color: #fff;
  background-color: #398439;
  border-color: #255625;
}
.btn-success:active,
.btn-success.active,
.open > .dropdown-toggle.btn-success {
  background-image: none;
}
.btn-success.disabled:hover,
.btn-success[disabled]:hover,
fieldset[disabled] .btn-success:hover,
.btn-success.disabled:focus,
.btn-success[disabled]:focus,
fieldset[disabled] .btn-success:focus,
.btn-success.disabled.focus,
.btn-success[disabled].focus,
fieldset[disabled] .btn-success.focus {
  background-color: #5cb85c;
  border-color: #4cae4c;
}
.btn-success .badge {
  color: #5cb85c;
  background-color: #fff;
}
.btn-info {
  color: #fff;
  background-color: #5bc0de;
  border-color: #46b8da;
}
.btn-info:focus,
.btn-info.focus {
  color: #fff;
  background-color: #31b0d5;
  border-color: #1b6d85;
}
.btn-info:hover {
  color: #fff;
  background-color: #31b0d5;
  border-color: #269abc;
}
.btn-info:active,
.btn-info.active,
.open > .dropdown-toggle.btn-info {
  color: #fff;
  background-color: #31b0d5;
  border-color: #269abc;
}
.btn-info:active:hover,
.btn-info.active:hover,
.open > .dropdown-toggle.btn-info:hover,
.btn-info:active:focus,
.btn-info.active:focus,
.open > .dropdown-toggle.btn-info:focus,
.btn-info:active.focus,
.btn-info.active.focus,
.open > .dropdown-toggle.btn-info.focus {
  color: #fff;
  background-color: #269abc;
  border-color: #1b6d85;
}
.btn-info:active,
.btn-info.active,
.open > .dropdown-toggle.btn-info {
  background-image: none;
}
.btn-info.disabled:hover,
.btn-info[disabled]:hover,
fieldset[disabled] .btn-info:hover,
.btn-info.disabled:focus,
.btn-info[disabled]:focus,
fieldset[disabled] .btn-info:focus,
.btn-info.disabled.focus,
.btn-info[disabled].focus,
fieldset[disabled] .btn-info.focus {
  background-color: #5bc0de;
  border-color: #46b8da;
}
.btn-info .badge {
  color: #5bc0de;
  background-color: #fff;
}
.btn-warning {
  color: #fff;
  background-color: #f0ad4e;
  border-color: #eea236;
}
.btn-warning:focus,
.btn-warning.focus {
  color: #fff;
  background-color: #ec971f;
  border-color: #985f0d;
}
.btn-warning:hover {
  color: #fff;
  background-color: #ec971f;
  border-color: #d58512;
}
.btn-warning:active,
.btn-warning.active,
.open > .dropdown-toggle.btn-warning {
  color: #fff;
  background-color: #ec971f;
  border-color: #d58512;
}
.btn-warning:active:hover,
.btn-warning.active:hover,
.open > .dropdown-toggle.btn-warning:hover,
.btn-warning:active:focus,
.btn-warning.active:focus,
.open > .dropdown-toggle.btn-warning:focus,
.btn-warning:active.focus,
.btn-warning.active.focus,
.open > .dropdown-toggle.btn-warning.focus {
  color: #fff;
  background-color: #d58512;
  border-color: #985f0d;
}
.btn-warning:active,
.btn-warning.active,
.open > .dropdown-toggle.btn-warning {
  background-image: none;
}
.btn-warning.disabled:hover,
.btn-warning[disabled]:hover,
fieldset[disabled] .btn-warning:hover,
.btn-warning.disabled:focus,
.btn-warning[disabled]:focus,
fieldset[disabled] .btn-warning:focus,
.btn-warning.disabled.focus,
.btn-warning[disabled].focus,
fieldset[disabled] .btn-warning.focus {
  background-color: #f0ad4e;
  border-color: #eea236;
}
.btn-warning .badge {
  color: #f0ad4e;
  background-color: #fff;
}
.btn-danger {
  color: #fff;
  background-color: #d9534f;
  border-color: #d43f3a;
}
.btn-danger:focus,
.btn-danger.focus {
  color: #fff;
  background-color: #c9302c;
  border-color: #761c19;
}
.btn-danger:hover {
  color: #fff;
  background-color: #c9302c;
  border-color: #ac2925;
}
.btn-danger:active,
.btn-danger.active,
.open > .dropdown-toggle.btn-danger {
  color: #fff;
  background-color: #c9302c;
  border-color: #ac2925;
}
.btn-danger:active:hover,
.btn-danger.active:hover,
.open > .dropdown-toggle.btn-danger:hover,
.btn-danger:active:focus,
.btn-danger.active:focus,
.open > .dropdown-toggle.btn-danger:focus,
.btn-danger:active.focus,
.btn-danger.active.focus,
.open > .dropdown-toggle.btn-danger.focus {
  color: #fff;
  background-color: #ac2925;
  border-color: #761c19;
}
.btn-danger:active,
.btn-danger.active,
.open > .dropdown-toggle.btn-danger {
  background-image: none;
}
.btn-danger.disabled:hover,
.btn-danger[disabled]:hover,
fieldset[disabled] .btn-danger:hover,
.btn-danger.disabled:focus,
.btn-danger[disabled]:focus,
fieldset[disabled] .btn-danger:focus,
.btn-danger.disabled.focus,
.btn-danger[disabled].focus,
fieldset[disabled] .btn-danger.focus {
  background-color: #d9534f;
  border-color: #d43f3a;
}
.btn-danger .badge {
  color: #d9534f;
  background-color: #fff;
}
.btn-link {
  color: #337ab7;
  font-weight: normal;
  border-radius: 0;
}
.btn-link,
.btn-link:active,
.btn-link.active,
.btn-link[disabled],
fieldset[disabled] .btn-link {
  background-color: transparent;
  -webkit-box-shadow: none;
  box-shadow: none;
}
.btn-link,
.btn-link:hover,
.btn-link:focus,
.btn-link:active {
  border-color: transparent;
}
.btn-link:hover,
.btn-link:focus {
  color: #23527c;
  text-decoration: underline;
  background-color: transparent;
}
.btn-link[disabled]:hover,
fieldset[disabled] .btn-link:hover,
.btn-link[disabled]:focus,
fieldset[disabled] .btn-link:focus {
  color: #777777;
  text-decoration: none;
}
.btn-lg,
.btn-group-lg > .btn {
  padding: 10px 16px;
  font-size: 17px;
  line-height: 1.3333333;
  border-radius: 3px;
}
.btn-sm,
.btn-group-sm > .btn {
  padding: 5px 10px;
  font-size: 12px;
  line-height: 1.5;
  border-radius: 1px;
}
.btn-xs,
.btn-group-xs > .btn {
  padding: 1px 5px;
  font-size: 12px;
  line-height: 1.5;
  border-radius: 1px;
}
.btn-block {
  display: block;
  width: 100%;
}
.btn-block + .btn-block {
  margin-top: 5px;
}
input[type="submit"].btn-block,
input[type="reset"].btn-block,
input[type="button"].btn-block {
  width: 100%;
}
.fade {
  opacity: 0;
  -webkit-transition: opacity 0.15s linear;
  -o-transition: opacity 0.15s linear;
  transition: opacity 0.15s linear;
}
.fade.in {
  opacity: 1;
}
.collapse {
  display: none;
}
.collapse.in {
  display: block;
}
tr.collapse.in {
  display: table-row;
}
tbody.collapse.in {
  display: table-row-group;
}
.collapsing {
  position: relative;
  height: 0;
  overflow: hidden;
  -webkit-transition-property: height, visibility;
  transition-property: height, visibility;
  -webkit-transition-duration: 0.35s;
  transition-duration: 0.35s;
  -webkit-transition-timing-function: ease;
  transition-timing-function: ease;
}
.caret {
  display: inline-block;
  width: 0;
  height: 0;
  margin-left: 2px;
  vertical-align: middle;
  border-top: 4px dashed;
  border-top: 4px solid \9;
  border-right: 4px solid transparent;
  border-left: 4px solid transparent;
}
.dropup,
.dropdown {
  position: relative;
}
.dropdown-toggle:focus {
  outline: 0;
}
.dropdown-menu {
  position: absolute;
  top: 100%;
  left: 0;
  z-index: 1000;
  display: none;
  float: left;
  min-width: 160px;
  padding: 5px 0;
  margin: 2px 0 0;
  list-style: none;
  font-size: 13px;
  text-align: left;
  background-color: #fff;
  border: 1px solid #ccc;
  border: 1px solid rgba(0, 0, 0, 0.15);
  border-radius: 2px;
  -webkit-box-shadow: 0 6px 12px rgba(0, 0, 0, 0.175);
  box-shadow: 0 6px 12px rgba(0, 0, 0, 0.175);
  background-clip: padding-box;
}
.dropdown-menu.pull-right {
  right: 0;
  left: auto;
}
.dropdown-menu .divider {
  height: 1px;
  margin: 8px 0;
  overflow: hidden;
  background-color: #e5e5e5;
}
.dropdown-menu > li > a {
  display: block;
  padding: 3px 20px;
  clear: both;
  font-weight: normal;
  line-height: 1.42857143;
  color: #333333;
  white-space: nowrap;
}
.dropdown-menu > li > a:hover,
.dropdown-menu > li > a:focus {
  text-decoration: none;
  color: #262626;
  background-color: #f5f5f5;
}
.dropdown-menu > .active > a,
.dropdown-menu > .active > a:hover,
.dropdown-menu > .active > a:focus {
  color: #fff;
  text-decoration: none;
  outline: 0;
  background-color: #337ab7;
}
.dropdown-menu > .disabled > a,
.dropdown-menu > .disabled > a:hover,
.dropdown-menu > .disabled > a:focus {
  color: #777777;
}
.dropdown-menu > .disabled > a:hover,
.dropdown-menu > .disabled > a:focus {
  text-decoration: none;
  background-color: transparent;
  background-image: none;
  filter: progid:DXImageTransform.Microsoft.gradient(enabled = false);
  cursor: not-allowed;
}
.open > .dropdown-menu {
  display: block;
}
.open > a {
  outline: 0;
}
.dropdown-menu-right {
  left: auto;
  right: 0;
}
.dropdown-menu-left {
  left: 0;
  right: auto;
}
.dropdown-header {
  display: block;
  padding: 3px 20px;
  font-size: 12px;
  line-height: 1.42857143;
  color: #777777;
  white-space: nowrap;
}
.dropdown-backdrop {
  position: fixed;
  left: 0;
  right: 0;
  bottom: 0;
  top: 0;
  z-index: 990;
}
.pull-right > .dropdown-menu {
  right: 0;
  left: auto;
}
.dropup .caret,
.navbar-fixed-bottom .dropdown .caret {
  border-top: 0;
  border-bottom: 4px dashed;
  border-bottom: 4px solid \9;
  content: "";
}
.dropup .dropdown-menu,
.navbar-fixed-bottom .dropdown .dropdown-menu {
  top: auto;
  bottom: 100%;
  margin-bottom: 2px;
}
@media (min-width: 541px) {
  .navbar-right .dropdown-menu {
    left: auto;
    right: 0;
  }
  .navbar-right .dropdown-menu-left {
    left: 0;
    right: auto;
  }
}
.btn-group,
.btn-group-vertical {
  position: relative;
  display: inline-block;
  vertical-align: middle;
}
.btn-group > .btn,
.btn-group-vertical > .btn {
  position: relative;
  float: left;
}
.btn-group > .btn:hover,
.btn-group-vertical > .btn:hover,
.btn-group > .btn:focus,
.btn-group-vertical > .btn:focus,
.btn-group > .btn:active,
.btn-group-vertical > .btn:active,
.btn-group > .btn.active,
.btn-group-vertical > .btn.active {
  z-index: 2;
}
.btn-group .btn + .btn,
.btn-group .btn + .btn-group,
.btn-group .btn-group + .btn,
.btn-group .btn-group + .btn-group {
  margin-left: -1px;
}
.btn-toolbar {
  margin-left: -5px;
}
.btn-toolbar .btn,
.btn-toolbar .btn-group,
.btn-toolbar .input-group {
  float: left;
}
.btn-toolbar > .btn,
.btn-toolbar > .btn-group,
.btn-toolbar > .input-group {
  margin-left: 5px;
}
.btn-group > .btn:not(:first-child):not(:last-child):not(.dropdown-toggle) {
  border-radius: 0;
}
.btn-group > .btn:first-child {
  margin-left: 0;
}
.btn-group > .btn:first-child:not(:last-child):not(.dropdown-toggle) {
  border-bottom-right-radius: 0;
  border-top-right-radius: 0;
}
.btn-group > .btn:last-child:not(:first-child),
.btn-group > .dropdown-toggle:not(:first-child) {
  border-bottom-left-radius: 0;
  border-top-left-radius: 0;
}
.btn-group > .btn-group {
  float: left;
}
.btn-group > .btn-group:not(:first-child):not(:last-child) > .btn {
  border-radius: 0;
}
.btn-group > .btn-group:first-child:not(:last-child) > .btn:last-child,
.btn-group > .btn-group:first-child:not(:last-child) > .dropdown-toggle {
  border-bottom-right-radius: 0;
  border-top-right-radius: 0;
}
.btn-group > .btn-group:last-child:not(:first-child) > .btn:first-child {
  border-bottom-left-radius: 0;
  border-top-left-radius: 0;
}
.btn-group .dropdown-toggle:active,
.btn-group.open .dropdown-toggle {
  outline: 0;
}
.btn-group > .btn + .dropdown-toggle {
  padding-left: 8px;
  padding-right: 8px;
}
.btn-group > .btn-lg + .dropdown-toggle {
  padding-left: 12px;
  padding-right: 12px;
}
.btn-group.open .dropdown-toggle {
  -webkit-box-shadow: inset 0 3px 5px rgba(0, 0, 0, 0.125);
  box-shadow: inset 0 3px 5px rgba(0, 0, 0, 0.125);
}
.btn-group.open .dropdown-toggle.btn-link {
  -webkit-box-shadow: none;
  box-shadow: none;
}
.btn .caret {
  margin-left: 0;
}
.btn-lg .caret {
  border-width: 5px 5px 0;
  border-bottom-width: 0;
}
.dropup .btn-lg .caret {
  border-width: 0 5px 5px;
}
.btn-group-vertical > .btn,
.btn-group-vertical > .btn-group,
.btn-group-vertical > .btn-group > .btn {
  display: block;
  float: none;
  width: 100%;
  max-width: 100%;
}
.btn-group-vertical > .btn-group > .btn {
  float: none;
}
.btn-group-vertical > .btn + .btn,
.btn-group-vertical > .btn + .btn-group,
.btn-group-vertical > .btn-group + .btn,
.btn-group-vertical > .btn-group + .btn-group {
  margin-top: -1px;
  margin-left: 0;
}
.btn-group-vertical > .btn:not(:first-child):not(:last-child) {
  border-radius: 0;
}
.btn-group-vertical > .btn:first-child:not(:last-child) {
  border-top-right-radius: 2px;
  border-top-left-radius: 2px;
  border-bottom-right-radius: 0;
  border-bottom-left-radius: 0;
}
.btn-group-vertical > .btn:last-child:not(:first-child) {
  border-top-right-radius: 0;
  border-top-left-radius: 0;
  border-bottom-right-radius: 2px;
  border-bottom-left-radius: 2px;
}
.btn-group-vertical > .btn-group:not(:first-child):not(:last-child) > .btn {
  border-radius: 0;
}
.btn-group-vertical > .btn-group:first-child:not(:last-child) > .btn:last-child,
.btn-group-vertical > .btn-group:first-child:not(:last-child) > .dropdown-toggle {
  border-bottom-right-radius: 0;
  border-bottom-left-radius: 0;
}
.btn-group-vertical > .btn-group:last-child:not(:first-child) > .btn:first-child {
  border-top-right-radius: 0;
  border-top-left-radius: 0;
}
.btn-group-justified {
  display: table;
  width: 100%;
  table-layout: fixed;
  border-collapse: separate;
}
.btn-group-justified > .btn,
.btn-group-justified > .btn-group {
  float: none;
  display: table-cell;
  width: 1%;
}
.btn-group-justified > .btn-group .btn {
  width: 100%;
}
.btn-group-justified > .btn-group .dropdown-menu {
  left: auto;
}
[data-toggle="buttons"] > .btn input[type="radio"],
[data-toggle="buttons"] > .btn-group > .btn input[type="radio"],
[data-toggle="buttons"] > .btn input[type="checkbox"],
[data-toggle="buttons"] > .btn-group > .btn input[type="checkbox"] {
  position: absolute;
  clip: rect(0, 0, 0, 0);
  pointer-events: none;
}
.input-group {
  position: relative;
  display: table;
  border-collapse: separate;
}
.input-group[class*="col-"] {
  float: none;
  padding-left: 0;
  padding-right: 0;
}
.input-group .form-control {
  position: relative;
  z-index: 2;
  float: left;
  width: 100%;
  margin-bottom: 0;
}
.input-group .form-control:focus {
  z-index: 3;
}
.input-group-lg > .form-control,
.input-group-lg > .input-group-addon,
.input-group-lg > .input-group-btn > .btn {
  height: 45px;
  padding: 10px 16px;
  font-size: 17px;
  line-height: 1.3333333;
  border-radius: 3px;
}
select.input-group-lg > .form-control,
select.input-group-lg > .input-group-addon,
select.input-group-lg > .input-group-btn > .btn {
  height: 45px;
  line-height: 45px;
}
textarea.input-group-lg > .form-control,
textarea.input-group-lg > .input-group-addon,
textarea.input-group-lg > .input-group-btn > .btn,
select[multiple].input-group-lg > .form-control,
select[multiple].input-group-lg > .input-group-addon,
select[multiple].input-group-lg > .input-group-btn > .btn {
  height: auto;
}
.input-group-sm > .form-control,
.input-group-sm > .input-group-addon,
.input-group-sm > .input-group-btn > .btn {
  height: 30px;
  padding: 5px 10px;
  font-size: 12px;
  line-height: 1.5;
  border-radius: 1px;
}
select.input-group-sm > .form-control,
select.input-group-sm > .input-group-addon,
select.input-group-sm > .input-group-btn > .btn {
  height: 30px;
  line-height: 30px;
}
textarea.input-group-sm > .form-control,
textarea.input-group-sm > .input-group-addon,
textarea.input-group-sm > .input-group-btn > .btn,
select[multiple].input-group-sm > .form-control,
select[multiple].input-group-sm > .input-group-addon,
select[multiple].input-group-sm > .input-group-btn > .btn {
  height: auto;
}
.input-group-addon,
.input-group-btn,
.input-group .form-control {
  display: table-cell;
}
.input-group-addon:not(:first-child):not(:last-child),
.input-group-btn:not(:first-child):not(:last-child),
.input-group .form-control:not(:first-child):not(:last-child) {
  border-radius: 0;
}
.input-group-addon,
.input-group-btn {
  width: 1%;
  white-space: nowrap;
  vertical-align: middle;
}
.input-group-addon {
  padding: 6px 12px;
  font-size: 13px;
  font-weight: normal;
  line-height: 1;
  color: #555555;
  text-align: center;
  background-color: #eeeeee;
  border: 1px solid #ccc;
  border-radius: 2px;
}
.input-group-addon.input-sm {
  padding: 5px 10px;
  font-size: 12px;
  border-radius: 1px;
}
.input-group-addon.input-lg {
  padding: 10px 16px;
  font-size: 17px;
  border-radius: 3px;
}
.input-group-addon input[type="radio"],
.input-group-addon input[type="checkbox"] {
  margin-top: 0;
}
.input-group .form-control:first-child,
.input-group-addon:first-child,
.input-group-btn:first-child > .btn,
.input-group-btn:first-child > .btn-group > .btn,
.input-group-btn:first-child > .dropdown-toggle,
.input-group-btn:last-child > .btn:not(:last-child):not(.dropdown-toggle),
.input-group-btn:last-child > .btn-group:not(:last-child) > .btn {
  border-bottom-right-radius: 0;
  border-top-right-radius: 0;
}
.input-group-addon:first-child {
  border-right: 0;
}
.input-group .form-control:last-child,
.input-group-addon:last-child,
.input-group-btn:last-child > .btn,
.input-group-btn:last-child > .btn-group > .btn,
.input-group-btn:last-child > .dropdown-toggle,
.input-group-btn:first-child > .btn:not(:first-child),
.input-group-btn:first-child > .btn-group:not(:first-child) > .btn {
  border-bottom-left-radius: 0;
  border-top-left-radius: 0;
}
.input-group-addon:last-child {
  border-left: 0;
}
.input-group-btn {
  position: relative;
  font-size: 0;
  white-space: nowrap;
}
.input-group-btn > .btn {
  position: relative;
}
.input-group-btn > .btn + .btn {
  margin-left: -1px;
}
.input-group-btn > .btn:hover,
.input-group-btn > .btn:focus,
.input-group-btn > .btn:active {
  z-index: 2;
}
.input-group-btn:first-child > .btn,
.input-group-btn:first-child > .btn-group {
  margin-right: -1px;
}
.input-group-btn:last-child > .btn,
.input-group-btn:last-child > .btn-group {
  z-index: 2;
  margin-left: -1px;
}
.nav {
  margin-bottom: 0;
  padding-left: 0;
  list-style: none;
}
.nav > li {
  position: relative;
  display: block;
}
.nav > li > a {
  position: relative;
  display: block;
  padding: 10px 15px;
}
.nav > li > a:hover,
.nav > li > a:focus {
  text-decoration: none;
  background-color: #eeeeee;
}
.nav > li.disabled > a {
  color: #777777;
}
.nav > li.disabled > a:hover,
.nav > li.disabled > a:focus {
  color: #777777;
  text-decoration: none;
  background-color: transparent;
  cursor: not-allowed;
}
.nav .open > a,
.nav .open > a:hover,
.nav .open > a:focus {
  background-color: #eeeeee;
  border-color: #337ab7;
}
.nav .nav-divider {
  height: 1px;
  margin: 8px 0;
  overflow: hidden;
  background-color: #e5e5e5;
}
.nav > li > a > img {
  max-width: none;
}
.nav-tabs {
  border-bottom: 1px solid #ddd;
}
.nav-tabs > li {
  float: left;
  margin-bottom: -1px;
}
.nav-tabs > li > a {
  margin-right: 2px;
  line-height: 1.42857143;
  border: 1px solid transparent;
  border-radius: 2px 2px 0 0;
}
.nav-tabs > li > a:hover {
  border-color: #eeeeee #eeeeee #ddd;
}
.nav-tabs > li.active > a,
.nav-tabs > li.active > a:hover,
.nav-tabs > li.active > a:focus {
  color: #555555;
  background-color: #fff;
  border: 1px solid #ddd;
  border-bottom-color: transparent;
  cursor: default;
}
.nav-tabs.nav-justified {
  width: 100%;
  border-bottom: 0;
}
.nav-tabs.nav-justified > li {
  float: none;
}
.nav-tabs.nav-justified > li > a {
  text-align: center;
  margin-bottom: 5px;
}
.nav-tabs.nav-justified > .dropdown .dropdown-menu {
  top: auto;
  left: auto;
}
@media (min-width: 768px) {
  .nav-tabs.nav-justified > li {
    display: table-cell;
    width: 1%;
  }
  .nav-tabs.nav-justified > li > a {
    margin-bottom: 0;
  }
}
.nav-tabs.nav-justified > li > a {
  margin-right: 0;
  border-radius: 2px;
}
.nav-tabs.nav-justified > .active > a,
.nav-tabs.nav-justified > .active > a:hover,
.nav-tabs.nav-justified > .active > a:focus {
  border: 1px solid #ddd;
}
@media (min-width: 768px) {
  .nav-tabs.nav-justified > li > a {
    border-bottom: 1px solid #ddd;
    border-radius: 2px 2px 0 0;
  }
  .nav-tabs.nav-justified > .active > a,
  .nav-tabs.nav-justified > .active > a:hover,
  .nav-tabs.nav-justified > .active > a:focus {
    border-bottom-color: #fff;
  }
}
.nav-pills > li {
  float: left;
}
.nav-pills > li > a {
  border-radius: 2px;
}
.nav-pills > li + li {
  margin-left: 2px;
}
.nav-pills > li.active > a,
.nav-pills > li.active > a:hover,
.nav-pills > li.active > a:focus {
  color: #fff;
  background-color: #337ab7;
}
.nav-stacked > li {
  float: none;
}
.nav-stacked > li + li {
  margin-top: 2px;
  margin-left: 0;
}
.nav-justified {
  width: 100%;
}
.nav-justified > li {
  float: none;
}
.nav-justified > li > a {
  text-align: center;
  margin-bottom: 5px;
}
.nav-justified > .dropdown .dropdown-menu {
  top: auto;
  left: auto;
}
@media (min-width: 768px) {
  .nav-justified > li {
    display: table-cell;
    width: 1%;
  }
  .nav-justified > li > a {
    margin-bottom: 0;
  }
}
.nav-tabs-justified {
  border-bottom: 0;
}
.nav-tabs-justified > li > a {
  margin-right: 0;
  border-radius: 2px;
}
.nav-tabs-justified > .active > a,
.nav-tabs-justified > .active > a:hover,
.nav-tabs-justified > .active > a:focus {
  border: 1px solid #ddd;
}
@media (min-width: 768px) {
  .nav-tabs-justified > li > a {
    border-bottom: 1px solid #ddd;
    border-radius: 2px 2px 0 0;
  }
  .nav-tabs-justified > .active > a,
  .nav-tabs-justified > .active > a:hover,
  .nav-tabs-justified > .active > a:focus {
    border-bottom-color: #fff;
  }
}
.tab-content > .tab-pane {
  display: none;
}
.tab-content > .active {
  display: block;
}
.nav-tabs .dropdown-menu {
  margin-top: -1px;
  border-top-right-radius: 0;
  border-top-left-radius: 0;
}
.navbar {
  position: relative;
  min-height: 30px;
  margin-bottom: 18px;
  border: 1px solid transparent;
}
@media (min-width: 541px) {
  .navbar {
    border-radius: 2px;
  }
}
@media (min-width: 541px) {
  .navbar-header {
    float: left;
  }
}
.navbar-collapse {
  overflow-x: visible;
  padding-right: 0px;
  padding-left: 0px;
  border-top: 1px solid transparent;
  box-shadow: inset 0 1px 0 rgba(255, 255, 255, 0.1);
  -webkit-overflow-scrolling: touch;
}
.navbar-collapse.in {
  overflow-y: auto;
}
@media (min-width: 541px) {
  .navbar-collapse {
    width: auto;
    border-top: 0;
    box-shadow: none;
  }
  .navbar-collapse.collapse {
    display: block !important;
    height: auto !important;
    padding-bottom: 0;
    overflow: visible !important;
  }
  .navbar-collapse.in {
    overflow-y: visible;
  }
  .navbar-fixed-top .navbar-collapse,
  .navbar-static-top .navbar-collapse,
  .navbar-fixed-bottom .navbar-collapse {
    padding-left: 0;
    padding-right: 0;
  }
}
.navbar-fixed-top .navbar-collapse,
.navbar-fixed-bottom .navbar-collapse {
  max-height: 340px;
}
@media (max-device-width: 540px) and (orientation: landscape) {
  .navbar-fixed-top .navbar-collapse,
  .navbar-fixed-bottom .navbar-collapse {
    max-height: 200px;
  }
}
.container > .navbar-header,
.container-fluid > .navbar-header,
.container > .navbar-collapse,
.container-fluid > .navbar-collapse {
  margin-right: 0px;
  margin-left: 0px;
}
@media (min-width: 541px) {
  .container > .navbar-header,
  .container-fluid > .navbar-header,
  .container > .navbar-collapse,
  .container-fluid > .navbar-collapse {
    margin-right: 0;
    margin-left: 0;
  }
}
.navbar-static-top {
  z-index: 1000;
  border-width: 0 0 1px;
}
@media (min-width: 541px) {
  .navbar-static-top {
    border-radius: 0;
  }
}
.navbar-fixed-top,
.navbar-fixed-bottom {
  position: fixed;
  right: 0;
  left: 0;
  z-index: 1030;
}
@media (min-width: 541px) {
  .navbar-fixed-top,
  .navbar-fixed-bottom {
    border-radius: 0;
  }
}
.navbar-fixed-top {
  top: 0;
  border-width: 0 0 1px;
}
.navbar-fixed-bottom {
  bottom: 0;
  margin-bottom: 0;
  border-width: 1px 0 0;
}
.navbar-brand {
  float: left;
  padding: 6px 0px;
  font-size: 17px;
  line-height: 18px;
  height: 30px;
}
.navbar-brand:hover,
.navbar-brand:focus {
  text-decoration: none;
}
.navbar-brand > img {
  display: block;
}
@media (min-width: 541px) {
  .navbar > .container .navbar-brand,
  .navbar > .container-fluid .navbar-brand {
    margin-left: 0px;
  }
}
.navbar-toggle {
  position: relative;
  float: right;
  margin-right: 0px;
  padding: 9px 10px;
  margin-top: -2px;
  margin-bottom: -2px;
  background-color: transparent;
  background-image: none;
  border: 1px solid transparent;
  border-radius: 2px;
}
.navbar-toggle:focus {
  outline: 0;
}
.navbar-toggle .icon-bar {
  display: block;
  width: 22px;
  height: 2px;
  border-radius: 1px;
}
.navbar-toggle .icon-bar + .icon-bar {
  margin-top: 4px;
}
@media (min-width: 541px) {
  .navbar-toggle {
    display: none;
  }
}
.navbar-nav {
  margin: 3px 0px;
}
.navbar-nav > li > a {
  padding-top: 10px;
  padding-bottom: 10px;
  line-height: 18px;
}
@media (max-width: 540px) {
  .navbar-nav .open .dropdown-menu {
    position: static;
    float: none;
    width: auto;
    margin-top: 0;
    background-color: transparent;
    border: 0;
    box-shadow: none;
  }
  .navbar-nav .open .dropdown-menu > li > a,
  .navbar-nav .open .dropdown-menu .dropdown-header {
    padding: 5px 15px 5px 25px;
  }
  .navbar-nav .open .dropdown-menu > li > a {
    line-height: 18px;
  }
  .navbar-nav .open .dropdown-menu > li > a:hover,
  .navbar-nav .open .dropdown-menu > li > a:focus {
    background-image: none;
  }
}
@media (min-width: 541px) {
  .navbar-nav {
    float: left;
    margin: 0;
  }
  .navbar-nav > li {
    float: left;
  }
  .navbar-nav > li > a {
    padding-top: 6px;
    padding-bottom: 6px;
  }
}
.navbar-form {
  margin-left: 0px;
  margin-right: 0px;
  padding: 10px 0px;
  border-top: 1px solid transparent;
  border-bottom: 1px solid transparent;
  -webkit-box-shadow: inset 0 1px 0 rgba(255, 255, 255, 0.1), 0 1px 0 rgba(255, 255, 255, 0.1);
  box-shadow: inset 0 1px 0 rgba(255, 255, 255, 0.1), 0 1px 0 rgba(255, 255, 255, 0.1);
  margin-top: -1px;
  margin-bottom: -1px;
}
@media (min-width: 768px) {
  .navbar-form .form-group {
    display: inline-block;
    margin-bottom: 0;
    vertical-align: middle;
  }
  .navbar-form .form-control {
    display: inline-block;
    width: auto;
    vertical-align: middle;
  }
  .navbar-form .form-control-static {
    display: inline-block;
  }
  .navbar-form .input-group {
    display: inline-table;
    vertical-align: middle;
  }
  .navbar-form .input-group .input-group-addon,
  .navbar-form .input-group .input-group-btn,
  .navbar-form .input-group .form-control {
    width: auto;
  }
  .navbar-form .input-group > .form-control {
    width: 100%;
  }
  .navbar-form .control-label {
    margin-bottom: 0;
    vertical-align: middle;
  }
  .navbar-form .radio,
  .navbar-form .checkbox {
    display: inline-block;
    margin-top: 0;
    margin-bottom: 0;
    vertical-align: middle;
  }
  .navbar-form .radio label,
  .navbar-form .checkbox label {
    padding-left: 0;
  }
  .navbar-form .radio input[type="radio"],
  .navbar-form .checkbox input[type="checkbox"] {
    position: relative;
    margin-left: 0;
  }
  .navbar-form .has-feedback .form-control-feedback {
    top: 0;
  }
}
@media (max-width: 540px) {
  .navbar-form .form-group {
    margin-bottom: 5px;
  }
  .navbar-form .form-group:last-child {
    margin-bottom: 0;
  }
}
@media (min-width: 541px) {
  .navbar-form {
    width: auto;
    border: 0;
    margin-left: 0;
    margin-right: 0;
    padding-top: 0;
    padding-bottom: 0;
    -webkit-box-shadow: none;
    box-shadow: none;
  }
}
.navbar-nav > li > .dropdown-menu {
  margin-top: 0;
  border-top-right-radius: 0;
  border-top-left-radius: 0;
}
.navbar-fixed-bottom .navbar-nav > li > .dropdown-menu {
  margin-bottom: 0;
  border-top-right-radius: 2px;
  border-top-left-radius: 2px;
  border-bottom-right-radius: 0;
  border-bottom-left-radius: 0;
}
.navbar-btn {
  margin-top: -1px;
  margin-bottom: -1px;
}
.navbar-btn.btn-sm {
  margin-top: 0px;
  margin-bottom: 0px;
}
.navbar-btn.btn-xs {
  margin-top: 4px;
  margin-bottom: 4px;
}
.navbar-text {
  margin-top: 6px;
  margin-bottom: 6px;
}
@media (min-width: 541px) {
  .navbar-text {
    float: left;
    margin-left: 0px;
    margin-right: 0px;
  }
}
@media (min-width: 541px) {
  .navbar-left {
    float: left !important;
    float: left;
  }
  .navbar-right {
    float: right !important;
    float: right;
    margin-right: 0px;
  }
  .navbar-right ~ .navbar-right {
    margin-right: 0;
  }
}
.navbar-default {
  background-color: #f8f8f8;
  border-color: #e7e7e7;
}
.navbar-default .navbar-brand {
  color: #777;
}
.navbar-default .navbar-brand:hover,
.navbar-default .navbar-brand:focus {
  color: #5e5e5e;
  background-color: transparent;
}
.navbar-default .navbar-text {
  color: #777;
}
.navbar-default .navbar-nav > li > a {
  color: #777;
}
.navbar-default .navbar-nav > li > a:hover,
.navbar-default .navbar-nav > li > a:focus {
  color: #333;
  background-color: transparent;
}
.navbar-default .navbar-nav > .active > a,
.navbar-default .navbar-nav > .active > a:hover,
.navbar-default .navbar-nav > .active > a:focus {
  color: #555;
  background-color: #e7e7e7;
}
.navbar-default .navbar-nav > .disabled > a,
.navbar-default .navbar-nav > .disabled > a:hover,
.navbar-default .navbar-nav > .disabled > a:focus {
  color: #ccc;
  background-color: transparent;
}
.navbar-default .navbar-toggle {
  border-color: #ddd;
}
.navbar-default .navbar-toggle:hover,
.navbar-default .navbar-toggle:focus {
  background-color: #ddd;
}
.navbar-default .navbar-toggle .icon-bar {
  background-color: #888;
}
.navbar-default .navbar-collapse,
.navbar-default .navbar-form {
  border-color: #e7e7e7;
}
.navbar-default .navbar-nav > .open > a,
.navbar-default .navbar-nav > .open > a:hover,
.navbar-default .navbar-nav > .open > a:focus {
  background-color: #e7e7e7;
  color: #555;
}
@media (max-width: 540px) {
  .navbar-default .navbar-nav .open .dropdown-menu > li > a {
    color: #777;
  }
  .navbar-default .navbar-nav .open .dropdown-menu > li > a:hover,
  .navbar-default .navbar-nav .open .dropdown-menu > li > a:focus {
    color: #333;
    background-color: transparent;
  }
  .navbar-default .navbar-nav .open .dropdown-menu > .active > a,
  .navbar-default .navbar-nav .open .dropdown-menu > .active > a:hover,
  .navbar-default .navbar-nav .open .dropdown-menu > .active > a:focus {
    color: #555;
    background-color: #e7e7e7;
  }
  .navbar-default .navbar-nav .open .dropdown-menu > .disabled > a,
  .navbar-default .navbar-nav .open .dropdown-menu > .disabled > a:hover,
  .navbar-default .navbar-nav .open .dropdown-menu > .disabled > a:focus {
    color: #ccc;
    background-color: transparent;
  }
}
.navbar-default .navbar-link {
  color: #777;
}
.navbar-default .navbar-link:hover {
  color: #333;
}
.navbar-default .btn-link {
  color: #777;
}
.navbar-default .btn-link:hover,
.navbar-default .btn-link:focus {
  color: #333;
}
.navbar-default .btn-link[disabled]:hover,
fieldset[disabled] .navbar-default .btn-link:hover,
.navbar-default .btn-link[disabled]:focus,
fieldset[disabled] .navbar-default .btn-link:focus {
  color: #ccc;
}
.navbar-inverse {
  background-color: #222;
  border-color: #080808;
}
.navbar-inverse .navbar-brand {
  color: #9d9d9d;
}
.navbar-inverse .navbar-brand:hover,
.navbar-inverse .navbar-brand:focus {
  color: #fff;
  background-color: transparent;
}
.navbar-inverse .navbar-text {
  color: #9d9d9d;
}
.navbar-inverse .navbar-nav > li > a {
  color: #9d9d9d;
}
.navbar-inverse .navbar-nav > li > a:hover,
.navbar-inverse .navbar-nav > li > a:focus {
  color: #fff;
  background-color: transparent;
}
.navbar-inverse .navbar-nav > .active > a,
.navbar-inverse .navbar-nav > .active > a:hover,
.navbar-inverse .navbar-nav > .active > a:focus {
  color: #fff;
  background-color: #080808;
}
.navbar-inverse .navbar-nav > .disabled > a,
.navbar-inverse .navbar-nav > .disabled > a:hover,
.navbar-inverse .navbar-nav > .disabled > a:focus {
  color: #444;
  background-color: transparent;
}
.navbar-inverse .navbar-toggle {
  border-color: #333;
}
.navbar-inverse .navbar-toggle:hover,
.navbar-inverse .navbar-toggle:focus {
  background-color: #333;
}
.navbar-inverse .navbar-toggle .icon-bar {
  background-color: #fff;
}
.navbar-inverse .navbar-collapse,
.navbar-inverse .navbar-form {
  border-color: #101010;
}
.navbar-inverse .navbar-nav > .open > a,
.navbar-inverse .navbar-nav > .open > a:hover,
.navbar-inverse .navbar-nav > .open > a:focus {
  background-color: #080808;
  color: #fff;
}
@media (max-width: 540px) {
  .navbar-inverse .navbar-nav .open .dropdown-menu > .dropdown-header {
    border-color: #080808;
  }
  .navbar-inverse .navbar-nav .open .dropdown-menu .divider {
    background-color: #080808;
  }
  .navbar-inverse .navbar-nav .open .dropdown-menu > li > a {
    color: #9d9d9d;
  }
  .navbar-inverse .navbar-nav .open .dropdown-menu > li > a:hover,
  .navbar-inverse .navbar-nav .open .dropdown-menu > li > a:focus {
    color: #fff;
    background-color: transparent;
  }
  .navbar-inverse .navbar-nav .open .dropdown-menu > .active > a,
  .navbar-inverse .navbar-nav .open .dropdown-menu > .active > a:hover,
  .navbar-inverse .navbar-nav .open .dropdown-menu > .active > a:focus {
    color: #fff;
    background-color: #080808;
  }
  .navbar-inverse .navbar-nav .open .dropdown-menu > .disabled > a,
  .navbar-inverse .navbar-nav .open .dropdown-menu > .disabled > a:hover,
  .navbar-inverse .navbar-nav .open .dropdown-menu > .disabled > a:focus {
    color: #444;
    background-color: transparent;
  }
}
.navbar-inverse .navbar-link {
  color: #9d9d9d;
}
.navbar-inverse .navbar-link:hover {
  color: #fff;
}
.navbar-inverse .btn-link {
  color: #9d9d9d;
}
.navbar-inverse .btn-link:hover,
.navbar-inverse .btn-link:focus {
  color: #fff;
}
.navbar-inverse .btn-link[disabled]:hover,
fieldset[disabled] .navbar-inverse .btn-link:hover,
.navbar-inverse .btn-link[disabled]:focus,
fieldset[disabled] .navbar-inverse .btn-link:focus {
  color: #444;
}
.breadcrumb {
  padding: 8px 15px;
  margin-bottom: 18px;
  list-style: none;
  background-color: #f5f5f5;
  border-radius: 2px;
}
.breadcrumb > li {
  display: inline-block;
}
.breadcrumb > li + li:before {
  content: "/\00a0";
  padding: 0 5px;
  color: #5e5e5e;
}
.breadcrumb > .active {
  color: #777777;
}
.pagination {
  display: inline-block;
  padding-left: 0;
  margin: 18px 0;
  border-radius: 2px;
}
.pagination > li {
  display: inline;
}
.pagination > li > a,
.pagination > li > span {
  position: relative;
  float: left;
  padding: 6px 12px;
  line-height: 1.42857143;
  text-decoration: none;
  color: #337ab7;
  background-color: #fff;
  border: 1px solid #ddd;
  margin-left: -1px;
}
.pagination > li:first-child > a,
.pagination > li:first-child > span {
  margin-left: 0;
  border-bottom-left-radius: 2px;
  border-top-left-radius: 2px;
}
.pagination > li:last-child > a,
.pagination > li:last-child > span {
  border-bottom-right-radius: 2px;
  border-top-right-radius: 2px;
}
.pagination > li > a:hover,
.pagination > li > span:hover,
.pagination > li > a:focus,
.pagination > li > span:focus {
  z-index: 2;
  color: #23527c;
  background-color: #eeeeee;
  border-color: #ddd;
}
.pagination > .active > a,
.pagination > .active > span,
.pagination > .active > a:hover,
.pagination > .active > span:hover,
.pagination > .active > a:focus,
.pagination > .active > span:focus {
  z-index: 3;
  color: #fff;
  background-color: #337ab7;
  border-color: #337ab7;
  cursor: default;
}
.pagination > .disabled > span,
.pagination > .disabled > span:hover,
.pagination > .disabled > span:focus,
.pagination > .disabled > a,
.pagination > .disabled > a:hover,
.pagination > .disabled > a:focus {
  color: #777777;
  background-color: #fff;
  border-color: #ddd;
  cursor: not-allowed;
}
.pagination-lg > li > a,
.pagination-lg > li > span {
  padding: 10px 16px;
  font-size: 17px;
  line-height: 1.3333333;
}
.pagination-lg > li:first-child > a,
.pagination-lg > li:first-child > span {
  border-bottom-left-radius: 3px;
  border-top-left-radius: 3px;
}
.pagination-lg > li:last-child > a,
.pagination-lg > li:last-child > span {
  border-bottom-right-radius: 3px;
  border-top-right-radius: 3px;
}
.pagination-sm > li > a,
.pagination-sm > li > span {
  padding: 5px 10px;
  font-size: 12px;
  line-height: 1.5;
}
.pagination-sm > li:first-child > a,
.pagination-sm > li:first-child > span {
  border-bottom-left-radius: 1px;
  border-top-left-radius: 1px;
}
.pagination-sm > li:last-child > a,
.pagination-sm > li:last-child > span {
  border-bottom-right-radius: 1px;
  border-top-right-radius: 1px;
}
.pager {
  padding-left: 0;
  margin: 18px 0;
  list-style: none;
  text-align: center;
}
.pager li {
  display: inline;
}
.pager li > a,
.pager li > span {
  display: inline-block;
  padding: 5px 14px;
  background-color: #fff;
  border: 1px solid #ddd;
  border-radius: 15px;
}
.pager li > a:hover,
.pager li > a:focus {
  text-decoration: none;
  background-color: #eeeeee;
}
.pager .next > a,
.pager .next > span {
  float: right;
}
.pager .previous > a,
.pager .previous > span {
  float: left;
}
.pager .disabled > a,
.pager .disabled > a:hover,
.pager .disabled > a:focus,
.pager .disabled > span {
  color: #777777;
  background-color: #fff;
  cursor: not-allowed;
}
.label {
  display: inline;
  padding: .2em .6em .3em;
  font-size: 75%;
  font-weight: bold;
  line-height: 1;
  color: #fff;
  text-align: center;
  white-space: nowrap;
  vertical-align: baseline;
  border-radius: .25em;
}
a.label:hover,
a.label:focus {
  color: #fff;
  text-decoration: none;
  cursor: pointer;
}
.label:empty {
  display: none;
}
.btn .label {
  position: relative;
  top: -1px;
}
.label-default {
  background-color: #777777;
}
.label-default[href]:hover,
.label-default[href]:focus {
  background-color: #5e5e5e;
}
.label-primary {
  background-color: #337ab7;
}
.label-primary[href]:hover,
.label-primary[href]:focus {
  background-color: #286090;
}
.label-success {
  background-color: #5cb85c;
}
.label-success[href]:hover,
.label-success[href]:focus {
  background-color: #449d44;
}
.label-info {
  background-color: #5bc0de;
}
.label-info[href]:hover,
.label-info[href]:focus {
  background-color: #31b0d5;
}
.label-warning {
  background-color: #f0ad4e;
}
.label-warning[href]:hover,
.label-warning[href]:focus {
  background-color: #ec971f;
}
.label-danger {
  background-color: #d9534f;
}
.label-danger[href]:hover,
.label-danger[href]:focus {
  background-color: #c9302c;
}
.badge {
  display: inline-block;
  min-width: 10px;
  padding: 3px 7px;
  font-size: 12px;
  font-weight: bold;
  color: #fff;
  line-height: 1;
  vertical-align: middle;
  white-space: nowrap;
  text-align: center;
  background-color: #777777;
  border-radius: 10px;
}
.badge:empty {
  display: none;
}
.btn .badge {
  position: relative;
  top: -1px;
}
.btn-xs .badge,
.btn-group-xs > .btn .badge {
  top: 0;
  padding: 1px 5px;
}
a.badge:hover,
a.badge:focus {
  color: #fff;
  text-decoration: none;
  cursor: pointer;
}
.list-group-item.active > .badge,
.nav-pills > .active > a > .badge {
  color: #337ab7;
  background-color: #fff;
}
.list-group-item > .badge {
  float: right;
}
.list-group-item > .badge + .badge {
  margin-right: 5px;
}
.nav-pills > li > a > .badge {
  margin-left: 3px;
}
.jumbotron {
  padding-top: 30px;
  padding-bottom: 30px;
  margin-bottom: 30px;
  color: inherit;
  background-color: #eeeeee;
}
.jumbotron h1,
.jumbotron .h1 {
  color: inherit;
}
.jumbotron p {
  margin-bottom: 15px;
  font-size: 20px;
  font-weight: 200;
}
.jumbotron > hr {
  border-top-color: #d5d5d5;
}
.container .jumbotron,
.container-fluid .jumbotron {
  border-radius: 3px;
  padding-left: 0px;
  padding-right: 0px;
}
.jumbotron .container {
  max-width: 100%;
}
@media screen and (min-width: 768px) {
  .jumbotron {
    padding-top: 48px;
    padding-bottom: 48px;
  }
  .container .jumbotron,
  .container-fluid .jumbotron {
    padding-left: 60px;
    padding-right: 60px;
  }
  .jumbotron h1,
  .jumbotron .h1 {
    font-size: 59px;
  }
}
.thumbnail {
  display: block;
  padding: 4px;
  margin-bottom: 18px;
  line-height: 1.42857143;
  background-color: #fff;
  border: 1px solid #ddd;
  border-radius: 2px;
  -webkit-transition: border 0.2s ease-in-out;
  -o-transition: border 0.2s ease-in-out;
  transition: border 0.2s ease-in-out;
}
.thumbnail > img,
.thumbnail a > img {
  margin-left: auto;
  margin-right: auto;
}
a.thumbnail:hover,
a.thumbnail:focus,
a.thumbnail.active {
  border-color: #337ab7;
}
.thumbnail .caption {
  padding: 9px;
  color: #000;
}
.alert {
  padding: 15px;
  margin-bottom: 18px;
  border: 1px solid transparent;
  border-radius: 2px;
}
.alert h4 {
  margin-top: 0;
  color: inherit;
}
.alert .alert-link {
  font-weight: bold;
}
.alert > p,
.alert > ul {
  margin-bottom: 0;
}
.alert > p + p {
  margin-top: 5px;
}
.alert-dismissable,
.alert-dismissible {
  padding-right: 35px;
}
.alert-dismissable .close,
.alert-dismissible .close {
  position: relative;
  top: -2px;
  right: -21px;
  color: inherit;
}
.alert-success {
  background-color: #dff0d8;
  border-color: #d6e9c6;
  color: #3c763d;
}
.alert-success hr {
  border-top-color: #c9e2b3;
}
.alert-success .alert-link {
  color: #2b542c;
}
.alert-info {
  background-color: #d9edf7;
  border-color: #bce8f1;
  color: #31708f;
}
.alert-info hr {
  border-top-color: #a6e1ec;
}
.alert-info .alert-link {
  color: #245269;
}
.alert-warning {
  background-color: #fcf8e3;
  border-color: #faebcc;
  color: #8a6d3b;
}
.alert-warning hr {
  border-top-color: #f7e1b5;
}
.alert-warning .alert-link {
  color: #66512c;
}
.alert-danger {
  background-color: #f2dede;
  border-color: #ebccd1;
  color: #a94442;
}
.alert-danger hr {
  border-top-color: #e4b9c0;
}
.alert-danger .alert-link {
  color: #843534;
}
@-webkit-keyframes progress-bar-stripes {
  from {
    background-position: 40px 0;
  }
  to {
    background-position: 0 0;
  }
}
@keyframes progress-bar-stripes {
  from {
    background-position: 40px 0;
  }
  to {
    background-position: 0 0;
  }
}
.progress {
  overflow: hidden;
  height: 18px;
  margin-bottom: 18px;
  background-color: #f5f5f5;
  border-radius: 2px;
  -webkit-box-shadow: inset 0 1px 2px rgba(0, 0, 0, 0.1);
  box-shadow: inset 0 1px 2px rgba(0, 0, 0, 0.1);
}
.progress-bar {
  float: left;
  width: 0%;
  height: 100%;
  font-size: 12px;
  line-height: 18px;
  color: #fff;
  text-align: center;
  background-color: #337ab7;
  -webkit-box-shadow: inset 0 -1px 0 rgba(0, 0, 0, 0.15);
  box-shadow: inset 0 -1px 0 rgba(0, 0, 0, 0.15);
  -webkit-transition: width 0.6s ease;
  -o-transition: width 0.6s ease;
  transition: width 0.6s ease;
}
.progress-striped .progress-bar,
.progress-bar-striped {
  background-image: -webkit-linear-gradient(45deg, rgba(255, 255, 255, 0.15) 25%, transparent 25%, transparent 50%, rgba(255, 255, 255, 0.15) 50%, rgba(255, 255, 255, 0.15) 75%, transparent 75%, transparent);
  background-image: -o-linear-gradient(45deg, rgba(255, 255, 255, 0.15) 25%, transparent 25%, transparent 50%, rgba(255, 255, 255, 0.15) 50%, rgba(255, 255, 255, 0.15) 75%, transparent 75%, transparent);
  background-image: linear-gradient(45deg, rgba(255, 255, 255, 0.15) 25%, transparent 25%, transparent 50%, rgba(255, 255, 255, 0.15) 50%, rgba(255, 255, 255, 0.15) 75%, transparent 75%, transparent);
  background-size: 40px 40px;
}
.progress.active .progress-bar,
.progress-bar.active {
  -webkit-animation: progress-bar-stripes 2s linear infinite;
  -o-animation: progress-bar-stripes 2s linear infinite;
  animation: progress-bar-stripes 2s linear infinite;
}
.progress-bar-success {
  background-color: #5cb85c;
}
.progress-striped .progress-bar-success {
  background-image: -webkit-linear-gradient(45deg, rgba(255, 255, 255, 0.15) 25%, transparent 25%, transparent 50%, rgba(255, 255, 255, 0.15) 50%, rgba(255, 255, 255, 0.15) 75%, transparent 75%, transparent);
  background-image: -o-linear-gradient(45deg, rgba(255, 255, 255, 0.15) 25%, transparent 25%, transparent 50%, rgba(255, 255, 255, 0.15) 50%, rgba(255, 255, 255, 0.15) 75%, transparent 75%, transparent);
  background-image: linear-gradient(45deg, rgba(255, 255, 255, 0.15) 25%, transparent 25%, transparent 50%, rgba(255, 255, 255, 0.15) 50%, rgba(255, 255, 255, 0.15) 75%, transparent 75%, transparent);
}
.progress-bar-info {
  background-color: #5bc0de;
}
.progress-striped .progress-bar-info {
  background-image: -webkit-linear-gradient(45deg, rgba(255, 255, 255, 0.15) 25%, transparent 25%, transparent 50%, rgba(255, 255, 255, 0.15) 50%, rgba(255, 255, 255, 0.15) 75%, transparent 75%, transparent);
  background-image: -o-linear-gradient(45deg, rgba(255, 255, 255, 0.15) 25%, transparent 25%, transparent 50%, rgba(255, 255, 255, 0.15) 50%, rgba(255, 255, 255, 0.15) 75%, transparent 75%, transparent);
  background-image: linear-gradient(45deg, rgba(255, 255, 255, 0.15) 25%, transparent 25%, transparent 50%, rgba(255, 255, 255, 0.15) 50%, rgba(255, 255, 255, 0.15) 75%, transparent 75%, transparent);
}
.progress-bar-warning {
  background-color: #f0ad4e;
}
.progress-striped .progress-bar-warning {
  background-image: -webkit-linear-gradient(45deg, rgba(255, 255, 255, 0.15) 25%, transparent 25%, transparent 50%, rgba(255, 255, 255, 0.15) 50%, rgba(255, 255, 255, 0.15) 75%, transparent 75%, transparent);
  background-image: -o-linear-gradient(45deg, rgba(255, 255, 255, 0.15) 25%, transparent 25%, transparent 50%, rgba(255, 255, 255, 0.15) 50%, rgba(255, 255, 255, 0.15) 75%, transparent 75%, transparent);
  background-image: linear-gradient(45deg, rgba(255, 255, 255, 0.15) 25%, transparent 25%, transparent 50%, rgba(255, 255, 255, 0.15) 50%, rgba(255, 255, 255, 0.15) 75%, transparent 75%, transparent);
}
.progress-bar-danger {
  background-color: #d9534f;
}
.progress-striped .progress-bar-danger {
  background-image: -webkit-linear-gradient(45deg, rgba(255, 255, 255, 0.15) 25%, transparent 25%, transparent 50%, rgba(255, 255, 255, 0.15) 50%, rgba(255, 255, 255, 0.15) 75%, transparent 75%, transparent);
  background-image: -o-linear-gradient(45deg, rgba(255, 255, 255, 0.15) 25%, transparent 25%, transparent 50%, rgba(255, 255, 255, 0.15) 50%, rgba(255, 255, 255, 0.15) 75%, transparent 75%, transparent);
  background-image: linear-gradient(45deg, rgba(255, 255, 255, 0.15) 25%, transparent 25%, transparent 50%, rgba(255, 255, 255, 0.15) 50%, rgba(255, 255, 255, 0.15) 75%, transparent 75%, transparent);
}
.media {
  margin-top: 15px;
}
.media:first-child {
  margin-top: 0;
}
.media,
.media-body {
  zoom: 1;
  overflow: hidden;
}
.media-body {
  width: 10000px;
}
.media-object {
  display: block;
}
.media-object.img-thumbnail {
  max-width: none;
}
.media-right,
.media > .pull-right {
  padding-left: 10px;
}
.media-left,
.media > .pull-left {
  padding-right: 10px;
}
.media-left,
.media-right,
.media-body {
  display: table-cell;
  vertical-align: top;
}
.media-middle {
  vertical-align: middle;
}
.media-bottom {
  vertical-align: bottom;
}
.media-heading {
  margin-top: 0;
  margin-bottom: 5px;
}
.media-list {
  padding-left: 0;
  list-style: none;
}
.list-group {
  margin-bottom: 20px;
  padding-left: 0;
}
.list-group-item {
  position: relative;
  display: block;
  padding: 10px 15px;
  margin-bottom: -1px;
  background-color: #fff;
  border: 1px solid #ddd;
}
.list-group-item:first-child {
  border-top-right-radius: 2px;
  border-top-left-radius: 2px;
}
.list-group-item:last-child {
  margin-bottom: 0;
  border-bottom-right-radius: 2px;
  border-bottom-left-radius: 2px;
}
a.list-group-item,
button.list-group-item {
  color: #555;
}
a.list-group-item .list-group-item-heading,
button.list-group-item .list-group-item-heading {
  color: #333;
}
a.list-group-item:hover,
button.list-group-item:hover,
a.list-group-item:focus,
button.list-group-item:focus {
  text-decoration: none;
  color: #555;
  background-color: #f5f5f5;
}
button.list-group-item {
  width: 100%;
  text-align: left;
}
.list-group-item.disabled,
.list-group-item.disabled:hover,
.list-group-item.disabled:focus {
  background-color: #eeeeee;
  color: #777777;
  cursor: not-allowed;
}
.list-group-item.disabled .list-group-item-heading,
.list-group-item.disabled:hover .list-group-item-heading,
.list-group-item.disabled:focus .list-group-item-heading {
  color: inherit;
}
.list-group-item.disabled .list-group-item-text,
.list-group-item.disabled:hover .list-group-item-text,
.list-group-item.disabled:focus .list-group-item-text {
  color: #777777;
}
.list-group-item.active,
.list-group-item.active:hover,
.list-group-item.active:focus {
  z-index: 2;
  color: #fff;
  background-color: #337ab7;
  border-color: #337ab7;
}
.list-group-item.active .list-group-item-heading,
.list-group-item.active:hover .list-group-item-heading,
.list-group-item.active:focus .list-group-item-heading,
.list-group-item.active .list-group-item-heading > small,
.list-group-item.active:hover .list-group-item-heading > small,
.list-group-item.active:focus .list-group-item-heading > small,
.list-group-item.active .list-group-item-heading > .small,
.list-group-item.active:hover .list-group-item-heading > .small,
.list-group-item.active:focus .list-group-item-heading > .small {
  color: inherit;
}
.list-group-item.active .list-group-item-text,
.list-group-item.active:hover .list-group-item-text,
.list-group-item.active:focus .list-group-item-text {
  color: #c7ddef;
}
.list-group-item-success {
  color: #3c763d;
  background-color: #dff0d8;
}
a.list-group-item-success,
button.list-group-item-success {
  color: #3c763d;
}
a.list-group-item-success .list-group-item-heading,
button.list-group-item-success .list-group-item-heading {
  color: inherit;
}
a.list-group-item-success:hover,
button.list-group-item-success:hover,
a.list-group-item-success:focus,
button.list-group-item-success:focus {
  color: #3c763d;
  background-color: #d0e9c6;
}
a.list-group-item-success.active,
button.list-group-item-success.active,
a.list-group-item-success.active:hover,
button.list-group-item-success.active:hover,
a.list-group-item-success.active:focus,
button.list-group-item-success.active:focus {
  color: #fff;
  background-color: #3c763d;
  border-color: #3c763d;
}
.list-group-item-info {
  color: #31708f;
  background-color: #d9edf7;
}
a.list-group-item-info,
button.list-group-item-info {
  color: #31708f;
}
a.list-group-item-info .list-group-item-heading,
button.list-group-item-info .list-group-item-heading {
  color: inherit;
}
a.list-group-item-info:hover,
button.list-group-item-info:hover,
a.list-group-item-info:focus,
button.list-group-item-info:focus {
  color: #31708f;
  background-color: #c4e3f3;
}
a.list-group-item-info.active,
button.list-group-item-info.active,
a.list-group-item-info.active:hover,
button.list-group-item-info.active:hover,
a.list-group-item-info.active:focus,
button.list-group-item-info.active:focus {
  color: #fff;
  background-color: #31708f;
  border-color: #31708f;
}
.list-group-item-warning {
  color: #8a6d3b;
  background-color: #fcf8e3;
}
a.list-group-item-warning,
button.list-group-item-warning {
  color: #8a6d3b;
}
a.list-group-item-warning .list-group-item-heading,
button.list-group-item-warning .list-group-item-heading {
  color: inherit;
}
a.list-group-item-warning:hover,
button.list-group-item-warning:hover,
a.list-group-item-warning:focus,
button.list-group-item-warning:focus {
  color: #8a6d3b;
  background-color: #faf2cc;
}
a.list-group-item-warning.active,
button.list-group-item-warning.active,
a.list-group-item-warning.active:hover,
button.list-group-item-warning.active:hover,
a.list-group-item-warning.active:focus,
button.list-group-item-warning.active:focus {
  color: #fff;
  background-color: #8a6d3b;
  border-color: #8a6d3b;
}
.list-group-item-danger {
  color: #a94442;
  background-color: #f2dede;
}
a.list-group-item-danger,
button.list-group-item-danger {
  color: #a94442;
}
a.list-group-item-danger .list-group-item-heading,
button.list-group-item-danger .list-group-item-heading {
  color: inherit;
}
a.list-group-item-danger:hover,
button.list-group-item-danger:hover,
a.list-group-item-danger:focus,
button.list-group-item-danger:focus {
  color: #a94442;
  background-color: #ebcccc;
}
a.list-group-item-danger.active,
button.list-group-item-danger.active,
a.list-group-item-danger.active:hover,
button.list-group-item-danger.active:hover,
a.list-group-item-danger.active:focus,
button.list-group-item-danger.active:focus {
  color: #fff;
  background-color: #a94442;
  border-color: #a94442;
}
.list-group-item-heading {
  margin-top: 0;
  margin-bottom: 5px;
}
.list-group-item-text {
  margin-bottom: 0;
  line-height: 1.3;
}
.panel {
  margin-bottom: 18px;
  background-color: #fff;
  border: 1px solid transparent;
  border-radius: 2px;
  -webkit-box-shadow: 0 1px 1px rgba(0, 0, 0, 0.05);
  box-shadow: 0 1px 1px rgba(0, 0, 0, 0.05);
}
.panel-body {
  padding: 15px;
}
.panel-heading {
  padding: 10px 15px;
  border-bottom: 1px solid transparent;
  border-top-right-radius: 1px;
  border-top-left-radius: 1px;
}
.panel-heading > .dropdown .dropdown-toggle {
  color: inherit;
}
.panel-title {
  margin-top: 0;
  margin-bottom: 0;
  font-size: 15px;
  color: inherit;
}
.panel-title > a,
.panel-title > small,
.panel-title > .small,
.panel-title > small > a,
.panel-title > .small > a {
  color: inherit;
}
.panel-footer {
  padding: 10px 15px;
  background-color: #f5f5f5;
  border-top: 1px solid #ddd;
  border-bottom-right-radius: 1px;
  border-bottom-left-radius: 1px;
}
.panel > .list-group,
.panel > .panel-collapse > .list-group {
  margin-bottom: 0;
}
.panel > .list-group .list-group-item,
.panel > .panel-collapse > .list-group .list-group-item {
  border-width: 1px 0;
  border-radius: 0;
}
.panel > .list-group:first-child .list-group-item:first-child,
.panel > .panel-collapse > .list-group:first-child .list-group-item:first-child {
  border-top: 0;
  border-top-right-radius: 1px;
  border-top-left-radius: 1px;
}
.panel > .list-group:last-child .list-group-item:last-child,
.panel > .panel-collapse > .list-group:last-child .list-group-item:last-child {
  border-bottom: 0;
  border-bottom-right-radius: 1px;
  border-bottom-left-radius: 1px;
}
.panel > .panel-heading + .panel-collapse > .list-group .list-group-item:first-child {
  border-top-right-radius: 0;
  border-top-left-radius: 0;
}
.panel-heading + .list-group .list-group-item:first-child {
  border-top-width: 0;
}
.list-group + .panel-footer {
  border-top-width: 0;
}
.panel > .table,
.panel > .table-responsive > .table,
.panel > .panel-collapse > .table {
  margin-bottom: 0;
}
.panel > .table caption,
.panel > .table-responsive > .table caption,
.panel > .panel-collapse > .table caption {
  padding-left: 15px;
  padding-right: 15px;
}
.panel > .table:first-child,
.panel > .table-responsive:first-child > .table:first-child {
  border-top-right-radius: 1px;
  border-top-left-radius: 1px;
}
.panel > .table:first-child > thead:first-child > tr:first-child,
.panel > .table-responsive:first-child > .table:first-child > thead:first-child > tr:first-child,
.panel > .table:first-child > tbody:first-child > tr:first-child,
.panel > .table-responsive:first-child > .table:first-child > tbody:first-child > tr:first-child {
  border-top-left-radius: 1px;
  border-top-right-radius: 1px;
}
.panel > .table:first-child > thead:first-child > tr:first-child td:first-child,
.panel > .table-responsive:first-child > .table:first-child > thead:first-child > tr:first-child td:first-child,
.panel > .table:first-child > tbody:first-child > tr:first-child td:first-child,
.panel > .table-responsive:first-child > .table:first-child > tbody:first-child > tr:first-child td:first-child,
.panel > .table:first-child > thead:first-child > tr:first-child th:first-child,
.panel > .table-responsive:first-child > .table:first-child > thead:first-child > tr:first-child th:first-child,
.panel > .table:first-child > tbody:first-child > tr:first-child th:first-child,
.panel > .table-responsive:first-child > .table:first-child > tbody:first-child > tr:first-child th:first-child {
  border-top-left-radius: 1px;
}
.panel > .table:first-child > thead:first-child > tr:first-child td:last-child,
.panel > .table-responsive:first-child > .table:first-child > thead:first-child > tr:first-child td:last-child,
.panel > .table:first-child > tbody:first-child > tr:first-child td:last-child,
.panel > .table-responsive:first-child > .table:first-child > tbody:first-child > tr:first-child td:last-child,
.panel > .table:first-child > thead:first-child > tr:first-child th:last-child,
.panel > .table-responsive:first-child > .table:first-child > thead:first-child > tr:first-child th:last-child,
.panel > .table:first-child > tbody:first-child > tr:first-child th:last-child,
.panel > .table-responsive:first-child > .table:first-child > tbody:first-child > tr:first-child th:last-child {
  border-top-right-radius: 1px;
}
.panel > .table:last-child,
.panel > .table-responsive:last-child > .table:last-child {
  border-bottom-right-radius: 1px;
  border-bottom-left-radius: 1px;
}
.panel > .table:last-child > tbody:last-child > tr:last-child,
.panel > .table-responsive:last-child > .table:last-child > tbody:last-child > tr:last-child,
.panel > .table:last-child > tfoot:last-child > tr:last-child,
.panel > .table-responsive:last-child > .table:last-child > tfoot:last-child > tr:last-child {
  border-bottom-left-radius: 1px;
  border-bottom-right-radius: 1px;
}
.panel > .table:last-child > tbody:last-child > tr:last-child td:first-child,
.panel > .table-responsive:last-child > .table:last-child > tbody:last-child > tr:last-child td:first-child,
.panel > .table:last-child > tfoot:last-child > tr:last-child td:first-child,
.panel > .table-responsive:last-child > .table:last-child > tfoot:last-child > tr:last-child td:first-child,
.panel > .table:last-child > tbody:last-child > tr:last-child th:first-child,
.panel > .table-responsive:last-child > .table:last-child > tbody:last-child > tr:last-child th:first-child,
.panel > .table:last-child > tfoot:last-child > tr:last-child th:first-child,
.panel > .table-responsive:last-child > .table:last-child > tfoot:last-child > tr:last-child th:first-child {
  border-bottom-left-radius: 1px;
}
.panel > .table:last-child > tbody:last-child > tr:last-child td:last-child,
.panel > .table-responsive:last-child > .table:last-child > tbody:last-child > tr:last-child td:last-child,
.panel > .table:last-child > tfoot:last-child > tr:last-child td:last-child,
.panel > .table-responsive:last-child > .table:last-child > tfoot:last-child > tr:last-child td:last-child,
.panel > .table:last-child > tbody:last-child > tr:last-child th:last-child,
.panel > .table-responsive:last-child > .table:last-child > tbody:last-child > tr:last-child th:last-child,
.panel > .table:last-child > tfoot:last-child > tr:last-child th:last-child,
.panel > .table-responsive:last-child > .table:last-child > tfoot:last-child > tr:last-child th:last-child {
  border-bottom-right-radius: 1px;
}
.panel > .panel-body + .table,
.panel > .panel-body + .table-responsive,
.panel > .table + .panel-body,
.panel > .table-responsive + .panel-body {
  border-top: 1px solid #ddd;
}
.panel > .table > tbody:first-child > tr:first-child th,
.panel > .table > tbody:first-child > tr:first-child td {
  border-top: 0;
}
.panel > .table-bordered,
.panel > .table-responsive > .table-bordered {
  border: 0;
}
.panel > .table-bordered > thead > tr > th:first-child,
.panel > .table-responsive > .table-bordered > thead > tr > th:first-child,
.panel > .table-bordered > tbody > tr > th:first-child,
.panel > .table-responsive > .table-bordered > tbody > tr > th:first-child,
.panel > .table-bordered > tfoot > tr > th:first-child,
.panel > .table-responsive > .table-bordered > tfoot > tr > th:first-child,
.panel > .table-bordered > thead > tr > td:first-child,
.panel > .table-responsive > .table-bordered > thead > tr > td:first-child,
.panel > .table-bordered > tbody > tr > td:first-child,
.panel > .table-responsive > .table-bordered > tbody > tr > td:first-child,
.panel > .table-bordered > tfoot > tr > td:first-child,
.panel > .table-responsive > .table-bordered > tfoot > tr > td:first-child {
  border-left: 0;
}
.panel > .table-bordered > thead > tr > th:last-child,
.panel > .table-responsive > .table-bordered > thead > tr > th:last-child,
.panel > .table-bordered > tbody > tr > th:last-child,
.panel > .table-responsive > .table-bordered > tbody > tr > th:last-child,
.panel > .table-bordered > tfoot > tr > th:last-child,
.panel > .table-responsive > .table-bordered > tfoot > tr > th:last-child,
.panel > .table-bordered > thead > tr > td:last-child,
.panel > .table-responsive > .table-bordered > thead > tr > td:last-child,
.panel > .table-bordered > tbody > tr > td:last-child,
.panel > .table-responsive > .table-bordered > tbody > tr > td:last-child,
.panel > .table-bordered > tfoot > tr > td:last-child,
.panel > .table-responsive > .table-bordered > tfoot > tr > td:last-child {
  border-right: 0;
}
.panel > .table-bordered > thead > tr:first-child > td,
.panel > .table-responsive > .table-bordered > thead > tr:first-child > td,
.panel > .table-bordered > tbody > tr:first-child > td,
.panel > .table-responsive > .table-bordered > tbody > tr:first-child > td,
.panel > .table-bordered > thead > tr:first-child > th,
.panel > .table-responsive > .table-bordered > thead > tr:first-child > th,
.panel > .table-bordered > tbody > tr:first-child > th,
.panel > .table-responsive > .table-bordered > tbody > tr:first-child > th {
  border-bottom: 0;
}
.panel > .table-bordered > tbody > tr:last-child > td,
.panel > .table-responsive > .table-bordered > tbody > tr:last-child > td,
.panel > .table-bordered > tfoot > tr:last-child > td,
.panel > .table-responsive > .table-bordered > tfoot > tr:last-child > td,
.panel > .table-bordered > tbody > tr:last-child > th,
.panel > .table-responsive > .table-bordered > tbody > tr:last-child > th,
.panel > .table-bordered > tfoot > tr:last-child > th,
.panel > .table-responsive > .table-bordered > tfoot > tr:last-child > th {
  border-bottom: 0;
}
.panel > .table-responsive {
  border: 0;
  margin-bottom: 0;
}
.panel-group {
  margin-bottom: 18px;
}
.panel-group .panel {
  margin-bottom: 0;
  border-radius: 2px;
}
.panel-group .panel + .panel {
  margin-top: 5px;
}
.panel-group .panel-heading {
  border-bottom: 0;
}
.panel-group .panel-heading + .panel-collapse > .panel-body,
.panel-group .panel-heading + .panel-collapse > .list-group {
  border-top: 1px solid #ddd;
}
.panel-group .panel-footer {
  border-top: 0;
}
.panel-group .panel-footer + .panel-collapse .panel-body {
  border-bottom: 1px solid #ddd;
}
.panel-default {
  border-color: #ddd;
}
.panel-default > .panel-heading {
  color: #333333;
  background-color: #f5f5f5;
  border-color: #ddd;
}
.panel-default > .panel-heading + .panel-collapse > .panel-body {
  border-top-color: #ddd;
}
.panel-default > .panel-heading .badge {
  color: #f5f5f5;
  background-color: #333333;
}
.panel-default > .panel-footer + .panel-collapse > .panel-body {
  border-bottom-color: #ddd;
}
.panel-primary {
  border-color: #337ab7;
}
.panel-primary > .panel-heading {
  color: #fff;
  background-color: #337ab7;
  border-color: #337ab7;
}
.panel-primary > .panel-heading + .panel-collapse > .panel-body {
  border-top-color: #337ab7;
}
.panel-primary > .panel-heading .badge {
  color: #337ab7;
  background-color: #fff;
}
.panel-primary > .panel-footer + .panel-collapse > .panel-body {
  border-bottom-color: #337ab7;
}
.panel-success {
  border-color: #d6e9c6;
}
.panel-success > .panel-heading {
  color: #3c763d;
  background-color: #dff0d8;
  border-color: #d6e9c6;
}
.panel-success > .panel-heading + .panel-collapse > .panel-body {
  border-top-color: #d6e9c6;
}
.panel-success > .panel-heading .badge {
  color: #dff0d8;
  background-color: #3c763d;
}
.panel-success > .panel-footer + .panel-collapse > .panel-body {
  border-bottom-color: #d6e9c6;
}
.panel-info {
  border-color: #bce8f1;
}
.panel-info > .panel-heading {
  color: #31708f;
  background-color: #d9edf7;
  border-color: #bce8f1;
}
.panel-info > .panel-heading + .panel-collapse > .panel-body {
  border-top-color: #bce8f1;
}
.panel-info > .panel-heading .badge {
  color: #d9edf7;
  background-color: #31708f;
}
.panel-info > .panel-footer + .panel-collapse > .panel-body {
  border-bottom-color: #bce8f1;
}
.panel-warning {
  border-color: #faebcc;
}
.panel-warning > .panel-heading {
  color: #8a6d3b;
  background-color: #fcf8e3;
  border-color: #faebcc;
}
.panel-warning > .panel-heading + .panel-collapse > .panel-body {
  border-top-color: #faebcc;
}
.panel-warning > .panel-heading .badge {
  color: #fcf8e3;
  background-color: #8a6d3b;
}
.panel-warning > .panel-footer + .panel-collapse > .panel-body {
  border-bottom-color: #faebcc;
}
.panel-danger {
  border-color: #ebccd1;
}
.panel-danger > .panel-heading {
  color: #a94442;
  background-color: #f2dede;
  border-color: #ebccd1;
}
.panel-danger > .panel-heading + .panel-collapse > .panel-body {
  border-top-color: #ebccd1;
}
.panel-danger > .panel-heading .badge {
  color: #f2dede;
  background-color: #a94442;
}
.panel-danger > .panel-footer + .panel-collapse > .panel-body {
  border-bottom-color: #ebccd1;
}
.embed-responsive {
  position: relative;
  display: block;
  height: 0;
  padding: 0;
  overflow: hidden;
}
.embed-responsive .embed-responsive-item,
.embed-responsive iframe,
.embed-responsive embed,
.embed-responsive object,
.embed-responsive video {
  position: absolute;
  top: 0;
  left: 0;
  bottom: 0;
  height: 100%;
  width: 100%;
  border: 0;
}
.embed-responsive-16by9 {
  padding-bottom: 56.25%;
}
.embed-responsive-4by3 {
  padding-bottom: 75%;
}
.well {
  min-height: 20px;
  padding: 19px;
  margin-bottom: 20px;
  background-color: #f5f5f5;
  border: 1px solid #e3e3e3;
  border-radius: 2px;
  -webkit-box-shadow: inset 0 1px 1px rgba(0, 0, 0, 0.05);
  box-shadow: inset 0 1px 1px rgba(0, 0, 0, 0.05);
}
.well blockquote {
  border-color: #ddd;
  border-color: rgba(0, 0, 0, 0.15);
}
.well-lg {
  padding: 24px;
  border-radius: 3px;
}
.well-sm {
  padding: 9px;
  border-radius: 1px;
}
.close {
  float: right;
  font-size: 19.5px;
  font-weight: bold;
  line-height: 1;
  color: #000;
  text-shadow: 0 1px 0 #fff;
  opacity: 0.2;
  filter: alpha(opacity=20);
}
.close:hover,
.close:focus {
  color: #000;
  text-decoration: none;
  cursor: pointer;
  opacity: 0.5;
  filter: alpha(opacity=50);
}
button.close {
  padding: 0;
  cursor: pointer;
  background: transparent;
  border: 0;
  -webkit-appearance: none;
}
.modal-open {
  overflow: hidden;
}
.modal {
  display: none;
  overflow: hidden;
  position: fixed;
  top: 0;
  right: 0;
  bottom: 0;
  left: 0;
  z-index: 1050;
  -webkit-overflow-scrolling: touch;
  outline: 0;
}
.modal.fade .modal-dialog {
  -webkit-transform: translate(0, -25%);
  -ms-transform: translate(0, -25%);
  -o-transform: translate(0, -25%);
  transform: translate(0, -25%);
  -webkit-transition: -webkit-transform 0.3s ease-out;
  -moz-transition: -moz-transform 0.3s ease-out;
  -o-transition: -o-transform 0.3s ease-out;
  transition: transform 0.3s ease-out;
}
.modal.in .modal-dialog {
  -webkit-transform: translate(0, 0);
  -ms-transform: translate(0, 0);
  -o-transform: translate(0, 0);
  transform: translate(0, 0);
}
.modal-open .modal {
  overflow-x: hidden;
  overflow-y: auto;
}
.modal-dialog {
  position: relative;
  width: auto;
  margin: 10px;
}
.modal-content {
  position: relative;
  background-color: #fff;
  border: 1px solid #999;
  border: 1px solid rgba(0, 0, 0, 0.2);
  border-radius: 3px;
  -webkit-box-shadow: 0 3px 9px rgba(0, 0, 0, 0.5);
  box-shadow: 0 3px 9px rgba(0, 0, 0, 0.5);
  background-clip: padding-box;
  outline: 0;
}
.modal-backdrop {
  position: fixed;
  top: 0;
  right: 0;
  bottom: 0;
  left: 0;
  z-index: 1040;
  background-color: #000;
}
.modal-backdrop.fade {
  opacity: 0;
  filter: alpha(opacity=0);
}
.modal-backdrop.in {
  opacity: 0.5;
  filter: alpha(opacity=50);
}
.modal-header {
  padding: 15px;
  border-bottom: 1px solid #e5e5e5;
}
.modal-header .close {
  margin-top: -2px;
}
.modal-title {
  margin: 0;
  line-height: 1.42857143;
}
.modal-body {
  position: relative;
  padding: 15px;
}
.modal-footer {
  padding: 15px;
  text-align: right;
  border-top: 1px solid #e5e5e5;
}
.modal-footer .btn + .btn {
  margin-left: 5px;
  margin-bottom: 0;
}
.modal-footer .btn-group .btn + .btn {
  margin-left: -1px;
}
.modal-footer .btn-block + .btn-block {
  margin-left: 0;
}
.modal-scrollbar-measure {
  position: absolute;
  top: -9999px;
  width: 50px;
  height: 50px;
  overflow: scroll;
}
@media (min-width: 768px) {
  .modal-dialog {
    width: 600px;
    margin: 30px auto;
  }
  .modal-content {
    -webkit-box-shadow: 0 5px 15px rgba(0, 0, 0, 0.5);
    box-shadow: 0 5px 15px rgba(0, 0, 0, 0.5);
  }
  .modal-sm {
    width: 300px;
  }
}
@media (min-width: 992px) {
  .modal-lg {
    width: 900px;
  }
}
.tooltip {
  position: absolute;
  z-index: 1070;
  display: block;
  font-family: "Helvetica Neue", Helvetica, Arial, sans-serif;
  font-style: normal;
  font-weight: normal;
  letter-spacing: normal;
  line-break: auto;
  line-height: 1.42857143;
  text-align: left;
  text-align: start;
  text-decoration: none;
  text-shadow: none;
  text-transform: none;
  white-space: normal;
  word-break: normal;
  word-spacing: normal;
  word-wrap: normal;
  font-size: 12px;
  opacity: 0;
  filter: alpha(opacity=0);
}
.tooltip.in {
  opacity: 0.9;
  filter: alpha(opacity=90);
}
.tooltip.top {
  margin-top: -3px;
  padding: 5px 0;
}
.tooltip.right {
  margin-left: 3px;
  padding: 0 5px;
}
.tooltip.bottom {
  margin-top: 3px;
  padding: 5px 0;
}
.tooltip.left {
  margin-left: -3px;
  padding: 0 5px;
}
.tooltip-inner {
  max-width: 200px;
  padding: 3px 8px;
  color: #fff;
  text-align: center;
  background-color: #000;
  border-radius: 2px;
}
.tooltip-arrow {
  position: absolute;
  width: 0;
  height: 0;
  border-color: transparent;
  border-style: solid;
}
.tooltip.top .tooltip-arrow {
  bottom: 0;
  left: 50%;
  margin-left: -5px;
  border-width: 5px 5px 0;
  border-top-color: #000;
}
.tooltip.top-left .tooltip-arrow {
  bottom: 0;
  right: 5px;
  margin-bottom: -5px;
  border-width: 5px 5px 0;
  border-top-color: #000;
}
.tooltip.top-right .tooltip-arrow {
  bottom: 0;
  left: 5px;
  margin-bottom: -5px;
  border-width: 5px 5px 0;
  border-top-color: #000;
}
.tooltip.right .tooltip-arrow {
  top: 50%;
  left: 0;
  margin-top: -5px;
  border-width: 5px 5px 5px 0;
  border-right-color: #000;
}
.tooltip.left .tooltip-arrow {
  top: 50%;
  right: 0;
  margin-top: -5px;
  border-width: 5px 0 5px 5px;
  border-left-color: #000;
}
.tooltip.bottom .tooltip-arrow {
  top: 0;
  left: 50%;
  margin-left: -5px;
  border-width: 0 5px 5px;
  border-bottom-color: #000;
}
.tooltip.bottom-left .tooltip-arrow {
  top: 0;
  right: 5px;
  margin-top: -5px;
  border-width: 0 5px 5px;
  border-bottom-color: #000;
}
.tooltip.bottom-right .tooltip-arrow {
  top: 0;
  left: 5px;
  margin-top: -5px;
  border-width: 0 5px 5px;
  border-bottom-color: #000;
}
.popover {
  position: absolute;
  top: 0;
  left: 0;
  z-index: 1060;
  display: none;
  max-width: 276px;
  padding: 1px;
  font-family: "Helvetica Neue", Helvetica, Arial, sans-serif;
  font-style: normal;
  font-weight: normal;
  letter-spacing: normal;
  line-break: auto;
  line-height: 1.42857143;
  text-align: left;
  text-align: start;
  text-decoration: none;
  text-shadow: none;
  text-transform: none;
  white-space: normal;
  word-break: normal;
  word-spacing: normal;
  word-wrap: normal;
  font-size: 13px;
  background-color: #fff;
  background-clip: padding-box;
  border: 1px solid #ccc;
  border: 1px solid rgba(0, 0, 0, 0.2);
  border-radius: 3px;
  -webkit-box-shadow: 0 5px 10px rgba(0, 0, 0, 0.2);
  box-shadow: 0 5px 10px rgba(0, 0, 0, 0.2);
}
.popover.top {
  margin-top: -10px;
}
.popover.right {
  margin-left: 10px;
}
.popover.bottom {
  margin-top: 10px;
}
.popover.left {
  margin-left: -10px;
}
.popover-title {
  margin: 0;
  padding: 8px 14px;
  font-size: 13px;
  background-color: #f7f7f7;
  border-bottom: 1px solid #ebebeb;
  border-radius: 2px 2px 0 0;
}
.popover-content {
  padding: 9px 14px;
}
.popover > .arrow,
.popover > .arrow:after {
  position: absolute;
  display: block;
  width: 0;
  height: 0;
  border-color: transparent;
  border-style: solid;
}
.popover > .arrow {
  border-width: 11px;
}
.popover > .arrow:after {
  border-width: 10px;
  content: "";
}
.popover.top > .arrow {
  left: 50%;
  margin-left: -11px;
  border-bottom-width: 0;
  border-top-color: #999999;
  border-top-color: rgba(0, 0, 0, 0.25);
  bottom: -11px;
}
.popover.top > .arrow:after {
  content: " ";
  bottom: 1px;
  margin-left: -10px;
  border-bottom-width: 0;
  border-top-color: #fff;
}
.popover.right > .arrow {
  top: 50%;
  left: -11px;
  margin-top: -11px;
  border-left-width: 0;
  border-right-color: #999999;
  border-right-color: rgba(0, 0, 0, 0.25);
}
.popover.right > .arrow:after {
  content: " ";
  left: 1px;
  bottom: -10px;
  border-left-width: 0;
  border-right-color: #fff;
}
.popover.bottom > .arrow {
  left: 50%;
  margin-left: -11px;
  border-top-width: 0;
  border-bottom-color: #999999;
  border-bottom-color: rgba(0, 0, 0, 0.25);
  top: -11px;
}
.popover.bottom > .arrow:after {
  content: " ";
  top: 1px;
  margin-left: -10px;
  border-top-width: 0;
  border-bottom-color: #fff;
}
.popover.left > .arrow {
  top: 50%;
  right: -11px;
  margin-top: -11px;
  border-right-width: 0;
  border-left-color: #999999;
  border-left-color: rgba(0, 0, 0, 0.25);
}
.popover.left > .arrow:after {
  content: " ";
  right: 1px;
  border-right-width: 0;
  border-left-color: #fff;
  bottom: -10px;
}
.carousel {
  position: relative;
}
.carousel-inner {
  position: relative;
  overflow: hidden;
  width: 100%;
}
.carousel-inner > .item {
  display: none;
  position: relative;
  -webkit-transition: 0.6s ease-in-out left;
  -o-transition: 0.6s ease-in-out left;
  transition: 0.6s ease-in-out left;
}
.carousel-inner > .item > img,
.carousel-inner > .item > a > img {
  line-height: 1;
}
@media all and (transform-3d), (-webkit-transform-3d) {
  .carousel-inner > .item {
    -webkit-transition: -webkit-transform 0.6s ease-in-out;
    -moz-transition: -moz-transform 0.6s ease-in-out;
    -o-transition: -o-transform 0.6s ease-in-out;
    transition: transform 0.6s ease-in-out;
    -webkit-backface-visibility: hidden;
    -moz-backface-visibility: hidden;
    backface-visibility: hidden;
    -webkit-perspective: 1000px;
    -moz-perspective: 1000px;
    perspective: 1000px;
  }
  .carousel-inner > .item.next,
  .carousel-inner > .item.active.right {
    -webkit-transform: translate3d(100%, 0, 0);
    transform: translate3d(100%, 0, 0);
    left: 0;
  }
  .carousel-inner > .item.prev,
  .carousel-inner > .item.active.left {
    -webkit-transform: translate3d(-100%, 0, 0);
    transform: translate3d(-100%, 0, 0);
    left: 0;
  }
  .carousel-inner > .item.next.left,
  .carousel-inner > .item.prev.right,
  .carousel-inner > .item.active {
    -webkit-transform: translate3d(0, 0, 0);
    transform: translate3d(0, 0, 0);
    left: 0;
  }
}
.carousel-inner > .active,
.carousel-inner > .next,
.carousel-inner > .prev {
  display: block;
}
.carousel-inner > .active {
  left: 0;
}
.carousel-inner > .next,
.carousel-inner > .prev {
  position: absolute;
  top: 0;
  width: 100%;
}
.carousel-inner > .next {
  left: 100%;
}
.carousel-inner > .prev {
  left: -100%;
}
.carousel-inner > .next.left,
.carousel-inner > .prev.right {
  left: 0;
}
.carousel-inner > .active.left {
  left: -100%;
}
.carousel-inner > .active.right {
  left: 100%;
}
.carousel-control {
  position: absolute;
  top: 0;
  left: 0;
  bottom: 0;
  width: 15%;
  opacity: 0.5;
  filter: alpha(opacity=50);
  font-size: 20px;
  color: #fff;
  text-align: center;
  text-shadow: 0 1px 2px rgba(0, 0, 0, 0.6);
  background-color: rgba(0, 0, 0, 0);
}
.carousel-control.left {
  background-image: -webkit-linear-gradient(left, rgba(0, 0, 0, 0.5) 0%, rgba(0, 0, 0, 0.0001) 100%);
  background-image: -o-linear-gradient(left, rgba(0, 0, 0, 0.5) 0%, rgba(0, 0, 0, 0.0001) 100%);
  background-image: linear-gradient(to right, rgba(0, 0, 0, 0.5) 0%, rgba(0, 0, 0, 0.0001) 100%);
  background-repeat: repeat-x;
  filter: progid:DXImageTransform.Microsoft.gradient(startColorstr='#80000000', endColorstr='#00000000', GradientType=1);
}
.carousel-control.right {
  left: auto;
  right: 0;
  background-image: -webkit-linear-gradient(left, rgba(0, 0, 0, 0.0001) 0%, rgba(0, 0, 0, 0.5) 100%);
  background-image: -o-linear-gradient(left, rgba(0, 0, 0, 0.0001) 0%, rgba(0, 0, 0, 0.5) 100%);
  background-image: linear-gradient(to right, rgba(0, 0, 0, 0.0001) 0%, rgba(0, 0, 0, 0.5) 100%);
  background-repeat: repeat-x;
  filter: progid:DXImageTransform.Microsoft.gradient(startColorstr='#00000000', endColorstr='#80000000', GradientType=1);
}
.carousel-control:hover,
.carousel-control:focus {
  outline: 0;
  color: #fff;
  text-decoration: none;
  opacity: 0.9;
  filter: alpha(opacity=90);
}
.carousel-control .icon-prev,
.carousel-control .icon-next,
.carousel-control .glyphicon-chevron-left,
.carousel-control .glyphicon-chevron-right {
  position: absolute;
  top: 50%;
  margin-top: -10px;
  z-index: 5;
  display: inline-block;
}
.carousel-control .icon-prev,
.carousel-control .glyphicon-chevron-left {
  left: 50%;
  margin-left: -10px;
}
.carousel-control .icon-next,
.carousel-control .glyphicon-chevron-right {
  right: 50%;
  margin-right: -10px;
}
.carousel-control .icon-prev,
.carousel-control .icon-next {
  width: 20px;
  height: 20px;
  line-height: 1;
  font-family: serif;
}
.carousel-control .icon-prev:before {
  content: '\2039';
}
.carousel-control .icon-next:before {
  content: '\203a';
}
.carousel-indicators {
  position: absolute;
  bottom: 10px;
  left: 50%;
  z-index: 15;
  width: 60%;
  margin-left: -30%;
  padding-left: 0;
  list-style: none;
  text-align: center;
}
.carousel-indicators li {
  display: inline-block;
  width: 10px;
  height: 10px;
  margin: 1px;
  text-indent: -999px;
  border: 1px solid #fff;
  border-radius: 10px;
  cursor: pointer;
  background-color: #000 \9;
  background-color: rgba(0, 0, 0, 0);
}
.carousel-indicators .active {
  margin: 0;
  width: 12px;
  height: 12px;
  background-color: #fff;
}
.carousel-caption {
  position: absolute;
  left: 15%;
  right: 15%;
  bottom: 20px;
  z-index: 10;
  padding-top: 20px;
  padding-bottom: 20px;
  color: #fff;
  text-align: center;
  text-shadow: 0 1px 2px rgba(0, 0, 0, 0.6);
}
.carousel-caption .btn {
  text-shadow: none;
}
@media screen and (min-width: 768px) {
  .carousel-control .glyphicon-chevron-left,
  .carousel-control .glyphicon-chevron-right,
  .carousel-control .icon-prev,
  .carousel-control .icon-next {
    width: 30px;
    height: 30px;
    margin-top: -10px;
    font-size: 30px;
  }
  .carousel-control .glyphicon-chevron-left,
  .carousel-control .icon-prev {
    margin-left: -10px;
  }
  .carousel-control .glyphicon-chevron-right,
  .carousel-control .icon-next {
    margin-right: -10px;
  }
  .carousel-caption {
    left: 20%;
    right: 20%;
    padding-bottom: 30px;
  }
  .carousel-indicators {
    bottom: 20px;
  }
}
.clearfix:before,
.clearfix:after,
.dl-horizontal dd:before,
.dl-horizontal dd:after,
.container:before,
.container:after,
.container-fluid:before,
.container-fluid:after,
.row:before,
.row:after,
.form-horizontal .form-group:before,
.form-horizontal .form-group:after,
.btn-toolbar:before,
.btn-toolbar:after,
.btn-group-vertical > .btn-group:before,
.btn-group-vertical > .btn-group:after,
.nav:before,
.nav:after,
.navbar:before,
.navbar:after,
.navbar-header:before,
.navbar-header:after,
.navbar-collapse:before,
.navbar-collapse:after,
.pager:before,
.pager:after,
.panel-body:before,
.panel-body:after,
.modal-header:before,
.modal-header:after,
.modal-footer:before,
.modal-footer:after,
.item_buttons:before,
.item_buttons:after {
  content: " ";
  display: table;
}
.clearfix:after,
.dl-horizontal dd:after,
.container:after,
.container-fluid:after,
.row:after,
.form-horizontal .form-group:after,
.btn-toolbar:after,
.btn-group-vertical > .btn-group:after,
.nav:after,
.navbar:after,
.navbar-header:after,
.navbar-collapse:after,
.pager:after,
.panel-body:after,
.modal-header:after,
.modal-footer:after,
.item_buttons:after {
  clear: both;
}
.center-block {
  display: block;
  margin-left: auto;
  margin-right: auto;
}
.pull-right {
  float: right !important;
}
.pull-left {
  float: left !important;
}
.hide {
  display: none !important;
}
.show {
  display: block !important;
}
.invisible {
  visibility: hidden;
}
.text-hide {
  font: 0/0 a;
  color: transparent;
  text-shadow: none;
  background-color: transparent;
  border: 0;
}
.hidden {
  display: none !important;
}
.affix {
  position: fixed;
}
@-ms-viewport {
  width: device-width;
}
.visible-xs,
.visible-sm,
.visible-md,
.visible-lg {
  display: none !important;
}
.visible-xs-block,
.visible-xs-inline,
.visible-xs-inline-block,
.visible-sm-block,
.visible-sm-inline,
.visible-sm-inline-block,
.visible-md-block,
.visible-md-inline,
.visible-md-inline-block,
.visible-lg-block,
.visible-lg-inline,
.visible-lg-inline-block {
  display: none !important;
}
@media (max-width: 767px) {
  .visible-xs {
    display: block !important;
  }
  table.visible-xs {
    display: table !important;
  }
  tr.visible-xs {
    display: table-row !important;
  }
  th.visible-xs,
  td.visible-xs {
    display: table-cell !important;
  }
}
@media (max-width: 767px) {
  .visible-xs-block {
    display: block !important;
  }
}
@media (max-width: 767px) {
  .visible-xs-inline {
    display: inline !important;
  }
}
@media (max-width: 767px) {
  .visible-xs-inline-block {
    display: inline-block !important;
  }
}
@media (min-width: 768px) and (max-width: 991px) {
  .visible-sm {
    display: block !important;
  }
  table.visible-sm {
    display: table !important;
  }
  tr.visible-sm {
    display: table-row !important;
  }
  th.visible-sm,
  td.visible-sm {
    display: table-cell !important;
  }
}
@media (min-width: 768px) and (max-width: 991px) {
  .visible-sm-block {
    display: block !important;
  }
}
@media (min-width: 768px) and (max-width: 991px) {
  .visible-sm-inline {
    display: inline !important;
  }
}
@media (min-width: 768px) and (max-width: 991px) {
  .visible-sm-inline-block {
    display: inline-block !important;
  }
}
@media (min-width: 992px) and (max-width: 1199px) {
  .visible-md {
    display: block !important;
  }
  table.visible-md {
    display: table !important;
  }
  tr.visible-md {
    display: table-row !important;
  }
  th.visible-md,
  td.visible-md {
    display: table-cell !important;
  }
}
@media (min-width: 992px) and (max-width: 1199px) {
  .visible-md-block {
    display: block !important;
  }
}
@media (min-width: 992px) and (max-width: 1199px) {
  .visible-md-inline {
    display: inline !important;
  }
}
@media (min-width: 992px) and (max-width: 1199px) {
  .visible-md-inline-block {
    display: inline-block !important;
  }
}
@media (min-width: 1200px) {
  .visible-lg {
    display: block !important;
  }
  table.visible-lg {
    display: table !important;
  }
  tr.visible-lg {
    display: table-row !important;
  }
  th.visible-lg,
  td.visible-lg {
    display: table-cell !important;
  }
}
@media (min-width: 1200px) {
  .visible-lg-block {
    display: block !important;
  }
}
@media (min-width: 1200px) {
  .visible-lg-inline {
    display: inline !important;
  }
}
@media (min-width: 1200px) {
  .visible-lg-inline-block {
    display: inline-block !important;
  }
}
@media (max-width: 767px) {
  .hidden-xs {
    display: none !important;
  }
}
@media (min-width: 768px) and (max-width: 991px) {
  .hidden-sm {
    display: none !important;
  }
}
@media (min-width: 992px) and (max-width: 1199px) {
  .hidden-md {
    display: none !important;
  }
}
@media (min-width: 1200px) {
  .hidden-lg {
    display: none !important;
  }
}
.visible-print {
  display: none !important;
}
@media print {
  .visible-print {
    display: block !important;
  }
  table.visible-print {
    display: table !important;
  }
  tr.visible-print {
    display: table-row !important;
  }
  th.visible-print,
  td.visible-print {
    display: table-cell !important;
  }
}
.visible-print-block {
  display: none !important;
}
@media print {
  .visible-print-block {
    display: block !important;
  }
}
.visible-print-inline {
  display: none !important;
}
@media print {
  .visible-print-inline {
    display: inline !important;
  }
}
.visible-print-inline-block {
  display: none !important;
}
@media print {
  .visible-print-inline-block {
    display: inline-block !important;
  }
}
@media print {
  .hidden-print {
    display: none !important;
  }
}
/*!
*
* Font Awesome
*
*/
/*!
 *  Font Awesome 4.7.0 by @davegandy - http://fontawesome.io - @fontawesome
 *  License - http://fontawesome.io/license (Font: SIL OFL 1.1, CSS: MIT License)
 */
/* FONT PATH
 * -------------------------- */
@font-face {
  font-family: 'FontAwesome';
  src: url('../components/font-awesome/fonts/fontawesome-webfont.eot?v=4.7.0');
  src: url('../components/font-awesome/fonts/fontawesome-webfont.eot?#iefix&v=4.7.0') format('embedded-opentype'), url('../components/font-awesome/fonts/fontawesome-webfont.woff2?v=4.7.0') format('woff2'), url('../components/font-awesome/fonts/fontawesome-webfont.woff?v=4.7.0') format('woff'), url('../components/font-awesome/fonts/fontawesome-webfont.ttf?v=4.7.0') format('truetype'), url('../components/font-awesome/fonts/fontawesome-webfont.svg?v=4.7.0#fontawesomeregular') format('svg');
  font-weight: normal;
  font-style: normal;
}
.fa {
  display: inline-block;
  font: normal normal normal 14px/1 FontAwesome;
  font-size: inherit;
  text-rendering: auto;
  -webkit-font-smoothing: antialiased;
  -moz-osx-font-smoothing: grayscale;
}
/* makes the font 33% larger relative to the icon container */
.fa-lg {
  font-size: 1.33333333em;
  line-height: 0.75em;
  vertical-align: -15%;
}
.fa-2x {
  font-size: 2em;
}
.fa-3x {
  font-size: 3em;
}
.fa-4x {
  font-size: 4em;
}
.fa-5x {
  font-size: 5em;
}
.fa-fw {
  width: 1.28571429em;
  text-align: center;
}
.fa-ul {
  padding-left: 0;
  margin-left: 2.14285714em;
  list-style-type: none;
}
.fa-ul > li {
  position: relative;
}
.fa-li {
  position: absolute;
  left: -2.14285714em;
  width: 2.14285714em;
  top: 0.14285714em;
  text-align: center;
}
.fa-li.fa-lg {
  left: -1.85714286em;
}
.fa-border {
  padding: .2em .25em .15em;
  border: solid 0.08em #eee;
  border-radius: .1em;
}
.fa-pull-left {
  float: left;
}
.fa-pull-right {
  float: right;
}
.fa.fa-pull-left {
  margin-right: .3em;
}
.fa.fa-pull-right {
  margin-left: .3em;
}
/* Deprecated as of 4.4.0 */
.pull-right {
  float: right;
}
.pull-left {
  float: left;
}
.fa.pull-left {
  margin-right: .3em;
}
.fa.pull-right {
  margin-left: .3em;
}
.fa-spin {
  -webkit-animation: fa-spin 2s infinite linear;
  animation: fa-spin 2s infinite linear;
}
.fa-pulse {
  -webkit-animation: fa-spin 1s infinite steps(8);
  animation: fa-spin 1s infinite steps(8);
}
@-webkit-keyframes fa-spin {
  0% {
    -webkit-transform: rotate(0deg);
    transform: rotate(0deg);
  }
  100% {
    -webkit-transform: rotate(359deg);
    transform: rotate(359deg);
  }
}
@keyframes fa-spin {
  0% {
    -webkit-transform: rotate(0deg);
    transform: rotate(0deg);
  }
  100% {
    -webkit-transform: rotate(359deg);
    transform: rotate(359deg);
  }
}
.fa-rotate-90 {
  -ms-filter: "progid:DXImageTransform.Microsoft.BasicImage(rotation=1)";
  -webkit-transform: rotate(90deg);
  -ms-transform: rotate(90deg);
  transform: rotate(90deg);
}
.fa-rotate-180 {
  -ms-filter: "progid:DXImageTransform.Microsoft.BasicImage(rotation=2)";
  -webkit-transform: rotate(180deg);
  -ms-transform: rotate(180deg);
  transform: rotate(180deg);
}
.fa-rotate-270 {
  -ms-filter: "progid:DXImageTransform.Microsoft.BasicImage(rotation=3)";
  -webkit-transform: rotate(270deg);
  -ms-transform: rotate(270deg);
  transform: rotate(270deg);
}
.fa-flip-horizontal {
  -ms-filter: "progid:DXImageTransform.Microsoft.BasicImage(rotation=0, mirror=1)";
  -webkit-transform: scale(-1, 1);
  -ms-transform: scale(-1, 1);
  transform: scale(-1, 1);
}
.fa-flip-vertical {
  -ms-filter: "progid:DXImageTransform.Microsoft.BasicImage(rotation=2, mirror=1)";
  -webkit-transform: scale(1, -1);
  -ms-transform: scale(1, -1);
  transform: scale(1, -1);
}
:root .fa-rotate-90,
:root .fa-rotate-180,
:root .fa-rotate-270,
:root .fa-flip-horizontal,
:root .fa-flip-vertical {
  filter: none;
}
.fa-stack {
  position: relative;
  display: inline-block;
  width: 2em;
  height: 2em;
  line-height: 2em;
  vertical-align: middle;
}
.fa-stack-1x,
.fa-stack-2x {
  position: absolute;
  left: 0;
  width: 100%;
  text-align: center;
}
.fa-stack-1x {
  line-height: inherit;
}
.fa-stack-2x {
  font-size: 2em;
}
.fa-inverse {
  color: #fff;
}
/* Font Awesome uses the Unicode Private Use Area (PUA) to ensure screen
   readers do not read off random characters that represent icons */
.fa-glass:before {
  content: "\f000";
}
.fa-music:before {
  content: "\f001";
}
.fa-search:before {
  content: "\f002";
}
.fa-envelope-o:before {
  content: "\f003";
}
.fa-heart:before {
  content: "\f004";
}
.fa-star:before {
  content: "\f005";
}
.fa-star-o:before {
  content: "\f006";
}
.fa-user:before {
  content: "\f007";
}
.fa-film:before {
  content: "\f008";
}
.fa-th-large:before {
  content: "\f009";
}
.fa-th:before {
  content: "\f00a";
}
.fa-th-list:before {
  content: "\f00b";
}
.fa-check:before {
  content: "\f00c";
}
.fa-remove:before,
.fa-close:before,
.fa-times:before {
  content: "\f00d";
}
.fa-search-plus:before {
  content: "\f00e";
}
.fa-search-minus:before {
  content: "\f010";
}
.fa-power-off:before {
  content: "\f011";
}
.fa-signal:before {
  content: "\f012";
}
.fa-gear:before,
.fa-cog:before {
  content: "\f013";
}
.fa-trash-o:before {
  content: "\f014";
}
.fa-home:before {
  content: "\f015";
}
.fa-file-o:before {
  content: "\f016";
}
.fa-clock-o:before {
  content: "\f017";
}
.fa-road:before {
  content: "\f018";
}
.fa-download:before {
  content: "\f019";
}
.fa-arrow-circle-o-down:before {
  content: "\f01a";
}
.fa-arrow-circle-o-up:before {
  content: "\f01b";
}
.fa-inbox:before {
  content: "\f01c";
}
.fa-play-circle-o:before {
  content: "\f01d";
}
.fa-rotate-right:before,
.fa-repeat:before {
  content: "\f01e";
}
.fa-refresh:before {
  content: "\f021";
}
.fa-list-alt:before {
  content: "\f022";
}
.fa-lock:before {
  content: "\f023";
}
.fa-flag:before {
  content: "\f024";
}
.fa-headphones:before {
  content: "\f025";
}
.fa-volume-off:before {
  content: "\f026";
}
.fa-volume-down:before {
  content: "\f027";
}
.fa-volume-up:before {
  content: "\f028";
}
.fa-qrcode:before {
  content: "\f029";
}
.fa-barcode:before {
  content: "\f02a";
}
.fa-tag:before {
  content: "\f02b";
}
.fa-tags:before {
  content: "\f02c";
}
.fa-book:before {
  content: "\f02d";
}
.fa-bookmark:before {
  content: "\f02e";
}
.fa-print:before {
  content: "\f02f";
}
.fa-camera:before {
  content: "\f030";
}
.fa-font:before {
  content: "\f031";
}
.fa-bold:before {
  content: "\f032";
}
.fa-italic:before {
  content: "\f033";
}
.fa-text-height:before {
  content: "\f034";
}
.fa-text-width:before {
  content: "\f035";
}
.fa-align-left:before {
  content: "\f036";
}
.fa-align-center:before {
  content: "\f037";
}
.fa-align-right:before {
  content: "\f038";
}
.fa-align-justify:before {
  content: "\f039";
}
.fa-list:before {
  content: "\f03a";
}
.fa-dedent:before,
.fa-outdent:before {
  content: "\f03b";
}
.fa-indent:before {
  content: "\f03c";
}
.fa-video-camera:before {
  content: "\f03d";
}
.fa-photo:before,
.fa-image:before,
.fa-picture-o:before {
  content: "\f03e";
}
.fa-pencil:before {
  content: "\f040";
}
.fa-map-marker:before {
  content: "\f041";
}
.fa-adjust:before {
  content: "\f042";
}
.fa-tint:before {
  content: "\f043";
}
.fa-edit:before,
.fa-pencil-square-o:before {
  content: "\f044";
}
.fa-share-square-o:before {
  content: "\f045";
}
.fa-check-square-o:before {
  content: "\f046";
}
.fa-arrows:before {
  content: "\f047";
}
.fa-step-backward:before {
  content: "\f048";
}
.fa-fast-backward:before {
  content: "\f049";
}
.fa-backward:before {
  content: "\f04a";
}
.fa-play:before {
  content: "\f04b";
}
.fa-pause:before {
  content: "\f04c";
}
.fa-stop:before {
  content: "\f04d";
}
.fa-forward:before {
  content: "\f04e";
}
.fa-fast-forward:before {
  content: "\f050";
}
.fa-step-forward:before {
  content: "\f051";
}
.fa-eject:before {
  content: "\f052";
}
.fa-chevron-left:before {
  content: "\f053";
}
.fa-chevron-right:before {
  content: "\f054";
}
.fa-plus-circle:before {
  content: "\f055";
}
.fa-minus-circle:before {
  content: "\f056";
}
.fa-times-circle:before {
  content: "\f057";
}
.fa-check-circle:before {
  content: "\f058";
}
.fa-question-circle:before {
  content: "\f059";
}
.fa-info-circle:before {
  content: "\f05a";
}
.fa-crosshairs:before {
  content: "\f05b";
}
.fa-times-circle-o:before {
  content: "\f05c";
}
.fa-check-circle-o:before {
  content: "\f05d";
}
.fa-ban:before {
  content: "\f05e";
}
.fa-arrow-left:before {
  content: "\f060";
}
.fa-arrow-right:before {
  content: "\f061";
}
.fa-arrow-up:before {
  content: "\f062";
}
.fa-arrow-down:before {
  content: "\f063";
}
.fa-mail-forward:before,
.fa-share:before {
  content: "\f064";
}
.fa-expand:before {
  content: "\f065";
}
.fa-compress:before {
  content: "\f066";
}
.fa-plus:before {
  content: "\f067";
}
.fa-minus:before {
  content: "\f068";
}
.fa-asterisk:before {
  content: "\f069";
}
.fa-exclamation-circle:before {
  content: "\f06a";
}
.fa-gift:before {
  content: "\f06b";
}
.fa-leaf:before {
  content: "\f06c";
}
.fa-fire:before {
  content: "\f06d";
}
.fa-eye:before {
  content: "\f06e";
}
.fa-eye-slash:before {
  content: "\f070";
}
.fa-warning:before,
.fa-exclamation-triangle:before {
  content: "\f071";
}
.fa-plane:before {
  content: "\f072";
}
.fa-calendar:before {
  content: "\f073";
}
.fa-random:before {
  content: "\f074";
}
.fa-comment:before {
  content: "\f075";
}
.fa-magnet:before {
  content: "\f076";
}
.fa-chevron-up:before {
  content: "\f077";
}
.fa-chevron-down:before {
  content: "\f078";
}
.fa-retweet:before {
  content: "\f079";
}
.fa-shopping-cart:before {
  content: "\f07a";
}
.fa-folder:before {
  content: "\f07b";
}
.fa-folder-open:before {
  content: "\f07c";
}
.fa-arrows-v:before {
  content: "\f07d";
}
.fa-arrows-h:before {
  content: "\f07e";
}
.fa-bar-chart-o:before,
.fa-bar-chart:before {
  content: "\f080";
}
.fa-twitter-square:before {
  content: "\f081";
}
.fa-facebook-square:before {
  content: "\f082";
}
.fa-camera-retro:before {
  content: "\f083";
}
.fa-key:before {
  content: "\f084";
}
.fa-gears:before,
.fa-cogs:before {
  content: "\f085";
}
.fa-comments:before {
  content: "\f086";
}
.fa-thumbs-o-up:before {
  content: "\f087";
}
.fa-thumbs-o-down:before {
  content: "\f088";
}
.fa-star-half:before {
  content: "\f089";
}
.fa-heart-o:before {
  content: "\f08a";
}
.fa-sign-out:before {
  content: "\f08b";
}
.fa-linkedin-square:before {
  content: "\f08c";
}
.fa-thumb-tack:before {
  content: "\f08d";
}
.fa-external-link:before {
  content: "\f08e";
}
.fa-sign-in:before {
  content: "\f090";
}
.fa-trophy:before {
  content: "\f091";
}
.fa-github-square:before {
  content: "\f092";
}
.fa-upload:before {
  content: "\f093";
}
.fa-lemon-o:before {
  content: "\f094";
}
.fa-phone:before {
  content: "\f095";
}
.fa-square-o:before {
  content: "\f096";
}
.fa-bookmark-o:before {
  content: "\f097";
}
.fa-phone-square:before {
  content: "\f098";
}
.fa-twitter:before {
  content: "\f099";
}
.fa-facebook-f:before,
.fa-facebook:before {
  content: "\f09a";
}
.fa-github:before {
  content: "\f09b";
}
.fa-unlock:before {
  content: "\f09c";
}
.fa-credit-card:before {
  content: "\f09d";
}
.fa-feed:before,
.fa-rss:before {
  content: "\f09e";
}
.fa-hdd-o:before {
  content: "\f0a0";
}
.fa-bullhorn:before {
  content: "\f0a1";
}
.fa-bell:before {
  content: "\f0f3";
}
.fa-certificate:before {
  content: "\f0a3";
}
.fa-hand-o-right:before {
  content: "\f0a4";
}
.fa-hand-o-left:before {
  content: "\f0a5";
}
.fa-hand-o-up:before {
  content: "\f0a6";
}
.fa-hand-o-down:before {
  content: "\f0a7";
}
.fa-arrow-circle-left:before {
  content: "\f0a8";
}
.fa-arrow-circle-right:before {
  content: "\f0a9";
}
.fa-arrow-circle-up:before {
  content: "\f0aa";
}
.fa-arrow-circle-down:before {
  content: "\f0ab";
}
.fa-globe:before {
  content: "\f0ac";
}
.fa-wrench:before {
  content: "\f0ad";
}
.fa-tasks:before {
  content: "\f0ae";
}
.fa-filter:before {
  content: "\f0b0";
}
.fa-briefcase:before {
  content: "\f0b1";
}
.fa-arrows-alt:before {
  content: "\f0b2";
}
.fa-group:before,
.fa-users:before {
  content: "\f0c0";
}
.fa-chain:before,
.fa-link:before {
  content: "\f0c1";
}
.fa-cloud:before {
  content: "\f0c2";
}
.fa-flask:before {
  content: "\f0c3";
}
.fa-cut:before,
.fa-scissors:before {
  content: "\f0c4";
}
.fa-copy:before,
.fa-files-o:before {
  content: "\f0c5";
}
.fa-paperclip:before {
  content: "\f0c6";
}
.fa-save:before,
.fa-floppy-o:before {
  content: "\f0c7";
}
.fa-square:before {
  content: "\f0c8";
}
.fa-navicon:before,
.fa-reorder:before,
.fa-bars:before {
  content: "\f0c9";
}
.fa-list-ul:before {
  content: "\f0ca";
}
.fa-list-ol:before {
  content: "\f0cb";
}
.fa-strikethrough:before {
  content: "\f0cc";
}
.fa-underline:before {
  content: "\f0cd";
}
.fa-table:before {
  content: "\f0ce";
}
.fa-magic:before {
  content: "\f0d0";
}
.fa-truck:before {
  content: "\f0d1";
}
.fa-pinterest:before {
  content: "\f0d2";
}
.fa-pinterest-square:before {
  content: "\f0d3";
}
.fa-google-plus-square:before {
  content: "\f0d4";
}
.fa-google-plus:before {
  content: "\f0d5";
}
.fa-money:before {
  content: "\f0d6";
}
.fa-caret-down:before {
  content: "\f0d7";
}
.fa-caret-up:before {
  content: "\f0d8";
}
.fa-caret-left:before {
  content: "\f0d9";
}
.fa-caret-right:before {
  content: "\f0da";
}
.fa-columns:before {
  content: "\f0db";
}
.fa-unsorted:before,
.fa-sort:before {
  content: "\f0dc";
}
.fa-sort-down:before,
.fa-sort-desc:before {
  content: "\f0dd";
}
.fa-sort-up:before,
.fa-sort-asc:before {
  content: "\f0de";
}
.fa-envelope:before {
  content: "\f0e0";
}
.fa-linkedin:before {
  content: "\f0e1";
}
.fa-rotate-left:before,
.fa-undo:before {
  content: "\f0e2";
}
.fa-legal:before,
.fa-gavel:before {
  content: "\f0e3";
}
.fa-dashboard:before,
.fa-tachometer:before {
  content: "\f0e4";
}
.fa-comment-o:before {
  content: "\f0e5";
}
.fa-comments-o:before {
  content: "\f0e6";
}
.fa-flash:before,
.fa-bolt:before {
  content: "\f0e7";
}
.fa-sitemap:before {
  content: "\f0e8";
}
.fa-umbrella:before {
  content: "\f0e9";
}
.fa-paste:before,
.fa-clipboard:before {
  content: "\f0ea";
}
.fa-lightbulb-o:before {
  content: "\f0eb";
}
.fa-exchange:before {
  content: "\f0ec";
}
.fa-cloud-download:before {
  content: "\f0ed";
}
.fa-cloud-upload:before {
  content: "\f0ee";
}
.fa-user-md:before {
  content: "\f0f0";
}
.fa-stethoscope:before {
  content: "\f0f1";
}
.fa-suitcase:before {
  content: "\f0f2";
}
.fa-bell-o:before {
  content: "\f0a2";
}
.fa-coffee:before {
  content: "\f0f4";
}
.fa-cutlery:before {
  content: "\f0f5";
}
.fa-file-text-o:before {
  content: "\f0f6";
}
.fa-building-o:before {
  content: "\f0f7";
}
.fa-hospital-o:before {
  content: "\f0f8";
}
.fa-ambulance:before {
  content: "\f0f9";
}
.fa-medkit:before {
  content: "\f0fa";
}
.fa-fighter-jet:before {
  content: "\f0fb";
}
.fa-beer:before {
  content: "\f0fc";
}
.fa-h-square:before {
  content: "\f0fd";
}
.fa-plus-square:before {
  content: "\f0fe";
}
.fa-angle-double-left:before {
  content: "\f100";
}
.fa-angle-double-right:before {
  content: "\f101";
}
.fa-angle-double-up:before {
  content: "\f102";
}
.fa-angle-double-down:before {
  content: "\f103";
}
.fa-angle-left:before {
  content: "\f104";
}
.fa-angle-right:before {
  content: "\f105";
}
.fa-angle-up:before {
  content: "\f106";
}
.fa-angle-down:before {
  content: "\f107";
}
.fa-desktop:before {
  content: "\f108";
}
.fa-laptop:before {
  content: "\f109";
}
.fa-tablet:before {
  content: "\f10a";
}
.fa-mobile-phone:before,
.fa-mobile:before {
  content: "\f10b";
}
.fa-circle-o:before {
  content: "\f10c";
}
.fa-quote-left:before {
  content: "\f10d";
}
.fa-quote-right:before {
  content: "\f10e";
}
.fa-spinner:before {
  content: "\f110";
}
.fa-circle:before {
  content: "\f111";
}
.fa-mail-reply:before,
.fa-reply:before {
  content: "\f112";
}
.fa-github-alt:before {
  content: "\f113";
}
.fa-folder-o:before {
  content: "\f114";
}
.fa-folder-open-o:before {
  content: "\f115";
}
.fa-smile-o:before {
  content: "\f118";
}
.fa-frown-o:before {
  content: "\f119";
}
.fa-meh-o:before {
  content: "\f11a";
}
.fa-gamepad:before {
  content: "\f11b";
}
.fa-keyboard-o:before {
  content: "\f11c";
}
.fa-flag-o:before {
  content: "\f11d";
}
.fa-flag-checkered:before {
  content: "\f11e";
}
.fa-terminal:before {
  content: "\f120";
}
.fa-code:before {
  content: "\f121";
}
.fa-mail-reply-all:before,
.fa-reply-all:before {
  content: "\f122";
}
.fa-star-half-empty:before,
.fa-star-half-full:before,
.fa-star-half-o:before {
  content: "\f123";
}
.fa-location-arrow:before {
  content: "\f124";
}
.fa-crop:before {
  content: "\f125";
}
.fa-code-fork:before {
  content: "\f126";
}
.fa-unlink:before,
.fa-chain-broken:before {
  content: "\f127";
}
.fa-question:before {
  content: "\f128";
}
.fa-info:before {
  content: "\f129";
}
.fa-exclamation:before {
  content: "\f12a";
}
.fa-superscript:before {
  content: "\f12b";
}
.fa-subscript:before {
  content: "\f12c";
}
.fa-eraser:before {
  content: "\f12d";
}
.fa-puzzle-piece:before {
  content: "\f12e";
}
.fa-microphone:before {
  content: "\f130";
}
.fa-microphone-slash:before {
  content: "\f131";
}
.fa-shield:before {
  content: "\f132";
}
.fa-calendar-o:before {
  content: "\f133";
}
.fa-fire-extinguisher:before {
  content: "\f134";
}
.fa-rocket:before {
  content: "\f135";
}
.fa-maxcdn:before {
  content: "\f136";
}
.fa-chevron-circle-left:before {
  content: "\f137";
}
.fa-chevron-circle-right:before {
  content: "\f138";
}
.fa-chevron-circle-up:before {
  content: "\f139";
}
.fa-chevron-circle-down:before {
  content: "\f13a";
}
.fa-html5:before {
  content: "\f13b";
}
.fa-css3:before {
  content: "\f13c";
}
.fa-anchor:before {
  content: "\f13d";
}
.fa-unlock-alt:before {
  content: "\f13e";
}
.fa-bullseye:before {
  content: "\f140";
}
.fa-ellipsis-h:before {
  content: "\f141";
}
.fa-ellipsis-v:before {
  content: "\f142";
}
.fa-rss-square:before {
  content: "\f143";
}
.fa-play-circle:before {
  content: "\f144";
}
.fa-ticket:before {
  content: "\f145";
}
.fa-minus-square:before {
  content: "\f146";
}
.fa-minus-square-o:before {
  content: "\f147";
}
.fa-level-up:before {
  content: "\f148";
}
.fa-level-down:before {
  content: "\f149";
}
.fa-check-square:before {
  content: "\f14a";
}
.fa-pencil-square:before {
  content: "\f14b";
}
.fa-external-link-square:before {
  content: "\f14c";
}
.fa-share-square:before {
  content: "\f14d";
}
.fa-compass:before {
  content: "\f14e";
}
.fa-toggle-down:before,
.fa-caret-square-o-down:before {
  content: "\f150";
}
.fa-toggle-up:before,
.fa-caret-square-o-up:before {
  content: "\f151";
}
.fa-toggle-right:before,
.fa-caret-square-o-right:before {
  content: "\f152";
}
.fa-euro:before,
.fa-eur:before {
  content: "\f153";
}
.fa-gbp:before {
  content: "\f154";
}
.fa-dollar:before,
.fa-usd:before {
  content: "\f155";
}
.fa-rupee:before,
.fa-inr:before {
  content: "\f156";
}
.fa-cny:before,
.fa-rmb:before,
.fa-yen:before,
.fa-jpy:before {
  content: "\f157";
}
.fa-ruble:before,
.fa-rouble:before,
.fa-rub:before {
  content: "\f158";
}
.fa-won:before,
.fa-krw:before {
  content: "\f159";
}
.fa-bitcoin:before,
.fa-btc:before {
  content: "\f15a";
}
.fa-file:before {
  content: "\f15b";
}
.fa-file-text:before {
  content: "\f15c";
}
.fa-sort-alpha-asc:before {
  content: "\f15d";
}
.fa-sort-alpha-desc:before {
  content: "\f15e";
}
.fa-sort-amount-asc:before {
  content: "\f160";
}
.fa-sort-amount-desc:before {
  content: "\f161";
}
.fa-sort-numeric-asc:before {
  content: "\f162";
}
.fa-sort-numeric-desc:before {
  content: "\f163";
}
.fa-thumbs-up:before {
  content: "\f164";
}
.fa-thumbs-down:before {
  content: "\f165";
}
.fa-youtube-square:before {
  content: "\f166";
}
.fa-youtube:before {
  content: "\f167";
}
.fa-xing:before {
  content: "\f168";
}
.fa-xing-square:before {
  content: "\f169";
}
.fa-youtube-play:before {
  content: "\f16a";
}
.fa-dropbox:before {
  content: "\f16b";
}
.fa-stack-overflow:before {
  content: "\f16c";
}
.fa-instagram:before {
  content: "\f16d";
}
.fa-flickr:before {
  content: "\f16e";
}
.fa-adn:before {
  content: "\f170";
}
.fa-bitbucket:before {
  content: "\f171";
}
.fa-bitbucket-square:before {
  content: "\f172";
}
.fa-tumblr:before {
  content: "\f173";
}
.fa-tumblr-square:before {
  content: "\f174";
}
.fa-long-arrow-down:before {
  content: "\f175";
}
.fa-long-arrow-up:before {
  content: "\f176";
}
.fa-long-arrow-left:before {
  content: "\f177";
}
.fa-long-arrow-right:before {
  content: "\f178";
}
.fa-apple:before {
  content: "\f179";
}
.fa-windows:before {
  content: "\f17a";
}
.fa-android:before {
  content: "\f17b";
}
.fa-linux:before {
  content: "\f17c";
}
.fa-dribbble:before {
  content: "\f17d";
}
.fa-skype:before {
  content: "\f17e";
}
.fa-foursquare:before {
  content: "\f180";
}
.fa-trello:before {
  content: "\f181";
}
.fa-female:before {
  content: "\f182";
}
.fa-male:before {
  content: "\f183";
}
.fa-gittip:before,
.fa-gratipay:before {
  content: "\f184";
}
.fa-sun-o:before {
  content: "\f185";
}
.fa-moon-o:before {
  content: "\f186";
}
.fa-archive:before {
  content: "\f187";
}
.fa-bug:before {
  content: "\f188";
}
.fa-vk:before {
  content: "\f189";
}
.fa-weibo:before {
  content: "\f18a";
}
.fa-renren:before {
  content: "\f18b";
}
.fa-pagelines:before {
  content: "\f18c";
}
.fa-stack-exchange:before {
  content: "\f18d";
}
.fa-arrow-circle-o-right:before {
  content: "\f18e";
}
.fa-arrow-circle-o-left:before {
  content: "\f190";
}
.fa-toggle-left:before,
.fa-caret-square-o-left:before {
  content: "\f191";
}
.fa-dot-circle-o:before {
  content: "\f192";
}
.fa-wheelchair:before {
  content: "\f193";
}
.fa-vimeo-square:before {
  content: "\f194";
}
.fa-turkish-lira:before,
.fa-try:before {
  content: "\f195";
}
.fa-plus-square-o:before {
  content: "\f196";
}
.fa-space-shuttle:before {
  content: "\f197";
}
.fa-slack:before {
  content: "\f198";
}
.fa-envelope-square:before {
  content: "\f199";
}
.fa-wordpress:before {
  content: "\f19a";
}
.fa-openid:before {
  content: "\f19b";
}
.fa-institution:before,
.fa-bank:before,
.fa-university:before {
  content: "\f19c";
}
.fa-mortar-board:before,
.fa-graduation-cap:before {
  content: "\f19d";
}
.fa-yahoo:before {
  content: "\f19e";
}
.fa-google:before {
  content: "\f1a0";
}
.fa-reddit:before {
  content: "\f1a1";
}
.fa-reddit-square:before {
  content: "\f1a2";
}
.fa-stumbleupon-circle:before {
  content: "\f1a3";
}
.fa-stumbleupon:before {
  content: "\f1a4";
}
.fa-delicious:before {
  content: "\f1a5";
}
.fa-digg:before {
  content: "\f1a6";
}
.fa-pied-piper-pp:before {
  content: "\f1a7";
}
.fa-pied-piper-alt:before {
  content: "\f1a8";
}
.fa-drupal:before {
  content: "\f1a9";
}
.fa-joomla:before {
  content: "\f1aa";
}
.fa-language:before {
  content: "\f1ab";
}
.fa-fax:before {
  content: "\f1ac";
}
.fa-building:before {
  content: "\f1ad";
}
.fa-child:before {
  content: "\f1ae";
}
.fa-paw:before {
  content: "\f1b0";
}
.fa-spoon:before {
  content: "\f1b1";
}
.fa-cube:before {
  content: "\f1b2";
}
.fa-cubes:before {
  content: "\f1b3";
}
.fa-behance:before {
  content: "\f1b4";
}
.fa-behance-square:before {
  content: "\f1b5";
}
.fa-steam:before {
  content: "\f1b6";
}
.fa-steam-square:before {
  content: "\f1b7";
}
.fa-recycle:before {
  content: "\f1b8";
}
.fa-automobile:before,
.fa-car:before {
  content: "\f1b9";
}
.fa-cab:before,
.fa-taxi:before {
  content: "\f1ba";
}
.fa-tree:before {
  content: "\f1bb";
}
.fa-spotify:before {
  content: "\f1bc";
}
.fa-deviantart:before {
  content: "\f1bd";
}
.fa-soundcloud:before {
  content: "\f1be";
}
.fa-database:before {
  content: "\f1c0";
}
.fa-file-pdf-o:before {
  content: "\f1c1";
}
.fa-file-word-o:before {
  content: "\f1c2";
}
.fa-file-excel-o:before {
  content: "\f1c3";
}
.fa-file-powerpoint-o:before {
  content: "\f1c4";
}
.fa-file-photo-o:before,
.fa-file-picture-o:before,
.fa-file-image-o:before {
  content: "\f1c5";
}
.fa-file-zip-o:before,
.fa-file-archive-o:before {
  content: "\f1c6";
}
.fa-file-sound-o:before,
.fa-file-audio-o:before {
  content: "\f1c7";
}
.fa-file-movie-o:before,
.fa-file-video-o:before {
  content: "\f1c8";
}
.fa-file-code-o:before {
  content: "\f1c9";
}
.fa-vine:before {
  content: "\f1ca";
}
.fa-codepen:before {
  content: "\f1cb";
}
.fa-jsfiddle:before {
  content: "\f1cc";
}
.fa-life-bouy:before,
.fa-life-buoy:before,
.fa-life-saver:before,
.fa-support:before,
.fa-life-ring:before {
  content: "\f1cd";
}
.fa-circle-o-notch:before {
  content: "\f1ce";
}
.fa-ra:before,
.fa-resistance:before,
.fa-rebel:before {
  content: "\f1d0";
}
.fa-ge:before,
.fa-empire:before {
  content: "\f1d1";
}
.fa-git-square:before {
  content: "\f1d2";
}
.fa-git:before {
  content: "\f1d3";
}
.fa-y-combinator-square:before,
.fa-yc-square:before,
.fa-hacker-news:before {
  content: "\f1d4";
}
.fa-tencent-weibo:before {
  content: "\f1d5";
}
.fa-qq:before {
  content: "\f1d6";
}
.fa-wechat:before,
.fa-weixin:before {
  content: "\f1d7";
}
.fa-send:before,
.fa-paper-plane:before {
  content: "\f1d8";
}
.fa-send-o:before,
.fa-paper-plane-o:before {
  content: "\f1d9";
}
.fa-history:before {
  content: "\f1da";
}
.fa-circle-thin:before {
  content: "\f1db";
}
.fa-header:before {
  content: "\f1dc";
}
.fa-paragraph:before {
  content: "\f1dd";
}
.fa-sliders:before {
  content: "\f1de";
}
.fa-share-alt:before {
  content: "\f1e0";
}
.fa-share-alt-square:before {
  content: "\f1e1";
}
.fa-bomb:before {
  content: "\f1e2";
}
.fa-soccer-ball-o:before,
.fa-futbol-o:before {
  content: "\f1e3";
}
.fa-tty:before {
  content: "\f1e4";
}
.fa-binoculars:before {
  content: "\f1e5";
}
.fa-plug:before {
  content: "\f1e6";
}
.fa-slideshare:before {
  content: "\f1e7";
}
.fa-twitch:before {
  content: "\f1e8";
}
.fa-yelp:before {
  content: "\f1e9";
}
.fa-newspaper-o:before {
  content: "\f1ea";
}
.fa-wifi:before {
  content: "\f1eb";
}
.fa-calculator:before {
  content: "\f1ec";
}
.fa-paypal:before {
  content: "\f1ed";
}
.fa-google-wallet:before {
  content: "\f1ee";
}
.fa-cc-visa:before {
  content: "\f1f0";
}
.fa-cc-mastercard:before {
  content: "\f1f1";
}
.fa-cc-discover:before {
  content: "\f1f2";
}
.fa-cc-amex:before {
  content: "\f1f3";
}
.fa-cc-paypal:before {
  content: "\f1f4";
}
.fa-cc-stripe:before {
  content: "\f1f5";
}
.fa-bell-slash:before {
  content: "\f1f6";
}
.fa-bell-slash-o:before {
  content: "\f1f7";
}
.fa-trash:before {
  content: "\f1f8";
}
.fa-copyright:before {
  content: "\f1f9";
}
.fa-at:before {
  content: "\f1fa";
}
.fa-eyedropper:before {
  content: "\f1fb";
}
.fa-paint-brush:before {
  content: "\f1fc";
}
.fa-birthday-cake:before {
  content: "\f1fd";
}
.fa-area-chart:before {
  content: "\f1fe";
}
.fa-pie-chart:before {
  content: "\f200";
}
.fa-line-chart:before {
  content: "\f201";
}
.fa-lastfm:before {
  content: "\f202";
}
.fa-lastfm-square:before {
  content: "\f203";
}
.fa-toggle-off:before {
  content: "\f204";
}
.fa-toggle-on:before {
  content: "\f205";
}
.fa-bicycle:before {
  content: "\f206";
}
.fa-bus:before {
  content: "\f207";
}
.fa-ioxhost:before {
  content: "\f208";
}
.fa-angellist:before {
  content: "\f209";
}
.fa-cc:before {
  content: "\f20a";
}
.fa-shekel:before,
.fa-sheqel:before,
.fa-ils:before {
  content: "\f20b";
}
.fa-meanpath:before {
  content: "\f20c";
}
.fa-buysellads:before {
  content: "\f20d";
}
.fa-connectdevelop:before {
  content: "\f20e";
}
.fa-dashcube:before {
  content: "\f210";
}
.fa-forumbee:before {
  content: "\f211";
}
.fa-leanpub:before {
  content: "\f212";
}
.fa-sellsy:before {
  content: "\f213";
}
.fa-shirtsinbulk:before {
  content: "\f214";
}
.fa-simplybuilt:before {
  content: "\f215";
}
.fa-skyatlas:before {
  content: "\f216";
}
.fa-cart-plus:before {
  content: "\f217";
}
.fa-cart-arrow-down:before {
  content: "\f218";
}
.fa-diamond:before {
  content: "\f219";
}
.fa-ship:before {
  content: "\f21a";
}
.fa-user-secret:before {
  content: "\f21b";
}
.fa-motorcycle:before {
  content: "\f21c";
}
.fa-street-view:before {
  content: "\f21d";
}
.fa-heartbeat:before {
  content: "\f21e";
}
.fa-venus:before {
  content: "\f221";
}
.fa-mars:before {
  content: "\f222";
}
.fa-mercury:before {
  content: "\f223";
}
.fa-intersex:before,
.fa-transgender:before {
  content: "\f224";
}
.fa-transgender-alt:before {
  content: "\f225";
}
.fa-venus-double:before {
  content: "\f226";
}
.fa-mars-double:before {
  content: "\f227";
}
.fa-venus-mars:before {
  content: "\f228";
}
.fa-mars-stroke:before {
  content: "\f229";
}
.fa-mars-stroke-v:before {
  content: "\f22a";
}
.fa-mars-stroke-h:before {
  content: "\f22b";
}
.fa-neuter:before {
  content: "\f22c";
}
.fa-genderless:before {
  content: "\f22d";
}
.fa-facebook-official:before {
  content: "\f230";
}
.fa-pinterest-p:before {
  content: "\f231";
}
.fa-whatsapp:before {
  content: "\f232";
}
.fa-server:before {
  content: "\f233";
}
.fa-user-plus:before {
  content: "\f234";
}
.fa-user-times:before {
  content: "\f235";
}
.fa-hotel:before,
.fa-bed:before {
  content: "\f236";
}
.fa-viacoin:before {
  content: "\f237";
}
.fa-train:before {
  content: "\f238";
}
.fa-subway:before {
  content: "\f239";
}
.fa-medium:before {
  content: "\f23a";
}
.fa-yc:before,
.fa-y-combinator:before {
  content: "\f23b";
}
.fa-optin-monster:before {
  content: "\f23c";
}
.fa-opencart:before {
  content: "\f23d";
}
.fa-expeditedssl:before {
  content: "\f23e";
}
.fa-battery-4:before,
.fa-battery:before,
.fa-battery-full:before {
  content: "\f240";
}
.fa-battery-3:before,
.fa-battery-three-quarters:before {
  content: "\f241";
}
.fa-battery-2:before,
.fa-battery-half:before {
  content: "\f242";
}
.fa-battery-1:before,
.fa-battery-quarter:before {
  content: "\f243";
}
.fa-battery-0:before,
.fa-battery-empty:before {
  content: "\f244";
}
.fa-mouse-pointer:before {
  content: "\f245";
}
.fa-i-cursor:before {
  content: "\f246";
}
.fa-object-group:before {
  content: "\f247";
}
.fa-object-ungroup:before {
  content: "\f248";
}
.fa-sticky-note:before {
  content: "\f249";
}
.fa-sticky-note-o:before {
  content: "\f24a";
}
.fa-cc-jcb:before {
  content: "\f24b";
}
.fa-cc-diners-club:before {
  content: "\f24c";
}
.fa-clone:before {
  content: "\f24d";
}
.fa-balance-scale:before {
  content: "\f24e";
}
.fa-hourglass-o:before {
  content: "\f250";
}
.fa-hourglass-1:before,
.fa-hourglass-start:before {
  content: "\f251";
}
.fa-hourglass-2:before,
.fa-hourglass-half:before {
  content: "\f252";
}
.fa-hourglass-3:before,
.fa-hourglass-end:before {
  content: "\f253";
}
.fa-hourglass:before {
  content: "\f254";
}
.fa-hand-grab-o:before,
.fa-hand-rock-o:before {
  content: "\f255";
}
.fa-hand-stop-o:before,
.fa-hand-paper-o:before {
  content: "\f256";
}
.fa-hand-scissors-o:before {
  content: "\f257";
}
.fa-hand-lizard-o:before {
  content: "\f258";
}
.fa-hand-spock-o:before {
  content: "\f259";
}
.fa-hand-pointer-o:before {
  content: "\f25a";
}
.fa-hand-peace-o:before {
  content: "\f25b";
}
.fa-trademark:before {
  content: "\f25c";
}
.fa-registered:before {
  content: "\f25d";
}
.fa-creative-commons:before {
  content: "\f25e";
}
.fa-gg:before {
  content: "\f260";
}
.fa-gg-circle:before {
  content: "\f261";
}
.fa-tripadvisor:before {
  content: "\f262";
}
.fa-odnoklassniki:before {
  content: "\f263";
}
.fa-odnoklassniki-square:before {
  content: "\f264";
}
.fa-get-pocket:before {
  content: "\f265";
}
.fa-wikipedia-w:before {
  content: "\f266";
}
.fa-safari:before {
  content: "\f267";
}
.fa-chrome:before {
  content: "\f268";
}
.fa-firefox:before {
  content: "\f269";
}
.fa-opera:before {
  content: "\f26a";
}
.fa-internet-explorer:before {
  content: "\f26b";
}
.fa-tv:before,
.fa-television:before {
  content: "\f26c";
}
.fa-contao:before {
  content: "\f26d";
}
.fa-500px:before {
  content: "\f26e";
}
.fa-amazon:before {
  content: "\f270";
}
.fa-calendar-plus-o:before {
  content: "\f271";
}
.fa-calendar-minus-o:before {
  content: "\f272";
}
.fa-calendar-times-o:before {
  content: "\f273";
}
.fa-calendar-check-o:before {
  content: "\f274";
}
.fa-industry:before {
  content: "\f275";
}
.fa-map-pin:before {
  content: "\f276";
}
.fa-map-signs:before {
  content: "\f277";
}
.fa-map-o:before {
  content: "\f278";
}
.fa-map:before {
  content: "\f279";
}
.fa-commenting:before {
  content: "\f27a";
}
.fa-commenting-o:before {
  content: "\f27b";
}
.fa-houzz:before {
  content: "\f27c";
}
.fa-vimeo:before {
  content: "\f27d";
}
.fa-black-tie:before {
  content: "\f27e";
}
.fa-fonticons:before {
  content: "\f280";
}
.fa-reddit-alien:before {
  content: "\f281";
}
.fa-edge:before {
  content: "\f282";
}
.fa-credit-card-alt:before {
  content: "\f283";
}
.fa-codiepie:before {
  content: "\f284";
}
.fa-modx:before {
  content: "\f285";
}
.fa-fort-awesome:before {
  content: "\f286";
}
.fa-usb:before {
  content: "\f287";
}
.fa-product-hunt:before {
  content: "\f288";
}
.fa-mixcloud:before {
  content: "\f289";
}
.fa-scribd:before {
  content: "\f28a";
}
.fa-pause-circle:before {
  content: "\f28b";
}
.fa-pause-circle-o:before {
  content: "\f28c";
}
.fa-stop-circle:before {
  content: "\f28d";
}
.fa-stop-circle-o:before {
  content: "\f28e";
}
.fa-shopping-bag:before {
  content: "\f290";
}
.fa-shopping-basket:before {
  content: "\f291";
}
.fa-hashtag:before {
  content: "\f292";
}
.fa-bluetooth:before {
  content: "\f293";
}
.fa-bluetooth-b:before {
  content: "\f294";
}
.fa-percent:before {
  content: "\f295";
}
.fa-gitlab:before {
  content: "\f296";
}
.fa-wpbeginner:before {
  content: "\f297";
}
.fa-wpforms:before {
  content: "\f298";
}
.fa-envira:before {
  content: "\f299";
}
.fa-universal-access:before {
  content: "\f29a";
}
.fa-wheelchair-alt:before {
  content: "\f29b";
}
.fa-question-circle-o:before {
  content: "\f29c";
}
.fa-blind:before {
  content: "\f29d";
}
.fa-audio-description:before {
  content: "\f29e";
}
.fa-volume-control-phone:before {
  content: "\f2a0";
}
.fa-braille:before {
  content: "\f2a1";
}
.fa-assistive-listening-systems:before {
  content: "\f2a2";
}
.fa-asl-interpreting:before,
.fa-american-sign-language-interpreting:before {
  content: "\f2a3";
}
.fa-deafness:before,
.fa-hard-of-hearing:before,
.fa-deaf:before {
  content: "\f2a4";
}
.fa-glide:before {
  content: "\f2a5";
}
.fa-glide-g:before {
  content: "\f2a6";
}
.fa-signing:before,
.fa-sign-language:before {
  content: "\f2a7";
}
.fa-low-vision:before {
  content: "\f2a8";
}
.fa-viadeo:before {
  content: "\f2a9";
}
.fa-viadeo-square:before {
  content: "\f2aa";
}
.fa-snapchat:before {
  content: "\f2ab";
}
.fa-snapchat-ghost:before {
  content: "\f2ac";
}
.fa-snapchat-square:before {
  content: "\f2ad";
}
.fa-pied-piper:before {
  content: "\f2ae";
}
.fa-first-order:before {
  content: "\f2b0";
}
.fa-yoast:before {
  content: "\f2b1";
}
.fa-themeisle:before {
  content: "\f2b2";
}
.fa-google-plus-circle:before,
.fa-google-plus-official:before {
  content: "\f2b3";
}
.fa-fa:before,
.fa-font-awesome:before {
  content: "\f2b4";
}
.fa-handshake-o:before {
  content: "\f2b5";
}
.fa-envelope-open:before {
  content: "\f2b6";
}
.fa-envelope-open-o:before {
  content: "\f2b7";
}
.fa-linode:before {
  content: "\f2b8";
}
.fa-address-book:before {
  content: "\f2b9";
}
.fa-address-book-o:before {
  content: "\f2ba";
}
.fa-vcard:before,
.fa-address-card:before {
  content: "\f2bb";
}
.fa-vcard-o:before,
.fa-address-card-o:before {
  content: "\f2bc";
}
.fa-user-circle:before {
  content: "\f2bd";
}
.fa-user-circle-o:before {
  content: "\f2be";
}
.fa-user-o:before {
  content: "\f2c0";
}
.fa-id-badge:before {
  content: "\f2c1";
}
.fa-drivers-license:before,
.fa-id-card:before {
  content: "\f2c2";
}
.fa-drivers-license-o:before,
.fa-id-card-o:before {
  content: "\f2c3";
}
.fa-quora:before {
  content: "\f2c4";
}
.fa-free-code-camp:before {
  content: "\f2c5";
}
.fa-telegram:before {
  content: "\f2c6";
}
.fa-thermometer-4:before,
.fa-thermometer:before,
.fa-thermometer-full:before {
  content: "\f2c7";
}
.fa-thermometer-3:before,
.fa-thermometer-three-quarters:before {
  content: "\f2c8";
}
.fa-thermometer-2:before,
.fa-thermometer-half:before {
  content: "\f2c9";
}
.fa-thermometer-1:before,
.fa-thermometer-quarter:before {
  content: "\f2ca";
}
.fa-thermometer-0:before,
.fa-thermometer-empty:before {
  content: "\f2cb";
}
.fa-shower:before {
  content: "\f2cc";
}
.fa-bathtub:before,
.fa-s15:before,
.fa-bath:before {
  content: "\f2cd";
}
.fa-podcast:before {
  content: "\f2ce";
}
.fa-window-maximize:before {
  content: "\f2d0";
}
.fa-window-minimize:before {
  content: "\f2d1";
}
.fa-window-restore:before {
  content: "\f2d2";
}
.fa-times-rectangle:before,
.fa-window-close:before {
  content: "\f2d3";
}
.fa-times-rectangle-o:before,
.fa-window-close-o:before {
  content: "\f2d4";
}
.fa-bandcamp:before {
  content: "\f2d5";
}
.fa-grav:before {
  content: "\f2d6";
}
.fa-etsy:before {
  content: "\f2d7";
}
.fa-imdb:before {
  content: "\f2d8";
}
.fa-ravelry:before {
  content: "\f2d9";
}
.fa-eercast:before {
  content: "\f2da";
}
.fa-microchip:before {
  content: "\f2db";
}
.fa-snowflake-o:before {
  content: "\f2dc";
}
.fa-superpowers:before {
  content: "\f2dd";
}
.fa-wpexplorer:before {
  content: "\f2de";
}
.fa-meetup:before {
  content: "\f2e0";
}
.sr-only {
  position: absolute;
  width: 1px;
  height: 1px;
  padding: 0;
  margin: -1px;
  overflow: hidden;
  clip: rect(0, 0, 0, 0);
  border: 0;
}
.sr-only-focusable:active,
.sr-only-focusable:focus {
  position: static;
  width: auto;
  height: auto;
  margin: 0;
  overflow: visible;
  clip: auto;
}
.sr-only-focusable:active,
.sr-only-focusable:focus {
  position: static;
  width: auto;
  height: auto;
  margin: 0;
  overflow: visible;
  clip: auto;
}
/*!
*
* IPython base
*
*/
.modal.fade .modal-dialog {
  -webkit-transform: translate(0, 0);
  -ms-transform: translate(0, 0);
  -o-transform: translate(0, 0);
  transform: translate(0, 0);
}
code {
  color: #000;
}
pre {
  font-size: inherit;
  line-height: inherit;
}
label {
  font-weight: normal;
}
/* Make the page background atleast 100% the height of the view port */
/* Make the page itself atleast 70% the height of the view port */
.border-box-sizing {
  box-sizing: border-box;
  -moz-box-sizing: border-box;
  -webkit-box-sizing: border-box;
}
.corner-all {
  border-radius: 2px;
}
.no-padding {
  padding: 0px;
}
/* Flexible box model classes */
/* Taken from Alex Russell http://infrequently.org/2009/08/css-3-progress/ */
/* This file is a compatability layer.  It allows the usage of flexible box 
model layouts accross multiple browsers, including older browsers.  The newest,
universal implementation of the flexible box model is used when available (see
`Modern browsers` comments below).  Browsers that are known to implement this 
new spec completely include:

    Firefox 28.0+
    Chrome 29.0+
    Internet Explorer 11+ 
    Opera 17.0+

Browsers not listed, including Safari, are supported via the styling under the
`Old browsers` comments below.
*/
.hbox {
  /* Old browsers */
  display: -webkit-box;
  -webkit-box-orient: horizontal;
  -webkit-box-align: stretch;
  display: -moz-box;
  -moz-box-orient: horizontal;
  -moz-box-align: stretch;
  display: box;
  box-orient: horizontal;
  box-align: stretch;
  /* Modern browsers */
  display: flex;
  flex-direction: row;
  align-items: stretch;
}
.hbox > * {
  /* Old browsers */
  -webkit-box-flex: 0;
  -moz-box-flex: 0;
  box-flex: 0;
  /* Modern browsers */
  flex: none;
}
.vbox {
  /* Old browsers */
  display: -webkit-box;
  -webkit-box-orient: vertical;
  -webkit-box-align: stretch;
  display: -moz-box;
  -moz-box-orient: vertical;
  -moz-box-align: stretch;
  display: box;
  box-orient: vertical;
  box-align: stretch;
  /* Modern browsers */
  display: flex;
  flex-direction: column;
  align-items: stretch;
}
.vbox > * {
  /* Old browsers */
  -webkit-box-flex: 0;
  -moz-box-flex: 0;
  box-flex: 0;
  /* Modern browsers */
  flex: none;
}
.hbox.reverse,
.vbox.reverse,
.reverse {
  /* Old browsers */
  -webkit-box-direction: reverse;
  -moz-box-direction: reverse;
  box-direction: reverse;
  /* Modern browsers */
  flex-direction: row-reverse;
}
.hbox.box-flex0,
.vbox.box-flex0,
.box-flex0 {
  /* Old browsers */
  -webkit-box-flex: 0;
  -moz-box-flex: 0;
  box-flex: 0;
  /* Modern browsers */
  flex: none;
  width: auto;
}
.hbox.box-flex1,
.vbox.box-flex1,
.box-flex1 {
  /* Old browsers */
  -webkit-box-flex: 1;
  -moz-box-flex: 1;
  box-flex: 1;
  /* Modern browsers */
  flex: 1;
}
.hbox.box-flex,
.vbox.box-flex,
.box-flex {
  /* Old browsers */
  /* Old browsers */
  -webkit-box-flex: 1;
  -moz-box-flex: 1;
  box-flex: 1;
  /* Modern browsers */
  flex: 1;
}
.hbox.box-flex2,
.vbox.box-flex2,
.box-flex2 {
  /* Old browsers */
  -webkit-box-flex: 2;
  -moz-box-flex: 2;
  box-flex: 2;
  /* Modern browsers */
  flex: 2;
}
.box-group1 {
  /*  Deprecated */
  -webkit-box-flex-group: 1;
  -moz-box-flex-group: 1;
  box-flex-group: 1;
}
.box-group2 {
  /* Deprecated */
  -webkit-box-flex-group: 2;
  -moz-box-flex-group: 2;
  box-flex-group: 2;
}
.hbox.start,
.vbox.start,
.start {
  /* Old browsers */
  -webkit-box-pack: start;
  -moz-box-pack: start;
  box-pack: start;
  /* Modern browsers */
  justify-content: flex-start;
}
.hbox.end,
.vbox.end,
.end {
  /* Old browsers */
  -webkit-box-pack: end;
  -moz-box-pack: end;
  box-pack: end;
  /* Modern browsers */
  justify-content: flex-end;
}
.hbox.center,
.vbox.center,
.center {
  /* Old browsers */
  -webkit-box-pack: center;
  -moz-box-pack: center;
  box-pack: center;
  /* Modern browsers */
  justify-content: center;
}
.hbox.baseline,
.vbox.baseline,
.baseline {
  /* Old browsers */
  -webkit-box-pack: baseline;
  -moz-box-pack: baseline;
  box-pack: baseline;
  /* Modern browsers */
  justify-content: baseline;
}
.hbox.stretch,
.vbox.stretch,
.stretch {
  /* Old browsers */
  -webkit-box-pack: stretch;
  -moz-box-pack: stretch;
  box-pack: stretch;
  /* Modern browsers */
  justify-content: stretch;
}
.hbox.align-start,
.vbox.align-start,
.align-start {
  /* Old browsers */
  -webkit-box-align: start;
  -moz-box-align: start;
  box-align: start;
  /* Modern browsers */
  align-items: flex-start;
}
.hbox.align-end,
.vbox.align-end,
.align-end {
  /* Old browsers */
  -webkit-box-align: end;
  -moz-box-align: end;
  box-align: end;
  /* Modern browsers */
  align-items: flex-end;
}
.hbox.align-center,
.vbox.align-center,
.align-center {
  /* Old browsers */
  -webkit-box-align: center;
  -moz-box-align: center;
  box-align: center;
  /* Modern browsers */
  align-items: center;
}
.hbox.align-baseline,
.vbox.align-baseline,
.align-baseline {
  /* Old browsers */
  -webkit-box-align: baseline;
  -moz-box-align: baseline;
  box-align: baseline;
  /* Modern browsers */
  align-items: baseline;
}
.hbox.align-stretch,
.vbox.align-stretch,
.align-stretch {
  /* Old browsers */
  -webkit-box-align: stretch;
  -moz-box-align: stretch;
  box-align: stretch;
  /* Modern browsers */
  align-items: stretch;
}
div.error {
  margin: 2em;
  text-align: center;
}
div.error > h1 {
  font-size: 500%;
  line-height: normal;
}
div.error > p {
  font-size: 200%;
  line-height: normal;
}
div.traceback-wrapper {
  text-align: left;
  max-width: 800px;
  margin: auto;
}
div.traceback-wrapper pre.traceback {
  max-height: 600px;
  overflow: auto;
}
/**
 * Primary styles
 *
 * Author: Jupyter Development Team
 */
body {
  background-color: #fff;
  /* This makes sure that the body covers the entire window and needs to
       be in a different element than the display: box in wrapper below */
  position: absolute;
  left: 0px;
  right: 0px;
  top: 0px;
  bottom: 0px;
  overflow: visible;
}
body > #header {
  /* Initially hidden to prevent FLOUC */
  display: none;
  background-color: #fff;
  /* Display over codemirror */
  position: relative;
  z-index: 100;
}
body > #header #header-container {
  display: flex;
  flex-direction: row;
  justify-content: space-between;
  padding: 5px;
  padding-bottom: 5px;
  padding-top: 5px;
  box-sizing: border-box;
  -moz-box-sizing: border-box;
  -webkit-box-sizing: border-box;
}
body > #header .header-bar {
  width: 100%;
  height: 1px;
  background: #e7e7e7;
  margin-bottom: -1px;
}
@media print {
  body > #header {
    display: none !important;
  }
}
#header-spacer {
  width: 100%;
  visibility: hidden;
}
@media print {
  #header-spacer {
    display: none;
  }
}
#ipython_notebook {
  padding-left: 0px;
  padding-top: 1px;
  padding-bottom: 1px;
}
[dir="rtl"] #ipython_notebook {
  margin-right: 10px;
  margin-left: 0;
}
[dir="rtl"] #ipython_notebook.pull-left {
  float: right !important;
  float: right;
}
.flex-spacer {
  flex: 1;
}
#noscript {
  width: auto;
  padding-top: 16px;
  padding-bottom: 16px;
  text-align: center;
  font-size: 22px;
  color: red;
  font-weight: bold;
}
#ipython_notebook img {
  height: 28px;
}
#site {
  width: 100%;
  display: none;
  box-sizing: border-box;
  -moz-box-sizing: border-box;
  -webkit-box-sizing: border-box;
  overflow: auto;
}
@media print {
  #site {
    height: auto !important;
  }
}
/* Smaller buttons */
.ui-button .ui-button-text {
  padding: 0.2em 0.8em;
  font-size: 77%;
}
input.ui-button {
  padding: 0.3em 0.9em;
}
span#kernel_logo_widget {
  margin: 0 10px;
}
span#login_widget {
  float: right;
}
[dir="rtl"] span#login_widget {
  float: left;
}
span#login_widget > .button,
#logout {
  color: #333;
  background-color: #fff;
  border-color: #ccc;
}
span#login_widget > .button:focus,
#logout:focus,
span#login_widget > .button.focus,
#logout.focus {
  color: #333;
  background-color: #e6e6e6;
  border-color: #8c8c8c;
}
span#login_widget > .button:hover,
#logout:hover {
  color: #333;
  background-color: #e6e6e6;
  border-color: #adadad;
}
span#login_widget > .button:active,
#logout:active,
span#login_widget > .button.active,
#logout.active,
.open > .dropdown-togglespan#login_widget > .button,
.open > .dropdown-toggle#logout {
  color: #333;
  background-color: #e6e6e6;
  border-color: #adadad;
}
span#login_widget > .button:active:hover,
#logout:active:hover,
span#login_widget > .button.active:hover,
#logout.active:hover,
.open > .dropdown-togglespan#login_widget > .button:hover,
.open > .dropdown-toggle#logout:hover,
span#login_widget > .button:active:focus,
#logout:active:focus,
span#login_widget > .button.active:focus,
#logout.active:focus,
.open > .dropdown-togglespan#login_widget > .button:focus,
.open > .dropdown-toggle#logout:focus,
span#login_widget > .button:active.focus,
#logout:active.focus,
span#login_widget > .button.active.focus,
#logout.active.focus,
.open > .dropdown-togglespan#login_widget > .button.focus,
.open > .dropdown-toggle#logout.focus {
  color: #333;
  background-color: #d4d4d4;
  border-color: #8c8c8c;
}
span#login_widget > .button:active,
#logout:active,
span#login_widget > .button.active,
#logout.active,
.open > .dropdown-togglespan#login_widget > .button,
.open > .dropdown-toggle#logout {
  background-image: none;
}
span#login_widget > .button.disabled:hover,
#logout.disabled:hover,
span#login_widget > .button[disabled]:hover,
#logout[disabled]:hover,
fieldset[disabled] span#login_widget > .button:hover,
fieldset[disabled] #logout:hover,
span#login_widget > .button.disabled:focus,
#logout.disabled:focus,
span#login_widget > .button[disabled]:focus,
#logout[disabled]:focus,
fieldset[disabled] span#login_widget > .button:focus,
fieldset[disabled] #logout:focus,
span#login_widget > .button.disabled.focus,
#logout.disabled.focus,
span#login_widget > .button[disabled].focus,
#logout[disabled].focus,
fieldset[disabled] span#login_widget > .button.focus,
fieldset[disabled] #logout.focus {
  background-color: #fff;
  border-color: #ccc;
}
span#login_widget > .button .badge,
#logout .badge {
  color: #fff;
  background-color: #333;
}
.nav-header {
  text-transform: none;
}
#header > span {
  margin-top: 10px;
}
.modal_stretch .modal-dialog {
  /* Old browsers */
  display: -webkit-box;
  -webkit-box-orient: vertical;
  -webkit-box-align: stretch;
  display: -moz-box;
  -moz-box-orient: vertical;
  -moz-box-align: stretch;
  display: box;
  box-orient: vertical;
  box-align: stretch;
  /* Modern browsers */
  display: flex;
  flex-direction: column;
  align-items: stretch;
  min-height: 80vh;
}
.modal_stretch .modal-dialog .modal-body {
  max-height: calc(100vh - 200px);
  overflow: auto;
  flex: 1;
}
.modal-header {
  cursor: move;
}
@media (min-width: 768px) {
  .modal .modal-dialog {
    width: 700px;
  }
}
@media (min-width: 768px) {
  select.form-control {
    margin-left: 12px;
    margin-right: 12px;
  }
}
/*!
*
* IPython auth
*
*/
.center-nav {
  display: inline-block;
  margin-bottom: -4px;
}
[dir="rtl"] .center-nav form.pull-left {
  float: right !important;
  float: right;
}
[dir="rtl"] .center-nav .navbar-text {
  float: right;
}
[dir="rtl"] .navbar-inner {
  text-align: right;
}
[dir="rtl"] div.text-left {
  text-align: right;
}
/*!
*
* IPython tree view
*
*/
/* We need an invisible input field on top of the sentense*/
/* "Drag file onto the list ..." */
.alternate_upload {
  background-color: none;
  display: inline;
}
.alternate_upload.form {
  padding: 0;
  margin: 0;
}
.alternate_upload input.fileinput {
  position: absolute;
  display: block;
  width: 100%;
  height: 100%;
  overflow: hidden;
  cursor: pointer;
  opacity: 0;
  z-index: 2;
}
.alternate_upload .btn-xs > input.fileinput {
  margin: -1px -5px;
}
.alternate_upload .btn-upload {
  position: relative;
  height: 22px;
}
::-webkit-file-upload-button {
  cursor: pointer;
}
/**
 * Primary styles
 *
 * Author: Jupyter Development Team
 */
ul#tabs {
  margin-bottom: 4px;
}
ul#tabs a {
  padding-top: 6px;
  padding-bottom: 4px;
}
[dir="rtl"] ul#tabs.nav-tabs > li {
  float: right;
}
[dir="rtl"] ul#tabs.nav.nav-tabs {
  padding-right: 0;
}
ul.breadcrumb a:focus,
ul.breadcrumb a:hover {
  text-decoration: none;
}
ul.breadcrumb i.icon-home {
  font-size: 16px;
  margin-right: 4px;
}
ul.breadcrumb span {
  color: #5e5e5e;
}
.list_toolbar {
  padding: 4px 0 4px 0;
  vertical-align: middle;
}
.list_toolbar .tree-buttons {
  padding-top: 1px;
}
[dir="rtl"] .list_toolbar .tree-buttons .pull-right {
  float: left !important;
  float: left;
}
[dir="rtl"] .list_toolbar .col-sm-4,
[dir="rtl"] .list_toolbar .col-sm-8 {
  float: right;
}
.dynamic-buttons {
  padding-top: 3px;
  display: inline-block;
}
.list_toolbar [class*="span"] {
  min-height: 24px;
}
.list_header {
  font-weight: bold;
  background-color: #EEE;
}
.list_placeholder {
  font-weight: bold;
  padding-top: 4px;
  padding-bottom: 4px;
  padding-left: 7px;
  padding-right: 7px;
}
.list_container {
  margin-top: 4px;
  margin-bottom: 20px;
  border: 1px solid #ddd;
  border-radius: 2px;
}
.list_container > div {
  border-bottom: 1px solid #ddd;
}
.list_container > div:hover .list-item {
  background-color: red;
}
.list_container > div:last-child {
  border: none;
}
.list_item:hover .list_item {
  background-color: #ddd;
}
.list_item a {
  text-decoration: none;
}
.list_item:hover {
  background-color: #fafafa;
}
.list_header > div,
.list_item > div {
  padding-top: 4px;
  padding-bottom: 4px;
  padding-left: 7px;
  padding-right: 7px;
  line-height: 22px;
}
.list_header > div input,
.list_item > div input {
  margin-right: 7px;
  margin-left: 14px;
  vertical-align: text-bottom;
  line-height: 22px;
  position: relative;
  top: -1px;
}
.list_header > div .item_link,
.list_item > div .item_link {
  margin-left: -1px;
  vertical-align: baseline;
  line-height: 22px;
}
[dir="rtl"] .list_item > div input {
  margin-right: 0;
}
.new-file input[type=checkbox] {
  visibility: hidden;
}
.item_name {
  line-height: 22px;
  height: 24px;
}
.item_icon {
  font-size: 14px;
  color: #5e5e5e;
  margin-right: 7px;
  margin-left: 7px;
  line-height: 22px;
  vertical-align: baseline;
}
.item_modified {
  margin-right: 7px;
  margin-left: 7px;
}
[dir="rtl"] .item_modified.pull-right {
  float: left !important;
  float: left;
}
.item_buttons {
  line-height: 1em;
  margin-left: -5px;
}
.item_buttons .btn,
.item_buttons .btn-group,
.item_buttons .input-group {
  float: left;
}
.item_buttons > .btn,
.item_buttons > .btn-group,
.item_buttons > .input-group {
  margin-left: 5px;
}
.item_buttons .btn {
  min-width: 13ex;
}
.item_buttons .running-indicator {
  padding-top: 4px;
  color: #5cb85c;
}
.item_buttons .kernel-name {
  padding-top: 4px;
  color: #5bc0de;
  margin-right: 7px;
  float: left;
}
[dir="rtl"] .item_buttons.pull-right {
  float: left !important;
  float: left;
}
[dir="rtl"] .item_buttons .kernel-name {
  margin-left: 7px;
  float: right;
}
.toolbar_info {
  height: 24px;
  line-height: 24px;
}
.list_item input:not([type=checkbox]) {
  padding-top: 3px;
  padding-bottom: 3px;
  height: 22px;
  line-height: 14px;
  margin: 0px;
}
.highlight_text {
  color: blue;
}
#project_name {
  display: inline-block;
  padding-left: 7px;
  margin-left: -2px;
}
#project_name > .breadcrumb {
  padding: 0px;
  margin-bottom: 0px;
  background-color: transparent;
  font-weight: bold;
}
.sort_button {
  display: inline-block;
  padding-left: 7px;
}
[dir="rtl"] .sort_button.pull-right {
  float: left !important;
  float: left;
}
#tree-selector {
  padding-right: 0px;
}
#button-select-all {
  min-width: 50px;
}
[dir="rtl"] #button-select-all.btn {
  float: right ;
}
#select-all {
  margin-left: 7px;
  margin-right: 2px;
  margin-top: 2px;
  height: 16px;
}
[dir="rtl"] #select-all.pull-left {
  float: right !important;
  float: right;
}
.menu_icon {
  margin-right: 2px;
}
.tab-content .row {
  margin-left: 0px;
  margin-right: 0px;
}
.folder_icon:before {
  display: inline-block;
  font: normal normal normal 14px/1 FontAwesome;
  font-size: inherit;
  text-rendering: auto;
  -webkit-font-smoothing: antialiased;
  -moz-osx-font-smoothing: grayscale;
  content: "\f114";
}
.folder_icon:before.fa-pull-left {
  margin-right: .3em;
}
.folder_icon:before.fa-pull-right {
  margin-left: .3em;
}
.folder_icon:before.pull-left {
  margin-right: .3em;
}
.folder_icon:before.pull-right {
  margin-left: .3em;
}
.notebook_icon:before {
  display: inline-block;
  font: normal normal normal 14px/1 FontAwesome;
  font-size: inherit;
  text-rendering: auto;
  -webkit-font-smoothing: antialiased;
  -moz-osx-font-smoothing: grayscale;
  content: "\f02d";
  position: relative;
  top: -1px;
}
.notebook_icon:before.fa-pull-left {
  margin-right: .3em;
}
.notebook_icon:before.fa-pull-right {
  margin-left: .3em;
}
.notebook_icon:before.pull-left {
  margin-right: .3em;
}
.notebook_icon:before.pull-right {
  margin-left: .3em;
}
.running_notebook_icon:before {
  display: inline-block;
  font: normal normal normal 14px/1 FontAwesome;
  font-size: inherit;
  text-rendering: auto;
  -webkit-font-smoothing: antialiased;
  -moz-osx-font-smoothing: grayscale;
  content: "\f02d";
  position: relative;
  top: -1px;
  color: #5cb85c;
}
.running_notebook_icon:before.fa-pull-left {
  margin-right: .3em;
}
.running_notebook_icon:before.fa-pull-right {
  margin-left: .3em;
}
.running_notebook_icon:before.pull-left {
  margin-right: .3em;
}
.running_notebook_icon:before.pull-right {
  margin-left: .3em;
}
.file_icon:before {
  display: inline-block;
  font: normal normal normal 14px/1 FontAwesome;
  font-size: inherit;
  text-rendering: auto;
  -webkit-font-smoothing: antialiased;
  -moz-osx-font-smoothing: grayscale;
  content: "\f016";
  position: relative;
  top: -2px;
}
.file_icon:before.fa-pull-left {
  margin-right: .3em;
}
.file_icon:before.fa-pull-right {
  margin-left: .3em;
}
.file_icon:before.pull-left {
  margin-right: .3em;
}
.file_icon:before.pull-right {
  margin-left: .3em;
}
#notebook_toolbar .pull-right {
  padding-top: 0px;
  margin-right: -1px;
}
ul#new-menu {
  left: auto;
  right: 0;
}
#new-menu .dropdown-header {
  font-size: 10px;
  border-bottom: 1px solid #e5e5e5;
  padding: 0 0 3px;
  margin: -3px 20px 0;
}
.kernel-menu-icon {
  padding-right: 12px;
  width: 24px;
  content: "\f096";
}
.kernel-menu-icon:before {
  content: "\f096";
}
.kernel-menu-icon-current:before {
  content: "\f00c";
}
#tab_content {
  padding-top: 20px;
}
#running .panel-group .panel {
  margin-top: 3px;
  margin-bottom: 1em;
}
#running .panel-group .panel .panel-heading {
  background-color: #EEE;
  padding-top: 4px;
  padding-bottom: 4px;
  padding-left: 7px;
  padding-right: 7px;
  line-height: 22px;
}
#running .panel-group .panel .panel-heading a:focus,
#running .panel-group .panel .panel-heading a:hover {
  text-decoration: none;
}
#running .panel-group .panel .panel-body {
  padding: 0px;
}
#running .panel-group .panel .panel-body .list_container {
  margin-top: 0px;
  margin-bottom: 0px;
  border: 0px;
  border-radius: 0px;
}
#running .panel-group .panel .panel-body .list_container .list_item {
  border-bottom: 1px solid #ddd;
}
#running .panel-group .panel .panel-body .list_container .list_item:last-child {
  border-bottom: 0px;
}
.delete-button {
  display: none;
}
.duplicate-button {
  display: none;
}
.rename-button {
  display: none;
}
.move-button {
  display: none;
}
.download-button {
  display: none;
}
.shutdown-button {
  display: none;
}
.dynamic-instructions {
  display: inline-block;
  padding-top: 4px;
}
/*!
*
* IPython text editor webapp
*
*/
.selected-keymap i.fa {
  padding: 0px 5px;
}
.selected-keymap i.fa:before {
  content: "\f00c";
}
#mode-menu {
  overflow: auto;
  max-height: 20em;
}
.edit_app #header {
  -webkit-box-shadow: 0px 0px 12px 1px rgba(87, 87, 87, 0.2);
  box-shadow: 0px 0px 12px 1px rgba(87, 87, 87, 0.2);
}
.edit_app #menubar .navbar {
  /* Use a negative 1 bottom margin, so the border overlaps the border of the
    header */
  margin-bottom: -1px;
}
.dirty-indicator {
  display: inline-block;
  font: normal normal normal 14px/1 FontAwesome;
  font-size: inherit;
  text-rendering: auto;
  -webkit-font-smoothing: antialiased;
  -moz-osx-font-smoothing: grayscale;
  width: 20px;
}
.dirty-indicator.fa-pull-left {
  margin-right: .3em;
}
.dirty-indicator.fa-pull-right {
  margin-left: .3em;
}
.dirty-indicator.pull-left {
  margin-right: .3em;
}
.dirty-indicator.pull-right {
  margin-left: .3em;
}
.dirty-indicator-dirty {
  display: inline-block;
  font: normal normal normal 14px/1 FontAwesome;
  font-size: inherit;
  text-rendering: auto;
  -webkit-font-smoothing: antialiased;
  -moz-osx-font-smoothing: grayscale;
  width: 20px;
}
.dirty-indicator-dirty.fa-pull-left {
  margin-right: .3em;
}
.dirty-indicator-dirty.fa-pull-right {
  margin-left: .3em;
}
.dirty-indicator-dirty.pull-left {
  margin-right: .3em;
}
.dirty-indicator-dirty.pull-right {
  margin-left: .3em;
}
.dirty-indicator-clean {
  display: inline-block;
  font: normal normal normal 14px/1 FontAwesome;
  font-size: inherit;
  text-rendering: auto;
  -webkit-font-smoothing: antialiased;
  -moz-osx-font-smoothing: grayscale;
  width: 20px;
}
.dirty-indicator-clean.fa-pull-left {
  margin-right: .3em;
}
.dirty-indicator-clean.fa-pull-right {
  margin-left: .3em;
}
.dirty-indicator-clean.pull-left {
  margin-right: .3em;
}
.dirty-indicator-clean.pull-right {
  margin-left: .3em;
}
.dirty-indicator-clean:before {
  display: inline-block;
  font: normal normal normal 14px/1 FontAwesome;
  font-size: inherit;
  text-rendering: auto;
  -webkit-font-smoothing: antialiased;
  -moz-osx-font-smoothing: grayscale;
  content: "\f00c";
}
.dirty-indicator-clean:before.fa-pull-left {
  margin-right: .3em;
}
.dirty-indicator-clean:before.fa-pull-right {
  margin-left: .3em;
}
.dirty-indicator-clean:before.pull-left {
  margin-right: .3em;
}
.dirty-indicator-clean:before.pull-right {
  margin-left: .3em;
}
#filename {
  font-size: 16pt;
  display: table;
  padding: 0px 5px;
}
#current-mode {
  padding-left: 5px;
  padding-right: 5px;
}
#texteditor-backdrop {
  padding-top: 20px;
  padding-bottom: 20px;
}
@media not print {
  #texteditor-backdrop {
    background-color: #EEE;
  }
}
@media print {
  #texteditor-backdrop #texteditor-container .CodeMirror-gutter,
  #texteditor-backdrop #texteditor-container .CodeMirror-gutters {
    background-color: #fff;
  }
}
@media not print {
  #texteditor-backdrop #texteditor-container .CodeMirror-gutter,
  #texteditor-backdrop #texteditor-container .CodeMirror-gutters {
    background-color: #fff;
  }
}
@media not print {
  #texteditor-backdrop #texteditor-container {
    padding: 0px;
    background-color: #fff;
    -webkit-box-shadow: 0px 0px 12px 1px rgba(87, 87, 87, 0.2);
    box-shadow: 0px 0px 12px 1px rgba(87, 87, 87, 0.2);
  }
}
.CodeMirror-dialog {
  background-color: #fff;
}
/*!
*
* IPython notebook
*
*/
/* CSS font colors for translated ANSI escape sequences */
/* The color values are a mix of
   http://www.xcolors.net/dl/baskerville-ivorylight and
   http://www.xcolors.net/dl/euphrasia */
.ansi-black-fg {
  color: #3E424D;
}
.ansi-black-bg {
  background-color: #3E424D;
}
.ansi-black-intense-fg {
  color: #282C36;
}
.ansi-black-intense-bg {
  background-color: #282C36;
}
.ansi-red-fg {
  color: #E75C58;
}
.ansi-red-bg {
  background-color: #E75C58;
}
.ansi-red-intense-fg {
  color: #B22B31;
}
.ansi-red-intense-bg {
  background-color: #B22B31;
}
.ansi-green-fg {
  color: #00A250;
}
.ansi-green-bg {
  background-color: #00A250;
}
.ansi-green-intense-fg {
  color: #007427;
}
.ansi-green-intense-bg {
  background-color: #007427;
}
.ansi-yellow-fg {
  color: #DDB62B;
}
.ansi-yellow-bg {
  background-color: #DDB62B;
}
.ansi-yellow-intense-fg {
  color: #B27D12;
}
.ansi-yellow-intense-bg {
  background-color: #B27D12;
}
.ansi-blue-fg {
  color: #208FFB;
}
.ansi-blue-bg {
  background-color: #208FFB;
}
.ansi-blue-intense-fg {
  color: #0065CA;
}
.ansi-blue-intense-bg {
  background-color: #0065CA;
}
.ansi-magenta-fg {
  color: #D160C4;
}
.ansi-magenta-bg {
  background-color: #D160C4;
}
.ansi-magenta-intense-fg {
  color: #A03196;
}
.ansi-magenta-intense-bg {
  background-color: #A03196;
}
.ansi-cyan-fg {
  color: #60C6C8;
}
.ansi-cyan-bg {
  background-color: #60C6C8;
}
.ansi-cyan-intense-fg {
  color: #258F8F;
}
.ansi-cyan-intense-bg {
  background-color: #258F8F;
}
.ansi-white-fg {
  color: #C5C1B4;
}
.ansi-white-bg {
  background-color: #C5C1B4;
}
.ansi-white-intense-fg {
  color: #A1A6B2;
}
.ansi-white-intense-bg {
  background-color: #A1A6B2;
}
.ansi-default-inverse-fg {
  color: #FFFFFF;
}
.ansi-default-inverse-bg {
  background-color: #000000;
}
.ansi-bold {
  font-weight: bold;
}
.ansi-underline {
  text-decoration: underline;
}
/* The following styles are deprecated an will be removed in a future version */
.ansibold {
  font-weight: bold;
}
.ansi-inverse {
  outline: 0.5px dotted;
}
/* use dark versions for foreground, to improve visibility */
.ansiblack {
  color: black;
}
.ansired {
  color: darkred;
}
.ansigreen {
  color: darkgreen;
}
.ansiyellow {
  color: #c4a000;
}
.ansiblue {
  color: darkblue;
}
.ansipurple {
  color: darkviolet;
}
.ansicyan {
  color: steelblue;
}
.ansigray {
  color: gray;
}
/* and light for background, for the same reason */
.ansibgblack {
  background-color: black;
}
.ansibgred {
  background-color: red;
}
.ansibggreen {
  background-color: green;
}
.ansibgyellow {
  background-color: yellow;
}
.ansibgblue {
  background-color: blue;
}
.ansibgpurple {
  background-color: magenta;
}
.ansibgcyan {
  background-color: cyan;
}
.ansibggray {
  background-color: gray;
}
div.cell {
  /* Old browsers */
  display: -webkit-box;
  -webkit-box-orient: vertical;
  -webkit-box-align: stretch;
  display: -moz-box;
  -moz-box-orient: vertical;
  -moz-box-align: stretch;
  display: box;
  box-orient: vertical;
  box-align: stretch;
  /* Modern browsers */
  display: flex;
  flex-direction: column;
  align-items: stretch;
  border-radius: 2px;
  box-sizing: border-box;
  -moz-box-sizing: border-box;
  -webkit-box-sizing: border-box;
  border-width: 1px;
  border-style: solid;
  border-color: transparent;
  width: 100%;
  padding: 5px;
  /* This acts as a spacer between cells, that is outside the border */
  margin: 0px;
  outline: none;
  position: relative;
  overflow: visible;
}
div.cell:before {
  position: absolute;
  display: block;
  top: -1px;
  left: -1px;
  width: 5px;
  height: calc(100% +  2px);
  content: '';
  background: transparent;
}
div.cell.jupyter-soft-selected {
  border-left-color: #E3F2FD;
  border-left-width: 1px;
  padding-left: 5px;
  border-right-color: #E3F2FD;
  border-right-width: 1px;
  background: #E3F2FD;
}
@media print {
  div.cell.jupyter-soft-selected {
    border-color: transparent;
  }
}
div.cell.selected,
div.cell.selected.jupyter-soft-selected {
  border-color: #ababab;
}
div.cell.selected:before,
div.cell.selected.jupyter-soft-selected:before {
  position: absolute;
  display: block;
  top: -1px;
  left: -1px;
  width: 5px;
  height: calc(100% +  2px);
  content: '';
  background: #42A5F5;
}
@media print {
  div.cell.selected,
  div.cell.selected.jupyter-soft-selected {
    border-color: transparent;
  }
}
.edit_mode div.cell.selected {
  border-color: #66BB6A;
}
.edit_mode div.cell.selected:before {
  position: absolute;
  display: block;
  top: -1px;
  left: -1px;
  width: 5px;
  height: calc(100% +  2px);
  content: '';
  background: #66BB6A;
}
@media print {
  .edit_mode div.cell.selected {
    border-color: transparent;
  }
}
.prompt {
  /* This needs to be wide enough for 3 digit prompt numbers: In[100]: */
  min-width: 14ex;
  /* This padding is tuned to match the padding on the CodeMirror editor. */
  padding: 0.4em;
  margin: 0px;
  font-family: monospace;
  text-align: right;
  /* This has to match that of the the CodeMirror class line-height below */
  line-height: 1.21429em;
  /* Don't highlight prompt number selection */
  -webkit-touch-callout: none;
  -webkit-user-select: none;
  -khtml-user-select: none;
  -moz-user-select: none;
  -ms-user-select: none;
  user-select: none;
  /* Use default cursor */
  cursor: default;
}
@media (max-width: 540px) {
  .prompt {
    text-align: left;
  }
}
div.inner_cell {
  min-width: 0;
  /* Old browsers */
  display: -webkit-box;
  -webkit-box-orient: vertical;
  -webkit-box-align: stretch;
  display: -moz-box;
  -moz-box-orient: vertical;
  -moz-box-align: stretch;
  display: box;
  box-orient: vertical;
  box-align: stretch;
  /* Modern browsers */
  display: flex;
  flex-direction: column;
  align-items: stretch;
  /* Old browsers */
  -webkit-box-flex: 1;
  -moz-box-flex: 1;
  box-flex: 1;
  /* Modern browsers */
  flex: 1;
}
/* input_area and input_prompt must match in top border and margin for alignment */
div.input_area {
  border: 1px solid #cfcfcf;
  border-radius: 2px;
  background: #f7f7f7;
  line-height: 1.21429em;
}
/* This is needed so that empty prompt areas can collapse to zero height when there
   is no content in the output_subarea and the prompt. The main purpose of this is
   to make sure that empty JavaScript output_subareas have no height. */
div.prompt:empty {
  padding-top: 0;
  padding-bottom: 0;
}
div.unrecognized_cell {
  padding: 5px 5px 5px 0px;
  /* Old browsers */
  display: -webkit-box;
  -webkit-box-orient: horizontal;
  -webkit-box-align: stretch;
  display: -moz-box;
  -moz-box-orient: horizontal;
  -moz-box-align: stretch;
  display: box;
  box-orient: horizontal;
  box-align: stretch;
  /* Modern browsers */
  display: flex;
  flex-direction: row;
  align-items: stretch;
}
div.unrecognized_cell .inner_cell {
  border-radius: 2px;
  padding: 5px;
  font-weight: bold;
  color: red;
  border: 1px solid #cfcfcf;
  background: #eaeaea;
}
div.unrecognized_cell .inner_cell a {
  color: inherit;
  text-decoration: none;
}
div.unrecognized_cell .inner_cell a:hover {
  color: inherit;
  text-decoration: none;
}
@media (max-width: 540px) {
  div.unrecognized_cell > div.prompt {
    display: none;
  }
}
div.code_cell {
  /* avoid page breaking on code cells when printing */
}
@media print {
  div.code_cell {
    page-break-inside: avoid;
  }
}
/* any special styling for code cells that are currently running goes here */
div.input {
  page-break-inside: avoid;
  /* Old browsers */
  display: -webkit-box;
  -webkit-box-orient: horizontal;
  -webkit-box-align: stretch;
  display: -moz-box;
  -moz-box-orient: horizontal;
  -moz-box-align: stretch;
  display: box;
  box-orient: horizontal;
  box-align: stretch;
  /* Modern browsers */
  display: flex;
  flex-direction: row;
  align-items: stretch;
}
@media (max-width: 540px) {
  div.input {
    /* Old browsers */
    display: -webkit-box;
    -webkit-box-orient: vertical;
    -webkit-box-align: stretch;
    display: -moz-box;
    -moz-box-orient: vertical;
    -moz-box-align: stretch;
    display: box;
    box-orient: vertical;
    box-align: stretch;
    /* Modern browsers */
    display: flex;
    flex-direction: column;
    align-items: stretch;
  }
}
/* input_area and input_prompt must match in top border and margin for alignment */
div.input_prompt {
  color: #303F9F;
  border-top: 1px solid transparent;
}
div.input_area > div.highlight {
  margin: 0.4em;
  border: none;
  padding: 0px;
  background-color: transparent;
}
div.input_area > div.highlight > pre {
  margin: 0px;
  border: none;
  padding: 0px;
  background-color: transparent;
}
/* The following gets added to the <head> if it is detected that the user has a
 * monospace font with inconsistent normal/bold/italic height.  See
 * notebookmain.js.  Such fonts will have keywords vertically offset with
 * respect to the rest of the text.  The user should select a better font.
 * See: https://github.com/ipython/ipython/issues/1503
 *
 * .CodeMirror span {
 *      vertical-align: bottom;
 * }
 */
.CodeMirror {
  line-height: 1.21429em;
  /* Changed from 1em to our global default */
  font-size: 14px;
  height: auto;
  /* Changed to auto to autogrow */
  background: none;
  /* Changed from white to allow our bg to show through */
}
.CodeMirror-scroll {
  /*  The CodeMirror docs are a bit fuzzy on if overflow-y should be hidden or visible.*/
  /*  We have found that if it is visible, vertical scrollbars appear with font size changes.*/
  overflow-y: hidden;
  overflow-x: auto;
}
.CodeMirror-lines {
  /* In CM2, this used to be 0.4em, but in CM3 it went to 4px. We need the em value because */
  /* we have set a different line-height and want this to scale with that. */
  /* Note that this should set vertical padding only, since CodeMirror assumes
       that horizontal padding will be set on CodeMirror pre */
  padding: 0.4em 0;
}
.CodeMirror-linenumber {
  padding: 0 8px 0 4px;
}
.CodeMirror-gutters {
  border-bottom-left-radius: 2px;
  border-top-left-radius: 2px;
}
.CodeMirror pre {
  /* In CM3 this went to 4px from 0 in CM2. This sets horizontal padding only,
    use .CodeMirror-lines for vertical */
  padding: 0 0.4em;
  border: 0;
  border-radius: 0;
}
.CodeMirror-cursor {
  border-left: 1.4px solid black;
}
@media screen and (min-width: 2138px) and (max-width: 4319px) {
  .CodeMirror-cursor {
    border-left: 2px solid black;
  }
}
@media screen and (min-width: 4320px) {
  .CodeMirror-cursor {
    border-left: 4px solid black;
  }
}
/*

Original style from softwaremaniacs.org (c) Ivan Sagalaev <Maniac@SoftwareManiacs.Org>
Adapted from GitHub theme

*/
.highlight-base {
  color: #000;
}
.highlight-variable {
  color: #000;
}
.highlight-variable-2 {
  color: #1a1a1a;
}
.highlight-variable-3 {
  color: #333333;
}
.highlight-string {
  color: #BA2121;
}
.highlight-comment {
  color: #408080;
  font-style: italic;
}
.highlight-number {
  color: #080;
}
.highlight-atom {
  color: #88F;
}
.highlight-keyword {
  color: #008000;
  font-weight: bold;
}
.highlight-builtin {
  color: #008000;
}
.highlight-error {
  color: #f00;
}
.highlight-operator {
  color: #AA22FF;
  font-weight: bold;
}
.highlight-meta {
  color: #AA22FF;
}
/* previously not defined, copying from default codemirror */
.highlight-def {
  color: #00f;
}
.highlight-string-2 {
  color: #f50;
}
.highlight-qualifier {
  color: #555;
}
.highlight-bracket {
  color: #997;
}
.highlight-tag {
  color: #170;
}
.highlight-attribute {
  color: #00c;
}
.highlight-header {
  color: blue;
}
.highlight-quote {
  color: #090;
}
.highlight-link {
  color: #00c;
}
/* apply the same style to codemirror */
.cm-s-ipython span.cm-keyword {
  color: #008000;
  font-weight: bold;
}
.cm-s-ipython span.cm-atom {
  color: #88F;
}
.cm-s-ipython span.cm-number {
  color: #080;
}
.cm-s-ipython span.cm-def {
  color: #00f;
}
.cm-s-ipython span.cm-variable {
  color: #000;
}
.cm-s-ipython span.cm-operator {
  color: #AA22FF;
  font-weight: bold;
}
.cm-s-ipython span.cm-variable-2 {
  color: #1a1a1a;
}
.cm-s-ipython span.cm-variable-3 {
  color: #333333;
}
.cm-s-ipython span.cm-comment {
  color: #408080;
  font-style: italic;
}
.cm-s-ipython span.cm-string {
  color: #BA2121;
}
.cm-s-ipython span.cm-string-2 {
  color: #f50;
}
.cm-s-ipython span.cm-meta {
  color: #AA22FF;
}
.cm-s-ipython span.cm-qualifier {
  color: #555;
}
.cm-s-ipython span.cm-builtin {
  color: #008000;
}
.cm-s-ipython span.cm-bracket {
  color: #997;
}
.cm-s-ipython span.cm-tag {
  color: #170;
}
.cm-s-ipython span.cm-attribute {
  color: #00c;
}
.cm-s-ipython span.cm-header {
  color: blue;
}
.cm-s-ipython span.cm-quote {
  color: #090;
}
.cm-s-ipython span.cm-link {
  color: #00c;
}
.cm-s-ipython span.cm-error {
  color: #f00;
}
.cm-s-ipython span.cm-tab {
  background: url(data:image/png;base64,iVBORw0KGgoAAAANSUhEUgAAADAAAAAMCAYAAAAkuj5RAAAAAXNSR0IArs4c6QAAAGFJREFUSMft1LsRQFAQheHPowAKoACx3IgEKtaEHujDjORSgWTH/ZOdnZOcM/sgk/kFFWY0qV8foQwS4MKBCS3qR6ixBJvElOobYAtivseIE120FaowJPN75GMu8j/LfMwNjh4HUpwg4LUAAAAASUVORK5CYII=);
  background-position: right;
  background-repeat: no-repeat;
}
div.output_wrapper {
  /* this position must be relative to enable descendents to be absolute within it */
  position: relative;
  /* Old browsers */
  display: -webkit-box;
  -webkit-box-orient: vertical;
  -webkit-box-align: stretch;
  display: -moz-box;
  -moz-box-orient: vertical;
  -moz-box-align: stretch;
  display: box;
  box-orient: vertical;
  box-align: stretch;
  /* Modern browsers */
  display: flex;
  flex-direction: column;
  align-items: stretch;
  z-index: 1;
}
/* class for the output area when it should be height-limited */
div.output_scroll {
  /* ideally, this would be max-height, but FF barfs all over that */
  height: 24em;
  /* FF needs this *and the wrapper* to specify full width, or it will shrinkwrap */
  width: 100%;
  overflow: auto;
  border-radius: 2px;
  -webkit-box-shadow: inset 0 2px 8px rgba(0, 0, 0, 0.8);
  box-shadow: inset 0 2px 8px rgba(0, 0, 0, 0.8);
  display: block;
}
/* output div while it is collapsed */
div.output_collapsed {
  margin: 0px;
  padding: 0px;
  /* Old browsers */
  display: -webkit-box;
  -webkit-box-orient: vertical;
  -webkit-box-align: stretch;
  display: -moz-box;
  -moz-box-orient: vertical;
  -moz-box-align: stretch;
  display: box;
  box-orient: vertical;
  box-align: stretch;
  /* Modern browsers */
  display: flex;
  flex-direction: column;
  align-items: stretch;
}
div.out_prompt_overlay {
  height: 100%;
  padding: 0px 0.4em;
  position: absolute;
  border-radius: 2px;
}
div.out_prompt_overlay:hover {
  /* use inner shadow to get border that is computed the same on WebKit/FF */
  -webkit-box-shadow: inset 0 0 1px #000;
  box-shadow: inset 0 0 1px #000;
  background: rgba(240, 240, 240, 0.5);
}
div.output_prompt {
  color: #D84315;
}
/* This class is the outer container of all output sections. */
div.output_area {
  padding: 0px;
  page-break-inside: avoid;
  /* Old browsers */
  display: -webkit-box;
  -webkit-box-orient: horizontal;
  -webkit-box-align: stretch;
  display: -moz-box;
  -moz-box-orient: horizontal;
  -moz-box-align: stretch;
  display: box;
  box-orient: horizontal;
  box-align: stretch;
  /* Modern browsers */
  display: flex;
  flex-direction: row;
  align-items: stretch;
}
div.output_area .MathJax_Display {
  text-align: left !important;
}
div.output_area .rendered_html table {
  margin-left: 0;
  margin-right: 0;
}
div.output_area .rendered_html img {
  margin-left: 0;
  margin-right: 0;
}
div.output_area img,
div.output_area svg {
  max-width: 100%;
  height: auto;
}
div.output_area img.unconfined,
div.output_area svg.unconfined {
  max-width: none;
}
div.output_area .mglyph > img {
  max-width: none;
}
/* This is needed to protect the pre formating from global settings such
   as that of bootstrap */
.output {
  /* Old browsers */
  display: -webkit-box;
  -webkit-box-orient: vertical;
  -webkit-box-align: stretch;
  display: -moz-box;
  -moz-box-orient: vertical;
  -moz-box-align: stretch;
  display: box;
  box-orient: vertical;
  box-align: stretch;
  /* Modern browsers */
  display: flex;
  flex-direction: column;
  align-items: stretch;
}
@media (max-width: 540px) {
  div.output_area {
    /* Old browsers */
    display: -webkit-box;
    -webkit-box-orient: vertical;
    -webkit-box-align: stretch;
    display: -moz-box;
    -moz-box-orient: vertical;
    -moz-box-align: stretch;
    display: box;
    box-orient: vertical;
    box-align: stretch;
    /* Modern browsers */
    display: flex;
    flex-direction: column;
    align-items: stretch;
  }
}
div.output_area pre {
  margin: 0;
  padding: 1px 0 1px 0;
  border: 0;
  vertical-align: baseline;
  color: black;
  background-color: transparent;
  border-radius: 0;
}
/* This class is for the output subarea inside the output_area and after
   the prompt div. */
div.output_subarea {
  overflow-x: auto;
  padding: 0.4em;
  /* Old browsers */
  -webkit-box-flex: 1;
  -moz-box-flex: 1;
  box-flex: 1;
  /* Modern browsers */
  flex: 1;
  max-width: calc(100% - 14ex);
}
div.output_scroll div.output_subarea {
  overflow-x: visible;
}
/* The rest of the output_* classes are for special styling of the different
   output types */
/* all text output has this class: */
div.output_text {
  text-align: left;
  color: #000;
  /* This has to match that of the the CodeMirror class line-height below */
  line-height: 1.21429em;
}
/* stdout/stderr are 'text' as well as 'stream', but execute_result/error are *not* streams */
div.output_stderr {
  background: #fdd;
  /* very light red background for stderr */
}
div.output_latex {
  text-align: left;
}
/* Empty output_javascript divs should have no height */
div.output_javascript:empty {
  padding: 0;
}
.js-error {
  color: darkred;
}
/* raw_input styles */
div.raw_input_container {
  line-height: 1.21429em;
  padding-top: 5px;
}
pre.raw_input_prompt {
  /* nothing needed here. */
}
input.raw_input {
  font-family: monospace;
  font-size: inherit;
  color: inherit;
  width: auto;
  /* make sure input baseline aligns with prompt */
  vertical-align: baseline;
  /* padding + margin = 0.5em between prompt and cursor */
  padding: 0em 0.25em;
  margin: 0em 0.25em;
}
input.raw_input:focus {
  box-shadow: none;
}
p.p-space {
  margin-bottom: 10px;
}
div.output_unrecognized {
  padding: 5px;
  font-weight: bold;
  color: red;
}
div.output_unrecognized a {
  color: inherit;
  text-decoration: none;
}
div.output_unrecognized a:hover {
  color: inherit;
  text-decoration: none;
}
.rendered_html {
  color: #000;
  /* any extras will just be numbers: */
}
.rendered_html em {
  font-style: italic;
}
.rendered_html strong {
  font-weight: bold;
}
.rendered_html u {
  text-decoration: underline;
}
.rendered_html :link {
  text-decoration: underline;
}
.rendered_html :visited {
  text-decoration: underline;
}
.rendered_html h1 {
  font-size: 185.7%;
  margin: 1.08em 0 0 0;
  font-weight: bold;
  line-height: 1.0;
}
.rendered_html h2 {
  font-size: 157.1%;
  margin: 1.27em 0 0 0;
  font-weight: bold;
  line-height: 1.0;
}
.rendered_html h3 {
  font-size: 128.6%;
  margin: 1.55em 0 0 0;
  font-weight: bold;
  line-height: 1.0;
}
.rendered_html h4 {
  font-size: 100%;
  margin: 2em 0 0 0;
  font-weight: bold;
  line-height: 1.0;
}
.rendered_html h5 {
  font-size: 100%;
  margin: 2em 0 0 0;
  font-weight: bold;
  line-height: 1.0;
  font-style: italic;
}
.rendered_html h6 {
  font-size: 100%;
  margin: 2em 0 0 0;
  font-weight: bold;
  line-height: 1.0;
  font-style: italic;
}
.rendered_html h1:first-child {
  margin-top: 0.538em;
}
.rendered_html h2:first-child {
  margin-top: 0.636em;
}
.rendered_html h3:first-child {
  margin-top: 0.777em;
}
.rendered_html h4:first-child {
  margin-top: 1em;
}
.rendered_html h5:first-child {
  margin-top: 1em;
}
.rendered_html h6:first-child {
  margin-top: 1em;
}
.rendered_html ul:not(.list-inline),
.rendered_html ol:not(.list-inline) {
  padding-left: 2em;
}
.rendered_html ul {
  list-style: disc;
}
.rendered_html ul ul {
  list-style: square;
  margin-top: 0;
}
.rendered_html ul ul ul {
  list-style: circle;
}
.rendered_html ol {
  list-style: decimal;
}
.rendered_html ol ol {
  list-style: upper-alpha;
  margin-top: 0;
}
.rendered_html ol ol ol {
  list-style: lower-alpha;
}
.rendered_html ol ol ol ol {
  list-style: lower-roman;
}
.rendered_html ol ol ol ol ol {
  list-style: decimal;
}
.rendered_html * + ul {
  margin-top: 1em;
}
.rendered_html * + ol {
  margin-top: 1em;
}
.rendered_html hr {
  color: black;
  background-color: black;
}
.rendered_html pre {
  margin: 1em 2em;
  padding: 0px;
  background-color: #fff;
}
.rendered_html code {
  background-color: #eff0f1;
}
.rendered_html p code {
  padding: 1px 5px;
}
.rendered_html pre code {
  background-color: #fff;
}
.rendered_html pre,
.rendered_html code {
  border: 0;
  color: #000;
  font-size: 100%;
}
.rendered_html blockquote {
  margin: 1em 2em;
}
.rendered_html table {
  margin-left: auto;
  margin-right: auto;
  border: none;
  border-collapse: collapse;
  border-spacing: 0;
  color: black;
  font-size: 12px;
  table-layout: fixed;
}
.rendered_html thead {
  border-bottom: 1px solid black;
  vertical-align: bottom;
}
.rendered_html tr,
.rendered_html th,
.rendered_html td {
  text-align: right;
  vertical-align: middle;
  padding: 0.5em 0.5em;
  line-height: normal;
  white-space: normal;
  max-width: none;
  border: none;
}
.rendered_html th {
  font-weight: bold;
}
.rendered_html tbody tr:nth-child(odd) {
  background: #f5f5f5;
}
.rendered_html tbody tr:hover {
  background: rgba(66, 165, 245, 0.2);
}
.rendered_html * + table {
  margin-top: 1em;
}
.rendered_html p {
  text-align: left;
}
.rendered_html * + p {
  margin-top: 1em;
}
.rendered_html img {
  display: block;
  margin-left: auto;
  margin-right: auto;
}
.rendered_html * + img {
  margin-top: 1em;
}
.rendered_html img,
.rendered_html svg {
  max-width: 100%;
  height: auto;
}
.rendered_html img.unconfined,
.rendered_html svg.unconfined {
  max-width: none;
}
.rendered_html .alert {
  margin-bottom: initial;
}
.rendered_html * + .alert {
  margin-top: 1em;
}
[dir="rtl"] .rendered_html p {
  text-align: right;
}
div.text_cell {
  /* Old browsers */
  display: -webkit-box;
  -webkit-box-orient: horizontal;
  -webkit-box-align: stretch;
  display: -moz-box;
  -moz-box-orient: horizontal;
  -moz-box-align: stretch;
  display: box;
  box-orient: horizontal;
  box-align: stretch;
  /* Modern browsers */
  display: flex;
  flex-direction: row;
  align-items: stretch;
}
@media (max-width: 540px) {
  div.text_cell > div.prompt {
    display: none;
  }
}
div.text_cell_render {
  /*font-family: "Helvetica Neue", Arial, Helvetica, Geneva, sans-serif;*/
  outline: none;
  resize: none;
  width: inherit;
  border-style: none;
  padding: 0.5em 0.5em 0.5em 0.4em;
  color: #000;
  box-sizing: border-box;
  -moz-box-sizing: border-box;
  -webkit-box-sizing: border-box;
}
a.anchor-link:link {
  text-decoration: none;
  padding: 0px 20px;
  visibility: hidden;
}
h1:hover .anchor-link,
h2:hover .anchor-link,
h3:hover .anchor-link,
h4:hover .anchor-link,
h5:hover .anchor-link,
h6:hover .anchor-link {
  visibility: visible;
}
.text_cell.rendered .input_area {
  display: none;
}
.text_cell.rendered .rendered_html {
  overflow-x: auto;
  overflow-y: hidden;
}
.text_cell.rendered .rendered_html tr,
.text_cell.rendered .rendered_html th,
.text_cell.rendered .rendered_html td {
  max-width: none;
}
.text_cell.unrendered .text_cell_render {
  display: none;
}
.text_cell .dropzone .input_area {
  border: 2px dashed #bababa;
  margin: -1px;
}
.cm-header-1,
.cm-header-2,
.cm-header-3,
.cm-header-4,
.cm-header-5,
.cm-header-6 {
  font-weight: bold;
  font-family: "Helvetica Neue", Helvetica, Arial, sans-serif;
}
.cm-header-1 {
  font-size: 185.7%;
}
.cm-header-2 {
  font-size: 157.1%;
}
.cm-header-3 {
  font-size: 128.6%;
}
.cm-header-4 {
  font-size: 110%;
}
.cm-header-5 {
  font-size: 100%;
  font-style: italic;
}
.cm-header-6 {
  font-size: 100%;
  font-style: italic;
}
/*!
*
* IPython notebook webapp
*
*/
@media (max-width: 767px) {
  .notebook_app {
    padding-left: 0px;
    padding-right: 0px;
  }
}
#ipython-main-app {
  box-sizing: border-box;
  -moz-box-sizing: border-box;
  -webkit-box-sizing: border-box;
  height: 100%;
}
div#notebook_panel {
  margin: 0px;
  padding: 0px;
  box-sizing: border-box;
  -moz-box-sizing: border-box;
  -webkit-box-sizing: border-box;
  height: 100%;
}
div#notebook {
  font-size: 14px;
  line-height: 20px;
  overflow-y: hidden;
  overflow-x: auto;
  width: 100%;
  /* This spaces the page away from the edge of the notebook area */
  padding-top: 20px;
  margin: 0px;
  outline: none;
  box-sizing: border-box;
  -moz-box-sizing: border-box;
  -webkit-box-sizing: border-box;
  min-height: 100%;
}
@media not print {
  #notebook-container {
    padding: 15px;
    background-color: #fff;
    min-height: 0;
    -webkit-box-shadow: 0px 0px 12px 1px rgba(87, 87, 87, 0.2);
    box-shadow: 0px 0px 12px 1px rgba(87, 87, 87, 0.2);
  }
}
@media print {
  #notebook-container {
    width: 100%;
  }
}
div.ui-widget-content {
  border: 1px solid #ababab;
  outline: none;
}
pre.dialog {
  background-color: #f7f7f7;
  border: 1px solid #ddd;
  border-radius: 2px;
  padding: 0.4em;
  padding-left: 2em;
}
p.dialog {
  padding: 0.2em;
}
/* Word-wrap output correctly.  This is the CSS3 spelling, though Firefox seems
   to not honor it correctly.  Webkit browsers (Chrome, rekonq, Safari) do.
 */
pre,
code,
kbd,
samp {
  white-space: pre-wrap;
}
#fonttest {
  font-family: monospace;
}
p {
  margin-bottom: 0;
}
.end_space {
  min-height: 100px;
  transition: height .2s ease;
}
.notebook_app > #header {
  -webkit-box-shadow: 0px 0px 12px 1px rgba(87, 87, 87, 0.2);
  box-shadow: 0px 0px 12px 1px rgba(87, 87, 87, 0.2);
}
@media not print {
  .notebook_app {
    background-color: #EEE;
  }
}
kbd {
  border-style: solid;
  border-width: 1px;
  box-shadow: none;
  margin: 2px;
  padding-left: 2px;
  padding-right: 2px;
  padding-top: 1px;
  padding-bottom: 1px;
}
.jupyter-keybindings {
  padding: 1px;
  line-height: 24px;
  border-bottom: 1px solid gray;
}
.jupyter-keybindings input {
  margin: 0;
  padding: 0;
  border: none;
}
.jupyter-keybindings i {
  padding: 6px;
}
.well code {
  background-color: #ffffff;
  border-color: #ababab;
  border-width: 1px;
  border-style: solid;
  padding: 2px;
  padding-top: 1px;
  padding-bottom: 1px;
}
/* CSS for the cell toolbar */
.celltoolbar {
  border: thin solid #CFCFCF;
  border-bottom: none;
  background: #EEE;
  border-radius: 2px 2px 0px 0px;
  width: 100%;
  height: 29px;
  padding-right: 4px;
  /* Old browsers */
  display: -webkit-box;
  -webkit-box-orient: horizontal;
  -webkit-box-align: stretch;
  display: -moz-box;
  -moz-box-orient: horizontal;
  -moz-box-align: stretch;
  display: box;
  box-orient: horizontal;
  box-align: stretch;
  /* Modern browsers */
  display: flex;
  flex-direction: row;
  align-items: stretch;
  /* Old browsers */
  -webkit-box-pack: end;
  -moz-box-pack: end;
  box-pack: end;
  /* Modern browsers */
  justify-content: flex-end;
  display: -webkit-flex;
}
@media print {
  .celltoolbar {
    display: none;
  }
}
.ctb_hideshow {
  display: none;
  vertical-align: bottom;
}
/* ctb_show is added to the ctb_hideshow div to show the cell toolbar.
   Cell toolbars are only shown when the ctb_global_show class is also set.
*/
.ctb_global_show .ctb_show.ctb_hideshow {
  display: block;
}
.ctb_global_show .ctb_show + .input_area,
.ctb_global_show .ctb_show + div.text_cell_input,
.ctb_global_show .ctb_show ~ div.text_cell_render {
  border-top-right-radius: 0px;
  border-top-left-radius: 0px;
}
.ctb_global_show .ctb_show ~ div.text_cell_render {
  border: 1px solid #cfcfcf;
}
.celltoolbar {
  font-size: 87%;
  padding-top: 3px;
}
.celltoolbar select {
  display: block;
  width: 100%;
  height: 32px;
  padding: 6px 12px;
  font-size: 13px;
  line-height: 1.42857143;
  color: #555555;
  background-color: #fff;
  background-image: none;
  border: 1px solid #ccc;
  border-radius: 2px;
  -webkit-box-shadow: inset 0 1px 1px rgba(0, 0, 0, 0.075);
  box-shadow: inset 0 1px 1px rgba(0, 0, 0, 0.075);
  -webkit-transition: border-color ease-in-out .15s, box-shadow ease-in-out .15s;
  -o-transition: border-color ease-in-out .15s, box-shadow ease-in-out .15s;
  transition: border-color ease-in-out .15s, box-shadow ease-in-out .15s;
  height: 30px;
  padding: 5px 10px;
  font-size: 12px;
  line-height: 1.5;
  border-radius: 1px;
  width: inherit;
  font-size: inherit;
  height: 22px;
  padding: 0px;
  display: inline-block;
}
.celltoolbar select:focus {
  border-color: #66afe9;
  outline: 0;
  -webkit-box-shadow: inset 0 1px 1px rgba(0,0,0,.075), 0 0 8px rgba(102, 175, 233, 0.6);
  box-shadow: inset 0 1px 1px rgba(0,0,0,.075), 0 0 8px rgba(102, 175, 233, 0.6);
}
.celltoolbar select::-moz-placeholder {
  color: #999;
  opacity: 1;
}
.celltoolbar select:-ms-input-placeholder {
  color: #999;
}
.celltoolbar select::-webkit-input-placeholder {
  color: #999;
}
.celltoolbar select::-ms-expand {
  border: 0;
  background-color: transparent;
}
.celltoolbar select[disabled],
.celltoolbar select[readonly],
fieldset[disabled] .celltoolbar select {
  background-color: #eeeeee;
  opacity: 1;
}
.celltoolbar select[disabled],
fieldset[disabled] .celltoolbar select {
  cursor: not-allowed;
}
textarea.celltoolbar select {
  height: auto;
}
select.celltoolbar select {
  height: 30px;
  line-height: 30px;
}
textarea.celltoolbar select,
select[multiple].celltoolbar select {
  height: auto;
}
.celltoolbar label {
  margin-left: 5px;
  margin-right: 5px;
}
.tags_button_container {
  width: 100%;
  display: flex;
}
.tag-container {
  display: flex;
  flex-direction: row;
  flex-grow: 1;
  overflow: hidden;
  position: relative;
}
.tag-container > * {
  margin: 0 4px;
}
.remove-tag-btn {
  margin-left: 4px;
}
.tags-input {
  display: flex;
}
.cell-tag:last-child:after {
  content: "";
  position: absolute;
  right: 0;
  width: 40px;
  height: 100%;
  /* Fade to background color of cell toolbar */
  background: linear-gradient(to right, rgba(0, 0, 0, 0), #EEE);
}
.tags-input > * {
  margin-left: 4px;
}
.cell-tag,
.tags-input input,
.tags-input button {
  display: block;
  width: 100%;
  height: 32px;
  padding: 6px 12px;
  font-size: 13px;
  line-height: 1.42857143;
  color: #555555;
  background-color: #fff;
  background-image: none;
  border: 1px solid #ccc;
  border-radius: 2px;
  -webkit-box-shadow: inset 0 1px 1px rgba(0, 0, 0, 0.075);
  box-shadow: inset 0 1px 1px rgba(0, 0, 0, 0.075);
  -webkit-transition: border-color ease-in-out .15s, box-shadow ease-in-out .15s;
  -o-transition: border-color ease-in-out .15s, box-shadow ease-in-out .15s;
  transition: border-color ease-in-out .15s, box-shadow ease-in-out .15s;
  height: 30px;
  padding: 5px 10px;
  font-size: 12px;
  line-height: 1.5;
  border-radius: 1px;
  box-shadow: none;
  width: inherit;
  font-size: inherit;
  height: 22px;
  line-height: 22px;
  padding: 0px 4px;
  display: inline-block;
}
.cell-tag:focus,
.tags-input input:focus,
.tags-input button:focus {
  border-color: #66afe9;
  outline: 0;
  -webkit-box-shadow: inset 0 1px 1px rgba(0,0,0,.075), 0 0 8px rgba(102, 175, 233, 0.6);
  box-shadow: inset 0 1px 1px rgba(0,0,0,.075), 0 0 8px rgba(102, 175, 233, 0.6);
}
.cell-tag::-moz-placeholder,
.tags-input input::-moz-placeholder,
.tags-input button::-moz-placeholder {
  color: #999;
  opacity: 1;
}
.cell-tag:-ms-input-placeholder,
.tags-input input:-ms-input-placeholder,
.tags-input button:-ms-input-placeholder {
  color: #999;
}
.cell-tag::-webkit-input-placeholder,
.tags-input input::-webkit-input-placeholder,
.tags-input button::-webkit-input-placeholder {
  color: #999;
}
.cell-tag::-ms-expand,
.tags-input input::-ms-expand,
.tags-input button::-ms-expand {
  border: 0;
  background-color: transparent;
}
.cell-tag[disabled],
.tags-input input[disabled],
.tags-input button[disabled],
.cell-tag[readonly],
.tags-input input[readonly],
.tags-input button[readonly],
fieldset[disabled] .cell-tag,
fieldset[disabled] .tags-input input,
fieldset[disabled] .tags-input button {
  background-color: #eeeeee;
  opacity: 1;
}
.cell-tag[disabled],
.tags-input input[disabled],
.tags-input button[disabled],
fieldset[disabled] .cell-tag,
fieldset[disabled] .tags-input input,
fieldset[disabled] .tags-input button {
  cursor: not-allowed;
}
textarea.cell-tag,
textarea.tags-input input,
textarea.tags-input button {
  height: auto;
}
select.cell-tag,
select.tags-input input,
select.tags-input button {
  height: 30px;
  line-height: 30px;
}
textarea.cell-tag,
textarea.tags-input input,
textarea.tags-input button,
select[multiple].cell-tag,
select[multiple].tags-input input,
select[multiple].tags-input button {
  height: auto;
}
.cell-tag,
.tags-input button {
  padding: 0px 4px;
}
.cell-tag {
  background-color: #fff;
  white-space: nowrap;
}
.tags-input input[type=text]:focus {
  outline: none;
  box-shadow: none;
  border-color: #ccc;
}
.completions {
  position: absolute;
  z-index: 110;
  overflow: hidden;
  border: 1px solid #ababab;
  border-radius: 2px;
  -webkit-box-shadow: 0px 6px 10px -1px #adadad;
  box-shadow: 0px 6px 10px -1px #adadad;
  line-height: 1;
}
.completions select {
  background: white;
  outline: none;
  border: none;
  padding: 0px;
  margin: 0px;
  overflow: auto;
  font-family: monospace;
  font-size: 110%;
  color: #000;
  width: auto;
}
.completions select option.context {
  color: #286090;
}
#kernel_logo_widget .current_kernel_logo {
  display: none;
  margin-top: -1px;
  margin-bottom: -1px;
  width: 32px;
  height: 32px;
}
[dir="rtl"] #kernel_logo_widget {
  float: left !important;
  float: left;
}
.modal .modal-body .move-path {
  display: flex;
  flex-direction: row;
  justify-content: space;
  align-items: center;
}
.modal .modal-body .move-path .server-root {
  padding-right: 20px;
}
.modal .modal-body .move-path .path-input {
  flex: 1;
}
#menubar {
  box-sizing: border-box;
  -moz-box-sizing: border-box;
  -webkit-box-sizing: border-box;
  margin-top: 1px;
}
#menubar .navbar {
  border-top: 1px;
  border-radius: 0px 0px 2px 2px;
  margin-bottom: 0px;
}
#menubar .navbar-toggle {
  float: left;
  padding-top: 7px;
  padding-bottom: 7px;
  border: none;
}
#menubar .navbar-collapse {
  clear: left;
}
[dir="rtl"] #menubar .navbar-toggle {
  float: right;
}
[dir="rtl"] #menubar .navbar-collapse {
  clear: right;
}
[dir="rtl"] #menubar .navbar-nav {
  float: right;
}
[dir="rtl"] #menubar .nav {
  padding-right: 0px;
}
[dir="rtl"] #menubar .navbar-nav > li {
  float: right;
}
[dir="rtl"] #menubar .navbar-right {
  float: left !important;
}
[dir="rtl"] ul.dropdown-menu {
  text-align: right;
  left: auto;
}
[dir="rtl"] ul#new-menu.dropdown-menu {
  right: auto;
  left: 0;
}
.nav-wrapper {
  border-bottom: 1px solid #e7e7e7;
}
i.menu-icon {
  padding-top: 4px;
}
[dir="rtl"] i.menu-icon.pull-right {
  float: left !important;
  float: left;
}
ul#help_menu li a {
  overflow: hidden;
  padding-right: 2.2em;
}
ul#help_menu li a i {
  margin-right: -1.2em;
}
[dir="rtl"] ul#help_menu li a {
  padding-left: 2.2em;
}
[dir="rtl"] ul#help_menu li a i {
  margin-right: 0;
  margin-left: -1.2em;
}
[dir="rtl"] ul#help_menu li a i.pull-right {
  float: left !important;
  float: left;
}
.dropdown-submenu {
  position: relative;
}
.dropdown-submenu > .dropdown-menu {
  top: 0;
  left: 100%;
  margin-top: -6px;
  margin-left: -1px;
}
[dir="rtl"] .dropdown-submenu > .dropdown-menu {
  right: 100%;
  margin-right: -1px;
}
.dropdown-submenu:hover > .dropdown-menu {
  display: block;
}
.dropdown-submenu > a:after {
  display: inline-block;
  font: normal normal normal 14px/1 FontAwesome;
  font-size: inherit;
  text-rendering: auto;
  -webkit-font-smoothing: antialiased;
  -moz-osx-font-smoothing: grayscale;
  display: block;
  content: "\f0da";
  float: right;
  color: #333333;
  margin-top: 2px;
  margin-right: -10px;
}
.dropdown-submenu > a:after.fa-pull-left {
  margin-right: .3em;
}
.dropdown-submenu > a:after.fa-pull-right {
  margin-left: .3em;
}
.dropdown-submenu > a:after.pull-left {
  margin-right: .3em;
}
.dropdown-submenu > a:after.pull-right {
  margin-left: .3em;
}
[dir="rtl"] .dropdown-submenu > a:after {
  float: left;
  content: "\f0d9";
  margin-right: 0;
  margin-left: -10px;
}
.dropdown-submenu:hover > a:after {
  color: #262626;
}
.dropdown-submenu.pull-left {
  float: none;
}
.dropdown-submenu.pull-left > .dropdown-menu {
  left: -100%;
  margin-left: 10px;
}
#notification_area {
  float: right !important;
  float: right;
  z-index: 10;
}
[dir="rtl"] #notification_area {
  float: left !important;
  float: left;
}
.indicator_area {
  float: right !important;
  float: right;
  color: #777;
  margin-left: 5px;
  margin-right: 5px;
  width: 11px;
  z-index: 10;
  text-align: center;
  width: auto;
}
[dir="rtl"] .indicator_area {
  float: left !important;
  float: left;
}
#kernel_indicator {
  float: right !important;
  float: right;
  color: #777;
  margin-left: 5px;
  margin-right: 5px;
  width: 11px;
  z-index: 10;
  text-align: center;
  width: auto;
  border-left: 1px solid;
}
#kernel_indicator .kernel_indicator_name {
  padding-left: 5px;
  padding-right: 5px;
}
[dir="rtl"] #kernel_indicator {
  float: left !important;
  float: left;
  border-left: 0;
  border-right: 1px solid;
}
#modal_indicator {
  float: right !important;
  float: right;
  color: #777;
  margin-left: 5px;
  margin-right: 5px;
  width: 11px;
  z-index: 10;
  text-align: center;
  width: auto;
}
[dir="rtl"] #modal_indicator {
  float: left !important;
  float: left;
}
#readonly-indicator {
  float: right !important;
  float: right;
  color: #777;
  margin-left: 5px;
  margin-right: 5px;
  width: 11px;
  z-index: 10;
  text-align: center;
  width: auto;
  margin-top: 2px;
  margin-bottom: 0px;
  margin-left: 0px;
  margin-right: 0px;
  display: none;
}
.modal_indicator:before {
  width: 1.28571429em;
  text-align: center;
}
.edit_mode .modal_indicator:before {
  display: inline-block;
  font: normal normal normal 14px/1 FontAwesome;
  font-size: inherit;
  text-rendering: auto;
  -webkit-font-smoothing: antialiased;
  -moz-osx-font-smoothing: grayscale;
  content: "\f040";
}
.edit_mode .modal_indicator:before.fa-pull-left {
  margin-right: .3em;
}
.edit_mode .modal_indicator:before.fa-pull-right {
  margin-left: .3em;
}
.edit_mode .modal_indicator:before.pull-left {
  margin-right: .3em;
}
.edit_mode .modal_indicator:before.pull-right {
  margin-left: .3em;
}
.command_mode .modal_indicator:before {
  display: inline-block;
  font: normal normal normal 14px/1 FontAwesome;
  font-size: inherit;
  text-rendering: auto;
  -webkit-font-smoothing: antialiased;
  -moz-osx-font-smoothing: grayscale;
  content: ' ';
}
.command_mode .modal_indicator:before.fa-pull-left {
  margin-right: .3em;
}
.command_mode .modal_indicator:before.fa-pull-right {
  margin-left: .3em;
}
.command_mode .modal_indicator:before.pull-left {
  margin-right: .3em;
}
.command_mode .modal_indicator:before.pull-right {
  margin-left: .3em;
}
.kernel_idle_icon:before {
  display: inline-block;
  font: normal normal normal 14px/1 FontAwesome;
  font-size: inherit;
  text-rendering: auto;
  -webkit-font-smoothing: antialiased;
  -moz-osx-font-smoothing: grayscale;
  content: "\f10c";
}
.kernel_idle_icon:before.fa-pull-left {
  margin-right: .3em;
}
.kernel_idle_icon:before.fa-pull-right {
  margin-left: .3em;
}
.kernel_idle_icon:before.pull-left {
  margin-right: .3em;
}
.kernel_idle_icon:before.pull-right {
  margin-left: .3em;
}
.kernel_busy_icon:before {
  display: inline-block;
  font: normal normal normal 14px/1 FontAwesome;
  font-size: inherit;
  text-rendering: auto;
  -webkit-font-smoothing: antialiased;
  -moz-osx-font-smoothing: grayscale;
  content: "\f111";
}
.kernel_busy_icon:before.fa-pull-left {
  margin-right: .3em;
}
.kernel_busy_icon:before.fa-pull-right {
  margin-left: .3em;
}
.kernel_busy_icon:before.pull-left {
  margin-right: .3em;
}
.kernel_busy_icon:before.pull-right {
  margin-left: .3em;
}
.kernel_dead_icon:before {
  display: inline-block;
  font: normal normal normal 14px/1 FontAwesome;
  font-size: inherit;
  text-rendering: auto;
  -webkit-font-smoothing: antialiased;
  -moz-osx-font-smoothing: grayscale;
  content: "\f1e2";
}
.kernel_dead_icon:before.fa-pull-left {
  margin-right: .3em;
}
.kernel_dead_icon:before.fa-pull-right {
  margin-left: .3em;
}
.kernel_dead_icon:before.pull-left {
  margin-right: .3em;
}
.kernel_dead_icon:before.pull-right {
  margin-left: .3em;
}
.kernel_disconnected_icon:before {
  display: inline-block;
  font: normal normal normal 14px/1 FontAwesome;
  font-size: inherit;
  text-rendering: auto;
  -webkit-font-smoothing: antialiased;
  -moz-osx-font-smoothing: grayscale;
  content: "\f127";
}
.kernel_disconnected_icon:before.fa-pull-left {
  margin-right: .3em;
}
.kernel_disconnected_icon:before.fa-pull-right {
  margin-left: .3em;
}
.kernel_disconnected_icon:before.pull-left {
  margin-right: .3em;
}
.kernel_disconnected_icon:before.pull-right {
  margin-left: .3em;
}
.notification_widget {
  color: #777;
  z-index: 10;
  background: rgba(240, 240, 240, 0.5);
  margin-right: 4px;
  color: #333;
  background-color: #fff;
  border-color: #ccc;
}
.notification_widget:focus,
.notification_widget.focus {
  color: #333;
  background-color: #e6e6e6;
  border-color: #8c8c8c;
}
.notification_widget:hover {
  color: #333;
  background-color: #e6e6e6;
  border-color: #adadad;
}
.notification_widget:active,
.notification_widget.active,
.open > .dropdown-toggle.notification_widget {
  color: #333;
  background-color: #e6e6e6;
  border-color: #adadad;
}
.notification_widget:active:hover,
.notification_widget.active:hover,
.open > .dropdown-toggle.notification_widget:hover,
.notification_widget:active:focus,
.notification_widget.active:focus,
.open > .dropdown-toggle.notification_widget:focus,
.notification_widget:active.focus,
.notification_widget.active.focus,
.open > .dropdown-toggle.notification_widget.focus {
  color: #333;
  background-color: #d4d4d4;
  border-color: #8c8c8c;
}
.notification_widget:active,
.notification_widget.active,
.open > .dropdown-toggle.notification_widget {
  background-image: none;
}
.notification_widget.disabled:hover,
.notification_widget[disabled]:hover,
fieldset[disabled] .notification_widget:hover,
.notification_widget.disabled:focus,
.notification_widget[disabled]:focus,
fieldset[disabled] .notification_widget:focus,
.notification_widget.disabled.focus,
.notification_widget[disabled].focus,
fieldset[disabled] .notification_widget.focus {
  background-color: #fff;
  border-color: #ccc;
}
.notification_widget .badge {
  color: #fff;
  background-color: #333;
}
.notification_widget.warning {
  color: #fff;
  background-color: #f0ad4e;
  border-color: #eea236;
}
.notification_widget.warning:focus,
.notification_widget.warning.focus {
  color: #fff;
  background-color: #ec971f;
  border-color: #985f0d;
}
.notification_widget.warning:hover {
  color: #fff;
  background-color: #ec971f;
  border-color: #d58512;
}
.notification_widget.warning:active,
.notification_widget.warning.active,
.open > .dropdown-toggle.notification_widget.warning {
  color: #fff;
  background-color: #ec971f;
  border-color: #d58512;
}
.notification_widget.warning:active:hover,
.notification_widget.warning.active:hover,
.open > .dropdown-toggle.notification_widget.warning:hover,
.notification_widget.warning:active:focus,
.notification_widget.warning.active:focus,
.open > .dropdown-toggle.notification_widget.warning:focus,
.notification_widget.warning:active.focus,
.notification_widget.warning.active.focus,
.open > .dropdown-toggle.notification_widget.warning.focus {
  color: #fff;
  background-color: #d58512;
  border-color: #985f0d;
}
.notification_widget.warning:active,
.notification_widget.warning.active,
.open > .dropdown-toggle.notification_widget.warning {
  background-image: none;
}
.notification_widget.warning.disabled:hover,
.notification_widget.warning[disabled]:hover,
fieldset[disabled] .notification_widget.warning:hover,
.notification_widget.warning.disabled:focus,
.notification_widget.warning[disabled]:focus,
fieldset[disabled] .notification_widget.warning:focus,
.notification_widget.warning.disabled.focus,
.notification_widget.warning[disabled].focus,
fieldset[disabled] .notification_widget.warning.focus {
  background-color: #f0ad4e;
  border-color: #eea236;
}
.notification_widget.warning .badge {
  color: #f0ad4e;
  background-color: #fff;
}
.notification_widget.success {
  color: #fff;
  background-color: #5cb85c;
  border-color: #4cae4c;
}
.notification_widget.success:focus,
.notification_widget.success.focus {
  color: #fff;
  background-color: #449d44;
  border-color: #255625;
}
.notification_widget.success:hover {
  color: #fff;
  background-color: #449d44;
  border-color: #398439;
}
.notification_widget.success:active,
.notification_widget.success.active,
.open > .dropdown-toggle.notification_widget.success {
  color: #fff;
  background-color: #449d44;
  border-color: #398439;
}
.notification_widget.success:active:hover,
.notification_widget.success.active:hover,
.open > .dropdown-toggle.notification_widget.success:hover,
.notification_widget.success:active:focus,
.notification_widget.success.active:focus,
.open > .dropdown-toggle.notification_widget.success:focus,
.notification_widget.success:active.focus,
.notification_widget.success.active.focus,
.open > .dropdown-toggle.notification_widget.success.focus {
  color: #fff;
  background-color: #398439;
  border-color: #255625;
}
.notification_widget.success:active,
.notification_widget.success.active,
.open > .dropdown-toggle.notification_widget.success {
  background-image: none;
}
.notification_widget.success.disabled:hover,
.notification_widget.success[disabled]:hover,
fieldset[disabled] .notification_widget.success:hover,
.notification_widget.success.disabled:focus,
.notification_widget.success[disabled]:focus,
fieldset[disabled] .notification_widget.success:focus,
.notification_widget.success.disabled.focus,
.notification_widget.success[disabled].focus,
fieldset[disabled] .notification_widget.success.focus {
  background-color: #5cb85c;
  border-color: #4cae4c;
}
.notification_widget.success .badge {
  color: #5cb85c;
  background-color: #fff;
}
.notification_widget.info {
  color: #fff;
  background-color: #5bc0de;
  border-color: #46b8da;
}
.notification_widget.info:focus,
.notification_widget.info.focus {
  color: #fff;
  background-color: #31b0d5;
  border-color: #1b6d85;
}
.notification_widget.info:hover {
  color: #fff;
  background-color: #31b0d5;
  border-color: #269abc;
}
.notification_widget.info:active,
.notification_widget.info.active,
.open > .dropdown-toggle.notification_widget.info {
  color: #fff;
  background-color: #31b0d5;
  border-color: #269abc;
}
.notification_widget.info:active:hover,
.notification_widget.info.active:hover,
.open > .dropdown-toggle.notification_widget.info:hover,
.notification_widget.info:active:focus,
.notification_widget.info.active:focus,
.open > .dropdown-toggle.notification_widget.info:focus,
.notification_widget.info:active.focus,
.notification_widget.info.active.focus,
.open > .dropdown-toggle.notification_widget.info.focus {
  color: #fff;
  background-color: #269abc;
  border-color: #1b6d85;
}
.notification_widget.info:active,
.notification_widget.info.active,
.open > .dropdown-toggle.notification_widget.info {
  background-image: none;
}
.notification_widget.info.disabled:hover,
.notification_widget.info[disabled]:hover,
fieldset[disabled] .notification_widget.info:hover,
.notification_widget.info.disabled:focus,
.notification_widget.info[disabled]:focus,
fieldset[disabled] .notification_widget.info:focus,
.notification_widget.info.disabled.focus,
.notification_widget.info[disabled].focus,
fieldset[disabled] .notification_widget.info.focus {
  background-color: #5bc0de;
  border-color: #46b8da;
}
.notification_widget.info .badge {
  color: #5bc0de;
  background-color: #fff;
}
.notification_widget.danger {
  color: #fff;
  background-color: #d9534f;
  border-color: #d43f3a;
}
.notification_widget.danger:focus,
.notification_widget.danger.focus {
  color: #fff;
  background-color: #c9302c;
  border-color: #761c19;
}
.notification_widget.danger:hover {
  color: #fff;
  background-color: #c9302c;
  border-color: #ac2925;
}
.notification_widget.danger:active,
.notification_widget.danger.active,
.open > .dropdown-toggle.notification_widget.danger {
  color: #fff;
  background-color: #c9302c;
  border-color: #ac2925;
}
.notification_widget.danger:active:hover,
.notification_widget.danger.active:hover,
.open > .dropdown-toggle.notification_widget.danger:hover,
.notification_widget.danger:active:focus,
.notification_widget.danger.active:focus,
.open > .dropdown-toggle.notification_widget.danger:focus,
.notification_widget.danger:active.focus,
.notification_widget.danger.active.focus,
.open > .dropdown-toggle.notification_widget.danger.focus {
  color: #fff;
  background-color: #ac2925;
  border-color: #761c19;
}
.notification_widget.danger:active,
.notification_widget.danger.active,
.open > .dropdown-toggle.notification_widget.danger {
  background-image: none;
}
.notification_widget.danger.disabled:hover,
.notification_widget.danger[disabled]:hover,
fieldset[disabled] .notification_widget.danger:hover,
.notification_widget.danger.disabled:focus,
.notification_widget.danger[disabled]:focus,
fieldset[disabled] .notification_widget.danger:focus,
.notification_widget.danger.disabled.focus,
.notification_widget.danger[disabled].focus,
fieldset[disabled] .notification_widget.danger.focus {
  background-color: #d9534f;
  border-color: #d43f3a;
}
.notification_widget.danger .badge {
  color: #d9534f;
  background-color: #fff;
}
div#pager {
  background-color: #fff;
  font-size: 14px;
  line-height: 20px;
  overflow: hidden;
  display: none;
  position: fixed;
  bottom: 0px;
  width: 100%;
  max-height: 50%;
  padding-top: 8px;
  -webkit-box-shadow: 0px 0px 12px 1px rgba(87, 87, 87, 0.2);
  box-shadow: 0px 0px 12px 1px rgba(87, 87, 87, 0.2);
  /* Display over codemirror */
  z-index: 100;
  /* Hack which prevents jquery ui resizable from changing top. */
  top: auto !important;
}
div#pager pre {
  line-height: 1.21429em;
  color: #000;
  background-color: #f7f7f7;
  padding: 0.4em;
}
div#pager #pager-button-area {
  position: absolute;
  top: 8px;
  right: 20px;
}
div#pager #pager-contents {
  position: relative;
  overflow: auto;
  width: 100%;
  height: 100%;
}
div#pager #pager-contents #pager-container {
  position: relative;
  padding: 15px 0px;
  box-sizing: border-box;
  -moz-box-sizing: border-box;
  -webkit-box-sizing: border-box;
}
div#pager .ui-resizable-handle {
  top: 0px;
  height: 8px;
  background: #f7f7f7;
  border-top: 1px solid #cfcfcf;
  border-bottom: 1px solid #cfcfcf;
  /* This injects handle bars (a short, wide = symbol) for 
        the resize handle. */
}
div#pager .ui-resizable-handle::after {
  content: '';
  top: 2px;
  left: 50%;
  height: 3px;
  width: 30px;
  margin-left: -15px;
  position: absolute;
  border-top: 1px solid #cfcfcf;
}
.quickhelp {
  /* Old browsers */
  display: -webkit-box;
  -webkit-box-orient: horizontal;
  -webkit-box-align: stretch;
  display: -moz-box;
  -moz-box-orient: horizontal;
  -moz-box-align: stretch;
  display: box;
  box-orient: horizontal;
  box-align: stretch;
  /* Modern browsers */
  display: flex;
  flex-direction: row;
  align-items: stretch;
  line-height: 1.8em;
}
.shortcut_key {
  display: inline-block;
  width: 21ex;
  text-align: right;
  font-family: monospace;
}
.shortcut_descr {
  display: inline-block;
  /* Old browsers */
  -webkit-box-flex: 1;
  -moz-box-flex: 1;
  box-flex: 1;
  /* Modern browsers */
  flex: 1;
}
span.save_widget {
  height: 30px;
  margin-top: 4px;
  display: flex;
  justify-content: flex-start;
  align-items: baseline;
  width: 50%;
  flex: 1;
}
span.save_widget span.filename {
  height: 100%;
  line-height: 1em;
  margin-left: 16px;
  border: none;
  font-size: 146.5%;
  text-overflow: ellipsis;
  overflow: hidden;
  white-space: nowrap;
  border-radius: 2px;
}
span.save_widget span.filename:hover {
  background-color: #e6e6e6;
}
[dir="rtl"] span.save_widget.pull-left {
  float: right !important;
  float: right;
}
[dir="rtl"] span.save_widget span.filename {
  margin-left: 0;
  margin-right: 16px;
}
span.checkpoint_status,
span.autosave_status {
  font-size: small;
  white-space: nowrap;
  padding: 0 5px;
}
@media (max-width: 767px) {
  span.save_widget {
    font-size: small;
    padding: 0 0 0 5px;
  }
  span.checkpoint_status,
  span.autosave_status {
    display: none;
  }
}
@media (min-width: 768px) and (max-width: 991px) {
  span.checkpoint_status {
    display: none;
  }
  span.autosave_status {
    font-size: x-small;
  }
}
.toolbar {
  padding: 0px;
  margin-left: -5px;
  margin-top: 2px;
  margin-bottom: 5px;
  box-sizing: border-box;
  -moz-box-sizing: border-box;
  -webkit-box-sizing: border-box;
}
.toolbar select,
.toolbar label {
  width: auto;
  vertical-align: middle;
  margin-right: 2px;
  margin-bottom: 0px;
  display: inline;
  font-size: 92%;
  margin-left: 0.3em;
  margin-right: 0.3em;
  padding: 0px;
  padding-top: 3px;
}
.toolbar .btn {
  padding: 2px 8px;
}
.toolbar .btn-group {
  margin-top: 0px;
  margin-left: 5px;
}
.toolbar-btn-label {
  margin-left: 6px;
}
#maintoolbar {
  margin-bottom: -3px;
  margin-top: -8px;
  border: 0px;
  min-height: 27px;
  margin-left: 0px;
  padding-top: 11px;
  padding-bottom: 3px;
}
#maintoolbar .navbar-text {
  float: none;
  vertical-align: middle;
  text-align: right;
  margin-left: 5px;
  margin-right: 0px;
  margin-top: 0px;
}
.select-xs {
  height: 24px;
}
[dir="rtl"] .btn-group > .btn,
.btn-group-vertical > .btn {
  float: right;
}
.pulse,
.dropdown-menu > li > a.pulse,
li.pulse > a.dropdown-toggle,
li.pulse.open > a.dropdown-toggle {
  background-color: #F37626;
  color: white;
}
/**
 * Primary styles
 *
 * Author: Jupyter Development Team
 */
/** WARNING IF YOU ARE EDITTING THIS FILE, if this is a .css file, It has a lot
 * of chance of beeing generated from the ../less/[samename].less file, you can
 * try to get back the less file by reverting somme commit in history
 **/
/*
 * We'll try to get something pretty, so we
 * have some strange css to have the scroll bar on
 * the left with fix button on the top right of the tooltip
 */
@-moz-keyframes fadeOut {
  from {
    opacity: 1;
  }
  to {
    opacity: 0;
  }
}
@-webkit-keyframes fadeOut {
  from {
    opacity: 1;
  }
  to {
    opacity: 0;
  }
}
@-moz-keyframes fadeIn {
  from {
    opacity: 0;
  }
  to {
    opacity: 1;
  }
}
@-webkit-keyframes fadeIn {
  from {
    opacity: 0;
  }
  to {
    opacity: 1;
  }
}
/*properties of tooltip after "expand"*/
.bigtooltip {
  overflow: auto;
  height: 200px;
  -webkit-transition-property: height;
  -webkit-transition-duration: 500ms;
  -moz-transition-property: height;
  -moz-transition-duration: 500ms;
  transition-property: height;
  transition-duration: 500ms;
}
/*properties of tooltip before "expand"*/
.smalltooltip {
  -webkit-transition-property: height;
  -webkit-transition-duration: 500ms;
  -moz-transition-property: height;
  -moz-transition-duration: 500ms;
  transition-property: height;
  transition-duration: 500ms;
  text-overflow: ellipsis;
  overflow: hidden;
  height: 80px;
}
.tooltipbuttons {
  position: absolute;
  padding-right: 15px;
  top: 0px;
  right: 0px;
}
.tooltiptext {
  /*avoid the button to overlap on some docstring*/
  padding-right: 30px;
}
.ipython_tooltip {
  max-width: 700px;
  /*fade-in animation when inserted*/
  -webkit-animation: fadeOut 400ms;
  -moz-animation: fadeOut 400ms;
  animation: fadeOut 400ms;
  -webkit-animation: fadeIn 400ms;
  -moz-animation: fadeIn 400ms;
  animation: fadeIn 400ms;
  vertical-align: middle;
  background-color: #f7f7f7;
  overflow: visible;
  border: #ababab 1px solid;
  outline: none;
  padding: 3px;
  margin: 0px;
  padding-left: 7px;
  font-family: monospace;
  min-height: 50px;
  -moz-box-shadow: 0px 6px 10px -1px #adadad;
  -webkit-box-shadow: 0px 6px 10px -1px #adadad;
  box-shadow: 0px 6px 10px -1px #adadad;
  border-radius: 2px;
  position: absolute;
  z-index: 1000;
}
.ipython_tooltip a {
  float: right;
}
.ipython_tooltip .tooltiptext pre {
  border: 0;
  border-radius: 0;
  font-size: 100%;
  background-color: #f7f7f7;
}
.pretooltiparrow {
  left: 0px;
  margin: 0px;
  top: -16px;
  width: 40px;
  height: 16px;
  overflow: hidden;
  position: absolute;
}
.pretooltiparrow:before {
  background-color: #f7f7f7;
  border: 1px #ababab solid;
  z-index: 11;
  content: "";
  position: absolute;
  left: 15px;
  top: 10px;
  width: 25px;
  height: 25px;
  -webkit-transform: rotate(45deg);
  -moz-transform: rotate(45deg);
  -ms-transform: rotate(45deg);
  -o-transform: rotate(45deg);
}
ul.typeahead-list i {
  margin-left: -10px;
  width: 18px;
}
[dir="rtl"] ul.typeahead-list i {
  margin-left: 0;
  margin-right: -10px;
}
ul.typeahead-list {
  max-height: 80vh;
  overflow: auto;
}
ul.typeahead-list > li > a {
  /** Firefox bug **/
  /* see https://github.com/jupyter/notebook/issues/559 */
  white-space: normal;
}
ul.typeahead-list  > li > a.pull-right {
  float: left !important;
  float: left;
}
[dir="rtl"] .typeahead-list {
  text-align: right;
}
.cmd-palette .modal-body {
  padding: 7px;
}
.cmd-palette form {
  background: white;
}
.cmd-palette input {
  outline: none;
}
.no-shortcut {
  min-width: 20px;
  color: transparent;
}
[dir="rtl"] .no-shortcut.pull-right {
  float: left !important;
  float: left;
}
[dir="rtl"] .command-shortcut.pull-right {
  float: left !important;
  float: left;
}
.command-shortcut:before {
  content: "(command mode)";
  padding-right: 3px;
  color: #777777;
}
.edit-shortcut:before {
  content: "(edit)";
  padding-right: 3px;
  color: #777777;
}
[dir="rtl"] .edit-shortcut.pull-right {
  float: left !important;
  float: left;
}
#find-and-replace #replace-preview .match,
#find-and-replace #replace-preview .insert {
  background-color: #BBDEFB;
  border-color: #90CAF9;
  border-style: solid;
  border-width: 1px;
  border-radius: 0px;
}
[dir="ltr"] #find-and-replace .input-group-btn + .form-control {
  border-left: none;
}
[dir="rtl"] #find-and-replace .input-group-btn + .form-control {
  border-right: none;
}
#find-and-replace #replace-preview .replace .match {
  background-color: #FFCDD2;
  border-color: #EF9A9A;
  border-radius: 0px;
}
#find-and-replace #replace-preview .replace .insert {
  background-color: #C8E6C9;
  border-color: #A5D6A7;
  border-radius: 0px;
}
#find-and-replace #replace-preview {
  max-height: 60vh;
  overflow: auto;
}
#find-and-replace #replace-preview pre {
  padding: 5px 10px;
}
.terminal-app {
  background: #EEE;
}
.terminal-app #header {
  background: #fff;
  -webkit-box-shadow: 0px 0px 12px 1px rgba(87, 87, 87, 0.2);
  box-shadow: 0px 0px 12px 1px rgba(87, 87, 87, 0.2);
}
.terminal-app .terminal {
  width: 100%;
  float: left;
  font-family: monospace;
  color: white;
  background: black;
  padding: 0.4em;
  border-radius: 2px;
  -webkit-box-shadow: 0px 0px 12px 1px rgba(87, 87, 87, 0.4);
  box-shadow: 0px 0px 12px 1px rgba(87, 87, 87, 0.4);
}
.terminal-app .terminal,
.terminal-app .terminal dummy-screen {
  line-height: 1em;
  font-size: 14px;
}
.terminal-app .terminal .xterm-rows {
  padding: 10px;
}
.terminal-app .terminal-cursor {
  color: black;
  background: white;
}
.terminal-app #terminado-container {
  margin-top: 20px;
}
/*# sourceMappingURL=style.min.css.map */
    </style>
<style type="text/css">
    .highlight .hll { background-color: #ffffcc }
.highlight  { background: #f8f8f8; }
.highlight .c { color: #408080; font-style: italic } /* Comment */
.highlight .err { border: 1px solid #FF0000 } /* Error */
.highlight .k { color: #008000; font-weight: bold } /* Keyword */
.highlight .o { color: #666666 } /* Operator */
.highlight .ch { color: #408080; font-style: italic } /* Comment.Hashbang */
.highlight .cm { color: #408080; font-style: italic } /* Comment.Multiline */
.highlight .cp { color: #BC7A00 } /* Comment.Preproc */
.highlight .cpf { color: #408080; font-style: italic } /* Comment.PreprocFile */
.highlight .c1 { color: #408080; font-style: italic } /* Comment.Single */
.highlight .cs { color: #408080; font-style: italic } /* Comment.Special */
.highlight .gd { color: #A00000 } /* Generic.Deleted */
.highlight .ge { font-style: italic } /* Generic.Emph */
.highlight .gr { color: #FF0000 } /* Generic.Error */
.highlight .gh { color: #000080; font-weight: bold } /* Generic.Heading */
.highlight .gi { color: #00A000 } /* Generic.Inserted */
.highlight .go { color: #888888 } /* Generic.Output */
.highlight .gp { color: #000080; font-weight: bold } /* Generic.Prompt */
.highlight .gs { font-weight: bold } /* Generic.Strong */
.highlight .gu { color: #800080; font-weight: bold } /* Generic.Subheading */
.highlight .gt { color: #0044DD } /* Generic.Traceback */
.highlight .kc { color: #008000; font-weight: bold } /* Keyword.Constant */
.highlight .kd { color: #008000; font-weight: bold } /* Keyword.Declaration */
.highlight .kn { color: #008000; font-weight: bold } /* Keyword.Namespace */
.highlight .kp { color: #008000 } /* Keyword.Pseudo */
.highlight .kr { color: #008000; font-weight: bold } /* Keyword.Reserved */
.highlight .kt { color: #B00040 } /* Keyword.Type */
.highlight .m { color: #666666 } /* Literal.Number */
.highlight .s { color: #BA2121 } /* Literal.String */
.highlight .na { color: #7D9029 } /* Name.Attribute */
.highlight .nb { color: #008000 } /* Name.Builtin */
.highlight .nc { color: #0000FF; font-weight: bold } /* Name.Class */
.highlight .no { color: #880000 } /* Name.Constant */
.highlight .nd { color: #AA22FF } /* Name.Decorator */
.highlight .ni { color: #999999; font-weight: bold } /* Name.Entity */
.highlight .ne { color: #D2413A; font-weight: bold } /* Name.Exception */
.highlight .nf { color: #0000FF } /* Name.Function */
.highlight .nl { color: #A0A000 } /* Name.Label */
.highlight .nn { color: #0000FF; font-weight: bold } /* Name.Namespace */
.highlight .nt { color: #008000; font-weight: bold } /* Name.Tag */
.highlight .nv { color: #19177C } /* Name.Variable */
.highlight .ow { color: #AA22FF; font-weight: bold } /* Operator.Word */
.highlight .w { color: #bbbbbb } /* Text.Whitespace */
.highlight .mb { color: #666666 } /* Literal.Number.Bin */
.highlight .mf { color: #666666 } /* Literal.Number.Float */
.highlight .mh { color: #666666 } /* Literal.Number.Hex */
.highlight .mi { color: #666666 } /* Literal.Number.Integer */
.highlight .mo { color: #666666 } /* Literal.Number.Oct */
.highlight .sa { color: #BA2121 } /* Literal.String.Affix */
.highlight .sb { color: #BA2121 } /* Literal.String.Backtick */
.highlight .sc { color: #BA2121 } /* Literal.String.Char */
.highlight .dl { color: #BA2121 } /* Literal.String.Delimiter */
.highlight .sd { color: #BA2121; font-style: italic } /* Literal.String.Doc */
.highlight .s2 { color: #BA2121 } /* Literal.String.Double */
.highlight .se { color: #BB6622; font-weight: bold } /* Literal.String.Escape */
.highlight .sh { color: #BA2121 } /* Literal.String.Heredoc */
.highlight .si { color: #BB6688; font-weight: bold } /* Literal.String.Interpol */
.highlight .sx { color: #008000 } /* Literal.String.Other */
.highlight .sr { color: #BB6688 } /* Literal.String.Regex */
.highlight .s1 { color: #BA2121 } /* Literal.String.Single */
.highlight .ss { color: #19177C } /* Literal.String.Symbol */
.highlight .bp { color: #008000 } /* Name.Builtin.Pseudo */
.highlight .fm { color: #0000FF } /* Name.Function.Magic */
.highlight .vc { color: #19177C } /* Name.Variable.Class */
.highlight .vg { color: #19177C } /* Name.Variable.Global */
.highlight .vi { color: #19177C } /* Name.Variable.Instance */
.highlight .vm { color: #19177C } /* Name.Variable.Magic */
.highlight .il { color: #666666 } /* Literal.Number.Integer.Long */
    </style>


<!-- Loading mathjax macro -->
<!-- Load mathjax -->
    <script src="https://cdnjs.cloudflare.com/ajax/libs/mathjax/2.7.5/latest.js?config=TeX-AMS_HTML"></script>
    <!-- MathJax configuration -->
    <script type="text/x-mathjax-config">
    MathJax.Hub.Config({
        tex2jax: {
            inlineMath: [ ['$','$'], ["\\(","\\)"] ],
            displayMath: [ ['$$','$$'], ["\\[","\\]"] ],
            processEscapes: true,
            processEnvironments: true
        },
        // Center justify equations in code and markdown cells. Elsewhere
        // we use CSS to left justify single line equations in code cells.
        displayAlign: 'center',
        "HTML-CSS": {
            styles: {'.MathJax_Display': {"margin": 0}},
            linebreaks: { automatic: true }
        }
    });
    </script>
    <!-- End of mathjax configuration -->

<style>
td.center, th.center {
    text-align: center;
}

body {
  overflow: visible;
  font-size: 14px;
  padding-top: 1em;
}

div#notebook {
  overflow: visible;
  border-top: none;
}

div#notebook-container {
  width: 100%;
}

@media print {
  div.cell {
    display: block;
    page-break-inside: avoid;
  }
  div.output_wrapper {
    display: block;
    page-break-inside: avoid;
  }
  div.output {
    display: block;
    page-break-inside: avoid;
  }
}

div.prompt {
  min-width: 21ex;
}

div.nbgrader_cell {
    width: 100%;
}

div.nbgrader_cell .panel-heading {
    padding: 0.4em 0.6em;
    height: 37px;
}

div.nbgrader_cell .panel-heading a {
    color: #BBBBBB;
}

div.nbgrader_cell .panel-footer {
    padding: 0.4em 0.6em;
}

div.nbgrader_cell .panel-body {
    padding: 0.4em;
}

.comment {
    width: 100%;
    margin-top: 0.5em;
}

div.nbgrader_cell .input_area {
    background: white;
    border: none;
}

.score {
    color: black;
}

li.late-penalty {
    color: #d2413a;
}

span.nbgrader-label {
    line-height: 25px;
}

.save-icon {
    margin-left: 1em;
    top: 4px;
}
</style>

</head>
<body>
  <a name="top"></a>
  <div class="container">
    <div class="panel panel-default">
      <div class="panel-heading">
        <h4>TIF285_ps1_extra_problems (Score: 5.0 / 6.0)</h4>
        <div id="toc">
          <ol>
          
            
            
          
            
            
          
            
            
          
            
            
          
            
            <li><a href="#correct_student_info">Test cell</a> (Score: 0.0 / 0.0)</li>
            
            
          
            
            
          
            
            
          
            
            
          
            
            
          
            
            
          
            
            
          
            
            <li><a href="#cell-10862146b5aeebc1">Task</a> (Score: 3.0 / 3.0)</li>
            
            
          
            
            
          
            
            
          
            
            
          
            
            
          
            
            
          
            
            
          
            
            
          
            
            
          
            
            <li><a href="#correct_bgd_sgd">Test cell</a> (Score: 1.0 / 1.0)</li>
            
            
          
            
            
          
            
            
          
            
            <li><a href="#correct_mbgd">Test cell</a> (Score: 1.0 / 1.0)</li>
            
            
          
            
            <li><a href="#gd_convergence">Task</a> (Score: 0.0 / 1.0)</li>
            
            
          
            
            
          
            
            
          
          
          </ol>
        </div>
      </div>
      <div class="panel-body">
        <div id="notebook" class="border-box-sizing">
          <div class="container" id="notebook-container">
            
<div class="cell border-box-sizing text_cell rendered">
  <div class="prompt input_prompt">
</div><div class="inner_cell">
    <div class="text_cell_render border-box-sizing rendered_html">
      <h2 id="Instructions">Instructions<a class="anchor-link" href="#Instructions">&#182;</a></h2><ul>
<li>See deadline on the course web page</li>
<li>See examination rules on the course web page.</li>
<li>This problem set is performed individually (collaboration is encouraged, but each individual must be able to explain all of his/her hand-in solutions).</li>
<li>The two notebooks for each problem set contain a number of basic and extra problems; you can choose which and how many to work on.</li>
<li><p>Many problems are automatically graded using <code>assert</code> statements. You should check that your code passes these statements without raising an <code>AssertionError</code>. Note that there might be additional, hidden tests that must be passed for full credit. In addition, some tasks are either completely manually graded or part-automatic/part-manual.</p>
</li>
<li><p><strong>Important:</strong> Hand-in is performed through the following actions:</p>
<ul>
<li>Make sure to always complete <strong>Task 0</strong> in the header part of the notebook. </li>
<li>Upload your solution in the form of your edited version of this jupyter notebook via the appropriate module in Canvas.</li>
<li>The name of the uploaded file <strong>must be the same as the original one</strong>!</li>
</ul>
<p>Note that the hand-in might not be automatically graded if you have changed the name of the uploaded file.</p>
</li>
</ul>

    </div>
  </div></div>

<div class="cell border-box-sizing text_cell rendered">
  <div class="prompt input_prompt">
</div><div class="inner_cell">
    <div class="text_cell_render border-box-sizing rendered_html">
      <p>Before you turn this problem in, make sure everything runs as expected. First, <strong>restart the kernel</strong> (in the menubar, select Kernel$\rightarrow$Restart) and then <strong>run all cells</strong> (in the menubar, select Cell$\rightarrow$Run All).</p>
<p>Your solutions are usually expected where it says <code>YOUR CODE HERE</code> or <font color="red">"PLEASE WRITE YOUR ANSWER HERE"</font>.</p>

    </div>
  </div></div>

<div class="cell border-box-sizing text_cell rendered">
  <div class="prompt input_prompt">
</div><div class="inner_cell">
    <div class="text_cell_render border-box-sizing rendered_html">
      <h3 id="Task-0">Task 0<a class="anchor-link" href="#Task-0">&#182;</a></h3><h4 id="(0-points)">(0 points)<a class="anchor-link" href="#(0-points)">&#182;</a></h4><p>Fill your personal details in the dictionary 'student' with the following key/value pairs:</p>
<ul>
<li><strong>Lastname</strong>: Your lastname as a string</li>
<li><strong>Firstname</strong>: Your firstname as a string</li>
<li><strong>DOB-year</strong>: The year for your date of birth as a four-digit integer</li>
<li><strong>DOB-month</strong>: The month for your date of birth as an integer (1-12)</li>
<li><strong>DOB-day</strong>: The year for your date of birth as an integer (1-31)</li>
<li><strong>CID</strong>: Your Chalmers login ID as a string</li>
</ul>

    </div>
  </div></div>

<div class="cell border-box-sizing code_cell rendered">
<div class="input">
<div class="prompt input_prompt">In&nbsp;[1]:</div><div class="panel panel-primary nbgrader_cell">
    <a name="comment-student_info"></a><div class="panel-heading"><span class="nbgrader-label">Student's answer</span><span class="pull-right"><a href="#top">(Top)</a></span></div>
    <div class="panel-body">
      <div class="input_area">
        <div class=" highlight hl-ipython3"><pre><span></span><span class="n">student</span><span class="o">=</span><span class="p">{}</span>
<span class="c1"># Update the values below. Note the formats.</span>
<span class="n">student</span><span class="p">[</span><span class="s1">&#39;Lastname&#39;</span><span class="p">]</span><span class="o">=</span><span class="s1">&#39;Sanogo &#39;</span>  <span class="c1"># string</span>
<span class="n">student</span><span class="p">[</span><span class="s1">&#39;Firstname&#39;</span><span class="p">]</span><span class="o">=</span><span class="s1">&#39;Ibrahim&#39;</span> <span class="c1"># string</span>
<span class="n">student</span><span class="p">[</span><span class="s1">&#39;CID&#39;</span><span class="p">]</span><span class="o">=</span><span class="s1">&#39;sanogo&#39;</span>        <span class="c1"># string</span>
<span class="n">student</span><span class="p">[</span><span class="s1">&#39;DOB-year&#39;</span><span class="p">]</span><span class="o">=</span><span class="mi">1999</span>        <span class="c1"># four-digit integer</span>
<span class="n">student</span><span class="p">[</span><span class="s1">&#39;DOB-month&#39;</span><span class="p">]</span><span class="o">=</span><span class="mi">1</span>           <span class="c1"># integer in the range [1, 12]</span>
<span class="n">student</span><span class="p">[</span><span class="s1">&#39;DOB-day&#39;</span><span class="p">]</span><span class="o">=</span><span class="mi">16</span>            <span class="c1"># integer in the range [1, 31]</span>

<span class="c1"># </span>
<span class="c1"># YOUR CODE HERE</span>
<span class="c1"># </span>
</pre></div>

      </div>
    </div>
    
  </div>
</div>

</div>
<div class="cell border-box-sizing code_cell rendered">
<div class="input">
<div class="prompt input_prompt">In&nbsp;[2]:</div><div class="panel panel-primary nbgrader_cell">
    <a name="correct_student_info"></a><div class="panel-heading"><span class="nbgrader-label">Grade cell: <code>correct_student_info</code></span>
  <span class="pull-right">
      Score: 0.0 / 0.0 <a href="#top">(Top)</a>
  </span></div>
    <div class="panel-body">
      <div class="input_area">
        <div class=" highlight hl-ipython3"><pre><span></span><span class="k">for</span> <span class="n">key</span> <span class="ow">in</span> <span class="p">[</span><span class="s1">&#39;Lastname&#39;</span><span class="p">,</span> <span class="s1">&#39;Firstname&#39;</span><span class="p">,</span><span class="s1">&#39;CID&#39;</span><span class="p">]:</span>
    <span class="k">assert</span> <span class="nb">type</span><span class="p">(</span><span class="n">student</span><span class="p">[</span><span class="n">key</span><span class="p">])</span> <span class="ow">is</span> <span class="nb">str</span><span class="p">,</span> <span class="sa">f</span><span class="s1">&#39;</span><span class="si">{</span><span class="n">key</span><span class="si">}</span><span class="s1"> is wrong type.&#39;</span>
    <span class="k">assert</span> <span class="n">student</span><span class="p">[</span><span class="n">key</span><span class="p">]</span> <span class="ow">not</span> <span class="ow">in</span> <span class="p">[</span><span class="s1">&#39;name_here&#39;</span><span class="p">,</span><span class="s1">&#39;cid_here&#39;</span><span class="p">],</span>\
        <span class="sa">f</span><span class="s1">&#39;Fill your </span><span class="si">{</span><span class="n">key</span><span class="si">}</span><span class="s1"> as a string.&#39;</span>

<span class="k">for</span> <span class="n">key</span> <span class="ow">in</span> <span class="p">[</span><span class="s1">&#39;DOB-year&#39;</span><span class="p">,</span> <span class="s1">&#39;DOB-month&#39;</span><span class="p">,</span><span class="s1">&#39;DOB-day&#39;</span><span class="p">]:</span>
    <span class="k">assert</span> <span class="nb">type</span><span class="p">(</span><span class="n">student</span><span class="p">[</span><span class="n">key</span><span class="p">])</span> <span class="ow">is</span> <span class="nb">int</span><span class="p">,</span> <span class="sa">f</span><span class="s1">&#39;</span><span class="si">{</span><span class="n">key</span><span class="si">}</span><span class="s1"> is wrong type.&#39;</span>

<span class="k">assert</span> <span class="p">(</span><span class="n">student</span><span class="p">[</span><span class="s1">&#39;DOB-year&#39;</span><span class="p">]</span> <span class="o">&gt;</span> <span class="mi">1900</span> <span class="ow">and</span> <span class="n">student</span><span class="p">[</span><span class="s1">&#39;DOB-year&#39;</span><span class="p">]</span> <span class="o">&lt;</span> <span class="mi">2100</span><span class="p">)</span>
<span class="k">assert</span> <span class="n">student</span><span class="p">[</span><span class="s1">&#39;DOB-month&#39;</span><span class="p">]</span> <span class="ow">in</span> <span class="nb">range</span><span class="p">(</span><span class="mi">1</span><span class="p">,</span><span class="mi">13</span><span class="p">),</span> \
    <span class="s1">&#39;DOB month should be an integer in the range [1, 12]&#39;</span>
<span class="k">assert</span> <span class="n">student</span><span class="p">[</span><span class="s1">&#39;DOB-day&#39;</span><span class="p">]</span> <span class="ow">in</span> <span class="nb">range</span><span class="p">(</span><span class="mi">1</span><span class="p">,</span><span class="mi">32</span><span class="p">),</span> \
    <span class="s1">&#39;DOB day should be an integer in the range [1, 31]&#39;</span>
</pre></div>

      </div>
    </div>
    
  </div>
</div>

</div>
<div class="cell border-box-sizing text_cell rendered">
  <div class="prompt input_prompt">
</div><div class="inner_cell">
    <div class="text_cell_render border-box-sizing rendered_html">
      <h1 id="Problem-Set-1">Problem Set 1<a class="anchor-link" href="#Problem-Set-1">&#182;</a></h1><h2 id="Extra-problems">Extra problems<a class="anchor-link" href="#Extra-problems">&#182;</a></h2><h3 id="Learning-from-data-[TIF285],-Chalmers,-Fall-2020">Learning from data [TIF285], Chalmers, Fall 2020<a class="anchor-link" href="#Learning-from-data-[TIF285],-Chalmers,-Fall-2020">&#182;</a></h3><p>Last revised: 29-Aug-2020 by Christian Forssén [christian.forssen@chalmers.se]</p>

    </div>
  </div></div>

<div class="cell border-box-sizing text_cell rendered">
  <div class="prompt input_prompt">
</div><div class="inner_cell">
    <div class="text_cell_render border-box-sizing rendered_html">
      <h2 id="Instructions">Instructions<a class="anchor-link" href="#Instructions">&#182;</a></h2><ul>
<li>See deadline on the course web page</li>
<li>This problem set is performed individually (but collaboration is encouraged).</li>
<li>The two notebooks for each problem set contain a number of basic and extra problems; you can choose which and how many to work on.</li>
<li>See examination rules on the course web page.</li>
<li><p>Hand-in is performed through the following action:</p>
<ul>
<li>Make sure to always complete <strong>Task 0</strong> in the *"Basic problems" notebook. This corresponds to providing your personal details and is needed for examination.</li>
<li>Upload your solution in the form of your edited version of this jupyter notebook via Canvas.</li>
<li>The name of the uploaded file <strong>must be the same as the original one</strong>!</li>
</ul>
<p>Note that the hand-in might not be automatically graded if you have changed the name of the uploaded file.</p>
</li>
</ul>

    </div>
  </div></div>

<div class="cell border-box-sizing code_cell rendered">
<div class="input">
<div class="prompt input_prompt">In&nbsp;[3]:</div><div class="panel panel-primary nbgrader_cell">
    <a name="comment-cell-30c16b2db381306f"></a><div class="panel-heading"><span class="nbgrader-label">Student's answer</span><span class="pull-right"><a href="#top">(Top)</a></span></div>
    <div class="panel-body">
      <div class="input_area">
        <div class=" highlight hl-ipython3"><pre><span></span><span class="c1"># import modules</span>

<span class="kn">import</span> <span class="nn">numpy</span> <span class="k">as</span> <span class="nn">np</span>
<span class="kn">import</span> <span class="nn">matplotlib.pyplot</span> <span class="k">as</span> <span class="nn">plt</span>
<span class="kn">import</span> <span class="nn">pandas</span> <span class="k">as</span> <span class="nn">pd</span>
<span class="kn">import</span> <span class="nn">emcee</span> <span class="k">as</span> <span class="nn">emcee</span>
<span class="kn">import</span> <span class="nn">scipy</span> <span class="k">as</span> <span class="nn">scipy</span>
<span class="kn">import</span> <span class="nn">sklearn</span>
<span class="kn">from</span> <span class="nn">mpl_toolkits</span> <span class="kn">import</span> <span class="n">mplot3d</span>
<span class="kn">from</span> <span class="nn">mpl_toolkits.mplot3d</span> <span class="kn">import</span> <span class="n">axes3d</span>
<span class="c1"># </span>
</pre></div>

      </div>
    </div>
    
  </div>
</div>

</div>
<div class="cell border-box-sizing text_cell rendered">
  <div class="prompt input_prompt">
</div><div class="inner_cell">
    <div class="text_cell_render border-box-sizing rendered_html">
      <h2 id="Problem-5-(extra)">Problem 5 (extra)<a class="anchor-link" href="#Problem-5-(extra)">&#182;</a></h2><h3 id="(3-points)">(3 points)<a class="anchor-link" href="#(3-points)">&#182;</a></h3>
    </div>
  </div></div>

<div class="cell border-box-sizing text_cell rendered">
  <div class="prompt input_prompt">
</div><div class="inner_cell">
    <div class="text_cell_render border-box-sizing rendered_html">
      <h4 id="Reload-the-third-dataset-from-Problem-3">Reload the third dataset from Problem 3<a class="anchor-link" href="#Reload-the-third-dataset-from-Problem-3">&#182;</a></h4>
    </div>
  </div></div>

<div class="cell border-box-sizing code_cell rendered">
<div class="input">
<div class="prompt input_prompt">In&nbsp;[4]:</div><div class="inner_cell">
    <div class="input_area">
      <div class=" highlight hl-ipython3"><pre><span></span><span class="n">datafile</span> <span class="o">=</span> <span class="s1">&#39;DataFiles/dataset3.dat&#39;</span>
<span class="n">X</span><span class="p">,</span> <span class="n">y</span> <span class="o">=</span> <span class="n">np</span><span class="o">.</span><span class="n">loadtxt</span><span class="p">(</span><span class="n">datafile</span><span class="p">,</span> <span class="n">unpack</span><span class="o">=</span><span class="kc">True</span><span class="p">)</span>
<span class="n">m</span> <span class="o">=</span> <span class="nb">len</span><span class="p">(</span><span class="n">X</span><span class="p">)</span>
<span class="n">X</span> <span class="o">=</span> <span class="n">X</span><span class="o">.</span><span class="n">reshape</span><span class="p">(</span><span class="n">m</span><span class="p">,</span><span class="mi">1</span><span class="p">);</span> <span class="n">y</span> <span class="o">=</span> <span class="n">y</span><span class="o">.</span><span class="n">reshape</span><span class="p">(</span><span class="n">m</span><span class="p">,</span><span class="mi">1</span><span class="p">)</span>
</pre></div>

    </div>
  </div>
</div>

</div>
<div class="cell border-box-sizing text_cell rendered">
  <div class="prompt input_prompt">
</div><div class="panel panel-primary nbgrader_cell">
    <a name="comment-cell-10862146b5aeebc1"></a><div class="panel-heading"><span class="nbgrader-label">Student's task</span>
  <span class="pull-right">
      Score: 3.0 / 3.0 <a href="#top">(Top)</a>
  </span></div>
    <div class="panel-body">
      <div class="text_cell_render border-box-sizing rendered_html">
        <h4 id="Validation-curves">Validation curves<a class="anchor-link" href="#Validation-curves">&#182;</a></h4><p>Create a validation curve for the polynomial model (for different degrees) where you plot the training score and the validation score as a function of the model complexity.</p>
<ul>
<li>The model complexity is simply the degree of the polynomial.</li>
<li>For the computation of training and validation scores you are encouraged to use cross-validation which is more stable than the use of a single, random pair of training and validation sets.</li>
</ul>
<p>Question to ponder:</p>
<ul>
<li>From this curve: Which order polynomial do you think was used when generating the data?</li>
</ul>
<p><em>Hint:</em> <code>scikit-learn</code> has a function <code>validation_curve</code> that might be useful. However, it is certainly instructive to implement the calculation of learning curves yourself.</p>

      </div>
    </div>
    
  </div></div>

<div class="cell border-box-sizing code_cell rendered">
<div class="input">
<div class="prompt input_prompt">In&nbsp;[5]:</div><div class="panel panel-primary nbgrader_cell">
    <a name="comment-cell-4c0faa3d3a1db40e"></a><div class="panel-heading"><span class="nbgrader-label">Student's answer</span><span class="pull-right"><a href="#top">(Top)</a></span></div>
    <div class="panel-body">
      <div class="input_area">
        <div class=" highlight hl-ipython3"><pre><span></span><span class="kn">from</span> <span class="nn">sklearn.model_selection</span> <span class="kn">import</span> <span class="n">cross_val_score</span>
<span class="kn">from</span> <span class="nn">sklearn</span> <span class="kn">import</span> <span class="n">datasets</span><span class="p">,</span> <span class="n">linear_model</span>
<span class="kn">from</span> <span class="nn">sklearn.preprocessing</span> <span class="kn">import</span> <span class="n">PolynomialFeatures</span>
<span class="kn">from</span> <span class="nn">sklearn.model_selection</span> <span class="kn">import</span> <span class="n">validation_curve</span>
<span class="kn">from</span> <span class="nn">sklearn.metrics</span> <span class="kn">import</span> <span class="n">mean_squared_error</span>
<span class="kn">from</span> <span class="nn">sklearn.model_selection</span> <span class="kn">import</span> <span class="n">train_test_split</span>
<span class="kn">from</span> <span class="nn">sklearn.pipeline</span> <span class="kn">import</span> <span class="n">Pipeline</span>
<span class="kn">from</span> <span class="nn">sklearn.linear_model</span> <span class="kn">import</span> <span class="n">LinearRegression</span>
<span class="kn">from</span> <span class="nn">sklearn.preprocessing</span> <span class="kn">import</span> <span class="n">PolynomialFeatures</span>
<span class="kn">from</span> <span class="nn">sklearn.preprocessing</span> <span class="kn">import</span> <span class="n">StandardScaler</span>
<span class="kn">from</span> <span class="nn">sklearn.pipeline</span> <span class="kn">import</span> <span class="n">Pipeline</span>
<span class="kn">import</span> <span class="nn">operator</span>


<span class="k">def</span> <span class="nf">plot_learning_curves</span><span class="p">(</span><span class="n">model</span><span class="p">,</span> <span class="n">x</span><span class="p">,</span> <span class="n">y</span><span class="p">,</span> <span class="n">ax</span><span class="o">=</span><span class="kc">None</span><span class="p">):</span>

    <span class="n">x_train</span><span class="p">,</span> <span class="n">x_val</span><span class="p">,</span> <span class="n">y_train</span><span class="p">,</span> <span class="n">y_val</span> <span class="o">=</span> <span class="n">train_test_split</span><span class="p">(</span><span class="n">x</span><span class="p">,</span> <span class="n">y</span><span class="p">,</span> <span class="n">train_size</span><span class="o">=</span><span class="mf">0.7</span><span class="p">,</span> <span class="n">random_state</span><span class="o">=</span><span class="mi">42</span><span class="p">)</span>
    
    
    <span class="n">train_errors</span><span class="p">,</span> <span class="n">val_errors</span> <span class="o">=</span> <span class="p">[],</span> <span class="p">[]</span>
    <span class="k">for</span> <span class="n">m</span> <span class="ow">in</span> <span class="nb">range</span><span class="p">(</span><span class="mi">1</span><span class="p">,</span> <span class="nb">len</span><span class="p">(</span><span class="n">x_train</span><span class="p">)):</span>
        <span class="n">model</span><span class="o">.</span><span class="n">fit</span><span class="p">(</span><span class="n">x_train</span><span class="p">[:</span><span class="n">m</span><span class="p">],</span> <span class="n">y_train</span><span class="p">[:</span><span class="n">m</span><span class="p">])</span>
        <span class="n">y_train_predict</span> <span class="o">=</span> <span class="n">model</span><span class="o">.</span><span class="n">predict</span><span class="p">(</span><span class="n">x_train</span><span class="p">[:</span><span class="n">m</span><span class="p">])</span>
        <span class="n">y_val_predict</span> <span class="o">=</span> <span class="n">model</span><span class="o">.</span><span class="n">predict</span><span class="p">(</span><span class="n">x_val</span><span class="p">)</span>
        <span class="n">train_errors</span><span class="o">.</span><span class="n">append</span><span class="p">(</span><span class="n">mean_squared_error</span><span class="p">(</span><span class="n">y_train</span><span class="p">[:</span><span class="n">m</span><span class="p">],</span> <span class="n">y_train_predict</span><span class="p">))</span>
        <span class="n">val_errors</span><span class="o">.</span><span class="n">append</span><span class="p">(</span><span class="n">mean_squared_error</span><span class="p">(</span><span class="n">y_val</span><span class="p">,</span> <span class="n">y_val_predict</span><span class="p">))</span>
        
    <span class="k">if</span> <span class="ow">not</span> <span class="n">ax</span><span class="p">:</span>
        <span class="n">fig</span><span class="p">,</span><span class="n">ax</span> <span class="o">=</span> <span class="n">plt</span><span class="o">.</span><span class="n">subplots</span><span class="p">(</span><span class="mi">1</span><span class="p">,</span><span class="mi">1</span><span class="p">)</span>
    <span class="n">ax</span><span class="o">.</span><span class="n">plot</span><span class="p">(</span><span class="n">np</span><span class="o">.</span><span class="n">sqrt</span><span class="p">(</span><span class="n">train_errors</span><span class="p">),</span> <span class="s2">&quot;r-+&quot;</span><span class="p">,</span> <span class="n">label</span><span class="o">=</span><span class="s2">&quot;train&quot;</span><span class="p">)</span>
    <span class="n">ax</span><span class="o">.</span><span class="n">plot</span><span class="p">(</span><span class="n">np</span><span class="o">.</span><span class="n">sqrt</span><span class="p">(</span><span class="n">val_errors</span><span class="p">),</span> <span class="s2">&quot;b-&quot;</span><span class="p">,</span> <span class="n">label</span><span class="o">=</span><span class="s2">&quot;validation&quot;</span><span class="p">)</span>
    <span class="n">ax</span><span class="o">.</span><span class="n">legend</span><span class="p">(</span><span class="n">loc</span><span class="o">=</span><span class="s2">&quot;best&quot;</span><span class="p">)</span>
    <span class="n">ax</span><span class="o">.</span><span class="n">set_xlabel</span><span class="p">(</span><span class="s2">&quot;Training set size&quot;</span><span class="p">)</span>
    <span class="n">ax</span><span class="o">.</span><span class="n">set_ylabel</span><span class="p">(</span><span class="s2">&quot;MSE&quot;</span><span class="p">)</span>

<span class="n">ig</span><span class="p">,</span><span class="n">axs</span> <span class="o">=</span> <span class="n">plt</span><span class="o">.</span><span class="n">subplots</span><span class="p">(</span><span class="mi">1</span><span class="p">,</span><span class="mi">2</span><span class="p">,</span><span class="n">figsize</span><span class="o">=</span><span class="p">(</span><span class="mi">14</span><span class="p">,</span><span class="mi">8</span><span class="p">))</span>

<span class="k">for</span> <span class="n">i</span><span class="p">,</span><span class="n">degree</span> <span class="ow">in</span> <span class="nb">enumerate</span><span class="p">((</span><span class="mi">3</span><span class="p">,</span><span class="mi">30</span><span class="p">)):</span>
    <span class="n">ax</span> <span class="o">=</span> <span class="n">axs</span><span class="p">[</span><span class="n">i</span><span class="p">]</span>
    <span class="n">polynomial_regression</span> <span class="o">=</span> <span class="n">Pipeline</span><span class="p">([</span>
        <span class="p">(</span><span class="s2">&quot;poly_features&quot;</span><span class="p">,</span> <span class="n">PolynomialFeatures</span><span class="p">(</span><span class="n">degree</span><span class="o">=</span><span class="n">degree</span><span class="p">,</span> <span class="n">include_bias</span><span class="o">=</span><span class="kc">False</span><span class="p">)),</span>
        <span class="p">(</span><span class="s2">&quot;lin_reg&quot;</span><span class="p">,</span> <span class="n">LinearRegression</span><span class="p">()),</span>
    <span class="p">])</span>

    <span class="n">plot_learning_curves</span><span class="p">(</span><span class="n">polynomial_regression</span><span class="p">,</span> <span class="n">X</span><span class="p">,</span> <span class="n">y</span><span class="p">,</span> <span class="n">ax</span><span class="o">=</span><span class="n">ax</span><span class="p">)</span>
    <span class="n">ax</span><span class="o">.</span><span class="n">set_title</span><span class="p">(</span><span class="sa">f</span><span class="s1">&#39;Learning curve; order: </span><span class="si">{</span><span class="n">degree</span><span class="si">}</span><span class="s1">&#39;</span><span class="p">)</span>
    <span class="n">ax</span><span class="o">.</span><span class="n">set_ylim</span><span class="p">([</span><span class="mi">0</span><span class="p">,</span><span class="mi">4</span><span class="p">]);</span>

<span class="n">Z</span><span class="o">=</span><span class="p">[]</span>

<span class="c1">#Here I also tried to get the neg MSE with the cross val_score </span>
<span class="k">def</span> <span class="nf">design_matrix</span> <span class="p">(</span><span class="n">X</span><span class="p">,</span> <span class="n">degree</span><span class="p">):</span>
   
    <span class="n">m</span> <span class="o">=</span> <span class="nb">len</span><span class="p">(</span><span class="n">X</span><span class="p">)</span>
    <span class="n">X_d</span> <span class="o">=</span> <span class="n">np</span><span class="o">.</span><span class="n">ones</span><span class="p">(</span><span class="n">X</span><span class="o">.</span><span class="n">shape</span><span class="p">)</span>
    <span class="k">for</span> <span class="n">i</span> <span class="ow">in</span> <span class="nb">range</span><span class="p">(</span><span class="mi">1</span><span class="p">,</span> <span class="n">degree</span><span class="o">+</span><span class="mi">1</span><span class="p">):</span>
        <span class="n">X_d</span> <span class="o">=</span> <span class="n">np</span><span class="o">.</span><span class="n">concatenate</span><span class="p">((</span><span class="n">X_d</span><span class="p">,</span><span class="n">X</span><span class="o">**</span><span class="n">i</span><span class="p">),</span><span class="n">axis</span><span class="o">=</span><span class="mi">1</span><span class="p">)</span>
    <span class="k">return</span> <span class="n">X_d</span>
<span class="n">i</span> <span class="o">=</span> <span class="mi">0</span> 


<span class="k">for</span> <span class="n">i</span> <span class="ow">in</span> <span class="nb">range</span><span class="p">(</span><span class="mi">1</span><span class="p">,</span><span class="mi">21</span><span class="p">):</span>
    <span class="n">regr</span> <span class="o">=</span> <span class="n">linear_model</span><span class="o">.</span><span class="n">LinearRegression</span><span class="p">()</span>
    <span class="nb">print</span><span class="p">(</span><span class="s2">&quot;Degree&quot;</span><span class="p">,</span><span class="n">i</span><span class="p">,</span> <span class="s2">&quot;, Neg MSE = &quot;</span><span class="p">,</span> <span class="n">np</span><span class="o">.</span><span class="n">mean</span><span class="p">(</span><span class="n">cross_val_score</span><span class="p">(</span><span class="n">regr</span><span class="p">,</span><span class="n">design_matrix</span><span class="p">(</span><span class="n">X</span><span class="p">,</span> <span class="n">degree</span><span class="o">=</span><span class="n">i</span><span class="p">),</span> <span class="n">y</span><span class="p">,</span> <span class="n">cv</span><span class="o">=</span><span class="mi">5</span><span class="p">,</span> <span class="n">scoring</span><span class="o">=</span><span class="s1">&#39;neg_mean_squared_error&#39;</span><span class="p">)))</span>
    <span class="n">Z</span><span class="o">.</span><span class="n">append</span><span class="p">(</span><span class="n">np</span><span class="o">.</span><span class="n">mean</span><span class="p">(</span><span class="n">cross_val_score</span><span class="p">(</span><span class="n">regr</span><span class="p">,</span><span class="n">design_matrix</span><span class="p">(</span><span class="n">X</span><span class="p">,</span> <span class="n">degree</span><span class="o">=</span><span class="n">i</span><span class="p">),</span> <span class="n">y</span><span class="p">,</span> <span class="n">cv</span><span class="o">=</span><span class="mi">5</span><span class="p">,</span> <span class="n">scoring</span><span class="o">=</span><span class="s1">&#39;neg_mean_squared_error&#39;</span><span class="p">)))</span>
<span class="n">plt</span><span class="o">.</span><span class="n">figure</span><span class="p">(</span><span class="mi">2</span><span class="p">)</span>
<span class="n">plt</span><span class="o">.</span><span class="n">plot</span><span class="p">(</span><span class="n">Z</span><span class="p">)</span>
<span class="n">plt</span><span class="o">.</span><span class="n">xlabel</span><span class="p">(</span><span class="s2">&quot;Polynomial Degree&quot;</span><span class="p">)</span>
<span class="n">plt</span><span class="o">.</span><span class="n">ylabel</span><span class="p">(</span><span class="s2">&quot;MSE&quot;</span><span class="p">)</span>
        
        
<span class="c1">#The polynomial used to generate these datas seems to be a degree 3 polynomial </span>
</pre></div>

      </div>
    </div>
    
  </div>
</div>

<div class="output_wrapper">
<div class="output">


<div class="output_area">

    <div class="prompt"></div>


<div class="output_subarea output_stream output_stdout output_text">
<pre>Degree 1 , Neg MSE =  -7.273776794145498
Degree 2 , Neg MSE =  -4.661469917178738
Degree 3 , Neg MSE =  -3.635512834701146
Degree 4 , Neg MSE =  -3.819132806907434
Degree 5 , Neg MSE =  -3.9305100139870346
Degree 6 , Neg MSE =  -4.04998159245757
Degree 7 , Neg MSE =  -4.107253018913026
Degree 8 , Neg MSE =  -4.278538780132335
Degree 9 , Neg MSE =  -4.374484322254768
</pre>
</div>
</div>

<div class="output_area">

    <div class="prompt"></div>


<div class="output_subarea output_stream output_stdout output_text">
<pre>Degree 10 , Neg MSE =  -4.674407822732057
Degree 11 , Neg MSE =  -4.696015048337033
Degree 12 , Neg MSE =  -5.923085771985325
Degree 13 , Neg MSE =  -6.281939604139238
Degree 14 , Neg MSE =  -7.226938584433289
Degree 15 , Neg MSE =  -7.053849931938721
Degree 16 , Neg MSE =  -6.230890029458691
Degree 17 , Neg MSE =  -9.813701800735203
Degree 18 , Neg MSE =  -21.135894079442146
Degree</pre>
</div>
</div>

<div class="output_area">

    <div class="prompt"></div>


<div class="output_subarea output_stream output_stdout output_text">
<pre> 19 , Neg MSE =  -45.84711386652988
Degree 20 , Neg MSE =  -9.288860598064684
</pre>
</div>
</div>

<div class="output_area">

    <div class="prompt output_prompt">Out[5]:</div>




<div class="output_text output_subarea output_execute_result">
<pre>Text(0, 0.5, &#39;MSE&#39;)</pre>
</div>

</div>

<div class="output_area">

    <div class="prompt"></div>




<div class="output_png output_subarea ">
<img src="data:image/png;base64,iVBORw0KGgoAAAANSUhEUgAAA0AAAAHwCAYAAACPNg8eAAAABHNCSVQICAgIfAhkiAAAAAlwSFlzAAALEgAACxIB0t1+/AAAADh0RVh0U29mdHdhcmUAbWF0cGxvdGxpYiB2ZXJzaW9uMy4xLjEsIGh0dHA6Ly9tYXRwbG90bGliLm9yZy8QZhcZAAAgAElEQVR4nOzdeZhT5d3G8fvHMLIjCMOiyOargCCyiVZcoFqraN21uO9W61Kt9nVtGWyt1VpFRWqx1eKGtbi2Aq22rlVUQBxB9MUqyKKyKDDsMDzvH7+EzAyZmWQmmUyS7+e6znWSk5OTJxHnyZ1nsxCCAAAAACAfNMp0AQAAAACgvhCAAAAAAOQNAhAAAACAvEEAAgAAAJA3CEAAAAAA8gYBCAAAAEDeIAAhp5nZVDM7J9PlyFZmNtzMFme6HACQK6iX6oZ6CalAAEJamNkCMzs80+UIIRwVQpiY6XIgPjO7ysw+M7M1ZrbUzO42s8aZLheA3EO9hETUVC+ZWXcze8XM1pvZxw3h3xSSRwBC1sqFL8oN6T2kuiwJXu9vkgaFEFpL6idpX0lXprIcAFBfGtLf9NpqSO+hgdZLkyS9L6mdpJskTTazolSWE+lHAEK9M7NjzGy2ma0ys7fMrH+5x643s/+aWamZfWRmJ5R77Fwz+0/k15hvJBVHjr1pZnea2bdm9rmZHVXuOa+a2YXlnl/duT3M7PXIa79sZveb2WPVvI/jIu9jTaTMR0aOV/iV0cyKo9eJ/HIUzOwCM/tC0r/NbJqZXV7p2h+Y2YmR273N7CUz+8bMPjGzU8udd7qZlVRTxl3N7IXIcz81s4sqlWuymT1mZmsknWtmzczsz5HP5yNJ+8W53tNmtjzy+V1Z3fWqKldUCOG/IYRV0UtI2ibpf2p6HgCkEvUS9VJUdfWSme0laZCk0SGEDSGEpyV9KOmkmq6LhoUAhHplZoMkPSTpR/JfT/4g6QUzaxI55b+SDpa0s6Qxkh4zs87lLrG/pM8kdZB0a7ljn0hqL+kOSX8yM6uiCNWd+4SkdyPlKpZ0VjXvY6ikRyT9TFIbSYdIWlDT+y/nUEl9JH0/8rqnlbv23pK6SXrRzFpIeilyTofIeePNrK8khRCeCCH0V9UmSVosaVdJJ0v6tZkdVu7x4yRNjryHxyWNlrRHZPu+pO391M2skfyXsQ8k7SbpMElXmdn3q7qemR1kZqtUjUhluUbSCvkvbX+o7nwASCXqpe2ol2LXrape6ivpsxBCabnTP4gcRxYhAKG+XSTpDyGEd0IIZZF+0JskHSBJIYS/hhCWhhC2hRD+Imm+pKHlnr80hHBfCGFrCGFD5NjCEMKDIYQySRMldZbUsYrXj3uumXWV/6r0ixDC5hDCm5JeqOZ9XCDpoRDCS5GyLgkhfJzE51AcQlgXeQ/PShpgZt0ij50h6ZkQwiZJx0haEEJ4OPKeZ0l6Wl5pVMvMdpd0kKTrQggbQwizJf1RFSvQt0MIz0XewwZJp0q6NYTwTQhhkaR7y527n6SiEMItkc/oM0kPShpV1fVCCG+GENpUV85IZdla0l6SHpD0dU3vDQBSiHrJUS9FVFMvtZS0utLpqyW1qum9o2EhAKG+dZN0TaSbwarIrzC7y38JkpmdXa4bwip5/9v25Z6/KM41v4reCCGsj9xsWcXrV3XurpK+KXesqteK2l3+q2Btbb925JekFxX7gz1K/quX5J/X/pU+rzMkdUrgNaLvqfwvVQvlv5LtUI5yzyl/bGG5290k7VqpLDeqYqVe3WdWrRDCfElzJY2v7TUAoBaolypdm3rJxamX1kpqXem01pJKhazSYAa6IW8skv+Sc2vlByK/ND0ob8J+O4RQZmaz5X1wo0KayvWlpF3MrHm5ymb3as5fJG+Oj2edpObl7serFCq/j0mSRpvZ65KaSXql3Ou8FkL4XnWFr8JS+XtqVa6y6SppSTXl+FL+vueWOz9qkaTPQwh7VvOadf3v01hVf64AkA7US456Kb7y9dJcST0rlX9feXdAZBFagJBOhWbWtNzWWF6RXGJm+5trYWZHm1krSS3kf6iWS5KZnSf/pS3tQggLJc2QD2Ddycy+I+kH1TzlT5LOM7PDzKyRme1mZr0jj82WNMrMCs1siBLoFiBpivyXrFsk/SWEsC1y/O+S9jKzsyLXKzSz/cysj7R9AO2CKt7TIklvSbot8vn3l3eReDze+RFPSbrBzNqaWRdJV5R77F1Ja8zsusig1AIz62dm+8W/VM3M7EIz6xC5vbekGyT9q7bXA4AaUC9RL1WrunophPB/8s9ydKT8J0jqL+8CiCxCAEI6TZG0odxWHEKYIe9vPU7St5I+VWRWlhDCR5J+J+lteX/bfST9px7Le4ak70haKelXkv4i7we+gxDCu5LOk3S3vP/va/KKQpJ+Lv+16Fv5gNkafxmK9Kt+RtLh5c+P/MJ0hLz7wVJ5V4nbJUUH5+6u6j+j0yR1jzz3WfnMNS9Vc/4YefeCzyX9U9Kj5cpSJq98B0QeXyHvu71zVRczs4PNbG01rzdM0odmtk7+72WKvPsCAKQD9RL1Ul3rpVGShsg/y99IOjmEsLya66EBshDS1XILZDcz+4ukj0MIozNdlqqY2T8l/SSEMC/TZQEApBf1EpAaBCAgItJk/o38V6QjJD0n6TshhPczWjAAQF6iXgLSI+1d4CL9Md83s7/HeczM7F7zhbBKzOfiBzKlk6RX5bO83CvpUioZIPdRT6EBo14C0qA+ZoH7iaR52nHaQEk6StKekW1/Sb+P7IF6F0L4m3xBNQD5hXoKDRL1EpAeaW0BiszWcbR8QFo8x0l6JLjpktpYxdWVAQBIG+opAMg/6e4CN1bS/0raVsXju6niAlWLVXExLAAA0ol6CgDyTNq6wJnZMZKWhRBmmtnwqk6Lc2yHWRnM7GJJF0tSixYtBvfu3XuHJyXqgw+ktm2lrl1rPleSvvlG+vxzqV8/qUmTms8HgHwwc+bMFSGEokyXoy4aYj31ySe+79WrVk8HAERUV0+lcwzQMEnHmtlISU0ltTazx0IIZ5Y7Z7EqrmrcRT4vfAUhhAmSJkjSkCFDwowZM2pdqPbtpVNOke6/P7HzJ02STj9dmjyZCgkAosxsYabLkAINrp4aPtz3r75aq6cDACKqq6fS1gUuhHBDCKFLCKG7fNGof1eqVCTpBUlnR2bZOUDS6hDCl+kqk5dLsni/51WhUeQT2lZV5wgAQFZqqPUUACC96mMWuArM7BJJCiE8IF9dd6R81eX18hWM0yqEWKhJBAEIAPJLpuspAEB61UsACiG8Kp/HPlqhRI8HSZfVRxmitm2rXQtQWVl6ygMAyLyGVE8BANKr3luAMi3ZLnAFBb6nBQjIDlu2bNHixYu1cePGTBclJzRt2lRdunRRYWFhposCADmBeiq1alNPEYBqQBc4ILssXrxYrVq1Uvfu3WXJ/M+OHYQQtHLlSi1evFg9evTIdHEAICdQT6VObeupdK8D1OAwBgjIbRs3blS7du2oVFLAzNSuXTt+pQSAFKKeSp3a1lN5F4AYAwTkPiqV1OGzBIDU429r6tTms8y7AMQYIADptGrVKo0fPz7p540cOVKrVq1KQ4kAAIihniIA1YgucECeKC5OyWWqqljKamhGnjJlitq0aZOSMgAAchD1VMrkZQBiDBCAHYwZk5LLXH/99frvf/+rAQMGaL/99tOIESN0+umna5999pEkHX/88Ro8eLD69u2rCRMmbH9e9+7dtWLFCi1YsEB9+vTRRRddpL59++qII47Qhg0bUlI2AEAWo55KmbybBY4xQEAeueoqafbsxM8fPrzmcwYMkMaOrfLh3/zmN5ozZ45mz56tV199VUcffbTmzJmzfXaahx56SLvssos2bNig/fbbTyeddJLatWtX4Rrz58/XpEmT9OCDD+rUU0/V008/rTPPPDPx9wEAyA7UUxmRdwGIMUAAtluwQFq4MHb/tdd8362b1L17Sl5i6NChFabmvPfee/Xss89KkhYtWqT58+fvULH06NFDAwYMkCQNHjxYCxYsSElZAABZhnoqLQhANaALHJDFqvkFbAdm/gcixVq0aLH99quvvqqXX35Zb7/9tpo3b67hw4fHnbqzSZMm228XFBRkXdcCAECCqKcygjFANSAAAUhGq1atVFpaGvex1atXq23btmrevLk+/vhjTZ8+vZ5LBwDId9RTedgCxBggAHGNHp2Sy7Rr107Dhg1Tv3791KxZM3Xs2HH7Y0ceeaQeeOAB9e/fX7169dIBBxyQktcEAOQB6qmUybsAJDEGCEAcKZpeVJKeeOKJuMebNGmiqVOnxn0s2n+6ffv2mjNnzvbj1157bcrKBQDIYtRTKZNXXeCi3SbpAgcAAADkp7wKQNEQwyQIAAAAQH7KqwAUbQFiDBAAAACQnwhANWAMEAAAAJA78jIAMQYIAAAAyE95FYAYAwQAAADkt7wKQIwBAtDQtGzZUpK0dOlSnXzyyXHPGT58uGbMmFHtdcaOHav169dvvz9y5EitWrUqdQUFAOSlXKynCEA1YAwQgPqw6667avLkybV+fuWKZcqUKWrTpk0qigYAQE7VU3kZgBgDBCBdrrvuOo0fP377/eLiYo0ZM0aHHXaYBg0apH322UfPP//8Ds9bsGCB+vXrJ0nasGGDRo0apf79++uHP/yhNmzYsP28Sy+9VEOGDFHfvn01OrIq+L333qulS5dqxIgRGjFihCSpe/fuWrFihSTprrvuUr9+/dSvXz+NHTt2++v16dNHF110kfr27asjjjiiwusAAHIT9ZTUOCVXyRKMAQLyy1VXSbNnp/aaAwZIkb/NcY0aNUpXXXWVfvzjH0uSnnrqKU2bNk1XX321WrdurRUrVuiAAw7QscceK6vij9Hvf/97NW/eXCUlJSopKdGgQYO2P3brrbdql112UVlZmQ477DCVlJToyiuv1F133aVXXnlF7du3r3CtmTNn6uGHH9Y777yjEIL2339/HXrooWrbtq3mz5+vSZMm6cEHH9Spp56qp59+WmeeeWbdPyQAQEKopzJTT+VlCxBjgACky8CBA7Vs2TItXbpUH3zwgdq2bavOnTvrxhtvVP/+/XX44YdryZIl+vrrr6u8xuuvv779D3z//v3Vv3//7Y899dRTGjRokAYOHKi5c+fqo48+qrY8b775pk444QS1aNFCLVu21Iknnqg33nhDktSjRw8NGDBAkjR48GAtWLCgju8eANDQUU/lWQtQXQIQLUBA9qnuF7B0OvnkkzV58mR99dVXGjVqlB5//HEtX75cM2fOVGFhobp3766NGzdWe414v7p9/vnnuvPOO/Xee++pbdu2Ovfcc2u8Toj+4YujSZMm228XFBTQBQ4A6hn1VGbqqbxsAUpmDBCTIABI1qhRo/Tkk09q8uTJOvnkk7V69Wp16NBBhYWFeuWVV7Rw4cJqn3/IIYfo8ccflyTNmTNHJSUlkqQ1a9aoRYsW2nnnnfX1119r6tSp25/TqlUrlZaWxr3Wc889p/Xr12vdunV69tlndfDBB6fw3QIAsk2+11N51QLEGCAA9aFv374qLS3Vbrvtps6dO+uMM87QD37wAw0ZMkQDBgxQ7969q33+pZdeqvPOO0/9+/fXgAEDNHToUEnSvvvuq4EDB6pv377q2bOnhg0btv05F198sY466ih17txZr7zyyvbjgwYN0rnnnrv9GhdeeKEGDhxIdzcAyGP5Xk9Zdc1ODdGQIUNCTfOMV2XlSql9e+mee6Qrr0zsOStWSEVF0r33SldcUauXBVCP5s2bpz59+mS6GDkl3mdqZjNDCEMyVKQGrS711PDhvn/11ZQVB0ADQz2VesnWU3nZBY4WIAAAACA/5WUAYgwQAAAAkJ/yKgAxBggAAADIb3kVgFgHCMgP2Ta2sSHjswSA1ONva+rU5rPMywCUTBc4WoCA7NK0aVOtXLmSyiUFQghauXKlmjZtmumiAEDOoJ5KndrWU0yDXQPGAAHZpUuXLlq8eLGWL1+e6aLkhKZNm6pLly6ZLgYA5AzqqdSqTT2VVwGIWeCA3FdYWKgePXpkuhgAAMRFPZV5edkFjjFAAAAAQH7KywCUzBigaFiiBQgAAADIfnkVgGozBsjMAxMBCAAAAMh+eRWAatMFTiIAAQAAALmCAJQAAhAAAACQG/IyACUzBih6PpMgAAAAANkvrwJQbcYASb4WEC1AAAAAQPbLqwBEFzgAAAAgvxGAEkAAAgAAAHJDXgYgxgABAAAA+SmvAhBjgAAAAID8lrYAZGZNzexdM/vAzOaa2Zg45ww3s9VmNjuy/SJd5ZHoAgcAiGmI9RQAIP0ap/HamyR9N4Sw1swKJb1pZlNDCNMrnfdGCOGYNJZjOwIQAKCcBldPAQDSL20BKIQQJK2N3C2MbCFdr5cIxgABAKIaYj0FAEi/tI4BMrMCM5staZmkl0II78Q57TuR7gdTzaxvFde52MxmmNmM5cuX17o8jAECAJTX0OopAED6pTUAhRDKQggDJHWRNNTM+lU6ZZakbiGEfSXdJ+m5Kq4zIYQwJIQwpKioqA7l8T1d4AAAUsOrpwAA6Vcvs8CFEFZJelXSkZWOrwkhrI3cniKp0Mzap68cvq9NFzgCEADkroZSTwEA0i+ds8AVmVmbyO1mkg6X9HGlczqZeXuMmQ2NlGdluspU2y5wjAECgNzTEOspAED6pXMWuM6SJppZgbzCeCqE8Hczu0SSQggPSDpZ0qVmtlXSBkmjIoNS04IucACAchpcPQUASL90zgJXImlgnOMPlLs9TtK4dJVhx9f2PZMgAAAaYj0FAEi/ehkD1FAwBggAAADIb3kVgBgDBAAAAOS3vApAjAECAAAA8hsBKAGMAQIAAAByQ14GIMYAAQAAAPkprwIQY4AAAACA/JZXAYgxQAAAAEB+IwAlgDFAAAAAQG7IywDEGCAAAAAgP+VVAGIMEAAAAJDf8ioAMQYIAAAAyG8EoAQwBggAAADIDXkVgKIhhjFAAAAAQH7KqwBUly5wjAECAAAAsh8BKAG0AAEAAAC5IS8DULJd4BgDBAAAAOSGvApAdZkGmwAEAAAAZL+8CkCMAQIAAADyGwEoAbQAAQAAALkhLwMQY4AAAACA/JRXAYgxQAAAAEB+y6sAxBggAAAAIL8RgBJACxAAAACQG/IyADEGCAAAAMhPeRWAGAMEAAAA5Le8CkCMAQIAAADyGwEoAbQAAQAAALkhLwNQsmOACEAAAABAbsirAFTbMUBMggAAAADkhrwKQHSBAwAAAPJbXgag2nSBYxIEAAAAIPvlVQBiGmwAAAAgv+VVAKptFzjGAAEAAAC5gQCUAFqAAAAAgNyQlwGIMUAAAABAfsqrAMQYIAAAACC/5VUAYgwQAAAAkN8IQAmgBQgAAADIDXkZgGozBiiE2PMBAAAAZKe8CkB1GQNU/vkAAAAAslNeBaC6jAGSCEAAAABAtmuc6QLUp7qMAZIIQACA9BowINMlAIDcl1cB6IILpNNOk3beObnnRQMQawEBANJp7NhMlwAAcl9eBaAmTXxLFi1AAAAAQG7IqzFAtcUYIAAAACA3pC0AmVlTM3vXzD4ws7lmNibOOWZm95rZp2ZWYmaD0lWeuqAFCAByTy7VUwCAxKWzC9wmSd8NIaw1s0JJb5rZ1BDC9HLnHCVpz8i2v6TfR/YNCmOAACAn5Uw9BQBIXNpagIJbG7lbGNkqLyV6nKRHIudOl9TGzDqnq0y1RQsQAOSeXKqnAACJS+sYIDMrMLPZkpZJeimE8E6lU3aTtKjc/cWRYw0KY4AAIDflSj0FAEhcWgNQCKEshDBAUhdJQ82sX6VT4q3IU/nXN5nZxWY2w8xmLF++PB1FrRYtQACQm3KlngIAJK5eZoELIayS9KqkIys9tFjS7uXud5G0NM7zJ4QQhoQQhhQVFaWtnFVhDBAA5LZsr6cAAIlL5yxwRWbWJnK7maTDJX1c6bQXJJ0dmWXnAEmrQwhfpqtMtUULEADknlyqpwAAiUvnLHCdJU00swJ50HoqhPB3M7tEkkIID0iaImmkpE8lrZd0XhrLU2uMAQKAnJQz9RQAIHFpC0AhhBJJA+Mcf6Dc7SDpsnSVIVVoAQKA3JNL9RQAIHH1MgYo2zEGCAAAAMgNBKAE0AIEAAAA5AYCUAIIQAAAAEBuIAAlgEkQAAAAgNxAAEoAY4AAAACA3EAASgBd4AAAAIDcQABKAAEIAAAAyA0EoAQwBggAAADIDQSgBDAGCAAAAMgNBKAE0AUOAAAAyA0EoAQQgAAAAIDcQABKAGOAAAAAgNxAAEoAY4AAAACA3EAASgBd4AAAAIDcQABKAAEIAAAAyA0EoAQwBggAAADIDQSgBNACBAAAAOQGAlACmAQBAAAAyA0EoATQAgQAAADkBgJQAhgDBAAAAOQGAlACaAECAAAAcgMBKAHRALR1a2bLAQAAAKBuCEAJ6NJFatpU+sc/Ml0SAAAAAHVBAEpA27bSeedJjz4qLV2a6dIAAAAAqC0CUIKuvda7wN1zT6ZLAgAAAKC2CEAJ6tlTOuUU6YEHpNWrM10aAAAAALVBAErC//6vtGaNhyAAAAAA2YcAlIRBg6TDD5fGjpU2bsx0aQAAAAAkiwCUpOuuk776yidEAAAAAJBdCEBJOuwwbwn67W+lsrJMlwYAAABAMghASTLzVqD586Xnn890aQAAAAAkgwBUCyedJO2xh3T77VIImS4NAAAAgEQRgGqhoEC65BLp3Xd9PBAAAACA7EAAqqWePX2/bFlmywEAAAAgcQSgWioq8j0BCAAAAMgeBKBa6tDB9wQgAAAAIHsQgGqJAAQAAABkHwJQLbVpIzVuTAACAAAAsgkBqJbMvBWIAAQAAABkDwJQHRCAAAAAgOxCAKoDAhAAAACQXQhAdUAAAgAAALILAagOOnSQli/PdCkAAAAAJIoAVAcdOkjr1vkGAAAAoOEjANVBUZHvaQUCAAAAskPaApCZ7W5mr5jZPDOba2Y/iXPOcDNbbWazI9sv0lWedGAxVADIXvlQTwEAdtQ4jdfeKumaEMIsM2slaaaZvRRC+KjSeW+EEI5JYznShgAEAFkt5+spAMCO0tYCFEL4MoQwK3K7VNI8Sbul6/UygQAEANkrH+opAMCO6mUMkJl1lzRQ0jtxHv6OmX1gZlPNrG99lCdVomOACEAAkN1ytZ4CAOwonV3gJElm1lLS05KuCiGsqfTwLEndQghrzWykpOck7RnnGhdLuliSunbtmuYSJ65FC98IQACQvXK5ngIA7CitLUBmViivVB4PITxT+fEQwpoQwtrI7SmSCs2sfZzzJoQQhoQQhhRFm10aCBZDBYDslQ/1FACgonTOAmeS/iRpXgjhrirO6RQ5T2Y2NFKelekqUzqwGCoAZKd8qacAABWlswvcMElnSfrQzGZHjt0oqaskhRAekHSypEvNbKukDZJGhRBCGsuUch06SIsWZboUAIBayIt6CgBQUdoCUAjhTUlWwznjJI1LVxnqQ4cO0syZmS4FACBZ+VJPAQAqqpdZ4HJZUZGPAeL3QAAAAKDhIwDVUYcO0tat0qpVmS4JAAAAgJoQgOqIxVABAACA7EEAqiMCEAAAAJA9CEB1RAACAAAAsgcBqI4IQAAAAED2IADVUfvIeuAshgoAAAA0fASgOioslHbZhRYgAAAAIBsQgFKgQwcCEAAAAJANCEApEF0MFQAAAEDDRgBKAVqAAAAAgOxAAEoBAhAAAACQHQhAKdChg7RypbR1a6ZLAgAAAKA6BKAUiK4FtGJFZssBAAAAoHoEoBRoqIuhhiD95z/S2WdLt9yS6dIAAAAAmdc40wXIBdEA1FAWQ127Vnr8cWn8eKmkxI81bSr97GdSs2aZLRsAAACQSQSgFKivFqDiYg80hYW+7bSTVFAgrVsnlZZKa9b4/tNPfT9ggPTgg1K7dtKJJ0qvvCKNHJneMgIAAAANGQEoBeojAJWWeje2Tp2k1q2lLVt827pVatHCj7VqJXXpIg0dKp17rrT//pKZtGmT1Ly59OKLBCAAAADkNwJQCrRpIzVunN4A9MEHPqZnwgTpmGOSe26TJtLhh3sAGjfOQxEAAACQj5gEIQUaNZLat09vAHr/fd8PGlS75x99tLRwoTRvXurKBAAAAGQbAlCKpHsx1FmzpI4dpc6da/f8aNe3F19MXZkAAACAbEMASpH6CECDBtW++1qXLtK++xKAAAAAkN8IQCmSzgC0caM0d27tu79FjRwpvfmmtGpVasoFAAAAZBsCUIqkMwB9+KFUVlb3AHT00X6dl15KTbkAAACAbEMASpEOHXwB0g0bUn/tWbN8X9cAdMAB0i670A0OAAAA+YsAlCLRtYCWL0/9tWfNktq2lbp1q9t1CgqkI4+Upk6Vtm1LTdkAAACAbEIASpF0Lob6/vvSwIGpWb9n5Egv44wZdb8WAAAAkG0IQCmSrgC0ZYtUUlL37m9RRx7p6xZNmZKa6wEAAADZhACUIukKQPPmSZs2pS4AtWvnY4EYBwQAAIB81DjTBcgVRUW+T3UAStUECOWNHCndfLP01VdSy5bS669LL7/s3eL22ksaNsy3PfdMTbc7AAAAoKGgBShFWrSQmjVLTwBq2dLDSKocfbTvDz7YJ1c4+mhp/Hhp82bpmWek88+XevWSOnb02yGk7rUBAACATCIApYhZetYCmjVLGjDAx+2kyr77Soce6uHn2mu99efbb6Xp06UVK3zR1QkTpL59pYcfTs/MdgAAAEAm0AUuhVIdgLZtk2bPli64IHXXlDysvfpq/McaNZL23tu31q39vOXLY2OcAAAAgGxGC1AKdeokvfuu9Ic/pGZB1PnzpXXrfArsTIiOa6IFCAAAALmCAJRCo0dLPXtKl1wide0qjRnjXcpqKx0TICSDAAQAAIBcQxe4FBo8WHrvPZ9V7c47peJi6fbbvQWnqCi2dekinXOOT5xQnVmzpCZNpD596qX4OyAAAQAAINcQgFLMzCcYOPRQX8Nn3Djp44+lzz6T3nnHW4S2bvWFSJ9/XiooqPpas2ZJ/ftLhYX1V/7y2rXzPQEIAAAAuYIucGnUp6Tpzq0AACAASURBVI90//3Sv/4llZRIX37pU02PG+cLkV57bdXPDcEDUKa6v0kevNq2JQABAAAgd9ACVM/MpMsuk/7v/6SxY329nUsu2fG8hQulVasyG4Ak7wZHAAIAAECuIABlyF13SZ9+Kl1+uU+ccMQRFR/P9AQIUelY2wgAAADIFLrAZUhBgfTkk77ezimnSB995N3eVq/2MUNTpvg5/fpltpy0AAEAACCXVBuAzOzMcreHVXrs8nQVKl+0aiX9/e9Ss2bS0KFSy5ZSmzY+duhPf/JZ5Zo2zWwZCUAAGjLqKQBAsmrqAvdTSY9Fbt8nqXyHrPMljUtHofJJ167StGnSvff6hAO77hrb+vfPdOk8AK1cKW3bJjWivRBAw0M9BQBISk0ByKq4He8+amnAAOmhhzJdiviKiqSyMunbb2PTYgNAA0I9BQBISk2/6Ycqbse7jxzEYqgAGjjqKQBAUmpqAeptZiXyX9H2iNxW5H7PtJYMDUL5ANS7d2bLAgBxUE8BAJJSUwDqU9sLm9nukh6R1EnSNkkTQgj3VDrHJN0jaaSk9ZLODSHMqu1rIvVoAQLQwFFPAQCSUm0XuBDCwvKbpLXyAabtI/ers1XSNSGEPpIOkHSZme1d6ZyjJO0Z2S6W9PvavAmkDwEIOa+4ONMlQB1QTwEAklXTNNh/N7N+kdudJc2Rz6rzqJldVd1zQwhfRn8lCyGUSponabdKpx0n6ZHgpktqE3kdNBDt2/ueAIS0yET4qPyaY8bUfxmQMtRTAIBk1TQJQo8QwpzI7fMkvRRC+IGk/eUVTELMrLukgZLeqfTQbpIWlbu/WDtWPjKzi81shpnNWM438XrVpInUujUBCGkSL3zEC0WpDEpjxkhbt/r88+ec48euukr64IP6KwNSiXoKAJCUmgLQlnK3D5M0Rdr+S9m2RF7AzFpKelrSVSGENZUfjvOUHWbtCSFMCCEMCSEMKYr2yUK9YTFUpMW77/r+xRel9etjx+OFolS10syY4fudd5aOOkp65BG/f889Ph99p05+e8wYackS6euvfSGs1asTC2uEpEygngIAJKWmALTIzK4wsxPkfaqnSZKZNZNUWNPFzaxQXqk8HkJ4Js4piyXtXu5+F0lLEyk46k9RkbRsWaZLgZxRXCyZSfvv7/ePOUZq0ULaYw9p7Fg/9utfSz/6kfT970v77OPHPvmk4jVq85r77ef3o4Hrppt8v2KFNG6ctPvu3hokSV26eCBq315q08aP3Xij9PHHseuWD0WlpX4/VPpuTChKN+opAEBSagpAF0jqK+lcST8MIayKHD9A0sPVPTEyc86fJM0LIdxVxWkvSDrb3AGSVocQvky08KgfHTrQAoQUKi6Wnin3PfOf/5QOOED67DPp6qv92E03SRMm+GNzIr2bevf2EHPmmcm3CJ12mvflHDjQ74fg269+5ffbtfN/5NEWoqrcdpvUp4+0226xsHbqqdJee3mrkiT17OlBKVpuxhilG/UUACApFir/WpmqC5sdJOkNSR8q1g3hRkldJSmE8ECk8hkn6Uj59KLnhRCq/QYyZMiQMKOmLylIqQsvlKZMkZbymydSYds2adAgb4WZP79ii8nChVL37tLatd4qFGUm3XKLNH689NVXfuzuu6WzzvLwInmwitfasmaNtzatWOEBp3v3iq8Z73lmO7bkmElffunjhv75z8Te6z77SB9+6OGuR4/qXzPLmNnMEMKQTJejLqinACB3VVdPVbsOkJm9UN3jIYRjq3nsTcXvO13+nCDpsurOQeYVFfl3xxD8OyDyXF2/vL/wgk84MHGiB4PyunXzffnwE1VWFgs/krcWXX211K+fd18bM2bHco0eLb3/vgetl1/2648eveP7SVSnTtI//uG3P/vMu+2VD0rR4HTttdLvfufhR/JWIUk68kjpz3+OX9YcCEWZQD0FAEhWtS1AZrZcPvvNJPnMOBUqihDCa2ktXRz8slb/7rpLuuYa6dtvY0MhkMfitY4k+uU9BGnwYB8vM2+e1DjObzDxrlX5mJmHqAcflB591CcpkKTrrpNOOkkaMsTPiSb2++6TLr88kXeXeBmi5YgXgCqfc9tt0qRJUkmJ1KiRt4LdfLM0YoT0ne9IzZrFf24D1lBagKinAADxVFdP1TQGqJO8O0A/+UrY35O0IoTwWiYqFWQGi6Fiu3XrfP/SS9L06dLcudIXXyQ+nfXf/uYtMjfdFD/8VPW8eMf69/fub9HwI0m33y4NHepJ/ayz/Nj550uXJfkDfqJlqNyaVPl+1PXXSyec4Le3RXpa/epX0mGHSS1bSoce6sfK9zOlNShR1FMAgKRUG4BCCGUhhGkhhHPkA0o/lfSqmV1RL6VDg0AAwvZZ1Fq29PtHHOEtF/36xbqtXXmlj7GJtmJUDkUh+LGePX0ig7qIBo3i4tiEBpJPWX3ccT7u57HH/NhDD3mrSzoCRSLTYFdV1tWrpdNP90D0+ut+bLfd/HM+5pjEQ2Weo54CACSrphYgmVkTMztR0mPyftD3Soo3VShyFAEIKi72vpBRr7/uX97Lu+8+n2a6QwdviZEqduk64wxp1qzqW3+SKU88u+wiPfecv260tSoaOjIVHqp63datpccfrxiKioulXr18bSTJJ4v4yU+kyZN9TSJCUVzUUwCAZFQbgMxsoqS35GsrjAkh7BdC+GUIYUm9lA4NAgEImjtXuuEG6Qc/8PsHH7zjl/dvvvGWixUrvMuX5C0vZj4uZ9Iknwkt2jUt1Sp3P2vePD2vkwpVdZULoeJ6R++/L917r3TKKT4BgyT99KfeBXHTJr+f59NsU08BAJJVUwvQWZL2kvQTSW+Z2ZrIVmpmlVfLRo4iAOW5zZs9tLRu7ZMOVPXlvW1bH+MTQmx2t5NP9uPRdX9uvFEqrHFtytpJZIxOQ1FVWSt3kwvBJ0so7+67vQtiq1be3U/acY76/GoVop4CACSlpjFAjUIIrSJb63JbqxBC6/oqJDKrWTOflZgAlIeKi6Vf/tJbIiZMkDp2TCxoRNe86dvXpw+MuugibxGqry/o2RQEqirrL39ZMRStXesLu27Z4lOKS7GxQ8OHezfDyq1CiU7qkIWopwAAyUrbQqjpwvSimdGjh3TQQT7jMPKImXdjO/ts6eGHk3tuvKmrs+zvTUYlMu12CP7f59e/9ta36dNjj594ogeiQw+V9t3Xj2/Z4gvQrl8v7bprnf57NJRpsBsi6ikAyLy6TIMNSPJucMuWZboUSLvyX7jnz/d9ly7S2LF1uxaSl0hLW3Sdoxtu8G5x5QPNM8/4zHz77uv3d9rJtzZtPPwAAJCnCEBISFERXeByTrwv2GPGSMce61+s99rLj33xhX9prmugaajjcbJJMtNsV/68t2zZ8bnRxWIJqwCAPEIXOCTkvPOkl1+WFi3KdEmQMmY+wcEHH3jXqTfekJ56yh/r00c691zpuuvotpaNKneVi9f9sI5dEukCVzXqKQDIvOrqqTouxoF8EW0BCiHW6wZZat066f77/Xbr1tLGjTueM2+ejxNBdqK1DQCAKhGAkJCiIl92ZO1an30XWaa42KegPv54aerU2PFo+LnqKl/otFEjWnxyQeUubfECESEJAJCnGAOEhLAWUBYrK/OxPb16efg59FDpP//xx6JjRu6+O37THmNDckMOT4MNAECyCEBICAEoi916q+932UWaNk165RXpwAPjn0urAAAAyHEEICSEAJSFiou9VScaambNko48MrZIZrywQ6sAAADIcYwBQkIIQFmouFg6+GDp8MP9fuWxPYQdAACQh2gBQkIIQFnq0Ud9pjcAAABIogUICWrRQmralACUVdatkyZPlk47Tdptt0yXBgAAoEEgACEhZrG1gJAlnn3WQ9BZZ0mHHJLp0gAAADQIdIFDwoqKpGXLMl2KHFEf428eeUTq3l066KD0vxYAAECWIAAhYbQApVB0JrZ0WbJEevllb/1pxP/mAAAAUXwzQsIIQCkQgvTDH/rtVavS9zpPPOGvddZZ6XsNAACALEQAQsI6dCAA1UlxsbfGPPWU32/b1gdX/fznqe0SF4I0caJ0wAHSnnum7roAAAA5gACEhBUVSevX+4ZaKC6WJk2K3T/sMN//5S/eJa7yOj21NXu2NHeudPbZqbkeAABo+FjfL2EEICSMtYBSYMYMqUkTv/3SS9KLL0qNI5Mx7r+/NGVKLAjF+0OWyB+3Sy+VCgtjXe0AAEBuCyH++OJEvjfkYXAiACFhBKAUmDlTGjBAGj3a/1AdfbQ0b54/9t57fn/33aVp02J/yEKQSkulhQtr/uO2ZYv0zjvSMcdIu+yS9rcDAAAagOiPnqef7j1L1qzx+4mEotoGp3hq++NtPSMAIWEEoDrats0D0ODB/seguNjDTbTFZ/Nm6cEHvUXoqKP8WMeO0k47Sa1b+5TWkj82YYL01Vd+f8wY6V//ki6/XOrRw4+de279vS8AAJAZxcU+nvivf/X7kyZJo0b5OOMjj/Rjjz4qvfWWr2USbSmaNk363e+k887zc8p/r5BqH4riPS+VAStFCEBIGAGojubP95acIUPiP15YKC1e7C09UcuWSVu3Vjxv2jTpRz+SOneW9tvPjx1+uHT//T79tSQdd5z/QWyAv7oAAIAUKS6WzjxTatHC72/d6qFm2zbpH//wY2efLQ0bFvtRVfIfU6+9Vvrzn/1+9HvF7rtLd9zhxzZsqPha1S3hsXq19NOf+u3hw/2H2NGjpYcf9mNLl1Yc65xIKErjdxgCEBJGAKqjmTN9Hy8AjR7t+8qtQtHb5Y9t2+bjfCQfUxTvOtHzCUAAAOSuBQu81edHP/L7BQXSQw9V/N7w8cfSaaf57co/qka/N3z4oTRihP8Qe911fqx5c/8xtXdv6eab/dimTTs+/8QTpTZtpLvv9mOvveaz0d5yi3T++X5st918JtxOnWLd9WbP9u80UZVDURrXTCQAIWGtW3sjBQGolmbMkJo1k/r02fGxZIKKmTR+fPygROABACB/3HWXB4urr46Fmcp69YqtD1jV94Z+/aR//9uPRXuijB7t31k++US69VY/1rSpfw859ljpjTc85Dz7rDR0qI9lLn/tTZukTz/1Y+PG+WRPX38dWw5k4EAPbHvvHQtPV14pnXKKdPDBsWulAQEICTNjMdQ6mTHDJ0CIzvpWk3h/yKr645bsOQAAILstXy798Y/eBa5Ll/g/gtbme0PXrr4vLpY++shDSHQNlEsv9W5yf/ubdMghfuzBB6W3396xh8tOO0l77OG3L7tMmj69Ygh75BFp3319Mqho97n77pMmT5befNPvN2qUli79BCAkpajIh6UgSWVl0vvvVz3+J55EZ1Kp/IeLViAAAHJLvLp93Dgfp/OznyX3vES+N1Q+p1kz348fH5s4Ieqii7wlp7g4uR9vzzor1g3u66/9WOVu/2nq4WIhTU1L6TJkyJAwo/K4B9SbI4/0MXXRiclatZJ23tnH0Z1xRqZL14DNm+dNvH/+s3TOOZkuDVBnZjYzhJBEos8f1FMAUs6sYnewtWu9pebQQ70LWn2IzmBbXblSea3aXnv706uupxLsiwO422+XDjrIJzOLbiUlPsFIy5Y++Vg88+f7eLjSUm9FjW4bNkgbN3o30Y0bvaHkpptycA3P6JehZFqAAABAflu+PLa0xZdf+kxtknTyydK338YmLKgPqWyFSaTVKY1d+glASMq++/pW3rp10ne/69POv/yyz7RY3ksv+Xi20lJvMWre3LcWLXwsXdOmfryoyMfKnX++j4vba6/6e19pN3Omv+nevTNdEgAAkA2KiyvOhLbrrr4//XTvjnPIIdIBB2SkaNulMqTU4zTYdIFDSqxY4cFn2TIft9a3rx8fP94n9Nh7bx8v161b9ddZskTaZx/pf/5H+s9/fNa5nHDQQb6PDuoDshxd4KpGPQUgJULwL1Rt2/pCptF1e1as8MenTIktnI4dVFdPMQkCUqJ9e/8xolkz6fvflz77TLr8cp/046ijPMzUFH4knyb+D3/wmRSjMy5mvdpMgAAAAPLbjBk+hjg6drhFi1j4kaSRI1n0vJboAoeU6d5dmjbNW2T79JE2b/YfK37zG58cJFGnnOITg/zqVx6e9t8/bUVOu+nTpUYLFmro+vXS4MGZLg4qmT7dg3aHDt47sVcv3/fsmfhs5QAApMXEiT5O4NRTpaVLK04cUMcJAvIdVTxSqn9/6fnnpQsukG64wfe1cd99vpDwmWd640nLlqktZ3147TXpiCOkZgVdNE+d1JkWoAZl2jTppJP831ajRr5wdlSTJt4Vc9Ag3wYO9FDUpg3BCABQDzZtkiZNko4/3isfWnlSiqocKXfoobGFf2tr5519fawRI3xx45/8RPr889i2aZM/9r3v+d+FhmbuXP+b1bWrtOhz008a36+ncmpWh+w2aZLPXNivnwehjh2lVat8seuPP5bmzPHg/de/ShMmVHxu69beHbtdO//3d/75OTZhBwAg8158Ufrmm6qXzmDR8zphEgQ0aP/7v9Jvf1vxWPPm3qWutNT33/mOd5U7/HD/pT7TEycsWeJl2rLFF0Z+4pAHdNOiS/TCC9IPfpDZssHXjbvySu+q+fzzHrarEoK0cKGHoUWLfMbR6LZ4sbfylZVJBx/sQeiUU7yLdjwbNnhd9u233urUpUt2tyYxCULVqKcA1Nlxx/mA6EWLkhtHgO2qq6cIQGjQNm+WHn7Yv6T26OFbUZF/6Zw+3X+9nzpVmjXLz2/eXBo61GekGzbMuy916OBdZevD6tX+xfqzz6Q33pAG9NuqzS130eCWn2hVs8766COf8hs+jvODD7zbZFFR+l+vrEy65RbfjjtOevJJ71pdF19+6S2Vf/qTr3XVuLH/G2zc2IN4YaG/7rff+jpX5TVu7BOD9Ozp4+eii2xH/yQXFvpjvXr51qWL/ztetsxbqObOlT76yI9F/9+Ibm3bxv83v369f+YzZvi/1Ztvrv17JwBVjXoKQJ0sW+azQl19tXTHHZkuTdYiACG14q3em2FffeWB4803fca52bP9i6fkXZX69vVtr738C+b69b5+0fr13p1Oin1hNPMxIQUFFbdt26StW2NbCP7FvXPn2Hbjjd4qMGWKd49SSYm0776aXjxNB475vq64Qrrnnox8RA3Ks89KF18cm8ymWzdpv/18i7bkpTK0zp0rXXihh+Zzz5UefDC1rS8h+L+9qVO9pWfLlthWUOCBpG1baZddfF9a6iE5ui1Y4GE/yswD04YNsWPNm3tIWrkydqxtW99/+23F8jRtKnXq5P8mO3Xy55WUeGDats3P6dFD+u9/a/85E4CqRj0FoE7GjvXwM2dObF0RJI0AhNTKgplH1q6V3n3Xv/TNnRvb1qyJndO4sXdX2mmn2LHo2yor23ErKPDnRDfJv4xW/igmTvTxJZK8+er886WPP9YV43rp/vv9S/jQoWl76w3aqlU+nuuRR3xSvJ//3FtO3nvPt88/9/N69/YJME4/3b+o19amTdKvfy3ddpuP3Rk7VjrjjPprEayLEHzSn08+iW0bNviaWn37+viljh39vaxeXXGM3Jdf+vbVV76Vlvr5gwf7NmSIr6dXl8+BAFQ16ikAdTJwoH/p4O9InWQkAJnZQ5KOkbQshNAvzuPDJT0vKfKVR8+EEG6p6bpULBl2/fXS7bdLX3wh7b57pkuTlBA8sBQW+q/pqRgrtHWr9PXX/mVz6VJvbRo2rNwJl13mq8GWlWnN2kbae28/Z8aMzI9VStaiRT4ms7RUuuSS5Lvy/etf0nnn+ed0883STTft+BksW+bjch57THr9dT82bJgHolatfOxMdGvWzLdoy0jjxt6KsnmzB5/SUh8/9vHHHnruvrt+utrli1wIQNRTABqcSM8R3XuvdMUVmS5NVquunkrnENw/Sxon6ZFqznkjhHBMGsuAVCkulsaMid3v2tX3o0fHusQ1sG5xlZn5gq2p1Lixd9PdbbdKD1T+vAoK1FrS/T98Qsf/5bQKrU6Rh9Wrl4+HiW69e3uXqdatMzP+MQRvlXnhBenvf/exI1F33y397nfSqFHxWxG2bPG/4W+/7YtXv/22d/Pq1ctv77df/Nfs0EG66CLfFi6UnnhCmjzZu5atXeuhJpnfbLp1Y6FsVOvPop4C0JBMnOj7007LbDlyXNoCUAjhdTPrnq7rI0l1DSjFxZ4eor9G9O/v33CjA2LGjKnd9bMgONVKcbH3m/vVr/x+5Fv7cZIeP9ZbJSQPD9HxHvPmefe4J5/c8XI77+zTfXfs6APmu3XzfffuvlBsu3apLf6330qXXir95S8evoYN89aUY47x7laXX+7d0/7wB59Vbe+9/Z/Dv/7l2+uv+xgrybtaHXigd2e+8EJvsUlEt26+ltQNN8SOheDdwEpLfV9+27rV1+/ZaafY1q2bHwPioZ4C0KCE4Os0SKn/xRYVpHUMUKRi+Xs1XQuelrRY0lJJ14YQ5tZ0TboW1FIqxu1ER6a//77PHnDlldIf/+gL/7z2Wu2u3xDGE6UjhP33v54KTjlFevzxpN7j6tXShx/6WkqrVvkWnXr5q6+8JeWLL2KTNzRq5AHlmGN8mu3eves2tuP11338zZdfegPfj3/sLVHllZX5zGc33ODlbds2NqFBr17SYYf51NAHHug9JbNhzA2Skwtd4CTqKQANROWeI1HRnjZIWqa6wNVklqRuIYS1ZjZS0nOS9ox3opldLOliSeoa7XqFxI0f7/tFi2o/bmfWLJ9abdw4aflyH3QR7ff12mu+j37LTaRb3Lp1HqAkv16mBmeEUPvWq+pcfbU3Qdxxh/Q//5PUU3feWTroIN+qsm2bjz369FPppZekv/1Nuu463/bayycZ2H//5Iq8ZYt/DLfdJu2xh3ddq6qrWkGBz+J20knSrbf62KrvfteDT5cuyb0u0IBRTwGoH8XFXnGPHOn3M/3jcK4LIaRtk9Rd0pwEz10gqX1N5w0ePDggQaNHh+D/C1XcfvGL2OOJ+vGPQ2jaNIRvvtnxsYUL/bo77RRCQUEI550Xwvz5fiyeK66IX65oeZIpV1395jf+2medFcKMGbHjdSnDiy/6Ne+4o87FS8YXX4Tw+9+H0LNnCM2bhzBlSs3PWbEihBdeCOH660Po18+Lff75IZSWpr+8yG6SZoQ01h/1tVFPAWgwot9Jqvr+hKRUV081qu/AFWVmncy8ycDMhkpqJGll9c9CUoqL/X+jbt38/vDhvn/7bR9hHq+pNV5LyIYN3o3rpJNiC4+UF/2187PPfNazSZO8H5Tko+ejC/IUF/v9Rx7xPlX//Kcf79XLW4/KjydKt+Jif83rr/f7jz7qcwN37So9/XTty3DzzT7Pc69evq9Hu+/us7O99ZZ3gzv2WP+oK1u4ULr2WqlPH+9ifOyx0p13+ticv/7Vu7a1bFmvRQcaJOopAPXqww+9Mh89OtMlyX1VJaO6bpImSfpS0hZ5/+kLJF0i6ZLI45dLmivpA0nTJR2YyHX5ZS1JZWUhFBb6rwllZSGMHx9Cy5a+SSHceWcIU6d688G2bfF/dXjsMT/+739X/TrlW2/ite4cemjs9sCBIXz+uZ8vhbB2rTc7SCF85zu+37w5/vVTafz4WJlWrQrhrrtC6NEjduyRR0LYujW5MkSfO21a6subhDVrQjjsMC/K7bf7f9qZM0M47TRvpCsoCOGoo0L49a9DePXVENaty2hxkYWUAy1A1FMAGpR99gnh6KMzXYqcUV09lfEKKNmNiiVJX33l/5mPOsrvVxVQpBB22SXEDUAjRni/qrKy5F5bCmHy5BC+973Ya5xzTgjr18fOqSk4jRwZwqefxi9XZcmEpK1bQ9hjjxCGDo1du6oynHSSv/eayvDFF37O8ccnXo402rgxhFGjvEh9+/q+VasQrrnGey0CdZELAShdG/UUgKRt2hRC48beJx0pUV09lbEucKgnS5b4/uKLfR/tFhcig+uWL5fOPddvf/ON76NzMxcX+2xmr7winX++TzeWrA8/9FH6URMnel+raFe78vsQfMozSfrRj3yO5ylTYpMILFwYu068rnrJdFt77jl/bz/7WaypufJnM3myz+T29NM+A57kXfTKKy7255vFugI+91zs88ugJk285+I113gvxjvu8Hkw7rwzVlQAANAAfPKJf8fo3z/TJckLBKBct3ix73dYqTOifXvp4YdjC6xEXXON9ItfeDhq1CgWkpIRnQ2ufKiI3q4qHOy8s+8feEA6++yKj3Xv7sHixhtjYWfbNmnuXF+QRpI2b674nHivE4IvatOzp3TCCVWX5aSTfJN8kRtJKiz0MkQXpxkzRvrHP/z2gQcm9h7rUaNGHniiWS/68QIAgAYk+j2DAFQvCEC5LtoCFC8AVR5k17Sp7y+7TPrd76SzzpLefFM68siqA1R1ahsAouUaM6ZieIquihwd2X/CCT5av18/H/0vebNH5YBS2X/+I73zjvTTn/p8ztWV4ZZb/PWjLT8HH+z78eN99gDJF+aZONE/KwAAgGSVlPjyGXvtlemS5AUCUK5bssS/5HfsuONj8QLK6NHSfff5YjBPPOHHLrggNWVJdFaTqoJT9I9CNNQ995y3Wh17rDR/vh8bMcL348f7ojjx/Pa3Urt20nnnJV6GaFB6/XXpwgulNWt88R3JF+Q55xwPW8zcAgAAklVS4tOzFhZmuiR5gQCU6xYvljp3rrqlo7LoSsTRFhTJu4GlYkxLXZ5fvjtddFrtaOvQ88/Hxgn9+9/SRRd5QLnjDj9WfkzTxx9LL7zgrVzNmydfBkl68MGqu/U1gG5vAAAgy3z4Id3f6hEBKNctWSJ16ZLcc5Idt1Mfyr92VZMxRAPKhAle3v/7v9hjXbr4mJ/f/tbvX3ZZ3coAAACQCitX+vc1AlC9IQDlusWLazd+p6GL19WsazBcUgAAIABJREFUckDZc0/fv/aa1KmTd1N76CE/1qFD+soBAACQqA8/9D0BqN4QgHLdkiV1C0AN9Qt+oq0xo0dLhxwijRxZ8Xj5bnH1UQ4AAIB4ojPA7bNPZsuRRxpnugBIozVrpNLS5LvAlZftX/Cj5R8zJjYjnFmsex8AAEAmffihL0vSqVOmS5I3aAHKZdVNgQ0AAIDMKynx7m9mmS5J3iAA5bJoAKpLC1Auaqjd+gAAQH4pK5PmzGH8Tz0jAOUyWoDiy/ZufQAAIDd89pm0fj3jf+oZASiXLV7s+113zWw5AAAAsCNmgMsIAlAuW7JEatdOatYs0yUBAABAZSUlvr7h3ntnuiR5hQCUy3J1DSAAAIBcUFLi6xY2b57pkuQVAlAuq+saQAAAAKhZbccXl5Qw/icDCEC5bMkSZoADAABIt+hag9WpHJLWrvVJEBj/U+8IQLlq82bp669pAQIAAEind9/1/bZtFY9XDjyVQ9Lcub4wOwGo3hGActWXX/qeFiAAAIDUKy72xUv339/vFxT4/eOPlxYu9MDz9tvSCy9If/yjn/PWW9KGDX67pMT3BKB61zjTBUCaRKfApgUIAAAg9UaP9oDzzjvS6tXS2WdL//yn9PzzvknSgQdWfM6wYb7v2NFn6pWkbt3qr8yQRAtQ7mIRVAAAgPR5/nkPPLfc4vcnTpQuvjj+uVdd5fvnnpMOOsiHKXz0kR+LthyxUHu9oQUoV0UDEF3gAAAAUmvDBunqq6W+faVLL5W++caPjxkTG+tj5mN8osaOlY47zjfJH2vUqOI5qBe0AOWqxYt9AdQ2bTJdEgAAgOxUVavMb38rLVgg3XefVFiYWOvN6NEV75vVsXCoLQJQropOgc3/XAAAALUTb3rrq66SbrtNOuUUacSIqp9bOfDEC0mVz0G9IADlqsWLGf8DAABQW9EJpV55Rdq4MXb8nnv8B+Y776z++Ym0CjHuJyMIQLlqyRICEAAAQLKi01vvvrvf/+53fVhBjx7SlVf6sRtvlLp2zVgRUTcEoFy0bZu0dCkTIAAAACSruFiaNy82jOBvf5MOOCA25keSfv5zZm7LYswCl4tWrJA2b6YFCAAAoDZuu01q2tRnezvmGN8kaeVKqX17Zm7LcgSgXMQU2AAAALXz2WfS4497d7fWrSs+Fl28FFmNAJSLooP2aAECAABIzu23++Kk114r7brrjo8zc1vWYwxQtkmkr2m0BYgABAAAkLjFi6WHH5YuuCB++JEY95MDCEDZJt589JUtWeK/XHTqlP7yAAAA5Io77vDxPdddl+mSII0IQNnkF79I7LzFiz38FBSktzwAAADZIF6rTeVjX30ljR8vnX221K1bfZQKGUIAygbR+eh/+Uu/b1b91ItLljABAgAAQFS8HjSVj911l1RWJl1/ff2UCRlDAMoGxcXSW29VPDZihHTFFbHHy1u8mPE/AAAgP1T+HlT+/tKl0qOP+u2rr5YuvFAaNUo6+mg/9r3vSYcd5t+rxo3zY3vume4SI8OYBS5blJTEbk+cKF10kTR0qC/ONWZMxf/ZlyyRDj+83osIAABQ78aMkS6/XFq9Wlqzxu+vXCk9+aSvjRg1duyOz3355R2PRRdAHT2aCQ9yFAEoW5SU+Fz0V13lfVP32ks6/nhfmbi80lL/n58ucAAAIJc99ZQHH0kqKqr42EMPSYcc4q07hx8uDRy44+KlZokdQ86hC1y2KCmR+veP9VedNk36+msPPFJsXNANN/h9usABAIBcU1wsbdrkvWB++ENp+fL4561f79+V1q6VBgyo1yKi4SMAZYMQYgEoqrjYj2/Z4vcLCqTu3aWOHf0+AQgAAOSaMWOkgw+W3ntP+ulPpc2b/XgIsa38/WgXtniLlyZ6DDmHAJQNFi70bm3lA1BU40gvxjfekBo1ik2VTRc4AACQS6ZO9f0nn0jPPCP97ndSYWFiz01kGuyqjiHnEICyQXQChHgBSPJfK/7xD+mzz2LH9tyz+qmyAQAAskF0OZCRI/3+mjXSiSdW3bpDKw5qwCQI2SAagPr1i/949A9AdM8APgAAkCuKi6U5c7wFaP36Hb/jVDcNNhAHLUDZoKRE6tlTatUq0yUBAACoX6+8Ij39dGyiJ6COaAHKBpUnQKgJTb8AACAXbN3qS4B06yZdc43fB+qIFqCGbv16af58ad99E38OTb8AACAX/PGP/kPwnXdKzZrxHQcpkbYAZGYPmdkyM5tTxeNmZvea2admVmJmg9JVlqz20UfStm3JtQABAGpEPQU0cN9+K918s3ToodJJJ2W6NMgh6WwB+rOkI6t5/ChJe0a2iyX9Po1lyV41zQAHAKitP4t6Cmi4jjrKQ9DYsf/f3p2Hy1WV+R7/vkCQkDCPMaFBEFHGiGHSRkEZIsbh6rWfgDhgI9qNdNS+2NjNY85BnnZqRRFaRMSrYDM0cpUhEBDo60XvOSQMCQkQGrzSJIcxEIZEAiHr/rGqPJUzhHNyqmrXrvp+nqeeXXvXrqrfOYRa56219lp5giepThpWAKWUfgs8s55TPgj8PGU9wNYRMalReUprwQLYfPM8CYIkqW5sp6QWdt990NsLn/kMTJ1adBq1mSKvAZoMPFqzv7RyTLUWLoT99suLnEqSmsl2SirK17+et1/7WrE51JaK/Kt6qL7MIReviYhTImJ+RMx/6qmnGhyrhaQ0+hngJEn1YjslNVt10dNLL837O+7owu6quyILoKXALjX7U4C+oU5MKV2YUpqWUpq2ww47NCVcS+jrg2eesQCSpGLYTknN1tWV//6pSinfLIBUR0UWQNcAn6jMsnMo8FxK6bEC87QeJ0CQpCLZTklF6O0tOoHaXMMWQo2Iy4AjgO0jYikwGxgHkFK6AJgDHAc8BKwCTmpUltKqFkD77VdsDklqQ7ZTUovq6YFx4+DLXy46idpUwwqglNLxr/F4Ak5t1Pu3hYULYZddYJttik4iSW3HdkpqUb29eea3s88uOonalFOLtbKFC+GAA4pOIUmS1Bxr1sC8eXDooUUnURuzAGpVq1fDAw94/Y8kSeocixfDypVwyCFFJ1EbswBqVQ88kL8FsQCSJEmdojoBgj1AaiALoFa1YEHeWgBJkqRO0dMD228Pu+9edBK1MQugVlWdAW7PPYvNIUmS1Cw9PXn4Wwy1DrFUHxZAraa6AvJ3vpP3x41zBWRJktT+VqyA++93+JsazgKo1XR15RWPq7O/uQKyJEnqBPPm5a0FkBrMAqhV9fUVnUCSJKl5enryqJeDDio6idqcBVArevlleOopOOKIopNIkiQ1R28vvOUtsNVWRSdRm7MAakWPPZa3H/tYsTkkSZKaIaXcA+TwNzWBBVArqg5/mzy52BySJEnN8PDDsHy5C6CqKSyAWtGyZXn7+tcXm0OSJKkZXABVTWQB1IqqPUAWQJIkqRP09MCECbDPPkUnUQewAGpFy5bl9X+2377oJJIkSfU3cHmPq6/Os79tvHEhcdRZLIBaUV9f7v1xFWRJktROUsqLnXZ39x/705/y3z4Of1OTWAC1omXLnABBkiS1h2pvz/33w/TpsPfeeX+33eDDH4YvfSnvWwCpSTYpOoCG0NcH++1XdApJkqSx6+6GFSvg3HNzD1DVI4/kW9WHPpS3s2cPHiIn1ZE9QK3IHiBJktQOfv7zvD33XPjMZ+DJJ/uLoJTy7bnn1t23+FGDWQC1mhdegBdfdAY4SZLUHI0oOLq68rXMn/xk3k8JLrwQzj9/8Llbbln/95fWwwKo1bgIqiRJaqbaCQnqISV49dV8/8QT+4/V9u7Mnr3ucwbuSw3kNUCtxkVQJUlSM7z0Epx3Xn1fc/ZsWLkSvvMdOPlkuOACuPTSwecN7HVy2JuayB6gVmMPkCRJapSurtwTM3MmjB8Pp5+ej0fk21gKkbVr4ayzcvHz+c/Dj36U1/Wxd0ctxgKo1VR7gCZNKjaHJElqP93dcPTRcMUVeTrqG27Ix7fZBpYuXX8BtL7HVq3qH+52+ul50oONNnrt50kFsABqNX19sMUW+SZJklQvN9+ct3fdBT/4ASxYkNflAVi9Gj71qdyLM5zhrhWaNQsmTIDLLsv73/52Ln4sfNSiLIBajVNgS5KkeqrOyHbMMXn/2WfhtNPg7LPz/uzZcM458Jvf5J6bgZYv779W6E9/Wvd1b7ghT3W9zTYwZ04+7nTWanFOgtBq+vqcAEGSJNVPV1e+JmfSJFizZt3FSKuPpwTXXgtnnAFHHQVXXQX/8A/w/vfDLbf0n7v55nk7fTrceGMurPbfH66+GnbfvVk/kTQm9gC1GnuAJElSvV15ZS5+hhMBF12U1+Q58cQ83O1Nb8rFz4wZcOed+bxZs/LxG2/M+yecAL//fX/x44QHKgELoFaydi089pg9QJIkqb4uuQT222/9BcpOO+UiaMGCvL/zznDbbbln6MAD87Gtt4YHH+x/zi9+ka//qQ53c9ibSsACqJUsXw6vvGIPkCRJqp+HHoKeHvj4x197lrcPfrB/f/58OPLIdRcvrQ6Xqw6j83oflZDXALUSF0GVJEn1dumleYjb8cev/7yurv5CJmLoa4WkNmAPUCtxEVRJklRPKeUC6MgjYcqU+r621/uopCyAWok9QJIkqZ56e+Hhh/Pwt9EYSXFjj5BKygKolVR7gCZNKjaHJElqHUMVGiMtPi65BDbbDD784bG/p9QmLIBaybJlsOOOMG5c0UkkSVKr6O4e2bGBRcvLL8MVV8CHPpSnt5YEOAlCa+nr8/ofSZLU75VX8vZnP4NnnoFnn81bgMsug4MOgj32yJMWdHevWwTdeGOeYfbEE5seW2plFkCtxEVQJUkS5EKmtpfnU58afM4JJ+TtZpvBO9+Z7//iF7DvvvDmN+fJDwCOOaaRSaXScQhcK+nrcwIESZLUv97OjBl5/+GHc+/Pq6/2T09999358ZdegptuysdOPBGmToXx4+GXv8zHHFovrcMCqFW8/DI8+aQ9QJIkKVu9Gm69Nd/ffXfYemvYqOZPt6lT4dpr112YdPFi+MhH8v7atflYRL45sYEEOASudTz+eN7aAyRJkgBuvx1WrRp6AdPhpqnee2+46qr+/aEWNJU6nD1ArcJFUCVJUq0bb4RNN4ULLxz82FC9OS5MKo2IBVCrcBFUSZJUa+5cOPxwmDhxZOdbFEkjYgHUKuwBkiRJVcuWwb33wrHHju11vO5HGsQCqFUsW5Znadluu6KTSJKkos2dm7fTpxebQ2pDFkCtojoF9kb+J5EkqePNnZv/Lth336KTSG3Hv7ZbxbJlXv8jSZJgzRq4+eY8/C2i6DRS27EAahV9fV7/I0mSYN68vOipw9+khmhoARQR0yNiSUQ8FBFnDPH4ERHxXETcU7l9tZF5Wpo9QJLUdLZTakk33piHxB91VNFJpLbUsIVQI2Jj4HzgaGApMC8irkkp3Tfg1P+TUprRqByl8MIL+WYPkCQ1je2UWtbcuXDwwbDttkUnkdpSI3uADgYeSin9IaX0MnA58MEGvl95PfZY3toDJEnNZDul1rN8Odxxh8PfpAZqZAE0GXi0Zn9p5dhAh0XEgoi4ISL2GeqFIuKUiJgfEfOfeuqpRmQtlougSlIRbKfUem6+GVIa+/o/kobVyAJoqGlL0oD9u4BdU0oHAD8AfjXUC6WULkwpTUspTdthhx3qHLMFuAiqJBXBdkqtp7r+z0EHFZtDamONLICWArvU7E8B+mpPSCk9n1J6sXJ/DjAuIrZvYKbW0tWVp7c88cS8/+Y3531XbZakZrCdUmtJKU+AALDxxsVmkdpYIwugecCeEfGGiNgUmAlcU3tCROwckSe4j4iDK3mWNzBTa5k9G044oX8/pXyzAJKkZrCdUuvo6sozvz3+eN6P8EtRqUEaVgCllNYAnwfmAvcDV6aUFkfE5yLic5XT/juwKCIWAOcCM1NKA4cflN9wH17f/Cb827/B2Wc3NY4kyXZKLebLX4Zdd4V99837fikqNUzDpsGGPw8XmDPg2AU1988DzmtkhpbQ3T34A+z44+GKK2DmTPjHf4RXXikkmiR1MtsptYx//md45BH47W/hne8sOo3U1hq6EGrHu/tu2GuvfP/UU+Haa+HFF2HRIrj8cjjwQPjJT+ziliSpkz34IHz72/Dxj8Phh+ch8pIaxgKoUWbOzAXOgw/m/X/9V/jAB2CrrfKHG8Cvfw2bb15cRkmS1BhDfbE51LGU4LTTYLPN4FvfGv48SXVjAVRvs2fna3uuvDKv4lxd5PSll+ATn4C1a2HFinxsyhR7fyRJakfd3evupzT4GOQvTG+6Cb72Ndh55+ZkkzpcQ68B6jirV8NZZ+X7M2fCxRfD+PF5/3Wvg5/9LN8gFz5eRytJUvtZtSpvv/Ql+MMf+m8An/40fPSj8J735Ot/r7wS9t8f/vZvi8srdRh7gOpp1qy87erKs7tVix/H8kqS1P6q6/tNmJD3zzknD3e/915YuTIf++lP4bjjYMst4Ygj8rHzz4dN/E5aahYLoHqofuD96Ef9+xtt1D+0baghbhZFkiS1l66uPPqjau3a/umsq6M+XnopzwS7ejXMn5+PHX64Q+KlJoqyLWcwbdq0NL/6gdFKbr+9f3KDkv1OJWm0IuLOlNK0onO0opZtp9R4S5bkCZAOOQRuu23w3wMDh7+nlL8w9e8Gqe7W107Z31ov112Xu6/XrCk6iSRJarbVq/P1v+PHwyWXwI9/PPicgaM/IpqTTdI6LIDq5frrcw+Qi5dJktR53vUuuOeevObf5MkjnwbbIfFS03kNUD088khe3PR973P8riRJnea666C3F/7u72DGjNE9178bpKazAKqH66/P2/e9r9gckiSpuVasgJNOyve/+c1is0gaEQugerj+ethjD9hrr6KTSJKkZunqgm22gaefzvvjxzubm1QCFkBjtWoV3Hpr7v3xYkZJkjrHmWfCLrvAkUfm/ep01xZAUkuzABqrW2/Nc/o7/E2SpM5y9dXw6KPwhS8UnUTSKFgAjdX11+cVn9/1rqKTSJKkZjrnnDwEfsYMZ3OTSsRpsMcipVwAHX00vO51RaeRJEnN0tOTb+eemxczddibVBr2AI3Fvffmrm+Hv0mS1Fm+9z3Yaqv+GeAklYYF0FhUp78+7rhic0iSpOZ59FG46io4+WSYOLHoNJJGyQJoLH74QzjwQHj964tOIkmSmuW88/Iw+NNOKzqJpA1gAbShli93+JskSe1u4LU9L74I3/8+fOQjsOuuhUSSNDZOgrChbropb2fMKDaHJElqjDVroLsbTjgBNt003y67DFavduprqcQsgEarqyt/GFYdckjezp7tDDCSJLWLlSvhmGPy/b32Gvz4YYc1N4+kunEI3Gh1deVxv9On531XfZYkqb2ceWae3OD3vx/+nI02ggjbf6mE7AHaUIsWFZ1AkiTV26uvwpIl+f7FF8OnP52/6KwVMfiYpNKwB2hDPPccLF0K73lP0UkkSVK9zJ4Nn/1snuL6u991jR+pTdkDtCEWL87bWbOKzSFJkuojJTjrrHz/zDPhi1/M92fPHnzuUMcklYY9QBuiWgDtu2+xOSRJUn3MmZO3p57aXwjB0Nf4eN2PVGoWQBti0SLYfHPn/5ckqey6uvI1PdVlLc4/P09wYJEjtS0LoA2xeDHss0/+gJQkSeVVnd21Oq21s7tKbc+/4DfEokW5AJIkSeW3ejXcdVfRKSQ1iQXQaC1fDk884fU/kiS1iwULchH00Y8WnURSE1gAjVZ1AgR7gCRJag89PXl7zjnF5pDUFBZAo1VdANUeIEmS2kNvL0yenG+S2p4F0GgtXgxbbumHpCRJ7aKnBw49tOgUkprEAmi0Fi3KvT8RRSeRJElj9eST8Ic/WABJHcQCaDRS6p8CW5IklV9vb95aAEkdwwJoNJ54Is8C5/U/kiS1h54e2GQTOPDAopNIahILoNFwBjhJktpLby/svz9svnnRSSQ1iQXQaDgDnCRJ7ePVV+GOOxz+JnUYC6DRWLwYttsOdtyx6CSSJGms7r8fXnjBAkjqMBZAo+EMcJIktY/qAqgWQFJHsQAaKWeAkySpvfT2wrbbwhvfWHQSSU1kATRSS5fC8897/Y8kSe2ipwcOOcSRHVKHsQAaKWeAkySpfTz/fG7bHf4mdRwLoJGyAJIkqX3Mm5eHt1sASR2noQVQREyPiCUR8VBEnDHE4xER51YeXxgRrbsK2aJFsPPOeRY4SVJbaKt2SuvX1bXufnUChIMPbnoUScVqWAEUERsD5wPvBfYGjo+IvQec9l5gz8rtFOCHjcrzZwM/AEd6bPFiGD++AYEkSUVou3ZqqGO+Vr/u7nX3e3vzduutB58rqa1FSqkxLxxxGNCVUjq2sv8VgJTS12vO+RHwHymlyyr7S4AjUkqPDfe606ZNS/Pnzx9LsNzlPZpja9fCFlvAqlWDz5OkDhQRd6aUphWdYyzaqp0a7ljZXmvNmtzWrlyZt3vsAf/1X7Dppvk2blxuj19+GTbeGDbaaPjXevppePbZ/tuxx8K11/afc9JJ+Rzbdaktra+d2qSB7zsZeLRmfylwyAjOmQwM27CMyUUX5e0WWwx+bH3HUsofxJKkdtJ67dScOXk72nZqfcde65xqATBx4uBiYMKEdfcnThz5aw008NhQ52wyxJ8lf/EXg49tuum6++PGDT5n++0HH3v/+wcfq84AN3v20D1HktpOIwugoeaUHPg1y0jOISJOIQ89AHix8g3ciE2B1+8Ek/584MUXB5800mOVD8on4LGl0DeaHHWyPfB0Ae9bD2XODuXOX+bsUO78Zc4Ow+fftdlBGqA926mBx0b6vJUrBx8b+OXfUOeM9LUGHhvqnA21Zs2wD1Xb67fB2+6EO2sfW+dYdzd0d7fr/69lUObsUO78Zc4OG9BONbIAWgrsUrM/hcEFw0jOIaV0IXBhPUJFxPwyD9soc/4yZ4dy5y9zdih3/jJnh/Lnfw22Uw1Q5vxlzg7lzl/m7FDu/GXODhuWv5GzwM0D9oyIN0TEpsBM4JoB51wDfKIyy86hwHPrG1ctSVId2U5JUgdqWA9QSmlNRHwemAtsDFycUlocEZ+rPH4BMAc4DngIWAWc1Kg8kiTVsp2SpM7UyCFwpJTmkBuP2mMX1NxPwKmNzDCEugxRKFCZ85c5O5Q7f5mzQ7nzlzk7lD//etlONUSZ85c5O5Q7f5mzQ7nzlzk7bED+hk2DLUmSJEmtppHXAEmSJElSS+moAigipkfEkoh4KCLOKDrPa4mIiyPiyYhYVHNs24i4OSL+s7LdpsiMw4mIXSLitoi4PyIWR8SsyvGWzx8Rm0XEHRGxoJK9u3K85bNXRcTGEXF3RFxX2S9T9j9GxL0RcU9EzK8cK1P+rSPiqoh4oPLv/7Ay5I+IvSq/8+rt+Yj4QhmytxPbqeaxnSqW7VRxbKc6qACKiI2B84H3AnsDx0fE3sWmek3/E5g+4NgZwC0ppT2BWyr7rWgN8PcppbcAhwKnVn7fZci/Gnh3SukAYCowPfLsT2XIXjULuL9mv0zZAY5MKU2tmdayTPm/D9yYUnozcAD5v0PL508pLan8zqcCbyNf8P+/KEH2dmE71XS2U8WynSqO7VRKqSNuwGHA3Jr9rwBfKTrXCHLvBiyq2V8CTKrcnwQsKTrjCH+OXwNHly0/sDlwF3l1+FJkJ69TcgvwbuC6sv27Af4IbD/gWCnyA1sC/4/K9ZVly1+T9xjgd2XMXuab7VThP4ftVPMy204Vl912KqXO6QECJgOP1uwvrRwrm51SZQ2KynbHgvO8pojYDXgr0EtJ8le65u8BngRuTimVJjvwPeDLwNqaY2XJDpCAmyLizog4pXKsLPl3B54CfloZ2nFRREygPPmrZgKXVe6XLXuZ2U4VxHaq6WynimM7RQcNgQNiiGNOgddgETER+CXwhZTS80XnGamU0qspd7FOAQ6OiH2LzjQSETEDeDKldGfRWcbgHSmlA8nDgE6NiHcWHWgUNgEOBH6YUnorsJIWHEawPpEXBP0A8O9FZ+lAtlMFsJ1qLtupwtlO0VkF0FJgl5r9KUBfQVnG4omImARQ2T5ZcJ5hRcQ4cqPyi5TS1ZXDpckPkFJaAfwHeYx7GbK/A/hARPwRuBx4d0RcSjmyA5BS6qtsnySP7T2Y8uRfCiytfBMLcBW5oSlLfsgN+l0ppScq+2XKXna2U01mO1UI26li2U7RWQXQPGDPiHhDpXKcCVxTcKYNcQ3wycr9T5LHLLeciAjgJ8D9KaXv1jzU8vkjYoeI2LpyfzxwFPAAJcieUvpKSmlKSmk38r/xW1NKJ1KC7AARMSEitqjeJ4/xXURJ8qeUHgcejYi9KofeA9xHSfJXHE//sAIoV/ays51qItupYthOFct2qqLoi5iaeQOOAx4EHgb+qeg8I8h7GfAY8Aq5Yv9rYDvyhYP/WdluW3TOYbL/JXnoxkLgnsrtuDLkB/YH7q5kXwR8tXK85bMP+DmOoP/i0lJkJ49NXlC5La7+f1qW/JWsU4H5lX8/vwK2KUt+8sXUy4Gtao6VInu73Gynmprddqr4n8N2qpifoePbqag8UZIkSZLaXicNgZMkSZLU4SyAJEmSJHUMCyBJkiRJHcMCSJIkSVLHsACSJEmS1DEsgNR2ImK7iLincns8IpbV7G86wtf4ac0c+cOdc2pEfKw+qUcuIt4dEYeO4vxdIuKKRmaSJI2c7dSg822n1FROg622FhFdwIsppX8ZcDzI//7XFhJsDCLibODplNL3is4iSRob2ymp+ewBUseIiDdGxKKIuAC4C5gUERdGxPyIWBwRX6059/aImBoRm0TEioj4RkQsiIj/GxE7Vs45OyK+UHP+NyLijohYEhFvrxyfEBG/rDz3ssp7TR0i27cj4r6IWBgR36wc2ykirq48546IODQi9gBOBk5puMbDAAADA0lEQVSvfFP49gGv8+7Ke90TEXdV3v+NEXFP5fGf1nzL+HRE/FPl+BmV91hY+3uQJDWP7ZTtlJpjk6IDSE22N3BSSulzkD9QU0rPRMQmwG0RcVVK6b4Bz9kK+N8ppTMi4rvAp4FvDPHakVI6OCI+AHwVmA6cBjyeUvpIRBxAbtDWfVLETuTVx/dJKaWI2Lry0LnAt1JKPRGxG3m17H0j4iKG/2btdOCUlFJvREwEXqp9MKV0UuU93wDcAPw8Io4D/gI4BAhgTkS8PaX0+2F/i5KkRrGdwnZKjWUPkDrNwymleTX7x0fEXeQP/LeQG56B/pRSuqFy/05gt2Fe++ohzvlL4HKAlNICYPEQz3sGWAv8OCL+G7Cycvwo4ILKt2K/AraJiPHr/engd8D3IuI0YMuU0qsDT6i8xr8Df5NSehQ4BngvcDf59/BG4E2v8T6SpMawnbKdUoPZA6ROU/3QJiL2BGYBB6eUVkTEpcBmQzzn5Zr7rzL8/zerhzgnXitQSumViJgGHA3MBP6G/GEflWy170/E8C+ZUjo7Iq4B3gfMi4gjgIEX+v0YuDyldFtNxrNTSj95raySpIaznbKdUoPZA6ROtiXwAvB8REwCjm3Ae9wO/BVAROzHEN/cRcQW5G/BrgO+CLy18tBvgFNrzquOyX4B2GKoN4uIPVJKC1NKXyd/U7bXgMdnAeMGXGw7F/jriJhQOWdKRGw/2h9UklR3tlOZ7ZTqygJInewu4D5gEfnbpt814D1+AEyOiIXA31fe67kB52wFXB8RC4BbgS9Vjp8KvKNywed9wGcqx38N/FVE3D3w4lLgf0S+gHYhsAK4aeDjwNSaC0xPTinNAa4CeiLiXuBKYOJYf3BJ0pjZTtlOqQGcBltqoMpFq5uklF6qDGW4CdgzpbSm4GiSJNlOqSN5DZDUWBOBWyoNTACftVGRJLUQ2yl1HHuAJEmSJHUMrwGSJEmS1DEsgCRJkiR1DAsgSZIkSR3DAkiSJElSx7AAkiRJktQxLIAkSZIkdYz/D2MJlhBDGYyLAAAAAElFTkSuQmCC
"
>
</div>

</div>

<div class="output_area">

    <div class="prompt"></div>




<div class="output_png output_subarea ">
<img src="data:image/png;base64,iVBORw0KGgoAAAANSUhEUgAAAYcAAAEGCAYAAACO8lkDAAAABHNCSVQICAgIfAhkiAAAAAlwSFlzAAALEgAACxIB0t1+/AAAADh0RVh0U29mdHdhcmUAbWF0cGxvdGxpYiB2ZXJzaW9uMy4xLjEsIGh0dHA6Ly9tYXRwbG90bGliLm9yZy8QZhcZAAAgAElEQVR4nO3de3hc9X3n8fd3ZjSSRpIvGkk2NpZkigEbQgIYJ5RAoXYJSVMIvYU03dza0rTQNL3spiTbNG0etkuy233aXNqmu7lsllybQGmaEDAhgdACMWDAxhgc8B1sXXzRxRppZr77xzkjD9LIkizNnJH0eT3PPHPmnDNzvjoe66vf3dwdERGRYrGoAxARkeqj5CAiIuMoOYiIyDhKDiIiMo6Sg4iIjJOIOoDZ0NLS4p2dnVGHISIypzz++OPd7t5a6ti8SA6dnZ1s2bIl6jBEROYUM9sz0TFVK4mIyDhKDiIiMo6Sg4iIjKPkICIi4yg5iIjIOEoOIiIyjpKDiIiMMy/GOcxFubzz1P6jPPJiDzEzGmsTNNUlaKxN0FCbGPe6NhHDzKIOW0QWCCWHCurPZPnxC11s3nGYB547TM/A8JTfWxMPEkhjXYKG5KsTR31NnNqaGLWJOLWJGHU1wfPodnisruQ54f6a4DkZVxISESWHstt/ZJD7dxxm845DPPpiL8O5PE11Ca46t41Na9v4uXNaSSZi9A9l6c+Ej6EsfZksA+HrvqGT28XHegaG2dMzSCabZ2gkN/qczZ/+Ak5mjCaPujBxBAkmTl1hf82rjyfiMRIxIxE34rFgOx4zaopeJ+IW7o+F+4PXiViMVDJOqjZBY22chjDhNSQTxGNKUiJRUXKYZbm8s3XfUX7w3CHu33GY517pA2B1SwPvuqyDjWuXsb5zKTXxVzf3pJIJ2mYphmwuz3Auz9BInkw2R2Ykz1D4PDaRFG8X7xsaCbezeTLh89BIjqODw8Gx7MnzcnlnJBc8zyQxjVVXExstHTUkg5JSKkwgjclwf22cupo4yXiMZFhaShYe8aBENPZY7ZjjDcm4SksiYyg5zIJS1UXxmLG+YykfectaNq5t46zWxorFk4gHf82nkhW75Ch3H00SubyTzTnZfJhA8k6u+HW4PTicGy0ZFW8HzzkGh0+WnHr6h9nbM8jAcJaBTI6B4SwzXem2Jm6kG2pJNyZpaQyeW8PndEMtLU21pBuStDbV0tyQHJfYReYjJYcZeKl7gL/61+08vKuH4VyeRWF10ca1bVx1ThuLUzVRh1hxZmEVUrwy13N3hnN5hrPBIxM+F/ZlskHpaXjM/uJjRwZH6OnP0N0/TE9/hl2H++nqzzCczZe85uL6Gloak6Qba2lpTFKbiGPhz24GMYNYuG1mxAyM8Hn0HMOAeMy4qH0pV5/XSm2lbprIFCg5nKbvPvMy/+WfnyYRt1NWF0l5mVnYyD67v1jdfbSk0l1IHAMZuvvC53Dfzlf6GMk5eXfcg/flHZzweXSf40A+H54H5D2ojht58EUW1SX4xQtXcMNFK1nfsZSY2lskYkoO0zSczfPX39vBFx7ezetWLeEz77yYlUvqow5LZpmZ0VRXQ1NdDZ0tDWW7TjaX58e7urnryQPc9eQBvvrYXlYuqedtF63gba9byZplTWW7tsipmM+0wrYKrF+/3iuxnsPBoye4+StP8OTeo7znZzv58FvWkkyopCCzYyCT5b5nD3Hnkwd46IUu8g7nr1jEDRet5LrXrqBtUV3UIco8Y2aPu/v6kseUHKbmhzsP80df38pIzrn9Vy7kFy88o6zXk4XtcN8Q33nqZe7aeoCn9x8jZnD52S1c/7qVXHvBchprVeiXmVNymIFc3vnbzc/zqQd2ce6yJj77zosr2vNI5Kdd/fzLkwe4c+sB9vWeoK4mxi+sW84NF63gijWtaueS06bkcJq6+zP84dee5OFdPfzqJWfy8esvoD6pHiUSDXfnib1HuOvJg3zn6YMcGRyhuSHJ+SsWsWxRHcsX1bFscfAcbNfS0lCrxm2ZkJLDafjJ7l5u+coTHB0c4ePXX8CvX7pqVj9fZCaGs3kefL6L7zx9kJe6B3jl+BBdfRnGjkFMxIy2plrawoSxfHFdkEgW144mlI50w5wcjX5scIRnDhzj/BWLWNoQwaCeeeBUyUEVl2O4O//00Ivcfs9OVi2t5wu/v4F1KxZFHZbIqyQTMTatW8amdctG92Vzebr7hzl0fIhXjg8Fz8eC7cPHM+zq6ufhXd30ZbKv+qxFdQneuKaFK9e0cuU5rayo0t53h48P8djuXh57KXjsPNSHO7Q3p/jG717G8sVqsJ9NKjkUOXZihP/8zae499lDvPmC5dz+qxeyqG7hDWST+W0gkw2Sx7EhDhw9wU929/Lg8928cnwIgLPbGrliTQtXntPKG1anI6lKdXf29Z7g0Zd6+EmYEHb3DAKQSsa5pGMpl3Y2s6q5nj+/azvLFtXyjd+9jHRjbcVjnctUrTQF2w4c4/fveIKDR09w61vW8r7LOzXfjiwY7s4Lh/t58PkuHnyhm0df7CGTzZNMxNjQ2TyaLM5b3lSW/xf5fHD9x17q4bHdR3jspR4OHc8AsCRVw/qOZl6/upkNq5tZt2LRqxrhH32xh3d/4THOamnkq7/zhgU5M8HpUnI4BXfnq4/t42P/up10Q5JP/8ZFXNLRPMsRiswtQyM5Hnupl4de6OLB57vZeSiYQLKtqZYr1rRy5TktvPHslgn/Und3Mtk8A5lgDqz+TJaB4ZNzZhXmzeobGmHbgeNs2dPL0cERAJYtqmXD6jQbVjezobOZNW2Nkzaq/+j5Ln7nS1tYt2IR/++3X6+uvlOk5DCBweEs//XObXz7yQNcsaaFv73xIprVsCUyzivHhnjwhS4eeqGbH7/QxZHBEcyCQXpLU8miX/q50e2pztDbmU6xYXUzl3Y28/rVaVY1159W6eTe7a/we3c8wfqOpXzxvRvUs3AKlBwmsGV3L+/4p0e45eo13PLzZ8/JHhsilZbLO9sOHOPB57t4+KfdZLL5YGr1ZGEVw5Prcpxc2bDEvmQwBftsjtP4l60H+ODXt3LlmlY+965LNJnhJJQcTuHA0ROaG0lkHvn6T/byoW89w5vOX8ZnfuNiEhokOKFTJYcFf9eUGETml7df2s5f/NI6vr/9EH/6zafIzeICVAuJWm1EZN557+WrGRzO8cnv76Q+Gee/3fAa9T6cJiUHEZmXbr76bE4M5/j0A7uor0nw529dqwQxDUoOIjJv/ck15zAwnOXzD79EQ22cP7nm3KhDmjOUHERk3jIzPvrWdZwYzvGpH+yiPhnn9686O+qw5gQlBxGZ18yM2254DSdGcnzinp2kauK85/LVUYdV9ZQcRGTei8eM//Frr+XEcI6P/euzpJKJeTHTcn8mS6omXpZp2Rd8V1YRWRhq4jE+9RsXceU5rXzo209z91MHow5pxn75sw9z81eeKMtnR5IczOzXzGy7meXNbP2YY7ea2S4z22lmb4oiPhGZn2oTcf7xNy/h0s5m/ujrW7l3+ytRhzQjXX0Z0o3lmfInqpLDNuCXgQeLd5rZOuBG4HzgWuCzZqbx7yIya+qTcT7/nkt5zcrF3PKVJ/mPn/ZEHdJpGc7mOTI4QmtjedaxiCQ5uPsOd99Z4tD1wNfcPePuLwG7gA2VjU5E5rvG2gRfeu8GWptq+cwDu6IO57T0DARTmrc2lWcNi2prc1gJ7Ct6vT/cN46Z3WRmW8xsS1dXV0WCE5H5Y3Gqhre+9gwefamH40MjUYczbV19czQ5mNlmM9tW4nH9qd5WYl/JiVHc/XPuvt7d17e2ts5O0CKyoGxau4yRnPPg83PvD8xyJ4eydWV1902n8bb9QHH/sjOBud+lQESq0sXtS1maquH+HYd564Urog5nWuZsyeE03Q3caGa1ZrYaWAM8FnFMIjJPxWPG1ee18cDOw2Rz+ajDmZZCcmiZT72VzOwGM9sPXAb8m5l9H8DdtwPfAJ4F7gFudvdcFDGKyMKwae0yjg6O8PieI1GHMi3d/RkW19eUbUGjqHor3enuZ7p7rbsvc/c3FR27zd1/xt3PdffvRRGfiCwcV6xpoSZu3P/c4ahDmZau/kzZqpSg+qqVREQqqqmuhjeclWbzjkNRhzItXX0ZWhuVHEREymbT2mW82DXAi139UYcyZV19KjmIiJTVxrVtANy/Y+5ULSk5iIiU2ZlLU5y3vGnOVC0NZLIMDOeUHEREym3T2mVs2XOEo4PDUYcyqe7+cIyD2hxERMpr49o2cnnnhzurf7R0uQfAgZKDiAgArz1zCS2NtXOiaknJQUSkQmIxY+N5bfxoZxfD2eoeLd3Vr+QgIlIxG9e20ZfJ8pPdvVGHckpdfRniMWNpqjxTZ4CSg4jIqDeuaaE2Eav6qqWuvgzphiTxMqwdXaDkICISSiUTXH52C5t3HMK95GoBVaHcYxxAyUFE5FU2rm1jX+8JXjhcvaOlyz2vEig5iIi8ysbzlgFUddVSuedVAiUHEZFXWb64jtesXMzmZ6szOeTzTnd/hhaVHEREKmvj2jae3Hd0dCRyNTl2YoSRnKvkICJSaZvWLsMdHqjCNR4qMcYBlBxERMY5f8UizlhcV5XtDpUYHQ1KDiIi45gZP39eGw+90M3QSHWtVKzkICISoU3rljE4nOORF3uiDuVVlBxERCJ02VlpUsl41VUtdfVnqE3EaKpNlPU6Sg4iIiXU1cS5Yk0LP9hxuKpGSxdGR5uVb+oMUHIQEZnQxrXLOHhsiGdfPh51KKMqMXUGKDmIiEzo589rwww2P1s9XVq7+8s/OhqUHEREJtTSWMtFq5Zw/3PV0+6gkoOISBXYuHYZT+8/xqHjQ1GHwkguT+/gsJKDiEjUNq0NJuK7f0f0VUu9A8O4l78bKyg5iIic0jnLGlnVXM/9VdCldXSMg9ocRESiZWZsPG8ZP97VzYnhaEdLV2oAHCg5iIhMatPaZWSyeX68qzvSOJQcRESqyIbVzTTVJiKvWirMyNqiaiURkeglEzGuPLeVzTsOk89HN1q6qy/DoroEdTXxsl9LyUFEZAo2rW2juz/D0weORRZDpcY4gJKDiMiUXH1uG/GYRVq1pOQgIlJllqSSXNKxlPsiXFu6qz9Da1NdRa6l5CAiMkWb1rbx3Ct97D8yGMn1u/oqM68SKDmIiExZYbT0DyJYW3pwOEt/JqtqJRGRanNWayNntTREUrXU3TcMQEtjsiLXU3IQEZmGjWvbePTFXvoz2Ypet6s/mPhvXpcczOyTZvacmT1tZnea2ZKiY7ea2S4z22lmb4oiPhGRiWxau4zhXJ6Hnu+q6HUrOToaois53Adc4O4XAs8DtwKY2TrgRuB84Frgs2ZW/tEeIiJTdEnHUhbX13Bfhbu0Lojk4O73unuhTPYIcGa4fT3wNXfPuPtLwC5gQxQxioiUkojHuPrcVn64s4tcBUdLd/VliBmkG+ZxchjjfcD3wu2VwL6iY/vDfeOY2U1mtsXMtnR1VbZ4JyIL26Z1y+gdGObJvUcqds2u/gzNDbXEY1aR65UtOZjZZjPbVuJxfdE5HwGywB2FXSU+qmRqdvfPuft6d1/f2to6+z+AiMgErjynlUTMKlq1VMnR0QCJcn2wu2861XEzezfwVmCjuxcSwH5gVdFpZwIHyxOhiMjpWVRXw+vPaub+HYe59c1rK3LNSieHqHorXQt8CLjO3YuHGt4N3GhmtWa2GlgDPBZFjCIip7Jp7TJ2He5nd/dARa5XydHREF2bw6eBJuA+M9tqZv8A4O7bgW8AzwL3ADe7e7RLL4mIlFAYLb25AlVL7k53//D8qFY6FXc/+xTHbgNuq2A4IiLTtqo5RUc6xeN7jvDbV5T3WsdPZBnO5ed/tZKIyHywuqWBPT3ln4Sv0qOjQclBROS0dTSn2Ns7yMk+NeVxuDAAbgG0OYiIzHkd6Qb6M1l6B4bLep1Kj44GJQcRkdPWkU4BsLvMVUtKDiIic0hHugGAvb3l7c7a1Z8hmYixqK5yfYiUHERETtOq5nrMYHd3+UsOrY21mFVm6gxQchAROW21iThnLKpjb28FkkMFq5RAyUFEZEY60g3s7ilztVK1JQcz+82i7cvHHLulXEGJiMwVHekUe8vcIN3dX2XJAfjjou1PjTn2vlmORURkzulIN9AzMEzf0EhZPj+by9MzMFzRMQ4weXKwCbZLvRYRWXAK3VnLNVK6d2AY98p2Y4XJk4NPsF3qtYjIglNIDuVqlC6Mjm6pcMlhsk6z55nZ0wSlhJ8Jtwlfn1XWyERE5oDCWIdyNUp39Vd+ABxMnhwqs4qFiMgc1VibIN2QLFujdGF0dFs1JQd331P82szSwJXAXnd/vJyBiYjMFR3pVPlKDhFVK03WlfU7ZnZBuH0GsI2gl9KXzeyDFYhPRKTqdaQbylpyaKpNUJ+Ml+XzJzJZg/Rqd98Wbr8XuM/dfwl4PerKKiICBCWHl48PMTQy+wtXdkUwxgEmTw7FHXc3At8FcPc+IF+uoERE5pKOdAp32H9k9ksPXX0ZWqowOewzsz8wsxuAiwnWdcbM6oGacgcnIjIXFHoslWOsQ3cEU2fA5Mnht4DzgfcAb3f3o+H+NwBfKGNcIiJzRkdz+dZ1KMzIWmmT9VY6DLy/xP4HgAfKFZSIyFzS3JCkqTbB3lnusTQ0kqMvk42k5HDK5GBmd5/quLtfN7vhiIjMPWZGezo16yWHKFaAK5hsENxlwD7gq8CjaD4lEZGSOtIpdrzcN6ufGdXoaJi8zWE58GHgAuBvgV8Aut39R+7+o3IHJyIyV3SkG9jXO0g2N3sdOUdLDhG0OZwyObh7zt3vcfd3EzRC7wJ+aGZ/UJHoRETmiI7mFNm88/KxoVn7zKimzoDJq5Uws1rgF4F3AJ3A3wHfLm9YIiJzS3F31lVh76WZ6urLYBY0eFfaZA3SXyKoUvoe8JdFo6VFRKRIYeru3T0DvHFNy6x8Zld/hnRDkkS88is6T1Zy+E/AAHAO8AGz0fZoA9zdF5UxNhGROWP5ojqSidisruvQ1Zep+IR7BZONc6h8uhIRmYNiMaO9OcXu7tkb69AV0ehomLy3koiITFFnOjXrJQclBxGROa69uYE9PYO4z3wVZXePbEZWUHIQEZk1HekUJ0Zyo11QZ+L4UJbhbD6SMQ6g5CAiMmsKPZb2zELVUpRTZ4CSg4jIrCmMdZiNRukoR0eDkoOIyKxZuaSeeMxmpVE6ynmVQMlBRGTWJBMxViypm5XZWVWtJCIyj3SmG2ZlXYeuvgw1cWNxfTSLbio5iIjMovbm2VnXobACXNHMFBUVSXIws4+b2dNmttXM7jWzFUXHbjWzXWa208zeFEV8IiKnqyOd4tiJEY4Njszoc6Ic4wDRlRw+6e4XuvvrgO8AHwUws3XAjQTrVl8LfNbM4hHFKCIybaOzs/bOrGopytHREFFycPfjRS8bgMJwwuuBr7l7xt1fIlg/YkOl4xMROV0nZ2edWdVS1Mlh0vUcysXMbgPeBRwDrg53rwQeKTptf7iv1PtvAm4CaG9vL1+gIiLT0B6u5TCTRulc3ukdyEQ2xgHKWHIws81mtq3E43oAd/+Iu68C7gBuKbytxEeVnKTE3T/n7uvdfX1ra2t5fggRkWlKJRO0NdXOqOTQM5Ah79F1Y4UylhzcfdMUT/0K8G/AXxCUFFYVHTsTODjLoYmIlFXQnfX0k0PUYxwgut5Ka4peXgc8F27fDdxoZrVmthpYAzxW6fhERGaiPZ1i9wyqlaohOUTV5vDfzexcIA/sAd4P4O7bzewbwLNAFrjZ3XMRxSgiclo60yn+uS/DieEc9cnpd7js7h8GoLWxbrZDm7JIkoO7/8opjt0G3FbBcEREZlV72J11b+8g5y5vmvb7CyWHlqbkrMY1HRohLSIyyzqaC91ZT69qqasvQ2NtglQysg6lSg4iIrOts1ByOM1G6ahHR4OSg4jIrFucqmFxfc0MSg5DkY5xACUHEZGy6EynTntdh6hHR4OSg4hIWbSnG2bU5qDkICIyD3WmUxw8OsRILj+t9w2N5Dg+lFVyEBGZj9qbU+TyzoEjJ6b1vu7+aNeOLlByEBEpg8LU3dOtWqqG0dGg5CAiUhad4dTd022UVnIQEZnHWptqqa+Js7t7mskhrFZqUbWSiMj8Y2Z0pFPsneaKcIWSQ7oxuqkzQMlBRKRs2ptT017XoasvQ3NDkpp4tL+elRxERMqks6WBvb2D5PMl1ywrqasv2hXgCpQcRETKpL05xXA2z6G+oSm/pxrmVQIlBxGRsilMwDedRulqGB0NSg4iImXTMdqddWqN0u6u5CAiMt+dsbiORMym3Cjdl8mSyebV5iAiMp8l4jFWNaemvK5DtQyAAyUHEZGyCrqzTq1aSclBRGSB6EwHJQf3ybuzKjmIiCwQ7ekG+jJZjgyOTHruaHJQm4OIyPxWmIBvKlVL3f0ZauLG4vqacoc1KSUHEZEyGu3OOoVG6a6+DC2NtcRiVu6wJqXkICJSRmcuTWE2tZJDtYyOBiUHEZGyqquJc8aiuimXHKqhvQGUHEREyq49PbXurNUyOhqUHEREyq4z3TDpinC5vNMzMKzkICKyULSnU3T3D9OfyU54zpHBYXJ5V3IQEVkoCrOz7jlF1VI1jXEAJQcRkbJrb568O2s1jY4GJQcRkbLrGB0Ip+QgIiKhproa0g3JU67r0NUfJIcWVSuJiCwc7enUKVeE6+rLkErGaahNVDCqiSk5iIhUwGTdWatpjAMoOYiIVER7c4qDx06QyeZKHq+m0dGg5CAiUhGdLSncYV/viZLHq2leJVByEBGpiPbmYKzDRI3SqlYqYmZ/amZuZi1F+241s11mttPM3hRlfCIis2V0XYcSjdKZbI5jJ0aqqlopsmZxM1sF/AKwt2jfOuBG4HxgBbDZzM5x99KVdCIic0RzQ5LG2kTJRunu/mGgesY4QLQlh/8F/BegeGHV64GvuXvG3V8CdgEboghORGQ2mRkdE8zOWm0D4CCi5GBm1wEH3P2pMYdWAvuKXu8P94mIzHkd6VTJKTSqMTmUrVrJzDYDy0sc+gjwYeCaUm8rsc9L7MPMbgJuAmhvbz/NKEVEKqe9uYH7nj1ELu/Ei5YCXVDJwd03ldpvZq8BVgNPmRnAmcATZraBoKSwquj0M4GDE3z+54DPAaxfv75kAhERqSad6RQjOefg0ROsCifjg5PJId1QPcmh4tVK7v6Mu7e5e6e7dxIkhIvd/RXgbuBGM6s1s9XAGuCxSscoIlIO7WGPpbGN0l39QyxN1ZBMVM/oguqJBHD37cA3gGeBe4Cb1VNJROaLwroOYxulu/uqZwW4gshneApLD8WvbwNuiyYaEZHyWb6ojmQiNq5RutpGR0OVlRxEROazWMxobx7fnbXa5lUCJQcRkYrqaE6xp6jk4O5VN3UGKDmIiFRUezrF3t5B3INOlgPDOU6M5JQcREQWss50A4PDudGV36pxjAMoOYiIVNRod9awamk0OTTWRRZTKUoOIiIVdLI765jkoJKDiMjCtXJJPTGDvWGPpa6+IUDJQURkQUsmYqxcWn+y5NCfIREzltTXRBzZqyk5iIhUWEdzA3t6T1YrpRuTxGKl5h2NjpKDiEiFdaRT7BmtVqq+MQ6g5CAiUnEd6RRHB0c4dmIkmDqjykZHg5KDiEjFtTcHPZb29gyq5CAiIoHOlmCsw4vd/XT3V9+MrKDkICJSce3hQj9P7TtGLu+qVhIREUglE7Q11bJlTy8ArU3VNToalBxERCLRkU6x/eBxoPoGwIGSg4hIJDrSDeTywcysSg4iIgIE6zoUKDmIiAhwcnbW+po4Dcl4xNGMp+QgIhKBwuysrU21mFXX1Bmg5CAiEomOsORQjVVKoOQgIhKJJakki+traGlMRh1KSYmoAxARWag+/JbzWFXUMF1NlBxERCLy9kvbow5hQqpWEhGRcZQcRERkHCUHEREZR8lBRETGUXIQEZFxlBxERGQcJQcRERlHyUFERMYxd486hhkzsy5gzww+ogXonqVwykHxzYzimxnFNzPVHF+Hu7eWOjAvksNMmdkWd18fdRwTUXwzo/hmRvHNTLXHNxFVK4mIyDhKDiIiMo6SQ+BzUQcwCcU3M4pvZhTfzFR7fCWpzUFERMZRyUFERMZRchARkXEWTHIws2vNbKeZ7TKzPytx3Mzs78LjT5vZxRWMbZWZPWBmO8xsu5n9YYlzrjKzY2a2NXx8tFLxhdffbWbPhNfeUuJ4lPfv3KL7stXMjpvZB8ecU/H7Z2afN7PDZrataF+zmd1nZi+Ez0sneO8pv69ljO+TZvZc+G94p5ktmeC9p/w+lDG+j5nZgaJ/x7dM8N6o7t/Xi2LbbWZbJ3hv2e/fjLn7vH8AceCnwFlAEngKWDfmnLcA3wMMeAPwaAXjOwO4ONxuAp4vEd9VwHcivIe7gZZTHI/s/pX4t36FYHBPpPcPuBK4GNhWtO8TwJ+F238G3D7Bz3DK72sZ47sGSITbt5eKbyrfhzLG9zHgT6fwHYjk/o05/j+Bj0Z1/2b6WCglhw3ALnd/0d2Hga8B148553rg/3rgEWCJmZ1RieDc/WV3fyLc7gN2ACsrce1ZFNn9G2Mj8FN3n8mI+Vnh7g8CvWN2Xw98Kdz+EvC2Em+dyve1LPG5+73ung1fPgKcOdvXnaoJ7t9URHb/CszMgF8Hvjrb162UhZIcVgL7il7vZ/wv36mcU3Zm1glcBDxa4vBlZvaUmX3PzM6vaGDgwL1m9riZ3VTieFXcP+BGJv4PGeX9K1jm7i9D8EcB0FbinGq5l+8jKA2WMtn3oZxuCau9Pj9BtVw13L8rgEPu/sIEx6O8f1OyUJKDldg3tg/vVM4pKzNrBL4FfNDdj485/ARBVclrgU8Bd1UyNuByd78YeDNws5ldOeZ4Ndy/JHAd8M0Sh6O+f9NRDffyI0AWuGOCUyb7PpTL3wM/A7wOeJmg6masyO8f8A5OXWqI6v5N2UJJDvuBVUWvzwQOnsY5ZWNmNQSJ4Q53//bY4+5+3N37w+3vAjVm1lKp+Nz9YPh8GLiToOheLNL7F3oz8CdRKwUAAAWVSURBVIS7Hxp7IOr7V+RQobotfD5c4pyov4vvBt4KvNPDCvKxpvB9KAt3P+TuOXfPA/80wXWjvn8J4JeBr090TlT3bzoWSnL4CbDGzFaHf13eCNw95py7gXeFvW7eABwrFP/LLayf/D/ADnf/mwnOWR6eh5ltIPi366lQfA1m1lTYJmi03DbmtMjuX5EJ/1qL8v6NcTfw7nD73cC/lDhnKt/XsjCza4EPAde5++AE50zl+1Cu+IrbsW6Y4LqR3b/QJuA5d99f6mCU929aom4Rr9SDoDfN8wS9GD4S7ns/8P5w24DPhMefAdZXMLY3EhR7nwa2ho+3jInvFmA7Qc+LR4CfrWB8Z4XXfSqMoaruX3j9FMEv+8VF+yK9fwSJ6mVghOCv2d8C0sD9wAvhc3N47grgu6f6vlYovl0E9fWF7+E/jI1vou9DheL7cvj9eprgF/4Z1XT/wv1fLHzvis6t+P2b6UPTZ4iIyDgLpVpJRESmQclBRETGUXIQEZFxlBxERGQcJQcRERlHyUHmDDPLhbNYbjOzb5pZapLz+ysV25jrrjezv5vknKvM7DsT7D9mZk+Gs4o+aGZvLV+0IqUpOchccsLdX+fuFwDDBOMYqo67b3H3D8zgIx5y94vc/VzgA8CnzWzjTOMKByjq/7xMib4oMlc9BJwNYGZ/HJYmttmYdRzC4182s+uLXt9hZteZ2XvM7Ntmdo8F6yt8ouicd4Tz7W8zs9uL9veb2e3hhGmbzWyDmf3QzF40s+vCc0ZLBeHxfw9LAv9uZudO54d0963AXxEM4sPMWs3sW2b2k/BxedH++8zsCTP7RzPbY2YtZtZpwTohnyWYX2qVmV1jZv8RnvvNcE4vzOwSM/tR+LN936KZVVeqRdSj8PTQY6oPoD98ThBMO/F7wCUEI2YbgEaCEacXjTn/54C7wu3FwEvhZ7wHeDHcVwfsIZiTZwWwF2gNz/sB8Lbw/Q68Ody+E7gXqAFeC2wN919FuHYEsIiT6yNsAr419pwxP+O4/QSTzO0It78CvDHcbi/a/2ng1nD72jDOFqATyANvCI+1AA8CDeHrDwEfDX+Gfwdaw/1vBz4f9b+5HtE9ElNJICJVot5Orqz1EMF8VL8H3OnuAwBm9m2C6ZKfLLzJ3X9kZp8xszaCCdG+5e7ZcKql+939WPjeZ4EOgikufujuXeH+OwgWdrmLoDrrnvCjnwEy7j5iZs8Q/CIeazHwJTNbQ/ALu+Y0fu7iWUY3AevC2AEWhfP0vJFgriHc/R4zO1L0nj0erLEBwUJM64CHw89IAv8BnAtcANwX7o8TTA0hC5SSg8wlJ9z9dcU7rOi35CS+DLyTYBK29xXtzxRt5wj+T5zqM0fcvTDnTL7wfnfPWzAb51gfBx5w9xssWKvjh1OMt9hFBAtAQVAVfJm7nyg+YZL7MFB8KnCfu79jzPtfA2x398tOIz6Zh9TmIHPdg8DbzCwVznB5A0GpYqwvAh8EcPftk3zmo8DPhXX2cYLZXn90mvEtBg6E2++Z7pvN7ELgzwkmNYSgGuuWouOFZPljgpXHMLNrgJJrUxNMOni5mRXaa1Jmdg6wE2g1s8vC/TUW3YJIUgWUHGRO82B51S8CjxH8Uv/f7v5kifMOEfz1/YUpfObLwK3AAwQzZz7h7qWm1p6KTwB/bWYPE1TVTMUVha6sBEnhA+5+f3jsA8B6C1ZCe5aTPbb+ErjGzJ4gWNfiZaCvxM/WRZCkvmpmTxMki/M8WE7zV4HbzewpghlZf3b6P67MF5qVVRaEcEzEM8DFhTaG+cTMaoFc2JZyGfD3Y6vgRKZDbQ4y75nZJuDzwN/Mx8QQage+EY5jGAZ+J+J4ZI5TyUFERMZRm4OIiIyj5CAiIuMoOYiIyDhKDiIiMo6Sg4iIjPP/ASt+GwnNyUePAAAAAElFTkSuQmCC
"
>
</div>

</div>

</div>
</div>

</div>
<div class="cell border-box-sizing text_cell rendered">
  <div class="prompt input_prompt">
</div><div class="inner_cell">
    <div class="text_cell_render border-box-sizing rendered_html">
      <h2 id="Problem-6-(extra)">Problem 6 (extra)<a class="anchor-link" href="#Problem-6-(extra)">&#182;</a></h2><h3 id="(3-points)">(3 points)<a class="anchor-link" href="#(3-points)">&#182;</a></h3>
    </div>
  </div></div>

<div class="cell border-box-sizing text_cell rendered">
  <div class="prompt input_prompt">
</div><div class="inner_cell">
    <div class="text_cell_render border-box-sizing rendered_html">
      <h3 id="Gradient-descent-methods">Gradient descent methods<a class="anchor-link" href="#Gradient-descent-methods">&#182;</a></h3>
    </div>
  </div></div>

<div class="cell border-box-sizing text_cell rendered">
  <div class="prompt input_prompt">
</div><div class="inner_cell">
    <div class="text_cell_render border-box-sizing rendered_html">
      <h4 id="Generate-noisy-data-with-a-quadratic-feature">Generate noisy data with a quadratic feature<a class="anchor-link" href="#Generate-noisy-data-with-a-quadratic-feature">&#182;</a></h4><p>This is the same data as in Problem 2.</p>

    </div>
  </div></div>

<div class="cell border-box-sizing code_cell rendered">
<div class="input">
<div class="prompt input_prompt">In&nbsp;[6]:</div><div class="inner_cell">
    <div class="input_area">
      <div class=" highlight hl-ipython3"><pre><span></span><span class="c1"># Generate noisy data with a quadratic feature</span>
<span class="c1"># use the following code:</span>
<span class="n">np</span><span class="o">.</span><span class="n">random</span><span class="o">.</span><span class="n">seed</span><span class="p">(</span><span class="mi">42</span><span class="p">)</span>

<span class="c1"># X are picked uniform random [0,2]</span>
<span class="n">X</span> <span class="o">=</span> <span class="mi">2</span> <span class="o">*</span> <span class="n">np</span><span class="o">.</span><span class="n">random</span><span class="o">.</span><span class="n">rand</span><span class="p">(</span><span class="mi">100</span><span class="p">,</span> <span class="mi">1</span><span class="p">)</span>
<span class="c1"># Linear relation to the predicted value, but with Gaussian noise (mean=0, variance=1)</span>
<span class="n">y</span> <span class="o">=</span> <span class="mf">0.5</span> <span class="o">*</span> <span class="n">X</span><span class="o">**</span><span class="mi">2</span> <span class="o">+</span> <span class="n">X</span> <span class="o">+</span> <span class="mi">2</span> <span class="o">+</span> <span class="mf">0.2</span> <span class="o">*</span> <span class="n">np</span><span class="o">.</span><span class="n">random</span><span class="o">.</span><span class="n">randn</span><span class="p">(</span><span class="mi">100</span><span class="p">,</span> <span class="mi">1</span><span class="p">)</span>
</pre></div>

    </div>
  </div>
</div>

</div>
<div class="cell border-box-sizing text_cell rendered">
  <div class="prompt input_prompt">
</div><div class="inner_cell">
    <div class="text_cell_render border-box-sizing rendered_html">
      <h4 id="(a)-Batch-and-stochastic-gradient-descent">(a) Batch and stochastic gradient descent<a class="anchor-link" href="#(a)-Batch-and-stochastic-gradient-descent">&#182;</a></h4><p>Implement both batch and stochastic gradient descent and use these methods to find the best fit parameters of a quadratic model.</p>
<ul>
<li>You might want to tune the learning hyperparameter $\eta$.</li>
<li>Do 50 epochs for the SGD (each epoch corresponding to using all instances of data once)</li>
<li>Compare with the solution from Problem 2.</li>
</ul>

    </div>
  </div></div>

<div class="cell border-box-sizing code_cell rendered">
<div class="input">
<div class="prompt input_prompt">In&nbsp;[7]:</div><div class="panel panel-primary nbgrader_cell">
    <a name="comment-bgd"></a><div class="panel-heading"><span class="nbgrader-label">Student's answer</span><span class="pull-right"><a href="#top">(Top)</a></span></div>
    <div class="panel-body">
      <div class="input_area">
        <div class=" highlight hl-ipython3"><pre><span></span><span class="c1"># Implement BGD and use it to find the best-fit parameters</span>
<span class="c1">#</span>
<span class="c1"># At the end, the following array should contain the </span>
<span class="c1"># best-fit parameters: </span>
<span class="c1"># theta_0 (constant term), theta_1 (linear), theta_2 (quadratic)</span>

<span class="k">def</span> <span class="nf">design_matrix</span> <span class="p">(</span><span class="n">X</span><span class="p">,</span> <span class="n">degree</span><span class="o">=</span><span class="mi">2</span><span class="p">):</span>
   
    <span class="n">m</span> <span class="o">=</span> <span class="nb">len</span><span class="p">(</span><span class="n">X</span><span class="p">)</span>
    <span class="n">X_d</span> <span class="o">=</span> <span class="n">np</span><span class="o">.</span><span class="n">ones</span><span class="p">(</span><span class="n">X</span><span class="o">.</span><span class="n">shape</span><span class="p">)</span>
    <span class="k">for</span> <span class="n">i</span> <span class="ow">in</span> <span class="nb">range</span><span class="p">(</span><span class="mi">1</span><span class="p">,</span> <span class="n">degree</span><span class="o">+</span><span class="mi">1</span><span class="p">):</span>
        <span class="n">X_d</span> <span class="o">=</span> <span class="n">np</span><span class="o">.</span><span class="n">concatenate</span><span class="p">((</span><span class="n">X_d</span><span class="p">,</span><span class="n">X</span><span class="o">**</span><span class="n">i</span><span class="p">),</span><span class="n">axis</span><span class="o">=</span><span class="mi">1</span><span class="p">)</span>
    <span class="k">return</span> <span class="n">X_d</span>
<span class="n">i</span> <span class="o">=</span> <span class="mi">0</span> 

<span class="n">X_d</span> <span class="o">=</span> <span class="n">design_matrix</span><span class="p">(</span><span class="n">X</span><span class="p">,</span><span class="n">degree</span><span class="o">=</span><span class="mi">2</span><span class="p">)</span>
<span class="c1">#X_d = np.c_[np.ones((m, 1)), X] </span>


<span class="n">theta_bgd</span> <span class="o">=</span> <span class="p">[]</span> <span class="c1"># Note the order</span>
<span class="n">eta</span> <span class="o">=</span> <span class="mf">0.1</span>
<span class="n">n_iter</span> <span class="o">=</span><span class="mi">2000</span>
<span class="n">m</span><span class="o">=</span><span class="nb">len</span><span class="p">(</span><span class="n">X</span><span class="p">)</span>
<span class="n">theta_bgd_vector</span><span class="o">=</span><span class="p">[]</span>
<span class="n">theta</span> <span class="o">=</span> <span class="n">np</span><span class="o">.</span><span class="n">random</span><span class="o">.</span><span class="n">randn</span><span class="p">(</span><span class="mi">3</span><span class="p">,</span><span class="mi">1</span><span class="p">)</span>
<span class="k">for</span>  <span class="n">i</span> <span class="ow">in</span> <span class="nb">range</span><span class="p">(</span><span class="n">n_iter</span><span class="p">):</span>
    <span class="n">gradients</span> <span class="o">=</span> <span class="mi">2</span><span class="o">/</span><span class="n">m</span> <span class="o">*</span> <span class="n">X_d</span><span class="o">.</span><span class="n">T</span><span class="o">.</span><span class="n">dot</span><span class="p">(</span><span class="n">X_d</span><span class="o">.</span><span class="n">dot</span><span class="p">(</span><span class="n">theta</span><span class="p">)</span> <span class="o">-</span> <span class="n">y</span><span class="p">)</span>
    <span class="n">theta_bgd_vector</span><span class="o">.</span><span class="n">append</span><span class="p">(</span><span class="n">theta</span><span class="p">)</span>
    <span class="n">theta</span> <span class="o">=</span> <span class="n">theta</span> <span class="o">-</span> <span class="n">eta</span> <span class="o">*</span> <span class="n">gradients</span>


<span class="n">theta_bgd</span> <span class="o">=</span> <span class="n">theta</span><span class="o">.</span><span class="n">flatten</span><span class="p">()</span>
<span class="nb">print</span><span class="p">(</span><span class="s1">&#39;Bath Gradient Descent = &#39;</span> <span class="p">,</span> <span class="n">theta_bgd</span><span class="p">)</span>

<span class="c1"># </span>
<span class="c1"># YOUR CODE HERE</span>
<span class="c1"># </span>
</pre></div>

      </div>
    </div>
    
  </div>
</div>

<div class="output_wrapper">
<div class="output">


<div class="output_area">

    <div class="prompt"></div>


<div class="output_subarea output_stream output_stdout output_text">
<pre>Bath Gradient Descent =  [2.11145546 0.73013319 0.61507503]
</pre>
</div>
</div>

</div>
</div>

</div>
<div class="cell border-box-sizing code_cell rendered">
<div class="input">
<div class="prompt input_prompt">In&nbsp;[8]:</div><div class="panel panel-primary nbgrader_cell">
    <a name="comment-sgd"></a><div class="panel-heading"><span class="nbgrader-label">Student's answer</span><span class="pull-right"><a href="#top">(Top)</a></span></div>
    <div class="panel-body">
      <div class="input_area">
        <div class=" highlight hl-ipython3"><pre><span></span><span class="c1"># Implement SGD and use it to find the best-fit parameters</span>
<span class="c1">#</span>
<span class="c1"># At the end, the following array should contain the </span>
<span class="c1"># best-fit parameters: </span>
<span class="c1"># theta_0 (constant term), theta_1 (linear), theta_2 (quadratic)</span>

<span class="k">def</span> <span class="nf">design_matrix</span> <span class="p">(</span><span class="n">X</span><span class="p">,</span> <span class="n">degree</span><span class="o">=</span><span class="mi">2</span><span class="p">):</span>
    <span class="n">m</span> <span class="o">=</span> <span class="nb">len</span><span class="p">(</span><span class="n">X</span><span class="p">)</span>
    <span class="n">X_d</span> <span class="o">=</span> <span class="n">np</span><span class="o">.</span><span class="n">ones</span><span class="p">(</span><span class="n">X</span><span class="o">.</span><span class="n">shape</span><span class="p">)</span>
    <span class="k">for</span> <span class="n">i</span> <span class="ow">in</span> <span class="nb">range</span><span class="p">(</span><span class="mi">1</span><span class="p">,</span> <span class="n">degree</span><span class="o">+</span><span class="mi">1</span><span class="p">):</span>
        <span class="n">X_d</span> <span class="o">=</span> <span class="n">np</span><span class="o">.</span><span class="n">concatenate</span><span class="p">((</span><span class="n">X_d</span><span class="p">,</span><span class="n">X</span><span class="o">**</span><span class="n">i</span><span class="p">),</span><span class="n">axis</span><span class="o">=</span><span class="mi">1</span><span class="p">)</span>
    <span class="k">return</span> <span class="n">X_d</span>
<span class="n">i</span> <span class="o">=</span> <span class="mi">0</span> 


<span class="n">m</span><span class="o">=</span><span class="nb">len</span><span class="p">(</span><span class="n">X</span><span class="p">)</span>
<span class="n">eta</span> <span class="o">=</span> <span class="mf">0.5</span>
<span class="n">X_d</span> <span class="o">=</span> <span class="n">design_matrix</span><span class="p">(</span><span class="n">X</span><span class="p">,</span><span class="n">degree</span><span class="o">=</span><span class="mi">2</span><span class="p">)</span>
<span class="n">theta_sgd</span> <span class="o">=</span> <span class="n">np</span><span class="o">.</span><span class="n">array</span><span class="p">([</span><span class="mf">0.</span><span class="p">,</span> <span class="mf">0.</span><span class="p">,</span> <span class="mf">0.</span><span class="p">])</span>
<span class="n">theta_sgd</span><span class="o">=</span><span class="n">theta_sgd</span><span class="o">.</span><span class="n">reshape</span><span class="p">(</span><span class="o">-</span><span class="mi">1</span><span class="p">,</span><span class="mi">1</span><span class="p">)</span>
<span class="n">epoch</span> <span class="o">=</span> <span class="mi">50</span>
<span class="n">theta_sgd_vector</span><span class="o">=</span> <span class="p">[]</span>
<span class="k">for</span> <span class="n">i</span> <span class="ow">in</span> <span class="nb">range</span> <span class="p">(</span><span class="n">epoch</span><span class="p">):</span> 
    <span class="k">for</span> <span class="n">j</span> <span class="ow">in</span> <span class="nb">range</span> <span class="p">(</span><span class="n">m</span><span class="p">):</span>
        <span class="n">rd_index</span><span class="o">=</span> <span class="n">np</span><span class="o">.</span><span class="n">random</span><span class="o">.</span><span class="n">randint</span><span class="p">(</span><span class="n">m</span><span class="p">)</span>
        <span class="n">X_d2</span> <span class="o">=</span> <span class="n">X_d</span><span class="p">[</span><span class="n">rd_index</span><span class="p">:</span><span class="n">rd_index</span><span class="o">+</span><span class="mi">1</span><span class="p">]</span>
        <span class="n">y2</span> <span class="o">=</span> <span class="n">y</span><span class="p">[</span><span class="n">rd_index</span><span class="p">:</span><span class="n">rd_index</span><span class="o">+</span><span class="mi">1</span><span class="p">]</span>
        <span class="n">grad</span><span class="o">=</span><span class="mi">2</span><span class="o">/</span><span class="n">m</span> <span class="o">*</span><span class="n">X_d2</span><span class="o">.</span><span class="n">T</span><span class="o">.</span><span class="n">dot</span><span class="p">(</span><span class="n">X_d2</span><span class="o">.</span><span class="n">dot</span><span class="p">(</span><span class="n">theta_sgd</span><span class="p">)</span><span class="o">-</span><span class="n">y2</span><span class="p">)</span>
        <span class="n">theta_sgd</span><span class="o">=</span> <span class="n">theta_sgd</span><span class="o">-</span><span class="n">eta</span><span class="o">*</span><span class="n">grad</span>
    <span class="n">theta_sgd_vector</span><span class="o">.</span><span class="n">append</span><span class="p">(</span><span class="n">theta_sgd</span><span class="p">)</span>
<span class="n">theta_sgd</span><span class="o">=</span><span class="n">theta_sgd</span><span class="o">.</span><span class="n">flatten</span><span class="p">()</span>
<span class="nb">print</span><span class="p">(</span><span class="s1">&#39;Stochastic Gradient Descent =&#39;</span><span class="p">,</span><span class="n">theta_sgd</span><span class="p">)</span>
<span class="nb">print</span><span class="p">(</span><span class="s1">&#39;Bath Gradient Descent = &#39;</span> <span class="p">,</span> <span class="n">theta_bgd</span><span class="p">)</span>
</pre></div>

      </div>
    </div>
    
  </div>
</div>

<div class="output_wrapper">
<div class="output">


<div class="output_area">

    <div class="prompt"></div>


<div class="output_subarea output_stream output_stdout output_text">
<pre>Stochastic Gradient Descent = [2.05293427 0.85178167 0.5309271 ]
Bath Gradient Descent =  [2.11145546 0.73013319 0.61507503]
</pre>
</div>
</div>

</div>
</div>

</div>
<div class="cell border-box-sizing code_cell rendered">
<div class="input">
<div class="prompt input_prompt">In&nbsp;[9]:</div><div class="panel panel-primary nbgrader_cell">
    <a name="correct_bgd_sgd"></a><div class="panel-heading"><span class="nbgrader-label">Grade cell: <code>correct_bgd_sgd</code></span>
  <span class="pull-right">
      Score: 1.0 / 1.0 <a href="#top">(Top)</a>
  </span></div>
    <div class="panel-body">
      <div class="input_area">
        <div class=" highlight hl-ipython3"><pre><span></span><span class="k">assert</span> <span class="n">theta_bgd</span><span class="o">.</span><span class="n">shape</span> <span class="o">==</span><span class="p">(</span><span class="mi">3</span><span class="p">,)</span>
<span class="k">assert</span> <span class="ow">not</span> <span class="p">(</span><span class="n">theta_bgd</span><span class="o">==</span><span class="mi">0</span><span class="p">)</span><span class="o">.</span><span class="n">any</span><span class="p">()</span>
<span class="k">assert</span> <span class="n">theta_sgd</span><span class="o">.</span><span class="n">shape</span> <span class="o">==</span><span class="p">(</span><span class="mi">3</span><span class="p">,)</span>
<span class="k">assert</span> <span class="ow">not</span> <span class="p">(</span><span class="n">theta_sgd</span><span class="o">==</span><span class="mi">0</span><span class="p">)</span><span class="o">.</span><span class="n">any</span><span class="p">()</span>

<span class="c1">### BEGIN HIDDEN TESTS</span>
<span class="n">bgd_rel_residual</span> <span class="o">=</span> \
    <span class="p">(</span><span class="n">theta_bgd</span> <span class="o">-</span> <span class="n">np</span><span class="o">.</span><span class="n">array</span><span class="p">([</span><span class="mf">2.115637</span>  <span class="p">,</span> <span class="mf">0.71818635</span><span class="p">,</span> <span class="mf">0.62084094</span><span class="p">]))</span> <span class="o">/</span> \
     <span class="n">theta_bgd</span>
<span class="k">assert</span> <span class="p">(</span><span class="n">np</span><span class="o">.</span><span class="n">abs</span><span class="p">(</span><span class="n">bgd_rel_residual</span><span class="p">)</span> <span class="o">&lt;</span> <span class="mf">1e-2</span><span class="p">)</span><span class="o">.</span><span class="n">all</span><span class="p">()</span>

<span class="n">sgd_rel_residual</span> <span class="o">=</span> \
    <span class="p">(</span><span class="n">theta_sgd</span> <span class="o">-</span> <span class="n">np</span><span class="o">.</span><span class="n">array</span><span class="p">([</span><span class="mf">2.0722467</span> <span class="p">,</span> <span class="mf">0.81941322</span><span class="p">,</span> <span class="mf">0.56409072</span><span class="p">]))</span> <span class="o">/</span> \
     <span class="n">theta_sgd</span>
<span class="k">assert</span> <span class="p">(</span><span class="n">np</span><span class="o">.</span><span class="n">abs</span><span class="p">(</span><span class="n">sgd_rel_residual</span><span class="p">)</span> <span class="o">&lt;</span> <span class="mf">1e-2</span><span class="p">)</span><span class="o">.</span><span class="n">all</span><span class="p">()</span>
<span class="c1">### END HIDDEN TESTS</span>
</pre></div>

      </div>
    </div>
    
  </div>
</div>

<div class="output_wrapper">
<div class="output">


<div class="output_area">

    <div class="prompt"></div>


<div class="output_subarea output_text output_error">
<pre>
<span class="ansi-red-fg">---------------------------------------------------------------------------</span>
<span class="ansi-red-fg">AssertionError</span>                            Traceback (most recent call last)
<span class="ansi-green-fg">&lt;ipython-input-9-e1957495f6e2&gt;</span> in <span class="ansi-cyan-fg">&lt;module&gt;</span>
<span class="ansi-green-intense-fg ansi-bold">      8</span>     <span class="ansi-blue-fg">(</span>theta_bgd <span class="ansi-blue-fg">-</span> np<span class="ansi-blue-fg">.</span>array<span class="ansi-blue-fg">(</span><span class="ansi-blue-fg">[</span><span class="ansi-cyan-fg">2.115637</span>  <span class="ansi-blue-fg">,</span> <span class="ansi-cyan-fg">0.71818635</span><span class="ansi-blue-fg">,</span> <span class="ansi-cyan-fg">0.62084094</span><span class="ansi-blue-fg">]</span><span class="ansi-blue-fg">)</span><span class="ansi-blue-fg">)</span> <span class="ansi-blue-fg">/</span><span class="ansi-red-fg"> </span><span class="ansi-red-fg">\</span>
<span class="ansi-green-intense-fg ansi-bold">      9</span>      theta_bgd
<span class="ansi-green-fg">---&gt; 10</span><span class="ansi-red-fg"> </span><span class="ansi-green-fg">assert</span> <span class="ansi-blue-fg">(</span>np<span class="ansi-blue-fg">.</span>abs<span class="ansi-blue-fg">(</span>bgd_rel_residual<span class="ansi-blue-fg">)</span> <span class="ansi-blue-fg">&lt;</span> <span class="ansi-cyan-fg">1e-2</span><span class="ansi-blue-fg">)</span><span class="ansi-blue-fg">.</span>all<span class="ansi-blue-fg">(</span><span class="ansi-blue-fg">)</span>
<span class="ansi-green-intense-fg ansi-bold">     11</span> 
<span class="ansi-green-intense-fg ansi-bold">     12</span> sgd_rel_residual <span class="ansi-blue-fg">=</span><span class="ansi-red-fg"> </span><span class="ansi-red-fg">\</span>

<span class="ansi-red-fg">AssertionError</span>: </pre>
</div>
</div>

</div>
</div>

</div>
<div class="cell border-box-sizing text_cell rendered">
  <div class="prompt input_prompt">
</div><div class="inner_cell">
    <div class="text_cell_render border-box-sizing rendered_html">
      <h4 id="(b)-Mini-batch-gradient-descent">(b) Mini-batch gradient descent<a class="anchor-link" href="#(b)-Mini-batch-gradient-descent">&#182;</a></h4><p>Implement mini-batch gradient descent and use this method to find the best fit parameters. Details:</p>
<ul>
<li>use a mini-batch size of 20%</li>
<li>apply a similar learning schedule as in the SGD example (you might have to tune the learning hyperprameters)</li>
<li>perform 50 epochs </li>
<li>hint: the <code>numpy.random.permutation</code> function might be useful for creating the mini-batches. </li>
<li>Compare with the solutions from BGD and SGD.</li>
</ul>

    </div>
  </div></div>

<div class="cell border-box-sizing code_cell rendered">
<div class="input">
<div class="prompt input_prompt">In&nbsp;[10]:</div><div class="panel panel-primary nbgrader_cell">
    <a name="comment-mbgd"></a><div class="panel-heading"><span class="nbgrader-label">Student's answer</span><span class="pull-right"><a href="#top">(Top)</a></span></div>
    <div class="panel-body">
      <div class="input_area">
        <div class=" highlight hl-ipython3"><pre><span></span><span class="c1"># Implement MBGD and use it to find the best-fit parameters</span>
<span class="c1">#</span>
<span class="c1"># At the end, the following array should contain the </span>
<span class="c1"># best-fit parameters: </span>
<span class="c1"># theta_0 (constant term), theta_1 (linear), theta_2 (quadratic)</span>
 <span class="c1"># Note the order</span>
<span class="k">def</span> <span class="nf">design_matrix</span> <span class="p">(</span><span class="n">X</span><span class="p">,</span> <span class="n">degree</span><span class="o">=</span><span class="mi">2</span><span class="p">):</span>
    <span class="n">m</span> <span class="o">=</span> <span class="nb">len</span><span class="p">(</span><span class="n">X</span><span class="p">)</span>
    <span class="n">X_d</span> <span class="o">=</span> <span class="n">np</span><span class="o">.</span><span class="n">ones</span><span class="p">(</span><span class="n">X</span><span class="o">.</span><span class="n">shape</span><span class="p">)</span>
    <span class="k">for</span> <span class="n">i</span> <span class="ow">in</span> <span class="nb">range</span><span class="p">(</span><span class="mi">1</span><span class="p">,</span> <span class="n">degree</span><span class="o">+</span><span class="mi">1</span><span class="p">):</span>
        <span class="n">X_d</span> <span class="o">=</span> <span class="n">np</span><span class="o">.</span><span class="n">concatenate</span><span class="p">((</span><span class="n">X_d</span><span class="p">,</span><span class="n">X</span><span class="o">**</span><span class="n">i</span><span class="p">),</span><span class="n">axis</span><span class="o">=</span><span class="mi">1</span><span class="p">)</span>
    <span class="k">return</span> <span class="n">X_d</span>
<span class="n">i</span> <span class="o">=</span> <span class="mi">0</span> 

<span class="n">X_dF</span> <span class="o">=</span> <span class="n">design_matrix</span><span class="p">(</span><span class="n">X</span><span class="p">)</span>

<span class="n">theta_mbgd_vector</span><span class="o">=</span> <span class="p">[]</span>
<span class="k">def</span> <span class="nf">calculEta</span><span class="p">(</span><span class="n">epoch</span><span class="p">):</span>
    <span class="k">return</span> <span class="mi">5</span><span class="o">/</span><span class="p">(</span><span class="mi">50</span><span class="o">+</span><span class="n">epoch</span><span class="p">)</span>

<span class="k">def</span> <span class="nf">MBG</span><span class="p">(</span><span class="n">X</span><span class="p">,</span><span class="n">y</span><span class="p">,</span><span class="n">theta_mbgd</span><span class="p">,</span><span class="n">size</span><span class="o">=</span><span class="mf">0.2</span><span class="p">):</span>
    <span class="n">m</span><span class="o">=</span><span class="nb">len</span><span class="p">(</span><span class="n">X</span><span class="p">)</span>
    <span class="n">epoch</span> <span class="o">=</span> <span class="mi">50</span>
    <span class="n">mini</span><span class="o">=</span><span class="n">np</span><span class="o">.</span><span class="n">arange</span><span class="p">(</span><span class="mi">0</span><span class="p">,</span><span class="n">m</span><span class="p">,</span><span class="n">size</span><span class="o">*</span><span class="n">m</span><span class="p">)</span>

    <span class="k">for</span> <span class="n">i</span> <span class="ow">in</span> <span class="nb">range</span><span class="p">(</span><span class="n">epoch</span><span class="p">):</span>
        <span class="n">Rand_index</span><span class="o">=</span><span class="n">np</span><span class="o">.</span><span class="n">random</span><span class="o">.</span><span class="n">permutation</span><span class="p">(</span><span class="n">mini</span><span class="p">)</span>
        <span class="n">eta</span><span class="o">=</span><span class="n">calculEta</span><span class="p">(</span><span class="n">epoch</span><span class="p">)</span>
        <span class="k">for</span> <span class="n">j</span> <span class="ow">in</span> <span class="nb">range</span> <span class="p">(</span><span class="nb">len</span><span class="p">(</span><span class="n">Rand_index</span><span class="p">)):</span>
            <span class="n">rd_index</span><span class="o">=</span><span class="nb">int</span><span class="p">(</span><span class="n">Rand_index</span><span class="p">[</span><span class="n">j</span><span class="p">])</span>
            <span class="n">X_d2</span> <span class="o">=</span> <span class="n">X_d</span><span class="p">[</span><span class="n">rd_index</span><span class="p">:</span><span class="n">rd_index</span><span class="o">+</span><span class="mi">20</span><span class="p">]</span>
            <span class="n">y2</span> <span class="o">=</span> <span class="n">y</span><span class="p">[</span><span class="n">rd_index</span><span class="p">:</span><span class="n">rd_index</span><span class="o">+</span><span class="mi">20</span><span class="p">]</span>
            <span class="n">k</span><span class="o">=</span> <span class="nb">len</span><span class="p">(</span><span class="n">X_d2</span><span class="p">)</span>
            <span class="n">grad</span><span class="o">=</span><span class="mi">2</span><span class="o">/</span><span class="n">k</span><span class="o">*</span><span class="n">X_d2</span><span class="o">.</span><span class="n">T</span><span class="o">.</span><span class="n">dot</span><span class="p">(</span><span class="n">X_d2</span><span class="o">.</span><span class="n">dot</span><span class="p">(</span><span class="n">theta_mbgd</span><span class="p">)</span><span class="o">-</span><span class="n">y2</span><span class="p">)</span>
            <span class="n">theta_mbgd</span><span class="o">=</span> <span class="n">theta_mbgd</span><span class="o">-</span><span class="n">eta</span><span class="o">*</span><span class="n">grad</span>
    <span class="n">theta_mbgd_vector</span><span class="o">.</span><span class="n">append</span><span class="p">(</span><span class="n">theta_mbgd</span><span class="p">)</span>
    
    <span class="k">return</span> <span class="n">theta_mbgd</span>
            
<span class="n">theta_mbgd</span> <span class="o">=</span> <span class="n">np</span><span class="o">.</span><span class="n">array</span><span class="p">([</span><span class="mf">0.</span><span class="p">,</span> <span class="mf">0.</span><span class="p">,</span> <span class="mf">0.</span><span class="p">])</span>
<span class="n">theta_mbgd</span><span class="o">=</span><span class="n">theta_mbgd</span><span class="o">.</span><span class="n">reshape</span><span class="p">((</span><span class="o">-</span><span class="mi">1</span><span class="p">,</span><span class="mi">1</span><span class="p">))</span>
<span class="nb">print</span><span class="p">(</span><span class="n">theta_mbgd</span><span class="o">.</span><span class="n">shape</span><span class="p">)</span>
<span class="n">theta_mbgd</span> <span class="o">=</span> <span class="n">MBG</span><span class="p">(</span><span class="n">X_dF</span><span class="p">,</span><span class="n">y</span><span class="p">,</span><span class="n">theta_mbgd</span><span class="p">,</span><span class="n">size</span><span class="o">=</span><span class="mf">0.2</span><span class="p">)</span>
<span class="n">theta_mbgd</span><span class="o">=</span><span class="n">theta_mbgd</span><span class="o">.</span><span class="n">flatten</span><span class="p">()</span>
<span class="nb">print</span><span class="p">(</span><span class="s1">&#39;Mini-batch gradient descent = &#39;</span><span class="p">,</span> <span class="n">theta_mbgd</span><span class="p">)</span>
<span class="c1"># </span>
<span class="c1"># YOUR CODE HERE</span>
<span class="c1"># </span>
</pre></div>

      </div>
    </div>
    
  </div>
</div>

<div class="output_wrapper">
<div class="output">


<div class="output_area">

    <div class="prompt"></div>


<div class="output_subarea output_stream output_stdout output_text">
<pre>(3, 1)
Mini-batch gradient descent =  [2.05783813 0.88300749 0.541736  ]
</pre>
</div>
</div>

</div>
</div>

</div>
<div class="cell border-box-sizing code_cell rendered">
<div class="input">
<div class="prompt input_prompt">In&nbsp;[11]:</div><div class="panel panel-primary nbgrader_cell">
    <a name="correct_mbgd"></a><div class="panel-heading"><span class="nbgrader-label">Grade cell: <code>correct_mbgd</code></span>
  <span class="pull-right">
      Score: 1.0 / 1.0 <a href="#top">(Top)</a>
  </span></div>
    <div class="panel-body">
      <div class="input_area">
        <div class=" highlight hl-ipython3"><pre><span></span><span class="k">assert</span> <span class="n">theta_mbgd</span><span class="o">.</span><span class="n">shape</span> <span class="o">==</span><span class="p">(</span><span class="mi">3</span><span class="p">,)</span>
<span class="k">assert</span> <span class="ow">not</span> <span class="p">(</span><span class="n">theta_mbgd</span><span class="o">==</span><span class="mi">0</span><span class="p">)</span><span class="o">.</span><span class="n">any</span><span class="p">()</span>

<span class="c1">### BEGIN HIDDEN TESTS</span>
<span class="n">mbgd_rel_residual</span> <span class="o">=</span> \
    <span class="p">(</span><span class="n">theta_mbgd</span> <span class="o">-</span> <span class="n">np</span><span class="o">.</span><span class="n">array</span><span class="p">([</span><span class="mf">2.15789152</span><span class="p">,</span> <span class="mf">0.69356377</span><span class="p">,</span> <span class="mf">0.6623275</span> <span class="p">]))</span> <span class="o">/</span> \
     <span class="n">theta_mbgd</span>
<span class="k">assert</span> <span class="p">(</span><span class="n">np</span><span class="o">.</span><span class="n">abs</span><span class="p">(</span><span class="n">mbgd_rel_residual</span><span class="p">)</span> <span class="o">&lt;</span> <span class="mf">1e-2</span><span class="p">)</span><span class="o">.</span><span class="n">all</span><span class="p">()</span>
<span class="c1">### END HIDDEN TESTS</span>
</pre></div>

      </div>
    </div>
    
  </div>
</div>

<div class="output_wrapper">
<div class="output">


<div class="output_area">

    <div class="prompt"></div>


<div class="output_subarea output_text output_error">
<pre>
<span class="ansi-red-fg">---------------------------------------------------------------------------</span>
<span class="ansi-red-fg">AssertionError</span>                            Traceback (most recent call last)
<span class="ansi-green-fg">&lt;ipython-input-11-16d2870bad8e&gt;</span> in <span class="ansi-cyan-fg">&lt;module&gt;</span>
<span class="ansi-green-intense-fg ansi-bold">      6</span>     <span class="ansi-blue-fg">(</span>theta_mbgd <span class="ansi-blue-fg">-</span> np<span class="ansi-blue-fg">.</span>array<span class="ansi-blue-fg">(</span><span class="ansi-blue-fg">[</span><span class="ansi-cyan-fg">2.15789152</span><span class="ansi-blue-fg">,</span> <span class="ansi-cyan-fg">0.69356377</span><span class="ansi-blue-fg">,</span> <span class="ansi-cyan-fg">0.6623275</span> <span class="ansi-blue-fg">]</span><span class="ansi-blue-fg">)</span><span class="ansi-blue-fg">)</span> <span class="ansi-blue-fg">/</span><span class="ansi-red-fg"> </span><span class="ansi-red-fg">\</span>
<span class="ansi-green-intense-fg ansi-bold">      7</span>      theta_mbgd
<span class="ansi-green-fg">----&gt; 8</span><span class="ansi-red-fg"> </span><span class="ansi-green-fg">assert</span> <span class="ansi-blue-fg">(</span>np<span class="ansi-blue-fg">.</span>abs<span class="ansi-blue-fg">(</span>mbgd_rel_residual<span class="ansi-blue-fg">)</span> <span class="ansi-blue-fg">&lt;</span> <span class="ansi-cyan-fg">1e-2</span><span class="ansi-blue-fg">)</span><span class="ansi-blue-fg">.</span>all<span class="ansi-blue-fg">(</span><span class="ansi-blue-fg">)</span>
<span class="ansi-green-intense-fg ansi-bold">      9</span> <span class="ansi-red-fg">### END HIDDEN TESTS</span>

<span class="ansi-red-fg">AssertionError</span>: </pre>
</div>
</div>

</div>
</div>

</div>
<div class="cell border-box-sizing text_cell rendered">
  <div class="prompt input_prompt">
</div><div class="panel panel-primary nbgrader_cell">
    <a name="comment-gd_convergence"></a><div class="panel-heading"><span class="nbgrader-label">Student's task</span>
  <span class="pull-right">
      Score: 0.0 / 1.0 <a href="#top">(Top)</a>
  </span></div>
    <div class="panel-body">
      <div class="text_cell_render border-box-sizing rendered_html">
        <h4 id="(c)-Convergence">(c) Convergence<a class="anchor-link" href="#(c)-Convergence">&#182;</a></h4><p>Compare the convergence pattern for the BGD, SGD and MGD, i.e. plot the path towards the optimal set of parameters.</p>
<ul>
<li>Note that the path is in 3D (since there are three parameters in our quadratic model). You can plot 2D projections of the path.</li>
</ul>

      </div>
    </div>
    
  </div></div>

<div class="cell border-box-sizing code_cell rendered">
<div class="input">
<div class="prompt input_prompt">In&nbsp;[12]:</div><div class="panel panel-primary nbgrader_cell">
    <a name="comment-cell-a0ed6a6e81042c13"></a><div class="panel-heading"><span class="nbgrader-label">Student's answer</span><span class="pull-right"><a href="#top">(Top)</a></span></div>
    <div class="panel-body">
      <div class="input_area">
        <div class=" highlight hl-ipython3"><pre><span></span><span class="kn">from</span> <span class="nn">mpl_toolkits.mplot3d</span> <span class="kn">import</span> <span class="n">Axes3D</span>
<span class="n">fig</span> <span class="o">=</span> <span class="n">plt</span><span class="o">.</span><span class="n">figure</span><span class="p">()</span>
<span class="n">ax</span> <span class="o">=</span> <span class="n">fig</span><span class="o">.</span><span class="n">add_subplot</span><span class="p">(</span><span class="mi">111</span><span class="p">,</span> <span class="n">projection</span><span class="o">=</span><span class="s1">&#39;3d&#39;</span><span class="p">)</span>

<span class="n">theta_mbgd_vector2</span><span class="o">=</span><span class="n">np</span><span class="o">.</span><span class="n">asarray</span><span class="p">(</span><span class="n">theta_mbgd_vector</span><span class="p">)</span>
<span class="n">a</span><span class="o">=</span><span class="nb">len</span><span class="p">(</span><span class="n">theta_mbgd_vector2</span><span class="p">)</span>
<span class="n">b</span><span class="o">=</span><span class="n">a</span><span class="o">/</span><span class="mi">3</span>
<span class="n">theta_mbgd_vector2</span><span class="o">=</span><span class="n">theta_mbgd_vector</span><span class="o">.</span><span class="n">reshape2</span><span class="p">(</span><span class="n">b</span><span class="p">,</span><span class="mi">3</span><span class="p">)</span>
<span class="n">ax</span><span class="o">.</span><span class="n">plot</span><span class="p">(</span><span class="n">theta_bgd_vector2</span><span class="p">[:,</span><span class="mi">0</span><span class="p">],</span><span class="n">theta_bgd_vector2</span><span class="p">[:,</span><span class="mi">1</span><span class="p">],</span><span class="n">theta_bgd_vector2</span><span class="p">[:,</span><span class="mi">2</span><span class="p">])</span>
<span class="n">ax</span><span class="o">.</span><span class="n">plot</span><span class="p">(</span><span class="n">theta_sgd_vector2</span><span class="p">[:,</span><span class="mi">0</span><span class="p">],</span><span class="n">theta_sgd_vector2</span><span class="p">[:,</span><span class="mi">1</span><span class="p">],</span><span class="n">theta_sgd_vector2</span><span class="p">[:,</span><span class="mi">2</span><span class="p">])</span>
<span class="n">ax</span><span class="o">.</span><span class="n">plot</span><span class="p">(</span><span class="n">theta_mbgd_vector2</span><span class="p">[:,</span><span class="mi">0</span><span class="p">],</span><span class="n">theta_mbgd_vector2</span><span class="p">[:,</span><span class="mi">1</span><span class="p">],</span><span class="n">theta_mbgd_vector2</span><span class="p">[:,</span><span class="mi">2</span><span class="p">])</span>
</pre></div>

      </div>
    </div>
    
  </div>
</div>

<div class="output_wrapper">
<div class="output">


<div class="output_area">

    <div class="prompt"></div>


<div class="output_subarea output_text output_error">
<pre>
<span class="ansi-red-fg">---------------------------------------------------------------------------</span>
<span class="ansi-red-fg">AttributeError</span>                            Traceback (most recent call last)
<span class="ansi-green-fg">&lt;ipython-input-12-f130831afca6&gt;</span> in <span class="ansi-cyan-fg">&lt;module&gt;</span>
<span class="ansi-green-intense-fg ansi-bold">      6</span> a<span class="ansi-blue-fg">=</span>len<span class="ansi-blue-fg">(</span>theta_mbgd_vector2<span class="ansi-blue-fg">)</span>
<span class="ansi-green-intense-fg ansi-bold">      7</span> b<span class="ansi-blue-fg">=</span>a<span class="ansi-blue-fg">/</span><span class="ansi-cyan-fg">3</span>
<span class="ansi-green-fg">----&gt; 8</span><span class="ansi-red-fg"> </span>theta_mbgd_vector2<span class="ansi-blue-fg">=</span>theta_mbgd_vector<span class="ansi-blue-fg">.</span>reshape2<span class="ansi-blue-fg">(</span>b<span class="ansi-blue-fg">,</span><span class="ansi-cyan-fg">3</span><span class="ansi-blue-fg">)</span>
<span class="ansi-green-intense-fg ansi-bold">      9</span> ax<span class="ansi-blue-fg">.</span>plot<span class="ansi-blue-fg">(</span>theta_bgd_vector2<span class="ansi-blue-fg">[</span><span class="ansi-blue-fg">:</span><span class="ansi-blue-fg">,</span><span class="ansi-cyan-fg">0</span><span class="ansi-blue-fg">]</span><span class="ansi-blue-fg">,</span>theta_bgd_vector2<span class="ansi-blue-fg">[</span><span class="ansi-blue-fg">:</span><span class="ansi-blue-fg">,</span><span class="ansi-cyan-fg">1</span><span class="ansi-blue-fg">]</span><span class="ansi-blue-fg">,</span>theta_bgd_vector2<span class="ansi-blue-fg">[</span><span class="ansi-blue-fg">:</span><span class="ansi-blue-fg">,</span><span class="ansi-cyan-fg">2</span><span class="ansi-blue-fg">]</span><span class="ansi-blue-fg">)</span>
<span class="ansi-green-intense-fg ansi-bold">     10</span> ax<span class="ansi-blue-fg">.</span>plot<span class="ansi-blue-fg">(</span>theta_sgd_vector2<span class="ansi-blue-fg">[</span><span class="ansi-blue-fg">:</span><span class="ansi-blue-fg">,</span><span class="ansi-cyan-fg">0</span><span class="ansi-blue-fg">]</span><span class="ansi-blue-fg">,</span>theta_sgd_vector2<span class="ansi-blue-fg">[</span><span class="ansi-blue-fg">:</span><span class="ansi-blue-fg">,</span><span class="ansi-cyan-fg">1</span><span class="ansi-blue-fg">]</span><span class="ansi-blue-fg">,</span>theta_sgd_vector2<span class="ansi-blue-fg">[</span><span class="ansi-blue-fg">:</span><span class="ansi-blue-fg">,</span><span class="ansi-cyan-fg">2</span><span class="ansi-blue-fg">]</span><span class="ansi-blue-fg">)</span>

<span class="ansi-red-fg">AttributeError</span>: &#39;list&#39; object has no attribute &#39;reshape2&#39;</pre>
</div>
</div>

<div class="output_area">

    <div class="prompt"></div>




<div class="output_png output_subarea ">
<img src="data:image/png;base64,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
"
>
</div>

</div>

</div>
</div>

</div>
<div class="cell border-box-sizing code_cell rendered">
<div class="input">
<div class="prompt input_prompt">In&nbsp;[&nbsp;]:</div><div class="inner_cell">
    <div class="input_area">
      <div class=" highlight hl-ipython3"><pre><span></span> 
</pre></div>

    </div>
  </div>
</div>

</div>
          </div>
        </div>
      </div>
    </div>
  </div>
</body>
</html>
