{
 "cells": [
  {
   "cell_type": "markdown",
   "metadata": {},
   "source": [
    "## Instructions\n",
    "- See deadline on the course web page\n",
    "- See examination rules on the course web page.\n",
    "- This problem set is performed individually (collaboration is encouraged, but each individual must be able to explain all of his/her hand-in solutions).\n",
    "- The two notebooks for each problem set contain a number of basic and extra problems; you can choose which and how many to work on.\n",
    "- Many problems are automatically graded using `assert` statements. You should check that your code passes these statements without raising an `AssertionError`. Note that there might be additional, hidden tests that must be passed for full credit. In addition, some tasks are either completely manually graded or part-automatic/part-manual.\n",
    "\n",
    "- **Important:** Hand-in is performed through the following actions:\n",
    "  - Make sure to always complete **Task 0** in the header part of the notebook. \n",
    "  - Upload your solution in the form of your edited version of this jupyter notebook via the appropriate module in Canvas.\n",
    "  - The name of the uploaded file **must be the same as the original one**!\n",
    "  \n",
    "  Note that the hand-in might not be automatically graded if you have changed the name of the uploaded file."
   ]
  },
  {
   "cell_type": "markdown",
   "metadata": {},
   "source": [
    "Before you turn this problem in, make sure everything runs as expected. First, **restart the kernel** (in the menubar, select Kernel$\\rightarrow$Restart) and then **run all cells** (in the menubar, select Cell$\\rightarrow$Run All).\n",
    "\n",
    "Your solutions are usually expected where it says `YOUR CODE HERE` or <font color=\"red\">\"PLEASE WRITE YOUR ANSWER HERE\"</font>."
   ]
  },
  {
   "cell_type": "markdown",
   "metadata": {},
   "source": [
    "### Task 0 \n",
    "#### (0 points)\n",
    "Fill your personal details in the dictionary 'student' with the following key/value pairs:\n",
    "- **Lastname**: Your lastname as a string\n",
    "- **Firstname**: Your firstname as a string\n",
    "- **DOB-year**: The year for your date of birth as a four-digit integer\n",
    "- **DOB-month**: The month for your date of birth as an integer (1-12)\n",
    "- **DOB-day**: The year for your date of birth as an integer (1-31)\n",
    "- **CID**: Your Chalmers login ID as a string"
   ]
  },
  {
   "cell_type": "code",
   "execution_count": 2,
   "metadata": {
    "deletable": false,
    "nbgrader": {
     "cell_type": "code",
     "checksum": "e4b41fd8e57932c927ede3a155032c98",
     "grade": false,
     "grade_id": "student_info",
     "locked": false,
     "schema_version": 3,
     "solution": true,
     "task": false
    }
   },
   "outputs": [],
   "source": [
    "student={}\n",
    "# Update the values below. Note the formats.\n",
    "student['Lastname']='Sanogo'  # string\n",
    "student['Firstname']='Ibrahim' # string\n",
    "student['CID']='sanogo'        # string\n",
    "student['DOB-year']=1999         # four-digit integer\n",
    "student['DOB-month']=1           # integer in the range [1, 12]\n",
    "student['DOB-day']=16            # integer in the range [1, 31]\n",
    "\n",
    "# \n",
    "# YOUR CODE HERE\n",
    "# "
   ]
  },
  {
   "cell_type": "code",
   "execution_count": 3,
   "metadata": {
    "deletable": false,
    "editable": false,
    "nbgrader": {
     "cell_type": "code",
     "checksum": "04fad85b593dac43e9a577b7ad0eda92",
     "grade": true,
     "grade_id": "correct_student_info",
     "locked": true,
     "points": 0,
     "schema_version": 3,
     "solution": false,
     "task": false
    }
   },
   "outputs": [],
   "source": [
    "for key in ['Lastname', 'Firstname','CID']:\n",
    "    assert type(student[key]) is str, f'{key} is wrong type.'\n",
    "    assert student[key] not in ['name_here','cid_here'],\\\n",
    "        f'Fill your {key} as a string.'\n",
    "\n",
    "for key in ['DOB-year', 'DOB-month','DOB-day']:\n",
    "    assert type(student[key]) is int, f'{key} is wrong type.'\n",
    "\n",
    "assert (student['DOB-year'] > 1900 and student['DOB-year'] < 2100)\n",
    "assert student['DOB-month'] in range(1,13), \\\n",
    "    'DOB month should be an integer in the range [1, 12]'\n",
    "assert student['DOB-day'] in range(1,32), \\\n",
    "    'DOB day should be an integer in the range [1, 31]'"
   ]
  },
  {
   "cell_type": "markdown",
   "metadata": {},
   "source": [
    "# Problem Set 1\n",
    "## Basic problems\n",
    "### Learning from data [TIF285], Chalmers, Fall 2020\n",
    "\n",
    "Last revised: 29-Aug-2020 by Christian Forssén [christian.forssen@chalmers.se]"
   ]
  },
  {
   "cell_type": "markdown",
   "metadata": {},
   "source": [
    "## Problem 1\n",
    "### (1 point)"
   ]
  },
  {
   "cell_type": "markdown",
   "metadata": {},
   "source": [
    "#### Installations\n",
    "Perform the installations and preparations that are described in the Getting Started instructions. At the end you should have:\n",
    "\n",
    "1. downloaded the current version of the course material from the github repository or from the course web page;\n",
    "2. a running python installation that includes the modules listed in the environment.yml file (e.g. numpy, matplotlib, pandas, emcee, scikit-learn, ...);\n",
    "3. been able to open and run the Jupyter Notebooks with the first week excercises.\n",
    "Ask the computer lab supervisors for assistance if needed."
   ]
  },
  {
   "cell_type": "code",
   "execution_count": 4,
   "metadata": {
    "deletable": false,
    "nbgrader": {
     "cell_type": "code",
     "checksum": "9704f3e29d2d73008989e3a259d9a77d",
     "grade": false,
     "grade_id": "import",
     "locked": false,
     "schema_version": 3,
     "solution": true,
     "task": false
    }
   },
   "outputs": [],
   "source": [
    "# Module needed for grading tests\n",
    "import sys\n",
    "\n",
    "# Make sure that you are running python with version >= 3.x\n",
    "#\n",
    "# Import the following python modules with\n",
    "# the specified abreviations:\n",
    "# ---\n",
    "# numpy as np\n",
    "# scipy as scipy\n",
    "# matplotlib.pyplot as plt\n",
    "# pandas as pd\n",
    "# sklearn as skl\n",
    "# emcee as emcee\n",
    "\n",
    "\n",
    "import numpy as np\n",
    "import matplotlib.pyplot as plt\n",
    "import pandas as pd\n",
    "import emcee as emcee\n",
    "import scipy as scipy\n",
    "import sklearn as skl"
   ]
  },
  {
   "cell_type": "code",
   "execution_count": 5,
   "metadata": {
    "deletable": false,
    "editable": false,
    "nbgrader": {
     "cell_type": "code",
     "checksum": "bfee420a6338ea59afc21a227ee18577",
     "grade": true,
     "grade_id": "correct_import",
     "locked": true,
     "points": 1,
     "schema_version": 3,
     "solution": false,
     "task": false
    }
   },
   "outputs": [],
   "source": [
    "assert sys.version_info.major>=3, \\\n",
    "    'You are running Python version'+\\\n",
    "    f'{sys.version_info.major}.{sys.version_info.minor}'\n",
    "\n",
    "modules = [('numpy','np'), ('scipy', 'scipy'), \\\n",
    "           ('matplotlib.pyplot', 'plt'), ('pandas', 'pd'), \\\n",
    "           ('sklearn', 'skl'), ('emcee', 'emcee')]\n",
    "for (_module, _module_abbrev) in modules:\n",
    "    assert _module in sys.modules and _module_abbrev in dir(),\\\n",
    "        f'Module {_module} not loaded properly.'"
   ]
  },
  {
   "cell_type": "markdown",
   "metadata": {},
   "source": [
    "## Problem 2\n",
    "### (3 points)"
   ]
  },
  {
   "cell_type": "markdown",
   "metadata": {},
   "source": [
    "#### Generate data"
   ]
  },
  {
   "cell_type": "code",
   "execution_count": 6,
   "metadata": {
    "deletable": false,
    "editable": false,
    "nbgrader": {
     "cell_type": "code",
     "checksum": "47c6cb65850cb89a64545128c144f8a1",
     "grade": false,
     "grade_id": "cell-a0b708936a108258",
     "locked": true,
     "schema_version": 3,
     "solution": false,
     "task": false
    }
   },
   "outputs": [],
   "source": [
    "# Generate noisy data with a quadratic feature\n",
    "# use the following code:\n",
    "np.random.seed(42)\n",
    "m = 100 # Number of data\n",
    "\n",
    "# X are picked uniform random [0,2]\n",
    "X = 2 * np.random.rand(m, 1)\n",
    "# Linear relation to the predicted value, but with Gaussian noise (mean=0, variance=1)\n",
    "y = 0.5 * X**2 + X + 2 + 0.2 * np.random.randn(m, 1)"
   ]
  },
  {
   "cell_type": "markdown",
   "metadata": {},
   "source": [
    "#### (a) Perform a linear regression using the Normal Equation\n",
    "Create the design matrix for a quadratic polynomial and solve the normal equation using matrix inversion."
   ]
  },
  {
   "cell_type": "code",
   "execution_count": 7,
   "metadata": {
    "deletable": false,
    "nbgrader": {
     "cell_type": "code",
     "checksum": "f281da58c59dffe144d18c64b30cf347",
     "grade": false,
     "grade_id": "design_matrix",
     "locked": false,
     "schema_version": 3,
     "solution": true,
     "task": false
    }
   },
   "outputs": [],
   "source": [
    "def design_matrix(X, degree=2):\n",
    "    \"\"\"\n",
    "    Returns a design matrix.\n",
    "    \n",
    "    Args:\n",
    "        X: Array of shape (m,1) with 'm' independent data.\n",
    "        degree: Integer with the degree of the polynomial. \n",
    "                  Note that a degree-n polynomial has n+1 coefficients.\n",
    "                  \n",
    "    Returns:\n",
    "        X_d: Design matrix of shape (m, order+1).\n",
    "    \"\"\"\n",
    "    # \n",
    "    # YOUR CODE HERE\n",
    "    # \n",
    "    i = 0 \n",
    "    m = len(X)\n",
    "    X_d = np.zeros((m,degree+1))\n",
    "    X_d[:,0]=1\n",
    "    for i in range (m):\n",
    "        X_d[i,1]=X[i]\n",
    "        X_d[i,2]=X[i]**2\n",
    "    return X_d"
   ]
  },
  {
   "cell_type": "code",
   "execution_count": 8,
   "metadata": {
    "deletable": false,
    "editable": false,
    "nbgrader": {
     "cell_type": "code",
     "checksum": "a2bf96c872bc417abf01f99b35e81db2",
     "grade": true,
     "grade_id": "correct_design_matrix",
     "locked": true,
     "points": 1,
     "schema_version": 3,
     "solution": false,
     "task": false
    }
   },
   "outputs": [],
   "source": [
    "assert design_matrix(X).shape == (len(X),3)\n",
    "assert design_matrix(X)[:,0].all() == 1\n",
    "assert design_matrix(X)[0,1] == X[0]\n",
    "assert design_matrix(X)[0,2] == X[0]**2"
   ]
  },
  {
   "cell_type": "code",
   "execution_count": 9,
   "metadata": {
    "deletable": false,
    "nbgrader": {
     "cell_type": "code",
     "checksum": "350da970376594885f058c64685baf17",
     "grade": false,
     "grade_id": "solve_normal_equation",
     "locked": false,
     "schema_version": 3,
     "solution": true,
     "task": false
    }
   },
   "outputs": [],
   "source": [
    "def solve_normal_equation(X_d, y):\n",
    "    \"\"\"\n",
    "    Solve the normal equation.\n",
    "    \n",
    "    Args:\n",
    "        X_d: Design matrix of shape (m,n) with 'm' independent data\n",
    "               and 'n' features.\n",
    "        y: Dependent data of shape (m,1).\n",
    "                  \n",
    "    Returns:\n",
    "        theta_best: Best parameters, array of shape (n,).\n",
    "    \"\"\"\n",
    "    # Code Here\n",
    "    X_dT = np.transpose(X_d)\n",
    "    C = X_dT.dot(X_d)\n",
    "    D = X_dT.dot(y)\n",
    "    theta_best = np.linalg.inv(C).dot(D)\n",
    "    theta_best=theta_best.flatten()\n",
    "    return theta_best\n",
    "    # "
   ]
  },
  {
   "cell_type": "code",
   "execution_count": 10,
   "metadata": {
    "deletable": false,
    "editable": false,
    "nbgrader": {
     "cell_type": "code",
     "checksum": "11d49538f2f7f24f13547de02af90999",
     "grade": true,
     "grade_id": "correct_solve_normal_equation",
     "locked": true,
     "points": 1,
     "schema_version": 3,
     "solution": false,
     "task": false
    }
   },
   "outputs": [],
   "source": [
    "assert (solve_normal_equation(design_matrix(X), y)).shape==(3,),\\\n",
    "    'Return object has wrong shape. Maybe the `flatten` method will be useful?'"
   ]
  },
  {
   "cell_type": "markdown",
   "metadata": {
    "deletable": false,
    "editable": false,
    "nbgrader": {
     "cell_type": "markdown",
     "checksum": "4017aacc8faa2c4e80804e0ab1ce238c",
     "grade": false,
     "grade_id": "normal_equation_comparison",
     "locked": true,
     "points": 1,
     "schema_version": 3,
     "solution": false,
     "task": true
    }
   },
   "source": [
    "#### (b) Comparisons: \n",
    "Compare the coefficients from the true data generator and the normal equation. Plot the data and the model predictions in the same figure."
   ]
  },
  {
   "cell_type": "code",
   "execution_count": 11,
   "metadata": {
    "deletable": false,
    "nbgrader": {
     "cell_type": "code",
     "checksum": "b9b4bc5b4b970a0c2b97e74a3e3adc25",
     "grade": false,
     "grade_id": "cell-fbd1f3bdda876913",
     "locked": false,
     "schema_version": 3,
     "solution": true,
     "task": false
    }
   },
   "outputs": [
    {
     "name": "stdout",
     "output_type": "stream",
     "text": [
      "[2.11228054 0.72777588 0.61621274]\n"
     ]
    },
    {
     "data": {
      "text/plain": [
       "<matplotlib.legend.Legend at 0x1d8c442c3d0>"
      ]
     },
     "execution_count": 11,
     "metadata": {},
     "output_type": "execute_result"
    },
    {
     "data": {
      "image/png": "[encoded data removed]",
      "text/plain": [
       "<Figure size 720x288 with 1 Axes>"
      ]
     },
     "metadata": {
      "needs_background": "light"
     },
     "output_type": "display_data"
    }
   ],
   "source": [
    "# \n",
    "Desmat = design_matrix(X,2)\n",
    "tetabest = solve_normal_equation(Desmat,y)\n",
    "y2 = X**tetabest[2] + X*tetabest[1] + tetabest[0]\n",
    "print(tetabest)\n",
    "\n",
    "X_pred = np.linspace(0,2,10000)\n",
    "X_pred = X_pred.reshape(-1,1)\n",
    "X_d_pred= design_matrix(X_pred,2)\n",
    "\n",
    "y_pred=X_d_pred.dot(tetabest)\n",
    "\n",
    "fig,ax=plt.subplots(figsize=(10,4))\n",
    "ax.plot(X,y,'b.',label='Data')\n",
    "ax.plot(X_pred,y_pred,'g-',label='Regression')\n",
    "ax.set_xlabel(f'$X axis $')\n",
    "ax.set_ylabel(f'$Y axis $')\n",
    "ax.legend()\n",
    "\n",
    "\n",
    "#  The prediction and"
   ]
  },
  {
   "cell_type": "raw",
   "metadata": {},
   "source": [
    "## Problem 3\n",
    "### (3 points)"
   ]
  },
  {
   "cell_type": "markdown",
   "metadata": {
    "deletable": false,
    "editable": false,
    "nbgrader": {
     "cell_type": "markdown",
     "checksum": "5f523cfadaae0a17a63fbf834241101f",
     "grade": false,
     "grade_id": "cell-ad4ec88c445cd30c",
     "locked": true,
     "schema_version": 3,
     "solution": false,
     "task": false
    }
   },
   "source": [
    "There are three files in the directory `DataFiles`:\n",
    "- `dataset1.dat`\n",
    "- `dataset2.dat`\n",
    "- `dataset3.dat`\n",
    "\n",
    "Each data files contains two columns. The first column corresponds to the independent variables (the array X), and the second column corresponds to the dependent ones (the array y)."
   ]
  },
  {
   "cell_type": "code",
   "execution_count": 12,
   "metadata": {
    "deletable": false,
    "nbgrader": {
     "cell_type": "code",
     "checksum": "0d584424c8353dc56c19697cb4b0f7e7",
     "grade": false,
     "grade_id": "cell-a51f823aed196b24",
     "locked": false,
     "schema_version": 3,
     "solution": true,
     "task": false
    }
   },
   "outputs": [],
   "source": [
    "# This cell is used in the solution notebook to generate the data. \n",
    "# It is hidden in the student version.\n",
    "# \n",
    "# Please ignore the comment in this cell that says \"YOUR CODE HERE\". It gets added automatically.\n",
    "# No solution code is needed here.\n",
    "# ---\n",
    "# \n",
    "# YOUR CODE HERE\n",
    "# "
   ]
  },
  {
   "cell_type": "markdown",
   "metadata": {
    "deletable": false,
    "editable": false,
    "nbgrader": {
     "cell_type": "markdown",
     "checksum": "b56bb640833e47b3f518fce9c0008b4a",
     "grade": false,
     "grade_id": "cell-5f84c9fa34a2552c",
     "locked": true,
     "schema_version": 3,
     "solution": false,
     "task": false
    }
   },
   "source": [
    "#### (a) Implement linear regression and cost function\n",
    "- Load a data set and split it into 60% training and 40% validation data using the python function below.\n",
    "- Implement a linear regression function that takes training data as input and returns a best-fit parameter vector for a polynomial model of a specified degree.\n",
    "- Implement a cost function that takes data and model parameters as input and returns the mean-squared error."
   ]
  },
  {
   "cell_type": "code",
   "execution_count": 13,
   "metadata": {
    "deletable": false,
    "editable": false,
    "nbgrader": {
     "cell_type": "code",
     "checksum": "b886fccdb06f514ef4e964cc065d9dc2",
     "grade": false,
     "grade_id": "cell-a53c70d002ece548",
     "locked": true,
     "schema_version": 3,
     "solution": false,
     "task": false
    }
   },
   "outputs": [],
   "source": [
    "# built-in convenience function for splitting data\n",
    "from sklearn.model_selection import train_test_split\n",
    "\n",
    "def load_data(datafile, train_size=0.6):\n",
    "    \"\"\"\n",
    "    Reads data from file and returns training and validation sets.\n",
    "    \n",
    "    Args:\n",
    "        datafile: String with data filename path. The data file \n",
    "            should contain two columns: x, y\n",
    "        train_size: float indicating the fraction of training data\n",
    "            (default: 0.6)\n",
    "            \n",
    "    Returns:\n",
    "        (X_train, X_val, y_train, y_val): Tuple with four arrays \n",
    "            with training and validation data.\n",
    "    \"\"\"\n",
    "    X, y = np.loadtxt(datafile, unpack=True)\n",
    "    m = len(X)\n",
    "    X = X.reshape(m,1); y = y.reshape(m,1)\n",
    "\n",
    "    X_train, X_val, y_train, y_val = \\\n",
    "        train_test_split(X, y, train_size=train_size, random_state=42)\n",
    "    return (X_train, X_val, y_train, y_val)"
   ]
  },
  {
   "cell_type": "code",
   "execution_count": 14,
   "metadata": {
    "deletable": false,
    "nbgrader": {
     "cell_type": "code",
     "checksum": "5efdb5f19bfa224686f5f393f22e0fca",
     "grade": false,
     "grade_id": "cell-aa16bd9e1a61d370",
     "locked": false,
     "schema_version": 3,
     "solution": true,
     "task": false
    }
   },
   "outputs": [],
   "source": [
    "# Implement a linear regression function that takes \n",
    "# training data as input and returns a best-fit parameter \n",
    "# vector for a polynomial model of a specified degree.\n",
    "def linear_regression(X, y, degree):\n",
    "    \"\"\"\n",
    "    Performs linear regression for a polynomial model.\n",
    "    \n",
    "    Args:\n",
    "        X: Array of shape (m,1) with 'm' independent data.\n",
    "        y: Array of shape (m,1) with 'm' dependent data.\n",
    "        degree: Integer with the degree of the polynomial. \n",
    "                  Note that a degree-n polynomial has n+1 coefficients.\n",
    "                  \n",
    "    Returns:\n",
    "        theta_fit: Best fit parameters. Array of shape (degree+1,)\n",
    "    \"\"\"\n",
    "   # i = 0 \n",
    "    #m = len(X)\n",
    "   # X_d = np.zeros((m,4))\n",
    "   # X_d[:,0]=1\n",
    "   # for i in range (m):\n",
    "      #  X_d[i,1]=X[i]\n",
    "      #  X_d[i,2]=X[i]**2\n",
    "       # X_d[i,3]=X[i]*X[i]*X[i]\n",
    "    \n",
    "    \n",
    "    m = len(X)\n",
    "    X_d = np.ones(X.shape)\n",
    "    for i in range(1, degree+1):\n",
    "        X_d = np.concatenate((X_d,X**i),axis=1)\n",
    "    \n",
    "    \n",
    "    X_dT = np.transpose(X_d)\n",
    "    C = X_dT.dot(X_d)\n",
    "    D = X_dT.dot(y)\n",
    "    theta_fit = np.linalg.inv(C).dot(D)\n",
    "    theta_fit=theta_fit.flatten()\n",
    "    print(linear_regression(X_train, y_train, degree=3)[0])\n",
    "    return theta_fit"
   ]
  },
  {
   "cell_type": "code",
   "execution_count": null,
   "metadata": {
    "deletable": false,
    "editable": false,
    "nbgrader": {
     "cell_type": "code",
     "checksum": "d7feb98c990492a5d2ed52ef49f74d0c",
     "grade": true,
     "grade_id": "cell-b26c3f6a60009e39",
     "locked": true,
     "points": 1,
     "schema_version": 3,
     "solution": false,
     "task": false
    }
   },
   "outputs": [],
   "source": [
    "datafile = 'DataFiles/dataset1.dat'\n",
    "(X_train, X_val, y_train, y_val) = load_data(datafile)\n",
    "assert len(linear_regression(X_train, y_train, degree=3))==4\n",
    "a0_degree3fit_residual = \\\n",
    "    linear_regression(X_train, y_train, degree=3)[0] - 0.041779\n",
    "assert abs(a0_degree3fit_residual) < 1e-7\n"
   ]
  },
  {
   "cell_type": "code",
   "execution_count": null,
   "metadata": {
    "deletable": false,
    "nbgrader": {
     "cell_type": "code",
     "checksum": "b142de888119d1560c1d945f818bf93e",
     "grade": false,
     "grade_id": "MSE",
     "locked": false,
     "schema_version": 3,
     "solution": true,
     "task": false
    }
   },
   "outputs": [],
   "source": [
    "# Implement a cost function that takes data and polynomial model \n",
    "# parameters as input and returns the mean-squared error.\n",
    "def mean_squared_error(X, y, theta):\n",
    "    \"\"\"\n",
    "    Compute the mean-squared error for data and a polynomial fit.\n",
    "    \n",
    "    Args:\n",
    "        X: Array of shape (m,1) with 'm' independent data.\n",
    "        y: Array of shape (m,1) with 'm' dependent data.\n",
    "        theta: Parameter array [shape (degree+1,)]. \n",
    "            The ordering corresponds to the constant term first.\n",
    "            \n",
    "    Return:\n",
    "        MSE: Mean-squared error defined as\n",
    "            MSE = (1/m) * sum_i (y[i] - y_model[i])**2,\n",
    "            where y_model[i] = \\sum_m theta[m]*X[i]**m \n",
    "    \"\"\"\n",
    "    # \n",
    "    degree=len(theta)-1\n",
    "    m=len(X)\n",
    "    B=design_matrix(X,degree=degree)\n",
    "    y_model=np.dot(B,theta)\n",
    "    y_model= np.reshape(y_model,(-1,1))\n",
    "    MSE = (1/m)*np.sum((y-y_model)**2)\n",
    "    print(degree,MSE)\n",
    "    \n",
    "    return MSE\n",
    "       \n",
    "    \n",
    "    # "
   ]
  },
  {
   "cell_type": "code",
   "execution_count": null,
   "metadata": {
    "deletable": false,
    "nbgrader": {
     "cell_type": "code",
     "checksum": "4a6be1ce3357a1ab1bc035c4f7d1079b",
     "grade": false,
     "grade_id": "polynomial_regression",
     "locked": false,
     "schema_version": 3,
     "solution": true,
     "task": false
    }
   },
   "outputs": [],
   "source": [
    "# Implement a function that takes data and polynomial model degree\n",
    "# and returns the mean-squared error for both training and validation data\n",
    "# as well as the best fit parameters.\n",
    "def polynomial_regression( data, degree):\n",
    "    \"\"\"\n",
    "    Compute the mean-squared error for data and a polynomial fit.\n",
    "    \n",
    "    Args:\n",
    "        data = (X_train, X_val, y_train, y_val): Tuple with four arrays \n",
    "            with training and validation data.\n",
    "        degree: Integer with the degree of the polynomial. \n",
    "                  Note that a degree-n polynomial has n+1 coefficients.\n",
    "            \n",
    "    Return:\n",
    "        MSE_train: Mean-squared error of training data\n",
    "        MSE_val: Mean-squared error of validation data\n",
    "        theta_fit: Best fit parameters [array of shape (degree+1,)]\n",
    "    \"\"\"\n",
    "    # \n",
    "   \n",
    "    theta_fit = linear_regression(X_train,y_train)\n",
    "    MSE_train = mean_squared_error(X_train,y_train,theta_fit)\n",
    "    MSE_val = mean_squared_error(X_val,y_val,theta_fit)\n",
    "    \n",
    "    #print (MSE_train)\n",
    "    return MSE_train,MSE_val,theta_fit  \n",
    "    \n",
    "    # "
   ]
  },
  {
   "cell_type": "code",
   "execution_count": null,
   "metadata": {
    "deletable": false,
    "editable": false,
    "nbgrader": {
     "cell_type": "code",
     "checksum": "81b14eefd5bc22e72933f3a5bc4c8ad3",
     "grade": true,
     "grade_id": "correct_MSE",
     "locked": true,
     "points": 1,
     "schema_version": 3,
     "solution": false,
     "task": false
    }
   },
   "outputs": [],
   "source": [
    "X_train=np.array([[1],[2],[3]])\n",
    "y_train=np.array([[2],[5],[10]])\n",
    "assert mean_squared_error(X_train, y_train, np.array([1,0,1]))==0\n",
    "assert mean_squared_error(X_train, y_train, np.array([0,0,0]))==43\n",
    "\n",
    "X_val = np.array([[4],[5]])\n",
    "y_val = np.array([[17],[27]])\n",
    "MSE_train, MSE_val, theta_fit = \\\n",
    "    polynomial_regression( (X_train, X_val, y_train, y_val), 2)\n",
    "assert MSE_val-0.5 < 1e-7\n"
   ]
  },
  {
   "cell_type": "markdown",
   "metadata": {
    "deletable": false,
    "editable": false,
    "nbgrader": {
     "cell_type": "markdown",
     "checksum": "678e458083b6a9b788bb5b8a6eb4dd1e",
     "grade": false,
     "grade_id": "cell-0a736787d7c078d6",
     "locked": true,
     "schema_version": 3,
     "solution": false,
     "task": false
    }
   },
   "source": [
    "#### (b) Perform linear regression with different polynomial models\n",
    "- For each data set you should then perform linear regression using polynomial models of order 1,2,3,4,5, and 20.\n",
    "- Finally, print the fit coefficients for each polynomial model that was considered and print also the mean-squared error (MSE) for both the training and the validation sets."
   ]
  },
  {
   "cell_type": "code",
   "execution_count": null,
   "metadata": {
    "deletable": false,
    "nbgrader": {
     "cell_type": "code",
     "checksum": "898c9652ff10c9817d46d55d5be266d9",
     "grade": false,
     "grade_id": "cell-49fbcaec1138af05",
     "locked": false,
     "schema_version": 3,
     "solution": true,
     "task": false
    }
   },
   "outputs": [],
   "source": [
    "\n",
    "a=[1,2,3,4,5,20]\n",
    "theta_fitB=0\n",
    "MSE_trainB,MSE_valB,theta_fiB=0,0,0\n",
    "print(a)\n",
    "dataB=load_data(datafile, train_size=0.6)\n",
    "    \n",
    "for i in range (len(a)):\n",
    "    MSE_trainB,MSE_valB,theta_fiB= polynomial_regression(dataB, a[i])\n",
    "    \n",
    "\n"
   ]
  },
  {
   "cell_type": "markdown",
   "metadata": {
    "deletable": false,
    "editable": false,
    "nbgrader": {
     "cell_type": "markdown",
     "checksum": "9b75e37361ae144d777bbc267cde0e32",
     "grade": false,
     "grade_id": "cell-fcfe8b4f88e942d0",
     "locked": true,
     "schema_version": 3,
     "solution": false,
     "task": false
    }
   },
   "source": [
    "Use the text cell below to answer the following two questions:\n",
    "- Which degree polynomial do you think was used when generating the data?\n",
    "- Which data set do you think has the most noise?\n",
    "\n",
    "Discuss your reasoning."
   ]
  },
  {
   "cell_type": "markdown",
   "metadata": {
    "deletable": false,
    "nbgrader": {
     "cell_type": "markdown",
     "checksum": "fb4cda3ecfa02dd28b9121059f9511c5",
     "grade": true,
     "grade_id": "cell-93dac302fd63f96a",
     "locked": false,
     "points": 1,
     "schema_version": 3,
     "solution": true,
     "task": false
    }
   },
   "source": [
    "* * *\n",
    "**PLEASE WRITE YOUR ANSWER HERE** \n",
    "* * *"
   ]
  },
  {
   "cell_type": "markdown",
   "metadata": {},
   "source": [
    "## Problem 4\n",
    "### (3 points)"
   ]
  },
  {
   "cell_type": "markdown",
   "metadata": {},
   "source": [
    "### Standard medical example by applying Bayesian rules of probability"
   ]
  },
  {
   "cell_type": "markdown",
   "metadata": {
    "deletable": false,
    "editable": false,
    "nbgrader": {
     "cell_type": "markdown",
     "checksum": "33ae39785963e7ea72d0eb70d2103cd6",
     "grade": false,
     "grade_id": "cell-a717eb4d32ba845e",
     "locked": true,
     "schema_version": 3,
     "solution": false,
     "task": false
    }
   },
   "source": [
    "Suppose there is an unknown disease (call it UD) and there is a test for it.\n",
    "\n",
    "a. The false positive rate is 2.3%. (\"False positive\" means the test says you have UD, but you don't.) <br>\n",
    "b. The false negative rate is 1.4%. (\"False negative\" means you have UD, but the test says you don't.)\n",
    "\n",
    "Assume that 1 in 10,000 people have the disease. You are given the test and get a positive result.  Your ultimate goal is to find the probability that you actually have the disease. \n",
    "$% Some LaTeX definitions we'll use.\n",
    "\\newcommand{\\pr}{\\textrm{p}}\n",
    "$"
   ]
  },
  {
   "cell_type": "markdown",
   "metadata": {
    "deletable": false,
    "editable": false,
    "nbgrader": {
     "cell_type": "markdown",
     "checksum": "7e3d6d1a8635628beb75d133afccc515",
     "grade": false,
     "grade_id": "cell-51752b16483bb655",
     "locked": true,
     "schema_version": 3,
     "solution": false,
     "task": false
    }
   },
   "source": [
    "We'll do it using the Bayesian rules.\n",
    "\n",
    "We'll use the notation:\n",
    "\n",
    "* $H$ = \"you have UD\"\n",
    "* $\\overline H$ = \"you do not have UD\"  \n",
    "* $D$ = \"you test positive for UD\"\n",
    "* $\\overline D$ = \"you test negative for UD\"  "
   ]
  },
  {
   "cell_type": "markdown",
   "metadata": {
    "deletable": false,
    "editable": false,
    "nbgrader": {
     "cell_type": "markdown",
     "checksum": "761b695a589fdd6055969477da26236a",
     "grade": false,
     "grade_id": "cell-61c95058fe103533",
     "locked": true,
     "schema_version": 3,
     "solution": false,
     "task": false
    }
   },
   "source": [
    "Use the text cell below to answer the following questions:\n",
    "<br>\n",
    "Notation: $H$ = \"you have UD\", &nbsp;&nbsp; $\\overline H$ = \"you do not have UD\",  &nbsp;&nbsp; $D$ = \"you test positive for UD\", &nbsp;&nbsp;  $\\overline D$ = \"you test negative for UD\" \n",
    "\n",
    "a. *Before doing a calculation (or thinking too hard :), does your intuition tell you the probability you have the disease is high or low?*\n",
    "<br>\n",
    "\n",
    "b. *In the $p(\\cdot | \\cdot)$ notation, what is your ultimate goal?*\n",
    "<br>\n",
    "\n",
    "c. *Express the false positive rate in $p(\\cdot | \\cdot)$ notation.* \\[Ask yourself first: what is to the left of the bar?\\]\n",
    "<br>\n",
    "\n",
    "d. *Express the false negative rate in $p(\\cdot | \\cdot)$ notation. By applying the sum rule, what do you also know? (If you get stuck answering the question, do the next part first.)* \n",
    "<br>\n",
    "\n",
    "e. *Should $p(D|H) + p(D|\\overline H) = 1$?\n",
    "    Should $p(D|H) + p(\\overline D |H) = 1$?\n",
    "    (Hint: does the sum rule apply on the left or right of the $|$?)*\n",
    "<br>\n",
    "\n",
    "f. *Apply Bayes' theorem to your result for your ultimate goal (don't put in numbers yet).\n",
    "   What other probabilities do we need?*\n",
    "<br>"
   ]
  },
  {
   "cell_type": "markdown",
   "metadata": {
    "deletable": false,
    "nbgrader": {
     "cell_type": "markdown",
     "checksum": "fb1da5dddbf1953ecc29a49363a2c0f1",
     "grade": true,
     "grade_id": "cell-0221c5c91a887b41",
     "locked": false,
     "points": 1,
     "schema_version": 3,
     "solution": true,
     "task": false
    }
   },
   "source": [
    "* * *\n",
    "**PLEASE WRITE YOUR ANSWER HERE** \n",
    "* * *"
   ]
  },
  {
   "cell_type": "code",
   "execution_count": null,
   "metadata": {
    "deletable": false,
    "nbgrader": {
     "cell_type": "code",
     "checksum": "2c26443747ad7abc8240520552e29550",
     "grade": false,
     "grade_id": "medical_example",
     "locked": false,
     "schema_version": 3,
     "solution": true,
     "task": false
    }
   },
   "outputs": [],
   "source": [
    "# \n",
    "# a- By intution it is possible to say that the probability to have the disease is very low\n",
    "# b- Calculate P(H|D)\n",
    "# c- The false positive rate happens when the test says you that you have the disease but you in fact you don't\n",
    "#With the sum rule it is possible to say that p(D/Hbar)+ p(Dbar/Hbar)=1 \n",
    "# d- The false positive rate happens when the test says you that don't you have the disease but you in fact you have it\n",
    "#Again with the sum rule p(H|Dbar)+ p(Hbar/Dbar)=1\n",
    "# e-𝑝(𝐷|𝐻)+𝑝(𝐷bar|𝐻)=1 is effectively equal to 1. And the sum rule applines on the left of |\n",
    "#f- Rest of the question upwards. The other probability that we needed was P(D) fo get our ultimate goal with P(D)=P(D|H)*P(H)+P(D|Hbar)*P(Hbar)\n",
    "# Please fill the probabilities as values for the \n",
    "\n",
    "\n",
    "# corresponding keys in the following dictionary.\n",
    "medical_example_probabilities = {}\n",
    "medical_example_probabilities['p(D|Hbar)'] = 0.023\n",
    "medical_example_probabilities['p(Dbar|H)'] = 0.014\n",
    "medical_example_probabilities['p(D|H)'] = 0.986\n",
    "medical_example_probabilities['p(H,Hbar|D)'] = 1\n",
    "medical_example_probabilities['p(Hbar)'] = 0.999\n",
    "medical_example_probabilities['p(D)'] = 0.023504\n",
    "medical_example_probabilities['p(H|D)'] = 0.004273\n",
    "\n"
   ]
  },
  {
   "cell_type": "code",
   "execution_count": null,
   "metadata": {
    "deletable": false,
    "editable": false,
    "nbgrader": {
     "cell_type": "code",
     "checksum": "5319de57d7e765d7efebff3ab392c769",
     "grade": true,
     "grade_id": "correct_1_medical_example",
     "locked": true,
     "points": 1,
     "schema_version": 3,
     "solution": false,
     "task": false
    }
   },
   "outputs": [],
   "source": [
    "for key in ['p(D|Hbar)', 'p(Dbar|H)', 'p(D|H)']:\n",
    "    assert medical_example_probabilities[key] > 0.\n",
    "    assert medical_example_probabilities[key] < 1.\n",
    "    \n",
    "assert medical_example_probabilities['p(H,Hbar|D)'] <= 1.0\n"
   ]
  },
  {
   "cell_type": "code",
   "execution_count": null,
   "metadata": {
    "deletable": false,
    "editable": false,
    "nbgrader": {
     "cell_type": "code",
     "checksum": "2f767d6ab42f1573d59d64de9f207cec",
     "grade": true,
     "grade_id": "correct_2_medical_example",
     "locked": true,
     "points": 1,
     "schema_version": 3,
     "solution": false,
     "task": false
    }
   },
   "outputs": [],
   "source": [
    "for key in ['p(Hbar)', 'p(D)', 'p(H|D)']:\n",
    "    assert medical_example_probabilities[key] > 0.\n",
    "    assert medical_example_probabilities[key] < 1."
   ]
  },
  {
   "cell_type": "code",
   "execution_count": null,
   "metadata": {},
   "outputs": [],
   "source": []
  }
 ],
 "metadata": {
  "kernelspec": {
   "display_name": "Python 3",
   "language": "python",
   "name": "python3"
  },
  "language_info": {
   "codemirror_mode": {
    "name": "ipython",
    "version": 3
   },
   "file_extension": ".py",
   "mimetype": "text/x-python",
   "name": "python",
   "nbconvert_exporter": "python",
   "pygments_lexer": "ipython3",
   "version": "3.8.3"
  },
  "nav_menu": {},
  "toc": {
   "navigate_menu": true,
   "number_sections": true,
   "sideBar": true,
   "threshold": 6,
   "toc_cell": false,
   "toc_section_display": "block",
   "toc_window_display": false
  }
 },
 "nbformat": 4,
 "nbformat_minor": 1
}
